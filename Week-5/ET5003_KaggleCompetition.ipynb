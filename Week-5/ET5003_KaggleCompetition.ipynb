{
  "nbformat": 4,
  "nbformat_minor": 0,
  "metadata": {
    "colab": {
      "name": "ET5003_KaggleCompetition.ipynb",
      "provenance": [],
      "collapsed_sections": [],
      "toc_visible": true,
      "include_colab_link": true
    },
    "kernelspec": {
      "name": "python3",
      "display_name": "Python 3"
    },
    "language_info": {
      "name": "python"
    }
  },
  "cells": [
    {
      "cell_type": "markdown",
      "metadata": {
        "id": "view-in-github",
        "colab_type": "text"
      },
      "source": [
        "<a href=\"https://colab.research.google.com/github/olgaminguett/ET5003_SEM1_2021-2/blob/main/Week-5/ET5003_KaggleCompetition.ipynb\" target=\"_parent\"><img src=\"https://colab.research.google.com/assets/colab-badge.svg\" alt=\"Open In Colab\"/></a>"
      ]
    },
    {
      "cell_type": "markdown",
      "metadata": {
        "id": "930vlW5BrOtq"
      },
      "source": [
        "<div>\n",
        "<img src=\"https://drive.google.com/uc?export=view&id=1vK33e_EqaHgBHcbRV_m38hx6IkG0blK_\" width=\"350\"/>\n",
        "</div> \n",
        "\n",
        "#**Artificial Intelligence - MSc**\n",
        "##ET5003 - MACHINE LEARNING APPLICATIONS \n",
        "\n",
        "###Instructor: Enrique Naredo\n",
        "###ET5003_KaggleCompetition"
      ]
    },
    {
      "cell_type": "code",
      "metadata": {
        "id": "LqXD_IwUQuBF",
        "cellView": "form"
      },
      "source": [
        "#@title Current Date\n",
        "Today = \"2021-10-06\" #@param {type:\"date\"}"
      ],
      "execution_count": 1,
      "outputs": []
    },
    {
      "cell_type": "code",
      "metadata": {
        "id": "uzDKau31OjVO",
        "cellView": "form"
      },
      "source": [
        "#@markdown ---\n",
        "#@markdown ### Enter your details here:\n",
        "Team_Number = \"Group 1\" #@param {type:\"string\"}\n",
        "StudentID_Name = \"20179766 - Olga Minguett\" #@param {type:\"string\"}\n",
        "StudentID_Name = \"\" #@param {type:\"string\"}\n",
        "StudentID_Name = \"\" #@param {type:\"string\"}\n",
        "StudentID_Name = \"\" #@param {type:\"string\"}\n",
        "StudentID_Name = \"\" #@param {type:\"string\"}\n",
        "#@markdown ---"
      ],
      "execution_count": 2,
      "outputs": []
    },
    {
      "cell_type": "code",
      "metadata": {
        "id": "r39xGZckTpKx",
        "cellView": "form"
      },
      "source": [
        "#@title Notebook information\n",
        "Notebook_type = 'Assignment' #@param [\"Example\", \"Lab\", \"Practice\", \"Etivity\", \"Assignment\", \"Exam\"]\n",
        "Version = 'Draft' #@param [\"Draft\", \"Final\"] {type:\"raw\"}\n",
        "Submission = False #@param {type:\"boolean\"}"
      ],
      "execution_count": 3,
      "outputs": []
    },
    {
      "cell_type": "markdown",
      "metadata": {
        "id": "_A0Z6S-r6DpA"
      },
      "source": [
        "# INTRODUCTION"
      ]
    },
    {
      "cell_type": "markdown",
      "metadata": {
        "id": "d2vlkUAJ7Pz7"
      },
      "source": [
        "Your introduction here."
      ]
    },
    {
      "cell_type": "markdown",
      "metadata": {
        "id": "aajlS0WCJ8pm"
      },
      "source": [
        "***The goal is to use advanced Machine Learning methods to predict House price.***"
      ]
    },
    {
      "cell_type": "markdown",
      "metadata": {
        "id": "Wg7VCbX77eAA"
      },
      "source": [
        "## Imports"
      ]
    },
    {
      "cell_type": "code",
      "metadata": {
        "id": "fYrgjgOAd9Lj",
        "colab": {
          "base_uri": "https://localhost:8080/"
        },
        "outputId": "5d1405e6-097f-4995-849a-b43e48b96439"
      },
      "source": [
        "!pip install GPy"
      ],
      "execution_count": 4,
      "outputs": [
        {
          "output_type": "stream",
          "name": "stdout",
          "text": [
            "Requirement already satisfied: GPy in /usr/local/lib/python3.7/dist-packages (1.10.0)\n",
            "Requirement already satisfied: six in /usr/local/lib/python3.7/dist-packages (from GPy) (1.15.0)\n",
            "Requirement already satisfied: scipy>=1.3.0 in /usr/local/lib/python3.7/dist-packages (from GPy) (1.4.1)\n",
            "Requirement already satisfied: cython>=0.29 in /usr/local/lib/python3.7/dist-packages (from GPy) (0.29.24)\n",
            "Requirement already satisfied: numpy>=1.7 in /usr/local/lib/python3.7/dist-packages (from GPy) (1.19.5)\n",
            "Requirement already satisfied: paramz>=0.9.0 in /usr/local/lib/python3.7/dist-packages (from GPy) (0.9.5)\n",
            "Requirement already satisfied: decorator>=4.0.10 in /usr/local/lib/python3.7/dist-packages (from paramz>=0.9.0->GPy) (4.4.2)\n"
          ]
        }
      ]
    },
    {
      "cell_type": "code",
      "metadata": {
        "id": "k96-GLUGE2ux"
      },
      "source": [
        "# Regular expression operations\n",
        "#https://docs.python.org/3/library/re.html\n",
        "import re \n",
        "\n",
        "# standard libraries\n",
        "import pandas as pd\n",
        "import numpy as np\n",
        "import seaborn as sns\n",
        "import matplotlib.pyplot as plt\n",
        "%matplotlib inline\n",
        "\n",
        "# Scikit-learn is an open source machine learning library \n",
        "# that supports supervised and unsupervised learning\n",
        "# https://scikit-learn.org/stable/\n",
        "# to generate data from an existing dataset\n",
        "from sklearn.neighbors import KernelDensity\n",
        "from sklearn.model_selection import GridSearchCV\n",
        "from sklearn.preprocessing import StandardScaler\n",
        "from sklearn.model_selection import train_test_split\n",
        "from sklearn.feature_extraction.text import CountVectorizer\n",
        "from sklearn.naive_bayes import MultinomialNB\n",
        "from sklearn.metrics import accuracy_score, confusion_matrix\n",
        "\n",
        "# Natural Language Toolkit\n",
        "# https://www.nltk.org/install.html\n",
        "import nltk\n",
        "\n",
        "# Stemming maps different forms of the same word to a common “stem” \n",
        "# https://pypi.org/project/snowballstemmer/\n",
        "from nltk.stem import SnowballStemmer\n",
        "\n",
        "# https://www.nltk.org/book/ch02.html\n",
        "from nltk.corpus import stopwords\n",
        "\n",
        "import GPy as GPy\n",
        "import pylab as pb\n",
        "import pymc3 as pm\n",
        "import arviz as az\n",
        "from google.colab import files\n",
        "\n",
        "# Suppressing Warnings:\n",
        "import warnings\n",
        "warnings.filterwarnings(\"ignore\")"
      ],
      "execution_count": 5,
      "outputs": []
    },
    {
      "cell_type": "code",
      "metadata": {
        "id": "6MUJdlxSPSMM"
      },
      "source": [
        "# Define the seed so that results can be reproduced\n",
        "seed = 11\n",
        "rand_state = 11"
      ],
      "execution_count": 6,
      "outputs": []
    },
    {
      "cell_type": "markdown",
      "metadata": {
        "id": "WL91ShB19RPw"
      },
      "source": [
        "# DATASET"
      ]
    },
    {
      "cell_type": "markdown",
      "metadata": {
        "id": "ESg5DGKWJSOf"
      },
      "source": [
        "Extract from this [paper](https://ieeexplore.ieee.org/document/9300074):\n",
        "\n",
        "* House prices are a significant impression of the economy, and its value ranges are of great concerns for the clients and property dealers. \n",
        "\n",
        "* Housing price escalate every year that eventually reinforced the need of strategy or technique that could predict house prices in future. \n",
        "\n",
        "* There are certain factors that influence house prices including physical conditions, locations, number of bedrooms and others.\n"
      ]
    },
    {
      "cell_type": "markdown",
      "metadata": {
        "id": "a8Y2pf50FlYL"
      },
      "source": [
        "1. [Download the dataset](https://github.com/UL-CS6134/CS6134_SEM1_2021-2/tree/main/Week-5). \n",
        "\n",
        "2. Upload the dataset into your folder.\n",
        "\n"
      ]
    },
    {
      "cell_type": "markdown",
      "metadata": {
        "id": "FMkdCQEmKTof"
      },
      "source": [
        "The challenge is to predict the final price of each house."
      ]
    },
    {
      "cell_type": "markdown",
      "metadata": {
        "id": "2PMoPLlUJ1Ly"
      },
      "source": [
        "## Load Data"
      ]
    },
    {
      "cell_type": "code",
      "metadata": {
        "colab": {
          "base_uri": "https://localhost:8080/"
        },
        "id": "SZh8VqSFkWHH",
        "outputId": "d295eaba-204d-4a7f-9395-0a111d4c4f60"
      },
      "source": [
        "# Mount Google Drive\n",
        "from google.colab import drive\n",
        "drive.mount('/content/drive')"
      ],
      "execution_count": 7,
      "outputs": [
        {
          "output_type": "stream",
          "name": "stdout",
          "text": [
            "Drive already mounted at /content/drive; to attempt to forcibly remount, call drive.mount(\"/content/drive\", force_remount=True).\n"
          ]
        }
      ]
    },
    {
      "cell_type": "code",
      "metadata": {
        "id": "9Fh56amGkWEg"
      },
      "source": [
        "# Path, copy the path from your Drive\n",
        "syntPath = '/content/drive/My Drive/Colab Notebooks/house-data/'"
      ],
      "execution_count": 8,
      "outputs": []
    },
    {
      "cell_type": "code",
      "metadata": {
        "id": "AeAfhd1PkWCH"
      },
      "source": [
        "# House Data\n",
        "house_train = syntPath + 'HousePrice_Train.csv'\n",
        "house_test = syntPath + 'HousePrice_Test.csv'\n",
        "sample_submission = syntPath + 'sample_submission.csv'"
      ],
      "execution_count": 9,
      "outputs": []
    },
    {
      "cell_type": "code",
      "metadata": {
        "id": "ibLG_dH9kV_i"
      },
      "source": [
        "# Read datasets\n",
        "house_train = pd.read_csv(house_train).drop(columns=\"ID\")\n",
        "house_test = pd.read_csv(house_test).drop(columns=\"ID\")\n",
        "sample_submission = pd.read_csv(sample_submission)"
      ],
      "execution_count": 10,
      "outputs": []
    },
    {
      "cell_type": "markdown",
      "metadata": {
        "id": "FMQ_5ZPXp08N"
      },
      "source": [
        "## Explore Data"
      ]
    },
    {
      "cell_type": "code",
      "metadata": {
        "colab": {
          "base_uri": "https://localhost:8080/"
        },
        "id": "rWUsRL_OlnEN",
        "outputId": "29378868-8583-4af4-9e40-0e03e1bcf5be"
      },
      "source": [
        "print(\"Training data shape\", house_train.shape)\n",
        "print(\"Test data shape\", house_test.shape)"
      ],
      "execution_count": 11,
      "outputs": [
        {
          "output_type": "stream",
          "name": "stdout",
          "text": [
            "Training data shape (1638, 13)\n",
            "Test data shape (702, 12)\n"
          ]
        }
      ]
    },
    {
      "cell_type": "code",
      "metadata": {
        "colab": {
          "base_uri": "https://localhost:8080/",
          "height": 298
        },
        "id": "Hp8neCGPp1U0",
        "outputId": "0da24f79-0ce3-4617-92d5-2835e5e2ae76"
      },
      "source": [
        "# Print sample rows of the dataframe\n",
        "house_train.sample(3)"
      ],
      "execution_count": 12,
      "outputs": [
        {
          "output_type": "execute_result",
          "data": {
            "text/html": [
              "<div>\n",
              "<style scoped>\n",
              "    .dataframe tbody tr th:only-of-type {\n",
              "        vertical-align: middle;\n",
              "    }\n",
              "\n",
              "    .dataframe tbody tr th {\n",
              "        vertical-align: top;\n",
              "    }\n",
              "\n",
              "    .dataframe thead th {\n",
              "        text-align: right;\n",
              "    }\n",
              "</style>\n",
              "<table border=\"1\" class=\"dataframe\">\n",
              "  <thead>\n",
              "    <tr style=\"text-align: right;\">\n",
              "      <th></th>\n",
              "      <th>Index</th>\n",
              "      <th>Location</th>\n",
              "      <th>Num_Bathrooms</th>\n",
              "      <th>Num_Beds</th>\n",
              "      <th>BER_class</th>\n",
              "      <th>Description</th>\n",
              "      <th>Services</th>\n",
              "      <th>Features</th>\n",
              "      <th>Latitude</th>\n",
              "      <th>Longitude</th>\n",
              "      <th>Type</th>\n",
              "      <th>Surface</th>\n",
              "      <th>Price</th>\n",
              "    </tr>\n",
              "  </thead>\n",
              "  <tbody>\n",
              "    <tr>\n",
              "      <th>840</th>\n",
              "      <td>841</td>\n",
              "      <td>Raheny</td>\n",
              "      <td>1</td>\n",
              "      <td>3</td>\n",
              "      <td>E2</td>\n",
              "      <td>Flynn and Associates are delighted to present ...</td>\n",
              "      <td>NaN</td>\n",
              "      <td>PVC Double Glazed Windows &amp;amp; Doors\\nGas Cen...</td>\n",
              "      <td>53.378228</td>\n",
              "      <td>-6.184269</td>\n",
              "      <td>semi-detached</td>\n",
              "      <td>96.0</td>\n",
              "      <td>495000</td>\n",
              "    </tr>\n",
              "    <tr>\n",
              "      <th>533</th>\n",
              "      <td>534</td>\n",
              "      <td>Ranelagh</td>\n",
              "      <td>1</td>\n",
              "      <td>3</td>\n",
              "      <td>NaN</td>\n",
              "      <td>Number 40 Dartmouth Square is a superbly posit...</td>\n",
              "      <td>NaN</td>\n",
              "      <td>Alarm\\nGFCH\\n</td>\n",
              "      <td>53.331373</td>\n",
              "      <td>-6.254294</td>\n",
              "      <td>terraced</td>\n",
              "      <td>159.0</td>\n",
              "      <td>1195000</td>\n",
              "    </tr>\n",
              "    <tr>\n",
              "      <th>22</th>\n",
              "      <td>23</td>\n",
              "      <td>Loughlinstown</td>\n",
              "      <td>1</td>\n",
              "      <td>4</td>\n",
              "      <td>E2</td>\n",
              "      <td>DNG are proud to present this spacious, semi-d...</td>\n",
              "      <td>Parking,Oil Fired Central Heating</td>\n",
              "      <td>Excellent location\\nMature residential setting...</td>\n",
              "      <td>53.250496</td>\n",
              "      <td>-6.134965</td>\n",
              "      <td>semi-detached</td>\n",
              "      <td>115.0</td>\n",
              "      <td>475000</td>\n",
              "    </tr>\n",
              "  </tbody>\n",
              "</table>\n",
              "</div>"
            ],
            "text/plain": [
              "     Index       Location  Num_Bathrooms  ...           Type Surface    Price\n",
              "840    841         Raheny              1  ...  semi-detached    96.0   495000\n",
              "533    534       Ranelagh              1  ...       terraced   159.0  1195000\n",
              "22      23  Loughlinstown              1  ...  semi-detached   115.0   475000\n",
              "\n",
              "[3 rows x 13 columns]"
            ]
          },
          "metadata": {},
          "execution_count": 12
        }
      ]
    },
    {
      "cell_type": "code",
      "metadata": {
        "colab": {
          "base_uri": "https://localhost:8080/",
          "height": 264
        },
        "id": "N6bBlvcIqfgE",
        "outputId": "a86dca9d-f98b-4021-eae5-500784e2fa72"
      },
      "source": [
        "# Print sample rows of the dataframe\n",
        "house_test.sample(3)"
      ],
      "execution_count": 13,
      "outputs": [
        {
          "output_type": "execute_result",
          "data": {
            "text/html": [
              "<div>\n",
              "<style scoped>\n",
              "    .dataframe tbody tr th:only-of-type {\n",
              "        vertical-align: middle;\n",
              "    }\n",
              "\n",
              "    .dataframe tbody tr th {\n",
              "        vertical-align: top;\n",
              "    }\n",
              "\n",
              "    .dataframe thead th {\n",
              "        text-align: right;\n",
              "    }\n",
              "</style>\n",
              "<table border=\"1\" class=\"dataframe\">\n",
              "  <thead>\n",
              "    <tr style=\"text-align: right;\">\n",
              "      <th></th>\n",
              "      <th>Index</th>\n",
              "      <th>Location</th>\n",
              "      <th>Num_Bathrooms</th>\n",
              "      <th>Num_Beds</th>\n",
              "      <th>BER_class</th>\n",
              "      <th>Description</th>\n",
              "      <th>Services</th>\n",
              "      <th>Features</th>\n",
              "      <th>Latitude</th>\n",
              "      <th>Longitude</th>\n",
              "      <th>Type</th>\n",
              "      <th>Surface</th>\n",
              "    </tr>\n",
              "  </thead>\n",
              "  <tbody>\n",
              "    <tr>\n",
              "      <th>478</th>\n",
              "      <td>2117</td>\n",
              "      <td>Monkstown</td>\n",
              "      <td>1</td>\n",
              "      <td>1</td>\n",
              "      <td>E2</td>\n",
              "      <td>Colliers International present this most attra...</td>\n",
              "      <td>Parking,Wired for Cable Television</td>\n",
              "      <td>None</td>\n",
              "      <td>53.294314</td>\n",
              "      <td>-6.160992</td>\n",
              "      <td>apartment</td>\n",
              "      <td>45.0</td>\n",
              "    </tr>\n",
              "    <tr>\n",
              "      <th>341</th>\n",
              "      <td>1980</td>\n",
              "      <td>Rathmichael</td>\n",
              "      <td>5</td>\n",
              "      <td>6</td>\n",
              "      <td>G</td>\n",
              "      <td>Springmount, positioned just seven minutes fro...</td>\n",
              "      <td>NaN</td>\n",
              "      <td>SPECIAL FEATURES\\nBeautiful holding totaling c...</td>\n",
              "      <td>53.221594</td>\n",
              "      <td>-6.134844</td>\n",
              "      <td>detached</td>\n",
              "      <td>433.0</td>\n",
              "    </tr>\n",
              "    <tr>\n",
              "      <th>433</th>\n",
              "      <td>2072</td>\n",
              "      <td>Ranelagh</td>\n",
              "      <td>1</td>\n",
              "      <td>3</td>\n",
              "      <td>NaN</td>\n",
              "      <td>This spacious and well-proportioned terraced h...</td>\n",
              "      <td>NaN</td>\n",
              "      <td>Full planning permission for refurbishment and...</td>\n",
              "      <td>53.329964</td>\n",
              "      <td>-6.254395</td>\n",
              "      <td>terraced</td>\n",
              "      <td>200.0</td>\n",
              "    </tr>\n",
              "  </tbody>\n",
              "</table>\n",
              "</div>"
            ],
            "text/plain": [
              "     Index     Location  Num_Bathrooms  ...  Longitude       Type Surface\n",
              "478   2117    Monkstown              1  ...  -6.160992  apartment    45.0\n",
              "341   1980  Rathmichael              5  ...  -6.134844   detached   433.0\n",
              "433   2072     Ranelagh              1  ...  -6.254395   terraced   200.0\n",
              "\n",
              "[3 rows x 12 columns]"
            ]
          },
          "metadata": {},
          "execution_count": 13
        }
      ]
    },
    {
      "cell_type": "code",
      "metadata": {
        "colab": {
          "base_uri": "https://localhost:8080/"
        },
        "id": "dmfNxwX_qfd8",
        "outputId": "7431a809-767c-4aaa-dc1c-c295180079ec"
      },
      "source": [
        "#Returns column name\n",
        "print('Train Data Columns',house_train.columns)\n",
        "print(len(house_train.columns))\n",
        "print('Test Data Columns',house_test.columns)\n",
        "print(len(house_test.columns))"
      ],
      "execution_count": 14,
      "outputs": [
        {
          "output_type": "stream",
          "name": "stdout",
          "text": [
            "Train Data Columns Index(['Index', 'Location', 'Num_Bathrooms', 'Num_Beds', 'BER_class',\n",
            "       'Description', 'Services', 'Features', 'Latitude', 'Longitude', 'Type',\n",
            "       'Surface', 'Price'],\n",
            "      dtype='object')\n",
            "13\n",
            "Test Data Columns Index(['Index', 'Location', 'Num_Bathrooms', 'Num_Beds', 'BER_class',\n",
            "       'Description', 'Services', 'Features', 'Latitude', 'Longitude', 'Type',\n",
            "       'Surface'],\n",
            "      dtype='object')\n",
            "12\n"
          ]
        }
      ]
    },
    {
      "cell_type": "code",
      "metadata": {
        "colab": {
          "base_uri": "https://localhost:8080/"
        },
        "id": "Dsn5ZJeR-nD0",
        "outputId": "99986706-a233-445e-fd91-b8104523f01f"
      },
      "source": [
        "print('Train Data Shape',house_train.shape)\n",
        "print('Test Data Shape',house_test.shape)"
      ],
      "execution_count": 15,
      "outputs": [
        {
          "output_type": "stream",
          "name": "stdout",
          "text": [
            "Train Data Shape (1638, 13)\n",
            "Test Data Shape (702, 12)\n"
          ]
        }
      ]
    },
    {
      "cell_type": "markdown",
      "metadata": {
        "id": "z9Rmssn8_Z7-"
      },
      "source": [
        "The data consists in two datasets, train and test House Data, with 1638 by 13 vs 702 by 12 respectively. Only difference in columns numbers is the Price, as in this case is our target predictor. Information provided by the features include location, number of bathrooms and beds, BER class, description of the property, services, lat and long, type of property, size through surface and price. A column ID was dropped at loading data stage as it is another property identifier, as well as Index, and the former is the one used to recognize properties in the sample submission file, reason why it was kept."
      ]
    },
    {
      "cell_type": "code",
      "metadata": {
        "colab": {
          "base_uri": "https://localhost:8080/"
        },
        "id": "YtVbr_Tcqfbi",
        "outputId": "b41ae2c9-7759-4215-c91e-8767aa8eab80"
      },
      "source": [
        "#Concise summary of the dataframe\n",
        "print('Train Data Information')\n",
        "house_train.info()"
      ],
      "execution_count": 16,
      "outputs": [
        {
          "output_type": "stream",
          "name": "stdout",
          "text": [
            "Train Data Information\n",
            "<class 'pandas.core.frame.DataFrame'>\n",
            "RangeIndex: 1638 entries, 0 to 1637\n",
            "Data columns (total 13 columns):\n",
            " #   Column         Non-Null Count  Dtype  \n",
            "---  ------         --------------  -----  \n",
            " 0   Index          1638 non-null   int64  \n",
            " 1   Location       1638 non-null   object \n",
            " 2   Num_Bathrooms  1638 non-null   int64  \n",
            " 3   Num_Beds       1638 non-null   int64  \n",
            " 4   BER_class      1387 non-null   object \n",
            " 5   Description    1638 non-null   object \n",
            " 6   Services       577 non-null    object \n",
            " 7   Features       1638 non-null   object \n",
            " 8   Latitude       1638 non-null   float64\n",
            " 9   Longitude      1638 non-null   float64\n",
            " 10  Type           1638 non-null   object \n",
            " 11  Surface        1638 non-null   float64\n",
            " 12  Price          1638 non-null   int64  \n",
            "dtypes: float64(3), int64(4), object(6)\n",
            "memory usage: 166.5+ KB\n"
          ]
        }
      ]
    },
    {
      "cell_type": "code",
      "metadata": {
        "colab": {
          "base_uri": "https://localhost:8080/"
        },
        "id": "MkTpY2KrqfZB",
        "outputId": "d11cf618-7368-4177-f299-a0527d3f948e"
      },
      "source": [
        "#Concise summary of the dataframe\n",
        "print('Test Data Information')\n",
        "house_test.info()"
      ],
      "execution_count": 17,
      "outputs": [
        {
          "output_type": "stream",
          "name": "stdout",
          "text": [
            "Test Data Information\n",
            "<class 'pandas.core.frame.DataFrame'>\n",
            "RangeIndex: 702 entries, 0 to 701\n",
            "Data columns (total 12 columns):\n",
            " #   Column         Non-Null Count  Dtype  \n",
            "---  ------         --------------  -----  \n",
            " 0   Index          702 non-null    int64  \n",
            " 1   Location       702 non-null    object \n",
            " 2   Num_Bathrooms  702 non-null    int64  \n",
            " 3   Num_Beds       702 non-null    int64  \n",
            " 4   BER_class      594 non-null    object \n",
            " 5   Description    702 non-null    object \n",
            " 6   Services       246 non-null    object \n",
            " 7   Features       702 non-null    object \n",
            " 8   Latitude       702 non-null    float64\n",
            " 9   Longitude      702 non-null    float64\n",
            " 10  Type           702 non-null    object \n",
            " 11  Surface        702 non-null    float64\n",
            "dtypes: float64(3), int64(3), object(6)\n",
            "memory usage: 65.9+ KB\n"
          ]
        }
      ]
    },
    {
      "cell_type": "code",
      "metadata": {
        "colab": {
          "base_uri": "https://localhost:8080/",
          "height": 299
        },
        "id": "EXgevlGvL6Fw",
        "outputId": "16923836-af2c-4fde-b4f0-5b6f73cf7392"
      },
      "source": [
        "# Descriptive Statistics\n",
        "house_train.describe()"
      ],
      "execution_count": 18,
      "outputs": [
        {
          "output_type": "execute_result",
          "data": {
            "text/html": [
              "<div>\n",
              "<style scoped>\n",
              "    .dataframe tbody tr th:only-of-type {\n",
              "        vertical-align: middle;\n",
              "    }\n",
              "\n",
              "    .dataframe tbody tr th {\n",
              "        vertical-align: top;\n",
              "    }\n",
              "\n",
              "    .dataframe thead th {\n",
              "        text-align: right;\n",
              "    }\n",
              "</style>\n",
              "<table border=\"1\" class=\"dataframe\">\n",
              "  <thead>\n",
              "    <tr style=\"text-align: right;\">\n",
              "      <th></th>\n",
              "      <th>Index</th>\n",
              "      <th>Num_Bathrooms</th>\n",
              "      <th>Num_Beds</th>\n",
              "      <th>Latitude</th>\n",
              "      <th>Longitude</th>\n",
              "      <th>Surface</th>\n",
              "      <th>Price</th>\n",
              "    </tr>\n",
              "  </thead>\n",
              "  <tbody>\n",
              "    <tr>\n",
              "      <th>count</th>\n",
              "      <td>1638.000000</td>\n",
              "      <td>1638.000000</td>\n",
              "      <td>1638.000000</td>\n",
              "      <td>1638.000000</td>\n",
              "      <td>1638.000000</td>\n",
              "      <td>1638.000000</td>\n",
              "      <td>1.638000e+03</td>\n",
              "    </tr>\n",
              "    <tr>\n",
              "      <th>mean</th>\n",
              "      <td>819.500000</td>\n",
              "      <td>2.054335</td>\n",
              "      <td>3.043346</td>\n",
              "      <td>53.350473</td>\n",
              "      <td>-6.255086</td>\n",
              "      <td>169.540695</td>\n",
              "      <td>5.547196e+05</td>\n",
              "    </tr>\n",
              "    <tr>\n",
              "      <th>std</th>\n",
              "      <td>472.994186</td>\n",
              "      <td>1.241259</td>\n",
              "      <td>1.379650</td>\n",
              "      <td>0.076832</td>\n",
              "      <td>0.144430</td>\n",
              "      <td>1791.793934</td>\n",
              "      <td>5.652032e+05</td>\n",
              "    </tr>\n",
              "    <tr>\n",
              "      <th>min</th>\n",
              "      <td>1.000000</td>\n",
              "      <td>1.000000</td>\n",
              "      <td>1.000000</td>\n",
              "      <td>52.501856</td>\n",
              "      <td>-6.497000</td>\n",
              "      <td>3.400000</td>\n",
              "      <td>1.999500e+04</td>\n",
              "    </tr>\n",
              "    <tr>\n",
              "      <th>25%</th>\n",
              "      <td>410.250000</td>\n",
              "      <td>1.000000</td>\n",
              "      <td>2.000000</td>\n",
              "      <td>53.294261</td>\n",
              "      <td>-6.309613</td>\n",
              "      <td>73.000000</td>\n",
              "      <td>2.950000e+05</td>\n",
              "    </tr>\n",
              "    <tr>\n",
              "      <th>50%</th>\n",
              "      <td>819.500000</td>\n",
              "      <td>2.000000</td>\n",
              "      <td>3.000000</td>\n",
              "      <td>53.341386</td>\n",
              "      <td>-6.247780</td>\n",
              "      <td>97.050000</td>\n",
              "      <td>3.950000e+05</td>\n",
              "    </tr>\n",
              "    <tr>\n",
              "      <th>75%</th>\n",
              "      <td>1228.750000</td>\n",
              "      <td>3.000000</td>\n",
              "      <td>4.000000</td>\n",
              "      <td>53.382031</td>\n",
              "      <td>-6.193982</td>\n",
              "      <td>135.000000</td>\n",
              "      <td>5.950000e+05</td>\n",
              "    </tr>\n",
              "    <tr>\n",
              "      <th>max</th>\n",
              "      <td>1638.000000</td>\n",
              "      <td>18.000000</td>\n",
              "      <td>27.000000</td>\n",
              "      <td>53.630588</td>\n",
              "      <td>-1.744995</td>\n",
              "      <td>72236.387140</td>\n",
              "      <td>8.900000e+06</td>\n",
              "    </tr>\n",
              "  </tbody>\n",
              "</table>\n",
              "</div>"
            ],
            "text/plain": [
              "             Index  Num_Bathrooms  ...       Surface         Price\n",
              "count  1638.000000    1638.000000  ...   1638.000000  1.638000e+03\n",
              "mean    819.500000       2.054335  ...    169.540695  5.547196e+05\n",
              "std     472.994186       1.241259  ...   1791.793934  5.652032e+05\n",
              "min       1.000000       1.000000  ...      3.400000  1.999500e+04\n",
              "25%     410.250000       1.000000  ...     73.000000  2.950000e+05\n",
              "50%     819.500000       2.000000  ...     97.050000  3.950000e+05\n",
              "75%    1228.750000       3.000000  ...    135.000000  5.950000e+05\n",
              "max    1638.000000      18.000000  ...  72236.387140  8.900000e+06\n",
              "\n",
              "[8 rows x 7 columns]"
            ]
          },
          "metadata": {},
          "execution_count": 18
        }
      ]
    },
    {
      "cell_type": "code",
      "metadata": {
        "colab": {
          "base_uri": "https://localhost:8080/",
          "height": 299
        },
        "id": "a3WoJBGZL5-D",
        "outputId": "a1a2868c-3709-4844-f949-b1a766822be9"
      },
      "source": [
        "# Descriptive Statistics\n",
        "house_test.describe()"
      ],
      "execution_count": 19,
      "outputs": [
        {
          "output_type": "execute_result",
          "data": {
            "text/html": [
              "<div>\n",
              "<style scoped>\n",
              "    .dataframe tbody tr th:only-of-type {\n",
              "        vertical-align: middle;\n",
              "    }\n",
              "\n",
              "    .dataframe tbody tr th {\n",
              "        vertical-align: top;\n",
              "    }\n",
              "\n",
              "    .dataframe thead th {\n",
              "        text-align: right;\n",
              "    }\n",
              "</style>\n",
              "<table border=\"1\" class=\"dataframe\">\n",
              "  <thead>\n",
              "    <tr style=\"text-align: right;\">\n",
              "      <th></th>\n",
              "      <th>Index</th>\n",
              "      <th>Num_Bathrooms</th>\n",
              "      <th>Num_Beds</th>\n",
              "      <th>Latitude</th>\n",
              "      <th>Longitude</th>\n",
              "      <th>Surface</th>\n",
              "    </tr>\n",
              "  </thead>\n",
              "  <tbody>\n",
              "    <tr>\n",
              "      <th>count</th>\n",
              "      <td>702.000000</td>\n",
              "      <td>702.000000</td>\n",
              "      <td>702.000000</td>\n",
              "      <td>702.000000</td>\n",
              "      <td>702.000000</td>\n",
              "      <td>702.000000</td>\n",
              "    </tr>\n",
              "    <tr>\n",
              "      <th>mean</th>\n",
              "      <td>1989.500000</td>\n",
              "      <td>2.027066</td>\n",
              "      <td>2.987179</td>\n",
              "      <td>53.350445</td>\n",
              "      <td>-6.252411</td>\n",
              "      <td>132.603530</td>\n",
              "    </tr>\n",
              "    <tr>\n",
              "      <th>std</th>\n",
              "      <td>202.794231</td>\n",
              "      <td>1.071273</td>\n",
              "      <td>1.198480</td>\n",
              "      <td>0.073961</td>\n",
              "      <td>0.091600</td>\n",
              "      <td>330.347066</td>\n",
              "    </tr>\n",
              "    <tr>\n",
              "      <th>min</th>\n",
              "      <td>1639.000000</td>\n",
              "      <td>1.000000</td>\n",
              "      <td>1.000000</td>\n",
              "      <td>53.214227</td>\n",
              "      <td>-6.521183</td>\n",
              "      <td>32.100000</td>\n",
              "    </tr>\n",
              "    <tr>\n",
              "      <th>25%</th>\n",
              "      <td>1814.250000</td>\n",
              "      <td>1.000000</td>\n",
              "      <td>2.000000</td>\n",
              "      <td>53.295225</td>\n",
              "      <td>-6.304258</td>\n",
              "      <td>73.000000</td>\n",
              "    </tr>\n",
              "    <tr>\n",
              "      <th>50%</th>\n",
              "      <td>1989.500000</td>\n",
              "      <td>2.000000</td>\n",
              "      <td>3.000000</td>\n",
              "      <td>53.341153</td>\n",
              "      <td>-6.247799</td>\n",
              "      <td>99.200000</td>\n",
              "    </tr>\n",
              "    <tr>\n",
              "      <th>75%</th>\n",
              "      <td>2164.750000</td>\n",
              "      <td>3.000000</td>\n",
              "      <td>4.000000</td>\n",
              "      <td>53.381752</td>\n",
              "      <td>-6.184277</td>\n",
              "      <td>136.875000</td>\n",
              "    </tr>\n",
              "    <tr>\n",
              "      <th>max</th>\n",
              "      <td>2340.000000</td>\n",
              "      <td>9.000000</td>\n",
              "      <td>14.000000</td>\n",
              "      <td>53.617443</td>\n",
              "      <td>-6.057150</td>\n",
              "      <td>8576.000000</td>\n",
              "    </tr>\n",
              "  </tbody>\n",
              "</table>\n",
              "</div>"
            ],
            "text/plain": [
              "             Index  Num_Bathrooms  ...   Longitude      Surface\n",
              "count   702.000000     702.000000  ...  702.000000   702.000000\n",
              "mean   1989.500000       2.027066  ...   -6.252411   132.603530\n",
              "std     202.794231       1.071273  ...    0.091600   330.347066\n",
              "min    1639.000000       1.000000  ...   -6.521183    32.100000\n",
              "25%    1814.250000       1.000000  ...   -6.304258    73.000000\n",
              "50%    1989.500000       2.000000  ...   -6.247799    99.200000\n",
              "75%    2164.750000       3.000000  ...   -6.184277   136.875000\n",
              "max    2340.000000       9.000000  ...   -6.057150  8576.000000\n",
              "\n",
              "[8 rows x 6 columns]"
            ]
          },
          "metadata": {},
          "execution_count": 19
        }
      ]
    },
    {
      "cell_type": "code",
      "metadata": {
        "colab": {
          "base_uri": "https://localhost:8080/"
        },
        "id": "uTgz5lGcqfWn",
        "outputId": "a80dbe2b-f0a6-435a-e976-72188871c12e"
      },
      "source": [
        "# Missing Values\n",
        "print('Train Data Missing Values')\n",
        "print(house_train.isna().sum())"
      ],
      "execution_count": 20,
      "outputs": [
        {
          "output_type": "stream",
          "name": "stdout",
          "text": [
            "Train Data Missing Values\n",
            "Index               0\n",
            "Location            0\n",
            "Num_Bathrooms       0\n",
            "Num_Beds            0\n",
            "BER_class         251\n",
            "Description         0\n",
            "Services         1061\n",
            "Features            0\n",
            "Latitude            0\n",
            "Longitude           0\n",
            "Type                0\n",
            "Surface             0\n",
            "Price               0\n",
            "dtype: int64\n"
          ]
        }
      ]
    },
    {
      "cell_type": "code",
      "metadata": {
        "colab": {
          "base_uri": "https://localhost:8080/"
        },
        "id": "whrml5c7qfUC",
        "outputId": "96b9b99e-21e0-40a0-a60b-41f61a403160"
      },
      "source": [
        "print('Test Data Missing Values')\n",
        "print(house_test.isna().sum())"
      ],
      "execution_count": 21,
      "outputs": [
        {
          "output_type": "stream",
          "name": "stdout",
          "text": [
            "Test Data Missing Values\n",
            "Index              0\n",
            "Location           0\n",
            "Num_Bathrooms      0\n",
            "Num_Beds           0\n",
            "BER_class        108\n",
            "Description        0\n",
            "Services         456\n",
            "Features           0\n",
            "Latitude           0\n",
            "Longitude          0\n",
            "Type               0\n",
            "Surface            0\n",
            "dtype: int64\n"
          ]
        }
      ]
    },
    {
      "cell_type": "code",
      "metadata": {
        "colab": {
          "base_uri": "https://localhost:8080/"
        },
        "id": "Vgbs5qdPqfR8",
        "outputId": "d6a15577-e919-4649-f5fc-0aed2fb2a0fb"
      },
      "source": [
        "#Percentage of NAN Values\n",
        "print('Train Data Percentage of NAN Values')\n",
        "print(house_train.isna().mean().round(4) * 100)"
      ],
      "execution_count": 22,
      "outputs": [
        {
          "output_type": "stream",
          "name": "stdout",
          "text": [
            "Train Data Percentage of NAN Values\n",
            "Index             0.00\n",
            "Location          0.00\n",
            "Num_Bathrooms     0.00\n",
            "Num_Beds          0.00\n",
            "BER_class        15.32\n",
            "Description       0.00\n",
            "Services         64.77\n",
            "Features          0.00\n",
            "Latitude          0.00\n",
            "Longitude         0.00\n",
            "Type              0.00\n",
            "Surface           0.00\n",
            "Price             0.00\n",
            "dtype: float64\n"
          ]
        }
      ]
    },
    {
      "cell_type": "code",
      "metadata": {
        "colab": {
          "base_uri": "https://localhost:8080/"
        },
        "id": "dltE7nHgqfM2",
        "outputId": "e25b215b-2eb5-4c64-ee41-21c596c73b02"
      },
      "source": [
        "print('Test Data Percentage of NAN Values')\n",
        "print(house_test.isna().mean().round(4) * 100)"
      ],
      "execution_count": 23,
      "outputs": [
        {
          "output_type": "stream",
          "name": "stdout",
          "text": [
            "Test Data Percentage of NAN Values\n",
            "Index             0.00\n",
            "Location          0.00\n",
            "Num_Bathrooms     0.00\n",
            "Num_Beds          0.00\n",
            "BER_class        15.38\n",
            "Description       0.00\n",
            "Services         64.96\n",
            "Features          0.00\n",
            "Latitude          0.00\n",
            "Longitude         0.00\n",
            "Type              0.00\n",
            "Surface           0.00\n",
            "dtype: float64\n"
          ]
        }
      ]
    },
    {
      "cell_type": "code",
      "metadata": {
        "colab": {
          "base_uri": "https://localhost:8080/"
        },
        "id": "1-JkHSSiqfKe",
        "outputId": "ea00be81-1b07-4918-8a53-6bfb5590f4d3"
      },
      "source": [
        "# Recognise any columns that have the same value in each at the start of the code\n",
        "# Feedback from Nigel Portley \n",
        "columnlist = []\n",
        "def is_unique(s):\n",
        "    a = s.to_numpy()\n",
        "    return (a[0] == a).all()\n",
        "\n",
        "for column in house_train:\n",
        "    if (is_unique(house_train[column]) == True): \n",
        "        print(column)\n",
        "        columnlist.append(str(column))\n",
        "print(columnlist)\n",
        "#house_train.drop(columnlist, axis=1, inplace=True)\n",
        "\n",
        "for column in house_test:\n",
        "    if (is_unique(house_test[column]) == True): \n",
        "        print(column)\n",
        "        columnlist.append(str(column))\n",
        "print(columnlist)\n",
        "#house_test.drop(columnlist, axis=1, inplace=True)"
      ],
      "execution_count": 24,
      "outputs": [
        {
          "output_type": "stream",
          "name": "stdout",
          "text": [
            "[]\n",
            "[]\n"
          ]
        }
      ]
    },
    {
      "cell_type": "code",
      "metadata": {
        "colab": {
          "base_uri": "https://localhost:8080/",
          "height": 559
        },
        "id": "n9hfwGRKK5LK",
        "outputId": "0bf1d95f-5d07-4198-b22a-fb880786fa8e"
      },
      "source": [
        "plt.figure(figsize=(20, 8))\n",
        "sns.heatmap(house_train.corr(), square=True, annot=True);"
      ],
      "execution_count": 25,
      "outputs": [
        {
          "output_type": "display_data",
          "data": {
            "image/png": "[encoded data removed]",
            "text/plain": [
              "<Figure size 1440x576 with 2 Axes>"
            ]
          },
          "metadata": {
            "needs_background": "light"
          }
        }
      ]
    },
    {
      "cell_type": "markdown",
      "metadata": {
        "id": "y3UR8epbAvLe"
      },
      "source": [
        "For Missing Values, in the train dataset `BER_class` has 251 data points which represent ~15% and `Services` 1061 data points which is ~64%. In te other hand the test dataset `BER_class` has 108 data points which represent ~15% and `Services` 456 data points which is ~64%. Using part of the learnings from past etivity, none of the columns seem to have the same value. Futhermore, according to the Number of Bathrooms and Number of Beds, show the highest correlation of all of the features."
      ]
    },
    {
      "cell_type": "markdown",
      "metadata": {
        "id": "NCIZxhlcp8Il"
      },
      "source": [
        "## Feature Engineering"
      ]
    },
    {
      "cell_type": "markdown",
      "metadata": {
        "id": "JfVKcRd0xhC2"
      },
      "source": [
        "'Index'"
      ]
    },
    {
      "cell_type": "code",
      "metadata": {
        "colab": {
          "base_uri": "https://localhost:8080/"
        },
        "id": "coB5kM53p7MH",
        "outputId": "c203708d-a58b-45fd-f068-97143de3e478"
      },
      "source": [
        "house_train['Index'].nunique()"
      ],
      "execution_count": 26,
      "outputs": [
        {
          "output_type": "execute_result",
          "data": {
            "text/plain": [
              "1638"
            ]
          },
          "metadata": {},
          "execution_count": 26
        }
      ]
    },
    {
      "cell_type": "code",
      "metadata": {
        "colab": {
          "base_uri": "https://localhost:8080/"
        },
        "id": "CVHuzErLx1sL",
        "outputId": "80b4ad34-86c6-4732-efdb-3e41ed45d156"
      },
      "source": [
        "house_test['Index'].nunique()"
      ],
      "execution_count": 27,
      "outputs": [
        {
          "output_type": "execute_result",
          "data": {
            "text/plain": [
              "702"
            ]
          },
          "metadata": {},
          "execution_count": 27
        }
      ]
    },
    {
      "cell_type": "markdown",
      "metadata": {
        "id": "iCToTBbZCUst"
      },
      "source": [
        "Having 1638 and 702 unique values, corroborates Index as the property identifier, and one per property"
      ]
    },
    {
      "cell_type": "markdown",
      "metadata": {
        "id": "l24q4G8CxkG-"
      },
      "source": [
        "'Location'"
      ]
    },
    {
      "cell_type": "code",
      "metadata": {
        "colab": {
          "base_uri": "https://localhost:8080/"
        },
        "id": "LKLXddrCxQU9",
        "outputId": "3351130b-6347-45f0-8ce3-d8fcc9808911"
      },
      "source": [
        "house_train['Location'].value_counts()"
      ],
      "execution_count": 28,
      "outputs": [
        {
          "output_type": "execute_result",
          "data": {
            "text/plain": [
              "Castleknock    57\n",
              "Malahide       50\n",
              "Lucan          49\n",
              "Rathfarnham    46\n",
              "Clondalkin     41\n",
              "               ..\n",
              "Kilmore         1\n",
              "Park West       1\n",
              "Oldbawn         1\n",
              "Newcastle       1\n",
              "The Coombe      1\n",
              "Name: Location, Length: 142, dtype: int64"
            ]
          },
          "metadata": {},
          "execution_count": 28
        }
      ]
    },
    {
      "cell_type": "code",
      "metadata": {
        "id": "B06fPnnazKrK"
      },
      "source": [
        "house_train['Location'].replace({'Temple Bar':'Dublin 1', 'IFSC':'Dublin 1', \n",
        "                            'Grand Canal Dock':'Dublin 2',\n",
        "                            'Clontarf':'Dublin 3', 'East Wall':'Dublin 3', 'North Strand':'Dublin 3', 'Fairview':'Dublin 3', 'Marino':'Dublin 3', 'Ballyboughal':'Dublin 3', \n",
        "                            'Ballsbridge':'Dublin 4', 'Donnybrook':'Dublin 4','Sandymount':'Dublin 4','Ringsend':'Dublin 4','Irishtown':'Dublin 4','Merrion':'Dublin 4',\n",
        "                            'Artane':'Dublin 5','Raheny':'Dublin 5','Kilbarrack':'Dublin 5','Edenmore':'Dublin 5','Kilmore':'Dublin 5','Donnycarney':'Dublin 5',\n",
        "                            'Rathmines':'Dublin 6','Rathgar':'Dublin 6','Ranelagh':'Dublin 6','Milltown':'Dublin 6','Dartry':'Dublin 6',\n",
        "                            'Stoneybatter':'Dublin 7','Phibsborough':'Dublin 7','Navan Road (D7)':'Dublin 7','North Circular Road':'Dublin 7','Smithfield':'Dublin 7','Ashtown':'Dublin 7','Cabra':'Dublin 7',\n",
        "                            'Kilmainham':'Dublin 8','Inchicore':'Dublin 8','Rialto':'Dublin 8','Portobello':'Dublin 8','South Circular Road':'Dublin 8','Islandbridge':'Dublin 8','The Coombe':'Dublin 8',\"Dolphin's Barn\":'Dublin 8','Christchurch':'Dublin 8',\n",
        "                            'Drumcondra':'Dublin 9','Glasnevin':'Dublin 9','Santry':'Dublin 9','Whitehall':'Dublin 9','Beaumont':'Dublin 9','Ballymun':'Dublin 9','Poppintree':'Dublin 9',\n",
        "                            'Ballyfermot':'Dublin 10','Cherry Orchard':'Dublin 10',\n",
        "                            'Finglas':'Dublin 11',\"St Margaret's\":'Dublin 11',\n",
        "                            'Walkinstown':'Dublin 12','Crumlin':'Dublin 12','Drimnagh':'Dublin 12','Bluebell':'Dublin 12','Park West':'Dublin 12','Perrystown':'Dublin 12',\n",
        "                            'Malahide':'Dublin 13','Howth':'Dublin 13','Sutton':'Dublin 13','Baldoyle':'Dublin 13','Donaghmede':'Dublin 13','Bayside':'Dublin 13','Ard Na Greine':'Dublin 13','Clongriffin':'Dublin 13','Clarehall':'Dublin 13',\n",
        "                            'Dundrum':'Dublin 14','Churchtown':'Dublin 14','Goatstown':'Dublin 14','Clonskeagh':'Dublin 14','Windy Arbour':'Dublin 14',\n",
        "                            'Carpenterstown':'Dublin 15','Castleknock':'Dublin 15','Clonsilla':'Dublin 15','Blanchardstown':'Dublin 15','Clonee':'Dublin 15','Coolmine':'Dublin 15','Hartstown':'Dublin 15','Mulhuddart':'Dublin 15','The Ward':'Dublin 15','Ongar':'Dublin 15','Tyrrelstown':'Dublin 15',\n",
        "                            'Rathfarnham':'Dublin 16','Ballinteer':'Dublin 16','Ballinascorney':'Dublin 16','Knocklyon':'Dublin 16',\n",
        "                            'Darndale':'Dublin 17','Clonshaugh':'Dublin 17','Coolock':'Dublin 17','Killester':'Dublin 17',\n",
        "                            'Deansgrange':'Dublin 18','Sandyford':'Dublin 18','Foxrock':'Dublin 18','Stepaside':'Dublin 18','Cabinteely':'Dublin 18','Carrickmines':'Dublin 18','Leopardstown':'Dublin 18','Kilternan':'Dublin 18','Shankill':'Dublin 18',\n",
        "                            'Palmerstown':'Dublin 20','Chapelizod':'Dublin 20','Lucan':'Dublin 20',\n",
        "                            'Clondalkin':'Dublin 22','Kingswood':'Dublin 22','Newcastle':'Dublin 22',\n",
        "                            'Ballymount':'Dublin 24','Kiltipper':'Dublin 24','Tallaght':'Dublin 24','Balrothery':'Dublin 24','Rathcoole':'Dublin 24','Kilnamanagh':'Dublin 24','Firhouse':'Dublin 24','Greenhills':'Dublin 24','Oldbawn':'Dublin 24','Adamstown':'Dublin 24','Saggart':'Dublin 24','Citywest':'Dublin 24','Ballycullen':'Dublin 24','Brittas':'Dublin 24',\n",
        "                            'Terenure':'Dublin 6w',\"Harold's Cross\":'Dublin 6w','Kimmage':'Dublin 6w','Templeogue':'Dublin 6w',\n",
        "                            'Donabate':'Fingal','Swords':'Fingal','Portmarnock':'Fingal','Kinsealy':'Fingal','Balgriffin':'Fingal','Garristown':'Fingal','Naul':'Fingal','Skerries':'Fingal','Rush':'Fingal','Lusk':'Fingal','Balbriggan':'Fingal','Loughshinny':'Fingal','Ballybough':'Fingal',\n",
        "                            'Blackrock':'DunLaoghaireRathdown','Dun Laoghaire':'DunLaoghaireRathdown','Glenageary':'DunLaoghaireRathdown',\n",
        "                            'Monkstown':'DunLaoghaireRathdown','Booterstown':'DunLaoghaireRathdown','Sandycove':'DunLaoghaireRathdown',\n",
        "                            'Rathmichael':'DunLaoghaireRathdown','Mount Merrion':'DunLaoghaireRathdown','Ballybrack':'DunLaoghaireRathdown','Sallynoggin':'DunLaoghaireRathdown',\n",
        "                            'Kilmacud':'DunLaoghaireRathdown','Dalkey':'DunLaoghaireRathdown','Killiney':'DunLaoghaireRathdown','Loughlinstown':'DunLaoghaireRathdown',\n",
        "                            }, inplace=True)"
      ],
      "execution_count": 29,
      "outputs": []
    },
    {
      "cell_type": "code",
      "metadata": {
        "colab": {
          "base_uri": "https://localhost:8080/"
        },
        "id": "7uCc3fQwzSbR",
        "outputId": "c34a4733-6c57-4f8a-cb2e-59277df27798"
      },
      "source": [
        "house_train['Location'].value_counts()"
      ],
      "execution_count": 30,
      "outputs": [
        {
          "output_type": "execute_result",
          "data": {
            "text/plain": [
              "DunLaoghaireRathdown    160\n",
              "Fingal                  139\n",
              "Dublin 15               117\n",
              "Dublin 13               115\n",
              "Dublin 24               104\n",
              "Dublin 9                 97\n",
              "Dublin 18                96\n",
              "Dublin 4                 95\n",
              "Dublin 16                80\n",
              "Dublin 7                 69\n",
              "Dublin 8                 65\n",
              "Dublin 20                58\n",
              "Dublin 6                 56\n",
              "Dublin 14                55\n",
              "Dublin 3                 55\n",
              "Dublin 6w                48\n",
              "Dublin 22                43\n",
              "Dublin 5                 42\n",
              "Dublin 1                 38\n",
              "Dublin 11                32\n",
              "Dublin 12                29\n",
              "Dublin 2                 24\n",
              "Dublin 17                17\n",
              "Dublin 10                 4\n",
              "Name: Location, dtype: int64"
            ]
          },
          "metadata": {},
          "execution_count": 30
        }
      ]
    },
    {
      "cell_type": "code",
      "metadata": {
        "id": "s72eIIwF00oz"
      },
      "source": [
        "house_test['Location'].replace({'Temple Bar':'Dublin 1', 'IFSC':'Dublin 1', \n",
        "                            'Grand Canal Dock':'Dublin 2',\n",
        "                            'Clontarf':'Dublin 3', 'East Wall':'Dublin 3', 'North Strand':'Dublin 3', 'Fairview':'Dublin 3', 'Marino':'Dublin 3', 'Ballyboughal':'Dublin 3', \n",
        "                            'Ballsbridge':'Dublin 4', 'Donnybrook':'Dublin 4','Sandymount':'Dublin 4','Ringsend':'Dublin 4','Irishtown':'Dublin 4','Merrion':'Dublin 4',\n",
        "                            'Artane':'Dublin 5','Raheny':'Dublin 5','Kilbarrack':'Dublin 5','Edenmore':'Dublin 5','Kilmore':'Dublin 5','Donnycarney':'Dublin 5',\n",
        "                            'Rathmines':'Dublin 6','Rathgar':'Dublin 6','Ranelagh':'Dublin 6','Milltown':'Dublin 6','Dartry':'Dublin 6',\n",
        "                            'Stoneybatter':'Dublin 7','Phibsborough':'Dublin 7','Navan Road (D7)':'Dublin 7','North Circular Road':'Dublin 7','Smithfield':'Dublin 7','Ashtown':'Dublin 7','Cabra':'Dublin 7',\n",
        "                            'Kilmainham':'Dublin 8','Inchicore':'Dublin 8','Rialto':'Dublin 8','Portobello':'Dublin 8','South Circular Road':'Dublin 8','Islandbridge':'Dublin 8','The Coombe':'Dublin 8',\"Dolphin's Barn\":'Dublin 8','Christchurch':'Dublin 8',\n",
        "                            'Drumcondra':'Dublin 9','Glasnevin':'Dublin 9','Santry':'Dublin 9','Whitehall':'Dublin 9','Beaumont':'Dublin 9','Ballymun':'Dublin 9','Poppintree':'Dublin 9',\n",
        "                            'Ballyfermot':'Dublin 10','Cherry Orchard':'Dublin 10',\n",
        "                            'Finglas':'Dublin 11',\"St Margaret's\":'Dublin 11',\n",
        "                            'Walkinstown':'Dublin 12','Crumlin':'Dublin 12','Drimnagh':'Dublin 12','Bluebell':'Dublin 12','Park West':'Dublin 12','Perrystown':'Dublin 12',\n",
        "                            'Malahide':'Dublin 13','Howth':'Dublin 13','Sutton':'Dublin 13','Baldoyle':'Dublin 13','Donaghmede':'Dublin 13','Bayside':'Dublin 13','Ard Na Greine':'Dublin 13','Clongriffin':'Dublin 13','Clarehall':'Dublin 13',\n",
        "                            'Dundrum':'Dublin 14','Churchtown':'Dublin 14','Goatstown':'Dublin 14','Clonskeagh':'Dublin 14','Windy Arbour':'Dublin 14',\n",
        "                            'Carpenterstown':'Dublin 15','Castleknock':'Dublin 15','Clonsilla':'Dublin 15','Blanchardstown':'Dublin 15','Clonee':'Dublin 15','Coolmine':'Dublin 15','Hartstown':'Dublin 15','Mulhuddart':'Dublin 15','The Ward':'Dublin 15','Ongar':'Dublin 15','Tyrrelstown':'Dublin 15',\n",
        "                            'Rathfarnham':'Dublin 16','Ballinteer':'Dublin 16','Ballinascorney':'Dublin 16','Knocklyon':'Dublin 16',\n",
        "                            'Darndale':'Dublin 17','Clonshaugh':'Dublin 17','Coolock':'Dublin 17','Killester':'Dublin 17',\n",
        "                            'Deansgrange':'Dublin 18','Sandyford':'Dublin 18','Foxrock':'Dublin 18','Stepaside':'Dublin 18','Cabinteely':'Dublin 18','Carrickmines':'Dublin 18','Leopardstown':'Dublin 18','Kilternan':'Dublin 18','Shankill':'Dublin 18',\n",
        "                            'Palmerstown':'Dublin 20','Chapelizod':'Dublin 20','Lucan':'Dublin 20',\n",
        "                            'Clondalkin':'Dublin 22','Kingswood':'Dublin 22','Newcastle':'Dublin 22',\n",
        "                            'Ballymount':'Dublin 24','Kiltipper':'Dublin 24','Tallaght':'Dublin 24','Balrothery':'Dublin 24','Rathcoole':'Dublin 24','Kilnamanagh':'Dublin 24','Firhouse':'Dublin 24','Greenhills':'Dublin 24','Oldbawn':'Dublin 24','Adamstown':'Dublin 24','Saggart':'Dublin 24','Citywest':'Dublin 24','Ballycullen':'Dublin 24','Brittas':'Dublin 24',\n",
        "                            'Terenure':'Dublin 6w',\"Harold's Cross\":'Dublin 6w','Kimmage':'Dublin 6w','Templeogue':'Dublin 6w',\n",
        "                            'Donabate':'Fingal','Swords':'Fingal','Portmarnock':'Fingal','Kinsealy':'Fingal','Balgriffin':'Fingal','Garristown':'Fingal','Naul':'Fingal','Skerries':'Fingal','Rush':'Fingal','Lusk':'Fingal','Balbriggan':'Fingal','Loughshinny':'Fingal','Ballybough':'Fingal',\n",
        "                            'Blackrock':'DunLaoghaireRathdown','Dun Laoghaire':'DunLaoghaireRathdown','Glenageary':'DunLaoghaireRathdown',\n",
        "                            'Monkstown':'DunLaoghaireRathdown','Booterstown':'DunLaoghaireRathdown','Sandycove':'DunLaoghaireRathdown',\n",
        "                            'Rathmichael':'DunLaoghaireRathdown','Mount Merrion':'DunLaoghaireRathdown','Ballybrack':'DunLaoghaireRathdown','Sallynoggin':'DunLaoghaireRathdown',\n",
        "                            'Kilmacud':'DunLaoghaireRathdown','Dalkey':'DunLaoghaireRathdown','Killiney':'DunLaoghaireRathdown','Loughlinstown':'DunLaoghaireRathdown',\n",
        "                            }, inplace=True)"
      ],
      "execution_count": 31,
      "outputs": []
    },
    {
      "cell_type": "code",
      "metadata": {
        "colab": {
          "base_uri": "https://localhost:8080/"
        },
        "id": "p-7jsZn5HCH4",
        "outputId": "bba699a8-830c-4f8d-bf35-57472a42a59d"
      },
      "source": [
        "house_test['Location'].value_counts()"
      ],
      "execution_count": 32,
      "outputs": [
        {
          "output_type": "execute_result",
          "data": {
            "text/plain": [
              "DunLaoghaireRathdown    73\n",
              "Fingal                  67\n",
              "Dublin 13               44\n",
              "Dublin 18               43\n",
              "Dublin 9                43\n",
              "Dublin 8                41\n",
              "Dublin 15               40\n",
              "Dublin 4                40\n",
              "Dublin 16               37\n",
              "Dublin 24               32\n",
              "Dublin 7                29\n",
              "Dublin 20               25\n",
              "Dublin 3                22\n",
              "Dublin 6w               21\n",
              "Dublin 1                21\n",
              "Dublin 14               20\n",
              "Dublin 12               20\n",
              "Dublin 5                17\n",
              "Dublin 6                16\n",
              "Dublin 22               16\n",
              "Dublin 11               14\n",
              "Dublin 2                10\n",
              "Dublin 17                7\n",
              "Dublin 10                4\n",
              "Name: Location, dtype: int64"
            ]
          },
          "metadata": {},
          "execution_count": 32
        }
      ]
    },
    {
      "cell_type": "code",
      "metadata": {
        "colab": {
          "base_uri": "https://localhost:8080/",
          "height": 300
        },
        "id": "13jbjN3iDmkG",
        "outputId": "bbd23b37-dc70-4333-dc62-81331b82ef7a"
      },
      "source": [
        "fig = plt.figure(figsize=(60,7))\n",
        "fig.add_subplot(2,2,1)\n",
        "sns.countplot(house_train['Location'])\n",
        "fig.add_subplot(2,2,3)\n",
        "sns.countplot(house_test['Location'])\n",
        "plt.tight_layout()"
      ],
      "execution_count": 33,
      "outputs": [
        {
          "output_type": "display_data",
          "data": {
            "image/png": "[encoded data removed]",
            "text/plain": [
              "<Figure size 4320x504 with 2 Axes>"
            ]
          },
          "metadata": {
            "needs_background": "light"
          }
        }
      ]
    },
    {
      "cell_type": "code",
      "metadata": {
        "id": "ujOq4jvqHaG9"
      },
      "source": [
        "# Get one hot encoding of columns area\n",
        "one_hot = pd.get_dummies(house_train['Location'])\n",
        "one_hot_ = pd.get_dummies(house_test['Location'])\n",
        "# Drop column Area as it is now encoded\n",
        "house_test = house_test.drop('Location', axis=1)\n",
        "house_train = house_train.drop('Location', axis=1)\n",
        "# Join the encoded dataframe\n",
        "house_train = house_train.join(one_hot)\n",
        "house_test = house_test.join(one_hot_)"
      ],
      "execution_count": 34,
      "outputs": []
    },
    {
      "cell_type": "code",
      "metadata": {
        "colab": {
          "base_uri": "https://localhost:8080/",
          "height": 597
        },
        "id": "9cnoFjVPP1Au",
        "outputId": "fef1e19c-d7c9-4cd2-fedc-7db1a8ef5a44"
      },
      "source": [
        "plt.figure(figsize=(20, 8))\n",
        "sns.heatmap(house_train[['Dublin 1', 'Dublin 10', 'Dublin 11', 'Dublin 12', 'Dublin 13',\\\n",
        "                        'Dublin 14', 'Dublin 15', 'Dublin 16', 'Dublin 17', 'Dublin 18',\\\n",
        "                        'Dublin 2', 'Dublin 20', 'Dublin 22', 'Dublin 24', 'Dublin 3',\\\n",
        "                        'Dublin 4', 'Dublin 5', 'Dublin 6', 'Dublin 6w', 'Dublin 7', 'Dublin 8',\\\n",
        "                        'Dublin 9', 'DunLaoghaireRathdown', 'Fingal', 'Price']].corr(),annot=True);"
      ],
      "execution_count": 35,
      "outputs": [
        {
          "output_type": "display_data",
          "data": {
            "image/png": "[encoded data removed]",
            "text/plain": [
              "<Figure size 1440x576 with 2 Axes>"
            ]
          },
          "metadata": {
            "needs_background": "light"
          }
        }
      ]
    },
    {
      "cell_type": "code",
      "metadata": {
        "id": "8QlcWZ_LQXAq"
      },
      "source": [
        "location = ['Dublin 1', 'Dublin 10', 'Dublin 11', 'Dublin 12', 'Dublin 13',\n",
        "            'Dublin 14', 'Dublin 15', 'Dublin 16', 'Dublin 17', 'Dublin 18',\n",
        "            'Dublin 2', 'Dublin 20', 'Dublin 22', 'Dublin 24', 'Dublin 3',\n",
        "            'Dublin 4', 'Dublin 5', 'Dublin 6', 'Dublin 6w', 'Dublin 7', 'Dublin 8',\n",
        "                        'Dublin 9', 'DunLaoghaireRathdown', 'Fingal']\n",
        "house_train.drop(location, axis=1, inplace=True)\n",
        "house_test.drop(location, axis=1, inplace=True)"
      ],
      "execution_count": 36,
      "outputs": []
    },
    {
      "cell_type": "markdown",
      "metadata": {
        "id": "gjxXRKZ4Cnfu"
      },
      "source": [
        "Using learning from the past etivity, Location was converted to numerical variables, replacing all characters, from various cities and towns in County Dublin, County Fingal and County Dun Laoghaire-Rathdown to the various Dublin and Counties that they are located. Being Dun Laoghaire and Fingal, the ones with the highest number of properties, follow by Dublin 9, 13 and 24 for the train dataset and 9, 13, and 18. Two from the Nort section of the city and one from the south side in each case. Followed by to a reconfiguration to the correspondent numerical value, when using get_dummies. After checking the correlation of every location individually against price, with no particular outstanding values to be kept, dropped consequently."
      ]
    },
    {
      "cell_type": "markdown",
      "metadata": {
        "id": "lJwdVcCcyEz_"
      },
      "source": [
        "'Num_Bathrooms'"
      ]
    },
    {
      "cell_type": "code",
      "metadata": {
        "colab": {
          "base_uri": "https://localhost:8080/"
        },
        "id": "3XhCR-IgxQ-y",
        "outputId": "359241e3-8610-42d0-b9f5-91225ed2a189"
      },
      "source": [
        "house_train['Num_Bathrooms'].value_counts()"
      ],
      "execution_count": 37,
      "outputs": [
        {
          "output_type": "execute_result",
          "data": {
            "text/plain": [
              "1     603\n",
              "2     584\n",
              "3     327\n",
              "4      76\n",
              "5      24\n",
              "6      11\n",
              "7       6\n",
              "8       3\n",
              "15      2\n",
              "18      1\n",
              "9       1\n",
              "Name: Num_Bathrooms, dtype: int64"
            ]
          },
          "metadata": {},
          "execution_count": 37
        }
      ]
    },
    {
      "cell_type": "code",
      "metadata": {
        "colab": {
          "base_uri": "https://localhost:8080/",
          "height": 248
        },
        "id": "j-FT5tPYIyGI",
        "outputId": "9badbd07-7dc1-4889-911e-6148c124a471"
      },
      "source": [
        "fig = plt.figure(figsize=(20,7))\n",
        "fig.add_subplot(2,2,1)\n",
        "sns.boxplot(x=house_train[\"Num_Bathrooms\"])\n",
        "fig.add_subplot(2,2,2)\n",
        "sns.boxplot(x=house_test[\"Num_Bathrooms\"])\n",
        "plt.tight_layout()"
      ],
      "execution_count": 38,
      "outputs": [
        {
          "output_type": "display_data",
          "data": {
            "image/png": "[encoded data removed]",
            "text/plain": [
              "<Figure size 1440x504 with 2 Axes>"
            ]
          },
          "metadata": {
            "needs_background": "light"
          }
        }
      ]
    },
    {
      "cell_type": "code",
      "metadata": {
        "id": "9c9GbJAWz9N0"
      },
      "source": [
        "house_train['Num_Bathrooms'].values[house_train['Num_Bathrooms'].values > 6 ] = 6\n",
        "house_test['Num_Bathrooms'].values[house_test['Num_Bathrooms'].values > 6 ] = 6"
      ],
      "execution_count": 39,
      "outputs": []
    },
    {
      "cell_type": "markdown",
      "metadata": {
        "id": "HXtiTtyQJw1s"
      },
      "source": [
        "Number of bathrooms was reconfigured to remove the outliers, having all a max of 6 bathrooms per property, having 1 as minimun."
      ]
    },
    {
      "cell_type": "markdown",
      "metadata": {
        "id": "3sxcI4HpyIhx"
      },
      "source": [
        "'Num_Beds'"
      ]
    },
    {
      "cell_type": "code",
      "metadata": {
        "colab": {
          "base_uri": "https://localhost:8080/"
        },
        "id": "BiIt_4_0xRd5",
        "outputId": "56dd8dfe-6c13-495e-e0a5-1024a6edca42"
      },
      "source": [
        "house_train['Num_Beds'].value_counts()"
      ],
      "execution_count": 40,
      "outputs": [
        {
          "output_type": "execute_result",
          "data": {
            "text/plain": [
              "3     558\n",
              "2     464\n",
              "4     348\n",
              "1     114\n",
              "5     107\n",
              "6      29\n",
              "7      11\n",
              "15      2\n",
              "9       2\n",
              "8       2\n",
              "27      1\n",
              "Name: Num_Beds, dtype: int64"
            ]
          },
          "metadata": {},
          "execution_count": 40
        }
      ]
    },
    {
      "cell_type": "code",
      "metadata": {
        "colab": {
          "base_uri": "https://localhost:8080/",
          "height": 248
        },
        "id": "TyxSd1WLM3rQ",
        "outputId": "2d08385a-8ab7-4097-8285-cc99b169dfaf"
      },
      "source": [
        "fig = plt.figure(figsize=(20,7))\n",
        "fig.add_subplot(2,2,1)\n",
        "sns.boxplot(x=house_train[\"Num_Beds\"])\n",
        "fig.add_subplot(2,2,2)\n",
        "sns.boxplot(x=house_test[\"Num_Beds\"])\n",
        "plt.tight_layout()"
      ],
      "execution_count": 41,
      "outputs": [
        {
          "output_type": "display_data",
          "data": {
            "image/png": "[encoded data removed]",
            "text/plain": [
              "<Figure size 1440x504 with 2 Axes>"
            ]
          },
          "metadata": {
            "needs_background": "light"
          }
        }
      ]
    },
    {
      "cell_type": "code",
      "metadata": {
        "id": "wrEvfQ2j0Lgc"
      },
      "source": [
        "house_train['Num_Beds'].values[house_train['Num_Beds'].values > 7 ] = 7\n",
        "house_test['Num_Beds'].values[house_test['Num_Beds'].values > 7 ] = 7"
      ],
      "execution_count": 42,
      "outputs": []
    },
    {
      "cell_type": "markdown",
      "metadata": {
        "id": "EnLmkp5DNDhF"
      },
      "source": [
        "Number of beds was reconfigured to remove the outliers, having all a max of 7 beds per property, having 1 as minimun."
      ]
    },
    {
      "cell_type": "markdown",
      "metadata": {
        "id": "tgCNlc7yydzi"
      },
      "source": [
        "'BER_class'"
      ]
    },
    {
      "cell_type": "code",
      "metadata": {
        "colab": {
          "base_uri": "https://localhost:8080/"
        },
        "id": "Lgvdzx8axRhZ",
        "outputId": "535b8bcc-d3e9-44d3-a744-c1ea6ed62827"
      },
      "source": [
        "house_train['BER_class'].value_counts()"
      ],
      "execution_count": 43,
      "outputs": [
        {
          "output_type": "execute_result",
          "data": {
            "text/plain": [
              "D1                     182\n",
              "D2                     173\n",
              "C3                     154\n",
              "C2                     144\n",
              "C1                     133\n",
              "E1                     110\n",
              "G                      103\n",
              "E2                     101\n",
              "F                       89\n",
              "B3                      78\n",
              "B2                      48\n",
              "A3                      37\n",
              "SINo666of2006exempt     15\n",
              "A2                      12\n",
              "B1                       7\n",
              "A1                       1\n",
              "Name: BER_class, dtype: int64"
            ]
          },
          "metadata": {},
          "execution_count": 43
        }
      ]
    },
    {
      "cell_type": "code",
      "metadata": {
        "colab": {
          "base_uri": "https://localhost:8080/"
        },
        "id": "GTrGJVBMNaeG",
        "outputId": "d96fddbf-edcd-4351-8325-82034f1af274"
      },
      "source": [
        "print(\"Train Dataset Missing Data:\",house_train['BER_class'].isna().sum())\n",
        "print(\"Test Dataset Missing Data:\", house_test['BER_class'].isna().sum())"
      ],
      "execution_count": 44,
      "outputs": [
        {
          "output_type": "stream",
          "name": "stdout",
          "text": [
            "Train Dataset Missing Data: 251\n",
            "Test Dataset Missing Data: 108\n"
          ]
        }
      ]
    },
    {
      "cell_type": "code",
      "metadata": {
        "id": "rIdu6OOUIJmR"
      },
      "source": [
        "house_train['BER_class'].fillna('unknown', inplace=True)\n",
        "house_test['BER_class'].fillna('unknown', inplace=True)"
      ],
      "execution_count": 45,
      "outputs": []
    },
    {
      "cell_type": "code",
      "metadata": {
        "id": "Ui5Am_OczcW4"
      },
      "source": [
        "ber_classification_mapper = {\n",
        "    \"A1\": 1,\n",
        "    \"A2\": 2,\n",
        "    \"A3\": 3,\n",
        "    \"B1\": 4,\n",
        "    \"B2\": 5,\n",
        "    \"B3\": 6,\n",
        "    \"C1\": 7,\n",
        "    \"C2\": 8,\n",
        "    \"C3\": 9,\n",
        "    \"D1\": 10,\n",
        "    \"D2\": 11,\n",
        "    \"E1\": 12,\n",
        "    \"E2\": 13,\n",
        "    \"F\": 14,\n",
        "    \"G\": 15,\n",
        "    \"SINo666of2006exempt\": 16,\n",
        "    \"unknown\": 17\n",
        "}\n",
        "house_train['BER_class'] = house_train['BER_class'].replace(ber_classification_mapper)\n",
        "house_test['BER_class'] = house_test['BER_class'].replace(ber_classification_mapper)"
      ],
      "execution_count": 46,
      "outputs": []
    },
    {
      "cell_type": "code",
      "metadata": {
        "colab": {
          "base_uri": "https://localhost:8080/",
          "height": 325
        },
        "id": "whnsxCPGWxwN",
        "outputId": "ccc48a91-0b0e-4e18-fbea-166ef763b9d3"
      },
      "source": [
        "plt.figure(figsize=(20,5))\n",
        "sns.heatmap(house_train[['BER_class', 'Price']].corr(), square=True, annot=True);"
      ],
      "execution_count": 71,
      "outputs": [
        {
          "output_type": "display_data",
          "data": {
            "image/png": "[encoded data removed]",
            "text/plain": [
              "<Figure size 1440x360 with 2 Axes>"
            ]
          },
          "metadata": {
            "needs_background": "light"
          }
        }
      ]
    },
    {
      "cell_type": "code",
      "metadata": {
        "id": "c6-wUr9tWxni"
      },
      "source": [
        "house_train.drop('BER_class', axis=1, inplace=True)\n",
        "house_test.drop('BER_class', axis=1, inplace=True)"
      ],
      "execution_count": 72,
      "outputs": []
    },
    {
      "cell_type": "markdown",
      "metadata": {
        "id": "-NzBTZluNYTi"
      },
      "source": [
        "`BER_classification` contained ~15% of missing values that were filled up with Unknown, as they represent a significant amount that can modify other categories within it. They were converted to numerical variables, replacing the 17 characters. It doesn't seem to be a strong correlation between Proce and Ber Class, so feature is was dropped."
      ]
    },
    {
      "cell_type": "markdown",
      "metadata": {
        "id": "taqgN5CnybY2"
      },
      "source": [
        "'Description'"
      ]
    },
    {
      "cell_type": "code",
      "metadata": {
        "colab": {
          "base_uri": "https://localhost:8080/"
        },
        "id": "Vpq9q8loxRlG",
        "outputId": "3b98d85c-afc5-4c2a-a6ab-cb30cb0f70ea"
      },
      "source": [
        "house_train['Description'].head()"
      ],
      "execution_count": 47,
      "outputs": [
        {
          "output_type": "execute_result",
          "data": {
            "text/plain": [
              "0    DNG are delighted to present to the market no....\n",
              "1    13 Northbrook Terrace is a charming red brick ...\n",
              "2    Welcome to No. 6 Cotter Close, an immaculately...\n",
              "3    Welcome to 3 Sycamore Walk!\\n\\r\\nEnjoying a pr...\n",
              "4    'Four Seasons' comes to the market as a wonder...\n",
              "Name: Description, dtype: object"
            ]
          },
          "metadata": {},
          "execution_count": 47
        }
      ]
    },
    {
      "cell_type": "markdown",
      "metadata": {
        "id": "X0rKk1N-REpm"
      },
      "source": [
        "`Description` is Free text, that will be processed using NLP"
      ]
    },
    {
      "cell_type": "markdown",
      "metadata": {
        "id": "rPt9BnSUyZCD"
      },
      "source": [
        "'Services'"
      ]
    },
    {
      "cell_type": "code",
      "metadata": {
        "colab": {
          "base_uri": "https://localhost:8080/"
        },
        "id": "uXOscajzxRob",
        "outputId": "310d621c-604a-49a8-fa69-1c0493332202"
      },
      "source": [
        "house_train['Services'].value_counts()"
      ],
      "execution_count": 48,
      "outputs": [
        {
          "output_type": "execute_result",
          "data": {
            "text/plain": [
              "Parking,Gas Fired Central Heating                                                               118\n",
              "Parking                                                                                          77\n",
              "Parking,Gas Fired Central Heating,Wired for Cable Television                                     74\n",
              "Parking,Gas Fired Central Heating,Alarm,Wired for Cable Television                               62\n",
              "Parking,Gas Fired Central Heating,Alarm                                                          57\n",
              "Parking,Wired for Cable Television                                                               35\n",
              "Gas Fired Central Heating                                                                        25\n",
              "Parking,Gas Fired Central Heating,Alarm,Wired for Cable Television,Wheelchair Access             12\n",
              "Parking,Alarm                                                                                    12\n",
              "Parking,Oil Fired Central Heating                                                                12\n",
              "Parking,Alarm,Wired for Cable Television,Oil Fired Central Heating                               10\n",
              "Parking,Alarm,Wired for Cable Television                                                          8\n",
              "Parking,Wired for Cable Television,Oil Fired Central Heating                                      8\n",
              "Alarm                                                                                             7\n",
              "Parking,Alarm,Oil Fired Central Heating                                                           7\n",
              "Wired for Cable Television                                                                        7\n",
              "Parking,Gas Fired Central Heating,Wired for Cable Television,Wheelchair Access                    6\n",
              "Gas Fired Central Heating,Alarm                                                                   6\n",
              "Gas Fired Central Heating,Alarm,Wired for Cable Television                                        5\n",
              "Gas Fired Central Heating,Wired for Cable Television                                              5\n",
              "Parking,Gas Fired Central Heating,Wheelchair Access                                               5\n",
              "Parking,Wired for Cable Television,Wheelchair Access                                              4\n",
              "Alarm,Wired for Cable Television                                                                  3\n",
              "Parking,Alarm,Wired for Cable Television,Wheelchair Access                                        2\n",
              "Parking,Wired for Cable Television,Wheelchair Access,Oil Fired Central Heating                    2\n",
              "Oil Fired Central Heating                                                                         2\n",
              "Parking,Gas Fired Central Heating,Alarm,Wheelchair Access                                         2\n",
              "Parking,Wheelchair Access                                                                         1\n",
              "Gas Fired Central Heating,Alarm,Wired for Cable Television,Wheelchair Access                      1\n",
              "Alarm,Oil Fired Central Heating                                                                   1\n",
              "Parking,Gas Fired Central Heating,Alarm,Wired for Cable Television,Oil Fired Central Heating      1\n",
              "Name: Services, dtype: int64"
            ]
          },
          "metadata": {},
          "execution_count": 48
        }
      ]
    },
    {
      "cell_type": "code",
      "metadata": {
        "id": "2Lh716421mQw"
      },
      "source": [
        "house_train[\"Alarm\"] = house_train[\"Services\"].str.contains(\"Alarm\").fillna(\"No\")\n",
        "house_train[\"Alarm\"].replace({True : \"Yes\", False : \"No\"}, inplace=True)\n",
        "alarm_mapper = {\"Yes\": 0,\"No\": 1}\n",
        "house_train['Alarm'] = house_train['Alarm'].replace(alarm_mapper)\n",
        "\n",
        "house_train[\"GasFiredCentralHeating\"] = house_train[\"Services\"].str.contains(\"Gas Fired Central Heating\").fillna(\"No\")\n",
        "house_train[\"GasFiredCentralHeating\"].replace({True : \"Yes\", False : \"No\"}, inplace=True)\n",
        "GasFiredCentralHeating_mapper = {\"Yes\": 0,\"No\": 1}\n",
        "house_train['GasFiredCentralHeating'] = house_train['GasFiredCentralHeating'].replace(GasFiredCentralHeating_mapper)\n",
        "\n",
        "house_train[\"Parking\"] = house_train[\"Services\"].str.contains(\"Parking\").fillna(\"No\")\n",
        "house_train[\"Parking\"].replace({True : \"Yes\", False : \"No\"}, inplace=True)\n",
        "parking_mapper = {\"Yes\": 0,\"No\": 1}\n",
        "house_train['Parking'] = house_train['Parking'].replace(parking_mapper)\n",
        "\n",
        "house_train[\"OilFiredCentralHeating\"] = house_train[\"Services\"].str.contains(\"Oil Fired Central Heating\").fillna(\"No\")\n",
        "house_train[\"OilFiredCentralHeating\"].replace({True : \"Yes\", False : \"No\"}, inplace=True)\n",
        "OilFiredCentralHeating_mapper = {\"Yes\": 0,\"No\": 1}\n",
        "house_train['OilFiredCentralHeating'] = house_train['OilFiredCentralHeating'].replace(OilFiredCentralHeating_mapper)\n",
        "\n",
        "house_train[\"WheelchairAccess\"] = house_train[\"Services\"].str.contains(\"Wheelchair Access\").fillna(\"No\")\n",
        "house_train[\"WheelchairAccess\"].replace({True : \"Yes\", False : \"No\"}, inplace=True)\n",
        "WheelchairAccess_mapper = {\"Yes\": 0,\"No\": 1}\n",
        "house_train['WheelchairAccess'] = house_train['WheelchairAccess'].replace(WheelchairAccess_mapper)\n",
        "\n",
        "house_train[\"WiredForCableTelevision\"] = house_train[\"Services\"].str.contains(\"Wired for Cable Television\").fillna(\"No\")\n",
        "house_train[\"WiredForCableTelevision\"].replace({True : \"Yes\", False : \"No\"}, inplace=True)\n",
        "WiredForCableTelevision_mapper = {\"Yes\": 0,\"No\": 1}\n",
        "house_train['WiredForCableTelevision'] = house_train['WiredForCableTelevision'].replace(WiredForCableTelevision_mapper)"
      ],
      "execution_count": 49,
      "outputs": []
    },
    {
      "cell_type": "code",
      "metadata": {
        "id": "nyudFge2_-Qh"
      },
      "source": [
        "house_test[\"Alarm\"] = house_test[\"Services\"].str.contains(\"Alarm\").fillna(\"No\")\n",
        "house_test[\"Alarm\"].replace({True : \"Yes\", False : \"No\"}, inplace=True)\n",
        "alarm_mapper = {\"Yes\": 0,\"No\": 1}\n",
        "house_test['Alarm'] = house_test['Alarm'].replace(alarm_mapper)\n",
        "\n",
        "house_test[\"GasFiredCentralHeating\"] = house_test[\"Services\"].str.contains(\"Gas Fired Central Heating\").fillna(\"No\")\n",
        "house_test[\"GasFiredCentralHeating\"].replace({True : \"Yes\", False : \"No\"}, inplace=True)\n",
        "GasFiredCentralHeating_mapper = {\"Yes\": 0,\"No\": 1}\n",
        "house_test['GasFiredCentralHeating'] = house_test['GasFiredCentralHeating'].replace(GasFiredCentralHeating_mapper)\n",
        "\n",
        "house_test[\"Parking\"] = house_test[\"Services\"].str.contains(\"Parking\").fillna(\"No\")\n",
        "house_test[\"Parking\"].replace({True : \"Yes\", False : \"No\"}, inplace=True)\n",
        "parking_mapper = {\"Yes\": 0,\"No\": 1}\n",
        "house_test['Parking'] = house_test['Parking'].replace(parking_mapper)\n",
        "\n",
        "house_test[\"OilFiredCentralHeating\"] = house_test[\"Services\"].str.contains(\"Oil Fired Central Heating\").fillna(\"No\")\n",
        "house_test[\"OilFiredCentralHeating\"].replace({True : \"Yes\", False : \"No\"}, inplace=True)\n",
        "OilFiredCentralHeating_mapper = {\"Yes\": 0,\"No\": 1}\n",
        "house_test['OilFiredCentralHeating'] = house_test['OilFiredCentralHeating'].replace(OilFiredCentralHeating_mapper)\n",
        "\n",
        "house_test[\"WheelchairAccess\"] = house_test[\"Services\"].str.contains(\"Wheelchair Access\").fillna(\"No\")\n",
        "house_test[\"WheelchairAccess\"].replace({True : \"Yes\", False : \"No\"}, inplace=True)\n",
        "WheelchairAccess_mapper = {\"Yes\": 0,\"No\": 1}\n",
        "house_test['WheelchairAccess'] = house_test['WheelchairAccess'].replace(WheelchairAccess_mapper)\n",
        "\n",
        "house_test[\"WiredForCableTelevision\"] = house_test[\"Services\"].str.contains(\"Wired for Cable Television\").fillna(\"No\")\n",
        "house_test[\"WiredForCableTelevision\"].replace({True : \"Yes\", False : \"No\"}, inplace=True)\n",
        "WiredForCableTelevision_mapper = {\"Yes\": 0,\"No\": 1}\n",
        "house_test['WiredForCableTelevision'] = house_test['WiredForCableTelevision'].replace(WiredForCableTelevision_mapper)"
      ],
      "execution_count": 50,
      "outputs": []
    },
    {
      "cell_type": "code",
      "metadata": {
        "colab": {
          "base_uri": "https://localhost:8080/"
        },
        "id": "CZRa_wENTZwY",
        "outputId": "1e3e2ecc-f625-477d-f6de-2564be924eff"
      },
      "source": [
        "services = ['Alarm', 'GasFiredCentralHeating', 'Parking', 'OilFiredCentralHeating', 'WheelchairAccess', 'WiredForCableTelevision']\n",
        "for i in services:\n",
        "  print(house_train[i].value_counts())"
      ],
      "execution_count": 51,
      "outputs": [
        {
          "output_type": "stream",
          "name": "stdout",
          "text": [
            "1    1442\n",
            "0     196\n",
            "Name: Alarm, dtype: int64\n",
            "1    1259\n",
            "0     379\n",
            "Name: GasFiredCentralHeating, dtype: int64\n",
            "1    1123\n",
            "0     515\n",
            "Name: Parking, dtype: int64\n",
            "1    1595\n",
            "0      43\n",
            "Name: OilFiredCentralHeating, dtype: int64\n",
            "1    1603\n",
            "0      35\n",
            "Name: WheelchairAccess, dtype: int64\n",
            "1    1393\n",
            "0     245\n",
            "Name: WiredForCableTelevision, dtype: int64\n"
          ]
        }
      ]
    },
    {
      "cell_type": "code",
      "metadata": {
        "colab": {
          "base_uri": "https://localhost:8080/",
          "height": 205
        },
        "id": "DOwwOevyTAtw",
        "outputId": "73d5b6ad-06d6-4451-dd30-3fa0d056ad58"
      },
      "source": [
        "house_train[['Alarm', 'GasFiredCentralHeating', 'Parking', 'OilFiredCentralHeating', 'WheelchairAccess', 'WiredForCableTelevision']].head()"
      ],
      "execution_count": 52,
      "outputs": [
        {
          "output_type": "execute_result",
          "data": {
            "text/html": [
              "<div>\n",
              "<style scoped>\n",
              "    .dataframe tbody tr th:only-of-type {\n",
              "        vertical-align: middle;\n",
              "    }\n",
              "\n",
              "    .dataframe tbody tr th {\n",
              "        vertical-align: top;\n",
              "    }\n",
              "\n",
              "    .dataframe thead th {\n",
              "        text-align: right;\n",
              "    }\n",
              "</style>\n",
              "<table border=\"1\" class=\"dataframe\">\n",
              "  <thead>\n",
              "    <tr style=\"text-align: right;\">\n",
              "      <th></th>\n",
              "      <th>Alarm</th>\n",
              "      <th>GasFiredCentralHeating</th>\n",
              "      <th>Parking</th>\n",
              "      <th>OilFiredCentralHeating</th>\n",
              "      <th>WheelchairAccess</th>\n",
              "      <th>WiredForCableTelevision</th>\n",
              "    </tr>\n",
              "  </thead>\n",
              "  <tbody>\n",
              "    <tr>\n",
              "      <th>0</th>\n",
              "      <td>1</td>\n",
              "      <td>1</td>\n",
              "      <td>1</td>\n",
              "      <td>1</td>\n",
              "      <td>1</td>\n",
              "      <td>1</td>\n",
              "    </tr>\n",
              "    <tr>\n",
              "      <th>1</th>\n",
              "      <td>1</td>\n",
              "      <td>1</td>\n",
              "      <td>1</td>\n",
              "      <td>1</td>\n",
              "      <td>1</td>\n",
              "      <td>1</td>\n",
              "    </tr>\n",
              "    <tr>\n",
              "      <th>2</th>\n",
              "      <td>1</td>\n",
              "      <td>1</td>\n",
              "      <td>1</td>\n",
              "      <td>1</td>\n",
              "      <td>1</td>\n",
              "      <td>1</td>\n",
              "    </tr>\n",
              "    <tr>\n",
              "      <th>3</th>\n",
              "      <td>1</td>\n",
              "      <td>1</td>\n",
              "      <td>1</td>\n",
              "      <td>1</td>\n",
              "      <td>1</td>\n",
              "      <td>1</td>\n",
              "    </tr>\n",
              "    <tr>\n",
              "      <th>4</th>\n",
              "      <td>1</td>\n",
              "      <td>1</td>\n",
              "      <td>1</td>\n",
              "      <td>1</td>\n",
              "      <td>1</td>\n",
              "      <td>1</td>\n",
              "    </tr>\n",
              "  </tbody>\n",
              "</table>\n",
              "</div>"
            ],
            "text/plain": [
              "   Alarm  GasFiredCentralHeating  ...  WheelchairAccess  WiredForCableTelevision\n",
              "0      1                       1  ...                 1                        1\n",
              "1      1                       1  ...                 1                        1\n",
              "2      1                       1  ...                 1                        1\n",
              "3      1                       1  ...                 1                        1\n",
              "4      1                       1  ...                 1                        1\n",
              "\n",
              "[5 rows x 6 columns]"
            ]
          },
          "metadata": {},
          "execution_count": 52
        }
      ]
    },
    {
      "cell_type": "code",
      "metadata": {
        "colab": {
          "base_uri": "https://localhost:8080/",
          "height": 435
        },
        "id": "yE9WdJ31cDXu",
        "outputId": "d5643fae-d9d8-4959-e0b1-405332bc8b68"
      },
      "source": [
        "plt.figure(figsize=(20,5))\n",
        "sns.heatmap(house_train[['Alarm','GasFiredCentralHeating','Parking','OilFiredCentralHeating','WheelchairAccess','WiredForCableTelevision','Price']].corr(), square=True, annot=True);"
      ],
      "execution_count": 53,
      "outputs": [
        {
          "output_type": "display_data",
          "data": {
            "image/png": "[encoded data removed]",
            "text/plain": [
              "<Figure size 1440x360 with 2 Axes>"
            ]
          },
          "metadata": {
            "needs_background": "light"
          }
        }
      ]
    },
    {
      "cell_type": "code",
      "metadata": {
        "id": "x85SFmTCaQJB"
      },
      "source": [
        "services = ['Services','Alarm','GasFiredCentralHeating','Parking','OilFiredCentralHeating','WheelchairAccess','WiredForCableTelevision']\n",
        "house_train.drop(services, axis=1, inplace=True)\n",
        "house_test.drop(services, axis=1, inplace=True)"
      ],
      "execution_count": 54,
      "outputs": []
    },
    {
      "cell_type": "markdown",
      "metadata": {
        "id": "5gpUHoyORA8n"
      },
      "source": [
        "The `Services` feature contains information about particular amenities or facilities available in every property, described as follow:\n",
        "- Alarm\n",
        "- GasFiredCentralHeating\n",
        "- Parking\n",
        "- OilFiredCentralHeating\n",
        "- WheelchairAccess\n",
        "- WiredForCableTelevision\n",
        "\n",
        "They were preprocessed finding the correspondent service in the available information, to then adding a `Yes` or `No` to that service in the property. Next, they were mapped to its numerical value. Having in mind that ~64% of the data point are missing, this process removes them filling them with 0 to represent the no information about this value. Considering dropping variable, as even after preprocessing doesn't bring significant value to the evaluation. But very interesting to notice how Parking and Gas Fired Central Heating are the ones with the highest correlation to Price but not strong enough to keeo that feature, consequently dropping them all.\n",
        "\n"
      ]
    },
    {
      "cell_type": "markdown",
      "metadata": {
        "id": "DKnB_KZvyXYQ"
      },
      "source": [
        "'Features' "
      ]
    },
    {
      "cell_type": "code",
      "metadata": {
        "colab": {
          "base_uri": "https://localhost:8080/"
        },
        "id": "FV702kMPxRrw",
        "outputId": "ba40a557-747a-4cbd-d49a-e42a6c47dc56"
      },
      "source": [
        "house_train['Features'].head()"
      ],
      "execution_count": 55,
      "outputs": [
        {
          "output_type": "execute_result",
          "data": {
            "text/plain": [
              "0                                                 None\n",
              "1    Bight and Spacious interior\\nNumerous original...\n",
              "2    Special Features\\nLarge rear garden\\nGenerous ...\n",
              "3    Wonderful 3 bed detached bungalow.     \\nAccom...\n",
              "4    Detached Property      \\nDouble Glazed Windows...\n",
              "Name: Features, dtype: object"
            ]
          },
          "metadata": {},
          "execution_count": 55
        }
      ]
    },
    {
      "cell_type": "markdown",
      "metadata": {
        "id": "gqXopunvV_qh"
      },
      "source": [
        "`Features` is Free text, that will be processed using NLP"
      ]
    },
    {
      "cell_type": "markdown",
      "metadata": {
        "id": "ptGN3ZXVyVcW"
      },
      "source": [
        "'Latitude' & 'Longitude'"
      ]
    },
    {
      "cell_type": "code",
      "metadata": {
        "colab": {
          "base_uri": "https://localhost:8080/",
          "height": 216
        },
        "id": "eB78VTiDanBb",
        "outputId": "fcfd0853-d63f-412a-db6e-aca2f676f628"
      },
      "source": [
        "fig = plt.figure(figsize=(16,5))\n",
        "fig.add_subplot(2,2,1)\n",
        "sns.scatterplot(house_train['Latitude'],house_train['Price'])\n",
        "fig.add_subplot(2,2,2)\n",
        "sns.scatterplot(house_train['Longitude'],house_train['Price'])\n",
        "plt.tight_layout()"
      ],
      "execution_count": 56,
      "outputs": [
        {
          "output_type": "display_data",
          "data": {
            "image/png": "[encoded data removed]",
            "text/plain": [
              "<Figure size 1152x360 with 2 Axes>"
            ]
          },
          "metadata": {
            "needs_background": "light"
          }
        }
      ]
    },
    {
      "cell_type": "code",
      "metadata": {
        "id": "ciSwh0mMAp95"
      },
      "source": [
        "# Removing location that are outside of Ireland \n",
        "house_train = house_train.drop(house_train[house_train['Latitude'] < 52].index)\n",
        "house_train = house_train.drop(house_train[house_train['Longitude'] > -4].index)\n",
        "\n",
        "house_test = house_test.drop(house_test[house_test['Latitude'] < 52].index)\n",
        "house_test = house_test.drop(house_test[house_test['Longitude'] > -4].index)"
      ],
      "execution_count": 57,
      "outputs": []
    },
    {
      "cell_type": "code",
      "metadata": {
        "colab": {
          "base_uri": "https://localhost:8080/",
          "height": 210
        },
        "id": "R6Vj8TocbTrB",
        "outputId": "879e07d5-b3a6-48ed-ad6d-41d11063042a"
      },
      "source": [
        "fig = plt.figure(figsize=(16,5))\n",
        "fig.add_subplot(2,2,1)\n",
        "sns.scatterplot(data=house_train,x='Latitude', y='Longitude', hue='Latitude')\n",
        "fig.add_subplot(2,2,2)\n",
        "sns.scatterplot(data=house_test,x='Latitude', y='Longitude', hue='Latitude')\n",
        "plt.tight_layout()"
      ],
      "execution_count": 58,
      "outputs": [
        {
          "output_type": "display_data",
          "data": {
            "image/png": "[encoded data removed]",
            "text/plain": [
              "<Figure size 1152x360 with 2 Axes>"
            ]
          },
          "metadata": {
            "needs_background": "light"
          }
        }
      ]
    },
    {
      "cell_type": "markdown",
      "metadata": {
        "id": "VhmydXaKbmkV"
      },
      "source": [
        "For `Latitude` and `Longitude` we can see an outlier, dropped by removing data points < 52 and lower -4."
      ]
    },
    {
      "cell_type": "markdown",
      "metadata": {
        "id": "1hDZeLduyQK2"
      },
      "source": [
        "'Type'"
      ]
    },
    {
      "cell_type": "code",
      "metadata": {
        "colab": {
          "base_uri": "https://localhost:8080/"
        },
        "id": "LjWT4IcJxR2g",
        "outputId": "ac5b9ff2-c899-4105-ebe0-7e2ddee43026"
      },
      "source": [
        "house_train['Type'].value_counts()"
      ],
      "execution_count": 59,
      "outputs": [
        {
          "output_type": "execute_result",
          "data": {
            "text/plain": [
              "semi-detached     457\n",
              "apartment         431\n",
              "terraced          299\n",
              "detached          234\n",
              "end-of-terrace    118\n",
              "bungalow           48\n",
              "duplex             33\n",
              "townhouse          14\n",
              "studio              2\n",
              "site                1\n",
              "Name: Type, dtype: int64"
            ]
          },
          "metadata": {},
          "execution_count": 59
        }
      ]
    },
    {
      "cell_type": "code",
      "metadata": {
        "id": "1DgfHUOPzq4F"
      },
      "source": [
        "property_type_mapper = {\n",
        "    \"apartment\": 1,\n",
        "    \"bungalow\": 5,\n",
        "    \"detached\": 9,\n",
        "    \"duplex\": 2,\n",
        "    \"end-of-terrace\": 6,\n",
        "    \"semi-detached\": 8,\n",
        "    \"site\": 3,\n",
        "    \"studio\": 0,\n",
        "    \"terraced\": 4,\n",
        "    \"townhouse\": 7\n",
        "}\n",
        "house_train['Type'] = house_train['Type'].replace(property_type_mapper)\n",
        "house_test['Type'] = house_test['Type'].replace(property_type_mapper)"
      ],
      "execution_count": 60,
      "outputs": []
    },
    {
      "cell_type": "markdown",
      "metadata": {
        "id": "vlnj7MJ0hMvl"
      },
      "source": [
        "Property Type was converted to numerical variables, replacing the 10 characters using a mapper"
      ]
    },
    {
      "cell_type": "markdown",
      "metadata": {
        "id": "zCVR66_CyMnS"
      },
      "source": [
        "'Surface'"
      ]
    },
    {
      "cell_type": "code",
      "metadata": {
        "colab": {
          "base_uri": "https://localhost:8080/",
          "height": 369
        },
        "id": "C0kTfvm1EX4F",
        "outputId": "99abe094-a0e8-4424-8da3-22c76b824aff"
      },
      "source": [
        "surface_counts = house_train['Surface'].value_counts()\n",
        "sns.relplot(data=house_train, kind=\"line\", x=\"Surface\", y=surface_counts, facet_kws=dict(sharex=False));"
      ],
      "execution_count": 61,
      "outputs": [
        {
          "output_type": "display_data",
          "data": {
            "image/png": "[encoded data removed]",
            "text/plain": [
              "<Figure size 360x360 with 1 Axes>"
            ]
          },
          "metadata": {
            "needs_background": "light"
          }
        }
      ]
    },
    {
      "cell_type": "code",
      "metadata": {
        "id": "_hA20G_CA1vb"
      },
      "source": [
        "house_train['Surface'].values[house_train['Surface'].values > 350] = 353\n",
        "house_test['Surface'].values[house_test['Surface'].values > 350] = 350"
      ],
      "execution_count": 62,
      "outputs": []
    },
    {
      "cell_type": "markdown",
      "metadata": {
        "id": "52OBnqOrU4W3"
      },
      "source": [
        "`Surface` was reconfigured to remove the outliers, having all a max of 350 sqm per property"
      ]
    },
    {
      "cell_type": "code",
      "metadata": {
        "colab": {
          "base_uri": "https://localhost:8080/",
          "height": 1000
        },
        "id": "RjXJhD4gA-jf",
        "outputId": "035a662c-ca44-4a0d-dc9c-9e3c4c104a88"
      },
      "source": [
        "# Representation of the summary of the set of data values \n",
        "features = house_train.drop(['Index','Description', 'Features'], axis=1)\n",
        "fig = plt.figure(figsize=(20,(len(features))*5))\n",
        "sns.color_palette(\"viridis\", as_cmap=True)\n",
        "for i in features: \n",
        "  # creating a figure composed of two matplotlib.Axes objects (ax_box and ax_hist)\n",
        "  f, (ax_box, ax_hist) = plt.subplots(2,1, sharex=True, gridspec_kw={\"height_ratios\": (.15, .85)})\n",
        "  \n",
        "  # assigning a graph to each ax\n",
        "  sns.boxplot(house_train[i], ax=ax_box, color=\"gold\")\n",
        "  sns.histplot(data=house_train, x=i, ax=ax_hist, color=\"teal\")\n",
        "  \n",
        "  # Remove x axis name for the boxplot\n",
        "  ax_box.set(xlabel='')\n",
        "\n",
        "plt.show();"
      ],
      "execution_count": 73,
      "outputs": [
        {
          "output_type": "display_data",
          "data": {
            "text/plain": [
              "<Figure size 1440x589320 with 0 Axes>"
            ]
          },
          "metadata": {}
        },
        {
          "output_type": "display_data",
          "data": {
            "image/png": "[encoded data removed]",
            "text/plain": [
              "<Figure size 432x288 with 2 Axes>"
            ]
          },
          "metadata": {
            "needs_background": "light"
          }
        },
        {
          "output_type": "display_data",
          "data": {
            "image/png": "[encoded data removed]",
            "text/plain": [
              "<Figure size 432x288 with 2 Axes>"
            ]
          },
          "metadata": {
            "needs_background": "light"
          }
        },
        {
          "output_type": "display_data",
          "data": {
            "image/png": "[encoded data removed]",
            "text/plain": [
              "<Figure size 432x288 with 2 Axes>"
            ]
          },
          "metadata": {
            "needs_background": "light"
          }
        },
        {
          "output_type": "display_data",
          "data": {
            "image/png": "[encoded data removed]",
            "text/plain": [
              "<Figure size 432x288 with 2 Axes>"
            ]
          },
          "metadata": {
            "needs_background": "light"
          }
        },
        {
          "output_type": "display_data",
          "data": {
            "image/png": "[encoded data removed]",
            "text/plain": [
              "<Figure size 432x288 with 2 Axes>"
            ]
          },
          "metadata": {
            "needs_background": "light"
          }
        },
        {
          "output_type": "display_data",
          "data": {
            "image/png": "[encoded data removed]",
            "text/plain": [
              "<Figure size 432x288 with 2 Axes>"
            ]
          },
          "metadata": {
            "needs_background": "light"
          }
        },
        {
          "output_type": "display_data",
          "data": {
            "image/png": "[encoded data removed]",
            "text/plain": [
              "<Figure size 432x288 with 2 Axes>"
            ]
          },
          "metadata": {
            "needs_background": "light"
          }
        }
      ]
    },
    {
      "cell_type": "code",
      "metadata": {
        "colab": {
          "base_uri": "https://localhost:8080/"
        },
        "id": "C3biS3sGHymE",
        "outputId": "770f7252-17d0-4bf4-c195-88627072c69c"
      },
      "source": [
        "# Missing Values\n",
        "print('Train Data Missing Values')\n",
        "print(house_train.isna().sum())\n",
        "print('')\n",
        "print('Test Data Missing Values')\n",
        "print(house_test.isna().sum())"
      ],
      "execution_count": 74,
      "outputs": [
        {
          "output_type": "stream",
          "name": "stdout",
          "text": [
            "Train Data Missing Values\n",
            "Index            0\n",
            "Num_Bathrooms    0\n",
            "Num_Beds         0\n",
            "Description      0\n",
            "Features         0\n",
            "Latitude         0\n",
            "Longitude        0\n",
            "Type             0\n",
            "Surface          0\n",
            "Price            0\n",
            "dtype: int64\n",
            "\n",
            "Test Data Missing Values\n",
            "Index            0\n",
            "Num_Bathrooms    0\n",
            "Num_Beds         0\n",
            "Description      0\n",
            "Features         0\n",
            "Latitude         0\n",
            "Longitude        0\n",
            "Type             0\n",
            "Surface          0\n",
            "dtype: int64\n"
          ]
        }
      ]
    },
    {
      "cell_type": "code",
      "metadata": {
        "colab": {
          "base_uri": "https://localhost:8080/"
        },
        "id": "YvSCW68rZ2bn",
        "outputId": "7befc5e5-8345-41fa-d326-94e64bd22780"
      },
      "source": [
        "house_train.info()"
      ],
      "execution_count": 75,
      "outputs": [
        {
          "output_type": "stream",
          "name": "stdout",
          "text": [
            "<class 'pandas.core.frame.DataFrame'>\n",
            "Int64Index: 1637 entries, 0 to 1637\n",
            "Data columns (total 10 columns):\n",
            " #   Column         Non-Null Count  Dtype  \n",
            "---  ------         --------------  -----  \n",
            " 0   Index          1637 non-null   int64  \n",
            " 1   Num_Bathrooms  1637 non-null   int64  \n",
            " 2   Num_Beds       1637 non-null   int64  \n",
            " 3   Description    1637 non-null   object \n",
            " 4   Features       1637 non-null   object \n",
            " 5   Latitude       1637 non-null   float64\n",
            " 6   Longitude      1637 non-null   float64\n",
            " 7   Type           1637 non-null   int64  \n",
            " 8   Surface        1637 non-null   float64\n",
            " 9   Price          1637 non-null   int64  \n",
            "dtypes: float64(3), int64(5), object(2)\n",
            "memory usage: 220.7+ KB\n"
          ]
        }
      ]
    },
    {
      "cell_type": "code",
      "metadata": {
        "colab": {
          "base_uri": "https://localhost:8080/"
        },
        "id": "9RRNtCuIUEdb",
        "outputId": "9bb56a37-b4eb-4835-dd7f-b46accd97388"
      },
      "source": [
        "house_test.info()"
      ],
      "execution_count": 76,
      "outputs": [
        {
          "output_type": "stream",
          "name": "stdout",
          "text": [
            "<class 'pandas.core.frame.DataFrame'>\n",
            "Int64Index: 702 entries, 0 to 701\n",
            "Data columns (total 9 columns):\n",
            " #   Column         Non-Null Count  Dtype  \n",
            "---  ------         --------------  -----  \n",
            " 0   Index          702 non-null    int64  \n",
            " 1   Num_Bathrooms  702 non-null    int64  \n",
            " 2   Num_Beds       702 non-null    int64  \n",
            " 3   Description    702 non-null    object \n",
            " 4   Features       702 non-null    object \n",
            " 5   Latitude       702 non-null    float64\n",
            " 6   Longitude      702 non-null    float64\n",
            " 7   Type           702 non-null    int64  \n",
            " 8   Surface        702 non-null    float64\n",
            "dtypes: float64(3), int64(4), object(2)\n",
            "memory usage: 74.8+ KB\n"
          ]
        }
      ]
    },
    {
      "cell_type": "code",
      "metadata": {
        "colab": {
          "base_uri": "https://localhost:8080/",
          "height": 299
        },
        "id": "4rulolRWWbPw",
        "outputId": "84b330e8-43cc-4142-a322-078667c4c283"
      },
      "source": [
        "house_train.describe()"
      ],
      "execution_count": 77,
      "outputs": [
        {
          "output_type": "execute_result",
          "data": {
            "text/html": [
              "<div>\n",
              "<style scoped>\n",
              "    .dataframe tbody tr th:only-of-type {\n",
              "        vertical-align: middle;\n",
              "    }\n",
              "\n",
              "    .dataframe tbody tr th {\n",
              "        vertical-align: top;\n",
              "    }\n",
              "\n",
              "    .dataframe thead th {\n",
              "        text-align: right;\n",
              "    }\n",
              "</style>\n",
              "<table border=\"1\" class=\"dataframe\">\n",
              "  <thead>\n",
              "    <tr style=\"text-align: right;\">\n",
              "      <th></th>\n",
              "      <th>Index</th>\n",
              "      <th>Num_Bathrooms</th>\n",
              "      <th>Num_Beds</th>\n",
              "      <th>Latitude</th>\n",
              "      <th>Longitude</th>\n",
              "      <th>Type</th>\n",
              "      <th>Surface</th>\n",
              "      <th>Price</th>\n",
              "    </tr>\n",
              "  </thead>\n",
              "  <tbody>\n",
              "    <tr>\n",
              "      <th>count</th>\n",
              "      <td>1637.000000</td>\n",
              "      <td>1637.000000</td>\n",
              "      <td>1637.000000</td>\n",
              "      <td>1637.000000</td>\n",
              "      <td>1637.000000</td>\n",
              "      <td>1637.000000</td>\n",
              "      <td>1637.000000</td>\n",
              "      <td>1.637000e+03</td>\n",
              "    </tr>\n",
              "    <tr>\n",
              "      <th>mean</th>\n",
              "      <td>819.783140</td>\n",
              "      <td>2.027489</td>\n",
              "      <td>3.017715</td>\n",
              "      <td>53.350991</td>\n",
              "      <td>-6.257841</td>\n",
              "      <td>5.194869</td>\n",
              "      <td>116.602035</td>\n",
              "      <td>5.549369e+05</td>\n",
              "    </tr>\n",
              "    <tr>\n",
              "      <th>std</th>\n",
              "      <td>472.999846</td>\n",
              "      <td>1.058140</td>\n",
              "      <td>1.171296</td>\n",
              "      <td>0.073934</td>\n",
              "      <td>0.091825</td>\n",
              "      <td>3.079512</td>\n",
              "      <td>67.141978</td>\n",
              "      <td>5.653074e+05</td>\n",
              "    </tr>\n",
              "    <tr>\n",
              "      <th>min</th>\n",
              "      <td>1.000000</td>\n",
              "      <td>1.000000</td>\n",
              "      <td>1.000000</td>\n",
              "      <td>53.215381</td>\n",
              "      <td>-6.497000</td>\n",
              "      <td>0.000000</td>\n",
              "      <td>3.400000</td>\n",
              "      <td>1.999500e+04</td>\n",
              "    </tr>\n",
              "    <tr>\n",
              "      <th>25%</th>\n",
              "      <td>411.000000</td>\n",
              "      <td>1.000000</td>\n",
              "      <td>2.000000</td>\n",
              "      <td>53.294340</td>\n",
              "      <td>-6.309640</td>\n",
              "      <td>1.000000</td>\n",
              "      <td>73.000000</td>\n",
              "      <td>2.950000e+05</td>\n",
              "    </tr>\n",
              "    <tr>\n",
              "      <th>50%</th>\n",
              "      <td>820.000000</td>\n",
              "      <td>2.000000</td>\n",
              "      <td>3.000000</td>\n",
              "      <td>53.341510</td>\n",
              "      <td>-6.247821</td>\n",
              "      <td>6.000000</td>\n",
              "      <td>97.100000</td>\n",
              "      <td>3.950000e+05</td>\n",
              "    </tr>\n",
              "    <tr>\n",
              "      <th>75%</th>\n",
              "      <td>1229.000000</td>\n",
              "      <td>3.000000</td>\n",
              "      <td>4.000000</td>\n",
              "      <td>53.382053</td>\n",
              "      <td>-6.194319</td>\n",
              "      <td>8.000000</td>\n",
              "      <td>135.000000</td>\n",
              "      <td>5.950000e+05</td>\n",
              "    </tr>\n",
              "    <tr>\n",
              "      <th>max</th>\n",
              "      <td>1638.000000</td>\n",
              "      <td>6.000000</td>\n",
              "      <td>7.000000</td>\n",
              "      <td>53.630588</td>\n",
              "      <td>-6.054719</td>\n",
              "      <td>9.000000</td>\n",
              "      <td>353.000000</td>\n",
              "      <td>8.900000e+06</td>\n",
              "    </tr>\n",
              "  </tbody>\n",
              "</table>\n",
              "</div>"
            ],
            "text/plain": [
              "             Index  Num_Bathrooms  ...      Surface         Price\n",
              "count  1637.000000    1637.000000  ...  1637.000000  1.637000e+03\n",
              "mean    819.783140       2.027489  ...   116.602035  5.549369e+05\n",
              "std     472.999846       1.058140  ...    67.141978  5.653074e+05\n",
              "min       1.000000       1.000000  ...     3.400000  1.999500e+04\n",
              "25%     411.000000       1.000000  ...    73.000000  2.950000e+05\n",
              "50%     820.000000       2.000000  ...    97.100000  3.950000e+05\n",
              "75%    1229.000000       3.000000  ...   135.000000  5.950000e+05\n",
              "max    1638.000000       6.000000  ...   353.000000  8.900000e+06\n",
              "\n",
              "[8 rows x 8 columns]"
            ]
          },
          "metadata": {},
          "execution_count": 77
        }
      ]
    },
    {
      "cell_type": "code",
      "metadata": {
        "colab": {
          "base_uri": "https://localhost:8080/",
          "height": 299
        },
        "id": "v4WitqzRWbL1",
        "outputId": "1d00e379-8399-4d52-a780-bed182467079"
      },
      "source": [
        "house_test.describe()"
      ],
      "execution_count": 78,
      "outputs": [
        {
          "output_type": "execute_result",
          "data": {
            "text/html": [
              "<div>\n",
              "<style scoped>\n",
              "    .dataframe tbody tr th:only-of-type {\n",
              "        vertical-align: middle;\n",
              "    }\n",
              "\n",
              "    .dataframe tbody tr th {\n",
              "        vertical-align: top;\n",
              "    }\n",
              "\n",
              "    .dataframe thead th {\n",
              "        text-align: right;\n",
              "    }\n",
              "</style>\n",
              "<table border=\"1\" class=\"dataframe\">\n",
              "  <thead>\n",
              "    <tr style=\"text-align: right;\">\n",
              "      <th></th>\n",
              "      <th>Index</th>\n",
              "      <th>Num_Bathrooms</th>\n",
              "      <th>Num_Beds</th>\n",
              "      <th>Latitude</th>\n",
              "      <th>Longitude</th>\n",
              "      <th>Type</th>\n",
              "      <th>Surface</th>\n",
              "    </tr>\n",
              "  </thead>\n",
              "  <tbody>\n",
              "    <tr>\n",
              "      <th>count</th>\n",
              "      <td>702.000000</td>\n",
              "      <td>702.000000</td>\n",
              "      <td>702.000000</td>\n",
              "      <td>702.000000</td>\n",
              "      <td>702.000000</td>\n",
              "      <td>702.000000</td>\n",
              "      <td>702.000000</td>\n",
              "    </tr>\n",
              "    <tr>\n",
              "      <th>mean</th>\n",
              "      <td>1989.500000</td>\n",
              "      <td>2.022792</td>\n",
              "      <td>2.975783</td>\n",
              "      <td>53.350445</td>\n",
              "      <td>-6.252411</td>\n",
              "      <td>5.047009</td>\n",
              "      <td>117.363473</td>\n",
              "    </tr>\n",
              "    <tr>\n",
              "      <th>std</th>\n",
              "      <td>202.794231</td>\n",
              "      <td>1.049173</td>\n",
              "      <td>1.128409</td>\n",
              "      <td>0.073961</td>\n",
              "      <td>0.091600</td>\n",
              "      <td>3.070603</td>\n",
              "      <td>68.450749</td>\n",
              "    </tr>\n",
              "    <tr>\n",
              "      <th>min</th>\n",
              "      <td>1639.000000</td>\n",
              "      <td>1.000000</td>\n",
              "      <td>1.000000</td>\n",
              "      <td>53.214227</td>\n",
              "      <td>-6.521183</td>\n",
              "      <td>1.000000</td>\n",
              "      <td>32.100000</td>\n",
              "    </tr>\n",
              "    <tr>\n",
              "      <th>25%</th>\n",
              "      <td>1814.250000</td>\n",
              "      <td>1.000000</td>\n",
              "      <td>2.000000</td>\n",
              "      <td>53.295225</td>\n",
              "      <td>-6.304258</td>\n",
              "      <td>1.000000</td>\n",
              "      <td>73.000000</td>\n",
              "    </tr>\n",
              "    <tr>\n",
              "      <th>50%</th>\n",
              "      <td>1989.500000</td>\n",
              "      <td>2.000000</td>\n",
              "      <td>3.000000</td>\n",
              "      <td>53.341153</td>\n",
              "      <td>-6.247799</td>\n",
              "      <td>5.000000</td>\n",
              "      <td>99.200000</td>\n",
              "    </tr>\n",
              "    <tr>\n",
              "      <th>75%</th>\n",
              "      <td>2164.750000</td>\n",
              "      <td>3.000000</td>\n",
              "      <td>4.000000</td>\n",
              "      <td>53.381752</td>\n",
              "      <td>-6.184277</td>\n",
              "      <td>8.000000</td>\n",
              "      <td>136.875000</td>\n",
              "    </tr>\n",
              "    <tr>\n",
              "      <th>max</th>\n",
              "      <td>2340.000000</td>\n",
              "      <td>6.000000</td>\n",
              "      <td>7.000000</td>\n",
              "      <td>53.617443</td>\n",
              "      <td>-6.057150</td>\n",
              "      <td>9.000000</td>\n",
              "      <td>350.000000</td>\n",
              "    </tr>\n",
              "  </tbody>\n",
              "</table>\n",
              "</div>"
            ],
            "text/plain": [
              "             Index  Num_Bathrooms  ...        Type     Surface\n",
              "count   702.000000     702.000000  ...  702.000000  702.000000\n",
              "mean   1989.500000       2.022792  ...    5.047009  117.363473\n",
              "std     202.794231       1.049173  ...    3.070603   68.450749\n",
              "min    1639.000000       1.000000  ...    1.000000   32.100000\n",
              "25%    1814.250000       1.000000  ...    1.000000   73.000000\n",
              "50%    1989.500000       2.000000  ...    5.000000   99.200000\n",
              "75%    2164.750000       3.000000  ...    8.000000  136.875000\n",
              "max    2340.000000       6.000000  ...    9.000000  350.000000\n",
              "\n",
              "[8 rows x 7 columns]"
            ]
          },
          "metadata": {},
          "execution_count": 78
        }
      ]
    },
    {
      "cell_type": "code",
      "metadata": {
        "colab": {
          "base_uri": "https://localhost:8080/",
          "height": 542
        },
        "id": "t0nhwfihIwjI",
        "outputId": "2bfcf5c9-25cd-47f5-c572-eb025f5602f4"
      },
      "source": [
        "fig, ax = plt.subplots(figsize=(12, 9))\n",
        "sns.heatmap(house_train[['Num_Beds','Num_Bathrooms','Surface','Type','Latitude','Longitude','Price']].corr(), annot=True)\n",
        "plt.show()"
      ],
      "execution_count": 81,
      "outputs": [
        {
          "output_type": "display_data",
          "data": {
            "image/png": "[encoded data removed]",
            "text/plain": [
              "<Figure size 864x648 with 2 Axes>"
            ]
          },
          "metadata": {
            "needs_background": "light"
          }
        }
      ]
    },
    {
      "cell_type": "markdown",
      "metadata": {
        "id": "qRVLDXndXZEK"
      },
      "source": [
        "Final selection of features with the strongest correlation with Price goes to Number of Bedrooms, Number of Bathrooms, Surface, Type of property, Latitude and Longitude"
      ]
    },
    {
      "cell_type": "markdown",
      "metadata": {
        "id": "G5oRiZxo2gpN"
      },
      "source": [
        "# NATURAL LANGUAGE PROCESSING"
      ]
    },
    {
      "cell_type": "markdown",
      "metadata": {
        "id": "e8s0Wi3a8yjN"
      },
      "source": [
        "Natural language processing ([NLP](https://en.wikipedia.org/wiki/Natural_language_processing)) is a subfield of linguistics, computer science, and artificial intelligence.\n",
        "\n",
        "* NLP concerned with the interactions between computers and human language.\n",
        "* In particular how to program computers to process and analyze large amounts of natural language data. \n",
        "* The goal is a computer capable of \"understanding\" the contents of documents.\n",
        "* Including the contextual nuances of the language within them. \n",
        "* The technology can then accurately extract information and insights contained in the documents.\n",
        "* As well as categorize and organize the documents themselves. "
      ]
    },
    {
      "cell_type": "markdown",
      "metadata": {
        "id": "oValFP-z2gpN"
      },
      "source": [
        "Your comments, explanation, and references here."
      ]
    },
    {
      "cell_type": "code",
      "metadata": {
        "colab": {
          "base_uri": "https://localhost:8080/"
        },
        "id": "vNSAKw2jHmjn",
        "outputId": "58cc1e08-38d4-4c15-d2cf-7d2c17cd2bcb"
      },
      "source": [
        "import string\n",
        "from nltk import word_tokenize\n",
        "nltk.download('stopwords')"
      ],
      "execution_count": 82,
      "outputs": [
        {
          "output_type": "stream",
          "name": "stdout",
          "text": [
            "[nltk_data] Downloading package stopwords to /root/nltk_data...\n",
            "[nltk_data]   Package stopwords is already up-to-date!\n"
          ]
        },
        {
          "output_type": "execute_result",
          "data": {
            "text/plain": [
              "True"
            ]
          },
          "metadata": {},
          "execution_count": 82
        }
      ]
    },
    {
      "cell_type": "code",
      "metadata": {
        "colab": {
          "base_uri": "https://localhost:8080/",
          "height": 205
        },
        "id": "wZa47tdBPP6N",
        "outputId": "85b7c033-934d-4884-aaee-561f9bfa21af"
      },
      "source": [
        "# set all strings to lower\n",
        "house_train['Description'] = house_train['Description'].str.lower()\n",
        "house_train['Features'] = house_train['Features'].str.lower()\n",
        "house_train[['Description', 'Features']].head()"
      ],
      "execution_count": 83,
      "outputs": [
        {
          "output_type": "execute_result",
          "data": {
            "text/html": [
              "<div>\n",
              "<style scoped>\n",
              "    .dataframe tbody tr th:only-of-type {\n",
              "        vertical-align: middle;\n",
              "    }\n",
              "\n",
              "    .dataframe tbody tr th {\n",
              "        vertical-align: top;\n",
              "    }\n",
              "\n",
              "    .dataframe thead th {\n",
              "        text-align: right;\n",
              "    }\n",
              "</style>\n",
              "<table border=\"1\" class=\"dataframe\">\n",
              "  <thead>\n",
              "    <tr style=\"text-align: right;\">\n",
              "      <th></th>\n",
              "      <th>Description</th>\n",
              "      <th>Features</th>\n",
              "    </tr>\n",
              "  </thead>\n",
              "  <tbody>\n",
              "    <tr>\n",
              "      <th>0</th>\n",
              "      <td>dng are delighted to present to the market no....</td>\n",
              "      <td>none</td>\n",
              "    </tr>\n",
              "    <tr>\n",
              "      <th>1</th>\n",
              "      <td>13 northbrook terrace is a charming red brick ...</td>\n",
              "      <td>bight and spacious interior\\nnumerous original...</td>\n",
              "    </tr>\n",
              "    <tr>\n",
              "      <th>2</th>\n",
              "      <td>welcome to no. 6 cotter close, an immaculately...</td>\n",
              "      <td>special features\\nlarge rear garden\\ngenerous ...</td>\n",
              "    </tr>\n",
              "    <tr>\n",
              "      <th>3</th>\n",
              "      <td>welcome to 3 sycamore walk!\\n\\r\\nenjoying a pr...</td>\n",
              "      <td>wonderful 3 bed detached bungalow.     \\naccom...</td>\n",
              "    </tr>\n",
              "    <tr>\n",
              "      <th>4</th>\n",
              "      <td>'four seasons' comes to the market as a wonder...</td>\n",
              "      <td>detached property      \\ndouble glazed windows...</td>\n",
              "    </tr>\n",
              "  </tbody>\n",
              "</table>\n",
              "</div>"
            ],
            "text/plain": [
              "                                         Description                                           Features\n",
              "0  dng are delighted to present to the market no....                                               none\n",
              "1  13 northbrook terrace is a charming red brick ...  bight and spacious interior\\nnumerous original...\n",
              "2  welcome to no. 6 cotter close, an immaculately...  special features\\nlarge rear garden\\ngenerous ...\n",
              "3  welcome to 3 sycamore walk!\\n\\r\\nenjoying a pr...  wonderful 3 bed detached bungalow.     \\naccom...\n",
              "4  'four seasons' comes to the market as a wonder...  detached property      \\ndouble glazed windows..."
            ]
          },
          "metadata": {},
          "execution_count": 83
        }
      ]
    },
    {
      "cell_type": "code",
      "metadata": {
        "id": "i9Ut8CmZs4Jm"
      },
      "source": [
        "house_test['Description'] = house_test['Description'].str.lower()\n",
        "house_test['Features'] = house_test['Features'].str.lower()"
      ],
      "execution_count": 84,
      "outputs": []
    },
    {
      "cell_type": "code",
      "metadata": {
        "colab": {
          "base_uri": "https://localhost:8080/",
          "height": 205
        },
        "id": "yzpUIkHaHmdi",
        "outputId": "495d4c3b-b2a4-486a-beeb-24b6103500d6"
      },
      "source": [
        "# remove all Stop Words from english language\n",
        "stop_words = set(stopwords.words('english'))\n",
        "house_train['Description'] = house_train['Description'].apply(lambda x: \" \".join(x for x in x.split() if x not in stop_words))\n",
        "house_train['Features'] = house_train['Features'].apply(lambda x: \" \".join(x for x in x.split() if x not in stop_words))\n",
        "house_train[['Description', 'Features']].head()"
      ],
      "execution_count": 85,
      "outputs": [
        {
          "output_type": "execute_result",
          "data": {
            "text/html": [
              "<div>\n",
              "<style scoped>\n",
              "    .dataframe tbody tr th:only-of-type {\n",
              "        vertical-align: middle;\n",
              "    }\n",
              "\n",
              "    .dataframe tbody tr th {\n",
              "        vertical-align: top;\n",
              "    }\n",
              "\n",
              "    .dataframe thead th {\n",
              "        text-align: right;\n",
              "    }\n",
              "</style>\n",
              "<table border=\"1\" class=\"dataframe\">\n",
              "  <thead>\n",
              "    <tr style=\"text-align: right;\">\n",
              "      <th></th>\n",
              "      <th>Description</th>\n",
              "      <th>Features</th>\n",
              "    </tr>\n",
              "  </thead>\n",
              "  <tbody>\n",
              "    <tr>\n",
              "      <th>0</th>\n",
              "      <td>dng delighted present market no. 5 chipping ro...</td>\n",
              "      <td>none</td>\n",
              "    </tr>\n",
              "    <tr>\n",
              "      <th>1</th>\n",
              "      <td>13 northbrook terrace charming red brick perio...</td>\n",
              "      <td>bight spacious interior numerous original feat...</td>\n",
              "    </tr>\n",
              "    <tr>\n",
              "      <th>2</th>\n",
              "      <td>welcome no. 6 cotter close, immaculately prese...</td>\n",
              "      <td>special features large rear garden generous st...</td>\n",
              "    </tr>\n",
              "    <tr>\n",
              "      <th>3</th>\n",
              "      <td>welcome 3 sycamore walk! enjoying premier addr...</td>\n",
              "      <td>wonderful 3 bed detached bungalow. accommodati...</td>\n",
              "    </tr>\n",
              "    <tr>\n",
              "      <th>4</th>\n",
              "      <td>'four seasons' comes market wonderful opportun...</td>\n",
              "      <td>detached property double glazed windows o.f.c....</td>\n",
              "    </tr>\n",
              "  </tbody>\n",
              "</table>\n",
              "</div>"
            ],
            "text/plain": [
              "                                         Description                                           Features\n",
              "0  dng delighted present market no. 5 chipping ro...                                               none\n",
              "1  13 northbrook terrace charming red brick perio...  bight spacious interior numerous original feat...\n",
              "2  welcome no. 6 cotter close, immaculately prese...  special features large rear garden generous st...\n",
              "3  welcome 3 sycamore walk! enjoying premier addr...  wonderful 3 bed detached bungalow. accommodati...\n",
              "4  'four seasons' comes market wonderful opportun...  detached property double glazed windows o.f.c...."
            ]
          },
          "metadata": {},
          "execution_count": 85
        }
      ]
    },
    {
      "cell_type": "code",
      "metadata": {
        "id": "UGIsaujjs-WY"
      },
      "source": [
        "house_test['Description'] = house_test['Description'].apply(lambda x: \" \".join(x for x in x.split() if x not in stop_words))\n",
        "house_test['Features'] = house_test['Features'].apply(lambda x: \" \".join(x for x in x.split() if x not in stop_words))"
      ],
      "execution_count": 86,
      "outputs": []
    },
    {
      "cell_type": "code",
      "metadata": {
        "colab": {
          "base_uri": "https://localhost:8080/",
          "height": 205
        },
        "id": "ec4MBJ4yro_r",
        "outputId": "a506482a-3a53-419f-ec8b-76aadcbe27a0"
      },
      "source": [
        "# remove punctuation\n",
        "p = re.compile(r'[^\\w\\s]+')\n",
        "house_train['Description'] = [p.sub('', x) for x in house_train['Description'].tolist()]\n",
        "house_train['Features'] = [p.sub('', x) for x in house_train['Features'].tolist()]\n",
        "house_train[['Description', 'Features']].head()"
      ],
      "execution_count": 87,
      "outputs": [
        {
          "output_type": "execute_result",
          "data": {
            "text/html": [
              "<div>\n",
              "<style scoped>\n",
              "    .dataframe tbody tr th:only-of-type {\n",
              "        vertical-align: middle;\n",
              "    }\n",
              "\n",
              "    .dataframe tbody tr th {\n",
              "        vertical-align: top;\n",
              "    }\n",
              "\n",
              "    .dataframe thead th {\n",
              "        text-align: right;\n",
              "    }\n",
              "</style>\n",
              "<table border=\"1\" class=\"dataframe\">\n",
              "  <thead>\n",
              "    <tr style=\"text-align: right;\">\n",
              "      <th></th>\n",
              "      <th>Description</th>\n",
              "      <th>Features</th>\n",
              "    </tr>\n",
              "  </thead>\n",
              "  <tbody>\n",
              "    <tr>\n",
              "      <th>0</th>\n",
              "      <td>dng delighted present market no 5 chipping row...</td>\n",
              "      <td>none</td>\n",
              "    </tr>\n",
              "    <tr>\n",
              "      <th>1</th>\n",
              "      <td>13 northbrook terrace charming red brick perio...</td>\n",
              "      <td>bight spacious interior numerous original feat...</td>\n",
              "    </tr>\n",
              "    <tr>\n",
              "      <th>2</th>\n",
              "      <td>welcome no 6 cotter close immaculately present...</td>\n",
              "      <td>special features large rear garden generous st...</td>\n",
              "    </tr>\n",
              "    <tr>\n",
              "      <th>3</th>\n",
              "      <td>welcome 3 sycamore walk enjoying premier addre...</td>\n",
              "      <td>wonderful 3 bed detached bungalow accommodatio...</td>\n",
              "    </tr>\n",
              "    <tr>\n",
              "      <th>4</th>\n",
              "      <td>four seasons comes market wonderful opportunit...</td>\n",
              "      <td>detached property double glazed windows ofch d...</td>\n",
              "    </tr>\n",
              "  </tbody>\n",
              "</table>\n",
              "</div>"
            ],
            "text/plain": [
              "                                         Description                                           Features\n",
              "0  dng delighted present market no 5 chipping row...                                               none\n",
              "1  13 northbrook terrace charming red brick perio...  bight spacious interior numerous original feat...\n",
              "2  welcome no 6 cotter close immaculately present...  special features large rear garden generous st...\n",
              "3  welcome 3 sycamore walk enjoying premier addre...  wonderful 3 bed detached bungalow accommodatio...\n",
              "4  four seasons comes market wonderful opportunit...  detached property double glazed windows ofch d..."
            ]
          },
          "metadata": {},
          "execution_count": 87
        }
      ]
    },
    {
      "cell_type": "code",
      "metadata": {
        "id": "s4pwprsOtHVj"
      },
      "source": [
        "house_test['Description'] = [p.sub('', x) for x in house_test['Description'].tolist()]\n",
        "house_test['Features'] = [p.sub('', x) for x in house_test['Features'].tolist()]"
      ],
      "execution_count": 88,
      "outputs": []
    },
    {
      "cell_type": "code",
      "metadata": {
        "colab": {
          "base_uri": "https://localhost:8080/",
          "height": 205
        },
        "id": "x-eLue4cjmVR",
        "outputId": "1551f810-e683-48d0-f117-5953765742f4"
      },
      "source": [
        "# remove all numeric values from strings\n",
        "house_train['Description'] = [re.sub('[^a-zA-Z]', ' ', sentence) for sentence in house_train['Description']]\n",
        "house_train['Features'] = [re.sub('[^a-zA-Z]', ' ', sentence) for sentence in house_train['Features']]\n",
        "house_train[['Description', 'Features']].head()"
      ],
      "execution_count": 89,
      "outputs": [
        {
          "output_type": "execute_result",
          "data": {
            "text/html": [
              "<div>\n",
              "<style scoped>\n",
              "    .dataframe tbody tr th:only-of-type {\n",
              "        vertical-align: middle;\n",
              "    }\n",
              "\n",
              "    .dataframe tbody tr th {\n",
              "        vertical-align: top;\n",
              "    }\n",
              "\n",
              "    .dataframe thead th {\n",
              "        text-align: right;\n",
              "    }\n",
              "</style>\n",
              "<table border=\"1\" class=\"dataframe\">\n",
              "  <thead>\n",
              "    <tr style=\"text-align: right;\">\n",
              "      <th></th>\n",
              "      <th>Description</th>\n",
              "      <th>Features</th>\n",
              "    </tr>\n",
              "  </thead>\n",
              "  <tbody>\n",
              "    <tr>\n",
              "      <th>0</th>\n",
              "      <td>dng delighted present market no   chipping row...</td>\n",
              "      <td>none</td>\n",
              "    </tr>\n",
              "    <tr>\n",
              "      <th>1</th>\n",
              "      <td>northbrook terrace charming red brick perio...</td>\n",
              "      <td>bight spacious interior numerous original feat...</td>\n",
              "    </tr>\n",
              "    <tr>\n",
              "      <th>2</th>\n",
              "      <td>welcome no   cotter close immaculately present...</td>\n",
              "      <td>special features large rear garden generous st...</td>\n",
              "    </tr>\n",
              "    <tr>\n",
              "      <th>3</th>\n",
              "      <td>welcome   sycamore walk enjoying premier addre...</td>\n",
              "      <td>wonderful   bed detached bungalow accommodatio...</td>\n",
              "    </tr>\n",
              "    <tr>\n",
              "      <th>4</th>\n",
              "      <td>four seasons comes market wonderful opportunit...</td>\n",
              "      <td>detached property double glazed windows ofch d...</td>\n",
              "    </tr>\n",
              "  </tbody>\n",
              "</table>\n",
              "</div>"
            ],
            "text/plain": [
              "                                         Description                                           Features\n",
              "0  dng delighted present market no   chipping row...                                               none\n",
              "1     northbrook terrace charming red brick perio...  bight spacious interior numerous original feat...\n",
              "2  welcome no   cotter close immaculately present...  special features large rear garden generous st...\n",
              "3  welcome   sycamore walk enjoying premier addre...  wonderful   bed detached bungalow accommodatio...\n",
              "4  four seasons comes market wonderful opportunit...  detached property double glazed windows ofch d..."
            ]
          },
          "metadata": {},
          "execution_count": 89
        }
      ]
    },
    {
      "cell_type": "code",
      "metadata": {
        "colab": {
          "base_uri": "https://localhost:8080/",
          "height": 205
        },
        "id": "uuIYvCwJuGsS",
        "outputId": "e23b5c96-b32b-4fd1-bc4c-4bf17793632e"
      },
      "source": [
        "# remove words smaller than 4 characters \n",
        "short_word = 4\n",
        "house_train['Description'] = house_train['Description'].apply(lambda x: ' '.join([w for w in x.split() if len(w)>short_word]))\n",
        "house_train['Features'] = house_train['Features'].apply(lambda x: ' '.join([w for w in x.split() if len(w)>short_word]))\n",
        "house_train[['Description', 'Features']].head()"
      ],
      "execution_count": 90,
      "outputs": [
        {
          "output_type": "execute_result",
          "data": {
            "text/html": [
              "<div>\n",
              "<style scoped>\n",
              "    .dataframe tbody tr th:only-of-type {\n",
              "        vertical-align: middle;\n",
              "    }\n",
              "\n",
              "    .dataframe tbody tr th {\n",
              "        vertical-align: top;\n",
              "    }\n",
              "\n",
              "    .dataframe thead th {\n",
              "        text-align: right;\n",
              "    }\n",
              "</style>\n",
              "<table border=\"1\" class=\"dataframe\">\n",
              "  <thead>\n",
              "    <tr style=\"text-align: right;\">\n",
              "      <th></th>\n",
              "      <th>Description</th>\n",
              "      <th>Features</th>\n",
              "    </tr>\n",
              "  </thead>\n",
              "  <tbody>\n",
              "    <tr>\n",
              "      <th>0</th>\n",
              "      <td>delighted present market chipping bedroom apar...</td>\n",
              "      <td></td>\n",
              "    </tr>\n",
              "    <tr>\n",
              "      <th>1</th>\n",
              "      <td>northbrook terrace charming brick period seclu...</td>\n",
              "      <td>bight spacious interior numerous original feat...</td>\n",
              "    </tr>\n",
              "    <tr>\n",
              "      <th>2</th>\n",
              "      <td>welcome cotter close immaculately presented th...</td>\n",
              "      <td>special features large garden generous street ...</td>\n",
              "    </tr>\n",
              "    <tr>\n",
              "      <th>3</th>\n",
              "      <td>welcome sycamore enjoying premier address smal...</td>\n",
              "      <td>wonderful detached bungalow accommodation exte...</td>\n",
              "    </tr>\n",
              "    <tr>\n",
              "      <th>4</th>\n",
              "      <td>seasons comes market wonderful opportunity see...</td>\n",
              "      <td>detached property double glazed windows double...</td>\n",
              "    </tr>\n",
              "  </tbody>\n",
              "</table>\n",
              "</div>"
            ],
            "text/plain": [
              "                                         Description                                           Features\n",
              "0  delighted present market chipping bedroom apar...                                                   \n",
              "1  northbrook terrace charming brick period seclu...  bight spacious interior numerous original feat...\n",
              "2  welcome cotter close immaculately presented th...  special features large garden generous street ...\n",
              "3  welcome sycamore enjoying premier address smal...  wonderful detached bungalow accommodation exte...\n",
              "4  seasons comes market wonderful opportunity see...  detached property double glazed windows double..."
            ]
          },
          "metadata": {},
          "execution_count": 90
        }
      ]
    },
    {
      "cell_type": "code",
      "metadata": {
        "id": "-Uetri25uUVg"
      },
      "source": [
        "house_test['Description'] =  house_test['Description'].apply(lambda x: ' '.join([w for w in x.split() if len(w)>short_word]))\n",
        "house_test['Features'] = house_test['Features'].apply(lambda x: ' '.join([w for w in x.split() if len(w)>short_word]))"
      ],
      "execution_count": 91,
      "outputs": []
    },
    {
      "cell_type": "code",
      "metadata": {
        "colab": {
          "base_uri": "https://localhost:8080/"
        },
        "id": "rsfDSoDWdkfA",
        "outputId": "9a5cf734-bfe0-4c04-ced6-17baac2a261a"
      },
      "source": [
        "# list of words in the Description and Features\n",
        "description_words = [sentence.split() for sentence in house_train['Description']]\n",
        "feature_words = [sentence.split() for sentence in house_train['Features']]\n",
        "description_words_ = [sentence.split() for sentence in house_test['Description']]\n",
        "feature_words_ = [sentence.split() for sentence in house_test['Features']]\n",
        "\n",
        "print(description_words[0-5])"
      ],
      "execution_count": 92,
      "outputs": [
        {
          "output_type": "stream",
          "name": "stdout",
          "text": [
            "['built', 'stradbrook', 'delightful', 'bedroom', 'double', 'fronted', 'cottage', 'immense', 'charm', 'character', 'property', 'tastefully', 'upgraded', 'present', 'owner', 'expense', 'spared', 'result', 'property', 'comes', 'market', 'walkin', 'condition', 'viewing', 'highly', 'recommended', 'accommodation', 'briefly', 'comprises', 'living', 'kitchen', 'bedrooms', 'large', 'bathroom', 'front', 'garden', 'street', 'parking', 'extremely', 'private', 'maintenance', 'walled', 'garden', 'garden', 'bustling', 'blackrock', 'needs', 'introduction', 'located', 'short', 'distance', 'speciality', 'shops', 'restaurants', 'cafes', 'seapoint', 'blackrock', 'minutes', 'serviced', 'several', 'routes', 'within', 'close', 'proximity', 'offering', 'access', 'centre']\n"
          ]
        }
      ]
    },
    {
      "cell_type": "code",
      "metadata": {
        "colab": {
          "base_uri": "https://localhost:8080/",
          "height": 205
        },
        "id": "sauKD6Tvdzhx",
        "outputId": "87f5fc06-cb63-4983-d0f8-a7beb6905fc2"
      },
      "source": [
        "# update dataframe\n",
        "house_train['Description'] = [\" \".join(word) for word in description_words]\n",
        "house_train['Features'] = [\" \".join(word) for word in feature_words]\n",
        "house_test['Description'] = [\" \".join(word) for word in description_words_]\n",
        "house_test['Features'] = [\" \".join(word) for word in feature_words_]\n",
        "house_train[['Description', 'Features']].head()"
      ],
      "execution_count": 93,
      "outputs": [
        {
          "output_type": "execute_result",
          "data": {
            "text/html": [
              "<div>\n",
              "<style scoped>\n",
              "    .dataframe tbody tr th:only-of-type {\n",
              "        vertical-align: middle;\n",
              "    }\n",
              "\n",
              "    .dataframe tbody tr th {\n",
              "        vertical-align: top;\n",
              "    }\n",
              "\n",
              "    .dataframe thead th {\n",
              "        text-align: right;\n",
              "    }\n",
              "</style>\n",
              "<table border=\"1\" class=\"dataframe\">\n",
              "  <thead>\n",
              "    <tr style=\"text-align: right;\">\n",
              "      <th></th>\n",
              "      <th>Description</th>\n",
              "      <th>Features</th>\n",
              "    </tr>\n",
              "  </thead>\n",
              "  <tbody>\n",
              "    <tr>\n",
              "      <th>0</th>\n",
              "      <td>delighted present market chipping bedroom apar...</td>\n",
              "      <td></td>\n",
              "    </tr>\n",
              "    <tr>\n",
              "      <th>1</th>\n",
              "      <td>northbrook terrace charming brick period seclu...</td>\n",
              "      <td>bight spacious interior numerous original feat...</td>\n",
              "    </tr>\n",
              "    <tr>\n",
              "      <th>2</th>\n",
              "      <td>welcome cotter close immaculately presented th...</td>\n",
              "      <td>special features large garden generous street ...</td>\n",
              "    </tr>\n",
              "    <tr>\n",
              "      <th>3</th>\n",
              "      <td>welcome sycamore enjoying premier address smal...</td>\n",
              "      <td>wonderful detached bungalow accommodation exte...</td>\n",
              "    </tr>\n",
              "    <tr>\n",
              "      <th>4</th>\n",
              "      <td>seasons comes market wonderful opportunity see...</td>\n",
              "      <td>detached property double glazed windows double...</td>\n",
              "    </tr>\n",
              "  </tbody>\n",
              "</table>\n",
              "</div>"
            ],
            "text/plain": [
              "                                         Description                                           Features\n",
              "0  delighted present market chipping bedroom apar...                                                   \n",
              "1  northbrook terrace charming brick period seclu...  bight spacious interior numerous original feat...\n",
              "2  welcome cotter close immaculately presented th...  special features large garden generous street ...\n",
              "3  welcome sycamore enjoying premier address smal...  wonderful detached bungalow accommodation exte...\n",
              "4  seasons comes market wonderful opportunity see...  detached property double glazed windows double..."
            ]
          },
          "metadata": {},
          "execution_count": 93
        }
      ]
    },
    {
      "cell_type": "markdown",
      "metadata": {
        "id": "JtROBf_tx7sK"
      },
      "source": [
        "## TF-IDF"
      ]
    },
    {
      "cell_type": "code",
      "metadata": {
        "colab": {
          "base_uri": "https://localhost:8080/"
        },
        "id": "Tx7qsSvUqVcg",
        "outputId": "b3623627-030e-476d-cbf9-1ea8b974baf0"
      },
      "source": [
        "from sklearn.feature_extraction.text import TfidfVectorizer\n",
        "vectorizer = TfidfVectorizer(stop_words='english', max_features= 300, max_df=0.5, smooth_idf=True)\n",
        "print(vectorizer)"
      ],
      "execution_count": 94,
      "outputs": [
        {
          "output_type": "stream",
          "name": "stdout",
          "text": [
            "TfidfVectorizer(analyzer='word', binary=False, decode_error='strict',\n",
            "                dtype=<class 'numpy.float64'>, encoding='utf-8',\n",
            "                input='content', lowercase=True, max_df=0.5, max_features=300,\n",
            "                min_df=1, ngram_range=(1, 1), norm='l2', preprocessor=None,\n",
            "                smooth_idf=True, stop_words='english', strip_accents=None,\n",
            "                sublinear_tf=False, token_pattern='(?u)\\\\b\\\\w\\\\w+\\\\b',\n",
            "                tokenizer=None, use_idf=True, vocabulary=None)\n"
          ]
        }
      ]
    },
    {
      "cell_type": "code",
      "metadata": {
        "colab": {
          "base_uri": "https://localhost:8080/",
          "height": 205
        },
        "id": "xl1Vyo4cMI3F",
        "outputId": "437dea54-c451-4f49-f90c-9f0d7e9d2229"
      },
      "source": [
        "nlp = house_train[['Description','Features','Price']]\n",
        "nlp.head(5) "
      ],
      "execution_count": 95,
      "outputs": [
        {
          "output_type": "execute_result",
          "data": {
            "text/html": [
              "<div>\n",
              "<style scoped>\n",
              "    .dataframe tbody tr th:only-of-type {\n",
              "        vertical-align: middle;\n",
              "    }\n",
              "\n",
              "    .dataframe tbody tr th {\n",
              "        vertical-align: top;\n",
              "    }\n",
              "\n",
              "    .dataframe thead th {\n",
              "        text-align: right;\n",
              "    }\n",
              "</style>\n",
              "<table border=\"1\" class=\"dataframe\">\n",
              "  <thead>\n",
              "    <tr style=\"text-align: right;\">\n",
              "      <th></th>\n",
              "      <th>Description</th>\n",
              "      <th>Features</th>\n",
              "      <th>Price</th>\n",
              "    </tr>\n",
              "  </thead>\n",
              "  <tbody>\n",
              "    <tr>\n",
              "      <th>0</th>\n",
              "      <td>delighted present market chipping bedroom apar...</td>\n",
              "      <td></td>\n",
              "      <td>195000</td>\n",
              "    </tr>\n",
              "    <tr>\n",
              "      <th>1</th>\n",
              "      <td>northbrook terrace charming brick period seclu...</td>\n",
              "      <td>bight spacious interior numerous original feat...</td>\n",
              "      <td>425000</td>\n",
              "    </tr>\n",
              "    <tr>\n",
              "      <th>2</th>\n",
              "      <td>welcome cotter close immaculately presented th...</td>\n",
              "      <td>special features large garden generous street ...</td>\n",
              "      <td>535000</td>\n",
              "    </tr>\n",
              "    <tr>\n",
              "      <th>3</th>\n",
              "      <td>welcome sycamore enjoying premier address smal...</td>\n",
              "      <td>wonderful detached bungalow accommodation exte...</td>\n",
              "      <td>499000</td>\n",
              "    </tr>\n",
              "    <tr>\n",
              "      <th>4</th>\n",
              "      <td>seasons comes market wonderful opportunity see...</td>\n",
              "      <td>detached property double glazed windows double...</td>\n",
              "      <td>510000</td>\n",
              "    </tr>\n",
              "  </tbody>\n",
              "</table>\n",
              "</div>"
            ],
            "text/plain": [
              "                                         Description  ...   Price\n",
              "0  delighted present market chipping bedroom apar...  ...  195000\n",
              "1  northbrook terrace charming brick period seclu...  ...  425000\n",
              "2  welcome cotter close immaculately presented th...  ...  535000\n",
              "3  welcome sycamore enjoying premier address smal...  ...  499000\n",
              "4  seasons comes market wonderful opportunity see...  ...  510000\n",
              "\n",
              "[5 rows x 3 columns]"
            ]
          },
          "metadata": {},
          "execution_count": 95
        }
      ]
    },
    {
      "cell_type": "code",
      "metadata": {
        "colab": {
          "base_uri": "https://localhost:8080/"
        },
        "id": "fk_rRU0lA10L",
        "outputId": "7f7a663b-6e9f-48ec-aa17-f17cb65d4e95"
      },
      "source": [
        "X_nlp = nlp.loc[:, nlp.columns != 'Price']\n",
        "y_nlp = nlp['Price']\n",
        "\n",
        "X_description = vectorizer.fit_transform(nlp['Description'])\n",
        "X_features = vectorizer.fit_transform(nlp['Features'])\n",
        "\n",
        "print(X_description.shape)\n",
        "print(X_features.shape)"
      ],
      "execution_count": 96,
      "outputs": [
        {
          "output_type": "stream",
          "name": "stdout",
          "text": [
            "(1637, 300)\n",
            "(1637, 300)\n"
          ]
        }
      ]
    },
    {
      "cell_type": "code",
      "metadata": {
        "id": "3F4ozCNGbJVo"
      },
      "source": [
        "def fit_bow(corpus, vectorizer=None, vocabulary=None):\n",
        "    ## vectorizer\n",
        "    vectorizer = feature_extraction.text.TfidfVectorizer(max_features=None, ngram_range=(1,1), vocabulary=vocabulary) if vectorizer is None else vectorizer\n",
        "    vectorizer.fit(corpus)\n",
        "    \n",
        "    ## sparse matrix\n",
        "    print(\"--- creating sparse matrix ---\")\n",
        "    X = vectorizer.transform(corpus)\n",
        "    print(\"shape:\", X.shape)\n",
        "    \n",
        "    ## vocabulary\n",
        "    print(\"--- creating vocabulary ---\") if vocabulary is None else print(\"--- used vocabulary ---\")\n",
        "    dic_vocabulary = vectorizer.vocabulary_   #{word:idx for idx, word in enumerate(vectorizer.get_feature_names())}\n",
        "    print(len(dic_vocabulary), \"words\")\n",
        "    \n",
        "    ## text2tokens\n",
        "    print(\"--- tokenization ---\")\n",
        "    tokenizer = vectorizer.build_tokenizer()\n",
        "    preprocessor = vectorizer.build_preprocessor()\n",
        "    lst_text2tokens = []\n",
        "    for text in corpus:\n",
        "        lst_tokens = [dic_vocabulary[word] for word in tokenizer(preprocessor(text)) if word in dic_vocabulary]\n",
        "        lst_text2tokens.append(lst_tokens)\n",
        "    print(len(lst_text2tokens), \"texts\")\n",
        "    \n",
        "    ## plot heatmap\n",
        "    fig, ax = plt.subplots(figsize=(15,5))\n",
        "    sns.heatmap(X.todense()[:,np.random.randint(0,X.shape[1],100)]==0, vmin=0, vmax=1, cbar=False, ax=ax).set_title('Sparse Matrix Sample')\n",
        "    plt.show()\n",
        "    return {\"X\":X, \"lst_text2tokens\":lst_text2tokens, \"vectorizer\":vectorizer, \"dic_vocabulary\":dic_vocabulary, \"X_names\":vectorizer.get_feature_names()}"
      ],
      "execution_count": 108,
      "outputs": []
    },
    {
      "cell_type": "code",
      "metadata": {
        "colab": {
          "base_uri": "https://localhost:8080/",
          "height": 440
        },
        "id": "e682_EjRa0Ei",
        "outputId": "4ed9b373-0823-4485-8e5b-703b8bea89e5"
      },
      "source": [
        "dic_bow = fit_bow(corpus=X_nlp[\"Description\"], vectorizer=vectorizer, vocabulary=None)\n",
        "\n",
        "X_train, X_names, vectorizer, dic_vocabulary, lst_text2tokens = dic_bow[\"X\"], dic_bow[\"X_names\"], dic_bow[\"vectorizer\"], dic_bow[\"dic_vocabulary\"], dic_bow[\"lst_text2tokens\"]"
      ],
      "execution_count": 109,
      "outputs": [
        {
          "output_type": "stream",
          "name": "stdout",
          "text": [
            "--- creating sparse matrix ---\n",
            "shape: (1637, 300)\n",
            "--- creating vocabulary ---\n",
            "300 words\n",
            "--- tokenization ---\n",
            "1637 texts\n"
          ]
        },
        {
          "output_type": "display_data",
          "data": {
            "image/png": "[encoded data removed]",
            "text/plain": [
              "<Figure size 1080x360 with 1 Axes>"
            ]
          },
          "metadata": {
            "needs_background": "light"
          }
        }
      ]
    },
    {
      "cell_type": "code",
      "metadata": {
        "colab": {
          "base_uri": "https://localhost:8080/"
        },
        "id": "sRnZ1F0FMjnI",
        "outputId": "16dd1a4e-6486-4929-804a-87c6a50c1c0a"
      },
      "source": [
        "print(X_description[0])"
      ],
      "execution_count": 97,
      "outputs": [
        {
          "output_type": "stream",
          "name": "stdout",
          "text": [
            "  (0, 246)\t0.1734026855573156\n",
            "  (0, 8)\t0.2116522885086651\n",
            "  (0, 155)\t0.09889399345871289\n",
            "  (0, 292)\t0.0990684460304995\n",
            "  (0, 191)\t0.11105601162640538\n",
            "  (0, 276)\t0.08150118452304093\n",
            "  (0, 295)\t0.095292591344902\n",
            "  (0, 99)\t0.08771849460725115\n",
            "  (0, 95)\t0.0952120517298195\n",
            "  (0, 101)\t0.1769574531213745\n",
            "  (0, 139)\t0.2553989287254968\n",
            "  (0, 150)\t0.15104788628990254\n",
            "  (0, 13)\t0.12180028948258058\n",
            "  (0, 123)\t0.09837450772534805\n",
            "  (0, 81)\t0.10482710549444181\n",
            "  (0, 296)\t0.08925152489909181\n",
            "  (0, 112)\t0.11038329160304666\n",
            "  (0, 36)\t0.08037454603129555\n",
            "  (0, 116)\t0.10768003961805427\n",
            "  (0, 96)\t0.08918074027543661\n",
            "  (0, 214)\t0.10542396340876982\n",
            "  (0, 124)\t0.089110062658056\n",
            "  (0, 284)\t0.08120205851871058\n",
            "  (0, 236)\t0.09726837413941514\n",
            "  (0, 235)\t0.0818626804089979\n",
            "  :\t:\n",
            "  (0, 173)\t0.12222856638570419\n",
            "  (0, 286)\t0.08932241685352904\n",
            "  (0, 72)\t0.08710555193899201\n",
            "  (0, 234)\t0.0907633085488974\n",
            "  (0, 224)\t0.11720233868326763\n",
            "  (0, 200)\t0.1225162795090219\n",
            "  (0, 151)\t0.09135233347360895\n",
            "  (0, 211)\t0.12950737180636165\n",
            "  (0, 5)\t0.11208359661712995\n",
            "  (0, 149)\t0.12339019719627005\n",
            "  (0, 274)\t0.09586028720954792\n",
            "  (0, 206)\t0.12309707250572671\n",
            "  (0, 230)\t0.14256805857375926\n",
            "  (0, 201)\t0.09995060871115473\n",
            "  (0, 208)\t0.11917534177356798\n",
            "  (0, 66)\t0.3195700160803433\n",
            "  (0, 27)\t0.1215169356759024\n",
            "  (0, 83)\t0.2625398586711106\n",
            "  (0, 160)\t0.09701678661754985\n",
            "  (0, 54)\t0.10453150976798482\n",
            "  (0, 85)\t0.15866335941704018\n",
            "  (0, 50)\t0.25129849398793375\n",
            "  (0, 9)\t0.31930793311417927\n",
            "  (0, 197)\t0.09402031596764575\n",
            "  (0, 65)\t0.08758158898967722\n"
          ]
        }
      ]
    },
    {
      "cell_type": "code",
      "metadata": {
        "id": "Ky8uIub9Mjkf"
      },
      "source": [
        "# training and test datasets\n",
        "factor = 0.3\n",
        "x_nlp_train, x_nlp_test, y_nlp_train, y_nlp_test = train_test_split(X_description, y_nlp, test_size=factor, random_state=42)"
      ],
      "execution_count": 99,
      "outputs": []
    },
    {
      "cell_type": "code",
      "metadata": {
        "id": "MirBf7NHMjgB"
      },
      "source": [
        "# create a model\n",
        "MNB = MultinomialNB()\n",
        "MNB.fit(x_nlp_train, y_nlp_train)\n",
        "prediction_train = MNB.predict(x_nlp_train)\n",
        "prediction_test = MNB.predict(x_nlp_test)\n",
        "# Probabilities in test\n",
        "class_prob = MNB.predict_proba(x_nlp_test)"
      ],
      "execution_count": 103,
      "outputs": []
    },
    {
      "cell_type": "code",
      "metadata": {
        "colab": {
          "base_uri": "https://localhost:8080/"
        },
        "id": "fGuzbACEYRFQ",
        "outputId": "0dc440bc-bc70-45ef-9956-bc62fee1682d"
      },
      "source": [
        "# accuracy in training set\n",
        "y_pred_train = prediction_train\n",
        "print(\"Train Accuracy: \"+str(accuracy_score(y_nlp_train, y_pred_train)))\n",
        "# accuracy in test set \n",
        "y_true = y_nlp_test\n",
        "y_pred_test = prediction_test\n",
        "print(\"Test Accuracy: \"+str(accuracy_score(y_true, y_pred_test)))"
      ],
      "execution_count": 104,
      "outputs": [
        {
          "output_type": "stream",
          "name": "stdout",
          "text": [
            "Train Accuracy: 0.18253275109170305\n",
            "Test Accuracy: 0.04065040650406504\n"
          ]
        }
      ]
    },
    {
      "cell_type": "code",
      "metadata": {
        "colab": {
          "base_uri": "https://localhost:8080/"
        },
        "id": "SvPWb3TWYXvu",
        "outputId": "b7c62a0c-b453-4a9d-f8a8-d4c404631d94"
      },
      "source": [
        "# confusion matrix\n",
        "conf_mat = confusion_matrix(y_true, y_pred_test)\n",
        "print(\"Confusion Matrix\\n\", conf_mat)"
      ],
      "execution_count": 105,
      "outputs": [
        {
          "output_type": "stream",
          "name": "stdout",
          "text": [
            "Confusion Matrix\n",
            " [[0 0 0 ... 0 0 0]\n",
            " [0 0 0 ... 0 0 0]\n",
            " [0 0 0 ... 0 0 0]\n",
            " ...\n",
            " [0 0 0 ... 0 0 0]\n",
            " [0 0 0 ... 0 0 0]\n",
            " [0 0 0 ... 0 0 0]]\n"
          ]
        }
      ]
    },
    {
      "cell_type": "markdown",
      "metadata": {
        "id": "67bAGwFOwOPP"
      },
      "source": [
        "Cleansing process of the free-text features within the dataset, in this case Description and Features, for train and test consisted in:\n",
        "* Lower String\n",
        "* Remove Stop Words using NLTK list\n",
        "* Remove Punctuation with regex expression [^\\w\\s]+\n",
        "* Remove Numeric Values with regex expression [^a-zA-Z]\n",
        "* Remove words smaller than 4 characters\n",
        "After all of the preprocessing TF-IDF (Term Frequency — Inverse Dense Frequency) was applied, in order to find meaning of sentences.\n",
        "\n",
        "\n"
      ]
    },
    {
      "cell_type": "markdown",
      "metadata": {
        "id": "UWq69zEeqVXA"
      },
      "source": [
        "# FEATURE IMPORTANCE"
      ]
    },
    {
      "cell_type": "code",
      "metadata": {
        "id": "e6CbzFs9Jn6Z"
      },
      "source": [
        "# Feature selection using XGBoost[1]\n",
        "from xgboost import XGBClassifier\n",
        "from xgboost import plot_importance\n",
        "\n",
        "#Remove Categorical Variables\n",
        "house_train_fi = house_train.drop(['Index','Description','Features'], axis=1)\n",
        "# For train/test split\n",
        "X = house_train_fi.drop('Price',axis=1)\n",
        "y = house_train_fi['Price']\n",
        "X_train,X_test,y_train,y_test = train_test_split(X, y, test_size=0.3)\n",
        "fi_Model = XGBClassifier()\n",
        "fi_Model.fit(X_train, y_train)\n",
        "# plot feature importance\n",
        "plt.rcParams[\"figure.figsize\"] = (28, 14)\n",
        "plot_importance(fi_Model)\n",
        "plt.show();"
      ],
      "execution_count": null,
      "outputs": []
    },
    {
      "cell_type": "markdown",
      "metadata": {
        "id": "op5AFTfWvLbs"
      },
      "source": [
        "Feature Importance based on XGBoost tell us that surface, latitude, longitude and BER class are the top most important features to predict the property prices, followed by number of beds and number of bathrooms, that interesting enough were the two features with high correlation against price. As extra features we have semi-detached type of property and parking and gas fired central heating for services in importance."
      ]
    },
    {
      "cell_type": "markdown",
      "metadata": {
        "id": "-f5LyE8QxDje"
      },
      "source": [
        "# MODEL"
      ]
    },
    {
      "cell_type": "markdown",
      "metadata": {
        "id": "qUzb1qjgaZhg"
      },
      "source": [
        "## Baseline Model"
      ]
    },
    {
      "cell_type": "code",
      "metadata": {
        "id": "XzTs9HgjAOzX"
      },
      "source": [
        "selected_columns = ['Surface','Num_Beds','Num_Bathrooms','Latitude','Longitude', 'Type', 'Parking','GasFiredCentralHeating']"
      ],
      "execution_count": null,
      "outputs": []
    },
    {
      "cell_type": "code",
      "metadata": {
        "id": "ocohVti6Aa6u"
      },
      "source": [
        "# train set, input columns\n",
        "Xs_train = X_train[selected_columns].values \n",
        "# train set, output column, cost\n",
        "ys_train = y_train.values.reshape(-1,1)   \n",
        "\n",
        "# test set, input columns\n",
        "Xs_test = X_test[regression_columns].values \n"
      ],
      "execution_count": null,
      "outputs": []
    },
    {
      "cell_type": "code",
      "metadata": {
        "id": "-6-LWh-Mae6Z"
      },
      "source": [
        "X = house_train[['Surface','Latitude','Longitude','BER_class','Num_Beds','Num_Bathrooms','semi-detached','Parking','GasFiredCentralHeating','terraced']]\n",
        "X_ = house_test[['Surface','Latitude','Longitude','BER_class','Num_Beds','Num_Bathrooms','semi-detached','Parking','GasFiredCentralHeating','terraced']]\n",
        "y = house_train[\"Price\"]"
      ],
      "execution_count": null,
      "outputs": []
    },
    {
      "cell_type": "code",
      "metadata": {
        "id": "fwNpDvHjae3Z"
      },
      "source": [
        "scaler = StandardScaler()\n",
        "X = scaler.fit_transform(X)\n",
        "X_ = scaler.fit_transform(X_)\n",
        "y = scaler.fit_transform(y.values.reshape(-1,1))"
      ],
      "execution_count": null,
      "outputs": []
    },
    {
      "cell_type": "code",
      "metadata": {
        "id": "H73kwH_Gae0s"
      },
      "source": [
        "from sklearn.linear_model import LinearRegression\n",
        "from sklearn.metrics import mean_absolute_error\n",
        "from sklearn.metrics import mean_squared_log_error\n",
        "\n",
        "lr = LinearRegression().fit(X, y)\n",
        "print('LinearRegression Score:', lr.score(X, y))\n",
        "\n",
        "y_pred = lr.predict(X)\n",
        "y_pred = np.exp(scaler.inverse_transform(y_pred))\n",
        "y = np.exp(scaler.inverse_transform(y))\n",
        "\n",
        "print('LinearRegression MAE: ', mean_absolute_error(y, y_pred))\n",
        "print('LinearRegression MSLE: ', mean_squared_log_error(y, y_pred))"
      ],
      "execution_count": null,
      "outputs": []
    },
    {
      "cell_type": "code",
      "metadata": {
        "id": "O7vQaqDIjG0-"
      },
      "source": [
        "# Sample submission\n",
        "y_pred_sub = lr.predict(X_)\n",
        "y_pred_sub = np.exp(scaler.inverse_transform(y_pred_sub))\n",
        "house_test['Price'] = y_pred_sub\n",
        "\n",
        "initial_submission = pd.DataFrame(house_test['Price'])\n",
        "initial_submission['Index'] = sample_submission['Index']\n",
        "initial_submission = initial_submission[['Index', 'Price']]\n",
        "initial_submission = initial_submission.reset_index(drop=True)\n",
        "initial_submission.to_csv('sample_submission_v3.csv')\n",
        "initial_submission"
      ],
      "execution_count": null,
      "outputs": []
    },
    {
      "cell_type": "code",
      "metadata": {
        "id": "V-y7cH7pgx_0"
      },
      "source": [
        "#files.download('sample_submission_v3.csv')"
      ],
      "execution_count": null,
      "outputs": []
    },
    {
      "cell_type": "markdown",
      "metadata": {
        "id": "QC2EPIYkwJxu"
      },
      "source": [
        "Baseline Model used was linear regression, that included some of the numerical variables present in the dataset such as: 'Surface','Latitude','Longitude','BER_class','Num_Beds','Num_Bathrooms','semi-detached','Parking','GasFiredCentralHeating','terraced'. Selected as they are the top 10 features, according to the feature importance XGBoost based algorithm. In this case, target column `Price` was log transformed."
      ]
    },
    {
      "cell_type": "markdown",
      "metadata": {
        "id": "bJFJQxAS9HZK"
      },
      "source": [
        "## Piecewise Regression"
      ]
    },
    {
      "cell_type": "markdown",
      "metadata": {
        "id": "QkRchZtf6IV-"
      },
      "source": [
        "**Piecewise regression**, extract from [Wikipedia](https://en.wikipedia.org/wiki/Segmented_regression):\n",
        "\n",
        "Segmented regression, also known as piecewise regression or broken-stick regression, is a method in regression analysis in which the independent variable is partitioned into intervals and a separate line segment is fit to each interval. \n",
        "\n",
        "* Segmented regression analysis can also be performed on \n",
        "multivariate data by partitioning the various independent variables. \n",
        "* Segmented regression is useful when the independent variables, clustered into different groups, exhibit different relationships between the variables in these regions. \n",
        "\n",
        "* The boundaries between the segments are breakpoints.\n",
        "\n",
        "* Segmented linear regression is segmented regression whereby the relations in the intervals are obtained by linear regression. "
      ]
    },
    {
      "cell_type": "markdown",
      "metadata": {
        "id": "-7oltvgD39jo"
      },
      "source": [
        "### Full Model"
      ]
    },
    {
      "cell_type": "code",
      "metadata": {
        "id": "pXX7Mq2Y2NrK"
      },
      "source": [
        "# select some features columns just for the baseline model\n",
        "# assume not all of the features are informative or useful\n",
        "# in this exercise you could try all of them if possible\n",
        "\n",
        "featrain = ['Surface', 'Latitude','Longitude', 'BER_class', 'Num_Beds', 'Num_Bathrooms', 'semi-detached', 'Parking', 'GasFiredCentralHeating', 'terraced', 'Price']\n",
        "# dropna: remove missing values\n",
        "df_subset_train = house_train[featrain].dropna(axis=0)\n",
        "\n",
        "featest = ['Surface', 'Latitude','Longitude', 'BER_class', 'Num_Beds', 'Num_Bathrooms', 'semi-detached', 'Parking', 'GasFiredCentralHeating', 'terraced']\n",
        "# dropna: remove missing values\n",
        "df_subset_test  =  house_test[featest].dropna(axis=0)"
      ],
      "execution_count": null,
      "outputs": []
    },
    {
      "cell_type": "code",
      "metadata": {
        "id": "F3Dswm3y0ZtP"
      },
      "source": [
        "print('Number of nan in df_subset_train dataset: ',df_subset_train.isnull().sum().sum())\n",
        "print('Number of nan in df_subset_test dataset: ',df_subset_test.isnull().sum().sum())"
      ],
      "execution_count": null,
      "outputs": []
    },
    {
      "cell_type": "code",
      "metadata": {
        "id": "RvC501jF0Zqx"
      },
      "source": [
        "# train set, input columns\n",
        "Xs_train = df_subset_train.iloc[:,0:-1].values \n",
        "# train set, output column, price\n",
        "ys_train = df_subset_train.iloc[:,-1].values.reshape(-1,1)   \n",
        "\n",
        "# test set, input columns\n",
        "Xs_test = df_subset_test.iloc[:,0:].values \n",
        "# test set, output column, cost\n",
        "y_test = df_subset_train.Price[0:len(df_subset_test)].values"
      ],
      "execution_count": null,
      "outputs": []
    },
    {
      "cell_type": "code",
      "metadata": {
        "id": "xIq2c75Q-YkH"
      },
      "source": [
        "# StandardScaler() will normalize the features i.e. each column of X, \n",
        "# so, each column/feature/variable will have μ = 0 and σ = 1\n",
        "sc = StandardScaler()\n",
        "\n",
        "Xss_train = np.hstack([Xs_train,Xs_train[:,[2]]**2])\n",
        "xscaler = sc.fit(Xss_train)\n",
        "Xn_train = xscaler.transform(Xss_train)\n",
        "\n",
        "Xss_test = np.hstack([Xs_test,Xs_test[:,[2]]**2])\n",
        "Xn_test = xscaler.transform(Xss_test)\n",
        "\n",
        "ylog = np.log(ys_train.astype('float'))\n",
        "yscaler = StandardScaler().fit(ylog)\n",
        "yn_train = yscaler.transform(ylog)"
      ],
      "execution_count": null,
      "outputs": []
    },
    {
      "cell_type": "code",
      "metadata": {
        "id": "bE-t8L2B5wzk"
      },
      "source": [
        "# model\n",
        "with pm.Model() as model:\n",
        "    #prior over the parameters of linear regression\n",
        "    alpha = pm.Normal('alpha', mu=0, sigma=30)\n",
        "    #we have one beta for each column of Xn\n",
        "    beta = pm.Normal('beta', mu=0, sigma=30, shape=Xn_train.shape[1])\n",
        "    #prior over the variance of the noise\n",
        "    sigma = pm.HalfCauchy('sigma_n', 5)\n",
        "    #linear regression model in matrix form\n",
        "    mu = alpha + pm.math.dot(beta, Xn_train.T)\n",
        "    #likelihood, be sure that observed is a 1d vector\n",
        "    like = pm.Normal('like', mu=mu, sigma=sigma, observed=yn_train[:,0])"
      ],
      "execution_count": null,
      "outputs": []
    },
    {
      "cell_type": "code",
      "metadata": {
        "id": "-Fqykj6R0Zlf"
      },
      "source": [
        "#number of iterations of the algorithms\n",
        "iter = 50000 \n",
        "\n",
        "# run the model\n",
        "with model:\n",
        "    approximation = pm.fit(iter,method='advi')\n",
        "    \n",
        "# check the convergence\n",
        "plt.plot(approximation.hist);"
      ],
      "execution_count": null,
      "outputs": []
    },
    {
      "cell_type": "code",
      "metadata": {
        "id": "2sq5uJXw0Zic"
      },
      "source": [
        "# samples from the posterior\n",
        "posterior = approximation.sample(5000)"
      ],
      "execution_count": null,
      "outputs": []
    },
    {
      "cell_type": "code",
      "metadata": {
        "id": "8lJYKTDd0Zd9"
      },
      "source": [
        "# prediction\n",
        "ll=np.mean(posterior['alpha']) + np.dot(np.mean(posterior['beta'],axis=0), Xn_test.T)\n",
        "y_pred_BLR = np.exp(yscaler.inverse_transform(ll.reshape(-1,1)))[:,0]\n",
        "print(\"MAE = \",(np.mean(abs(y_pred_BLR - y_test))))\n",
        "print(\"MAPE = \",(np.mean(abs(y_pred_BLR - y_test) / y_test)))"
      ],
      "execution_count": null,
      "outputs": []
    },
    {
      "cell_type": "code",
      "metadata": {
        "id": "JImna7N2-8mx"
      },
      "source": [
        "y_pred_out = np.exp(yscaler.inverse_transform(y_pred_BLR))\n",
        "results = house_test['Index']\n",
        "BLR_results = pd.DataFrame(y_pred_BLR, columns=['Price'])\n",
        "BLR = pd.concat([results, BLR_results], axis=1)\n",
        "BLR.to_csv('sample_submission_v4.csv',index=False)"
      ],
      "execution_count": null,
      "outputs": []
    },
    {
      "cell_type": "code",
      "metadata": {
        "id": "oO64uZHk_XQ0"
      },
      "source": [
        "files.download('sample_submission_v4.csv')"
      ],
      "execution_count": null,
      "outputs": []
    },
    {
      "cell_type": "markdown",
      "metadata": {
        "id": "v72iJMSR4D6Q"
      },
      "source": [
        "### Clustering"
      ]
    },
    {
      "cell_type": "code",
      "metadata": {
        "id": "YvIl7Klc0Zbp"
      },
      "source": [
        "# training gaussian mixture model \n",
        "from sklearn.mixture import GaussianMixture\n",
        "\n",
        "from sys import maxsize\n",
        "from numpy import set_printoptions"
      ],
      "execution_count": null,
      "outputs": []
    },
    {
      "cell_type": "code",
      "metadata": {
        "id": "3Own72LL0ZZn"
      },
      "source": [
        "gmm = GaussianMixture(n_components=4)\n",
        "# clustering by features 1 - 2\n",
        "ind=[0,1,2]\n",
        "X_ind = np.vstack([Xn_train[:,ind],Xn_test[:,ind]])\n",
        "# Gaussian Mixture\n",
        "gmm.fit(X_ind)\n",
        "# plot blue dots\n",
        "plt.scatter(X_ind[:,0],X_ind[:,1])\n",
        "# centroids:  orange dots\n",
        "plt.scatter(gmm.means_[:,0],gmm.means_[:,1])\n",
        "# lenght of feature clustering\n",
        "np.max(ys_train)"
      ],
      "execution_count": null,
      "outputs": []
    },
    {
      "cell_type": "markdown",
      "metadata": {
        "id": "Eys34zrvAlKa"
      },
      "source": [
        "Clusters"
      ]
    },
    {
      "cell_type": "code",
      "metadata": {
        "id": "T9ol8DGc5QtW"
      },
      "source": [
        "# train clusters\n",
        "clusters_train = gmm.predict(Xn_train[:,ind])\n",
        "unique_train, counts_train = np.unique(clusters_train, return_counts=True)\n",
        "dict(zip(unique_train, counts_train))"
      ],
      "execution_count": null,
      "outputs": []
    },
    {
      "cell_type": "code",
      "metadata": {
        "id": "1i2eFMuN5QxO"
      },
      "source": [
        "# test clusters\n",
        "clusters_test = gmm.predict(Xn_test[:,ind])\n",
        "unique_test, counts_test = np.unique(clusters_test, return_counts=True)\n",
        "dict(zip(unique_test, counts_test))"
      ],
      "execution_count": null,
      "outputs": []
    },
    {
      "cell_type": "code",
      "metadata": {
        "id": "U0T_RbuY5Q0w"
      },
      "source": [
        "# cluster 0\n",
        "Xn0 = Xn_train[clusters_train==0,:]\n",
        "Xtestn0 = Xn_test[clusters_test==0,:]\n",
        "\n",
        "ylog0 = np.log(ys_train.astype('float')[clusters_train==0,:])\n",
        "yscaler0 = StandardScaler().fit(ylog0)\n",
        "yn0 = yscaler0.transform(ylog0)"
      ],
      "execution_count": null,
      "outputs": []
    },
    {
      "cell_type": "code",
      "metadata": {
        "id": "pNIsv7dV5Q3Z"
      },
      "source": [
        "# cluster 1\n",
        "Xn1 = Xn_train[clusters_train==1,:]\n",
        "Xtestn1 = Xn_test[clusters_test==1,:]\n",
        "ylog1 = np.log(ys_train.astype('float')[clusters_train==1,:])\n",
        "yscaler1 = StandardScaler().fit(ylog1)\n",
        "yn1 = yscaler1.transform(ylog1)"
      ],
      "execution_count": null,
      "outputs": []
    },
    {
      "cell_type": "code",
      "metadata": {
        "id": "SYgRG-hX5Q5-"
      },
      "source": [
        "# cluster 2\n",
        "Xn2 = Xn_train[clusters_train==2,:]\n",
        "Xtestn2 = Xn_test[clusters_test==2,:]\n",
        "ylog2 = np.log(ys_train.astype('float')[clusters_train==2,:])\n",
        "yscaler2 = StandardScaler().fit(ylog2)\n",
        "yn2 = yscaler2.transform(ylog2)"
      ],
      "execution_count": null,
      "outputs": []
    },
    {
      "cell_type": "code",
      "metadata": {
        "id": "MgAW0pLf5Q70"
      },
      "source": [
        "# cluster 3\n",
        "Xn3 = Xn_train[clusters_train==3,:]\n",
        "Xtestn3 = Xn_test[clusters_test==3,:]\n",
        "ylog3 = np.log(ys_train.astype('float')[clusters_train==3,:])\n",
        "yscaler3 = StandardScaler().fit(ylog3)\n",
        "yn3 = yscaler3.transform(ylog3)"
      ],
      "execution_count": null,
      "outputs": []
    },
    {
      "cell_type": "code",
      "metadata": {
        "id": "_395ku1N5Q-e"
      },
      "source": [
        "# model_0\n",
        "with pm.Model() as model_0:\n",
        "  # prior over the parameters of linear regression\n",
        "  alpha = pm.Normal('alpha', mu=0, sigma=30)\n",
        "  # we have a beta for each column of Xn0\n",
        "  beta = pm.Normal('beta', mu=0, sigma=30, shape=Xn0.shape[1])\n",
        "  # prior over the variance of the noise\n",
        "  sigma = pm.HalfCauchy('sigma_n', 5)\n",
        "  # linear regression relationship\n",
        "  #linear regression model in matrix form\n",
        "  mu = alpha + pm.math.dot(beta, Xn0.T)\n",
        "  # likelihood, be sure that observed is a 1d vector\n",
        "  like = pm.Normal('like', mu=mu, sigma=sigma, observed=yn0[:,0])\n",
        "\n",
        "with model_0:\n",
        "  # iterations of the algorithm\n",
        "  approximation = pm.fit(40000,method='advi')\n",
        "\n",
        "# samples from the posterior   \n",
        "posterior0 = approximation.sample(5000)"
      ],
      "execution_count": null,
      "outputs": []
    },
    {
      "cell_type": "markdown",
      "metadata": {
        "id": "n4L99KppApJT"
      },
      "source": [
        "Piecewise Model"
      ]
    },
    {
      "cell_type": "code",
      "metadata": {
        "id": "R_SQh5s25RAW"
      },
      "source": [
        "# model_0\n",
        "with pm.Model() as model_0:\n",
        "  # prior over the parameters of linear regression\n",
        "  alpha = pm.Normal('alpha', mu=0, sigma=30)\n",
        "  # we have a beta for each column of Xn0\n",
        "  beta = pm.Normal('beta', mu=0, sigma=30, shape=Xn0.shape[1])\n",
        "  # prior over the variance of the noise\n",
        "  sigma = pm.HalfCauchy('sigma_n', 5)\n",
        "  # linear regression relationship\n",
        "  #linear regression model in matrix form\n",
        "  mu = alpha + pm.math.dot(beta, Xn0.T)\n",
        "  # likelihood, be sure that observed is a 1d vector\n",
        "  like = pm.Normal('like', mu=mu, sigma=sigma, observed=yn0[:,0])\n",
        "\n",
        "with model_0:\n",
        "  # iterations of the algorithm\n",
        "  approximation = pm.fit(40000,method='advi')\n",
        "\n",
        "# samples from the posterior   \n",
        "posterior0 = approximation.sample(5000)"
      ],
      "execution_count": null,
      "outputs": []
    },
    {
      "cell_type": "code",
      "metadata": {
        "id": "JrBNFgtWAsqY"
      },
      "source": [
        "# model_1\n",
        "with pm.Model() as model_1:\n",
        "  # prior over the parameters of linear regression\n",
        "  alpha = pm.Normal('alpha', mu=0, sigma=30)\n",
        "  # we have a beta for each column of Xn\n",
        "  beta = pm.Normal('beta', mu=0, sigma=30, shape=Xn1.shape[1])\n",
        "  # prior over the variance of the noise\n",
        "  sigma = pm.HalfCauchy('sigma_n', 5)\n",
        "  # linear regression relationship\n",
        "  #linear regression model in matrix form\n",
        "  mu = alpha + pm.math.dot(beta, Xn1.T)\n",
        "  # likelihood, # \n",
        "  like = pm.Normal('like', mu=mu, sigma=sigma, observed=yn1[:,0])\n",
        "  \n",
        "with model_1:\n",
        "  # iterations of the algorithm\n",
        "  approximation = pm.fit(40000,method='advi')\n",
        "\n",
        "# samples from the posterior    \n",
        "posterior1 = approximation.sample(5000)"
      ],
      "execution_count": null,
      "outputs": []
    },
    {
      "cell_type": "code",
      "metadata": {
        "id": "n44NmCwRAsoS"
      },
      "source": [
        "# model_2\n",
        "with pm.Model() as model_2:\n",
        "  # prior over the parameters of linear regression\n",
        "  alpha = pm.Normal('alpha', mu=0, sigma=30)\n",
        "  # we have a beta for each column of Xn\n",
        "  beta = pm.Normal('beta', mu=0, sigma=30, shape=Xn2.shape[1])\n",
        "  # prior over the variance of the noise\n",
        "  sigma = pm.HalfCauchy('sigma_n', 5)\n",
        "  # linear regression relationship\n",
        "  # linear regression model in matrix form\n",
        "  mu = alpha + pm.math.dot(beta, Xn2.T)\n",
        "  # likelihood, be sure that observed is a 1d vector\n",
        "  like = pm.Normal('like', mu=mu, sigma=sigma, observed=yn2[:,0])\n",
        "    \n",
        "with model_2:\n",
        "  # iterations of the algorithms\n",
        "  approximation = pm.fit(40000,method='advi')\n",
        "\n",
        "# samples from the posterior    \n",
        "posterior2 = approximation.sample(5000)"
      ],
      "execution_count": null,
      "outputs": []
    },
    {
      "cell_type": "code",
      "metadata": {
        "id": "2tlz0I1wAslo"
      },
      "source": [
        "# model_3\n",
        "with pm.Model() as model3:\n",
        "  # prior over the parameters of linear regression\n",
        "  alpha = pm.Normal('alpha', mu=0, sigma=30)\n",
        "  # we have a beta for each column of Xn\n",
        "  beta = pm.Normal('beta', mu=0, sigma=30, shape=Xn3.shape[1])\n",
        "  # prior over the variance of the noise\n",
        "  sigma = pm.HalfCauchy('sigma_n', 5)\n",
        "  # linear regression relationship\n",
        "  mu = alpha + pm.math.dot(beta, Xn3.T)#linear regression model in matrix form\n",
        "  # likelihood, be sure that observed is a 1d vector\n",
        "  like = pm.Normal('like', mu=mu, sigma=sigma, observed=yn3[:,0])\n",
        "    \n",
        "with model3:\n",
        "  # number of iterations of the algorithms\n",
        "  approximation = pm.fit(40000,method='advi')\n",
        "\n",
        "# samples from the posterior     \n",
        "posterior3 = approximation.sample(5000)"
      ],
      "execution_count": null,
      "outputs": []
    },
    {
      "cell_type": "code",
      "metadata": {
        "id": "lkgBfm1mAsjp"
      },
      "source": [
        "# Posterior predictive checks (PPCs)\n",
        "def ppc(alpha,beta,sigma, X,  nsamples=500):\n",
        "    #we select nsamples random samples from the posterior\n",
        "    ind = np.random.randint(0,beta.shape[0],size=nsamples)\n",
        "    alphai = alpha[ind]\n",
        "    betai = beta[ind,:]\n",
        "    sigmai = sigma[ind]\n",
        "\n",
        "    Ypred = np.zeros((nsamples,X.shape[0]))\n",
        "    for i in range(X.shape[0]):\n",
        "        #we generate data from linear model\n",
        "        y_pred = alphai + np.dot(betai, X[i:i+1,:].T).T +np.random.randn(len(sigmai))*sigmai\n",
        "        Ypred[:,i]=y_pred[0,:]\n",
        "    return Ypred"
      ],
      "execution_count": null,
      "outputs": []
    },
    {
      "cell_type": "markdown",
      "metadata": {
        "id": "WjRAnKQYA-Gy"
      },
      "source": [
        "Simulations"
      ]
    },
    {
      "cell_type": "code",
      "metadata": {
        "id": "J4ege_zgAsfe"
      },
      "source": [
        "#Simulation: Only Cluster 0\n",
        "Ypred0 = yscaler0.inverse_transform(ppc(posterior0['alpha'],posterior0['beta'],posterior0['sigma_n'],Xn0,  nsamples=200))\n",
        "for i in range(Ypred0.shape[0]):\n",
        "    az.plot_dist( Ypred0[i,:],color='r',plot_kwargs={\"linewidth\": 0.2})\n",
        "az.plot_dist(Ypred0[i,:],color='r',plot_kwargs={\"linewidth\": 0.2}, label=\"prediction\")\n",
        "#plt.plot(np.linspace(-8,8,100),norm.pdf(np.linspace(-8,8,100),df=np.mean(posterior_1['nu'])))\n",
        "#plt.xlim([0,10e7])\n",
        "az.plot_dist(ylog0,label='true observations');\n",
        "plt.legend()\n",
        "plt.xlabel(\"log(y) - output variable\")\n",
        "plt.ylabel(\"density plot\");"
      ],
      "execution_count": null,
      "outputs": []
    },
    {
      "cell_type": "code",
      "metadata": {
        "id": "u-0DlHGbAsdB"
      },
      "source": [
        "#Simulation: Only Cluster 1\n",
        "Ypred1 = yscaler1.inverse_transform(ppc(posterior1['alpha'],posterior1['beta'],posterior1['sigma_n'],Xn1,  nsamples=200))\n",
        "for i in range(Ypred1.shape[0]):\n",
        "    az.plot_dist( Ypred1[i,:],color='r',plot_kwargs={\"linewidth\": 0.2})\n",
        "az.plot_dist(Ypred1[i,:],color='r',plot_kwargs={\"linewidth\": 0.2}, label=\"prediction\")\n",
        "#plt.plot(np.linspace(-8,8,100),norm.pdf(np.linspace(-8,8,100),df=np.mean(posterior_1['nu'])))\n",
        "#plt.xlim([0,10e7])\n",
        "az.plot_dist(ylog1,label='true observations');\n",
        "plt.legend()\n",
        "plt.xlabel(\"log(y) - output variable\")\n",
        "plt.ylabel(\"density plot\");"
      ],
      "execution_count": null,
      "outputs": []
    },
    {
      "cell_type": "code",
      "metadata": {
        "id": "bMHuZ038AsaL"
      },
      "source": [
        "#Simulation: Only Cluster 2\n",
        "Ypred2 = yscaler2.inverse_transform(ppc(posterior2['alpha'],posterior2['beta'],posterior2['sigma_n'],Xn2,  nsamples=200))\n",
        "for i in range(Ypred2.shape[0]):\n",
        "    az.plot_dist( Ypred2[i,:],color='r',plot_kwargs={\"linewidth\": 0.2})\n",
        "az.plot_dist(Ypred2[i,:],color='r',plot_kwargs={\"linewidth\": 0.2}, label=\"prediction\")\n",
        "#plt.plot(np.linspace(-8,8,100),norm.pdf(np.linspace(-8,8,100),df=np.mean(posterior_1['nu'])))\n",
        "#plt.xlim([0,10e7])\n",
        "az.plot_dist(ylog2,label='true observations');\n",
        "plt.legend()\n",
        "plt.xlabel(\"log(y) - output variable\")\n",
        "plt.ylabel(\"density plot\");"
      ],
      "execution_count": null,
      "outputs": []
    },
    {
      "cell_type": "code",
      "metadata": {
        "id": "ACvun9pL5RC5"
      },
      "source": [
        "#Simulation: Only Cluster 3\n",
        "Ypred3 = yscaler3.inverse_transform(ppc(posterior3['alpha'],posterior3['beta'],posterior3['sigma_n'],Xn3,  nsamples=200))\n",
        "for i in range(Ypred3.shape[0]):\n",
        "    az.plot_dist( Ypred3[i,:],color='r',plot_kwargs={\"linewidth\": 0.2})\n",
        "az.plot_dist(Ypred3[i,:],color='r',plot_kwargs={\"linewidth\": 0.2}, label=\"prediction\")\n",
        "#plt.plot(np.linspace(-8,8,100),norm.pdf(np.linspace(-8,8,100),df=np.mean(posterior_1['nu'])))\n",
        "#plt.xlim([0,10e7])\n",
        "az.plot_dist(ylog3,label='true observations');\n",
        "plt.legend()\n",
        "plt.xlabel(\"log(y) - output variable\")\n",
        "plt.ylabel(\"density plot\");"
      ],
      "execution_count": null,
      "outputs": []
    },
    {
      "cell_type": "markdown",
      "metadata": {
        "id": "oEUvHsOxBdRL"
      },
      "source": [
        "Overall"
      ]
    },
    {
      "cell_type": "code",
      "metadata": {
        "id": "8l5tw6DfBaM3"
      },
      "source": [
        "# posteriors\n",
        "Ypred0 = ppc(posterior0['alpha'],posterior0['beta'],posterior0['sigma_n'],Xn0,  nsamples=200)\n",
        "Ypred1 = ppc(posterior1['alpha'],posterior1['beta'],posterior1['sigma_n'],Xn1,  nsamples=200)\n",
        "Ypred2 = ppc(posterior2['alpha'],posterior2['beta'],posterior2['sigma_n'],Xn2,  nsamples=200)\n",
        "Ypred3 = ppc(posterior3['alpha'],posterior3['beta'],posterior3['sigma_n'],Xn3,  nsamples=200)\n",
        "\n",
        "# simulation\n",
        "Ypred = np.hstack([yscaler0.inverse_transform(Ypred0),\n",
        "                   yscaler1.inverse_transform(Ypred1),\n",
        "                   yscaler2.inverse_transform(Ypred2),\n",
        "                   yscaler3.inverse_transform(Ypred3)])\n",
        "\n",
        "# prediction\n",
        "for i in range(Ypred.shape[0]):\n",
        "    az.plot_dist( Ypred[i,:],color='r',plot_kwargs={\"linewidth\": 0.2})\n",
        "\n",
        "# plot\n",
        "az.plot_dist(Ypred[i,:],color='r',plot_kwargs={\"linewidth\": 0.2}, label=\"prediction\")\n",
        "ylog=np.vstack([ylog0,ylog1,ylog2,ylog3])\n",
        "az.plot_dist(ylog,label='true observations');\n",
        "plt.legend()\n",
        "plt.xlabel(\"log(y) - output variable\")\n",
        "plt.ylabel(\"density plot\");"
      ],
      "execution_count": null,
      "outputs": []
    },
    {
      "cell_type": "markdown",
      "metadata": {
        "id": "vuHFbh4MBiGS"
      },
      "source": [
        "TestSet Performance"
      ]
    },
    {
      "cell_type": "code",
      "metadata": {
        "id": "dZH9R6hkBaLO"
      },
      "source": [
        "# cluster 0\n",
        "y_pred_BLR0 = np.exp(yscaler0.inverse_transform(np.mean(posterior0['alpha']) \n",
        "              + np.dot(np.mean(posterior0['beta'],axis=0), Xtestn0.T)))\n",
        "print(\"Size Cluster0\", np.sum(clusters_test==0), \", MAE Cluster 0=\",\n",
        "      (np.mean(abs(y_pred_BLR0 - y_test[clusters_test==0]))))\n",
        "\n",
        "# cluster 1\n",
        "y_pred_BLR1 = np.exp(yscaler1.inverse_transform(np.mean(posterior1['alpha']) \n",
        "              + np.dot(np.mean(posterior1['beta'],axis=0), Xtestn1.T)))\n",
        "print(\"Size Cluster1\", np.sum(clusters_test==1), \", MAE Cluster 1=\",\n",
        "      (np.mean(abs(y_pred_BLR1 - y_test[clusters_test==1]))))\n",
        "\n",
        "# cluster 2\n",
        "y_pred_BLR2 = np.exp(yscaler2.inverse_transform(np.mean(posterior2['alpha']) \n",
        "              + np.dot(np.mean(posterior2['beta'],axis=0), Xtestn2.T)))\n",
        "print(\"Size Cluster2\", np.sum(clusters_test==2), \", MAE Cluster 2=\",\n",
        "      (np.mean(abs(y_pred_BLR2 - y_test[clusters_test==2]))))\n",
        "\n",
        "# cluster 3\n",
        "y_pred_BLR3 = np.exp(yscaler3.inverse_transform(np.mean(posterior3['alpha']) \n",
        "              + np.dot(np.mean(posterior3['beta'],axis=0), Xtestn3.T)))\n",
        "print(\"Size Cluster3\", np.sum(clusters_test==3), \", MAE Cluster 3=\",\n",
        "      (np.mean(abs(y_pred_BLR3 - y_test[clusters_test==3]))))\n",
        "\n",
        "# joint\n",
        "joint=np.hstack([abs(y_pred_BLR0 - y_test[clusters_test==0]),\n",
        "                 abs(y_pred_BLR1 - y_test[clusters_test==1]),\n",
        "                 abs(y_pred_BLR2 - y_test[clusters_test==2]),\n",
        "                 abs(y_pred_BLR3 - y_test[clusters_test==3])])\n",
        "\n",
        "# MAE\n",
        "print(\"MAE=\",np.mean(joint))"
      ],
      "execution_count": null,
      "outputs": []
    },
    {
      "cell_type": "code",
      "metadata": {
        "id": "YsKOssLwBaIa"
      },
      "source": [
        "results = house_test['Index']\n",
        "piecewise_results = pd.DataFrame(joint, columns=['Price'])\n",
        "piecewise = pd.concat([results, piecewise_results], axis=1)\n",
        "piecewise.to_csv('sample_submission_piecewise_v5.csv',index=False)"
      ],
      "execution_count": null,
      "outputs": []
    },
    {
      "cell_type": "code",
      "metadata": {
        "id": "ap6ENVo4CiiC"
      },
      "source": [
        "files.download('sample_submission_piecewise_v5.csv')"
      ],
      "execution_count": null,
      "outputs": []
    },
    {
      "cell_type": "markdown",
      "metadata": {
        "id": "qKUaVqISBtKY"
      },
      "source": [
        "PPC on the Test set"
      ]
    },
    {
      "cell_type": "code",
      "metadata": {
        "id": "_iKV3zY5BaGH"
      },
      "source": [
        "## Posterior predictive checks (PPCs)\n",
        "num_samples2 = 500\n",
        "Ypred0 = ppc(posterior0['alpha'],posterior0['beta'],posterior0['sigma_n'],Xtestn0, nsamples=num_samples2)\n",
        "Ypred1 = ppc(posterior1['alpha'],posterior1['beta'],posterior1['sigma_n'],Xtestn1, nsamples=num_samples2)\n",
        "Ypred2 = ppc(posterior2['alpha'],posterior2['beta'],posterior2['sigma_n'],Xtestn2, nsamples=num_samples2)\n",
        "Ypred3 = ppc(posterior3['alpha'],posterior3['beta'],posterior3['sigma_n'],Xtestn3, nsamples=num_samples2)\n",
        "\n",
        "# Stack arrays in sequence horizontally (column wise)\n",
        "Ypred = np.hstack([yscaler0.inverse_transform(Ypred0),\n",
        "                 yscaler1.inverse_transform(Ypred1),\n",
        "                 yscaler2.inverse_transform(Ypred2),\n",
        "                 yscaler3.inverse_transform(Ypred3)])\n",
        "\n",
        "# plot prediction shape\n",
        "for i in range(Ypred.shape[0]):\n",
        "    az.plot_dist( Ypred[i,:],color='r',plot_kwargs={\"linewidth\": 0.2})\n",
        "# label\n",
        "az.plot_dist(Ypred[i,:],color='r',plot_kwargs={\"linewidth\": 0.2}, label=\"prediction\")\n",
        "\n",
        "# true observations\n",
        "az.plot_dist(np.log(y_test),label='true observations');\n",
        "plt.legend()\n",
        "plt.xlabel(\"log(y) - output variable\")\n",
        "plt.ylabel(\"density plot\");"
      ],
      "execution_count": null,
      "outputs": []
    },
    {
      "cell_type": "markdown",
      "metadata": {
        "id": "_kFgkUA85_pn"
      },
      "source": [
        "## Bayesian NN"
      ]
    },
    {
      "cell_type": "markdown",
      "metadata": {
        "id": "ELer5PV37ftX"
      },
      "source": [
        "A [Bayesian network](https://en.wikipedia.org/wiki/Bayesian_network) (also known as a Bayes network, Bayes net, belief network, or decision network) is a probabilistic graphical model that represents a set of variables and their conditional dependencies via a directed acyclic graph (DAG). \n",
        "\n",
        "* Bayesian networks are ideal for taking an event that occurred and predicting the likelihood that any one of several possible known causes was the contributing factor. \n",
        "* For example, a Bayesian network could represent the probabilistic relationships between diseases and symptoms. \n",
        "* Given symptoms, the network can be used to compute the probabilities of the presence of various diseases."
      ]
    },
    {
      "cell_type": "markdown",
      "metadata": {
        "id": "z0kauv1L5_po"
      },
      "source": [
        "Your comments, explanation, and references here."
      ]
    },
    {
      "cell_type": "code",
      "metadata": {
        "id": "0smpwCET5_pp"
      },
      "source": [
        "# your code here"
      ],
      "execution_count": null,
      "outputs": []
    },
    {
      "cell_type": "markdown",
      "metadata": {
        "id": "f0GYCpwEM09T"
      },
      "source": [
        "# SUMMARY"
      ]
    },
    {
      "cell_type": "markdown",
      "metadata": {
        "id": "rBDzsZSJ7HZp"
      },
      "source": [
        "Your summary here."
      ]
    },
    {
      "cell_type": "code",
      "metadata": {
        "id": "1kwF5YybkRoZ"
      },
      "source": [
        ""
      ],
      "execution_count": null,
      "outputs": []
    },
    {
      "cell_type": "code",
      "metadata": {
        "id": "Bcx3SgKakTgo"
      },
      "source": [
        ""
      ],
      "execution_count": null,
      "outputs": []
    },
    {
      "cell_type": "code",
      "metadata": {
        "id": "e5o-Qzlq_Ww2"
      },
      "source": [
        ""
      ],
      "execution_count": null,
      "outputs": []
    }
  ]
}