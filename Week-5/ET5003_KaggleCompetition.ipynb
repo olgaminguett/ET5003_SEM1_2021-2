{
  "nbformat": 4,
  "nbformat_minor": 0,
  "metadata": {
    "colab": {
      "name": "ET5003_KaggleCompetition.ipynb",
      "provenance": [],
      "collapsed_sections": [],
      "include_colab_link": true
    },
    "kernelspec": {
      "name": "python3",
      "display_name": "Python 3"
    },
    "language_info": {
      "name": "python"
    }
  },
  "cells": [
    {
      "cell_type": "markdown",
      "metadata": {
        "id": "view-in-github",
        "colab_type": "text"
      },
      "source": [
        "<a href=\"https://colab.research.google.com/github/olgaminguett/ET5003_SEM1_2021-2/blob/main/Week-5/ET5003_KaggleCompetition.ipynb\" target=\"_parent\"><img src=\"https://colab.research.google.com/assets/colab-badge.svg\" alt=\"Open In Colab\"/></a>"
      ]
    },
    {
      "cell_type": "markdown",
      "metadata": {
        "id": "930vlW5BrOtq"
      },
      "source": [
        "<div>\n",
        "<img src=\"https://drive.google.com/uc?export=view&id=1vK33e_EqaHgBHcbRV_m38hx6IkG0blK_\" width=\"350\"/>\n",
        "</div> \n",
        "\n",
        "#**Artificial Intelligence - MSc**\n",
        "##ET5003 - MACHINE LEARNING APPLICATIONS \n",
        "\n",
        "###Instructor: Enrique Naredo\n",
        "###ET5003_KaggleCompetition"
      ]
    },
    {
      "cell_type": "code",
      "metadata": {
        "id": "LqXD_IwUQuBF"
      },
      "source": [
        "#@title Current Date\n",
        "Today = \"2021-10-06\" #@param {type:\"date\"}\n"
      ],
      "execution_count": 1,
      "outputs": []
    },
    {
      "cell_type": "code",
      "metadata": {
        "id": "uzDKau31OjVO"
      },
      "source": [
        "#@markdown ---\n",
        "#@markdown ### Enter your details here:\n",
        "Team_Number = \"Group 1\" #@param {type:\"string\"}\n",
        "StudentID_Name = \"\" #@param {type:\"string\"}\n",
        "StudentID_Name = \"\" #@param {type:\"string\"}\n",
        "StudentID_Name = \"\" #@param {type:\"string\"}\n",
        "StudentID_Name = \"\" #@param {type:\"string\"}\n",
        "StudentID_Name = \"\" #@param {type:\"string\"}\n",
        "#@markdown ---"
      ],
      "execution_count": 2,
      "outputs": []
    },
    {
      "cell_type": "code",
      "metadata": {
        "id": "r39xGZckTpKx"
      },
      "source": [
        "#@title Notebook information\n",
        "Notebook_type = 'Assignment' #@param [\"Example\", \"Lab\", \"Practice\", \"Etivity\", \"Assignment\", \"Exam\"]\n",
        "Version = 'Draft' #@param [\"Draft\", \"Final\"] {type:\"raw\"}\n",
        "Submission = False #@param {type:\"boolean\"}"
      ],
      "execution_count": 3,
      "outputs": []
    },
    {
      "cell_type": "markdown",
      "metadata": {
        "id": "_A0Z6S-r6DpA"
      },
      "source": [
        "# INTRODUCTION"
      ]
    },
    {
      "cell_type": "markdown",
      "metadata": {
        "id": "d2vlkUAJ7Pz7"
      },
      "source": [
        "Your introduction here."
      ]
    },
    {
      "cell_type": "markdown",
      "metadata": {
        "id": "aajlS0WCJ8pm"
      },
      "source": [
        "***The goal is to use advanced Machine Learning methods to predict House price.***"
      ]
    },
    {
      "cell_type": "markdown",
      "metadata": {
        "id": "Wg7VCbX77eAA"
      },
      "source": [
        "## Imports"
      ]
    },
    {
      "cell_type": "code",
      "metadata": {
        "id": "fYrgjgOAd9Lj"
      },
      "source": [
        "#!pip install GPy"
      ],
      "execution_count": 4,
      "outputs": []
    },
    {
      "cell_type": "code",
      "metadata": {
        "id": "k96-GLUGE2ux"
      },
      "source": [
        "# Regular expression operations\n",
        "#https://docs.python.org/3/library/re.html\n",
        "import re \n",
        "\n",
        "# standard libraries\n",
        "import pandas as pd\n",
        "import numpy as np\n",
        "import seaborn as sns\n",
        "import matplotlib.pyplot as plt\n",
        "%matplotlib inline\n",
        "\n",
        "# Scikit-learn is an open source machine learning library \n",
        "# that supports supervised and unsupervised learning\n",
        "# https://scikit-learn.org/stable/\n",
        "# to generate data from an existing dataset\n",
        "from sklearn.neighbors import KernelDensity\n",
        "from sklearn.model_selection import GridSearchCV\n",
        "from sklearn.preprocessing import StandardScaler\n",
        "from sklearn.model_selection import train_test_split\n",
        "from sklearn.feature_extraction.text import CountVectorizer\n",
        "from sklearn.naive_bayes import MultinomialNB\n",
        "from sklearn.metrics import accuracy_score, confusion_matrix\n",
        "\n",
        "# Natural Language Toolkit\n",
        "# https://www.nltk.org/install.html\n",
        "import nltk\n",
        "\n",
        "# Stemming maps different forms of the same word to a common “stem” \n",
        "# https://pypi.org/project/snowballstemmer/\n",
        "from nltk.stem import SnowballStemmer\n",
        "\n",
        "# https://www.nltk.org/book/ch02.html\n",
        "from nltk.corpus import stopwords\n",
        "\n",
        "import GPy as GPy\n",
        "import pylab as pb\n",
        "import pymc3 as pm\n",
        "import arviz as az\n",
        "\n",
        "# Suppressing Warnings:\n",
        "import warnings\n",
        "warnings.filterwarnings(\"ignore\")"
      ],
      "execution_count": 5,
      "outputs": []
    },
    {
      "cell_type": "code",
      "metadata": {
        "id": "6MUJdlxSPSMM"
      },
      "source": [
        "# Define the seed so that results can be reproduced\n",
        "seed = 11\n",
        "rand_state = 11"
      ],
      "execution_count": 6,
      "outputs": []
    },
    {
      "cell_type": "markdown",
      "metadata": {
        "id": "WL91ShB19RPw"
      },
      "source": [
        "# DATASET"
      ]
    },
    {
      "cell_type": "markdown",
      "metadata": {
        "id": "ESg5DGKWJSOf"
      },
      "source": [
        "Extract from this [paper](https://ieeexplore.ieee.org/document/9300074):\n",
        "\n",
        "* House prices are a significant impression of the economy, and its value ranges are of great concerns for the clients and property dealers. \n",
        "\n",
        "* Housing price escalate every year that eventually reinforced the need of strategy or technique that could predict house prices in future. \n",
        "\n",
        "* There are certain factors that influence house prices including physical conditions, locations, number of bedrooms and others.\n"
      ]
    },
    {
      "cell_type": "markdown",
      "metadata": {
        "id": "a8Y2pf50FlYL"
      },
      "source": [
        "1. [Download the dataset](https://github.com/UL-CS6134/CS6134_SEM1_2021-2/tree/main/Week-5). \n",
        "\n",
        "2. Upload the dataset into your folder.\n",
        "\n"
      ]
    },
    {
      "cell_type": "markdown",
      "metadata": {
        "id": "FMkdCQEmKTof"
      },
      "source": [
        "The challenge is to predict the final price of each house."
      ]
    },
    {
      "cell_type": "markdown",
      "metadata": {
        "id": "2PMoPLlUJ1Ly"
      },
      "source": [
        "## Load Data"
      ]
    },
    {
      "cell_type": "code",
      "metadata": {
        "colab": {
          "base_uri": "https://localhost:8080/"
        },
        "id": "SZh8VqSFkWHH",
        "outputId": "b8818eec-5883-43ad-e5aa-ceecc1b76af2"
      },
      "source": [
        "# Mount Google Drive\n",
        "from google.colab import drive\n",
        "drive.mount('/content/drive')"
      ],
      "execution_count": 7,
      "outputs": [
        {
          "output_type": "stream",
          "name": "stdout",
          "text": [
            "Drive already mounted at /content/drive; to attempt to forcibly remount, call drive.mount(\"/content/drive\", force_remount=True).\n"
          ]
        }
      ]
    },
    {
      "cell_type": "code",
      "metadata": {
        "id": "9Fh56amGkWEg"
      },
      "source": [
        "# Path, copy the path from your Drive\n",
        "syntPath = '/content/drive/My Drive/Colab Notebooks/house-data/'"
      ],
      "execution_count": 8,
      "outputs": []
    },
    {
      "cell_type": "code",
      "metadata": {
        "id": "AeAfhd1PkWCH"
      },
      "source": [
        "# House Data\n",
        "house_train = syntPath + 'HousePrice_Train.csv'\n",
        "house_test = syntPath + 'HousePrice_Test.csv'\n",
        "sample_submission = syntPath + 'sample_submission.csv'"
      ],
      "execution_count": 9,
      "outputs": []
    },
    {
      "cell_type": "code",
      "metadata": {
        "id": "ibLG_dH9kV_i"
      },
      "source": [
        "# Read datasets\n",
        "house_train = pd.read_csv(house_train).drop(columns=\"ID\")\n",
        "house_test = pd.read_csv(house_test).drop(columns=\"ID\")\n",
        "sample_submission = pd.read_csv(sample_submission)"
      ],
      "execution_count": 10,
      "outputs": []
    },
    {
      "cell_type": "code",
      "metadata": {
        "colab": {
          "base_uri": "https://localhost:8080/"
        },
        "id": "rWUsRL_OlnEN",
        "outputId": "bf276304-892a-4259-b297-b20e9e8932c5"
      },
      "source": [
        "print(\"Training data shape\", house_train.shape)\n",
        "print(\"Test data shape\", house_test.shape)"
      ],
      "execution_count": 11,
      "outputs": [
        {
          "output_type": "stream",
          "name": "stdout",
          "text": [
            "Training data shape (1638, 13)\n",
            "Test data shape (702, 12)\n"
          ]
        }
      ]
    },
    {
      "cell_type": "markdown",
      "metadata": {
        "id": "FMQ_5ZPXp08N"
      },
      "source": [
        "## Explore Data"
      ]
    },
    {
      "cell_type": "code",
      "metadata": {
        "colab": {
          "base_uri": "https://localhost:8080/",
          "height": 141
        },
        "id": "Hp8neCGPp1U0",
        "outputId": "a1ca9c07-d5f7-4e55-817e-77250e2de85a"
      },
      "source": [
        "# Print sample rows of the dataframe\n",
        "house_train.sample(3)"
      ],
      "execution_count": 12,
      "outputs": [
        {
          "output_type": "execute_result",
          "data": {
            "text/html": [
              "<div>\n",
              "<style scoped>\n",
              "    .dataframe tbody tr th:only-of-type {\n",
              "        vertical-align: middle;\n",
              "    }\n",
              "\n",
              "    .dataframe tbody tr th {\n",
              "        vertical-align: top;\n",
              "    }\n",
              "\n",
              "    .dataframe thead th {\n",
              "        text-align: right;\n",
              "    }\n",
              "</style>\n",
              "<table border=\"1\" class=\"dataframe\">\n",
              "  <thead>\n",
              "    <tr style=\"text-align: right;\">\n",
              "      <th></th>\n",
              "      <th>Index</th>\n",
              "      <th>Location</th>\n",
              "      <th>Num_Bathrooms</th>\n",
              "      <th>Num_Beds</th>\n",
              "      <th>BER_class</th>\n",
              "      <th>Description</th>\n",
              "      <th>Services</th>\n",
              "      <th>Features</th>\n",
              "      <th>Latitude</th>\n",
              "      <th>Longitude</th>\n",
              "      <th>Type</th>\n",
              "      <th>Surface</th>\n",
              "      <th>Price</th>\n",
              "    </tr>\n",
              "  </thead>\n",
              "  <tbody>\n",
              "    <tr>\n",
              "      <th>1381</th>\n",
              "      <td>1382</td>\n",
              "      <td>Rathfarnham</td>\n",
              "      <td>1</td>\n",
              "      <td>2</td>\n",
              "      <td>D1</td>\n",
              "      <td>BRACKEN ESTATES are pleased to offer for sale ...</td>\n",
              "      <td>Parking,Wired for Cable Television</td>\n",
              "      <td>None</td>\n",
              "      <td>53.298130</td>\n",
              "      <td>-6.285394</td>\n",
              "      <td>apartment</td>\n",
              "      <td>54.0</td>\n",
              "      <td>320000</td>\n",
              "    </tr>\n",
              "    <tr>\n",
              "      <th>1158</th>\n",
              "      <td>1159</td>\n",
              "      <td>Clontarf</td>\n",
              "      <td>7</td>\n",
              "      <td>7</td>\n",
              "      <td>SINo666of2006exempt</td>\n",
              "      <td>No. 29 Saint Lawrence Road is a handsome red b...</td>\n",
              "      <td>NaN</td>\n",
              "      <td>None</td>\n",
              "      <td>53.364780</td>\n",
              "      <td>-6.214978</td>\n",
              "      <td>terraced</td>\n",
              "      <td>174.0</td>\n",
              "      <td>750000</td>\n",
              "    </tr>\n",
              "    <tr>\n",
              "      <th>994</th>\n",
              "      <td>995</td>\n",
              "      <td>Foxrock</td>\n",
              "      <td>3</td>\n",
              "      <td>3</td>\n",
              "      <td>D1</td>\n",
              "      <td>Sherry FitzGerald is proud to welcome to the m...</td>\n",
              "      <td>NaN</td>\n",
              "      <td>Special Features\\nSouth-westerly facing privat...</td>\n",
              "      <td>53.271345</td>\n",
              "      <td>-6.193448</td>\n",
              "      <td>terraced</td>\n",
              "      <td>97.5</td>\n",
              "      <td>545000</td>\n",
              "    </tr>\n",
              "  </tbody>\n",
              "</table>\n",
              "</div>"
            ],
            "text/plain": [
              "      Index     Location  Num_Bathrooms  ...       Type Surface   Price\n",
              "1381   1382  Rathfarnham              1  ...  apartment    54.0  320000\n",
              "1158   1159     Clontarf              7  ...   terraced   174.0  750000\n",
              "994     995      Foxrock              3  ...   terraced    97.5  545000\n",
              "\n",
              "[3 rows x 13 columns]"
            ]
          },
          "metadata": {},
          "execution_count": 12
        }
      ]
    },
    {
      "cell_type": "code",
      "metadata": {
        "colab": {
          "base_uri": "https://localhost:8080/",
          "height": 141
        },
        "id": "N6bBlvcIqfgE",
        "outputId": "79c2f13a-c17d-4b90-e0af-cfda84bdc9a4"
      },
      "source": [
        "# Print sample rows of the dataframe\n",
        "house_test.sample(3)"
      ],
      "execution_count": 13,
      "outputs": [
        {
          "output_type": "execute_result",
          "data": {
            "text/html": [
              "<div>\n",
              "<style scoped>\n",
              "    .dataframe tbody tr th:only-of-type {\n",
              "        vertical-align: middle;\n",
              "    }\n",
              "\n",
              "    .dataframe tbody tr th {\n",
              "        vertical-align: top;\n",
              "    }\n",
              "\n",
              "    .dataframe thead th {\n",
              "        text-align: right;\n",
              "    }\n",
              "</style>\n",
              "<table border=\"1\" class=\"dataframe\">\n",
              "  <thead>\n",
              "    <tr style=\"text-align: right;\">\n",
              "      <th></th>\n",
              "      <th>Index</th>\n",
              "      <th>Location</th>\n",
              "      <th>Num_Bathrooms</th>\n",
              "      <th>Num_Beds</th>\n",
              "      <th>BER_class</th>\n",
              "      <th>Description</th>\n",
              "      <th>Services</th>\n",
              "      <th>Features</th>\n",
              "      <th>Latitude</th>\n",
              "      <th>Longitude</th>\n",
              "      <th>Type</th>\n",
              "      <th>Surface</th>\n",
              "    </tr>\n",
              "  </thead>\n",
              "  <tbody>\n",
              "    <tr>\n",
              "      <th>669</th>\n",
              "      <td>2308</td>\n",
              "      <td>Clontarf</td>\n",
              "      <td>2</td>\n",
              "      <td>5</td>\n",
              "      <td>G</td>\n",
              "      <td>Sherry FitzGerald is delighted to present a un...</td>\n",
              "      <td>NaN</td>\n",
              "      <td>Excellent Residential Location\\nWalking Distan...</td>\n",
              "      <td>53.365220</td>\n",
              "      <td>-6.217315</td>\n",
              "      <td>semi-detached</td>\n",
              "      <td>184.00</td>\n",
              "    </tr>\n",
              "    <tr>\n",
              "      <th>118</th>\n",
              "      <td>1757</td>\n",
              "      <td>Smithfield</td>\n",
              "      <td>1</td>\n",
              "      <td>2</td>\n",
              "      <td>C2</td>\n",
              "      <td>DNG Estate Agents are delighted to offer for s...</td>\n",
              "      <td>NaN</td>\n",
              "      <td>None</td>\n",
              "      <td>53.348851</td>\n",
              "      <td>-6.279070</td>\n",
              "      <td>apartment</td>\n",
              "      <td>70.00</td>\n",
              "    </tr>\n",
              "    <tr>\n",
              "      <th>15</th>\n",
              "      <td>1654</td>\n",
              "      <td>Dublin 1</td>\n",
              "      <td>1</td>\n",
              "      <td>2</td>\n",
              "      <td>C2</td>\n",
              "      <td>***TWO BED, ONE BATH APARTMENT CLOSE TO LUAS A...</td>\n",
              "      <td>NaN</td>\n",
              "      <td>None</td>\n",
              "      <td>53.353989</td>\n",
              "      <td>-6.258349</td>\n",
              "      <td>apartment</td>\n",
              "      <td>61.67</td>\n",
              "    </tr>\n",
              "  </tbody>\n",
              "</table>\n",
              "</div>"
            ],
            "text/plain": [
              "     Index    Location  Num_Bathrooms  ...  Longitude           Type Surface\n",
              "669   2308    Clontarf              2  ...  -6.217315  semi-detached  184.00\n",
              "118   1757  Smithfield              1  ...  -6.279070      apartment   70.00\n",
              "15    1654    Dublin 1              1  ...  -6.258349      apartment   61.67\n",
              "\n",
              "[3 rows x 12 columns]"
            ]
          },
          "metadata": {},
          "execution_count": 13
        }
      ]
    },
    {
      "cell_type": "code",
      "metadata": {
        "colab": {
          "base_uri": "https://localhost:8080/"
        },
        "id": "dmfNxwX_qfd8",
        "outputId": "bbe26126-c43b-4927-b07b-8cc857df0ddb"
      },
      "source": [
        "#Returns column name\n",
        "print('Train Data Columns',house_train.columns)\n",
        "print(len(house_train.columns))\n",
        "print('Test Data Columns',house_test.columns)\n",
        "print(len(house_test.columns))"
      ],
      "execution_count": 14,
      "outputs": [
        {
          "output_type": "stream",
          "name": "stdout",
          "text": [
            "Train Data Columns Index(['Index', 'Location', 'Num_Bathrooms', 'Num_Beds', 'BER_class',\n",
            "       'Description', 'Services', 'Features', 'Latitude', 'Longitude', 'Type',\n",
            "       'Surface', 'Price'],\n",
            "      dtype='object')\n",
            "13\n",
            "Test Data Columns Index(['Index', 'Location', 'Num_Bathrooms', 'Num_Beds', 'BER_class',\n",
            "       'Description', 'Services', 'Features', 'Latitude', 'Longitude', 'Type',\n",
            "       'Surface'],\n",
            "      dtype='object')\n",
            "12\n"
          ]
        }
      ]
    },
    {
      "cell_type": "code",
      "metadata": {
        "colab": {
          "base_uri": "https://localhost:8080/"
        },
        "id": "Dsn5ZJeR-nD0",
        "outputId": "b241099a-1273-40c4-a26b-6d97dccdd9ee"
      },
      "source": [
        "print('Train Data Shape',house_train.shape)\n",
        "print('Test Data Shape',house_test.shape)"
      ],
      "execution_count": 15,
      "outputs": [
        {
          "output_type": "stream",
          "name": "stdout",
          "text": [
            "Train Data Shape (1638, 13)\n",
            "Test Data Shape (702, 12)\n"
          ]
        }
      ]
    },
    {
      "cell_type": "markdown",
      "metadata": {
        "id": "z9Rmssn8_Z7-"
      },
      "source": [
        "The data consists in two datasets, train and test House Data, with 1638 by 13 vs 702 by 12 respectively. Only difference in columns numbers is the Price, as in this case is our target predictor. Information provided by the features include location, number of bathrooms and beds, BER class, description of the property, services, lat and long, type of property, size through surface and price. A column ID was dropped at loading data stage as it is another property identifier, as well as Index, and the former is the one used to recognize properties in the sample submission file, reason why it was kept."
      ]
    },
    {
      "cell_type": "code",
      "metadata": {
        "colab": {
          "base_uri": "https://localhost:8080/"
        },
        "id": "YtVbr_Tcqfbi",
        "outputId": "808ea99b-4c8e-4c3c-c91b-91cf709ccce5"
      },
      "source": [
        "#Concise summary of the dataframe\n",
        "print('Train Data Information')\n",
        "house_train.info()"
      ],
      "execution_count": 16,
      "outputs": [
        {
          "output_type": "stream",
          "name": "stdout",
          "text": [
            "Train Data Information\n",
            "<class 'pandas.core.frame.DataFrame'>\n",
            "RangeIndex: 1638 entries, 0 to 1637\n",
            "Data columns (total 13 columns):\n",
            " #   Column         Non-Null Count  Dtype  \n",
            "---  ------         --------------  -----  \n",
            " 0   Index          1638 non-null   int64  \n",
            " 1   Location       1638 non-null   object \n",
            " 2   Num_Bathrooms  1638 non-null   int64  \n",
            " 3   Num_Beds       1638 non-null   int64  \n",
            " 4   BER_class      1387 non-null   object \n",
            " 5   Description    1638 non-null   object \n",
            " 6   Services       577 non-null    object \n",
            " 7   Features       1638 non-null   object \n",
            " 8   Latitude       1638 non-null   float64\n",
            " 9   Longitude      1638 non-null   float64\n",
            " 10  Type           1638 non-null   object \n",
            " 11  Surface        1638 non-null   float64\n",
            " 12  Price          1638 non-null   int64  \n",
            "dtypes: float64(3), int64(4), object(6)\n",
            "memory usage: 166.5+ KB\n"
          ]
        }
      ]
    },
    {
      "cell_type": "code",
      "metadata": {
        "colab": {
          "base_uri": "https://localhost:8080/"
        },
        "id": "MkTpY2KrqfZB",
        "outputId": "18487a4d-a2aa-41f3-cb37-62db8148de03"
      },
      "source": [
        "#Concise summary of the dataframe\n",
        "print('Test Data Information')\n",
        "house_test.info()"
      ],
      "execution_count": 17,
      "outputs": [
        {
          "output_type": "stream",
          "name": "stdout",
          "text": [
            "Test Data Information\n",
            "<class 'pandas.core.frame.DataFrame'>\n",
            "RangeIndex: 702 entries, 0 to 701\n",
            "Data columns (total 12 columns):\n",
            " #   Column         Non-Null Count  Dtype  \n",
            "---  ------         --------------  -----  \n",
            " 0   Index          702 non-null    int64  \n",
            " 1   Location       702 non-null    object \n",
            " 2   Num_Bathrooms  702 non-null    int64  \n",
            " 3   Num_Beds       702 non-null    int64  \n",
            " 4   BER_class      594 non-null    object \n",
            " 5   Description    702 non-null    object \n",
            " 6   Services       246 non-null    object \n",
            " 7   Features       702 non-null    object \n",
            " 8   Latitude       702 non-null    float64\n",
            " 9   Longitude      702 non-null    float64\n",
            " 10  Type           702 non-null    object \n",
            " 11  Surface        702 non-null    float64\n",
            "dtypes: float64(3), int64(3), object(6)\n",
            "memory usage: 65.9+ KB\n"
          ]
        }
      ]
    },
    {
      "cell_type": "code",
      "metadata": {
        "colab": {
          "base_uri": "https://localhost:8080/",
          "height": 294
        },
        "id": "EXgevlGvL6Fw",
        "outputId": "43eff4e1-419a-488b-cdf6-61c4a08139d3"
      },
      "source": [
        "# Descriptive Statistics\n",
        "house_train.describe()"
      ],
      "execution_count": 18,
      "outputs": [
        {
          "output_type": "execute_result",
          "data": {
            "text/html": [
              "<div>\n",
              "<style scoped>\n",
              "    .dataframe tbody tr th:only-of-type {\n",
              "        vertical-align: middle;\n",
              "    }\n",
              "\n",
              "    .dataframe tbody tr th {\n",
              "        vertical-align: top;\n",
              "    }\n",
              "\n",
              "    .dataframe thead th {\n",
              "        text-align: right;\n",
              "    }\n",
              "</style>\n",
              "<table border=\"1\" class=\"dataframe\">\n",
              "  <thead>\n",
              "    <tr style=\"text-align: right;\">\n",
              "      <th></th>\n",
              "      <th>Index</th>\n",
              "      <th>Num_Bathrooms</th>\n",
              "      <th>Num_Beds</th>\n",
              "      <th>Latitude</th>\n",
              "      <th>Longitude</th>\n",
              "      <th>Surface</th>\n",
              "      <th>Price</th>\n",
              "    </tr>\n",
              "  </thead>\n",
              "  <tbody>\n",
              "    <tr>\n",
              "      <th>count</th>\n",
              "      <td>1638.000000</td>\n",
              "      <td>1638.000000</td>\n",
              "      <td>1638.000000</td>\n",
              "      <td>1638.000000</td>\n",
              "      <td>1638.000000</td>\n",
              "      <td>1638.000000</td>\n",
              "      <td>1.638000e+03</td>\n",
              "    </tr>\n",
              "    <tr>\n",
              "      <th>mean</th>\n",
              "      <td>819.500000</td>\n",
              "      <td>2.054335</td>\n",
              "      <td>3.043346</td>\n",
              "      <td>53.350473</td>\n",
              "      <td>-6.255086</td>\n",
              "      <td>169.540695</td>\n",
              "      <td>5.547196e+05</td>\n",
              "    </tr>\n",
              "    <tr>\n",
              "      <th>std</th>\n",
              "      <td>472.994186</td>\n",
              "      <td>1.241259</td>\n",
              "      <td>1.379650</td>\n",
              "      <td>0.076832</td>\n",
              "      <td>0.144430</td>\n",
              "      <td>1791.793934</td>\n",
              "      <td>5.652032e+05</td>\n",
              "    </tr>\n",
              "    <tr>\n",
              "      <th>min</th>\n",
              "      <td>1.000000</td>\n",
              "      <td>1.000000</td>\n",
              "      <td>1.000000</td>\n",
              "      <td>52.501856</td>\n",
              "      <td>-6.497000</td>\n",
              "      <td>3.400000</td>\n",
              "      <td>1.999500e+04</td>\n",
              "    </tr>\n",
              "    <tr>\n",
              "      <th>25%</th>\n",
              "      <td>410.250000</td>\n",
              "      <td>1.000000</td>\n",
              "      <td>2.000000</td>\n",
              "      <td>53.294261</td>\n",
              "      <td>-6.309613</td>\n",
              "      <td>73.000000</td>\n",
              "      <td>2.950000e+05</td>\n",
              "    </tr>\n",
              "    <tr>\n",
              "      <th>50%</th>\n",
              "      <td>819.500000</td>\n",
              "      <td>2.000000</td>\n",
              "      <td>3.000000</td>\n",
              "      <td>53.341386</td>\n",
              "      <td>-6.247780</td>\n",
              "      <td>97.050000</td>\n",
              "      <td>3.950000e+05</td>\n",
              "    </tr>\n",
              "    <tr>\n",
              "      <th>75%</th>\n",
              "      <td>1228.750000</td>\n",
              "      <td>3.000000</td>\n",
              "      <td>4.000000</td>\n",
              "      <td>53.382031</td>\n",
              "      <td>-6.193982</td>\n",
              "      <td>135.000000</td>\n",
              "      <td>5.950000e+05</td>\n",
              "    </tr>\n",
              "    <tr>\n",
              "      <th>max</th>\n",
              "      <td>1638.000000</td>\n",
              "      <td>18.000000</td>\n",
              "      <td>27.000000</td>\n",
              "      <td>53.630588</td>\n",
              "      <td>-1.744995</td>\n",
              "      <td>72236.387140</td>\n",
              "      <td>8.900000e+06</td>\n",
              "    </tr>\n",
              "  </tbody>\n",
              "</table>\n",
              "</div>"
            ],
            "text/plain": [
              "             Index  Num_Bathrooms  ...       Surface         Price\n",
              "count  1638.000000    1638.000000  ...   1638.000000  1.638000e+03\n",
              "mean    819.500000       2.054335  ...    169.540695  5.547196e+05\n",
              "std     472.994186       1.241259  ...   1791.793934  5.652032e+05\n",
              "min       1.000000       1.000000  ...      3.400000  1.999500e+04\n",
              "25%     410.250000       1.000000  ...     73.000000  2.950000e+05\n",
              "50%     819.500000       2.000000  ...     97.050000  3.950000e+05\n",
              "75%    1228.750000       3.000000  ...    135.000000  5.950000e+05\n",
              "max    1638.000000      18.000000  ...  72236.387140  8.900000e+06\n",
              "\n",
              "[8 rows x 7 columns]"
            ]
          },
          "metadata": {},
          "execution_count": 18
        }
      ]
    },
    {
      "cell_type": "code",
      "metadata": {
        "colab": {
          "base_uri": "https://localhost:8080/",
          "height": 294
        },
        "id": "a3WoJBGZL5-D",
        "outputId": "76817aac-622f-4ef3-b60d-354bf18ba617"
      },
      "source": [
        "# Descriptive Statistics\n",
        "house_test.describe()"
      ],
      "execution_count": 19,
      "outputs": [
        {
          "output_type": "execute_result",
          "data": {
            "text/html": [
              "<div>\n",
              "<style scoped>\n",
              "    .dataframe tbody tr th:only-of-type {\n",
              "        vertical-align: middle;\n",
              "    }\n",
              "\n",
              "    .dataframe tbody tr th {\n",
              "        vertical-align: top;\n",
              "    }\n",
              "\n",
              "    .dataframe thead th {\n",
              "        text-align: right;\n",
              "    }\n",
              "</style>\n",
              "<table border=\"1\" class=\"dataframe\">\n",
              "  <thead>\n",
              "    <tr style=\"text-align: right;\">\n",
              "      <th></th>\n",
              "      <th>Index</th>\n",
              "      <th>Num_Bathrooms</th>\n",
              "      <th>Num_Beds</th>\n",
              "      <th>Latitude</th>\n",
              "      <th>Longitude</th>\n",
              "      <th>Surface</th>\n",
              "    </tr>\n",
              "  </thead>\n",
              "  <tbody>\n",
              "    <tr>\n",
              "      <th>count</th>\n",
              "      <td>702.000000</td>\n",
              "      <td>702.000000</td>\n",
              "      <td>702.000000</td>\n",
              "      <td>702.000000</td>\n",
              "      <td>702.000000</td>\n",
              "      <td>702.000000</td>\n",
              "    </tr>\n",
              "    <tr>\n",
              "      <th>mean</th>\n",
              "      <td>1989.500000</td>\n",
              "      <td>2.027066</td>\n",
              "      <td>2.987179</td>\n",
              "      <td>53.350445</td>\n",
              "      <td>-6.252411</td>\n",
              "      <td>132.603530</td>\n",
              "    </tr>\n",
              "    <tr>\n",
              "      <th>std</th>\n",
              "      <td>202.794231</td>\n",
              "      <td>1.071273</td>\n",
              "      <td>1.198480</td>\n",
              "      <td>0.073961</td>\n",
              "      <td>0.091600</td>\n",
              "      <td>330.347066</td>\n",
              "    </tr>\n",
              "    <tr>\n",
              "      <th>min</th>\n",
              "      <td>1639.000000</td>\n",
              "      <td>1.000000</td>\n",
              "      <td>1.000000</td>\n",
              "      <td>53.214227</td>\n",
              "      <td>-6.521183</td>\n",
              "      <td>32.100000</td>\n",
              "    </tr>\n",
              "    <tr>\n",
              "      <th>25%</th>\n",
              "      <td>1814.250000</td>\n",
              "      <td>1.000000</td>\n",
              "      <td>2.000000</td>\n",
              "      <td>53.295225</td>\n",
              "      <td>-6.304258</td>\n",
              "      <td>73.000000</td>\n",
              "    </tr>\n",
              "    <tr>\n",
              "      <th>50%</th>\n",
              "      <td>1989.500000</td>\n",
              "      <td>2.000000</td>\n",
              "      <td>3.000000</td>\n",
              "      <td>53.341153</td>\n",
              "      <td>-6.247799</td>\n",
              "      <td>99.200000</td>\n",
              "    </tr>\n",
              "    <tr>\n",
              "      <th>75%</th>\n",
              "      <td>2164.750000</td>\n",
              "      <td>3.000000</td>\n",
              "      <td>4.000000</td>\n",
              "      <td>53.381752</td>\n",
              "      <td>-6.184277</td>\n",
              "      <td>136.875000</td>\n",
              "    </tr>\n",
              "    <tr>\n",
              "      <th>max</th>\n",
              "      <td>2340.000000</td>\n",
              "      <td>9.000000</td>\n",
              "      <td>14.000000</td>\n",
              "      <td>53.617443</td>\n",
              "      <td>-6.057150</td>\n",
              "      <td>8576.000000</td>\n",
              "    </tr>\n",
              "  </tbody>\n",
              "</table>\n",
              "</div>"
            ],
            "text/plain": [
              "             Index  Num_Bathrooms  ...   Longitude      Surface\n",
              "count   702.000000     702.000000  ...  702.000000   702.000000\n",
              "mean   1989.500000       2.027066  ...   -6.252411   132.603530\n",
              "std     202.794231       1.071273  ...    0.091600   330.347066\n",
              "min    1639.000000       1.000000  ...   -6.521183    32.100000\n",
              "25%    1814.250000       1.000000  ...   -6.304258    73.000000\n",
              "50%    1989.500000       2.000000  ...   -6.247799    99.200000\n",
              "75%    2164.750000       3.000000  ...   -6.184277   136.875000\n",
              "max    2340.000000       9.000000  ...   -6.057150  8576.000000\n",
              "\n",
              "[8 rows x 6 columns]"
            ]
          },
          "metadata": {},
          "execution_count": 19
        }
      ]
    },
    {
      "cell_type": "code",
      "metadata": {
        "colab": {
          "base_uri": "https://localhost:8080/"
        },
        "id": "uTgz5lGcqfWn",
        "outputId": "d87365f5-06c6-4dfc-ebd3-6f02550c611f"
      },
      "source": [
        "# Missing Values\n",
        "print('Train Data Missing Values')\n",
        "print(house_train.isna().sum())"
      ],
      "execution_count": 20,
      "outputs": [
        {
          "output_type": "stream",
          "name": "stdout",
          "text": [
            "Train Data Missing Values\n",
            "Index               0\n",
            "Location            0\n",
            "Num_Bathrooms       0\n",
            "Num_Beds            0\n",
            "BER_class         251\n",
            "Description         0\n",
            "Services         1061\n",
            "Features            0\n",
            "Latitude            0\n",
            "Longitude           0\n",
            "Type                0\n",
            "Surface             0\n",
            "Price               0\n",
            "dtype: int64\n"
          ]
        }
      ]
    },
    {
      "cell_type": "code",
      "metadata": {
        "colab": {
          "base_uri": "https://localhost:8080/"
        },
        "id": "whrml5c7qfUC",
        "outputId": "49d82769-bec4-4e1d-f7f7-6573416b93f8"
      },
      "source": [
        "print('Test Data Missing Values')\n",
        "print(house_test.isna().sum())"
      ],
      "execution_count": 21,
      "outputs": [
        {
          "output_type": "stream",
          "name": "stdout",
          "text": [
            "Test Data Missing Values\n",
            "Index              0\n",
            "Location           0\n",
            "Num_Bathrooms      0\n",
            "Num_Beds           0\n",
            "BER_class        108\n",
            "Description        0\n",
            "Services         456\n",
            "Features           0\n",
            "Latitude           0\n",
            "Longitude          0\n",
            "Type               0\n",
            "Surface            0\n",
            "dtype: int64\n"
          ]
        }
      ]
    },
    {
      "cell_type": "code",
      "metadata": {
        "colab": {
          "base_uri": "https://localhost:8080/"
        },
        "id": "Vgbs5qdPqfR8",
        "outputId": "8eb248be-8b35-4f39-97b4-8ce654d4dc9e"
      },
      "source": [
        "#Percentage of NAN Values\n",
        "print('Train Data Percentage of NAN Values')\n",
        "print(house_train.isna().mean().round(4) * 100)"
      ],
      "execution_count": 22,
      "outputs": [
        {
          "output_type": "stream",
          "name": "stdout",
          "text": [
            "Train Data Percentage of NAN Values\n",
            "Index             0.00\n",
            "Location          0.00\n",
            "Num_Bathrooms     0.00\n",
            "Num_Beds          0.00\n",
            "BER_class        15.32\n",
            "Description       0.00\n",
            "Services         64.77\n",
            "Features          0.00\n",
            "Latitude          0.00\n",
            "Longitude         0.00\n",
            "Type              0.00\n",
            "Surface           0.00\n",
            "Price             0.00\n",
            "dtype: float64\n"
          ]
        }
      ]
    },
    {
      "cell_type": "code",
      "metadata": {
        "colab": {
          "base_uri": "https://localhost:8080/"
        },
        "id": "dltE7nHgqfM2",
        "outputId": "d62306b0-9351-404f-b8c9-e5199f4aeedd"
      },
      "source": [
        "print('Test Data Percentage of NAN Values')\n",
        "print(house_test.isna().mean().round(4) * 100)"
      ],
      "execution_count": 23,
      "outputs": [
        {
          "output_type": "stream",
          "name": "stdout",
          "text": [
            "Test Data Percentage of NAN Values\n",
            "Index             0.00\n",
            "Location          0.00\n",
            "Num_Bathrooms     0.00\n",
            "Num_Beds          0.00\n",
            "BER_class        15.38\n",
            "Description       0.00\n",
            "Services         64.96\n",
            "Features          0.00\n",
            "Latitude          0.00\n",
            "Longitude         0.00\n",
            "Type              0.00\n",
            "Surface           0.00\n",
            "dtype: float64\n"
          ]
        }
      ]
    },
    {
      "cell_type": "code",
      "metadata": {
        "colab": {
          "base_uri": "https://localhost:8080/"
        },
        "id": "1-JkHSSiqfKe",
        "outputId": "1eb97b9c-7f0c-4ac8-da99-a51a2c6aa236"
      },
      "source": [
        "# Recognise any columns that have the same value in each at the start of the code\n",
        "# Feedback from Nigel Portley \n",
        "columnlist = []\n",
        "def is_unique(s):\n",
        "    a = s.to_numpy()\n",
        "    return (a[0] == a).all()\n",
        "\n",
        "for column in house_train:\n",
        "    if (is_unique(house_train[column]) == True): \n",
        "        print(column)\n",
        "        columnlist.append(str(column))\n",
        "print(columnlist)\n",
        "#house_train.drop(columnlist, axis=1, inplace=True)\n",
        "\n",
        "for column in house_test:\n",
        "    if (is_unique(house_test[column]) == True): \n",
        "        print(column)\n",
        "        columnlist.append(str(column))\n",
        "print(columnlist)\n",
        "#house_test.drop(columnlist, axis=1, inplace=True)"
      ],
      "execution_count": 24,
      "outputs": [
        {
          "output_type": "stream",
          "name": "stdout",
          "text": [
            "[]\n",
            "[]\n"
          ]
        }
      ]
    },
    {
      "cell_type": "code",
      "metadata": {
        "colab": {
          "base_uri": "https://localhost:8080/",
          "height": 558
        },
        "id": "n9hfwGRKK5LK",
        "outputId": "2d174f1b-82b9-49ae-fbb5-55f30210f877"
      },
      "source": [
        "plt.figure(figsize=(20, 8))\n",
        "sns.heatmap(house_train.corr(), square=True, annot=True);"
      ],
      "execution_count": 25,
      "outputs": [
        {
          "output_type": "display_data",
          "data": {
            "image/png": "[encoded data removed]",
            "text/plain": [
              "<Figure size 1440x576 with 2 Axes>"
            ]
          },
          "metadata": {
            "needs_background": "light"
          }
        }
      ]
    },
    {
      "cell_type": "markdown",
      "metadata": {
        "id": "y3UR8epbAvLe"
      },
      "source": [
        "For Missing Values, in the train dataset `BER_class` has 251 data points which represent ~15% and `Services` 1061 data points which is ~64%. In te other hand the test dataset `BER_class` has 108 data points which represent ~15% and `Services` 456 data points which is ~64%. Using part of the learnings from past etivity, none of the columns seem to have the same value. Futhermore, according to the Number of Bathrooms and Number of Beds, show the highest correlation of all of the features."
      ]
    },
    {
      "cell_type": "markdown",
      "metadata": {
        "id": "NCIZxhlcp8Il"
      },
      "source": [
        "## Feature Engineering"
      ]
    },
    {
      "cell_type": "markdown",
      "metadata": {
        "id": "JfVKcRd0xhC2"
      },
      "source": [
        "'Index'"
      ]
    },
    {
      "cell_type": "code",
      "metadata": {
        "colab": {
          "base_uri": "https://localhost:8080/"
        },
        "id": "coB5kM53p7MH",
        "outputId": "dad10f52-359f-41d6-a3aa-5de0212daa2b"
      },
      "source": [
        "house_train['Index'].nunique()"
      ],
      "execution_count": 26,
      "outputs": [
        {
          "output_type": "execute_result",
          "data": {
            "text/plain": [
              "1638"
            ]
          },
          "metadata": {},
          "execution_count": 26
        }
      ]
    },
    {
      "cell_type": "code",
      "metadata": {
        "colab": {
          "base_uri": "https://localhost:8080/"
        },
        "id": "CVHuzErLx1sL",
        "outputId": "372f7a0f-c9fd-4d0c-8f9c-51f531c7d6f4"
      },
      "source": [
        "house_test['Index'].nunique()"
      ],
      "execution_count": 27,
      "outputs": [
        {
          "output_type": "execute_result",
          "data": {
            "text/plain": [
              "702"
            ]
          },
          "metadata": {},
          "execution_count": 27
        }
      ]
    },
    {
      "cell_type": "markdown",
      "metadata": {
        "id": "iCToTBbZCUst"
      },
      "source": [
        "Having 1638 and 702 unique values, corroborates Index as the property identifier, and one per property"
      ]
    },
    {
      "cell_type": "markdown",
      "metadata": {
        "id": "l24q4G8CxkG-"
      },
      "source": [
        "'Location'"
      ]
    },
    {
      "cell_type": "code",
      "metadata": {
        "colab": {
          "base_uri": "https://localhost:8080/"
        },
        "id": "LKLXddrCxQU9",
        "outputId": "78e243ed-6c4b-4c18-a296-fb83ac103a07"
      },
      "source": [
        "house_train['Location'].value_counts()"
      ],
      "execution_count": 28,
      "outputs": [
        {
          "output_type": "execute_result",
          "data": {
            "text/plain": [
              "Castleknock      57\n",
              "Malahide         50\n",
              "Lucan            49\n",
              "Rathfarnham      46\n",
              "Clondalkin       41\n",
              "                 ..\n",
              "Loughlinstown     1\n",
              "The Coombe        1\n",
              "Deansgrange       1\n",
              "Kilmore           1\n",
              "Islandbridge      1\n",
              "Name: Location, Length: 142, dtype: int64"
            ]
          },
          "metadata": {},
          "execution_count": 28
        }
      ]
    },
    {
      "cell_type": "code",
      "metadata": {
        "id": "B06fPnnazKrK"
      },
      "source": [
        "house_train['Location'].replace({'Temple Bar':'Dublin 1', 'IFSC':'Dublin 1', \n",
        "                            'Grand Canal Dock':'Dublin 2',\n",
        "                            'Clontarf':'Dublin 3', 'East Wall':'Dublin 3', 'North Strand':'Dublin 3', 'Fairview':'Dublin 3', 'Marino':'Dublin 3', 'Ballyboughal':'Dublin 3', \n",
        "                            'Ballsbridge':'Dublin 4', 'Donnybrook':'Dublin 4','Sandymount':'Dublin 4','Ringsend':'Dublin 4','Irishtown':'Dublin 4','Merrion':'Dublin 4',\n",
        "                            'Artane':'Dublin 5','Raheny':'Dublin 5','Kilbarrack':'Dublin 5','Edenmore':'Dublin 5','Kilmore':'Dublin 5','Donnycarney':'Dublin 5',\n",
        "                            'Rathmines':'Dublin 6','Rathgar':'Dublin 6','Ranelagh':'Dublin 6','Milltown':'Dublin 6','Dartry':'Dublin 6',\n",
        "                            'Stoneybatter':'Dublin 7','Phibsborough':'Dublin 7','Navan Road (D7)':'Dublin 7','North Circular Road':'Dublin 7','Smithfield':'Dublin 7','Ashtown':'Dublin 7','Cabra':'Dublin 7',\n",
        "                            'Kilmainham':'Dublin 8','Inchicore':'Dublin 8','Rialto':'Dublin 8','Portobello':'Dublin 8','South Circular Road':'Dublin 8','Islandbridge':'Dublin 8','The Coombe':'Dublin 8',\"Dolphin's Barn\":'Dublin 8','Christchurch':'Dublin 8',\n",
        "                            'Drumcondra':'Dublin 9','Glasnevin':'Dublin 9','Santry':'Dublin 9','Whitehall':'Dublin 9','Beaumont':'Dublin 9','Ballymun':'Dublin 9','Poppintree':'Dublin 9',\n",
        "                            'Ballyfermot':'Dublin 10','Cherry Orchard':'Dublin 10',\n",
        "                            'Finglas':'Dublin 11',\"St Margaret's\":'Dublin 11',\n",
        "                            'Walkinstown':'Dublin 12','Crumlin':'Dublin 12','Drimnagh':'Dublin 12','Bluebell':'Dublin 12','Park West':'Dublin 12','Perrystown':'Dublin 12',\n",
        "                            'Malahide':'Dublin 13','Howth':'Dublin 13','Sutton':'Dublin 13','Baldoyle':'Dublin 13','Donaghmede':'Dublin 13','Bayside':'Dublin 13','Ard Na Greine':'Dublin 13','Clongriffin':'Dublin 13','Clarehall':'Dublin 13',\n",
        "                            'Dundrum':'Dublin 14','Churchtown':'Dublin 14','Goatstown':'Dublin 14','Clonskeagh':'Dublin 14','Windy Arbour':'Dublin 14',\n",
        "                            'Carpenterstown':'Dublin 15','Castleknock':'Dublin 15','Clonsilla':'Dublin 15','Blanchardstown':'Dublin 15','Clonee':'Dublin 15','Coolmine':'Dublin 15','Hartstown':'Dublin 15','Mulhuddart':'Dublin 15','The Ward':'Dublin 15','Ongar':'Dublin 15','Tyrrelstown':'Dublin 15',\n",
        "                            'Rathfarnham':'Dublin 16','Ballinteer':'Dublin 16','Ballinascorney':'Dublin 16','Knocklyon':'Dublin 16',\n",
        "                            'Darndale':'Dublin 17','Clonshaugh':'Dublin 17','Coolock':'Dublin 17','Killester':'Dublin 17',\n",
        "                            'Deansgrange':'Dublin 18','Sandyford':'Dublin 18','Foxrock':'Dublin 18','Stepaside':'Dublin 18','Cabinteely':'Dublin 18','Carrickmines':'Dublin 18','Leopardstown':'Dublin 18','Kilternan':'Dublin 18','Shankill':'Dublin 18',\n",
        "                            'Palmerstown':'Dublin 20','Chapelizod':'Dublin 20','Lucan':'Dublin 20',\n",
        "                            'Clondalkin':'Dublin 22','Kingswood':'Dublin 22','Newcastle':'Dublin 22',\n",
        "                            'Ballymount':'Dublin 24','Kiltipper':'Dublin 24','Tallaght':'Dublin 24','Balrothery':'Dublin 24','Rathcoole':'Dublin 24','Kilnamanagh':'Dublin 24','Firhouse':'Dublin 24','Greenhills':'Dublin 24','Oldbawn':'Dublin 24','Adamstown':'Dublin 24','Saggart':'Dublin 24','Citywest':'Dublin 24','Ballycullen':'Dublin 24','Brittas':'Dublin 24',\n",
        "                            'Terenure':'Dublin 6w',\"Harold's Cross\":'Dublin 6w','Kimmage':'Dublin 6w','Templeogue':'Dublin 6w',\n",
        "                            'Donabate':'Fingal','Swords':'Fingal','Portmarnock':'Fingal','Kinsealy':'Fingal','Balgriffin':'Fingal','Garristown':'Fingal','Naul':'Fingal','Skerries':'Fingal','Rush':'Fingal','Lusk':'Fingal','Balbriggan':'Fingal','Loughshinny':'Fingal','Ballybough':'Fingal',\n",
        "                            'Blackrock':'DunLaoghaireRathdown','Dun Laoghaire':'DunLaoghaireRathdown','Glenageary':'DunLaoghaireRathdown',\n",
        "                            'Monkstown':'DunLaoghaireRathdown','Booterstown':'DunLaoghaireRathdown','Sandycove':'DunLaoghaireRathdown',\n",
        "                            'Rathmichael':'DunLaoghaireRathdown','Mount Merrion':'DunLaoghaireRathdown','Ballybrack':'DunLaoghaireRathdown','Sallynoggin':'DunLaoghaireRathdown',\n",
        "                            'Kilmacud':'DunLaoghaireRathdown','Dalkey':'DunLaoghaireRathdown','Killiney':'DunLaoghaireRathdown','Loughlinstown':'DunLaoghaireRathdown',\n",
        "                            }, inplace=True)"
      ],
      "execution_count": 29,
      "outputs": []
    },
    {
      "cell_type": "code",
      "metadata": {
        "colab": {
          "base_uri": "https://localhost:8080/"
        },
        "id": "7uCc3fQwzSbR",
        "outputId": "8bff2fa3-b6fc-4f2e-9afb-96235005719e"
      },
      "source": [
        "house_train['Location'].value_counts()"
      ],
      "execution_count": 30,
      "outputs": [
        {
          "output_type": "execute_result",
          "data": {
            "text/plain": [
              "DunLaoghaireRathdown    160\n",
              "Fingal                  139\n",
              "Dublin 15               117\n",
              "Dublin 13               115\n",
              "Dublin 24               104\n",
              "Dublin 9                 97\n",
              "Dublin 18                96\n",
              "Dublin 4                 95\n",
              "Dublin 16                80\n",
              "Dublin 7                 69\n",
              "Dublin 8                 65\n",
              "Dublin 20                58\n",
              "Dublin 6                 56\n",
              "Dublin 14                55\n",
              "Dublin 3                 55\n",
              "Dublin 6w                48\n",
              "Dublin 22                43\n",
              "Dublin 5                 42\n",
              "Dublin 1                 38\n",
              "Dublin 11                32\n",
              "Dublin 12                29\n",
              "Dublin 2                 24\n",
              "Dublin 17                17\n",
              "Dublin 10                 4\n",
              "Name: Location, dtype: int64"
            ]
          },
          "metadata": {},
          "execution_count": 30
        }
      ]
    },
    {
      "cell_type": "code",
      "metadata": {
        "id": "s72eIIwF00oz"
      },
      "source": [
        "house_test['Location'].replace({'Temple Bar':'Dublin 1', 'IFSC':'Dublin 1', \n",
        "                            'Grand Canal Dock':'Dublin 2',\n",
        "                            'Clontarf':'Dublin 3', 'East Wall':'Dublin 3', 'North Strand':'Dublin 3', 'Fairview':'Dublin 3', 'Marino':'Dublin 3', 'Ballyboughal':'Dublin 3', \n",
        "                            'Ballsbridge':'Dublin 4', 'Donnybrook':'Dublin 4','Sandymount':'Dublin 4','Ringsend':'Dublin 4','Irishtown':'Dublin 4','Merrion':'Dublin 4',\n",
        "                            'Artane':'Dublin 5','Raheny':'Dublin 5','Kilbarrack':'Dublin 5','Edenmore':'Dublin 5','Kilmore':'Dublin 5','Donnycarney':'Dublin 5',\n",
        "                            'Rathmines':'Dublin 6','Rathgar':'Dublin 6','Ranelagh':'Dublin 6','Milltown':'Dublin 6','Dartry':'Dublin 6',\n",
        "                            'Stoneybatter':'Dublin 7','Phibsborough':'Dublin 7','Navan Road (D7)':'Dublin 7','North Circular Road':'Dublin 7','Smithfield':'Dublin 7','Ashtown':'Dublin 7','Cabra':'Dublin 7',\n",
        "                            'Kilmainham':'Dublin 8','Inchicore':'Dublin 8','Rialto':'Dublin 8','Portobello':'Dublin 8','South Circular Road':'Dublin 8','Islandbridge':'Dublin 8','The Coombe':'Dublin 8',\"Dolphin's Barn\":'Dublin 8','Christchurch':'Dublin 8',\n",
        "                            'Drumcondra':'Dublin 9','Glasnevin':'Dublin 9','Santry':'Dublin 9','Whitehall':'Dublin 9','Beaumont':'Dublin 9','Ballymun':'Dublin 9','Poppintree':'Dublin 9',\n",
        "                            'Ballyfermot':'Dublin 10','Cherry Orchard':'Dublin 10',\n",
        "                            'Finglas':'Dublin 11',\"St Margaret's\":'Dublin 11',\n",
        "                            'Walkinstown':'Dublin 12','Crumlin':'Dublin 12','Drimnagh':'Dublin 12','Bluebell':'Dublin 12','Park West':'Dublin 12','Perrystown':'Dublin 12',\n",
        "                            'Malahide':'Dublin 13','Howth':'Dublin 13','Sutton':'Dublin 13','Baldoyle':'Dublin 13','Donaghmede':'Dublin 13','Bayside':'Dublin 13','Ard Na Greine':'Dublin 13','Clongriffin':'Dublin 13','Clarehall':'Dublin 13',\n",
        "                            'Dundrum':'Dublin 14','Churchtown':'Dublin 14','Goatstown':'Dublin 14','Clonskeagh':'Dublin 14','Windy Arbour':'Dublin 14',\n",
        "                            'Carpenterstown':'Dublin 15','Castleknock':'Dublin 15','Clonsilla':'Dublin 15','Blanchardstown':'Dublin 15','Clonee':'Dublin 15','Coolmine':'Dublin 15','Hartstown':'Dublin 15','Mulhuddart':'Dublin 15','The Ward':'Dublin 15','Ongar':'Dublin 15','Tyrrelstown':'Dublin 15',\n",
        "                            'Rathfarnham':'Dublin 16','Ballinteer':'Dublin 16','Ballinascorney':'Dublin 16','Knocklyon':'Dublin 16',\n",
        "                            'Darndale':'Dublin 17','Clonshaugh':'Dublin 17','Coolock':'Dublin 17','Killester':'Dublin 17',\n",
        "                            'Deansgrange':'Dublin 18','Sandyford':'Dublin 18','Foxrock':'Dublin 18','Stepaside':'Dublin 18','Cabinteely':'Dublin 18','Carrickmines':'Dublin 18','Leopardstown':'Dublin 18','Kilternan':'Dublin 18','Shankill':'Dublin 18',\n",
        "                            'Palmerstown':'Dublin 20','Chapelizod':'Dublin 20','Lucan':'Dublin 20',\n",
        "                            'Clondalkin':'Dublin 22','Kingswood':'Dublin 22','Newcastle':'Dublin 22',\n",
        "                            'Ballymount':'Dublin 24','Kiltipper':'Dublin 24','Tallaght':'Dublin 24','Balrothery':'Dublin 24','Rathcoole':'Dublin 24','Kilnamanagh':'Dublin 24','Firhouse':'Dublin 24','Greenhills':'Dublin 24','Oldbawn':'Dublin 24','Adamstown':'Dublin 24','Saggart':'Dublin 24','Citywest':'Dublin 24','Ballycullen':'Dublin 24','Brittas':'Dublin 24',\n",
        "                            'Terenure':'Dublin 6w',\"Harold's Cross\":'Dublin 6w','Kimmage':'Dublin 6w','Templeogue':'Dublin 6w',\n",
        "                            'Donabate':'Fingal','Swords':'Fingal','Portmarnock':'Fingal','Kinsealy':'Fingal','Balgriffin':'Fingal','Garristown':'Fingal','Naul':'Fingal','Skerries':'Fingal','Rush':'Fingal','Lusk':'Fingal','Balbriggan':'Fingal','Loughshinny':'Fingal','Ballybough':'Fingal',\n",
        "                            'Blackrock':'DunLaoghaireRathdown','Dun Laoghaire':'DunLaoghaireRathdown','Glenageary':'DunLaoghaireRathdown',\n",
        "                            'Monkstown':'DunLaoghaireRathdown','Booterstown':'DunLaoghaireRathdown','Sandycove':'DunLaoghaireRathdown',\n",
        "                            'Rathmichael':'DunLaoghaireRathdown','Mount Merrion':'DunLaoghaireRathdown','Ballybrack':'DunLaoghaireRathdown','Sallynoggin':'DunLaoghaireRathdown',\n",
        "                            'Kilmacud':'DunLaoghaireRathdown','Dalkey':'DunLaoghaireRathdown','Killiney':'DunLaoghaireRathdown','Loughlinstown':'DunLaoghaireRathdown',\n",
        "                            }, inplace=True)"
      ],
      "execution_count": 31,
      "outputs": []
    },
    {
      "cell_type": "code",
      "metadata": {
        "colab": {
          "base_uri": "https://localhost:8080/"
        },
        "id": "p-7jsZn5HCH4",
        "outputId": "1728d928-cf8f-4e09-f601-c91a3707e271"
      },
      "source": [
        "house_test['Location'].value_counts()"
      ],
      "execution_count": 32,
      "outputs": [
        {
          "output_type": "execute_result",
          "data": {
            "text/plain": [
              "DunLaoghaireRathdown    73\n",
              "Fingal                  67\n",
              "Dublin 13               44\n",
              "Dublin 18               43\n",
              "Dublin 9                43\n",
              "Dublin 8                41\n",
              "Dublin 4                40\n",
              "Dublin 15               40\n",
              "Dublin 16               37\n",
              "Dublin 24               32\n",
              "Dublin 7                29\n",
              "Dublin 20               25\n",
              "Dublin 3                22\n",
              "Dublin 6w               21\n",
              "Dublin 1                21\n",
              "Dublin 12               20\n",
              "Dublin 14               20\n",
              "Dublin 5                17\n",
              "Dublin 22               16\n",
              "Dublin 6                16\n",
              "Dublin 11               14\n",
              "Dublin 2                10\n",
              "Dublin 17                7\n",
              "Dublin 10                4\n",
              "Name: Location, dtype: int64"
            ]
          },
          "metadata": {},
          "execution_count": 32
        }
      ]
    },
    {
      "cell_type": "code",
      "metadata": {
        "colab": {
          "base_uri": "https://localhost:8080/",
          "height": 456
        },
        "id": "13jbjN3iDmkG",
        "outputId": "9d7ae7b4-d50a-468f-830b-a87ea237c9cf"
      },
      "source": [
        "fig = plt.figure(figsize=(60,7))\n",
        "fig.add_subplot(2,2,1)\n",
        "sns.countplot(house_train['Location'])\n",
        "fig.add_subplot(2,2,3)\n",
        "sns.countplot(house_test['Location'])\n",
        "plt.tight_layout()"
      ],
      "execution_count": 33,
      "outputs": [
        {
          "output_type": "display_data",
          "data": {
            "image/png": "[encoded data removed]",
            "text/plain": [
              "<Figure size 4320x504 with 2 Axes>"
            ]
          },
          "metadata": {
            "needs_background": "light"
          }
        }
      ]
    },
    {
      "cell_type": "code",
      "metadata": {
        "id": "ujOq4jvqHaG9"
      },
      "source": [
        "# Get one hot encoding of columns area\n",
        "one_hot = pd.get_dummies(house_train['Location'])\n",
        "one_hot_ = pd.get_dummies(house_test['Location'])\n",
        "# Drop column Area as it is now encoded\n",
        "house_test = house_test.drop('Location', axis=1)\n",
        "house_train = house_train.drop('Location', axis=1)\n",
        "# Join the encoded dataframe\n",
        "house_train = house_train.join(one_hot)\n",
        "house_test = house_test.join(one_hot_)"
      ],
      "execution_count": 34,
      "outputs": []
    },
    {
      "cell_type": "markdown",
      "metadata": {
        "id": "gjxXRKZ4Cnfu"
      },
      "source": [
        "Using learning from the past etivity, Location was converted to numerical variables, replacing all characters, from various cities and towns in County Dublin, County Fingal and County Dun Laoghaire-Rathdown to the various Dublin and Counties that they are located. Being Dun Laoghaire and Fingal, the ones with the highest number of properties, follow by Dublin 9, 13 and 24 for the train dataset and 9, 13, and 18. Two from the Nort section of the city and one from the south side in each case. Followed by to a reconfiguration to the correspondent numerical value, when using get_dummies."
      ]
    },
    {
      "cell_type": "markdown",
      "metadata": {
        "id": "lJwdVcCcyEz_"
      },
      "source": [
        "'Num_Bathrooms'"
      ]
    },
    {
      "cell_type": "code",
      "metadata": {
        "colab": {
          "base_uri": "https://localhost:8080/"
        },
        "id": "3XhCR-IgxQ-y",
        "outputId": "2b42a39b-59da-468e-a5e7-0647d95871d4"
      },
      "source": [
        "house_train['Num_Bathrooms'].value_counts()"
      ],
      "execution_count": 35,
      "outputs": [
        {
          "output_type": "execute_result",
          "data": {
            "text/plain": [
              "1     603\n",
              "2     584\n",
              "3     327\n",
              "4      76\n",
              "5      24\n",
              "6      11\n",
              "7       6\n",
              "8       3\n",
              "15      2\n",
              "18      1\n",
              "9       1\n",
              "Name: Num_Bathrooms, dtype: int64"
            ]
          },
          "metadata": {},
          "execution_count": 35
        }
      ]
    },
    {
      "cell_type": "code",
      "metadata": {
        "colab": {
          "base_uri": "https://localhost:8080/",
          "height": 283
        },
        "id": "j-FT5tPYIyGI",
        "outputId": "f043dc40-a884-46ed-a66f-8de89c30cca3"
      },
      "source": [
        "fig = plt.figure(figsize=(20,7))\n",
        "fig.add_subplot(2,2,1)\n",
        "sns.boxplot(x=house_train[\"Num_Bathrooms\"])\n",
        "fig.add_subplot(2,2,2)\n",
        "sns.boxplot(x=house_test[\"Num_Bathrooms\"])\n",
        "plt.tight_layout()"
      ],
      "execution_count": 36,
      "outputs": [
        {
          "output_type": "display_data",
          "data": {
            "image/png": "[encoded data removed]",
            "text/plain": [
              "<Figure size 1440x504 with 2 Axes>"
            ]
          },
          "metadata": {
            "needs_background": "light"
          }
        }
      ]
    },
    {
      "cell_type": "code",
      "metadata": {
        "id": "9c9GbJAWz9N0"
      },
      "source": [
        "house_train['Num_Bathrooms'].values[house_train['Num_Bathrooms'].values > 6 ] = 6\n",
        "house_test['Num_Bathrooms'].values[house_test['Num_Bathrooms'].values > 6 ] = 6"
      ],
      "execution_count": 37,
      "outputs": []
    },
    {
      "cell_type": "markdown",
      "metadata": {
        "id": "HXtiTtyQJw1s"
      },
      "source": [
        "Number of bathrooms was reconfigured to remove the outliers, having all a max of 6 bathrooms per property, having 1 as minimun."
      ]
    },
    {
      "cell_type": "markdown",
      "metadata": {
        "id": "3sxcI4HpyIhx"
      },
      "source": [
        "'Num_Beds'"
      ]
    },
    {
      "cell_type": "code",
      "metadata": {
        "colab": {
          "base_uri": "https://localhost:8080/"
        },
        "id": "BiIt_4_0xRd5",
        "outputId": "e2432b9e-d431-496f-fa53-11d19329be60"
      },
      "source": [
        "house_train['Num_Beds'].value_counts()"
      ],
      "execution_count": 38,
      "outputs": [
        {
          "output_type": "execute_result",
          "data": {
            "text/plain": [
              "3     558\n",
              "2     464\n",
              "4     348\n",
              "1     114\n",
              "5     107\n",
              "6      29\n",
              "7      11\n",
              "15      2\n",
              "9       2\n",
              "8       2\n",
              "27      1\n",
              "Name: Num_Beds, dtype: int64"
            ]
          },
          "metadata": {},
          "execution_count": 38
        }
      ]
    },
    {
      "cell_type": "code",
      "metadata": {
        "colab": {
          "base_uri": "https://localhost:8080/",
          "height": 283
        },
        "id": "TyxSd1WLM3rQ",
        "outputId": "b462866c-613c-4138-b938-745802cf22c3"
      },
      "source": [
        "fig = plt.figure(figsize=(20,7))\n",
        "fig.add_subplot(2,2,1)\n",
        "sns.boxplot(x=house_train[\"Num_Beds\"])\n",
        "fig.add_subplot(2,2,2)\n",
        "sns.boxplot(x=house_test[\"Num_Beds\"])\n",
        "plt.tight_layout()"
      ],
      "execution_count": 39,
      "outputs": [
        {
          "output_type": "display_data",
          "data": {
            "image/png": "[encoded data removed]",
            "text/plain": [
              "<Figure size 1440x504 with 2 Axes>"
            ]
          },
          "metadata": {
            "needs_background": "light"
          }
        }
      ]
    },
    {
      "cell_type": "code",
      "metadata": {
        "id": "wrEvfQ2j0Lgc"
      },
      "source": [
        "house_train['Num_Beds'].values[house_train['Num_Beds'].values > 7 ] = 7\n",
        "house_test['Num_Beds'].values[house_test['Num_Beds'].values > 7 ] = 7"
      ],
      "execution_count": 40,
      "outputs": []
    },
    {
      "cell_type": "markdown",
      "metadata": {
        "id": "EnLmkp5DNDhF"
      },
      "source": [
        "Number of beds was reconfigured to remove the outliers, having all a max of 7 beds per property, having 1 as minimun."
      ]
    },
    {
      "cell_type": "markdown",
      "metadata": {
        "id": "tgCNlc7yydzi"
      },
      "source": [
        "'BER_class'"
      ]
    },
    {
      "cell_type": "code",
      "metadata": {
        "colab": {
          "base_uri": "https://localhost:8080/"
        },
        "id": "Lgvdzx8axRhZ",
        "outputId": "613b89b2-fd96-473a-d322-524c33ad5d29"
      },
      "source": [
        "house_train['BER_class'].value_counts()"
      ],
      "execution_count": 41,
      "outputs": [
        {
          "output_type": "execute_result",
          "data": {
            "text/plain": [
              "D1                     182\n",
              "D2                     173\n",
              "C3                     154\n",
              "C2                     144\n",
              "C1                     133\n",
              "E1                     110\n",
              "G                      103\n",
              "E2                     101\n",
              "F                       89\n",
              "B3                      78\n",
              "B2                      48\n",
              "A3                      37\n",
              "SINo666of2006exempt     15\n",
              "A2                      12\n",
              "B1                       7\n",
              "A1                       1\n",
              "Name: BER_class, dtype: int64"
            ]
          },
          "metadata": {},
          "execution_count": 41
        }
      ]
    },
    {
      "cell_type": "code",
      "metadata": {
        "colab": {
          "base_uri": "https://localhost:8080/"
        },
        "id": "GTrGJVBMNaeG",
        "outputId": "bb5aaf0a-a2ac-4f0f-cd03-189dc41f67de"
      },
      "source": [
        "print(\"Train Dataset Missing Data:\",house_train['BER_class'].isna().sum())\n",
        "print(\"Test Dataset Missing Data:\", house_test['BER_class'].isna().sum())"
      ],
      "execution_count": 42,
      "outputs": [
        {
          "output_type": "stream",
          "name": "stdout",
          "text": [
            "Train Dataset Missing Data: 251\n",
            "Test Dataset Missing Data: 108\n"
          ]
        }
      ]
    },
    {
      "cell_type": "code",
      "metadata": {
        "id": "rIdu6OOUIJmR"
      },
      "source": [
        "house_train['BER_class'].fillna('unknown', inplace=True)\n",
        "house_test['BER_class'].fillna('unknown', inplace=True)"
      ],
      "execution_count": 43,
      "outputs": []
    },
    {
      "cell_type": "code",
      "metadata": {
        "id": "Ui5Am_OczcW4"
      },
      "source": [
        "ber_classification_mapper = {\n",
        "    \"A1\": 1,\n",
        "    \"A2\": 2,\n",
        "    \"A3\": 3,\n",
        "    \"B1\": 4,\n",
        "    \"B2\": 5,\n",
        "    \"B3\": 6,\n",
        "    \"C1\": 7,\n",
        "    \"C2\": 8,\n",
        "    \"C3\": 9,\n",
        "    \"D1\": 10,\n",
        "    \"D2\": 11,\n",
        "    \"E1\": 12,\n",
        "    \"E2\": 13,\n",
        "    \"F\": 14,\n",
        "    \"G\": 15,\n",
        "    \"SINo666of2006exempt\": 16,\n",
        "    \"unknown\": 17\n",
        "}\n",
        "house_train['BER_class'] = house_train['BER_class'].replace(ber_classification_mapper)\n",
        "house_test['BER_class'] = house_test['BER_class'].replace(ber_classification_mapper)"
      ],
      "execution_count": 44,
      "outputs": []
    },
    {
      "cell_type": "markdown",
      "metadata": {
        "id": "-NzBTZluNYTi"
      },
      "source": [
        "`BER_classification` contained ~15% of missing values that were filled up with Unknown, as they represent a significant amount that can modify other categories within it. They were converted to numerical variables, replacing the 17 characters."
      ]
    },
    {
      "cell_type": "markdown",
      "metadata": {
        "id": "taqgN5CnybY2"
      },
      "source": [
        "'Description'"
      ]
    },
    {
      "cell_type": "code",
      "metadata": {
        "colab": {
          "base_uri": "https://localhost:8080/"
        },
        "id": "Vpq9q8loxRlG",
        "outputId": "f735afc7-0b15-4866-b859-d535fc174d8b"
      },
      "source": [
        "house_train['Description'].head()"
      ],
      "execution_count": 45,
      "outputs": [
        {
          "output_type": "execute_result",
          "data": {
            "text/plain": [
              "0    DNG are delighted to present to the market no....\n",
              "1    13 Northbrook Terrace is a charming red brick ...\n",
              "2    Welcome to No. 6 Cotter Close, an immaculately...\n",
              "3    Welcome to 3 Sycamore Walk!\\n\\r\\nEnjoying a pr...\n",
              "4    'Four Seasons' comes to the market as a wonder...\n",
              "Name: Description, dtype: object"
            ]
          },
          "metadata": {},
          "execution_count": 45
        }
      ]
    },
    {
      "cell_type": "markdown",
      "metadata": {
        "id": "X0rKk1N-REpm"
      },
      "source": [
        "`Description` is Free text, that will be processed using NLP"
      ]
    },
    {
      "cell_type": "markdown",
      "metadata": {
        "id": "rPt9BnSUyZCD"
      },
      "source": [
        "'Services'"
      ]
    },
    {
      "cell_type": "code",
      "metadata": {
        "colab": {
          "base_uri": "https://localhost:8080/"
        },
        "id": "uXOscajzxRob",
        "outputId": "4b798f63-6195-4a77-9f63-01a72d0ef5e6"
      },
      "source": [
        "house_train['Services'].value_counts()"
      ],
      "execution_count": 46,
      "outputs": [
        {
          "output_type": "execute_result",
          "data": {
            "text/plain": [
              "Parking,Gas Fired Central Heating                                                               118\n",
              "Parking                                                                                          77\n",
              "Parking,Gas Fired Central Heating,Wired for Cable Television                                     74\n",
              "Parking,Gas Fired Central Heating,Alarm,Wired for Cable Television                               62\n",
              "Parking,Gas Fired Central Heating,Alarm                                                          57\n",
              "Parking,Wired for Cable Television                                                               35\n",
              "Gas Fired Central Heating                                                                        25\n",
              "Parking,Gas Fired Central Heating,Alarm,Wired for Cable Television,Wheelchair Access             12\n",
              "Parking,Alarm                                                                                    12\n",
              "Parking,Oil Fired Central Heating                                                                12\n",
              "Parking,Alarm,Wired for Cable Television,Oil Fired Central Heating                               10\n",
              "Parking,Wired for Cable Television,Oil Fired Central Heating                                      8\n",
              "Parking,Alarm,Wired for Cable Television                                                          8\n",
              "Alarm                                                                                             7\n",
              "Parking,Alarm,Oil Fired Central Heating                                                           7\n",
              "Wired for Cable Television                                                                        7\n",
              "Parking,Gas Fired Central Heating,Wired for Cable Television,Wheelchair Access                    6\n",
              "Gas Fired Central Heating,Alarm                                                                   6\n",
              "Parking,Gas Fired Central Heating,Wheelchair Access                                               5\n",
              "Gas Fired Central Heating,Wired for Cable Television                                              5\n",
              "Gas Fired Central Heating,Alarm,Wired for Cable Television                                        5\n",
              "Parking,Wired for Cable Television,Wheelchair Access                                              4\n",
              "Alarm,Wired for Cable Television                                                                  3\n",
              "Oil Fired Central Heating                                                                         2\n",
              "Parking,Alarm,Wired for Cable Television,Wheelchair Access                                        2\n",
              "Parking,Gas Fired Central Heating,Alarm,Wheelchair Access                                         2\n",
              "Parking,Wired for Cable Television,Wheelchair Access,Oil Fired Central Heating                    2\n",
              "Gas Fired Central Heating,Alarm,Wired for Cable Television,Wheelchair Access                      1\n",
              "Alarm,Oil Fired Central Heating                                                                   1\n",
              "Parking,Gas Fired Central Heating,Alarm,Wired for Cable Television,Oil Fired Central Heating      1\n",
              "Parking,Wheelchair Access                                                                         1\n",
              "Name: Services, dtype: int64"
            ]
          },
          "metadata": {},
          "execution_count": 46
        }
      ]
    },
    {
      "cell_type": "code",
      "metadata": {
        "id": "2Lh716421mQw"
      },
      "source": [
        "house_train[\"Alarm\"] = house_train[\"Services\"].str.contains(\"Alarm\").fillna(\"No\")\n",
        "house_train[\"Alarm\"].replace({True : \"Yes\", False : \"No\"}, inplace=True)\n",
        "alarm_mapper = {\"Yes\": 0,\"No\": 1}\n",
        "house_train['Alarm'] = house_train['Alarm'].replace(alarm_mapper)\n",
        "\n",
        "house_train[\"GasFiredCentralHeating\"] = house_train[\"Services\"].str.contains(\"Gas Fired Central Heating\").fillna(\"No\")\n",
        "house_train[\"GasFiredCentralHeating\"].replace({True : \"Yes\", False : \"No\"}, inplace=True)\n",
        "GasFiredCentralHeating_mapper = {\"Yes\": 0,\"No\": 1}\n",
        "house_train['GasFiredCentralHeating'] = house_train['GasFiredCentralHeating'].replace(GasFiredCentralHeating_mapper)\n",
        "\n",
        "house_train[\"Parking\"] = house_train[\"Services\"].str.contains(\"Parking\").fillna(\"No\")\n",
        "house_train[\"Parking\"].replace({True : \"Yes\", False : \"No\"}, inplace=True)\n",
        "parking_mapper = {\"Yes\": 0,\"No\": 1}\n",
        "house_train['Parking'] = house_train['Parking'].replace(parking_mapper)\n",
        "\n",
        "house_train[\"OilFiredCentralHeating\"] = house_train[\"Services\"].str.contains(\"Oil Fired Central Heating\").fillna(\"No\")\n",
        "house_train[\"OilFiredCentralHeating\"].replace({True : \"Yes\", False : \"No\"}, inplace=True)\n",
        "OilFiredCentralHeating_mapper = {\"Yes\": 0,\"No\": 1}\n",
        "house_train['OilFiredCentralHeating'] = house_train['OilFiredCentralHeating'].replace(OilFiredCentralHeating_mapper)\n",
        "\n",
        "house_train[\"WheelchairAccess\"] = house_train[\"Services\"].str.contains(\"Wheelchair Access\").fillna(\"No\")\n",
        "house_train[\"WheelchairAccess\"].replace({True : \"Yes\", False : \"No\"}, inplace=True)\n",
        "WheelchairAccess_mapper = {\"Yes\": 0,\"No\": 1}\n",
        "house_train['WheelchairAccess'] = house_train['WheelchairAccess'].replace(WheelchairAccess_mapper)\n",
        "\n",
        "house_train[\"WiredForCableTelevision\"] = house_train[\"Services\"].str.contains(\"Wired for Cable Television\").fillna(\"No\")\n",
        "house_train[\"WiredForCableTelevision\"].replace({True : \"Yes\", False : \"No\"}, inplace=True)\n",
        "WiredForCableTelevision_mapper = {\"Yes\": 0,\"No\": 1}\n",
        "house_train['WiredForCableTelevision'] = house_train['WiredForCableTelevision'].replace(WiredForCableTelevision_mapper)"
      ],
      "execution_count": 47,
      "outputs": []
    },
    {
      "cell_type": "code",
      "metadata": {
        "id": "nyudFge2_-Qh"
      },
      "source": [
        "house_test[\"Alarm\"] = house_test[\"Services\"].str.contains(\"Alarm\").fillna(\"No\")\n",
        "house_test[\"Alarm\"].replace({True : \"Yes\", False : \"No\"}, inplace=True)\n",
        "alarm_mapper = {\"Yes\": 0,\"No\": 1}\n",
        "house_test['Alarm'] = house_test['Alarm'].replace(alarm_mapper)\n",
        "\n",
        "house_test[\"GasFiredCentralHeating\"] = house_test[\"Services\"].str.contains(\"Gas Fired Central Heating\").fillna(\"No\")\n",
        "house_test[\"GasFiredCentralHeating\"].replace({True : \"Yes\", False : \"No\"}, inplace=True)\n",
        "GasFiredCentralHeating_mapper = {\"Yes\": 0,\"No\": 1}\n",
        "house_test['GasFiredCentralHeating'] = house_test['GasFiredCentralHeating'].replace(GasFiredCentralHeating_mapper)\n",
        "\n",
        "house_test[\"Parking\"] = house_test[\"Services\"].str.contains(\"Parking\").fillna(\"No\")\n",
        "house_test[\"Parking\"].replace({True : \"Yes\", False : \"No\"}, inplace=True)\n",
        "parking_mapper = {\"Yes\": 0,\"No\": 1}\n",
        "house_test['Parking'] = house_test['Parking'].replace(parking_mapper)\n",
        "\n",
        "house_test[\"OilFiredCentralHeating\"] = house_test[\"Services\"].str.contains(\"Oil Fired Central Heating\").fillna(\"No\")\n",
        "house_test[\"OilFiredCentralHeating\"].replace({True : \"Yes\", False : \"No\"}, inplace=True)\n",
        "OilFiredCentralHeating_mapper = {\"Yes\": 0,\"No\": 1}\n",
        "house_test['OilFiredCentralHeating'] = house_test['OilFiredCentralHeating'].replace(OilFiredCentralHeating_mapper)\n",
        "\n",
        "house_test[\"WheelchairAccess\"] = house_test[\"Services\"].str.contains(\"Wheelchair Access\").fillna(\"No\")\n",
        "house_test[\"WheelchairAccess\"].replace({True : \"Yes\", False : \"No\"}, inplace=True)\n",
        "WheelchairAccess_mapper = {\"Yes\": 0,\"No\": 1}\n",
        "house_test['WheelchairAccess'] = house_test['WheelchairAccess'].replace(WheelchairAccess_mapper)\n",
        "\n",
        "house_test[\"WiredForCableTelevision\"] = house_test[\"Services\"].str.contains(\"Wired for Cable Television\").fillna(\"No\")\n",
        "house_test[\"WiredForCableTelevision\"].replace({True : \"Yes\", False : \"No\"}, inplace=True)\n",
        "WiredForCableTelevision_mapper = {\"Yes\": 0,\"No\": 1}\n",
        "house_test['WiredForCableTelevision'] = house_test['WiredForCableTelevision'].replace(WiredForCableTelevision_mapper)"
      ],
      "execution_count": 48,
      "outputs": []
    },
    {
      "cell_type": "code",
      "metadata": {
        "colab": {
          "base_uri": "https://localhost:8080/"
        },
        "id": "CZRa_wENTZwY",
        "outputId": "11ab6563-4ce9-4642-a766-184984ff6c3a"
      },
      "source": [
        "services = ['Alarm', 'GasFiredCentralHeating', 'Parking', 'OilFiredCentralHeating', 'WheelchairAccess', 'WiredForCableTelevision']\n",
        "for i in services:\n",
        "  print(house_train[i].value_counts())"
      ],
      "execution_count": 49,
      "outputs": [
        {
          "output_type": "stream",
          "name": "stdout",
          "text": [
            "1    1442\n",
            "0     196\n",
            "Name: Alarm, dtype: int64\n",
            "1    1259\n",
            "0     379\n",
            "Name: GasFiredCentralHeating, dtype: int64\n",
            "1    1123\n",
            "0     515\n",
            "Name: Parking, dtype: int64\n",
            "1    1595\n",
            "0      43\n",
            "Name: OilFiredCentralHeating, dtype: int64\n",
            "1    1603\n",
            "0      35\n",
            "Name: WheelchairAccess, dtype: int64\n",
            "1    1393\n",
            "0     245\n",
            "Name: WiredForCableTelevision, dtype: int64\n"
          ]
        }
      ]
    },
    {
      "cell_type": "code",
      "metadata": {
        "colab": {
          "base_uri": "https://localhost:8080/"
        },
        "id": "T4Z4lmFYTScn",
        "outputId": "6dfb2e4e-ce0d-431e-e701-f00f4bb6a775"
      },
      "source": [
        "house_train['Alarm'].value_counts()"
      ],
      "execution_count": 50,
      "outputs": [
        {
          "output_type": "execute_result",
          "data": {
            "text/plain": [
              "1    1442\n",
              "0     196\n",
              "Name: Alarm, dtype: int64"
            ]
          },
          "metadata": {},
          "execution_count": 50
        }
      ]
    },
    {
      "cell_type": "code",
      "metadata": {
        "colab": {
          "base_uri": "https://localhost:8080/",
          "height": 202
        },
        "id": "DOwwOevyTAtw",
        "outputId": "cd7ba6d9-1e02-441c-ed50-33b184538ff0"
      },
      "source": [
        "house_train[['Alarm', 'GasFiredCentralHeating', 'Parking', 'OilFiredCentralHeating', 'WheelchairAccess', 'WiredForCableTelevision']].head()"
      ],
      "execution_count": 51,
      "outputs": [
        {
          "output_type": "execute_result",
          "data": {
            "text/html": [
              "<div>\n",
              "<style scoped>\n",
              "    .dataframe tbody tr th:only-of-type {\n",
              "        vertical-align: middle;\n",
              "    }\n",
              "\n",
              "    .dataframe tbody tr th {\n",
              "        vertical-align: top;\n",
              "    }\n",
              "\n",
              "    .dataframe thead th {\n",
              "        text-align: right;\n",
              "    }\n",
              "</style>\n",
              "<table border=\"1\" class=\"dataframe\">\n",
              "  <thead>\n",
              "    <tr style=\"text-align: right;\">\n",
              "      <th></th>\n",
              "      <th>Alarm</th>\n",
              "      <th>GasFiredCentralHeating</th>\n",
              "      <th>Parking</th>\n",
              "      <th>OilFiredCentralHeating</th>\n",
              "      <th>WheelchairAccess</th>\n",
              "      <th>WiredForCableTelevision</th>\n",
              "    </tr>\n",
              "  </thead>\n",
              "  <tbody>\n",
              "    <tr>\n",
              "      <th>0</th>\n",
              "      <td>1</td>\n",
              "      <td>1</td>\n",
              "      <td>1</td>\n",
              "      <td>1</td>\n",
              "      <td>1</td>\n",
              "      <td>1</td>\n",
              "    </tr>\n",
              "    <tr>\n",
              "      <th>1</th>\n",
              "      <td>1</td>\n",
              "      <td>1</td>\n",
              "      <td>1</td>\n",
              "      <td>1</td>\n",
              "      <td>1</td>\n",
              "      <td>1</td>\n",
              "    </tr>\n",
              "    <tr>\n",
              "      <th>2</th>\n",
              "      <td>1</td>\n",
              "      <td>1</td>\n",
              "      <td>1</td>\n",
              "      <td>1</td>\n",
              "      <td>1</td>\n",
              "      <td>1</td>\n",
              "    </tr>\n",
              "    <tr>\n",
              "      <th>3</th>\n",
              "      <td>1</td>\n",
              "      <td>1</td>\n",
              "      <td>1</td>\n",
              "      <td>1</td>\n",
              "      <td>1</td>\n",
              "      <td>1</td>\n",
              "    </tr>\n",
              "    <tr>\n",
              "      <th>4</th>\n",
              "      <td>1</td>\n",
              "      <td>1</td>\n",
              "      <td>1</td>\n",
              "      <td>1</td>\n",
              "      <td>1</td>\n",
              "      <td>1</td>\n",
              "    </tr>\n",
              "  </tbody>\n",
              "</table>\n",
              "</div>"
            ],
            "text/plain": [
              "   Alarm  GasFiredCentralHeating  ...  WheelchairAccess  WiredForCableTelevision\n",
              "0      1                       1  ...                 1                        1\n",
              "1      1                       1  ...                 1                        1\n",
              "2      1                       1  ...                 1                        1\n",
              "3      1                       1  ...                 1                        1\n",
              "4      1                       1  ...                 1                        1\n",
              "\n",
              "[5 rows x 6 columns]"
            ]
          },
          "metadata": {},
          "execution_count": 51
        }
      ]
    },
    {
      "cell_type": "code",
      "metadata": {
        "id": "m1Noe9WxQ0Ny"
      },
      "source": [
        "house_train.drop('Services', axis=1, inplace=True)\n",
        "house_test.drop('Services', axis=1, inplace=True)"
      ],
      "execution_count": 52,
      "outputs": []
    },
    {
      "cell_type": "code",
      "metadata": {
        "colab": {
          "base_uri": "https://localhost:8080/",
          "height": 434
        },
        "id": "yE9WdJ31cDXu",
        "outputId": "712a32f4-acba-4903-d902-fbe51c11d248"
      },
      "source": [
        "plt.figure(figsize=(20,5))\n",
        "sns.heatmap(house_train[['Price','Alarm', 'GasFiredCentralHeating', 'Parking', 'OilFiredCentralHeating', 'WheelchairAccess', 'WiredForCableTelevision']].corr(), square=True, annot=True);"
      ],
      "execution_count": 53,
      "outputs": [
        {
          "output_type": "display_data",
          "data": {
            "image/png": "[encoded data removed]",
            "text/plain": [
              "<Figure size 1440x360 with 2 Axes>"
            ]
          },
          "metadata": {
            "needs_background": "light"
          }
        }
      ]
    },
    {
      "cell_type": "markdown",
      "metadata": {
        "id": "5gpUHoyORA8n"
      },
      "source": [
        "The `Services` feature contains information about particular amenities or facilities available in every property, described as follow:\n",
        "- Alarm\n",
        "- GasFiredCentralHeating\n",
        "- Parking\n",
        "- OilFiredCentralHeating\n",
        "- WheelchairAccess\n",
        "- WiredForCableTelevision\n",
        "\n",
        "They were preprocessed finding the correspondent service in the available information, to then adding a `Yes` or `No` to that service in the property. Next, they were mapped to its numerical value. Having in mind that ~64% of the data point are missing, this process removes them filling them with 0 to represent the no information about this value. Considering dropping variable, as even after preprocessing doesn't bring significant value to the evaluation. But very interesting to notice how Parking, Gas Fired Central Heating and Alarm are correlated to Price modifying it, maybe dropping OilFiredCentralHeating, WheelchairAccess and WiredForCableTelevision instead.\n",
        "\n"
      ]
    },
    {
      "cell_type": "markdown",
      "metadata": {
        "id": "DKnB_KZvyXYQ"
      },
      "source": [
        "'Features' "
      ]
    },
    {
      "cell_type": "code",
      "metadata": {
        "colab": {
          "base_uri": "https://localhost:8080/"
        },
        "id": "FV702kMPxRrw",
        "outputId": "5667b87b-079a-4953-93bd-639474006fde"
      },
      "source": [
        "house_train['Features'].head()"
      ],
      "execution_count": 54,
      "outputs": [
        {
          "output_type": "execute_result",
          "data": {
            "text/plain": [
              "0                                                 None\n",
              "1    Bight and Spacious interior\\nNumerous original...\n",
              "2    Special Features\\nLarge rear garden\\nGenerous ...\n",
              "3    Wonderful 3 bed detached bungalow.     \\nAccom...\n",
              "4    Detached Property      \\nDouble Glazed Windows...\n",
              "Name: Features, dtype: object"
            ]
          },
          "metadata": {},
          "execution_count": 54
        }
      ]
    },
    {
      "cell_type": "markdown",
      "metadata": {
        "id": "gqXopunvV_qh"
      },
      "source": [
        "`Features` is Free text, that will be processed using NLP"
      ]
    },
    {
      "cell_type": "markdown",
      "metadata": {
        "id": "ptGN3ZXVyVcW"
      },
      "source": [
        "'Latitude' & 'Longitude'"
      ]
    },
    {
      "cell_type": "code",
      "metadata": {
        "colab": {
          "base_uri": "https://localhost:8080/",
          "height": 215
        },
        "id": "eB78VTiDanBb",
        "outputId": "58ed5577-7350-47b9-80a3-063889742041"
      },
      "source": [
        "fig = plt.figure(figsize=(16,5))\n",
        "fig.add_subplot(2,2,1)\n",
        "sns.scatterplot(house_train['Latitude'],house_train['Price'])\n",
        "fig.add_subplot(2,2,2)\n",
        "sns.scatterplot(house_train['Longitude'],house_train['Price'])\n",
        "plt.tight_layout()"
      ],
      "execution_count": 55,
      "outputs": [
        {
          "output_type": "display_data",
          "data": {
            "image/png": "[encoded data removed]",
            "text/plain": [
              "<Figure size 1152x360 with 2 Axes>"
            ]
          },
          "metadata": {
            "needs_background": "light"
          }
        }
      ]
    },
    {
      "cell_type": "code",
      "metadata": {
        "id": "ciSwh0mMAp95"
      },
      "source": [
        "# Removing location that are outside of Ireland \n",
        "house_train = house_train.drop(house_train[house_train['Latitude'] < 52].index)\n",
        "house_train = house_train.drop(house_train[house_train['Longitude'] > -5].index)\n",
        "\n",
        "house_test = house_test.drop(house_test[house_test['Latitude'] < 52].index)\n",
        "house_test = house_test.drop(house_test[house_test['Longitude'] > -5].index)"
      ],
      "execution_count": 56,
      "outputs": []
    },
    {
      "cell_type": "code",
      "metadata": {
        "colab": {
          "base_uri": "https://localhost:8080/",
          "height": 210
        },
        "id": "R6Vj8TocbTrB",
        "outputId": "e8194a1b-9c16-4c11-b223-04df7890e108"
      },
      "source": [
        "fig = plt.figure(figsize=(16,5))\n",
        "fig.add_subplot(2,2,1)\n",
        "sns.scatterplot(data=house_train,x='Latitude', y='Longitude', hue='Latitude')\n",
        "fig.add_subplot(2,2,2)\n",
        "sns.scatterplot(data=house_test,x='Latitude', y='Longitude', hue='Latitude')\n",
        "plt.tight_layout()"
      ],
      "execution_count": 57,
      "outputs": [
        {
          "output_type": "display_data",
          "data": {
            "image/png": "[encoded data removed]",
            "text/plain": [
              "<Figure size 1152x360 with 2 Axes>"
            ]
          },
          "metadata": {
            "needs_background": "light"
          }
        }
      ]
    },
    {
      "cell_type": "markdown",
      "metadata": {
        "id": "VhmydXaKbmkV"
      },
      "source": [
        "For `Latitude` and `Longitude` we can see an outlier, dropped by removing data points < 52 and lower -5."
      ]
    },
    {
      "cell_type": "markdown",
      "metadata": {
        "id": "1hDZeLduyQK2"
      },
      "source": [
        "'Type'"
      ]
    },
    {
      "cell_type": "code",
      "metadata": {
        "colab": {
          "base_uri": "https://localhost:8080/"
        },
        "id": "LjWT4IcJxR2g",
        "outputId": "902f1cce-25e5-431c-f063-99a5a5f203b0"
      },
      "source": [
        "house_train['Type'].value_counts()"
      ],
      "execution_count": 58,
      "outputs": [
        {
          "output_type": "execute_result",
          "data": {
            "text/plain": [
              "semi-detached     457\n",
              "apartment         431\n",
              "terraced          299\n",
              "detached          234\n",
              "end-of-terrace    118\n",
              "bungalow           48\n",
              "duplex             33\n",
              "townhouse          14\n",
              "studio              2\n",
              "site                1\n",
              "Name: Type, dtype: int64"
            ]
          },
          "metadata": {},
          "execution_count": 58
        }
      ]
    },
    {
      "cell_type": "code",
      "metadata": {
        "id": "1DgfHUOPzq4F"
      },
      "source": [
        "# Get one hot encoding of columns area\n",
        "one_hot = pd.get_dummies(house_train['Type'])\n",
        "one_hot_ = pd.get_dummies(house_test['Type'])\n",
        "# Drop column property type as it is now encoded\n",
        "house_test = house_test.drop('Type', axis=1)\n",
        "house_train = house_train.drop('Type', axis=1)\n",
        "# Join the encoded dataframe\n",
        "house_train = house_train.join(one_hot)\n",
        "house_test = house_test.join(one_hot_)"
      ],
      "execution_count": 59,
      "outputs": []
    },
    {
      "cell_type": "markdown",
      "metadata": {
        "id": "vlnj7MJ0hMvl"
      },
      "source": [
        "Property Type was converted to numerical variables, replacing the 10 characters \n",
        "using get_dummies"
      ]
    },
    {
      "cell_type": "markdown",
      "metadata": {
        "id": "zCVR66_CyMnS"
      },
      "source": [
        "'Surface'"
      ]
    },
    {
      "cell_type": "code",
      "metadata": {
        "colab": {
          "base_uri": "https://localhost:8080/",
          "height": 368
        },
        "id": "C0kTfvm1EX4F",
        "outputId": "adcdba9b-ff6e-455c-d34d-458b11e4a8ce"
      },
      "source": [
        "surface_counts = house_train['Surface'].value_counts()\n",
        "sns.relplot(data=house_train, kind=\"line\", x=\"Surface\", y=surface_counts, facet_kws=dict(sharex=False));"
      ],
      "execution_count": 60,
      "outputs": [
        {
          "output_type": "display_data",
          "data": {
            "image/png": "[encoded data removed]",
            "text/plain": [
              "<Figure size 360x360 with 1 Axes>"
            ]
          },
          "metadata": {
            "needs_background": "light"
          }
        }
      ]
    },
    {
      "cell_type": "code",
      "metadata": {
        "id": "_hA20G_CA1vb"
      },
      "source": [
        "house_train['Surface'].values[house_train['Surface'].values > 600] = 600\n",
        "house_test['Surface'].values[house_test['Surface'].values > 600] = 600"
      ],
      "execution_count": 61,
      "outputs": []
    },
    {
      "cell_type": "code",
      "metadata": {
        "colab": {
          "base_uri": "https://localhost:8080/",
          "height": 1000
        },
        "id": "RjXJhD4gA-jf",
        "outputId": "4b422a0b-02b9-45da-fa17-e66218239233"
      },
      "source": [
        "# Representation of the summary of the set of data values \n",
        "features = ['Num_Bathrooms', 'Num_Beds', 'BER_class', 'Latitude', 'Longitude', 'Surface', 'Price']\n",
        "fig = plt.figure(figsize=(20,(len(features))*5))\n",
        "sns.color_palette(\"viridis\", as_cmap=True)\n",
        "for i in features: \n",
        "  # creating a figure composed of two matplotlib.Axes objects (ax_box and ax_hist)\n",
        "  f, (ax_box, ax_hist) = plt.subplots(2,1, sharex=True, gridspec_kw={\"height_ratios\": (.15, .85)})\n",
        "  \n",
        "  # assigning a graph to each ax\n",
        "  sns.boxplot(house_train[i], ax=ax_box, color=\"gold\")\n",
        "  sns.histplot(data=house_train, x=i, ax=ax_hist, color=\"teal\")\n",
        "  \n",
        "  # Remove x axis name for the boxplot\n",
        "  ax_box.set(xlabel='')\n",
        "\n",
        "plt.show();"
      ],
      "execution_count": 62,
      "outputs": [
        {
          "output_type": "display_data",
          "data": {
            "text/plain": [
              "<Figure size 1440x2520 with 0 Axes>"
            ]
          },
          "metadata": {}
        },
        {
          "output_type": "display_data",
          "data": {
            "image/png": "[encoded data removed]",
            "text/plain": [
              "<Figure size 432x288 with 2 Axes>"
            ]
          },
          "metadata": {
            "needs_background": "light"
          }
        },
        {
          "output_type": "display_data",
          "data": {
            "image/png": "[encoded data removed]",
            "text/plain": [
              "<Figure size 432x288 with 2 Axes>"
            ]
          },
          "metadata": {
            "needs_background": "light"
          }
        },
        {
          "output_type": "display_data",
          "data": {
            "image/png": "[encoded data removed]",
            "text/plain": [
              "<Figure size 432x288 with 2 Axes>"
            ]
          },
          "metadata": {
            "needs_background": "light"
          }
        },
        {
          "output_type": "display_data",
          "data": {
            "image/png": "[encoded data removed]",
            "text/plain": [
              "<Figure size 432x288 with 2 Axes>"
            ]
          },
          "metadata": {
            "needs_background": "light"
          }
        },
        {
          "output_type": "display_data",
          "data": {
            "image/png": "[encoded data removed]",
            "text/plain": [
              "<Figure size 432x288 with 2 Axes>"
            ]
          },
          "metadata": {
            "needs_background": "light"
          }
        },
        {
          "output_type": "display_data",
          "data": {
            "image/png": "[encoded data removed]",
            "text/plain": [
              "<Figure size 432x288 with 2 Axes>"
            ]
          },
          "metadata": {
            "needs_background": "light"
          }
        },
        {
          "output_type": "display_data",
          "data": {
            "image/png": "[encoded data removed]",
            "text/plain": [
              "<Figure size 432x288 with 2 Axes>"
            ]
          },
          "metadata": {
            "needs_background": "light"
          }
        }
      ]
    },
    {
      "cell_type": "code",
      "metadata": {
        "colab": {
          "base_uri": "https://localhost:8080/"
        },
        "id": "C3biS3sGHymE",
        "outputId": "44c0a2be-e164-4bb5-e278-9102e8dc043e"
      },
      "source": [
        "# Missing Values\n",
        "print('Train Data Missing Values')\n",
        "print(house_train.isna().sum())\n",
        "print('')\n",
        "print('Test Data Missing Values')\n",
        "print(house_test.isna().sum())"
      ],
      "execution_count": 63,
      "outputs": [
        {
          "output_type": "stream",
          "name": "stdout",
          "text": [
            "Train Data Missing Values\n",
            "Index                      0\n",
            "Num_Bathrooms              0\n",
            "Num_Beds                   0\n",
            "BER_class                  0\n",
            "Description                0\n",
            "Features                   0\n",
            "Latitude                   0\n",
            "Longitude                  0\n",
            "Surface                    0\n",
            "Price                      0\n",
            "Dublin 1                   0\n",
            "Dublin 10                  0\n",
            "Dublin 11                  0\n",
            "Dublin 12                  0\n",
            "Dublin 13                  0\n",
            "Dublin 14                  0\n",
            "Dublin 15                  0\n",
            "Dublin 16                  0\n",
            "Dublin 17                  0\n",
            "Dublin 18                  0\n",
            "Dublin 2                   0\n",
            "Dublin 20                  0\n",
            "Dublin 22                  0\n",
            "Dublin 24                  0\n",
            "Dublin 3                   0\n",
            "Dublin 4                   0\n",
            "Dublin 5                   0\n",
            "Dublin 6                   0\n",
            "Dublin 6w                  0\n",
            "Dublin 7                   0\n",
            "Dublin 8                   0\n",
            "Dublin 9                   0\n",
            "DunLaoghaireRathdown       0\n",
            "Fingal                     0\n",
            "Alarm                      0\n",
            "GasFiredCentralHeating     0\n",
            "Parking                    0\n",
            "OilFiredCentralHeating     0\n",
            "WheelchairAccess           0\n",
            "WiredForCableTelevision    0\n",
            "apartment                  0\n",
            "bungalow                   0\n",
            "detached                   0\n",
            "duplex                     0\n",
            "end-of-terrace             0\n",
            "semi-detached              0\n",
            "site                       0\n",
            "studio                     0\n",
            "terraced                   0\n",
            "townhouse                  0\n",
            "dtype: int64\n",
            "\n",
            "Test Data Missing Values\n",
            "Index                      0\n",
            "Num_Bathrooms              0\n",
            "Num_Beds                   0\n",
            "BER_class                  0\n",
            "Description                0\n",
            "Features                   0\n",
            "Latitude                   0\n",
            "Longitude                  0\n",
            "Surface                    0\n",
            "Dublin 1                   0\n",
            "Dublin 10                  0\n",
            "Dublin 11                  0\n",
            "Dublin 12                  0\n",
            "Dublin 13                  0\n",
            "Dublin 14                  0\n",
            "Dublin 15                  0\n",
            "Dublin 16                  0\n",
            "Dublin 17                  0\n",
            "Dublin 18                  0\n",
            "Dublin 2                   0\n",
            "Dublin 20                  0\n",
            "Dublin 22                  0\n",
            "Dublin 24                  0\n",
            "Dublin 3                   0\n",
            "Dublin 4                   0\n",
            "Dublin 5                   0\n",
            "Dublin 6                   0\n",
            "Dublin 6w                  0\n",
            "Dublin 7                   0\n",
            "Dublin 8                   0\n",
            "Dublin 9                   0\n",
            "DunLaoghaireRathdown       0\n",
            "Fingal                     0\n",
            "Alarm                      0\n",
            "GasFiredCentralHeating     0\n",
            "Parking                    0\n",
            "OilFiredCentralHeating     0\n",
            "WheelchairAccess           0\n",
            "WiredForCableTelevision    0\n",
            "apartment                  0\n",
            "bungalow                   0\n",
            "detached                   0\n",
            "duplex                     0\n",
            "end-of-terrace             0\n",
            "semi-detached              0\n",
            "site                       0\n",
            "terraced                   0\n",
            "townhouse                  0\n",
            "dtype: int64\n"
          ]
        }
      ]
    },
    {
      "cell_type": "markdown",
      "metadata": {
        "id": "UWq69zEeqVXA"
      },
      "source": [
        "## Feature Importance"
      ]
    },
    {
      "cell_type": "code",
      "metadata": {
        "id": "e6CbzFs9Jn6Z",
        "colab": {
          "base_uri": "https://localhost:8080/",
          "height": 838
        },
        "outputId": "70bd3eac-34f4-4533-d64e-e768166eb346"
      },
      "source": [
        "# Feature selection using XGBoost[1]\n",
        "from xgboost import XGBClassifier\n",
        "from xgboost import plot_importance\n",
        "\n",
        "#Remove Categorical Variables\n",
        "#house_train_copy = house_train.drop(['Description', 'Features'], axis=1)\n",
        "#Create copy\n",
        "house_train_fi = house_train.drop(['Index','Description', 'Features'], axis=1)\n",
        "# For train/test split\n",
        "X = house_train_fi.drop('Price',axis=1)\n",
        "y = house_train_fi['Price']\n",
        "X_train,X_test,y_train,y_test = train_test_split(X, y, test_size=0.3)\n",
        "fi_Model = XGBClassifier()\n",
        "fi_Model.fit(X_train, y_train)\n",
        "# plot feature importance\n",
        "plt.rcParams[\"figure.figsize\"] = (28, 14)\n",
        "plot_importance(fi_Model)\n",
        "plt.show();"
      ],
      "execution_count": 65,
      "outputs": [
        {
          "output_type": "display_data",
          "data": {
            "image/png": "[encoded data removed]",
            "text/plain": [
              "<Figure size 2016x1008 with 1 Axes>"
            ]
          },
          "metadata": {
            "needs_background": "light"
          }
        }
      ]
    },
    {
      "cell_type": "code",
      "metadata": {
        "id": "loLTHklwKGnV"
      },
      "source": [
        "# training: 70% (0.7), test: 30% (0.3) \n",
        "# you could try any other combination \n",
        "# but consider 50% of training as the low boundary\n",
        "X_train,X_test,y_train,y_test = train_test_split(X, y, test_size=0.3)"
      ],
      "execution_count": null,
      "outputs": []
    },
    {
      "cell_type": "markdown",
      "metadata": {
        "id": "ztBkSZluye87"
      },
      "source": [
        "## Train dataset"
      ]
    },
    {
      "cell_type": "code",
      "metadata": {
        "id": "4rosmH4665uJ"
      },
      "source": [
        "# training dataset: \n",
        "training_file = syntPath+filename1\n",
        "# test dataset: \n",
        "testing_file = syntPath+filename2\n",
        "# cost dataset: \n",
        "cost_file = syntPath+filename3"
      ],
      "execution_count": null,
      "outputs": []
    },
    {
      "cell_type": "code",
      "metadata": {
        "id": "6XUFUPABMHfF"
      },
      "source": [
        "# show first data frame rows \n",
        "dftrain.head()"
      ],
      "execution_count": null,
      "outputs": []
    },
    {
      "cell_type": "code",
      "metadata": {
        "id": "5rq_p-D4yLBe"
      },
      "source": [
        "# Generate descriptive statistics\n",
        "dftrain.describe()"
      ],
      "execution_count": null,
      "outputs": []
    },
    {
      "cell_type": "markdown",
      "metadata": {
        "id": "Iqg9_uxFyZli"
      },
      "source": [
        "## Test dataset"
      ]
    },
    {
      "cell_type": "code",
      "metadata": {
        "id": "bw2_yypxMfsi"
      },
      "source": [
        "# show first data frame rows \n",
        "dftest.head()"
      ],
      "execution_count": null,
      "outputs": []
    },
    {
      "cell_type": "code",
      "metadata": {
        "id": "FXo0x2u7T7-1"
      },
      "source": [
        "# Generate descriptive statistics\n",
        "dftest.describe()"
      ],
      "execution_count": null,
      "outputs": []
    },
    {
      "cell_type": "markdown",
      "metadata": {
        "id": "UjMH1CSEUA1A"
      },
      "source": [
        "## Expected Cost dataset"
      ]
    },
    {
      "cell_type": "code",
      "metadata": {
        "id": "7p63sCZeUNx3"
      },
      "source": [
        "# Generate descriptive statistics\n",
        "dfcost.describe()"
      ],
      "execution_count": null,
      "outputs": []
    },
    {
      "cell_type": "markdown",
      "metadata": {
        "id": "G5oRiZxo2gpN"
      },
      "source": [
        "# NATURAL LANGUAGE PROCESSING"
      ]
    },
    {
      "cell_type": "markdown",
      "metadata": {
        "id": "e8s0Wi3a8yjN"
      },
      "source": [
        "Natural language processing ([NLP](https://en.wikipedia.org/wiki/Natural_language_processing)) is a subfield of linguistics, computer science, and artificial intelligence.\n",
        "\n",
        "* NLP concerned with the interactions between computers and human language.\n",
        "* In particular how to program computers to process and analyze large amounts of natural language data. \n",
        "* The goal is a computer capable of \"understanding\" the contents of documents.\n",
        "* Including the contextual nuances of the language within them. \n",
        "* The technology can then accurately extract information and insights contained in the documents.\n",
        "* As well as categorize and organize the documents themselves. "
      ]
    },
    {
      "cell_type": "markdown",
      "metadata": {
        "id": "oValFP-z2gpN"
      },
      "source": [
        "Your comments, explanation, and references here."
      ]
    },
    {
      "cell_type": "code",
      "metadata": {
        "id": "NnVebugw7Nuq"
      },
      "source": [
        "#Transform to lower case\n",
        "import string\n",
        "house_train['Description'] = house_train['Description'].str.lower()\n",
        "#Remove punctuation\n",
        "table = str.maketrans('', '', string.punctuation)\n",
        "house_train['Description'] = [house_train['Description'][row].translate(table) for row in range(len(house_train['Description']))]\n",
        "#Remove stopwords\n",
        "import nltk\n",
        "nltk.download('stopwords')\n",
        "from nltk.corpus import stopwords\n",
        "stop = stopwords.words('english')\n",
        "house_train['Description'] = house_train['Description'].apply(lambda x: \" \".join(x for x in x.split() if x not in stop))"
      ],
      "execution_count": null,
      "outputs": []
    },
    {
      "cell_type": "code",
      "metadata": {
        "id": "V1DueH738MES"
      },
      "source": [
        "#Find words spreading (each word frequency)\n",
        "freq_d = pd.Series(' '.join(house_train['Description']).split()).value_counts()\n",
        "#Plot the words distribution\n",
        "freq_d.plot(kind='line', ax=None, figsize=None, use_index=True,\n",
        "            title=None, grid=None, legend=False, style=None,\n",
        "            logx=False, logy=False, loglog=False, xticks=None,\n",
        "            yticks=None, xlim=None, ylim=None, rot=None,\n",
        "            fontsize=None, colormap=None, table=False, yerr=None,\n",
        "            xerr=None, label=None, secondary_y=False);"
      ],
      "execution_count": null,
      "outputs": []
    },
    {
      "cell_type": "code",
      "metadata": {
        "id": "s6iEZHYd8cUr"
      },
      "source": [
        "#Remove the least frequent words\n",
        "rare_d = pd.Series(' '.join(house_train['Description']).split()).value_counts()[-17528:]\n",
        "rare_d = list(rare_d.index)\n",
        "house_train['Description'] = house_train['Description'].apply(lambda x: \" \".join(x for x in x.split() if x not in rare_d))\n",
        "#Remove the most frequent words\n",
        "freq_d = pd.Series(' '.join(house_train['Description']).split()).value_counts()[:30]\n",
        "freq_d = list(freq_d.index)\n",
        "house_train['Description'] = house_train['Description'].apply(lambda x: \" \".join(x for x in x.split() if x not in freq_d))"
      ],
      "execution_count": null,
      "outputs": []
    },
    {
      "cell_type": "code",
      "metadata": {
        "id": "tP_lx9vq8rAL"
      },
      "source": [
        "house_train['Description'] = [text.split() for text in house_train['Description']]"
      ],
      "execution_count": null,
      "outputs": []
    },
    {
      "cell_type": "code",
      "metadata": {
        "id": "7fzoKmZ-8u2k"
      },
      "source": [
        "#Create a set of text records for each field\n",
        "from gensim import corpora\n",
        "dict_d = corpora.Dictionary(house_train['Description'])"
      ],
      "execution_count": null,
      "outputs": []
    },
    {
      "cell_type": "code",
      "metadata": {
        "id": "vPi3a-d485-F"
      },
      "source": [
        "#Convert tokenized text (corpora) to vectors\n",
        "corpus_d = [dict_d.doc2bow(line) for line in house_train['Description']]"
      ],
      "execution_count": null,
      "outputs": []
    },
    {
      "cell_type": "code",
      "metadata": {
        "id": "1ccbkAXz855y"
      },
      "source": [
        "#Transform vectors of texts to scalar values (calculating norms of vectors)\n",
        "from numpy import linalg as LA\n",
        "corpus_d_vec_norm = [LA.norm(vec) for vec in corpus_d]\n",
        "#Replace text descriptions in the database with norms of vectors\n",
        "house_train['Description'] = corpus_d_vec_norm"
      ],
      "execution_count": null,
      "outputs": []
    },
    {
      "cell_type": "code",
      "metadata": {
        "id": "Lv-PHYFl851h"
      },
      "source": [
        "import sklearn\n",
        "from sklearn.neural_network import MLPRegressor\n",
        "mlpreg = MLPRegressor(hidden_layer_sizes=(3,), activation='relu',\n",
        "         solver='adam', alpha=0.001, batch_size='auto',\n",
        "         learning_rate='adaptive', learning_rate_init=0.01,\n",
        "         power_t=0.5, max_iter=1000, shuffle=True, random_state=9,\n",
        "         tol=0.0001, verbose=False, warm_start=False, momentum=0.9,\n",
        "         nesterovs_momentum=True, early_stopping=False,\n",
        "         validation_fraction=0.1, beta_1=0.9, beta_2=0.999,\n",
        "         epsilon=1e-08)"
      ],
      "execution_count": null,
      "outputs": []
    },
    {
      "cell_type": "code",
      "metadata": {
        "id": "wdLMrkCd85ri"
      },
      "source": [
        ""
      ],
      "execution_count": null,
      "outputs": []
    },
    {
      "cell_type": "code",
      "metadata": {
        "id": "HppH3OYby-HX"
      },
      "source": [
        "real_estate_stopwords = [\n",
        "    \"area\",\n",
        "    \"province\",\n",
        "    \"location\",\n",
        "    \"plot\",\n",
        "    \"hectare\",\n",
        "    \"m²\",\n",
        "    \"m2\",\n",
        "    \"sq\",\n",
        "    \"sale\",\n",
        "    \"square\",\n",
        "    \"meter\",\n",
        "    \"bedroom\",\n",
        "    \"bathroom\",\n",
        "    \"room\",\n",
        "    \"living\",\n",
        "    \"kitchen\",\n",
        "    \"hallway\",\n",
        "    \"corridor\",\n",
        "    \"dining\",\n",
        "    \"pool\",\n",
        "    \"apartment\",\n",
        "    \"flat\"\n",
        "    ]\n"
      ],
      "execution_count": null,
      "outputs": []
    },
    {
      "cell_type": "markdown",
      "metadata": {
        "id": "bJFJQxAS9HZK"
      },
      "source": [
        "# PIECEWISE REGRESSION"
      ]
    },
    {
      "cell_type": "markdown",
      "metadata": {
        "id": "QkRchZtf6IV-"
      },
      "source": [
        "**Piecewise regression**, extract from [Wikipedia](https://en.wikipedia.org/wiki/Segmented_regression):\n",
        "\n",
        "Segmented regression, also known as piecewise regression or broken-stick regression, is a method in regression analysis in which the independent variable is partitioned into intervals and a separate line segment is fit to each interval. \n",
        "\n",
        "* Segmented regression analysis can also be performed on \n",
        "multivariate data by partitioning the various independent variables. \n",
        "* Segmented regression is useful when the independent variables, clustered into different groups, exhibit different relationships between the variables in these regions. \n",
        "\n",
        "* The boundaries between the segments are breakpoints.\n",
        "\n",
        "* Segmented linear regression is segmented regression whereby the relations in the intervals are obtained by linear regression. "
      ]
    },
    {
      "cell_type": "markdown",
      "metadata": {
        "id": "po84zvge2NS7"
      },
      "source": [
        "Your comments, explanation, and references here."
      ]
    },
    {
      "cell_type": "code",
      "metadata": {
        "id": "pXX7Mq2Y2NrK"
      },
      "source": [
        "# your code here"
      ],
      "execution_count": null,
      "outputs": []
    },
    {
      "cell_type": "markdown",
      "metadata": {
        "id": "_kFgkUA85_pn"
      },
      "source": [
        "# BAYESIAN NN"
      ]
    },
    {
      "cell_type": "markdown",
      "metadata": {
        "id": "ELer5PV37ftX"
      },
      "source": [
        "A [Bayesian network](https://en.wikipedia.org/wiki/Bayesian_network) (also known as a Bayes network, Bayes net, belief network, or decision network) is a probabilistic graphical model that represents a set of variables and their conditional dependencies via a directed acyclic graph (DAG). \n",
        "\n",
        "* Bayesian networks are ideal for taking an event that occurred and predicting the likelihood that any one of several possible known causes was the contributing factor. \n",
        "* For example, a Bayesian network could represent the probabilistic relationships between diseases and symptoms. \n",
        "* Given symptoms, the network can be used to compute the probabilities of the presence of various diseases."
      ]
    },
    {
      "cell_type": "markdown",
      "metadata": {
        "id": "z0kauv1L5_po"
      },
      "source": [
        "Your comments, explanation, and references here."
      ]
    },
    {
      "cell_type": "code",
      "metadata": {
        "id": "0smpwCET5_pp"
      },
      "source": [
        "# your code here"
      ],
      "execution_count": null,
      "outputs": []
    },
    {
      "cell_type": "markdown",
      "metadata": {
        "id": "-sePQKLHZQaD"
      },
      "source": [
        "# Root Mean Squared Logarithmic Error (RMSLE)"
      ]
    },
    {
      "cell_type": "code",
      "metadata": {
        "id": "rGGkM0oJZPoU"
      },
      "source": [
        ""
      ],
      "execution_count": null,
      "outputs": []
    },
    {
      "cell_type": "markdown",
      "metadata": {
        "id": "f0GYCpwEM09T"
      },
      "source": [
        "# SUMMARY"
      ]
    },
    {
      "cell_type": "markdown",
      "metadata": {
        "id": "rBDzsZSJ7HZp"
      },
      "source": [
        "Your summary here."
      ]
    },
    {
      "cell_type": "code",
      "metadata": {
        "id": "1kwF5YybkRoZ"
      },
      "source": [
        ""
      ],
      "execution_count": null,
      "outputs": []
    },
    {
      "cell_type": "code",
      "metadata": {
        "id": "Bcx3SgKakTgo"
      },
      "source": [
        ""
      ],
      "execution_count": null,
      "outputs": []
    },
    {
      "cell_type": "code",
      "metadata": {
        "id": "e5o-Qzlq_Ww2"
      },
      "source": [
        ""
      ],
      "execution_count": null,
      "outputs": []
    }
  ]
}