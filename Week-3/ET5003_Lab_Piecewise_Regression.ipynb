{
  "nbformat": 4,
  "nbformat_minor": 0,
  "metadata": {
    "kernelspec": {
      "display_name": "Python 3",
      "language": "python",
      "name": "python3"
    },
    "language_info": {
      "codemirror_mode": {
        "name": "ipython",
        "version": 3
      },
      "file_extension": ".py",
      "mimetype": "text/x-python",
      "name": "python",
      "nbconvert_exporter": "python",
      "pygments_lexer": "ipython3",
      "version": "3.6.9"
    },
    "toc": {
      "base_numbering": 1,
      "nav_menu": {},
      "number_sections": false,
      "sideBar": true,
      "skip_h1_title": false,
      "title_cell": "Table of Contents",
      "title_sidebar": "Contents",
      "toc_cell": false,
      "toc_position": {},
      "toc_section_display": true,
      "toc_window_display": false
    },
    "colab": {
      "name": "ET5003_Lab_Piecewise_Regression.ipynb",
      "provenance": [],
      "collapsed_sections": [],
      "include_colab_link": true
    }
  },
  "cells": [
    {
      "cell_type": "markdown",
      "metadata": {
        "id": "view-in-github",
        "colab_type": "text"
      },
      "source": [
        "<a href=\"https://colab.research.google.com/github/olgaminguett/ET5003_SEM1_2021-2/blob/main/Week-3/ET5003_Lab_Piecewise_Regression.ipynb\" target=\"_parent\"><img src=\"https://colab.research.google.com/assets/colab-badge.svg\" alt=\"Open In Colab\"/></a>"
      ]
    },
    {
      "cell_type": "markdown",
      "metadata": {
        "id": "930vlW5BrOtq"
      },
      "source": [
        "<div>\n",
        "<img src=\"https://drive.google.com/uc?export=view&id=1vK33e_EqaHgBHcbRV_m38hx6IkG0blK_\" width=\"350\"/>\n",
        "</div> \n",
        "\n",
        "#**Artificial Intelligence - MSc**\n",
        "##ET5003 - MACHINE LEARNING APPLICATIONS \n",
        "\n",
        "###Instructor: Enrique Naredo\n",
        "###ET5003_Lab_Piecewise_Regression"
      ]
    },
    {
      "cell_type": "markdown",
      "metadata": {
        "id": "_A0Z6S-r6DpA"
      },
      "source": [
        "# INTRODUCTION"
      ]
    },
    {
      "cell_type": "markdown",
      "metadata": {
        "id": "QkRchZtf6IV-"
      },
      "source": [
        "**Piecewise regression**, extract from [Wikipedia](https://en.wikipedia.org/wiki/Segmented_regression):\n",
        "\n",
        "Segmented regression, also known as piecewise regression or broken-stick regression, is a method in regression analysis in which the independent variable is partitioned into intervals and a separate line segment is fit to each interval. \n",
        "\n",
        "* Segmented regression analysis can also be performed on \n",
        "multivariate data by partitioning the various independent variables. \n",
        "* Segmented regression is useful when the independent variables, clustered into different groups, exhibit different relationships between the variables in these regions. \n",
        "\n",
        "* The boundaries between the segments are breakpoints.\n",
        "\n",
        "* Segmented linear regression is segmented regression whereby the relations in the intervals are obtained by linear regression. "
      ]
    },
    {
      "cell_type": "markdown",
      "metadata": {
        "id": "Wg7VCbX77eAA"
      },
      "source": [
        "## Imports"
      ]
    },
    {
      "cell_type": "code",
      "metadata": {
        "id": "iFFLThrpwibd"
      },
      "source": [
        "# Suppressing Warnings:\n",
        "import warnings\n",
        "warnings.filterwarnings(\"ignore\")"
      ],
      "execution_count": null,
      "outputs": []
    },
    {
      "cell_type": "code",
      "metadata": {
        "id": "d1770_fNrCWn"
      },
      "source": [
        "import pandas as pd\n",
        "import numpy as np\n",
        "import pymc3 as pm\n",
        "import arviz as az\n",
        "import matplotlib.pyplot as plt\n",
        "from sklearn.preprocessing import StandardScaler"
      ],
      "execution_count": null,
      "outputs": []
    },
    {
      "cell_type": "code",
      "metadata": {
        "id": "sYPJU_Y6O6Dq"
      },
      "source": [
        "# to plot\n",
        "import matplotlib.colors\n",
        "from mpl_toolkits.mplot3d import Axes3D\n",
        "\n",
        "# to generate classification, regression and clustering datasets\n",
        "import sklearn.datasets as dt\n",
        "\n",
        "# to create data frames\n",
        "from pandas import DataFrame\n",
        "\n",
        "# to generate data from an existing dataset\n",
        "from sklearn.neighbors import KernelDensity\n",
        "from sklearn.model_selection import GridSearchCV"
      ],
      "execution_count": null,
      "outputs": []
    },
    {
      "cell_type": "code",
      "metadata": {
        "id": "6MUJdlxSPSMM"
      },
      "source": [
        "# Define the seed so that results can be reproduced\n",
        "seed = 11\n",
        "rand_state = 11\n",
        "\n",
        "# Define the color maps for plots\n",
        "color_map = plt.cm.get_cmap('RdYlBu')\n",
        "color_map_discrete = matplotlib.colors.LinearSegmentedColormap.from_list(\"\", [\"red\",\"cyan\",\"magenta\",\"blue\"])"
      ],
      "execution_count": null,
      "outputs": []
    },
    {
      "cell_type": "markdown",
      "metadata": {
        "id": "WL91ShB19RPw"
      },
      "source": [
        "# DATASET"
      ]
    },
    {
      "cell_type": "markdown",
      "metadata": {
        "id": "c-3vBYgtjlIh"
      },
      "source": [
        "## Synthetic Dataset\n"
      ]
    },
    {
      "cell_type": "markdown",
      "metadata": {
        "id": "QGtnU2eSOvmZ"
      },
      "source": [
        "**Synthetic data** plays a very important role in data science, allows us to test a new algorithm under controlled conditions, we can generate data that tests a very specific property or behavior of our algorithm.\n",
        "\n",
        "* We can test its performance on balanced vs. imbalanced datasets.\n",
        "* We can evaluate its performance under different noise levels.\n",
        "* We can establish a baseline of our algorithm's performance under various scenarios.\n",
        "\n",
        "Real data may be hard or expensive to acquire, or it may have too few data-points. \n",
        "\n",
        "Another reason is privacy, where real data cannot be revealed to others."
      ]
    },
    {
      "cell_type": "markdown",
      "metadata": {
        "id": "GPFx50EKPkFW"
      },
      "source": [
        "### Synthetic Data for Regression"
      ]
    },
    {
      "cell_type": "markdown",
      "metadata": {
        "id": "4m89-GAmPxP_"
      },
      "source": [
        "The sklearn.datasets package has functions for generating synthetic datasets for regression. \n",
        "\n",
        "The make_regression() function returns a set of input data points (regressors) along with their output (target). \n",
        "\n",
        "This function can be adjusted with the following parameters:\n",
        "\n",
        "    n_features - number of dimensions/features of the generated data\n",
        "    noise - standard deviation of gaussian noise\n",
        "    n_samples - number of samples\n",
        "\n",
        "* The response variable is a linear combination of the generated input set.\n",
        "\n",
        "* A response variable is something that's dependent on other variables.\n",
        "\n",
        "* In this particular case, it is a target feature that we're trying to predict using all the other input features.\n"
      ]
    },
    {
      "cell_type": "markdown",
      "metadata": {
        "id": "fcqf8ZjZ-GTv"
      },
      "source": [
        "### Example"
      ]
    },
    {
      "cell_type": "code",
      "metadata": {
        "id": "bsn3PoUfQZfX",
        "colab": {
          "base_uri": "https://localhost:8080/",
          "height": 265
        },
        "outputId": "faf6328c-ea7f-4bc3-ab65-49bdcc99bdd3"
      },
      "source": [
        "## Example \n",
        "# data with just 2 features\n",
        "X1,y1 = dt.make_regression(n_samples=1000, n_features=2,\n",
        "                        noise=50, random_state=rand_state,effective_rank=1) \n",
        "\n",
        "scatter_plot2 = plt.scatter(X1[:,0], X1[:,1], c=y1,\n",
        "                            vmin=min(y1), vmax=max(y1),\n",
        "                            s=35, cmap=color_map)\n"
      ],
      "execution_count": null,
      "outputs": [
        {
          "output_type": "display_data",
          "data": {
            "image/png": "[encoded data removed]",
            "text/plain": [
              "<Figure size 432x288 with 1 Axes>"
            ]
          },
          "metadata": {
            "needs_background": "light"
          }
        }
      ]
    },
    {
      "cell_type": "markdown",
      "metadata": {
        "id": "WHqeAEgR-JIf"
      },
      "source": [
        "###Create Synthetic Data"
      ]
    },
    {
      "cell_type": "code",
      "metadata": {
        "colab": {
          "base_uri": "https://localhost:8080/",
          "height": 282
        },
        "id": "NjBwAGBhD9Qy",
        "outputId": "98afbea4-698e-4f23-df02-d1ab533ce1be"
      },
      "source": [
        "# create random datw with 4 clusters\n",
        "from sklearn.datasets import make_classification\n",
        "\n",
        "num_samples = 5000\n",
        "X2, y2 = make_classification(n_classes=4, n_features=2, n_samples=num_samples, \n",
        "                            n_redundant=0, n_informative=2, n_clusters_per_class=1)\n",
        "\n",
        "\n",
        "# create a data frame\n",
        "df = DataFrame(dict(x=X2[:,0], y=X2[:,1], label=y2))\n",
        "# three classes\n",
        "colors = {0:'red', 1:'green', 2:'blue', 3:'brown'}\n",
        "# figure\n",
        "fig, ax = plt.subplots()\n",
        "grouped = df.groupby('label')\n",
        "# scatter plot\n",
        "for key, group in grouped:\n",
        "    group.plot(ax=ax, kind='scatter', x='x', y='y', label=key, color=colors[key])\n",
        "# show the plot\n",
        "plt.show()"
      ],
      "execution_count": null,
      "outputs": [
        {
          "output_type": "display_data",
          "data": {
            "image/png": "[encoded data removed]",
            "text/plain": [
              "<Figure size 432x288 with 1 Axes>"
            ]
          },
          "metadata": {
            "needs_background": "light"
          }
        }
      ]
    },
    {
      "cell_type": "code",
      "metadata": {
        "id": "GI9UWooWcHkZ"
      },
      "source": [
        "## Main dataset with 4 features\n",
        "# we'll use this dataset\n",
        "\n",
        "X3,y3 = dt.make_regression(n_samples=num_samples, n_features=4, n_informative=4,\n",
        "                        noise=.2, random_state=rand_state) "
      ],
      "execution_count": null,
      "outputs": []
    },
    {
      "cell_type": "code",
      "metadata": {
        "id": "EmGTdUDpnh3g"
      },
      "source": [
        "# intervals to scale features\n",
        "scaleX0 = (50, 60)\n",
        "scaleX1 = (4, 7)\n",
        "scaleX2 = (1, 2)\n",
        "scaleX3 = (450, 710)\n",
        "scaleX4 = (30, 5000)\n",
        "scaleX5 = (10, 800)\n",
        "scaleY = (150000, 2000000)\n",
        "\n",
        "# Scale features\n",
        "f0 = np.interp(X2[:,0], (X2[:,0].min(), X2[:,0].max()), scaleX0)\n",
        "f1 = np.interp(X2[:,1], (X2[:,1].min(), X2[:,1].max()), scaleX1)\n",
        "f2 = np.interp(X3[:,0], (X3[:,0].min(), X3[:,0].max()), scaleX2)\n",
        "f3 = np.interp(X3[:,1], (X3[:,1].min(), X3[:,1].max()), scaleX3)\n",
        "f4 = np.interp(X3[:,2], (X3[:,2].min(), X3[:,2].max()), scaleX4)\n",
        "f5 = np.interp(X3[:,3], (X3[:,3].min(), X3[:,3].max()), scaleX5)\n",
        "\n",
        "# scaled data\n",
        "X = np.stack((f0,f1,f2,f3,f4,f5), axis=1)\n",
        "y = np.interp(y3, (y3.min(), y3.max()), scaleY)"
      ],
      "execution_count": null,
      "outputs": []
    },
    {
      "cell_type": "markdown",
      "metadata": {
        "id": "2PMoPLlUJ1Ly"
      },
      "source": [
        "## Training & Test Data"
      ]
    },
    {
      "cell_type": "code",
      "metadata": {
        "id": "loLTHklwKGnV"
      },
      "source": [
        "# split data into training and test\n",
        "from sklearn.model_selection import train_test_split\n",
        "\n",
        "# training: 70% (0.7), test: 30% (0.3)\n",
        "X_train,X_test,y_train,y_test = train_test_split(X, y, test_size=0.3)"
      ],
      "execution_count": null,
      "outputs": []
    },
    {
      "cell_type": "code",
      "metadata": {
        "id": "pm7QIzgqX78p"
      },
      "source": [
        "def replace_with_nan(df,frac):\n",
        "  \"\"\"Replace some values randomly with nan\"\"\"\n",
        "  # requires numpy & pandas\n",
        "  rows = np.random.choice(range(df.shape[0]), int(df.shape[0]*frac), replace=False)\n",
        "  cols = np.random.choice(range(0,df.shape[1]-1), size=len(rows), replace=True)\n",
        "  to_repl = [np.nan for i, col in zip(rows, cols)] \n",
        "  # method used to cast a pandas object to a specified dtype\n",
        "  rnan = df.astype(object).to_numpy()\n",
        "  rnan[rows, cols] = to_repl\n",
        "  # returns data frame with nans\n",
        "  return DataFrame(rnan, index=df.index, columns=df.columns)"
      ],
      "execution_count": null,
      "outputs": []
    },
    {
      "cell_type": "markdown",
      "metadata": {
        "id": "ztBkSZluye87"
      },
      "source": [
        "### Train dataset"
      ]
    },
    {
      "cell_type": "code",
      "metadata": {
        "id": "X5r26k1riAWg"
      },
      "source": [
        "## create train data frame\n",
        "# use meaningful names\n",
        "dftrain = DataFrame(dict(feature_1=X_train[:,0], \n",
        "                    feature_2=X_train[:,1],\n",
        "                    feature_3=X_train[:,2], \n",
        "                    feature_4=X_train[:,3],\n",
        "                    feature_5=X_train[:,4],\n",
        "                    feature_6=X_train[:,5],\n",
        "                    cost=y_train))"
      ],
      "execution_count": null,
      "outputs": []
    },
    {
      "cell_type": "code",
      "metadata": {
        "colab": {
          "base_uri": "https://localhost:8080/"
        },
        "id": "pJftXqwfgLbe",
        "outputId": "7b02a710-25a7-4e40-db2f-af3845183a0e"
      },
      "source": [
        "# dftrain with nans\n",
        "dftrain = replace_with_nan(dftrain,.10)\n",
        "print('Number of nan in train dataset: ',dftrain.isnull().sum().sum())"
      ],
      "execution_count": null,
      "outputs": [
        {
          "output_type": "stream",
          "name": "stdout",
          "text": [
            "Number of nan in train dataset:  350\n"
          ]
        }
      ]
    },
    {
      "cell_type": "code",
      "metadata": {
        "colab": {
          "base_uri": "https://localhost:8080/",
          "height": 203
        },
        "id": "6XUFUPABMHfF",
        "outputId": "7eaa1a2b-0906-4d2f-a6b3-25b8dd8d4e7c"
      },
      "source": [
        "# show first data frame rows \n",
        "dftrain.head()"
      ],
      "execution_count": null,
      "outputs": [
        {
          "output_type": "execute_result",
          "data": {
            "text/html": [
              "<div>\n",
              "<style scoped>\n",
              "    .dataframe tbody tr th:only-of-type {\n",
              "        vertical-align: middle;\n",
              "    }\n",
              "\n",
              "    .dataframe tbody tr th {\n",
              "        vertical-align: top;\n",
              "    }\n",
              "\n",
              "    .dataframe thead th {\n",
              "        text-align: right;\n",
              "    }\n",
              "</style>\n",
              "<table border=\"1\" class=\"dataframe\">\n",
              "  <thead>\n",
              "    <tr style=\"text-align: right;\">\n",
              "      <th></th>\n",
              "      <th>feature_1</th>\n",
              "      <th>feature_2</th>\n",
              "      <th>feature_3</th>\n",
              "      <th>feature_4</th>\n",
              "      <th>feature_5</th>\n",
              "      <th>feature_6</th>\n",
              "      <th>cost</th>\n",
              "    </tr>\n",
              "  </thead>\n",
              "  <tbody>\n",
              "    <tr>\n",
              "      <th>0</th>\n",
              "      <td>57.9702</td>\n",
              "      <td>5.92788</td>\n",
              "      <td>1.70473</td>\n",
              "      <td>569.842</td>\n",
              "      <td>2820.29</td>\n",
              "      <td>470.359</td>\n",
              "      <td>1.39802e+06</td>\n",
              "    </tr>\n",
              "    <tr>\n",
              "      <th>1</th>\n",
              "      <td>54.7469</td>\n",
              "      <td>5.39902</td>\n",
              "      <td>1.56242</td>\n",
              "      <td>560.037</td>\n",
              "      <td>2652.9</td>\n",
              "      <td>455.194</td>\n",
              "      <td>1.16267e+06</td>\n",
              "    </tr>\n",
              "    <tr>\n",
              "      <th>2</th>\n",
              "      <td>54.167</td>\n",
              "      <td>5.63914</td>\n",
              "      <td>1.40598</td>\n",
              "      <td>575.615</td>\n",
              "      <td>2245.25</td>\n",
              "      <td>317.311</td>\n",
              "      <td>830431</td>\n",
              "    </tr>\n",
              "    <tr>\n",
              "      <th>3</th>\n",
              "      <td>56.3451</td>\n",
              "      <td>6.18042</td>\n",
              "      <td>1.51645</td>\n",
              "      <td>573.104</td>\n",
              "      <td>2004.3</td>\n",
              "      <td>396.84</td>\n",
              "      <td>968608</td>\n",
              "    </tr>\n",
              "    <tr>\n",
              "      <th>4</th>\n",
              "      <td>57.6908</td>\n",
              "      <td>6.26905</td>\n",
              "      <td>1.55473</td>\n",
              "      <td>580.165</td>\n",
              "      <td>1746.19</td>\n",
              "      <td>586.54</td>\n",
              "      <td>1.11626e+06</td>\n",
              "    </tr>\n",
              "  </tbody>\n",
              "</table>\n",
              "</div>"
            ],
            "text/plain": [
              "  feature_1 feature_2 feature_3 feature_4 feature_5 feature_6         cost\n",
              "0   57.9702   5.92788   1.70473   569.842   2820.29   470.359  1.39802e+06\n",
              "1   54.7469   5.39902   1.56242   560.037    2652.9   455.194  1.16267e+06\n",
              "2    54.167   5.63914   1.40598   575.615   2245.25   317.311       830431\n",
              "3   56.3451   6.18042   1.51645   573.104    2004.3    396.84       968608\n",
              "4   57.6908   6.26905   1.55473   580.165   1746.19    586.54  1.11626e+06"
            ]
          },
          "metadata": {},
          "execution_count": 13
        }
      ]
    },
    {
      "cell_type": "code",
      "metadata": {
        "id": "5rq_p-D4yLBe",
        "colab": {
          "base_uri": "https://localhost:8080/",
          "height": 172
        },
        "outputId": "991a23a8-7903-4ad2-efb7-24c8c4fd7627"
      },
      "source": [
        "# Generate descriptive statistics\n",
        "dftrain.describe()"
      ],
      "execution_count": null,
      "outputs": [
        {
          "output_type": "execute_result",
          "data": {
            "text/html": [
              "<div>\n",
              "<style scoped>\n",
              "    .dataframe tbody tr th:only-of-type {\n",
              "        vertical-align: middle;\n",
              "    }\n",
              "\n",
              "    .dataframe tbody tr th {\n",
              "        vertical-align: top;\n",
              "    }\n",
              "\n",
              "    .dataframe thead th {\n",
              "        text-align: right;\n",
              "    }\n",
              "</style>\n",
              "<table border=\"1\" class=\"dataframe\">\n",
              "  <thead>\n",
              "    <tr style=\"text-align: right;\">\n",
              "      <th></th>\n",
              "      <th>feature_1</th>\n",
              "      <th>feature_2</th>\n",
              "      <th>feature_3</th>\n",
              "      <th>feature_4</th>\n",
              "      <th>feature_5</th>\n",
              "      <th>feature_6</th>\n",
              "      <th>cost</th>\n",
              "    </tr>\n",
              "  </thead>\n",
              "  <tbody>\n",
              "    <tr>\n",
              "      <th>count</th>\n",
              "      <td>3447.000000</td>\n",
              "      <td>3443.000000</td>\n",
              "      <td>3447.000000</td>\n",
              "      <td>3440.000000</td>\n",
              "      <td>3431.000000</td>\n",
              "      <td>3442.000</td>\n",
              "      <td>3500.000000</td>\n",
              "    </tr>\n",
              "    <tr>\n",
              "      <th>unique</th>\n",
              "      <td>3447.000000</td>\n",
              "      <td>3443.000000</td>\n",
              "      <td>3447.000000</td>\n",
              "      <td>3440.000000</td>\n",
              "      <td>3431.000000</td>\n",
              "      <td>3442.000</td>\n",
              "      <td>3500.000000</td>\n",
              "    </tr>\n",
              "    <tr>\n",
              "      <th>top</th>\n",
              "      <td>58.447401</td>\n",
              "      <td>5.618969</td>\n",
              "      <td>1.283268</td>\n",
              "      <td>572.883534</td>\n",
              "      <td>1944.719008</td>\n",
              "      <td>473.734</td>\n",
              "      <td>950267.147861</td>\n",
              "    </tr>\n",
              "    <tr>\n",
              "      <th>freq</th>\n",
              "      <td>1.000000</td>\n",
              "      <td>1.000000</td>\n",
              "      <td>1.000000</td>\n",
              "      <td>1.000000</td>\n",
              "      <td>1.000000</td>\n",
              "      <td>1.000</td>\n",
              "      <td>1.000000</td>\n",
              "    </tr>\n",
              "  </tbody>\n",
              "</table>\n",
              "</div>"
            ],
            "text/plain": [
              "          feature_1    feature_2  ...  feature_6           cost\n",
              "count   3447.000000  3443.000000  ...   3442.000    3500.000000\n",
              "unique  3447.000000  3443.000000  ...   3442.000    3500.000000\n",
              "top       58.447401     5.618969  ...    473.734  950267.147861\n",
              "freq       1.000000     1.000000  ...      1.000       1.000000\n",
              "\n",
              "[4 rows x 7 columns]"
            ]
          },
          "metadata": {},
          "execution_count": 14
        }
      ]
    },
    {
      "cell_type": "markdown",
      "metadata": {
        "id": "Iqg9_uxFyZli"
      },
      "source": [
        "### Test dataset"
      ]
    },
    {
      "cell_type": "code",
      "metadata": {
        "id": "JDq30TbOi2bL"
      },
      "source": [
        "## create test data frame\n",
        "# no cost included\n",
        "\n",
        "dftest = DataFrame(dict(feature_1=X_test[:,0], \n",
        "                    feature_2=X_test[:,1],\n",
        "                    feature_3=X_test[:,2], \n",
        "                    feature_4=X_test[:,3],\n",
        "                    feature_5=X_test[:,4],\n",
        "                    feature_6=X_test[:,5]))"
      ],
      "execution_count": null,
      "outputs": []
    },
    {
      "cell_type": "code",
      "metadata": {
        "id": "5eEv1e3ciTpQ",
        "colab": {
          "base_uri": "https://localhost:8080/"
        },
        "outputId": "6fcc3f59-40c8-47ca-ee9e-e4debaa61f29"
      },
      "source": [
        "# dftrain with nans\n",
        "dftest = replace_with_nan(dftest,.10)\n",
        "print('Number of nan in test dataset: ',dftest.isnull().sum().sum())"
      ],
      "execution_count": null,
      "outputs": [
        {
          "output_type": "stream",
          "name": "stdout",
          "text": [
            "Number of nan in test dataset:  150\n"
          ]
        }
      ]
    },
    {
      "cell_type": "code",
      "metadata": {
        "colab": {
          "base_uri": "https://localhost:8080/",
          "height": 203
        },
        "id": "bw2_yypxMfsi",
        "outputId": "2034000d-ae2d-43c1-9537-1ef9fd684fdd"
      },
      "source": [
        "# show first data frame rows \n",
        "dftest.head()"
      ],
      "execution_count": null,
      "outputs": [
        {
          "output_type": "execute_result",
          "data": {
            "text/html": [
              "<div>\n",
              "<style scoped>\n",
              "    .dataframe tbody tr th:only-of-type {\n",
              "        vertical-align: middle;\n",
              "    }\n",
              "\n",
              "    .dataframe tbody tr th {\n",
              "        vertical-align: top;\n",
              "    }\n",
              "\n",
              "    .dataframe thead th {\n",
              "        text-align: right;\n",
              "    }\n",
              "</style>\n",
              "<table border=\"1\" class=\"dataframe\">\n",
              "  <thead>\n",
              "    <tr style=\"text-align: right;\">\n",
              "      <th></th>\n",
              "      <th>feature_1</th>\n",
              "      <th>feature_2</th>\n",
              "      <th>feature_3</th>\n",
              "      <th>feature_4</th>\n",
              "      <th>feature_5</th>\n",
              "      <th>feature_6</th>\n",
              "    </tr>\n",
              "  </thead>\n",
              "  <tbody>\n",
              "    <tr>\n",
              "      <th>0</th>\n",
              "      <td>54.0076</td>\n",
              "      <td>NaN</td>\n",
              "      <td>1.34043</td>\n",
              "      <td>567.669</td>\n",
              "      <td>1867.9</td>\n",
              "      <td>374.488</td>\n",
              "    </tr>\n",
              "    <tr>\n",
              "      <th>1</th>\n",
              "      <td>54.0297</td>\n",
              "      <td>5.69575</td>\n",
              "      <td>1.37571</td>\n",
              "      <td>527.476</td>\n",
              "      <td>2580.27</td>\n",
              "      <td>196.248</td>\n",
              "    </tr>\n",
              "    <tr>\n",
              "      <th>2</th>\n",
              "      <td>53.8001</td>\n",
              "      <td>5.65651</td>\n",
              "      <td>1.4966</td>\n",
              "      <td>583.385</td>\n",
              "      <td>3866.74</td>\n",
              "      <td>463.713</td>\n",
              "    </tr>\n",
              "    <tr>\n",
              "      <th>3</th>\n",
              "      <td>55.7522</td>\n",
              "      <td>4.7741</td>\n",
              "      <td>1.50587</td>\n",
              "      <td>577.873</td>\n",
              "      <td>1454.55</td>\n",
              "      <td>357.294</td>\n",
              "    </tr>\n",
              "    <tr>\n",
              "      <th>4</th>\n",
              "      <td>54.338</td>\n",
              "      <td>5.51128</td>\n",
              "      <td>1.43005</td>\n",
              "      <td>571.739</td>\n",
              "      <td>2160.39</td>\n",
              "      <td>378.319</td>\n",
              "    </tr>\n",
              "  </tbody>\n",
              "</table>\n",
              "</div>"
            ],
            "text/plain": [
              "  feature_1 feature_2 feature_3 feature_4 feature_5 feature_6\n",
              "0   54.0076       NaN   1.34043   567.669    1867.9   374.488\n",
              "1   54.0297   5.69575   1.37571   527.476   2580.27   196.248\n",
              "2   53.8001   5.65651    1.4966   583.385   3866.74   463.713\n",
              "3   55.7522    4.7741   1.50587   577.873   1454.55   357.294\n",
              "4    54.338   5.51128   1.43005   571.739   2160.39   378.319"
            ]
          },
          "metadata": {},
          "execution_count": 17
        }
      ]
    },
    {
      "cell_type": "code",
      "metadata": {
        "id": "FXo0x2u7T7-1",
        "colab": {
          "base_uri": "https://localhost:8080/",
          "height": 172
        },
        "outputId": "684faf6f-8b09-4b1a-d2d2-2ab521198290"
      },
      "source": [
        "# Generate descriptive statistics\n",
        "dftest.describe()"
      ],
      "execution_count": null,
      "outputs": [
        {
          "output_type": "execute_result",
          "data": {
            "text/html": [
              "<div>\n",
              "<style scoped>\n",
              "    .dataframe tbody tr th:only-of-type {\n",
              "        vertical-align: middle;\n",
              "    }\n",
              "\n",
              "    .dataframe tbody tr th {\n",
              "        vertical-align: top;\n",
              "    }\n",
              "\n",
              "    .dataframe thead th {\n",
              "        text-align: right;\n",
              "    }\n",
              "</style>\n",
              "<table border=\"1\" class=\"dataframe\">\n",
              "  <thead>\n",
              "    <tr style=\"text-align: right;\">\n",
              "      <th></th>\n",
              "      <th>feature_1</th>\n",
              "      <th>feature_2</th>\n",
              "      <th>feature_3</th>\n",
              "      <th>feature_4</th>\n",
              "      <th>feature_5</th>\n",
              "      <th>feature_6</th>\n",
              "    </tr>\n",
              "  </thead>\n",
              "  <tbody>\n",
              "    <tr>\n",
              "      <th>count</th>\n",
              "      <td>1466.000000</td>\n",
              "      <td>1476.000000</td>\n",
              "      <td>1473.000000</td>\n",
              "      <td>1464.00000</td>\n",
              "      <td>1471.000000</td>\n",
              "      <td>1500.000000</td>\n",
              "    </tr>\n",
              "    <tr>\n",
              "      <th>unique</th>\n",
              "      <td>1466.000000</td>\n",
              "      <td>1476.000000</td>\n",
              "      <td>1473.000000</td>\n",
              "      <td>1464.00000</td>\n",
              "      <td>1471.000000</td>\n",
              "      <td>1500.000000</td>\n",
              "    </tr>\n",
              "    <tr>\n",
              "      <th>top</th>\n",
              "      <td>57.495016</td>\n",
              "      <td>6.304781</td>\n",
              "      <td>1.812231</td>\n",
              "      <td>511.28056</td>\n",
              "      <td>2047.266696</td>\n",
              "      <td>511.797348</td>\n",
              "    </tr>\n",
              "    <tr>\n",
              "      <th>freq</th>\n",
              "      <td>1.000000</td>\n",
              "      <td>1.000000</td>\n",
              "      <td>1.000000</td>\n",
              "      <td>1.00000</td>\n",
              "      <td>1.000000</td>\n",
              "      <td>1.000000</td>\n",
              "    </tr>\n",
              "  </tbody>\n",
              "</table>\n",
              "</div>"
            ],
            "text/plain": [
              "          feature_1    feature_2  ...    feature_5    feature_6\n",
              "count   1466.000000  1476.000000  ...  1471.000000  1500.000000\n",
              "unique  1466.000000  1476.000000  ...  1471.000000  1500.000000\n",
              "top       57.495016     6.304781  ...  2047.266696   511.797348\n",
              "freq       1.000000     1.000000  ...     1.000000     1.000000\n",
              "\n",
              "[4 rows x 6 columns]"
            ]
          },
          "metadata": {},
          "execution_count": 18
        }
      ]
    },
    {
      "cell_type": "markdown",
      "metadata": {
        "id": "UjMH1CSEUA1A"
      },
      "source": [
        "### Expected Cost dataset"
      ]
    },
    {
      "cell_type": "code",
      "metadata": {
        "id": "sGAwLoZuQxK7",
        "colab": {
          "base_uri": "https://localhost:8080/",
          "height": 203
        },
        "outputId": "7d1053bb-9b95-4800-b001-fefa800edbf4"
      },
      "source": [
        "## create expected cost data frame\n",
        "# the cost is in another file\n",
        "dfcost = DataFrame(dict(cost=y_test))\n",
        "# show first data frame rows \n",
        "dfcost.head()"
      ],
      "execution_count": null,
      "outputs": [
        {
          "output_type": "execute_result",
          "data": {
            "text/html": [
              "<div>\n",
              "<style scoped>\n",
              "    .dataframe tbody tr th:only-of-type {\n",
              "        vertical-align: middle;\n",
              "    }\n",
              "\n",
              "    .dataframe tbody tr th {\n",
              "        vertical-align: top;\n",
              "    }\n",
              "\n",
              "    .dataframe thead th {\n",
              "        text-align: right;\n",
              "    }\n",
              "</style>\n",
              "<table border=\"1\" class=\"dataframe\">\n",
              "  <thead>\n",
              "    <tr style=\"text-align: right;\">\n",
              "      <th></th>\n",
              "      <th>cost</th>\n",
              "    </tr>\n",
              "  </thead>\n",
              "  <tbody>\n",
              "    <tr>\n",
              "      <th>0</th>\n",
              "      <td>7.020889e+05</td>\n",
              "    </tr>\n",
              "    <tr>\n",
              "      <th>1</th>\n",
              "      <td>6.653170e+05</td>\n",
              "    </tr>\n",
              "    <tr>\n",
              "      <th>2</th>\n",
              "      <td>1.377446e+06</td>\n",
              "    </tr>\n",
              "    <tr>\n",
              "      <th>3</th>\n",
              "      <td>8.307426e+05</td>\n",
              "    </tr>\n",
              "    <tr>\n",
              "      <th>4</th>\n",
              "      <td>8.782843e+05</td>\n",
              "    </tr>\n",
              "  </tbody>\n",
              "</table>\n",
              "</div>"
            ],
            "text/plain": [
              "           cost\n",
              "0  7.020889e+05\n",
              "1  6.653170e+05\n",
              "2  1.377446e+06\n",
              "3  8.307426e+05\n",
              "4  8.782843e+05"
            ]
          },
          "metadata": {},
          "execution_count": 19
        }
      ]
    },
    {
      "cell_type": "code",
      "metadata": {
        "id": "7p63sCZeUNx3",
        "colab": {
          "base_uri": "https://localhost:8080/",
          "height": 295
        },
        "outputId": "ed4929ef-506c-49d6-aed2-c63fafd83987"
      },
      "source": [
        "# Generate descriptive statistics\n",
        "dfcost.describe()"
      ],
      "execution_count": null,
      "outputs": [
        {
          "output_type": "execute_result",
          "data": {
            "text/html": [
              "<div>\n",
              "<style scoped>\n",
              "    .dataframe tbody tr th:only-of-type {\n",
              "        vertical-align: middle;\n",
              "    }\n",
              "\n",
              "    .dataframe tbody tr th {\n",
              "        vertical-align: top;\n",
              "    }\n",
              "\n",
              "    .dataframe thead th {\n",
              "        text-align: right;\n",
              "    }\n",
              "</style>\n",
              "<table border=\"1\" class=\"dataframe\">\n",
              "  <thead>\n",
              "    <tr style=\"text-align: right;\">\n",
              "      <th></th>\n",
              "      <th>cost</th>\n",
              "    </tr>\n",
              "  </thead>\n",
              "  <tbody>\n",
              "    <tr>\n",
              "      <th>count</th>\n",
              "      <td>1.500000e+03</td>\n",
              "    </tr>\n",
              "    <tr>\n",
              "      <th>mean</th>\n",
              "      <td>1.056332e+06</td>\n",
              "    </tr>\n",
              "    <tr>\n",
              "      <th>std</th>\n",
              "      <td>2.316754e+05</td>\n",
              "    </tr>\n",
              "    <tr>\n",
              "      <th>min</th>\n",
              "      <td>3.152746e+05</td>\n",
              "    </tr>\n",
              "    <tr>\n",
              "      <th>25%</th>\n",
              "      <td>9.009331e+05</td>\n",
              "    </tr>\n",
              "    <tr>\n",
              "      <th>50%</th>\n",
              "      <td>1.058516e+06</td>\n",
              "    </tr>\n",
              "    <tr>\n",
              "      <th>75%</th>\n",
              "      <td>1.210801e+06</td>\n",
              "    </tr>\n",
              "    <tr>\n",
              "      <th>max</th>\n",
              "      <td>1.762610e+06</td>\n",
              "    </tr>\n",
              "  </tbody>\n",
              "</table>\n",
              "</div>"
            ],
            "text/plain": [
              "               cost\n",
              "count  1.500000e+03\n",
              "mean   1.056332e+06\n",
              "std    2.316754e+05\n",
              "min    3.152746e+05\n",
              "25%    9.009331e+05\n",
              "50%    1.058516e+06\n",
              "75%    1.210801e+06\n",
              "max    1.762610e+06"
            ]
          },
          "metadata": {},
          "execution_count": 20
        }
      ]
    },
    {
      "cell_type": "markdown",
      "metadata": {
        "id": "KB1Makyhe2Jd"
      },
      "source": [
        "## Save dataset"
      ]
    },
    {
      "cell_type": "markdown",
      "metadata": {
        "id": "zal-nTpd8jrX"
      },
      "source": [
        "You can save your datataset in any location suitable for you, one choice using Colab is to save it in your Google Drive this way you will have it handy for your experiments."
      ]
    },
    {
      "cell_type": "code",
      "metadata": {
        "id": "DohoianJeNYk",
        "colab": {
          "base_uri": "https://localhost:8080/"
        },
        "outputId": "bc6d43dd-ecab-4796-efd8-572f6d209ea1"
      },
      "source": [
        "# Mount Google drive\n",
        "from google.colab import drive\n",
        "drive.mount('/content/drive')"
      ],
      "execution_count": null,
      "outputs": [
        {
          "output_type": "stream",
          "name": "stdout",
          "text": [
            "Mounted at /content/drive\n"
          ]
        }
      ]
    },
    {
      "cell_type": "code",
      "metadata": {
        "id": "VTnPQCuNfLeC"
      },
      "source": [
        "# path to your Google Drive\n",
        "pathDrive = '/content/drive/My Drive/Colab Notebooks/'"
      ],
      "execution_count": null,
      "outputs": []
    },
    {
      "cell_type": "code",
      "metadata": {
        "id": "e3G84XFm1Aer",
        "colab": {
          "base_uri": "https://localhost:8080/"
        },
        "outputId": "315954f0-1358-487c-add8-d98ea05a8c22"
      },
      "source": [
        "#  create a directory (if not exist)\n",
        "import os\n",
        "\n",
        "folderName = 'SyntData/'\n",
        "syntPath = pathDrive+folderName\n",
        "\n",
        "if os.path.exists(syntPath):\n",
        "  print(folderName,' directory already exists')\n",
        "else:\n",
        "  # create a directory\n",
        "  os.mkdir(syntPath)\n",
        "  print('Now you have a new directory: ',folderName)"
      ],
      "execution_count": null,
      "outputs": [
        {
          "output_type": "stream",
          "name": "stdout",
          "text": [
            "Now you have a new directory:  SyntData/\n"
          ]
        }
      ]
    },
    {
      "cell_type": "code",
      "metadata": {
        "id": "K-UwPxAkdFfe"
      },
      "source": [
        "# manage versions if you like to save more datasets\n",
        "# syntTrain1.csv, syntTrain2.csv, etc\n",
        "\n",
        "## save train dataset into your Drive\n",
        "filename1 = 'syntTrain.csv'\n",
        "dftrain.to_csv(syntPath+filename1, encoding='utf-8', index=False)\n",
        "\n",
        "# save test dataset into your Drive\n",
        "filename2 = 'syntTest.csv'\n",
        "dftest.to_csv(syntPath+filename2, encoding='utf-8', index=False)\n",
        "\n",
        "# save cost dataset into your Drive\n",
        "filename3 = 'syntCost.csv'\n",
        "dfcost.to_csv(syntPath+filename3, encoding='utf-8', index=False)"
      ],
      "execution_count": null,
      "outputs": []
    },
    {
      "cell_type": "markdown",
      "metadata": {
        "id": "KYtZEsrvfFck"
      },
      "source": [
        "## Load your dataset"
      ]
    },
    {
      "cell_type": "code",
      "metadata": {
        "id": "4rosmH4665uJ"
      },
      "source": [
        "# training dataset: \n",
        "training_file = syntPath+filename1\n",
        "# test dataset: \n",
        "testing_file = syntPath+filename2\n",
        "# cost dataset: \n",
        "cost_file = syntPath+filename3"
      ],
      "execution_count": null,
      "outputs": []
    },
    {
      "cell_type": "code",
      "metadata": {
        "id": "Q-MyXFHLMhbB",
        "colab": {
          "base_uri": "https://localhost:8080/",
          "height": 203
        },
        "outputId": "fdf9c381-dc70-4423-ce33-a3efab1a2cd6"
      },
      "source": [
        "# load train dataset\n",
        "df_train = pd.read_csv(training_file)\n",
        "df_train.head()"
      ],
      "execution_count": null,
      "outputs": [
        {
          "output_type": "execute_result",
          "data": {
            "text/html": [
              "<div>\n",
              "<style scoped>\n",
              "    .dataframe tbody tr th:only-of-type {\n",
              "        vertical-align: middle;\n",
              "    }\n",
              "\n",
              "    .dataframe tbody tr th {\n",
              "        vertical-align: top;\n",
              "    }\n",
              "\n",
              "    .dataframe thead th {\n",
              "        text-align: right;\n",
              "    }\n",
              "</style>\n",
              "<table border=\"1\" class=\"dataframe\">\n",
              "  <thead>\n",
              "    <tr style=\"text-align: right;\">\n",
              "      <th></th>\n",
              "      <th>feature_1</th>\n",
              "      <th>feature_2</th>\n",
              "      <th>feature_3</th>\n",
              "      <th>feature_4</th>\n",
              "      <th>feature_5</th>\n",
              "      <th>feature_6</th>\n",
              "      <th>cost</th>\n",
              "    </tr>\n",
              "  </thead>\n",
              "  <tbody>\n",
              "    <tr>\n",
              "      <th>0</th>\n",
              "      <td>57.970176</td>\n",
              "      <td>5.927883</td>\n",
              "      <td>1.704727</td>\n",
              "      <td>569.841941</td>\n",
              "      <td>2820.286952</td>\n",
              "      <td>470.358969</td>\n",
              "      <td>1.398018e+06</td>\n",
              "    </tr>\n",
              "    <tr>\n",
              "      <th>1</th>\n",
              "      <td>54.746892</td>\n",
              "      <td>5.399025</td>\n",
              "      <td>1.562417</td>\n",
              "      <td>560.036776</td>\n",
              "      <td>2652.903357</td>\n",
              "      <td>455.194045</td>\n",
              "      <td>1.162668e+06</td>\n",
              "    </tr>\n",
              "    <tr>\n",
              "      <th>2</th>\n",
              "      <td>54.166964</td>\n",
              "      <td>5.639142</td>\n",
              "      <td>1.405982</td>\n",
              "      <td>575.614662</td>\n",
              "      <td>2245.250393</td>\n",
              "      <td>317.310953</td>\n",
              "      <td>8.304312e+05</td>\n",
              "    </tr>\n",
              "    <tr>\n",
              "      <th>3</th>\n",
              "      <td>56.345123</td>\n",
              "      <td>6.180417</td>\n",
              "      <td>1.516453</td>\n",
              "      <td>573.104306</td>\n",
              "      <td>2004.299743</td>\n",
              "      <td>396.840034</td>\n",
              "      <td>9.686079e+05</td>\n",
              "    </tr>\n",
              "    <tr>\n",
              "      <th>4</th>\n",
              "      <td>57.690789</td>\n",
              "      <td>6.269050</td>\n",
              "      <td>1.554727</td>\n",
              "      <td>580.165405</td>\n",
              "      <td>1746.188572</td>\n",
              "      <td>586.540036</td>\n",
              "      <td>1.116258e+06</td>\n",
              "    </tr>\n",
              "  </tbody>\n",
              "</table>\n",
              "</div>"
            ],
            "text/plain": [
              "   feature_1  feature_2  feature_3  ...    feature_5   feature_6          cost\n",
              "0  57.970176   5.927883   1.704727  ...  2820.286952  470.358969  1.398018e+06\n",
              "1  54.746892   5.399025   1.562417  ...  2652.903357  455.194045  1.162668e+06\n",
              "2  54.166964   5.639142   1.405982  ...  2245.250393  317.310953  8.304312e+05\n",
              "3  56.345123   6.180417   1.516453  ...  2004.299743  396.840034  9.686079e+05\n",
              "4  57.690789   6.269050   1.554727  ...  1746.188572  586.540036  1.116258e+06\n",
              "\n",
              "[5 rows x 7 columns]"
            ]
          },
          "metadata": {},
          "execution_count": 27
        }
      ]
    },
    {
      "cell_type": "code",
      "metadata": {
        "id": "kFv1uUsmM78o",
        "colab": {
          "base_uri": "https://localhost:8080/",
          "height": 203
        },
        "outputId": "2ff40c0e-37c6-4562-fbaf-ee7d0ab23c5d"
      },
      "source": [
        "# load test dataset\n",
        "df_test = pd.read_csv(testing_file)\n",
        "df_test.head()"
      ],
      "execution_count": null,
      "outputs": [
        {
          "output_type": "execute_result",
          "data": {
            "text/html": [
              "<div>\n",
              "<style scoped>\n",
              "    .dataframe tbody tr th:only-of-type {\n",
              "        vertical-align: middle;\n",
              "    }\n",
              "\n",
              "    .dataframe tbody tr th {\n",
              "        vertical-align: top;\n",
              "    }\n",
              "\n",
              "    .dataframe thead th {\n",
              "        text-align: right;\n",
              "    }\n",
              "</style>\n",
              "<table border=\"1\" class=\"dataframe\">\n",
              "  <thead>\n",
              "    <tr style=\"text-align: right;\">\n",
              "      <th></th>\n",
              "      <th>feature_1</th>\n",
              "      <th>feature_2</th>\n",
              "      <th>feature_3</th>\n",
              "      <th>feature_4</th>\n",
              "      <th>feature_5</th>\n",
              "      <th>feature_6</th>\n",
              "    </tr>\n",
              "  </thead>\n",
              "  <tbody>\n",
              "    <tr>\n",
              "      <th>0</th>\n",
              "      <td>54.007604</td>\n",
              "      <td>NaN</td>\n",
              "      <td>1.340428</td>\n",
              "      <td>567.668713</td>\n",
              "      <td>1867.899708</td>\n",
              "      <td>374.488483</td>\n",
              "    </tr>\n",
              "    <tr>\n",
              "      <th>1</th>\n",
              "      <td>54.029684</td>\n",
              "      <td>5.695750</td>\n",
              "      <td>1.375711</td>\n",
              "      <td>527.476408</td>\n",
              "      <td>2580.274672</td>\n",
              "      <td>196.247878</td>\n",
              "    </tr>\n",
              "    <tr>\n",
              "      <th>2</th>\n",
              "      <td>53.800145</td>\n",
              "      <td>5.656505</td>\n",
              "      <td>1.496603</td>\n",
              "      <td>583.384554</td>\n",
              "      <td>3866.740678</td>\n",
              "      <td>463.713054</td>\n",
              "    </tr>\n",
              "    <tr>\n",
              "      <th>3</th>\n",
              "      <td>55.752247</td>\n",
              "      <td>4.774099</td>\n",
              "      <td>1.505871</td>\n",
              "      <td>577.873438</td>\n",
              "      <td>1454.547200</td>\n",
              "      <td>357.294127</td>\n",
              "    </tr>\n",
              "    <tr>\n",
              "      <th>4</th>\n",
              "      <td>54.338033</td>\n",
              "      <td>5.511278</td>\n",
              "      <td>1.430051</td>\n",
              "      <td>571.738599</td>\n",
              "      <td>2160.391082</td>\n",
              "      <td>378.319136</td>\n",
              "    </tr>\n",
              "  </tbody>\n",
              "</table>\n",
              "</div>"
            ],
            "text/plain": [
              "   feature_1  feature_2  feature_3   feature_4    feature_5   feature_6\n",
              "0  54.007604        NaN   1.340428  567.668713  1867.899708  374.488483\n",
              "1  54.029684   5.695750   1.375711  527.476408  2580.274672  196.247878\n",
              "2  53.800145   5.656505   1.496603  583.384554  3866.740678  463.713054\n",
              "3  55.752247   4.774099   1.505871  577.873438  1454.547200  357.294127\n",
              "4  54.338033   5.511278   1.430051  571.738599  2160.391082  378.319136"
            ]
          },
          "metadata": {},
          "execution_count": 28
        }
      ]
    },
    {
      "cell_type": "code",
      "metadata": {
        "id": "6D-yK0u8TcSM",
        "colab": {
          "base_uri": "https://localhost:8080/",
          "height": 203
        },
        "outputId": "3ab4e390-bd38-4172-de94-ccbe54f347d0"
      },
      "source": [
        "# load cost dataset\n",
        "df_cost = pd.read_csv(cost_file)\n",
        "df_cost.head()"
      ],
      "execution_count": null,
      "outputs": [
        {
          "output_type": "execute_result",
          "data": {
            "text/html": [
              "<div>\n",
              "<style scoped>\n",
              "    .dataframe tbody tr th:only-of-type {\n",
              "        vertical-align: middle;\n",
              "    }\n",
              "\n",
              "    .dataframe tbody tr th {\n",
              "        vertical-align: top;\n",
              "    }\n",
              "\n",
              "    .dataframe thead th {\n",
              "        text-align: right;\n",
              "    }\n",
              "</style>\n",
              "<table border=\"1\" class=\"dataframe\">\n",
              "  <thead>\n",
              "    <tr style=\"text-align: right;\">\n",
              "      <th></th>\n",
              "      <th>cost</th>\n",
              "    </tr>\n",
              "  </thead>\n",
              "  <tbody>\n",
              "    <tr>\n",
              "      <th>0</th>\n",
              "      <td>7.020889e+05</td>\n",
              "    </tr>\n",
              "    <tr>\n",
              "      <th>1</th>\n",
              "      <td>6.653170e+05</td>\n",
              "    </tr>\n",
              "    <tr>\n",
              "      <th>2</th>\n",
              "      <td>1.377446e+06</td>\n",
              "    </tr>\n",
              "    <tr>\n",
              "      <th>3</th>\n",
              "      <td>8.307426e+05</td>\n",
              "    </tr>\n",
              "    <tr>\n",
              "      <th>4</th>\n",
              "      <td>8.782843e+05</td>\n",
              "    </tr>\n",
              "  </tbody>\n",
              "</table>\n",
              "</div>"
            ],
            "text/plain": [
              "           cost\n",
              "0  7.020889e+05\n",
              "1  6.653170e+05\n",
              "2  1.377446e+06\n",
              "3  8.307426e+05\n",
              "4  8.782843e+05"
            ]
          },
          "metadata": {},
          "execution_count": 29
        }
      ]
    },
    {
      "cell_type": "markdown",
      "metadata": {
        "id": "bJFJQxAS9HZK"
      },
      "source": [
        "# PIECEWISE REGRESSION"
      ]
    },
    {
      "cell_type": "markdown",
      "metadata": {
        "id": "uQ_1QsLToIDi"
      },
      "source": [
        "## Full Model"
      ]
    },
    {
      "cell_type": "code",
      "metadata": {
        "id": "Yv5j1KzzMUnm"
      },
      "source": [
        "# select some features columns just for the baseline model\n",
        "# assume not all of the features are informative or useful\n",
        "# in this exercise you could try all of them\n",
        "\n",
        "featrain = ['feature_1','feature_2','feature_3','cost']\n",
        "# dropna: remove missing values\n",
        "df_subset_train = dftrain[featrain].dropna(axis=0)\n",
        "\n",
        "featest = ['feature_1','feature_2','feature_3']\n",
        "df_subset_test  =  dftest[featest].dropna(axis=0)\n",
        "\n",
        "# cost\n",
        "df_cost = df_cost[df_cost.index.isin(df_subset_test.index)]"
      ],
      "execution_count": null,
      "outputs": []
    },
    {
      "cell_type": "code",
      "metadata": {
        "colab": {
          "base_uri": "https://localhost:8080/"
        },
        "id": "OcHW11t-Nu1T",
        "outputId": "25c0d850-a0a7-4045-e543-5b8c7ea8e053"
      },
      "source": [
        "print('Number of nan in df_subset_train dataset: ',df_subset_train.isnull().sum().sum())\n",
        "print('Number of nan in df_subset_test dataset: ',df_subset_test.isnull().sum().sum())"
      ],
      "execution_count": null,
      "outputs": [
        {
          "output_type": "stream",
          "name": "stdout",
          "text": [
            "Number of nan in df_subset_train dataset:  0\n",
            "Number of nan in df_subset_test dataset:  0\n"
          ]
        }
      ]
    },
    {
      "cell_type": "code",
      "metadata": {
        "id": "7ulbUQe1xb58"
      },
      "source": [
        "# train set, input columns\n",
        "Xs_train = df_subset_train.iloc[:,0:-1].values \n",
        "# train set, output column, cost\n",
        "ys_train = df_subset_train.iloc[:,-1].values.reshape(-1,1)   \n",
        "\n",
        "# test set, input columns\n",
        "Xs_test = df_subset_test.iloc[:,0:].values \n",
        "# test set, output column, cost\n",
        "y_test = df_cost.cost.values"
      ],
      "execution_count": null,
      "outputs": []
    },
    {
      "cell_type": "code",
      "metadata": {
        "id": "kx7sjMi0TZ-G"
      },
      "source": [
        "# StandardScaler() will normalize the features i.e. each column of X, \n",
        "# so, each column/feature/variable will have μ = 0 and σ = 1\n",
        "sc = StandardScaler()\n",
        "\n",
        "Xss_train = np.hstack([Xs_train,Xs_train[:,[2]]**2])\n",
        "xscaler = sc.fit(Xss_train)\n",
        "Xn_train = xscaler.transform(Xss_train)\n",
        "\n",
        "Xss_test = np.hstack([Xs_test,Xs_test[:,[2]]**2])\n",
        "Xn_test = xscaler.transform(Xss_test)\n",
        "\n",
        "ylog = np.log(ys_train.astype('float'))\n",
        "yscaler = StandardScaler().fit(ylog)\n",
        "yn_train = yscaler.transform(ylog)"
      ],
      "execution_count": null,
      "outputs": []
    },
    {
      "cell_type": "code",
      "metadata": {
        "id": "PZK2kfygoIDi"
      },
      "source": [
        "# model\n",
        "with pm.Model() as model:\n",
        "    #prior over the parameters of linear regression\n",
        "    alpha = pm.Normal('alpha', mu=0, sigma=30)\n",
        "    #we have one beta for each column of Xn\n",
        "    beta = pm.Normal('beta', mu=0, sigma=30, shape=Xn_train.shape[1])\n",
        "    #prior over the variance of the noise\n",
        "    sigma = pm.HalfCauchy('sigma_n', 5)\n",
        "    #linear regression model in matrix form\n",
        "    mu = alpha + pm.math.dot(beta, Xn_train.T)\n",
        "    #likelihood, be sure that observed is a 1d vector\n",
        "    like = pm.Normal('like', mu=mu, sigma=sigma, observed=yn_train[:,0])\n",
        "    "
      ],
      "execution_count": null,
      "outputs": []
    },
    {
      "cell_type": "code",
      "metadata": {
        "id": "5AZgLW40oIDi",
        "colab": {
          "base_uri": "https://localhost:8080/",
          "height": 355
        },
        "outputId": "7078fb53-c00a-41c7-fd52-d8a52b3da14f"
      },
      "source": [
        "#number of iterations of the algorithms\n",
        "iter = 50000 \n",
        "\n",
        "# run the model\n",
        "with model:\n",
        "    approximation = pm.fit(iter,method='advi')\n",
        "    \n",
        "# check the convergence\n",
        "plt.plot(approximation.hist);"
      ],
      "execution_count": null,
      "outputs": [
        {
          "output_type": "stream",
          "name": "stderr",
          "text": [
            "WARNING (theano.tensor.blas): We did not find a dynamic library in the library_dir of the library we use for blas. If you use ATLAS, make sure to compile it with dynamics library.\n",
            "WARNING (theano.tensor.blas): We did not find a dynamic library in the library_dir of the library we use for blas. If you use ATLAS, make sure to compile it with dynamics library.\n"
          ]
        },
        {
          "output_type": "display_data",
          "data": {
            "text/html": [
              "\n",
              "    <div>\n",
              "        <style>\n",
              "            /* Turns off some styling */\n",
              "            progress {\n",
              "                /* gets rid of default border in Firefox and Opera. */\n",
              "                border: none;\n",
              "                /* Needs to be in here for Safari polyfill so background images work as expected. */\n",
              "                background-size: auto;\n",
              "            }\n",
              "            .progress-bar-interrupted, .progress-bar-interrupted::-webkit-progress-bar {\n",
              "                background: #F44336;\n",
              "            }\n",
              "        </style>\n",
              "      <progress value='50000' class='' max='50000' style='width:300px; height:20px; vertical-align: middle;'></progress>\n",
              "      100.00% [50000/50000 00:11<00:00 Average Loss = 3,888]\n",
              "    </div>\n",
              "    "
            ],
            "text/plain": [
              "<IPython.core.display.HTML object>"
            ]
          },
          "metadata": {}
        },
        {
          "output_type": "stream",
          "name": "stderr",
          "text": [
            "Finished [100%]: Average Loss = 3,888\n"
          ]
        },
        {
          "output_type": "display_data",
          "data": {
            "image/png": "[encoded data removed]",
            "text/plain": [
              "<Figure size 432x288 with 1 Axes>"
            ]
          },
          "metadata": {
            "needs_background": "light"
          }
        }
      ]
    },
    {
      "cell_type": "code",
      "metadata": {
        "id": "_7K8CnQDoIDj"
      },
      "source": [
        "# samples from the posterior\n",
        "posterior = approximation.sample(5000)"
      ],
      "execution_count": null,
      "outputs": []
    },
    {
      "cell_type": "code",
      "metadata": {
        "id": "cIskuS3ToIDk",
        "colab": {
          "base_uri": "https://localhost:8080/"
        },
        "outputId": "3e4d3db4-6728-4c44-dc6c-673677efb815"
      },
      "source": [
        "# prediction\n",
        "ll=np.mean(posterior['alpha']) + np.dot(np.mean(posterior['beta'],axis=0), Xn_test.T)\n",
        "y_pred_BLR = np.exp(yscaler.inverse_transform(ll.reshape(-1,1)))[:,0]\n",
        "print(\"MAE = \",(np.mean(abs(y_pred_BLR - y_test))))\n",
        "print(\"MAPE = \",(np.mean(abs(y_pred_BLR - y_test) / y_test)))"
      ],
      "execution_count": null,
      "outputs": [
        {
          "output_type": "stream",
          "name": "stdout",
          "text": [
            "MAE =  138841.48475712741\n",
            "MAPE =  0.1424670683863496\n"
          ]
        }
      ]
    },
    {
      "cell_type": "markdown",
      "metadata": {
        "id": "q_jBBKvtoIDk"
      },
      "source": [
        "## Clustering"
      ]
    },
    {
      "cell_type": "markdown",
      "metadata": {
        "id": "VYFvbgYDaEOS"
      },
      "source": [
        "### Full Model"
      ]
    },
    {
      "cell_type": "code",
      "metadata": {
        "colab": {
          "base_uri": "https://localhost:8080/",
          "height": 282
        },
        "id": "iphQ53UE0iVw",
        "outputId": "ddf5d307-d016-4778-ba4a-c66c35d55bc0"
      },
      "source": [
        "# training gaussian mixture model \n",
        "from sklearn.mixture import GaussianMixture\n",
        "\n",
        "gmm = GaussianMixture(n_components=4)\n",
        "# clustering by features 1, 2\n",
        "ind=[0,1]\n",
        "X_ind = np.vstack([Xn_train[:,ind],Xn_test[:,ind]])\n",
        "# Gaussian Mixture\n",
        "gmm.fit(X_ind)\n",
        "# plot blue dots\n",
        "plt.scatter(X_ind[:,0],X_ind[:,1])\n",
        "# centroids:  orange dots\n",
        "plt.scatter(gmm.means_[:,0],gmm.means_[:,1])"
      ],
      "execution_count": null,
      "outputs": [
        {
          "output_type": "execute_result",
          "data": {
            "text/plain": [
              "<matplotlib.collections.PathCollection at 0x7faa804c1490>"
            ]
          },
          "metadata": {},
          "execution_count": 38
        },
        {
          "output_type": "display_data",
          "data": {
            "image/png": "[encoded data removed]",
            "text/plain": [
              "<Figure size 432x288 with 1 Axes>"
            ]
          },
          "metadata": {
            "needs_background": "light"
          }
        }
      ]
    },
    {
      "cell_type": "code",
      "metadata": {
        "colab": {
          "base_uri": "https://localhost:8080/"
        },
        "id": "mNxC5zMRN78U",
        "outputId": "02cf25e9-035b-45b7-f3a0-21ae5d83691e"
      },
      "source": [
        "np.max(ys_train)"
      ],
      "execution_count": null,
      "outputs": [
        {
          "output_type": "execute_result",
          "data": {
            "text/plain": [
              "2000000.0"
            ]
          },
          "metadata": {},
          "execution_count": 39
        }
      ]
    },
    {
      "cell_type": "markdown",
      "metadata": {
        "id": "h51OhBV5Z4tY"
      },
      "source": [
        "### Clusters"
      ]
    },
    {
      "cell_type": "code",
      "metadata": {
        "colab": {
          "base_uri": "https://localhost:8080/"
        },
        "id": "vNvx_KxrLt90",
        "outputId": "344062c0-ac4c-40a0-a8e2-c9f50fac5574"
      },
      "source": [
        "# train clusters\n",
        "clusters_train = gmm.predict(Xn_train[:,ind])\n",
        "unique_train, counts_train = np.unique(clusters_train, return_counts=True)\n",
        "dict(zip(unique_train, counts_train))\n"
      ],
      "execution_count": null,
      "outputs": [
        {
          "output_type": "execute_result",
          "data": {
            "text/plain": [
              "{0: 836, 1: 842, 2: 824, 3: 835}"
            ]
          },
          "metadata": {},
          "execution_count": 40
        }
      ]
    },
    {
      "cell_type": "code",
      "metadata": {
        "colab": {
          "base_uri": "https://localhost:8080/"
        },
        "id": "-wTT4220zFNx",
        "outputId": "bbbf5b0b-97d4-4552-8b21-c4bac46735b4"
      },
      "source": [
        "# test clusters\n",
        "clusters_test = gmm.predict(Xn_test[:,ind])\n",
        "unique_test, counts_test = np.unique(clusters_test, return_counts=True)\n",
        "dict(zip(unique_test, counts_test))"
      ],
      "execution_count": null,
      "outputs": [
        {
          "output_type": "execute_result",
          "data": {
            "text/plain": [
              "{0: 315, 1: 358, 2: 376, 3: 366}"
            ]
          },
          "metadata": {},
          "execution_count": 41
        }
      ]
    },
    {
      "cell_type": "code",
      "metadata": {
        "id": "AETsX-EkPDvk"
      },
      "source": [
        "# cluster 0\n",
        "Xn0 = Xn_train[clusters_train==0,:]\n",
        "Xtestn0 = Xn_test[clusters_test==0,:]\n",
        "\n",
        "ylog0 = np.log(ys_train.astype('float')[clusters_train==0,:])\n",
        "yscaler0 = StandardScaler().fit(ylog0)\n",
        "yn0 = yscaler0.transform(ylog0)\n"
      ],
      "execution_count": null,
      "outputs": []
    },
    {
      "cell_type": "code",
      "metadata": {
        "id": "39suMc4QP1-L"
      },
      "source": [
        "# cluster 1\n",
        "Xn1 = Xn_train[clusters_train==1,:]\n",
        "Xtestn1 = Xn_test[clusters_test==1,:]\n",
        "ylog1 = np.log(ys_train.astype('float')[clusters_train==1,:])\n",
        "yscaler1 = StandardScaler().fit(ylog1)\n",
        "yn1 = yscaler1.transform(ylog1)"
      ],
      "execution_count": null,
      "outputs": []
    },
    {
      "cell_type": "code",
      "metadata": {
        "id": "OVIKZbWHQ7ue"
      },
      "source": [
        "# cluster 2\n",
        "Xn2 = Xn_train[clusters_train==2,:]\n",
        "Xtestn2 = Xn_test[clusters_test==2,:]\n",
        "ylog2 = np.log(ys_train.astype('float')[clusters_train==2,:])\n",
        "yscaler2 = StandardScaler().fit(ylog2)\n",
        "yn2 = yscaler2.transform(ylog2)\n"
      ],
      "execution_count": null,
      "outputs": []
    },
    {
      "cell_type": "code",
      "metadata": {
        "id": "2mzwzOEgRMKS"
      },
      "source": [
        "# cluster 3\n",
        "Xn3 = Xn_train[clusters_train==3,:]\n",
        "Xtestn3 = Xn_test[clusters_test==3,:]\n",
        "ylog3 = np.log(ys_train.astype('float')[clusters_train==3,:])\n",
        "yscaler3 = StandardScaler().fit(ylog3)\n",
        "yn3 = yscaler3.transform(ylog3)"
      ],
      "execution_count": null,
      "outputs": []
    },
    {
      "cell_type": "markdown",
      "metadata": {
        "id": "dXF25ZDYoIDl"
      },
      "source": [
        "## Piecewise Model"
      ]
    },
    {
      "cell_type": "code",
      "metadata": {
        "colab": {
          "base_uri": "https://localhost:8080/",
          "height": 54
        },
        "id": "N1e-4ruvaJci",
        "outputId": "f8aea93a-615f-422e-da08-ccd352b3d09f"
      },
      "source": [
        "# model_0\n",
        "with pm.Model() as model_0:\n",
        "  # prior over the parameters of linear regression\n",
        "  alpha = pm.Normal('alpha', mu=0, sigma=30)\n",
        "  # we have a beta for each column of Xn0\n",
        "  beta = pm.Normal('beta', mu=0, sigma=30, shape=Xn0.shape[1])\n",
        "  # prior over the variance of the noise\n",
        "  sigma = pm.HalfCauchy('sigma_n', 5)\n",
        "  # linear regression relationship\n",
        "  #linear regression model in matrix form\n",
        "  mu = alpha + pm.math.dot(beta, Xn0.T)\n",
        "  # likelihood, be sure that observed is a 1d vector\n",
        "  like = pm.Normal('like', mu=mu, sigma=sigma, observed=yn0[:,0])\n",
        "\n",
        "with model_0:\n",
        "  # iterations of the algorithm\n",
        "  approximation = pm.fit(40000,method='advi')\n",
        "\n",
        "# samples from the posterior   \n",
        "posterior0 = approximation.sample(5000)"
      ],
      "execution_count": null,
      "outputs": [
        {
          "output_type": "display_data",
          "data": {
            "text/html": [
              "\n",
              "    <div>\n",
              "        <style>\n",
              "            /* Turns off some styling */\n",
              "            progress {\n",
              "                /* gets rid of default border in Firefox and Opera. */\n",
              "                border: none;\n",
              "                /* Needs to be in here for Safari polyfill so background images work as expected. */\n",
              "                background-size: auto;\n",
              "            }\n",
              "            .progress-bar-interrupted, .progress-bar-interrupted::-webkit-progress-bar {\n",
              "                background: #F44336;\n",
              "            }\n",
              "        </style>\n",
              "      <progress value='40000' class='' max='40000' style='width:300px; height:20px; vertical-align: middle;'></progress>\n",
              "      100.00% [40000/40000 00:04<00:00 Average Loss = 998.8]\n",
              "    </div>\n",
              "    "
            ],
            "text/plain": [
              "<IPython.core.display.HTML object>"
            ]
          },
          "metadata": {}
        },
        {
          "output_type": "stream",
          "name": "stderr",
          "text": [
            "Finished [100%]: Average Loss = 998.8\n"
          ]
        }
      ]
    },
    {
      "cell_type": "code",
      "metadata": {
        "colab": {
          "base_uri": "https://localhost:8080/",
          "height": 54
        },
        "id": "FPT_CGGja1Mo",
        "outputId": "d9c3087f-883b-43dd-da2c-a29ede8fcf12"
      },
      "source": [
        "# model_1\n",
        "with pm.Model() as model_1:\n",
        "  # prior over the parameters of linear regression\n",
        "  alpha = pm.Normal('alpha', mu=0, sigma=30)\n",
        "  # we have a beta for each column of Xn\n",
        "  beta = pm.Normal('beta', mu=0, sigma=30, shape=Xn1.shape[1])\n",
        "  # prior over the variance of the noise\n",
        "  sigma = pm.HalfCauchy('sigma_n', 5)\n",
        "  # linear regression relationship\n",
        "  #linear regression model in matrix form\n",
        "  mu = alpha + pm.math.dot(beta, Xn1.T)\n",
        "  # likelihood, # \n",
        "  like = pm.Normal('like', mu=mu, sigma=sigma, observed=yn1[:,0])\n",
        "  \n",
        "with model_1:\n",
        "  # iterations of the algorithm\n",
        "  approximation = pm.fit(40000,method='advi')\n",
        "\n",
        "# samples from the posterior    \n",
        "posterior1 = approximation.sample(5000)"
      ],
      "execution_count": null,
      "outputs": [
        {
          "output_type": "display_data",
          "data": {
            "text/html": [
              "\n",
              "    <div>\n",
              "        <style>\n",
              "            /* Turns off some styling */\n",
              "            progress {\n",
              "                /* gets rid of default border in Firefox and Opera. */\n",
              "                border: none;\n",
              "                /* Needs to be in here for Safari polyfill so background images work as expected. */\n",
              "                background-size: auto;\n",
              "            }\n",
              "            .progress-bar-interrupted, .progress-bar-interrupted::-webkit-progress-bar {\n",
              "                background: #F44336;\n",
              "            }\n",
              "        </style>\n",
              "      <progress value='40000' class='' max='40000' style='width:300px; height:20px; vertical-align: middle;'></progress>\n",
              "      100.00% [40000/40000 00:04<00:00 Average Loss = 995.36]\n",
              "    </div>\n",
              "    "
            ],
            "text/plain": [
              "<IPython.core.display.HTML object>"
            ]
          },
          "metadata": {}
        },
        {
          "output_type": "stream",
          "name": "stderr",
          "text": [
            "Finished [100%]: Average Loss = 995.37\n"
          ]
        }
      ]
    },
    {
      "cell_type": "code",
      "metadata": {
        "colab": {
          "base_uri": "https://localhost:8080/",
          "height": 54
        },
        "id": "6sMEvOzabRIB",
        "outputId": "527fab53-8711-45eb-e33d-4526c3f4de72"
      },
      "source": [
        "# model_2\n",
        "with pm.Model() as model_2:\n",
        "  # prior over the parameters of linear regression\n",
        "  alpha = pm.Normal('alpha', mu=0, sigma=30)\n",
        "  # we have a beta for each column of Xn\n",
        "  beta = pm.Normal('beta', mu=0, sigma=30, shape=Xn2.shape[1])\n",
        "  # prior over the variance of the noise\n",
        "  sigma = pm.HalfCauchy('sigma_n', 5)\n",
        "  # linear regression relationship\n",
        "  # linear regression model in matrix form\n",
        "  mu = alpha + pm.math.dot(beta, Xn2.T)\n",
        "  # likelihood, be sure that observed is a 1d vector\n",
        "  like = pm.Normal('like', mu=mu, sigma=sigma, observed=yn2[:,0])\n",
        "    \n",
        "with model_2:\n",
        "  # iterations of the algorithms\n",
        "  approximation = pm.fit(40000,method='advi')\n",
        "\n",
        "# samples from the posterior    \n",
        "posterior2 = approximation.sample(5000)"
      ],
      "execution_count": null,
      "outputs": [
        {
          "output_type": "display_data",
          "data": {
            "text/html": [
              "\n",
              "    <div>\n",
              "        <style>\n",
              "            /* Turns off some styling */\n",
              "            progress {\n",
              "                /* gets rid of default border in Firefox and Opera. */\n",
              "                border: none;\n",
              "                /* Needs to be in here for Safari polyfill so background images work as expected. */\n",
              "                background-size: auto;\n",
              "            }\n",
              "            .progress-bar-interrupted, .progress-bar-interrupted::-webkit-progress-bar {\n",
              "                background: #F44336;\n",
              "            }\n",
              "        </style>\n",
              "      <progress value='40000' class='' max='40000' style='width:300px; height:20px; vertical-align: middle;'></progress>\n",
              "      100.00% [40000/40000 00:04<00:00 Average Loss = 1,000.8]\n",
              "    </div>\n",
              "    "
            ],
            "text/plain": [
              "<IPython.core.display.HTML object>"
            ]
          },
          "metadata": {}
        },
        {
          "output_type": "stream",
          "name": "stderr",
          "text": [
            "Finished [100%]: Average Loss = 1,000.8\n"
          ]
        }
      ]
    },
    {
      "cell_type": "code",
      "metadata": {
        "colab": {
          "base_uri": "https://localhost:8080/",
          "height": 54
        },
        "id": "F2poA2yrb5-F",
        "outputId": "3ada7cbc-5f9e-40c0-d0b4-1fbe71456ff3"
      },
      "source": [
        "# model_3\n",
        "with pm.Model() as model3:\n",
        "  # prior over the parameters of linear regression\n",
        "  alpha = pm.Normal('alpha', mu=0, sigma=30)\n",
        "  # we have a beta for each column of Xn\n",
        "  beta = pm.Normal('beta', mu=0, sigma=30, shape=Xn3.shape[1])\n",
        "  # prior over the variance of the noise\n",
        "  sigma = pm.HalfCauchy('sigma_n', 5)\n",
        "  # linear regression relationship\n",
        "  mu = alpha + pm.math.dot(beta, Xn3.T)#linear regression model in matrix form\n",
        "  # likelihood, be sure that observed is a 1d vector\n",
        "  like = pm.Normal('like', mu=mu, sigma=sigma, observed=yn3[:,0])\n",
        "    \n",
        "with model3:\n",
        "  # number of iterations of the algorithms\n",
        "  approximation = pm.fit(40000,method='advi')\n",
        "\n",
        "# samples from the posterior     \n",
        "posterior3 = approximation.sample(5000)"
      ],
      "execution_count": null,
      "outputs": [
        {
          "output_type": "display_data",
          "data": {
            "text/html": [
              "\n",
              "    <div>\n",
              "        <style>\n",
              "            /* Turns off some styling */\n",
              "            progress {\n",
              "                /* gets rid of default border in Firefox and Opera. */\n",
              "                border: none;\n",
              "                /* Needs to be in here for Safari polyfill so background images work as expected. */\n",
              "                background-size: auto;\n",
              "            }\n",
              "            .progress-bar-interrupted, .progress-bar-interrupted::-webkit-progress-bar {\n",
              "                background: #F44336;\n",
              "            }\n",
              "        </style>\n",
              "      <progress value='40000' class='' max='40000' style='width:300px; height:20px; vertical-align: middle;'></progress>\n",
              "      100.00% [40000/40000 00:04<00:00 Average Loss = 1,011.8]\n",
              "    </div>\n",
              "    "
            ],
            "text/plain": [
              "<IPython.core.display.HTML object>"
            ]
          },
          "metadata": {}
        },
        {
          "output_type": "stream",
          "name": "stderr",
          "text": [
            "Finished [100%]: Average Loss = 1,011.8\n"
          ]
        }
      ]
    },
    {
      "cell_type": "code",
      "metadata": {
        "id": "UhChmqzFcV0H"
      },
      "source": [
        "#############"
      ],
      "execution_count": null,
      "outputs": []
    },
    {
      "cell_type": "code",
      "metadata": {
        "id": "gdY1yXp0oIDn"
      },
      "source": [
        "# Posterior predictive checks (PPCs)\n",
        "def ppc(alpha,beta,sigma, X,  nsamples=500):\n",
        "    #we select nsamples random samples from the posterior\n",
        "    ind = np.random.randint(0,beta.shape[0],size=nsamples)\n",
        "    alphai = alpha[ind]\n",
        "    betai = beta[ind,:]\n",
        "    sigmai = sigma[ind]\n",
        "\n",
        "    Ypred = np.zeros((nsamples,X.shape[0]))\n",
        "    for i in range(X.shape[0]):\n",
        "        #we generate data from linear model\n",
        "        y_pred = alphai + np.dot(betai, X[i:i+1,:].T).T +np.random.randn(len(sigmai))*sigmai\n",
        "        Ypred[:,i]=y_pred[0,:]\n",
        "    return Ypred\n",
        "\n"
      ],
      "execution_count": null,
      "outputs": []
    },
    {
      "cell_type": "markdown",
      "metadata": {
        "id": "wHBgUe1pcZQQ"
      },
      "source": [
        "##Simulations"
      ]
    },
    {
      "cell_type": "markdown",
      "metadata": {
        "id": "bfSEdYAUoIDn"
      },
      "source": [
        "### Only Cluster 0"
      ]
    },
    {
      "cell_type": "code",
      "metadata": {
        "id": "5VpFfBB3oIDo",
        "colab": {
          "base_uri": "https://localhost:8080/",
          "height": 313
        },
        "outputId": "981e72fc-b80c-4e48-e16f-0b7fc1568997"
      },
      "source": [
        "#Simulation\n",
        "Ypred0 = yscaler0.inverse_transform(ppc(posterior0['alpha'],posterior0['beta'],posterior0['sigma_n'],Xn0,  nsamples=200))\n",
        "for i in range(Ypred0.shape[0]):\n",
        "    az.plot_dist( Ypred0[i,:],color='r',plot_kwargs={\"linewidth\": 0.2})\n",
        "az.plot_dist(Ypred0[i,:],color='r',plot_kwargs={\"linewidth\": 0.2}, label=\"prediction\")\n",
        "#plt.plot(np.linspace(-8,8,100),norm.pdf(np.linspace(-8,8,100),df=np.mean(posterior_1['nu'])))\n",
        "#plt.xlim([0,10e7])\n",
        "az.plot_dist(ylog0,label='true observations');\n",
        "plt.legend()\n",
        "plt.xlabel(\"log(y) - output variable\")\n",
        "plt.ylabel(\"density plot\");"
      ],
      "execution_count": null,
      "outputs": [
        {
          "output_type": "display_data",
          "data": {
            "image/png": "[encoded data removed]",
            "text/plain": [
              "<Figure size 432x288 with 1 Axes>"
            ]
          },
          "metadata": {
            "needs_background": "light"
          }
        }
      ]
    },
    {
      "cell_type": "markdown",
      "metadata": {
        "id": "qOAWKZXsoIDo"
      },
      "source": [
        "### Only Cluster 1"
      ]
    },
    {
      "cell_type": "code",
      "metadata": {
        "id": "GQ5gaq1goIDo",
        "colab": {
          "base_uri": "https://localhost:8080/",
          "height": 313
        },
        "outputId": "ce2f2623-9aec-4e76-92ca-7c0d30a9b43f"
      },
      "source": [
        "#Simulation\n",
        "Ypred1 = yscaler1.inverse_transform(ppc(posterior1['alpha'],posterior1['beta'],posterior1['sigma_n'],Xn1,  nsamples=200))\n",
        "for i in range(Ypred1.shape[0]):\n",
        "    az.plot_dist( Ypred1[i,:],color='r',plot_kwargs={\"linewidth\": 0.2})\n",
        "az.plot_dist(Ypred1[i,:],color='r',plot_kwargs={\"linewidth\": 0.2}, label=\"prediction\")\n",
        "#plt.plot(np.linspace(-8,8,100),norm.pdf(np.linspace(-8,8,100),df=np.mean(posterior_1['nu'])))\n",
        "#plt.xlim([0,10e7])\n",
        "az.plot_dist(ylog1,label='true observations');\n",
        "plt.legend()\n",
        "plt.xlabel(\"log(y) - output variable\")\n",
        "plt.ylabel(\"density plot\");"
      ],
      "execution_count": null,
      "outputs": [
        {
          "output_type": "display_data",
          "data": {
            "image/png": "[encoded data removed]",
            "text/plain": [
              "<Figure size 432x288 with 1 Axes>"
            ]
          },
          "metadata": {
            "needs_background": "light"
          }
        }
      ]
    },
    {
      "cell_type": "markdown",
      "metadata": {
        "id": "6KU51ObNoIDp"
      },
      "source": [
        "### Only Cluster 2"
      ]
    },
    {
      "cell_type": "code",
      "metadata": {
        "id": "pqA9z59soIDp",
        "colab": {
          "base_uri": "https://localhost:8080/",
          "height": 313
        },
        "outputId": "c275d741-7043-48bf-9196-7663f0b6d787"
      },
      "source": [
        "#Simulation\n",
        "Ypred2 = yscaler2.inverse_transform(ppc(posterior2['alpha'],posterior2['beta'],posterior2['sigma_n'],Xn2,  nsamples=200))\n",
        "for i in range(Ypred2.shape[0]):\n",
        "    az.plot_dist( Ypred2[i,:],color='r',plot_kwargs={\"linewidth\": 0.2})\n",
        "az.plot_dist(Ypred2[i,:],color='r',plot_kwargs={\"linewidth\": 0.2}, label=\"prediction\")\n",
        "#plt.plot(np.linspace(-8,8,100),norm.pdf(np.linspace(-8,8,100),df=np.mean(posterior_1['nu'])))\n",
        "#plt.xlim([0,10e7])\n",
        "az.plot_dist(ylog2,label='true observations');\n",
        "plt.legend()\n",
        "plt.xlabel(\"log(y) - output variable\")\n",
        "plt.ylabel(\"density plot\");"
      ],
      "execution_count": null,
      "outputs": [
        {
          "output_type": "display_data",
          "data": {
            "image/png": "[encoded data removed]",
            "text/plain": [
              "<Figure size 432x288 with 1 Axes>"
            ]
          },
          "metadata": {
            "needs_background": "light"
          }
        }
      ]
    },
    {
      "cell_type": "markdown",
      "metadata": {
        "id": "1ktNrfe0oIDp"
      },
      "source": [
        "### Only Cluster 3"
      ]
    },
    {
      "cell_type": "code",
      "metadata": {
        "id": "DjieM0f-oIDp",
        "colab": {
          "base_uri": "https://localhost:8080/",
          "height": 313
        },
        "outputId": "704d3221-40c2-4f02-efdf-2a51427b2616"
      },
      "source": [
        "#Simulation\n",
        "Ypred3 = yscaler3.inverse_transform(ppc(posterior3['alpha'],posterior3['beta'],posterior3['sigma_n'],Xn3,  nsamples=200))\n",
        "for i in range(Ypred3.shape[0]):\n",
        "    az.plot_dist( Ypred3[i,:],color='r',plot_kwargs={\"linewidth\": 0.2})\n",
        "az.plot_dist(Ypred3[i,:],color='r',plot_kwargs={\"linewidth\": 0.2}, label=\"prediction\")\n",
        "#plt.plot(np.linspace(-8,8,100),norm.pdf(np.linspace(-8,8,100),df=np.mean(posterior_1['nu'])))\n",
        "#plt.xlim([0,10e7])\n",
        "az.plot_dist(ylog3,label='true observations');\n",
        "plt.legend()\n",
        "plt.xlabel(\"log(y) - output variable\")\n",
        "plt.ylabel(\"density plot\");"
      ],
      "execution_count": null,
      "outputs": [
        {
          "output_type": "display_data",
          "data": {
            "image/png": "[encoded data removed]",
            "text/plain": [
              "<Figure size 432x288 with 1 Axes>"
            ]
          },
          "metadata": {
            "needs_background": "light"
          }
        }
      ]
    },
    {
      "cell_type": "markdown",
      "metadata": {
        "id": "qgMUwBO7oIDq"
      },
      "source": [
        "## Overall"
      ]
    },
    {
      "cell_type": "code",
      "metadata": {
        "id": "qGI0qJhAoIDq",
        "colab": {
          "base_uri": "https://localhost:8080/",
          "height": 313
        },
        "outputId": "cf3131ba-49ad-42b2-9413-5d03a5c438f2"
      },
      "source": [
        "# posteriors\n",
        "Ypred0 = ppc(posterior0['alpha'],posterior0['beta'],posterior0['sigma_n'],Xn0,  nsamples=200)\n",
        "Ypred1 = ppc(posterior1['alpha'],posterior1['beta'],posterior1['sigma_n'],Xn1,  nsamples=200)\n",
        "Ypred2 = ppc(posterior2['alpha'],posterior2['beta'],posterior2['sigma_n'],Xn2,  nsamples=200)\n",
        "Ypred3 = ppc(posterior3['alpha'],posterior3['beta'],posterior3['sigma_n'],Xn3,  nsamples=200)\n",
        "\n",
        "# simulation\n",
        "Ypred = np.hstack([ yscaler0.inverse_transform(Ypred0),\n",
        "                 yscaler1.inverse_transform(Ypred1),\n",
        "                 yscaler2.inverse_transform(Ypred2),\n",
        "                 yscaler3.inverse_transform(Ypred3)])\n",
        "\n",
        "# prediction\n",
        "for i in range(Ypred.shape[0]):\n",
        "    az.plot_dist( Ypred[i,:],color='r',plot_kwargs={\"linewidth\": 0.2})\n",
        "\n",
        "# plot\n",
        "az.plot_dist(Ypred[i,:],color='r',plot_kwargs={\"linewidth\": 0.2}, label=\"prediction\")\n",
        "ylog=np.vstack([ylog0,ylog1,ylog2,ylog3])\n",
        "az.plot_dist(ylog,label='true observations');\n",
        "plt.legend()\n",
        "plt.xlabel(\"log(y) - output variable\")\n",
        "plt.ylabel(\"density plot\");"
      ],
      "execution_count": null,
      "outputs": [
        {
          "output_type": "display_data",
          "data": {
            "image/png": "[encoded data removed]",
            "text/plain": [
              "<Figure size 432x288 with 1 Axes>"
            ]
          },
          "metadata": {
            "needs_background": "light"
          }
        }
      ]
    },
    {
      "cell_type": "markdown",
      "metadata": {
        "id": "QMY9rDvVoIDq"
      },
      "source": [
        "## Test set performance"
      ]
    },
    {
      "cell_type": "code",
      "metadata": {
        "id": "9ZTXd2y3oIDr",
        "colab": {
          "base_uri": "https://localhost:8080/"
        },
        "outputId": "b0c9e0bc-09c5-4b52-b922-31828c423347"
      },
      "source": [
        "# cluster 0\n",
        "y_pred_BLR0 = np.exp(yscaler0.inverse_transform(np.mean(posterior0['alpha']) \n",
        "              + np.dot(np.mean(posterior0['beta'],axis=0), Xtestn0.T)))\n",
        "print(\"Size Cluster0\", np.sum(clusters_test==0), \", MAE Cluster0=\",\n",
        "      (np.mean(abs(y_pred_BLR0 - y_test[clusters_test==0]))))\n",
        "\n",
        "# cluster 1\n",
        "y_pred_BLR1 = np.exp(yscaler1.inverse_transform(np.mean(posterior1['alpha']) \n",
        "              + np.dot(np.mean(posterior1['beta'],axis=0), Xtestn1.T)))\n",
        "print(\"Size Cluster1\", np.sum(clusters_test==1), \", MAE Cluster1=\",\n",
        "      (np.mean(abs(y_pred_BLR1 - y_test[clusters_test==1]))))\n",
        "\n",
        "# cluster 2\n",
        "y_pred_BLR2 = np.exp(yscaler2.inverse_transform(np.mean(posterior2['alpha']) \n",
        "              + np.dot(np.mean(posterior2['beta'],axis=0), Xtestn2.T)))\n",
        "print(\"Size Cluster2\", np.sum(clusters_test==2), \", MAE Cluster2=\",\n",
        "      (np.mean(abs(y_pred_BLR2 - y_test[clusters_test==2]))))\n",
        "\n",
        "# cluster 3\n",
        "y_pred_BLR3 = np.exp(yscaler3.inverse_transform(np.mean(posterior3['alpha']) \n",
        "              + np.dot(np.mean(posterior3['beta'],axis=0), Xtestn3.T)))\n",
        "print(\"Size Cluster3\", np.sum(clusters_test==3), \", MAE Cluster3=\",\n",
        "      (np.mean(abs(y_pred_BLR3 - y_test[clusters_test==3]))))\n",
        "\n",
        "# joint\n",
        "joint=np.hstack([abs(y_pred_BLR0 - y_test[clusters_test==0]),\n",
        "                 abs(y_pred_BLR1 - y_test[clusters_test==1]),\n",
        "                 abs(y_pred_BLR2 - y_test[clusters_test==2]),\n",
        "                 abs(y_pred_BLR3 - y_test[clusters_test==3])])\n",
        "\n",
        "# MAE\n",
        "print(\"MAE=\",np.mean(joint))"
      ],
      "execution_count": null,
      "outputs": [
        {
          "output_type": "stream",
          "name": "stdout",
          "text": [
            "Size Cluster0 315 , MAE Cluster0= 138253.05206488215\n",
            "Size Cluster1 358 , MAE Cluster1= 137568.88835864814\n",
            "Size Cluster2 376 , MAE Cluster2= 143069.3193042597\n",
            "Size Cluster3 366 , MAE Cluster3= 140424.0033695327\n",
            "MAE= 139921.28814451201\n"
          ]
        }
      ]
    },
    {
      "cell_type": "markdown",
      "metadata": {
        "id": "YGmB9BNkoIDr"
      },
      "source": [
        "### PPC on the Test set\n",
        "\n"
      ]
    },
    {
      "cell_type": "code",
      "metadata": {
        "id": "Rl4U9JKOoIDr",
        "colab": {
          "base_uri": "https://localhost:8080/",
          "height": 313
        },
        "outputId": "4438e5d3-1478-426d-9b26-c3506483d67d"
      },
      "source": [
        "## Posterior predictive checks (PPCs)\n",
        "\n",
        "num_samples2 = 200\n",
        "Ypred0 = ppc(posterior0['alpha'],posterior0['beta'],posterior0['sigma_n'],Xtestn0, nsamples=num_samples2)\n",
        "Ypred1 = ppc(posterior1['alpha'],posterior1['beta'],posterior1['sigma_n'],Xtestn1, nsamples=num_samples2)\n",
        "Ypred2 = ppc(posterior2['alpha'],posterior2['beta'],posterior2['sigma_n'],Xtestn2, nsamples=num_samples2)\n",
        "Ypred3 = ppc(posterior3['alpha'],posterior3['beta'],posterior3['sigma_n'],Xtestn3, nsamples=num_samples2)\n",
        "\n",
        "# Stack arrays in sequence horizontally (column wise)\n",
        "Ypred = np.hstack([yscaler0.inverse_transform(Ypred0),\n",
        "                 yscaler1.inverse_transform(Ypred1),\n",
        "                 yscaler2.inverse_transform(Ypred2),\n",
        "                 yscaler3.inverse_transform(Ypred3)])\n",
        "\n",
        "# plot prediction shape\n",
        "for i in range(Ypred.shape[0]):\n",
        "    az.plot_dist( Ypred[i,:],color='r',plot_kwargs={\"linewidth\": 0.2})\n",
        "# label\n",
        "az.plot_dist(Ypred[i,:],color='r',plot_kwargs={\"linewidth\": 0.2}, label=\"prediction\")\n",
        "\n",
        "# true observations\n",
        "az.plot_dist(np.log(y_test),label='true observations');\n",
        "plt.legend()\n",
        "plt.xlabel(\"log(y) - output variable\")\n",
        "plt.ylabel(\"density plot\");"
      ],
      "execution_count": null,
      "outputs": [
        {
          "output_type": "display_data",
          "data": {
            "image/png": "[encoded data removed]",
            "text/plain": [
              "<Figure size 432x288 with 1 Axes>"
            ]
          },
          "metadata": {
            "needs_background": "light"
          }
        }
      ]
    }
  ]
}