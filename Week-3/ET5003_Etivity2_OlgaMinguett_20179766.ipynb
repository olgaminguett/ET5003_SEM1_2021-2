{
  "nbformat": 4,
  "nbformat_minor": 0,
  "metadata": {
    "colab": {
      "name": "ET5003_Etivity2_OlgaMinguett_20179766.ipynb",
      "provenance": [],
      "collapsed_sections": [
        "VYFvbgYDaEOS",
        "h51OhBV5Z4tY",
        "bfSEdYAUoIDn",
        "YGmB9BNkoIDr"
      ],
      "include_colab_link": true
    },
    "kernelspec": {
      "name": "python3",
      "display_name": "Python 3"
    },
    "language_info": {
      "name": "python"
    }
  },
  "cells": [
    {
      "cell_type": "markdown",
      "metadata": {
        "id": "view-in-github",
        "colab_type": "text"
      },
      "source": [
        "<a href=\"https://colab.research.google.com/github/olgaminguett/ET5003_SEM1_2021-2/blob/main/Week-3/ET5003_Etivity2_OlgaMinguett_20179766.ipynb\" target=\"_parent\"><img src=\"https://colab.research.google.com/assets/colab-badge.svg\" alt=\"Open In Colab\"/></a>"
      ]
    },
    {
      "cell_type": "markdown",
      "metadata": {
        "id": "930vlW5BrOtq"
      },
      "source": [
        "<div>\n",
        "<img src=\"https://drive.google.com/uc?export=view&id=1vK33e_EqaHgBHcbRV_m38hx6IkG0blK_\" width=\"350\"/>\n",
        "</div> \n",
        "\n",
        "#**Artificial Intelligence - MSc**\n",
        "##ET5003 - MACHINE LEARNING APPLICATIONS \n",
        "\n",
        "###Instructor: Enrique Naredo\n",
        "###ET5003_Etivity-2"
      ]
    },
    {
      "cell_type": "code",
      "metadata": {
        "id": "LqXD_IwUQuBF",
        "cellView": "form"
      },
      "source": [
        "#@title Current Date\n",
        "Today = '2021-09-20' #@param {type:\"date\"}\n"
      ],
      "execution_count": 94,
      "outputs": []
    },
    {
      "cell_type": "code",
      "metadata": {
        "id": "uzDKau31OjVO",
        "cellView": "form"
      },
      "source": [
        "#@markdown ---\n",
        "#@markdown ### Enter your details here:\n",
        "Student_ID = \"20179766\" #@param {type:\"string\"}\n",
        "Student_full_name = \"Olga Minguett\" #@param {type:\"string\"}\n",
        "#@markdown ---"
      ],
      "execution_count": 95,
      "outputs": []
    },
    {
      "cell_type": "code",
      "metadata": {
        "id": "r39xGZckTpKx",
        "cellView": "form"
      },
      "source": [
        "#@title Notebook information\n",
        "Notebook_type = 'Etivity' #@param [\"Example\", \"Lab\", \"Practice\", \"Etivity\", \"Assignment\", \"Exam\"]\n",
        "Version = 'Draft' #@param [\"Draft\", \"Final\"] {type:\"raw\"}\n",
        "Submission = False #@param {type:\"boolean\"}"
      ],
      "execution_count": 96,
      "outputs": []
    },
    {
      "cell_type": "markdown",
      "metadata": {
        "id": "_A0Z6S-r6DpA"
      },
      "source": [
        "# INTRODUCTION"
      ]
    },
    {
      "cell_type": "markdown",
      "metadata": {
        "id": "QkRchZtf6IV-"
      },
      "source": [
        "**Piecewise regression**, extract from [Wikipedia](https://en.wikipedia.org/wiki/Segmented_regression):\n",
        "\n",
        "Segmented regression, also known as piecewise regression or broken-stick regression, is a method in regression analysis in which the independent variable is partitioned into intervals and a separate line segment is fit to each interval. \n",
        "\n",
        "* Segmented regression analysis can also be performed on \n",
        "multivariate data by partitioning the various independent variables. \n",
        "* Segmented regression is useful when the independent variables, clustered into different groups, exhibit different relationships between the variables in these regions. \n",
        "\n",
        "* The boundaries between the segments are breakpoints.\n",
        "\n",
        "* Segmented linear regression is segmented regression whereby the relations in the intervals are obtained by linear regression. "
      ]
    },
    {
      "cell_type": "markdown",
      "metadata": {
        "id": "aajlS0WCJ8pm"
      },
      "source": [
        "***The goal is to use advanced Machine Learning methods to predict House price.***"
      ]
    },
    {
      "cell_type": "markdown",
      "metadata": {
        "id": "Wg7VCbX77eAA"
      },
      "source": [
        "## Import Libraries"
      ]
    },
    {
      "cell_type": "code",
      "metadata": {
        "id": "sYPJU_Y6O6Dq"
      },
      "source": [
        "# Suppressing Warnings:\n",
        "import warnings\n",
        "warnings.filterwarnings(\"ignore\")\n",
        "\n",
        "# to plot\n",
        "import seaborn as sns\n",
        "import matplotlib.colors\n",
        "import matplotlib.pyplot as plt\n",
        "from mpl_toolkits.mplot3d import Axes3D\n",
        "\n",
        "# to generate classification, regression and clustering datasets\n",
        "import sklearn.datasets as dt\n",
        "\n",
        "# to create data frames\n",
        "import pandas as pd\n",
        "\n",
        "# to generate data from an existing dataset\n",
        "from sklearn.neighbors import KernelDensity\n",
        "from sklearn.model_selection import GridSearchCV\n",
        "\n",
        "# to use mathematical functions\n",
        "import numpy as np\n",
        "\n",
        "# for Bayesian statistical modeling and probabilistic ML\n",
        "import pymc3 as pm\n",
        "\n",
        "# for exploratory analysis of Bayesian models\n",
        "import arviz as az\n",
        "\n",
        "# Standardize features by removing the mean and scaling to unit variance\n",
        "from sklearn.preprocessing import StandardScaler"
      ],
      "execution_count": 97,
      "outputs": []
    },
    {
      "cell_type": "code",
      "metadata": {
        "id": "6MUJdlxSPSMM"
      },
      "source": [
        "# Define the seed so that results can be reproduced\n",
        "seed = 11\n",
        "rand_state = 11\n",
        "\n",
        "# Define the color maps for plots\n",
        "color_map = plt.cm.get_cmap('RdYlBu')\n",
        "color_map_discrete = matplotlib.colors.LinearSegmentedColormap.from_list(\"\", [\"red\",\"cyan\",\"magenta\",\"blue\"])\n",
        "\n",
        "# set a grey background (use sns.set_theme() if seaborn version 0.11.0 or above) \n",
        "sns.set(style=\"darkgrid\")"
      ],
      "execution_count": 98,
      "outputs": []
    },
    {
      "cell_type": "markdown",
      "metadata": {
        "id": "WL91ShB19RPw"
      },
      "source": [
        "# DATASET"
      ]
    },
    {
      "cell_type": "markdown",
      "metadata": {
        "id": "ESg5DGKWJSOf"
      },
      "source": [
        "Extract from this [paper](https://ieeexplore.ieee.org/document/9300074):\n",
        "\n",
        "* House prices are a significant impression of the economy, and its value ranges are of great concerns for the clients and property dealers. \n",
        "\n",
        "* Housing price escalate every year that eventually reinforced the need of strategy or technique that could predict house prices in future. \n",
        "\n",
        "* There are certain factors that influence house prices including physical conditions, locations, number of bedrooms and others.\n"
      ]
    },
    {
      "cell_type": "markdown",
      "metadata": {
        "id": "a8Y2pf50FlYL"
      },
      "source": [
        "1. [Download the dataset](https://github.com/UL-ET5003/ET5003_SEM1_2021-2/tree/main/Week-3). \n",
        "\n",
        "2. Upload the dataset into your folder.\n",
        "\n"
      ]
    },
    {
      "cell_type": "markdown",
      "metadata": {
        "id": "FMkdCQEmKTof"
      },
      "source": [
        "The challenge is to predict the final price of each house."
      ]
    },
    {
      "cell_type": "markdown",
      "metadata": {
        "id": "5uXMRJFn8eu1"
      },
      "source": [
        "## Read Data "
      ]
    },
    {
      "cell_type": "code",
      "metadata": {
        "colab": {
          "base_uri": "https://localhost:8080/"
        },
        "id": "0jw3S2Yp8nwd",
        "outputId": "cca49e4b-382f-4eb8-d14d-90aa13097e5e"
      },
      "source": [
        "from google.colab import drive\n",
        "drive.mount('/content/drive')"
      ],
      "execution_count": 99,
      "outputs": [
        {
          "output_type": "stream",
          "name": "stdout",
          "text": [
            "Drive already mounted at /content/drive; to attempt to forcibly remount, call drive.mount(\"/content/drive\", force_remount=True).\n"
          ]
        }
      ]
    },
    {
      "cell_type": "code",
      "metadata": {
        "id": "kdi6L4at8zN0"
      },
      "source": [
        "# Path, copy the path from your Drive\n",
        "syntPath = '/content/drive/My Drive/Colab Notebooks/house-data/' "
      ],
      "execution_count": 100,
      "outputs": []
    },
    {
      "cell_type": "code",
      "metadata": {
        "id": "uBJZkkFp9Kme"
      },
      "source": [
        "# House Data\n",
        "house_train = syntPath + 'house_train.csv'\n",
        "house_test = syntPath + 'house_test.csv'\n",
        "true_price = syntPath + 'true_price.csv'"
      ],
      "execution_count": 101,
      "outputs": []
    },
    {
      "cell_type": "code",
      "metadata": {
        "id": "VDMWeNUfeD78"
      },
      "source": [
        "# Read datasets\n",
        "house_train = pd.read_csv(house_train)\n",
        "house_test = pd.read_csv(house_test)\n",
        "true_price = pd.read_csv(true_price)"
      ],
      "execution_count": 102,
      "outputs": []
    },
    {
      "cell_type": "markdown",
      "metadata": {
        "id": "o9ZjHEKfwk-m"
      },
      "source": [
        "## Data Examination"
      ]
    },
    {
      "cell_type": "markdown",
      "metadata": {
        "id": "UrIrNE-c2MYD"
      },
      "source": [
        "### True Price"
      ]
    },
    {
      "cell_type": "code",
      "metadata": {
        "colab": {
          "base_uri": "https://localhost:8080/",
          "height": 143
        },
        "id": "RKHgprEbvYAo",
        "outputId": "e5f49849-97b9-43ec-a3d6-b39aed5d181b"
      },
      "source": [
        "true_price.sample(3)"
      ],
      "execution_count": 103,
      "outputs": [
        {
          "output_type": "execute_result",
          "data": {
            "text/html": [
              "<div>\n",
              "<style scoped>\n",
              "    .dataframe tbody tr th:only-of-type {\n",
              "        vertical-align: middle;\n",
              "    }\n",
              "\n",
              "    .dataframe tbody tr th {\n",
              "        vertical-align: top;\n",
              "    }\n",
              "\n",
              "    .dataframe thead th {\n",
              "        text-align: right;\n",
              "    }\n",
              "</style>\n",
              "<table border=\"1\" class=\"dataframe\">\n",
              "  <thead>\n",
              "    <tr style=\"text-align: right;\">\n",
              "      <th></th>\n",
              "      <th>Id</th>\n",
              "      <th>Expected</th>\n",
              "    </tr>\n",
              "  </thead>\n",
              "  <tbody>\n",
              "    <tr>\n",
              "      <th>38</th>\n",
              "      <td>12383622</td>\n",
              "      <td>350000.0</td>\n",
              "    </tr>\n",
              "    <tr>\n",
              "      <th>253</th>\n",
              "      <td>12073715</td>\n",
              "      <td>2250000.0</td>\n",
              "    </tr>\n",
              "    <tr>\n",
              "      <th>331</th>\n",
              "      <td>12392873</td>\n",
              "      <td>595000.0</td>\n",
              "    </tr>\n",
              "  </tbody>\n",
              "</table>\n",
              "</div>"
            ],
            "text/plain": [
              "           Id   Expected\n",
              "38   12383622   350000.0\n",
              "253  12073715  2250000.0\n",
              "331  12392873   595000.0"
            ]
          },
          "metadata": {},
          "execution_count": 103
        }
      ]
    },
    {
      "cell_type": "code",
      "metadata": {
        "id": "yA2diFb_5J7F"
      },
      "source": [
        "# Rename columns in the existing DataFrame\n",
        "true_price.rename(columns={'Id': 'ad_id'}, inplace=True)"
      ],
      "execution_count": 104,
      "outputs": []
    },
    {
      "cell_type": "code",
      "metadata": {
        "colab": {
          "base_uri": "https://localhost:8080/"
        },
        "id": "hUo_3X0uvjNS",
        "outputId": "1125af6e-cbd2-49ca-f5c2-44c78b01664d"
      },
      "source": [
        "#Concise summary of the dataframe\n",
        "true_price.info()"
      ],
      "execution_count": 105,
      "outputs": [
        {
          "output_type": "stream",
          "name": "stdout",
          "text": [
            "<class 'pandas.core.frame.DataFrame'>\n",
            "RangeIndex: 500 entries, 0 to 499\n",
            "Data columns (total 2 columns):\n",
            " #   Column    Non-Null Count  Dtype  \n",
            "---  ------    --------------  -----  \n",
            " 0   ad_id     500 non-null    int64  \n",
            " 1   Expected  500 non-null    float64\n",
            "dtypes: float64(1), int64(1)\n",
            "memory usage: 7.9 KB\n"
          ]
        }
      ]
    },
    {
      "cell_type": "code",
      "metadata": {
        "colab": {
          "base_uri": "https://localhost:8080/"
        },
        "id": "-WpWKo6W2kkj",
        "outputId": "d1a882df-809b-48ad-c99a-8d79eed669f2"
      },
      "source": [
        "#Returns the dimensions of the array - Rows & Columns\n",
        "true_price.shape"
      ],
      "execution_count": 106,
      "outputs": [
        {
          "output_type": "execute_result",
          "data": {
            "text/plain": [
              "(500, 2)"
            ]
          },
          "metadata": {},
          "execution_count": 106
        }
      ]
    },
    {
      "cell_type": "markdown",
      "metadata": {
        "id": "UQs_da6V2QF4"
      },
      "source": [
        "### House Data"
      ]
    },
    {
      "cell_type": "code",
      "metadata": {
        "colab": {
          "base_uri": "https://localhost:8080/",
          "height": 302
        },
        "id": "u9YAvOqdHixx",
        "outputId": "07f333d2-8cae-4d6f-f628-f498afdaf0a3"
      },
      "source": [
        "# Print sample rows of the dataframe\n",
        "house_train.sample(3)"
      ],
      "execution_count": 107,
      "outputs": [
        {
          "output_type": "execute_result",
          "data": {
            "text/html": [
              "<div>\n",
              "<style scoped>\n",
              "    .dataframe tbody tr th:only-of-type {\n",
              "        vertical-align: middle;\n",
              "    }\n",
              "\n",
              "    .dataframe tbody tr th {\n",
              "        vertical-align: top;\n",
              "    }\n",
              "\n",
              "    .dataframe thead th {\n",
              "        text-align: right;\n",
              "    }\n",
              "</style>\n",
              "<table border=\"1\" class=\"dataframe\">\n",
              "  <thead>\n",
              "    <tr style=\"text-align: right;\">\n",
              "      <th></th>\n",
              "      <th>ad_id</th>\n",
              "      <th>area</th>\n",
              "      <th>bathrooms</th>\n",
              "      <th>beds</th>\n",
              "      <th>ber_classification</th>\n",
              "      <th>county</th>\n",
              "      <th>description_block</th>\n",
              "      <th>environment</th>\n",
              "      <th>facility</th>\n",
              "      <th>features</th>\n",
              "      <th>latitude</th>\n",
              "      <th>longitude</th>\n",
              "      <th>no_of_units</th>\n",
              "      <th>price</th>\n",
              "      <th>property_category</th>\n",
              "      <th>property_type</th>\n",
              "      <th>surface</th>\n",
              "    </tr>\n",
              "  </thead>\n",
              "  <tbody>\n",
              "    <tr>\n",
              "      <th>1734</th>\n",
              "      <td>12384805</td>\n",
              "      <td>Ballinteer</td>\n",
              "      <td>2.0</td>\n",
              "      <td>2.0</td>\n",
              "      <td>C3</td>\n",
              "      <td>Dublin</td>\n",
              "      <td>Nestled in a desirable corner position, this w...</td>\n",
              "      <td>prod</td>\n",
              "      <td>NaN</td>\n",
              "      <td>Wonderfully bright and spacious ground floor a...</td>\n",
              "      <td>53.273253</td>\n",
              "      <td>-6.257602</td>\n",
              "      <td>NaN</td>\n",
              "      <td>340000.0</td>\n",
              "      <td>sale</td>\n",
              "      <td>apartment</td>\n",
              "      <td>79.99</td>\n",
              "    </tr>\n",
              "    <tr>\n",
              "      <th>1573</th>\n",
              "      <td>12380233</td>\n",
              "      <td>Clondalkin</td>\n",
              "      <td>2.0</td>\n",
              "      <td>2.0</td>\n",
              "      <td>D2</td>\n",
              "      <td>Dublin</td>\n",
              "      <td>RAY COOKE AUCTIONEERS are delighted to present...</td>\n",
              "      <td>prod</td>\n",
              "      <td>NaN</td>\n",
              "      <td>None</td>\n",
              "      <td>53.323626</td>\n",
              "      <td>-6.423100</td>\n",
              "      <td>NaN</td>\n",
              "      <td>159000.0</td>\n",
              "      <td>sale</td>\n",
              "      <td>apartment</td>\n",
              "      <td>70.60</td>\n",
              "    </tr>\n",
              "    <tr>\n",
              "      <th>1489</th>\n",
              "      <td>12377582</td>\n",
              "      <td>Park West</td>\n",
              "      <td>2.0</td>\n",
              "      <td>2.0</td>\n",
              "      <td>C2</td>\n",
              "      <td>Dublin</td>\n",
              "      <td>REA McGEE are delighted to present this superb...</td>\n",
              "      <td>prod</td>\n",
              "      <td>NaN</td>\n",
              "      <td>Electric heating\\nDouble glazed windows\\nExcel...</td>\n",
              "      <td>53.332099</td>\n",
              "      <td>-6.376762</td>\n",
              "      <td>NaN</td>\n",
              "      <td>209950.0</td>\n",
              "      <td>sale</td>\n",
              "      <td>apartment</td>\n",
              "      <td>63.00</td>\n",
              "    </tr>\n",
              "  </tbody>\n",
              "</table>\n",
              "</div>"
            ],
            "text/plain": [
              "         ad_id        area  bathrooms  ...  property_category property_type surface\n",
              "1734  12384805  Ballinteer        2.0  ...               sale     apartment   79.99\n",
              "1573  12380233  Clondalkin        2.0  ...               sale     apartment   70.60\n",
              "1489  12377582   Park West        2.0  ...               sale     apartment   63.00\n",
              "\n",
              "[3 rows x 17 columns]"
            ]
          },
          "metadata": {},
          "execution_count": 107
        }
      ]
    },
    {
      "cell_type": "code",
      "metadata": {
        "colab": {
          "base_uri": "https://localhost:8080/",
          "height": 371
        },
        "id": "2jsiSWOhHiNU",
        "outputId": "cde4ad0e-b1be-47cd-8251-fc3a8a2eca18"
      },
      "source": [
        "# Print sample rows of the dataframe\n",
        "house_test.sample(3)"
      ],
      "execution_count": 108,
      "outputs": [
        {
          "output_type": "execute_result",
          "data": {
            "text/html": [
              "<div>\n",
              "<style scoped>\n",
              "    .dataframe tbody tr th:only-of-type {\n",
              "        vertical-align: middle;\n",
              "    }\n",
              "\n",
              "    .dataframe tbody tr th {\n",
              "        vertical-align: top;\n",
              "    }\n",
              "\n",
              "    .dataframe thead th {\n",
              "        text-align: right;\n",
              "    }\n",
              "</style>\n",
              "<table border=\"1\" class=\"dataframe\">\n",
              "  <thead>\n",
              "    <tr style=\"text-align: right;\">\n",
              "      <th></th>\n",
              "      <th>ad_id</th>\n",
              "      <th>area</th>\n",
              "      <th>bathrooms</th>\n",
              "      <th>beds</th>\n",
              "      <th>ber_classification</th>\n",
              "      <th>county</th>\n",
              "      <th>description_block</th>\n",
              "      <th>environment</th>\n",
              "      <th>facility</th>\n",
              "      <th>features</th>\n",
              "      <th>latitude</th>\n",
              "      <th>longitude</th>\n",
              "      <th>no_of_units</th>\n",
              "      <th>property_category</th>\n",
              "      <th>property_type</th>\n",
              "      <th>surface</th>\n",
              "    </tr>\n",
              "  </thead>\n",
              "  <tbody>\n",
              "    <tr>\n",
              "      <th>277</th>\n",
              "      <td>12226499</td>\n",
              "      <td>Portobello</td>\n",
              "      <td>1.0</td>\n",
              "      <td>2.0</td>\n",
              "      <td>F</td>\n",
              "      <td>Dublin</td>\n",
              "      <td>16 Bloomfield Park is a very charming and welc...</td>\n",
              "      <td>prod</td>\n",
              "      <td>NaN</td>\n",
              "      <td>Two-bed red brick semi\\nSouth facing terrace\\n...</td>\n",
              "      <td>53.330511</td>\n",
              "      <td>-6.272535</td>\n",
              "      <td>NaN</td>\n",
              "      <td>sale</td>\n",
              "      <td>semi-detached</td>\n",
              "      <td>71.0</td>\n",
              "    </tr>\n",
              "    <tr>\n",
              "      <th>231</th>\n",
              "      <td>12328201</td>\n",
              "      <td>Dalkey</td>\n",
              "      <td>2.0</td>\n",
              "      <td>3.0</td>\n",
              "      <td>C2</td>\n",
              "      <td>Dublin</td>\n",
              "      <td>DNG are delighted to launch this superb 3 bedr...</td>\n",
              "      <td>prod</td>\n",
              "      <td>Parking,Gas Fired Central Heating</td>\n",
              "      <td>Penthouse 3 bedroom Luxurious apartment \\nDoub...</td>\n",
              "      <td>53.283565</td>\n",
              "      <td>-6.104818</td>\n",
              "      <td>NaN</td>\n",
              "      <td>sale</td>\n",
              "      <td>apartment</td>\n",
              "      <td>136.0</td>\n",
              "    </tr>\n",
              "    <tr>\n",
              "      <th>238</th>\n",
              "      <td>12407573</td>\n",
              "      <td>Swords</td>\n",
              "      <td>3.0</td>\n",
              "      <td>3.0</td>\n",
              "      <td>C1</td>\n",
              "      <td>Dublin</td>\n",
              "      <td>Brophy Estates are delighted to present this s...</td>\n",
              "      <td>prod</td>\n",
              "      <td>Parking,Gas Fired Central Heating,Alarm,Wired ...</td>\n",
              "      <td>Superb 3 bedroom home\\nTriple aspect, East, So...</td>\n",
              "      <td>53.444255</td>\n",
              "      <td>-6.212952</td>\n",
              "      <td>NaN</td>\n",
              "      <td>sale</td>\n",
              "      <td>terraced</td>\n",
              "      <td>90.0</td>\n",
              "    </tr>\n",
              "  </tbody>\n",
              "</table>\n",
              "</div>"
            ],
            "text/plain": [
              "        ad_id        area  bathrooms  ...  property_category  property_type surface\n",
              "277  12226499  Portobello        1.0  ...               sale  semi-detached    71.0\n",
              "231  12328201      Dalkey        2.0  ...               sale      apartment   136.0\n",
              "238  12407573      Swords        3.0  ...               sale       terraced    90.0\n",
              "\n",
              "[3 rows x 16 columns]"
            ]
          },
          "metadata": {},
          "execution_count": 108
        }
      ]
    },
    {
      "cell_type": "code",
      "metadata": {
        "colab": {
          "base_uri": "https://localhost:8080/"
        },
        "id": "W-Ucg3kLoHP3",
        "outputId": "a8692201-81b4-4b2b-f2ba-efca08b61e32"
      },
      "source": [
        "#Returns column name\n",
        "print('Train Data Columns',house_train.columns)\n",
        "print('Test Data Columns',house_test.columns)"
      ],
      "execution_count": 109,
      "outputs": [
        {
          "output_type": "stream",
          "name": "stdout",
          "text": [
            "Train Data Columns Index(['ad_id', 'area', 'bathrooms', 'beds', 'ber_classification', 'county',\n",
            "       'description_block', 'environment', 'facility', 'features', 'latitude',\n",
            "       'longitude', 'no_of_units', 'price', 'property_category',\n",
            "       'property_type', 'surface'],\n",
            "      dtype='object')\n",
            "Test Data Columns Index(['ad_id', 'area', 'bathrooms', 'beds', 'ber_classification', 'county',\n",
            "       'description_block', 'environment', 'facility', 'features', 'latitude',\n",
            "       'longitude', 'no_of_units', 'property_category', 'property_type',\n",
            "       'surface'],\n",
            "      dtype='object')\n"
          ]
        }
      ]
    },
    {
      "cell_type": "code",
      "metadata": {
        "colab": {
          "base_uri": "https://localhost:8080/"
        },
        "id": "OV0r8iVMoRxg",
        "outputId": "41eeb731-a207-4b2d-d508-e11f896a128f"
      },
      "source": [
        "#Returns the dimensions of the array - Rows & Columns\n",
        "print('Train Data Shape',house_train.shape)\n",
        "print('Test Data Shape',house_test.shape)"
      ],
      "execution_count": 110,
      "outputs": [
        {
          "output_type": "stream",
          "name": "stdout",
          "text": [
            "Train Data Shape (2982, 17)\n",
            "Test Data Shape (500, 16)\n"
          ]
        }
      ]
    },
    {
      "cell_type": "code",
      "metadata": {
        "colab": {
          "base_uri": "https://localhost:8080/"
        },
        "id": "goelkt03nlnX",
        "outputId": "e2e09e24-c452-4b77-aaa1-44459e4f72d7"
      },
      "source": [
        "#Concise summary of the dataframe\n",
        "print('Train Data Information')\n",
        "house_train.info()"
      ],
      "execution_count": 111,
      "outputs": [
        {
          "output_type": "stream",
          "name": "stdout",
          "text": [
            "Train Data Information\n",
            "<class 'pandas.core.frame.DataFrame'>\n",
            "RangeIndex: 2982 entries, 0 to 2981\n",
            "Data columns (total 17 columns):\n",
            " #   Column              Non-Null Count  Dtype  \n",
            "---  ------              --------------  -----  \n",
            " 0   ad_id               2982 non-null   int64  \n",
            " 1   area                2982 non-null   object \n",
            " 2   bathrooms           2931 non-null   float64\n",
            " 3   beds                2931 non-null   float64\n",
            " 4   ber_classification  2305 non-null   object \n",
            " 5   county              2982 non-null   object \n",
            " 6   description_block   2982 non-null   object \n",
            " 7   environment         2982 non-null   object \n",
            " 8   facility            965 non-null    object \n",
            " 9   features            2982 non-null   object \n",
            " 10  latitude            2982 non-null   float64\n",
            " 11  longitude           2982 non-null   float64\n",
            " 12  no_of_units         59 non-null     float64\n",
            " 13  price               2892 non-null   float64\n",
            " 14  property_category   2982 non-null   object \n",
            " 15  property_type       2931 non-null   object \n",
            " 16  surface             2431 non-null   float64\n",
            "dtypes: float64(7), int64(1), object(9)\n",
            "memory usage: 396.2+ KB\n"
          ]
        }
      ]
    },
    {
      "cell_type": "code",
      "metadata": {
        "colab": {
          "base_uri": "https://localhost:8080/"
        },
        "id": "Kbf3PQI3OF16",
        "outputId": "33e9157c-7f80-4cb2-eeaa-bfd134a438f3"
      },
      "source": [
        "print('Test Data Information')\n",
        "house_test.info()"
      ],
      "execution_count": 112,
      "outputs": [
        {
          "output_type": "stream",
          "name": "stdout",
          "text": [
            "Test Data Information\n",
            "<class 'pandas.core.frame.DataFrame'>\n",
            "RangeIndex: 500 entries, 0 to 499\n",
            "Data columns (total 16 columns):\n",
            " #   Column              Non-Null Count  Dtype  \n",
            "---  ------              --------------  -----  \n",
            " 0   ad_id               500 non-null    int64  \n",
            " 1   area                500 non-null    object \n",
            " 2   bathrooms           500 non-null    float64\n",
            " 3   beds                500 non-null    float64\n",
            " 4   ber_classification  444 non-null    object \n",
            " 5   county              500 non-null    object \n",
            " 6   description_block   500 non-null    object \n",
            " 7   environment         500 non-null    object \n",
            " 8   facility            189 non-null    object \n",
            " 9   features            500 non-null    object \n",
            " 10  latitude            500 non-null    float64\n",
            " 11  longitude           500 non-null    float64\n",
            " 12  no_of_units         0 non-null      float64\n",
            " 13  property_category   500 non-null    object \n",
            " 14  property_type       500 non-null    object \n",
            " 15  surface             500 non-null    float64\n",
            "dtypes: float64(6), int64(1), object(9)\n",
            "memory usage: 62.6+ KB\n"
          ]
        }
      ]
    },
    {
      "cell_type": "code",
      "metadata": {
        "colab": {
          "base_uri": "https://localhost:8080/"
        },
        "id": "99rydwospDg1",
        "outputId": "894c014b-0d2e-4989-bfca-e40268b1c114"
      },
      "source": [
        "# Missing Values\n",
        "print('Train Data Missing Values')\n",
        "print(house_train.isna().sum())"
      ],
      "execution_count": 113,
      "outputs": [
        {
          "output_type": "stream",
          "name": "stdout",
          "text": [
            "Train Data Missing Values\n",
            "ad_id                    0\n",
            "area                     0\n",
            "bathrooms               51\n",
            "beds                    51\n",
            "ber_classification     677\n",
            "county                   0\n",
            "description_block        0\n",
            "environment              0\n",
            "facility              2017\n",
            "features                 0\n",
            "latitude                 0\n",
            "longitude                0\n",
            "no_of_units           2923\n",
            "price                   90\n",
            "property_category        0\n",
            "property_type           51\n",
            "surface                551\n",
            "dtype: int64\n"
          ]
        }
      ]
    },
    {
      "cell_type": "code",
      "metadata": {
        "colab": {
          "base_uri": "https://localhost:8080/"
        },
        "id": "Hz7qRaKXOJ8H",
        "outputId": "08e1b321-09bb-4b9b-ce35-715e57318366"
      },
      "source": [
        "print('Test Data Missing Values')\n",
        "print(house_test.isna().sum())"
      ],
      "execution_count": 114,
      "outputs": [
        {
          "output_type": "stream",
          "name": "stdout",
          "text": [
            "Test Data Missing Values\n",
            "ad_id                   0\n",
            "area                    0\n",
            "bathrooms               0\n",
            "beds                    0\n",
            "ber_classification     56\n",
            "county                  0\n",
            "description_block       0\n",
            "environment             0\n",
            "facility              311\n",
            "features                0\n",
            "latitude                0\n",
            "longitude               0\n",
            "no_of_units           500\n",
            "property_category       0\n",
            "property_type           0\n",
            "surface                 0\n",
            "dtype: int64\n"
          ]
        }
      ]
    },
    {
      "cell_type": "code",
      "metadata": {
        "colab": {
          "base_uri": "https://localhost:8080/"
        },
        "id": "1rRLlZx4nlkT",
        "outputId": "247e3f30-63b7-4fca-c3d8-8a6669253f25"
      },
      "source": [
        "#Percentage of NAN Values\n",
        "print('Train Data Percentage of NAN Values')\n",
        "print(house_train.isna().mean().round(4) * 100)"
      ],
      "execution_count": 115,
      "outputs": [
        {
          "output_type": "stream",
          "name": "stdout",
          "text": [
            "Train Data Percentage of NAN Values\n",
            "ad_id                  0.00\n",
            "area                   0.00\n",
            "bathrooms              1.71\n",
            "beds                   1.71\n",
            "ber_classification    22.70\n",
            "county                 0.00\n",
            "description_block      0.00\n",
            "environment            0.00\n",
            "facility              67.64\n",
            "features               0.00\n",
            "latitude               0.00\n",
            "longitude              0.00\n",
            "no_of_units           98.02\n",
            "price                  3.02\n",
            "property_category      0.00\n",
            "property_type          1.71\n",
            "surface               18.48\n",
            "dtype: float64\n"
          ]
        }
      ]
    },
    {
      "cell_type": "code",
      "metadata": {
        "colab": {
          "base_uri": "https://localhost:8080/"
        },
        "id": "JjHD56QDOMhr",
        "outputId": "0af48f51-3725-41c2-b070-d632186dae3a"
      },
      "source": [
        "print('Test Data Percentage of NAN Values')\n",
        "print(house_test.isna().mean().round(4) * 100)"
      ],
      "execution_count": 116,
      "outputs": [
        {
          "output_type": "stream",
          "name": "stdout",
          "text": [
            "Test Data Percentage of NAN Values\n",
            "ad_id                   0.0\n",
            "area                    0.0\n",
            "bathrooms               0.0\n",
            "beds                    0.0\n",
            "ber_classification     11.2\n",
            "county                  0.0\n",
            "description_block       0.0\n",
            "environment             0.0\n",
            "facility               62.2\n",
            "features                0.0\n",
            "latitude                0.0\n",
            "longitude               0.0\n",
            "no_of_units           100.0\n",
            "property_category       0.0\n",
            "property_type           0.0\n",
            "surface                 0.0\n",
            "dtype: float64\n"
          ]
        }
      ]
    },
    {
      "cell_type": "markdown",
      "metadata": {
        "id": "p3xQN96VwG-u"
      },
      "source": [
        "## Process and Encode the Features"
      ]
    },
    {
      "cell_type": "markdown",
      "metadata": {
        "id": "Y0bUby91o9YE"
      },
      "source": [
        "### Missing Values"
      ]
    },
    {
      "cell_type": "markdown",
      "metadata": {
        "id": "_vrIWy3LokZY"
      },
      "source": [
        "\n",
        "#### Numerical Attributes"
      ]
    },
    {
      "cell_type": "markdown",
      "metadata": {
        "id": "_q3e9AFaxXQs"
      },
      "source": [
        "Bathrooms"
      ]
    },
    {
      "cell_type": "code",
      "metadata": {
        "id": "UotbTPxvxZLj"
      },
      "source": [
        "house_train.dropna(subset=['bathrooms'], inplace=True)"
      ],
      "execution_count": 117,
      "outputs": []
    },
    {
      "cell_type": "markdown",
      "metadata": {
        "id": "bFlhU6tqy8FR"
      },
      "source": [
        "Number of Units"
      ]
    },
    {
      "cell_type": "code",
      "metadata": {
        "id": "sznoq0way8i3"
      },
      "source": [
        "house_train.drop('no_of_units', axis=1, inplace=True)\n",
        "house_test.drop('no_of_units', axis=1, inplace=True)"
      ],
      "execution_count": 118,
      "outputs": []
    },
    {
      "cell_type": "markdown",
      "metadata": {
        "id": "7APBYBIzx-e5"
      },
      "source": [
        "Price"
      ]
    },
    {
      "cell_type": "code",
      "metadata": {
        "id": "6Ohzc6nbyAJG"
      },
      "source": [
        "house_train.dropna(subset=['price'], inplace=True)"
      ],
      "execution_count": 119,
      "outputs": []
    },
    {
      "cell_type": "markdown",
      "metadata": {
        "id": "AZ5EtWVYsjWi"
      },
      "source": [
        "Surface"
      ]
    },
    {
      "cell_type": "code",
      "metadata": {
        "id": "4FDcMIUtsjvy"
      },
      "source": [
        "house_train['surface'].fillna(house_train['surface'].median(), inplace=True)"
      ],
      "execution_count": 120,
      "outputs": []
    },
    {
      "cell_type": "markdown",
      "metadata": {
        "id": "05SAL8mEpTP3"
      },
      "source": [
        "#### Categorical Attributes"
      ]
    },
    {
      "cell_type": "markdown",
      "metadata": {
        "id": "2ACIEkktuOyJ"
      },
      "source": [
        "Area"
      ]
    },
    {
      "cell_type": "code",
      "metadata": {
        "id": "uifAgY8hdlmU"
      },
      "source": [
        "house_train['area'].replace({'Temple Bar':'Dublin 1', 'IFSC':'Dublin 1', \n",
        "                            'Grand Canal Dock':'Dublin 2',\n",
        "                            'Clontarf':'Dublin 3', 'East Wall':'Dublin 3', 'North Strand':'Dublin 3', 'Fairview':'Dublin 3', 'Marino':'Dublin 3', 'Ballyboughal':'Dublin 3', \n",
        "                            'Ballsbridge':'Dublin 4', 'Donnybrook':'Dublin 4','Sandymount':'Dublin 4','Ringsend':'Dublin 4','Irishtown':'Dublin 4','Merrion':'Dublin 4',\n",
        "                            'Artane':'Dublin 5','Raheny':'Dublin 5','Kilbarrack':'Dublin 5','Edenmore':'Dublin 5','Kilmore':'Dublin 5','Donnycarney':'Dublin 5',\n",
        "                            'Rathmines':'Dublin 6','Rathgar':'Dublin 6','Ranelagh':'Dublin 6','Milltown':'Dublin 6','Dartry':'Dublin 6',\n",
        "                            'Stoneybatter':'Dublin 7','Phibsborough':'Dublin 7','Navan Road (D7)':'Dublin 7','North Circular Road':'Dublin 7','Smithfield':'Dublin 7','Ashtown':'Dublin 7','Cabra':'Dublin 7',\n",
        "                            'Kilmainham':'Dublin 8','Inchicore':'Dublin 8','Rialto':'Dublin 8','Portobello':'Dublin 8','South Circular Road':'Dublin 8','Islandbridge':'Dublin 8','The Coombe':'Dublin 8',\"Dolphin's Barn\":'Dublin 8','Christchurch':'Dublin 8',\n",
        "                            'Drumcondra':'Dublin 9','Glasnevin':'Dublin 9','Santry':'Dublin 9','Whitehall':'Dublin 9','Beaumont':'Dublin 9','Ballymun':'Dublin 9','Poppintree':'Dublin 9',\n",
        "                            'Ballyfermot':'Dublin 10','Cherry Orchard':'Dublin 10',\n",
        "                            'Finglas':'Dublin 11',\"St Margaret's\":'Dublin 11',\n",
        "                            'Walkinstown':'Dublin 12','Crumlin':'Dublin 12','Drimnagh':'Dublin 12','Bluebell':'Dublin 12','Park West':'Dublin 12','Perrystown':'Dublin 12',\n",
        "                            'Malahide':'Dublin 13','Howth':'Dublin 13','Sutton':'Dublin 13','Baldoyle':'Dublin 13','Donaghmede':'Dublin 13','Bayside':'Dublin 13','Ard Na Greine':'Dublin 13','Clongriffin':'Dublin 13','Clarehall':'Dublin 13',\n",
        "                            'Dundrum':'Dublin 14','Churchtown':'Dublin 14','Goatstown':'Dublin 14','Clonskeagh':'Dublin 14','Windy Arbour':'Dublin 14',\n",
        "                            'Carpenterstown':'Dublin 15','Castleknock':'Dublin 15','Clonsilla':'Dublin 15','Blanchardstown':'Dublin 15','Clonee':'Dublin 15','Coolmine':'Dublin 15','Hartstown':'Dublin 15','Mulhuddart':'Dublin 15','The Ward':'Dublin 15','Ongar':'Dublin 15','Tyrrelstown':'Dublin 15',\n",
        "                            'Rathfarnham':'Dublin 16','Ballinteer':'Dublin 16','Ballinascorney':'Dublin 16','Knocklyon':'Dublin 16',\n",
        "                            'Darndale':'Dublin 17','Clonshaugh':'Dublin 17','Coolock':'Dublin 17','Killester':'Dublin 17',\n",
        "                            'Deansgrange':'Dublin 18','Sandyford':'Dublin 18','Foxrock':'Dublin 18','Stepaside':'Dublin 18','Cabinteely':'Dublin 18','Carrickmines':'Dublin 18','Leopardstown':'Dublin 18','Kilternan':'Dublin 18','Shankill':'Dublin 18',\n",
        "                            'Palmerstown':'Dublin 20','Chapelizod':'Dublin 20','Lucan':'Dublin 20',\n",
        "                            'Clondalkin':'Dublin 22','Kingswood':'Dublin 22','Newcastle':'Dublin 22',\n",
        "                            'Ballymount':'Dublin 24','Kiltipper':'Dublin 24','Tallaght':'Dublin 24','Balrothery':'Dublin 24','Rathcoole':'Dublin 24','Kilnamanagh':'Dublin 24','Firhouse':'Dublin 24','Greenhills':'Dublin 24','Oldbawn':'Dublin 24','Adamstown':'Dublin 24','Saggart':'Dublin 24','Citywest':'Dublin 24','Ballycullen':'Dublin 24','Brittas':'Dublin 24',\n",
        "                            'Terenure':'Dublin 6w',\"Harold's Cross\":'Dublin 6w','Kimmage':'Dublin 6w','Templeogue':'Dublin 6w',\n",
        "                            'Donabate':'Co. Fingal','Swords':'Co. Fingal','Portmarnock':'Co. Fingal','Kinsealy':'Co. Fingal','Balgriffin':'Co. Fingal','Garristown':'Co. Fingal','Naul':'Co. Fingal','Skerries':'Co. Fingal','Rush':'Co. Fingal','Lusk':'Co. Fingal','Balbriggan':'Co. Fingal','Loughshinny':'Co. Fingal','Ballybough':'Co. Fingal',\n",
        "                            'Blackrock':'Co. Dun Laoghaire-Rathdown','Dun Laoghaire':'Co. Dun Laoghaire-Rathdown','Glenageary':'Co. Dun Laoghaire-Rathdown',\n",
        "                            'Monkstown':'Co. Dun Laoghaire-Rathdown','Booterstown':'Co. Dun Laoghaire-Rathdown','Sandycove':'Co. Dun Laoghaire-Rathdown',\n",
        "                            'Rathmichael':'Co. Dun Laoghaire-Rathdown','Mount Merrion':'Co. Dun Laoghaire-Rathdown','Ballybrack':'Co. Dun Laoghaire-Rathdown','Sallynoggin':'Co. Dun Laoghaire-Rathdown',\n",
        "                            'Kilmacud':'Co. Dun Laoghaire-Rathdown','Dalkey':'Co. Dun Laoghaire-Rathdown','Killiney':'Co. Dun Laoghaire-Rathdown','Loughlinstown':'Co. Dun Laoghaire-Rathdown',\n",
        "                            }, inplace=True)"
      ],
      "execution_count": 121,
      "outputs": []
    },
    {
      "cell_type": "code",
      "metadata": {
        "id": "UBYHR72dJ5jp"
      },
      "source": [
        "house_test['area'].replace({'Temple Bar':'Dublin 1', 'IFSC':'Dublin 1', \n",
        "                            'Grand Canal Dock':'Dublin 2',\n",
        "                            'Clontarf':'Dublin 3', 'East Wall':'Dublin 3', 'North Strand':'Dublin 3', 'Fairview':'Dublin 3', 'Marino':'Dublin 3', 'Ballyboughal':'Dublin 3', \n",
        "                            'Ballsbridge':'Dublin 4', 'Donnybrook':'Dublin 4','Sandymount':'Dublin 4','Ringsend':'Dublin 4','Irishtown':'Dublin 4','Merrion':'Dublin 4',\n",
        "                            'Artane':'Dublin 5','Raheny':'Dublin 5','Kilbarrack':'Dublin 5','Edenmore':'Dublin 5','Kilmore':'Dublin 5','Donnycarney':'Dublin 5',\n",
        "                            'Rathmines':'Dublin 6','Rathgar':'Dublin 6','Ranelagh':'Dublin 6','Milltown':'Dublin 6','Dartry':'Dublin 6',\n",
        "                            'Stoneybatter':'Dublin 7','Phibsborough':'Dublin 7','Navan Road (D7)':'Dublin 7','North Circular Road':'Dublin 7','Smithfield':'Dublin 7','Ashtown':'Dublin 7','Cabra':'Dublin 7',\n",
        "                            'Kilmainham':'Dublin 8','Inchicore':'Dublin 8','Rialto':'Dublin 8','Portobello':'Dublin 8','South Circular Road':'Dublin 8','Islandbridge':'Dublin 8','The Coombe':'Dublin 8',\"Dolphin's Barn\":'Dublin 8','Christchurch':'Dublin 8',\n",
        "                            'Drumcondra':'Dublin 9','Glasnevin':'Dublin 9','Santry':'Dublin 9','Whitehall':'Dublin 9','Beaumont':'Dublin 9','Ballymun':'Dublin 9','Poppintree':'Dublin 9',\n",
        "                            'Ballyfermot':'Dublin 10','Cherry Orchard':'Dublin 10',\n",
        "                            'Finglas':'Dublin 11',\"St Margaret's\":'Dublin 11',\n",
        "                            'Walkinstown':'Dublin 12','Crumlin':'Dublin 12','Drimnagh':'Dublin 12','Bluebell':'Dublin 12','Park West':'Dublin 12','Perrystown':'Dublin 12',\n",
        "                            'Malahide':'Dublin 13','Howth':'Dublin 13','Sutton':'Dublin 13','Baldoyle':'Dublin 13','Donaghmede':'Dublin 13','Bayside':'Dublin 13','Ard Na Greine':'Dublin 13','Clongriffin':'Dublin 13','Clarehall':'Dublin 13',\n",
        "                            'Dundrum':'Dublin 14','Churchtown':'Dublin 14','Goatstown':'Dublin 14','Clonskeagh':'Dublin 14','Windy Arbour':'Dublin 14',\n",
        "                            'Carpenterstown':'Dublin 15','Castleknock':'Dublin 15','Clonsilla':'Dublin 15','Blanchardstown':'Dublin 15','Clonee':'Dublin 15','Coolmine':'Dublin 15','Hartstown':'Dublin 15','Mulhuddart':'Dublin 15','The Ward':'Dublin 15','Ongar':'Dublin 15','Tyrrelstown':'Dublin 15',\n",
        "                            'Rathfarnham':'Dublin 16','Ballinteer':'Dublin 16','Ballinascorney':'Dublin 16','Knocklyon':'Dublin 16',\n",
        "                            'Darndale':'Dublin 17','Clonshaugh':'Dublin 17','Coolock':'Dublin 17','Killester':'Dublin 17',\n",
        "                            'Deansgrange':'Dublin 18','Sandyford':'Dublin 18','Foxrock':'Dublin 18','Stepaside':'Dublin 18','Cabinteely':'Dublin 18','Carrickmines':'Dublin 18','Leopardstown':'Dublin 18','Kilternan':'Dublin 18','Shankill':'Dublin 18',\n",
        "                            'Palmerstown':'Dublin 20','Chapelizod':'Dublin 20','Lucan':'Dublin 20',\n",
        "                            'Clondalkin':'Dublin 22','Kingswood':'Dublin 22','Newcastle':'Dublin 22',\n",
        "                            'Ballymount':'Dublin 24','Kiltipper':'Dublin 24','Tallaght':'Dublin 24','Balrothery':'Dublin 24','Rathcoole':'Dublin 24','Kilnamanagh':'Dublin 24','Firhouse':'Dublin 24','Greenhills':'Dublin 24','Oldbawn':'Dublin 24','Adamstown':'Dublin 24','Saggart':'Dublin 24','Citywest':'Dublin 24','Ballycullen':'Dublin 24','Brittas':'Dublin 24',\n",
        "                            'Terenure':'Dublin 6w',\"Harold's Cross\":'Dublin 6w','Kimmage':'Dublin 6w','Templeogue':'Dublin 6w',\n",
        "                            'Donabate':'Co. Fingal','Swords':'Co. Fingal','Portmarnock':'Co. Fingal','Kinsealy':'Co. Fingal','Balgriffin':'Co. Fingal','Garristown':'Co. Fingal','Naul':'Co. Fingal','Skerries':'Co. Fingal','Rush':'Co. Fingal','Lusk':'Co. Fingal','Balbriggan':'Co. Fingal','Loughshinny':'Co. Fingal','Ballybough':'Co. Fingal',\n",
        "                            'Blackrock':'Co. Dun Laoghaire-Rathdown','Dun Laoghaire':'Co. Dun Laoghaire-Rathdown','Glenageary':'Co. Dun Laoghaire-Rathdown',\n",
        "                            'Monkstown':'Co. Dun Laoghaire-Rathdown','Booterstown':'Co. Dun Laoghaire-Rathdown','Sandycove':'Co. Dun Laoghaire-Rathdown',\n",
        "                            'Rathmichael':'Co. Dun Laoghaire-Rathdown','Mount Merrion':'Co. Dun Laoghaire-Rathdown','Ballybrack':'Co. Dun Laoghaire-Rathdown','Sallynoggin':'Co. Dun Laoghaire-Rathdown',\n",
        "                            'Kilmacud':'Co. Dun Laoghaire-Rathdown','Dalkey':'Co. Dun Laoghaire-Rathdown','Killiney':'Co. Dun Laoghaire-Rathdown','Loughlinstown':'Co. Dun Laoghaire-Rathdown',\n",
        "                            }, inplace=True)"
      ],
      "execution_count": 122,
      "outputs": []
    },
    {
      "cell_type": "code",
      "metadata": {
        "colab": {
          "base_uri": "https://localhost:8080/"
        },
        "id": "e94xK7rwnlcx",
        "outputId": "ff66c7ad-d1bb-4fe0-d1ff-08b7198d0a38"
      },
      "source": [
        "house_train['area'].value_counts()"
      ],
      "execution_count": 123,
      "outputs": [
        {
          "output_type": "execute_result",
          "data": {
            "text/plain": [
              "Co. Fingal                    300\n",
              "Co. Dun Laoghaire-Rathdown    253\n",
              "Dublin 15                     214\n",
              "Dublin 9                      197\n",
              "Dublin 24                     179\n",
              "Dublin 13                     175\n",
              "Dublin 18                     155\n",
              "Dublin 4                      146\n",
              "Dublin 16                     128\n",
              "Dublin 8                      127\n",
              "Dublin 7                      118\n",
              "Dublin 3                       96\n",
              "Dublin 20                      96\n",
              "Dublin 11                      92\n",
              "Dublin 12                      86\n",
              "Dublin 14                      84\n",
              "Dublin 6                       80\n",
              "Dublin 6w                      78\n",
              "Dublin 22                      71\n",
              "Dublin 1                       68\n",
              "Dublin 5                       68\n",
              "Dublin 2                       39\n",
              "Dublin 17                      29\n",
              "Dublin 10                      13\n",
              "Name: area, dtype: int64"
            ]
          },
          "metadata": {},
          "execution_count": 123
        }
      ]
    },
    {
      "cell_type": "code",
      "metadata": {
        "colab": {
          "base_uri": "https://localhost:8080/"
        },
        "id": "iKNgTDoCKFip",
        "outputId": "6e86d2b2-786b-4279-da6f-2fddb764467e"
      },
      "source": [
        "house_test['area'].value_counts()"
      ],
      "execution_count": 124,
      "outputs": [
        {
          "output_type": "execute_result",
          "data": {
            "text/plain": [
              "Co. Fingal                    62\n",
              "Co. Dun Laoghaire-Rathdown    55\n",
              "Dublin 4                      36\n",
              "Dublin 15                     30\n",
              "Dublin 18                     30\n",
              "Dublin 9                      29\n",
              "Dublin 6w                     26\n",
              "Dublin 8                      25\n",
              "Dublin 3                      24\n",
              "Dublin 16                     23\n",
              "Dublin 7                      22\n",
              "Dublin 13                     21\n",
              "Dublin 6                      20\n",
              "Dublin 24                     18\n",
              "Dublin 20                     17\n",
              "Dublin 5                      17\n",
              "Dublin 12                     12\n",
              "Dublin 14                     10\n",
              "Dublin 22                      8\n",
              "Dublin 2                       5\n",
              "Dublin 1                       4\n",
              "Dublin 17                      3\n",
              "Dublin 11                      2\n",
              "Dublin 10                      1\n",
              "Name: area, dtype: int64"
            ]
          },
          "metadata": {},
          "execution_count": 124
        }
      ]
    },
    {
      "cell_type": "code",
      "metadata": {
        "id": "OaomdaV-nxRI"
      },
      "source": [
        "area_mapper = {\n",
        "          'Dublin 1': 1,                      \n",
        "          'Dublin 2': 2,\n",
        "          'Dublin 3': 3,\n",
        "          'Dublin 4': 4,\n",
        "          'Dublin 5': 5,\n",
        "          'Dublin 6': 6,                      \n",
        "          'Dublin 6w': 7,  \n",
        "          'Dublin 7': 8, \n",
        "          'Dublin 8': 9,                    \n",
        "          'Dublin 9': 10,\n",
        "          'Dublin 10': 11,\n",
        "          'Dublin 11': 12,                           \n",
        "          'Dublin 12': 13,                      \n",
        "          'Dublin 13': 14,\n",
        "          'Dublin 14': 15,                   \n",
        "          'Dublin 15': 16,\n",
        "          'Dublin 16': 17, \n",
        "          'Dublin 17': 18,     \n",
        "          'Dublin 18': 19, \n",
        "          'Dublin 20': 20,\n",
        "          'Dublin 22': 21,                    \n",
        "          'Dublin 24': 22,\n",
        "          'Co. Fingal': 23,                    \n",
        "          'Co. Dun Laoghaire-Rathdown': 24\n",
        "          }\n",
        "house_train['area'] = house_train['area'].replace(area_mapper)\n",
        "house_test['area'] = house_test['area'].replace(area_mapper)"
      ],
      "execution_count": 125,
      "outputs": []
    },
    {
      "cell_type": "markdown",
      "metadata": {
        "id": "BMT69QXmuReC"
      },
      "source": [
        "BER Classification"
      ]
    },
    {
      "cell_type": "code",
      "metadata": {
        "colab": {
          "base_uri": "https://localhost:8080/"
        },
        "id": "zc2eNUEVnlaZ",
        "outputId": "fd3ee587-d81d-43e7-c01a-78b22b0eb56b"
      },
      "source": [
        "house_train['ber_classification'].value_counts()"
      ],
      "execution_count": 126,
      "outputs": [
        {
          "output_type": "execute_result",
          "data": {
            "text/plain": [
              "D1                     283\n",
              "D2                     272\n",
              "C3                     264\n",
              "C2                     242\n",
              "C1                     211\n",
              "E1                     182\n",
              "E2                     168\n",
              "G                      164\n",
              "F                      163\n",
              "B3                     130\n",
              "B2                      73\n",
              "A3                      66\n",
              "SINo666of2006exempt     25\n",
              "A2                      24\n",
              "B1                      16\n",
              "A1                       1\n",
              "Name: ber_classification, dtype: int64"
            ]
          },
          "metadata": {},
          "execution_count": 126
        }
      ]
    },
    {
      "cell_type": "code",
      "metadata": {
        "id": "WRcthiaRv6cm"
      },
      "source": [
        "ber_classification_mapper = {\n",
        "    \"A1\": 1,\n",
        "    \"A2\": 2,\n",
        "    \"A3\": 3,\n",
        "    \"B1\": 4,\n",
        "    \"B2\": 5,\n",
        "    \"B3\": 6,\n",
        "    \"C1\": 7,\n",
        "    \"C2\": 8,\n",
        "    \"C3\": 9,\n",
        "    \"D1\": 10,\n",
        "    \"D2\": 11,\n",
        "    \"E1\": 12,\n",
        "    \"E2\": 13,\n",
        "    \"F\": 14,\n",
        "    \"G\": 15,\n",
        "    \"SINo666of2006exempt\": 16,\n",
        "}\n",
        "house_train['ber_classification'] = house_train['ber_classification'].replace(ber_classification_mapper)\n",
        "house_test['ber_classification'] = house_test['ber_classification'].replace(ber_classification_mapper)"
      ],
      "execution_count": 127,
      "outputs": []
    },
    {
      "cell_type": "code",
      "metadata": {
        "id": "AjP7askMsPBL"
      },
      "source": [
        "house_train['ber_classification'].fillna(house_train['ber_classification'].median(), inplace=True)\n",
        "house_test['ber_classification'].fillna(house_test['ber_classification'].median(), inplace=True)"
      ],
      "execution_count": 128,
      "outputs": []
    },
    {
      "cell_type": "markdown",
      "metadata": {
        "id": "m8VQF__yuVBt"
      },
      "source": [
        "County"
      ]
    },
    {
      "cell_type": "code",
      "metadata": {
        "colab": {
          "base_uri": "https://localhost:8080/"
        },
        "id": "R1icn97fnlXe",
        "outputId": "813bf093-d0e1-41a8-e43a-94e62f42be16"
      },
      "source": [
        "house_train['county'].value_counts()"
      ],
      "execution_count": 129,
      "outputs": [
        {
          "output_type": "execute_result",
          "data": {
            "text/plain": [
              "Dublin    2892\n",
              "Name: county, dtype: int64"
            ]
          },
          "metadata": {},
          "execution_count": 129
        }
      ]
    },
    {
      "cell_type": "code",
      "metadata": {
        "id": "6C-12NVrml31"
      },
      "source": [
        "house_train.drop('county', axis=1, inplace=True)\n",
        "house_test.drop('county', axis=1, inplace=True)"
      ],
      "execution_count": 130,
      "outputs": []
    },
    {
      "cell_type": "markdown",
      "metadata": {
        "id": "XsY9RMX5uXD7"
      },
      "source": [
        "Description Block"
      ]
    },
    {
      "cell_type": "code",
      "metadata": {
        "colab": {
          "base_uri": "https://localhost:8080/"
        },
        "id": "RY3Dp_DKnlUY",
        "outputId": "81749af6-32c7-4d4e-cba8-8476ef29ff25"
      },
      "source": [
        "house_train['description_block'].value_counts()"
      ],
      "execution_count": 131,
      "outputs": [
        {
          "output_type": "execute_result",
          "data": {
            "text/plain": [
              "Location\\r\\nThe property is situated at the northern end of Heronford Lane just off Ballycorus Road. The wood and grasslands to the north, and offset to the west will make up Ticknick park as part of the Cherrywood Development, due for completion in 2021. In terms of access and transportation, the site benefits from excellent communication links, including; Cherrywood Luas Stop, approx.1.4km east of the property, The M50 Motorway approx. 500m east, together with Shankill DART Station some 3.5km (approx. 10 minute drive) to the east. A range of amenities are provided in nearby Carrickmines, Shankill, Sandyford, and Cherrywood.\\n\\r\\nDescription\\r\\nThe main property comprises a detached five bedroom house in need of complete renovation. The property extends to approximately 236.11 sq. m (2,541 sq. ft), and is currently arranged to provide open plan living accommodation and three bedrooms to first floor, with two large bedsitting type rooms to the ground floor. There are to further structures to the rear of the site. The site and house are elevated, and benefits from clear sea views to the east. The entire site extends to approximately 0.45 hectares (1.1 acres).\\n\\r\\nZoning\\r\\nUnder the Dun Laoghaire-Rathdown County Development Plan 2016 €                                                                                                                                                                                                                                                                                                                                                                                                                                                                                                                                                                                                                                                                                                                                                                                                                                                                                                                                                                                                                                                                                                                                                                                                                                                                                                                                                                                                                                                                                                                                                                                                                                                                                                                                                                                                                                                                                                                                                                                                                                                                                                                                                                                                                                                                                                                                                                                                                                                                                                                                                                                                             2\n",
              "Sycamore Grove is a small development of 14 houses on Grove Road, in one of the most popular residential locations in Dublin. The houses are large ranging in size from 130 sq.m - 135 sq.m (1,399 sq.ft - 1,453 sq.ft).\\n\\r\\nThese distinctively designed houses feature tasteful brick facades and generous rear gardens. Built by Treverbyn Properties Ltd, each home is finished to the very highest standard with an excellent specification inside and out.\\n\\r\\nGlasnevin has a long and interesting history. Saint Mobhi established a monastery there in the sixth century. The National Botanical Gardens, with its beautiful curvilinear glasshouses, was laid out by botanist Dr. Walter Wade in 1795.\\n\\r\\nGlasnevin is the last resting place of many famous patriots and poets such as Daniel O' Connell Charles Stewart Parnell, Eamon de Valera and Luke Kelly. The stone walls and turrets of the cemetery dominate the pretty squares around the old entrance. \\n\\r\\nLandmarks and institutions include Dublin City University (DCU), the 7.5 acre Griffith Park and the pyramid shaped Met Eireann office.\\n\\r\\nThere are excellent transport links, primary and secondary schools, the University, shops, hotels, restaurants, cafes, sports clubs, leisure facilities, and parks. There is a bus stop located within minutes of the property whilst the M50 is only a 5 minute drive from the site location.\\n\\r\\n- Dublin Airport is only a 15 minute drive away.\\r\\n- Bus Stop within close proximity of the site.\\r\\n- Airport - 15 minute drive via the old airport road.\\r\\n- M50 - 5 minute drive.                                                                                                                                                                                                                                                                                                                                                                                                                                                                                                                                                                                                                                                                                                                                                                                                                                                                                                                                                                                                                                                                                                                                                                                                                                                                                                                                                                                                                                                                                                                                                                                                                                                                                                                                                                                                                                                                                                                                                                                                                                                                                                                                                                                                                                                                                      2\n",
              "O'Connor Estate Agents are honoured to present No.19 Fairways Park to the market, a traditional red brick 4 bedroom semi detached residence which is presented in walk in condition with the added benefit of a west facing rear garden. This substantial property is sure to appeal to prospective families in search of a modern home strategically located in a mature well cared for residential estate.\\n\\r\\nUpon entering the estate you are greeted with tastefully designed pillars offering both pedestrian &amp; vehicular access off Griffith Road which is adjacent the renowned 12.75 hectare Johnstown Park. Prospective buyers will be instantly impressed as the property overlooks a large open space from the front which is finished with a cobble lock driveway complimented with a grass verge.\\n\\r\\nThe downstairs of the property briefly comprises a large living area with French double doors that access a separate dining &amp; kitchen area flooded with natural light that boasts sleek high gloss cream kitchen units with breakfast bar. The downstairs accommodation is completed with a downstairs WC and utility room off the hallway. The upstairs of the property briefly comprises the master bedroom with ensuite, 2 x double bedrooms, 1 x single bedroom and bathroom. This residence also presents a maintenance free paved back garden that boasts a large purpose built shed.\\n\\r\\nAccommodation:\\r\\nLiving Area: c.5.62m x c.3.62m with solid oak wooden floors, large bay window, marble fireplace with granite finish. This room also has coving throughout and cornice centrepiece.\\n\\r\\nKitchen Area: c.5.00m x c.2.63m with floor tiling, high gloss cream kitchen units with breakfast bar and an abundance of natural light.\\n\\r\\nDining Area: c.3.78m x c.2.79m with solid oak wooden floors and access to Living Area via French double doors.\\n\\r\\nUtility: c.1.13m x c.96m with window provided.\\n\\r\\nDownstairs WC: c.1.81m x c.75m with fully tiled floors &amp; walls, wc and whb.\\n\\r\\nBack Garden: West Facing tastefully paved with large purpose built shed.\\n\\r\\nMaster Bedroom: c. 4.10m x c.3.24m with laminate floors, full length built in wardrobes and bay window.\\n\\r\\nEnsuite: c.1.65m x c.1.53m with floor &amp; wall tiling, heated towel rail, electric shower, whb and wc. A velux window is also provided.\\n\\r\\nBedroom 2: c.3.24m x c.2.23m with laminate floor and wardrobe.\\n\\r\\nBedroom 3: c.3.53m x c.2.78m with laminate floor and wardrobe. .\\n\\r\\nBedroom 4: c.2.73m x c.2.51m with laminate floor and wardrobe..\\n\\r\\nBathroom: c.2.24m x c.1.65m with large shower, heated towel rail, whb, wc and feature timber ceiling.\\n\\r\\n**TRANSPORT** This property has the convenience of the M50 &amp; M1 within close proximity which opens up the convenience of the entire county &amp; country. There are numerous bus routes located nearby most notably on Griffith Road with excellent transport links to Dublin City Centre. Dublin Airport is also within close proximity.\\n\\r\\n**AMENITIES** Johnstown Park a renowned 12.75 hectare park is literally on the doorstep of this property which boasts mature planting and tree lined walks to include tennis courts, playing pitches for soccer &amp; GAA and a playground to mention a few. There is a wide array of shops, bars &amp; restaurants which are all within striking distance located in Glasnevin &amp; Finglas. The Mater, Rotunda, Temple Street and The Bons Secours Hospital are located within close proximity and there are educational facilities in abundance such as St. Kevins not to mention DCU which is located nearby. \\n\\r\\nViewing of this property is a must.\\n\\r\\nPLANS PROVIDED ARE FOR ILLUSTRATION PURPOSES ONLY                                                                                                                       2\n",
              "Welcome to the lovely Carrick Lodge, a four bedroom detached home in the heart of Foxrock Village. Built by the current owner in 1995 and styled after a Canadian design, it is hard not to appreciate its attractive appearance. Generous living space ensues and a selection of reception rooms are available for all occasions. A large open plan kitchen with utility off and family room with multi-fuel stove are at the hub of the house with a separate conservatory to the rear. An additional substantial living room with oak flooring and gas fire is situated to the front. On ground floor also is the master bedroom with ensuite bathroom and dressing room. Upstairs there are three double bedrooms, shower room and a large attic room which the current owners in the past used a kids den but more recently as a storage room.\\n\\r\\nThe property has excellent curb appeal and boasts an attractive red brick finish. For those who enjoy privacy it sits behind gates and is surrounded by mature trees, ensuring a minimal amount of onlookers. To the front the tarmacadam driveway offers off street parking for multiple cars while to the rear the west facing back garden benefits from sun all afternoon and evening. \\n\\r\\nThere is also scope to further enlarge the house to the side and rear should more space be required (subject to planning permission). \\n\\r\\nTorquay Road needs no introduction as one of the finest roads in Foxrock and is home to a collection of stunning properties. Carrick Lodge ideally is situated right in the heart of Foxrock Village and is no more than 3 minutes walk to the crossroads with its bijou shops and eateries. Nearby amenities include Foxrock Golf Club, Leopardstown Racecourse and Golf Centre, Westwood Fitness Club, Carrickmines Tennis Club, Cornelscourt and Carrickmines shopping centres. The beautiful expanse of Cabinteely Park, with its wildflower meadows and adventure playground, is also close by. \\n\\r\\nThere is a wide choice of Primary and Secondary schools nearby including the well reputed St Brigid's boys and St Brigid's girls primary schools with a wealth of choice for Secondary schools including Loreto Foxrock, Blackrock College, St. Michaels and St. Andrews College, CBC Monkstown and Mount Anville to name but a few.  UCD and Smurfit Business School are also within an easy commute. Transport links are convenient with close access to the M50, the N11 with QBC; Carrickmines LUAS station also in the vicinity.\\n\\r\\nViewing of this excellent property is strongly recommended!\\n\\n\\r\\nFEATURES\\r\\nApprox. 213sqm/ 2,295 sq.ft (plus attic room)\\r\\n4 bed detached \\r\\n3 reception rooms\\r\\nWest facing garden that is not overlooked\\r\\nGas fired central heating\\r\\nAmple off street parking\\r\\nFoxrock Village 3 mins walk M50 &amp; N11 5 mins drive\\r\\nNumerous amenities walking distance\\r\\nExcellent schools in the locality\\n\\n\\r\\nACCOMMODATION\\r\\nHallway - Bright entrance hall with access to:\\r\\nKitchen: Fully fitted units with vaulted ceiling, tiled floor. Access to garden.\\r\\nUtility Room: Plumbed for washing machine, generous storage.\\r\\nFamily Room: Adjoining kitchen, feature stove, wood flooring, access to garden. \\r\\nConservatory: To rear, tiled flooring.\\r\\nLiving Room: Feature gas fire place, oak flooring.\\r\\nGuest W.C.: W.C., whb. \\r\\nCloak Room: Useful storage. \\r\\nMaster Bedroom: Double bedroom to front. \\r\\nWalk in Wardrobe: Selection of rails and shelved storage.\\r\\nEn-suite: Freestanding bath, shower cubicle, W.C., whb. \\r\\nUpstairs \\r\\nLanding \\r\\nBedroom 2 - Double to front.\\r\\nBedroom 3 - Double to rear.\\r\\nBedroom 4 - Double to rear. \\r\\nAttic/ Storage Room : 10sqm./ 107 sq.ft. Velux window. \\r\\nHotpress: Hot water cylinder, shelved storage. \\r\\nBathroom: Double shower cubicle, W.C., whb.    1\n",
              "Renvyle is a stunning example of modern design, enjoying all the luxury and benefits of a C1 energy rated home yet exuding the charm and character of an old world and very impressive period style home.  The high specification design is very much in keeping with a period property including a double fronted façade, inviting open marble fireplaces, timber sash windows with working shutters and impressive floor to ceiling heights of up to 3.24m to the main reception areas and kitchen/dining room.  The finish feels luxurious throughout with no expense spared on top-of-the range fixtures and fittings.\\n\\r\\nThe accommodation is laid out over two floors extending to approximately 656 sq.m (7,061 sq.ft) of tastefully appointed versatile accommodation. The property is currently sub divided between a four bedroomed family residence and a separate self-contained two bedroomed property, however the original design of a five/six bedroomed family home could be reinstated with minimum disruption.  In brief the accommodation of the main residence comprises an impressive entrance hallway, drawing room, kitchen/dining room, utility room, guest cloakroom, master suite with spacious bedroom, two walk-in wardrobes, en suite bathroom and a large study. There is a feature curved hallway off which are three further double bedrooms (two of which are en suite) which completes the accommodation of the main residence.  The self-contained two bedroomed property includes a large livingroom, kitchen/diningroom, utility room, guest cloakroom and study with both bedrooms positioned off a curved hallway with en suite bathrooms.\\n\\r\\nThe 0.8 acres of grounds are equally impressive with lush lawns, mature planting and wonderfully large patio areas positioned to take full advantage of the south-westerly aspect.  Renvyle has secure automatic gates leading to a gravel driveway and parking for several cars.  Viewing of this impressive and truly unique property is highly recommended.                                                                                                                                                                                                                                                                                                                                                                                                                                                                                                                                                                                                                                                                                                                                                                                                                                                                                                                                                                                                                                                                                                                                                                                                                                                                                                                                                                                                                                                                                                                                                                                                                                                                                                                                                                                                                                                            1\n",
              "                                                                                                                                                                                                                                                                                                                                                                                                                                                                                                                                                                                                                                                                                                                                                                                                                                                                                                                                                                                                                                                                                                                                                                                                                                                                                                                                                                                                                                                                                                                                                                                                                                                                                                                                                                                                                                                                                                                                                                                                                                                                                                                                                                                                                                                                                                                                                                                                                                                                                                                                                                                                                                                                                                                                                                                                                                                                                                                                                                                                                                                                                                                                                                                                                                                                                                                                                                                                                                                                                                                                                                                                                                                                                                                                                                                                                                                                                                                   ..\n",
              "DNG McKenna Healy are delighted to present to the market this beautiful four bedroom detached home with private mature gardens.  Located in the quiet area of Healy's Lane, this house is sure to appeal to a growing family with its spacious accommodation and seaside location. \\n\\r\\nAccommodation throughout the house is generously proportioned and briefly comprises of spacious open hall, guest WC, utility, family home, living room, Kitchen cum dining room, four bedrooms, master en-suite and family bathroom.  The house is well positioned within the site providing excellent front and back gardens.  The rear garden is an oasis of calm and peace with it's large lawn, bright decking area, mature shrubbery and with it's sunny South West aspect perfect for al fresco dining.  There is a spacious block built games room located at the rear of the garden offering plenty of alternative uses.\\n\\r\\nRush is a quaint seaside village convenient to Skerries and Lusk and within easy commuting distance of Dublin Airport and the City Centre. It offers an excellent choice of schools, shops, restaurants, pubs and beaches, with The Mill Bank Theatre easily accessible from the house. There is an excellent bus service which offers regular and frequent access to and from the City &amp; its surrounds while the train station is a 3 minute drive.\\r\\nViewing is highly recommended.\\n\\r\\nAccommodation \\r\\nGround Floor\\n\\r\\nEntrance Hall\\r\\nPorcelain tiled floor, spacious area, recessed lights, smoke alarm\\n\\r\\nLiving Room\\r\\nWood floor, recessed lights, TV point, feature open fire place, double doors to.\\n\\r\\nDining room/kitchen\\r\\nPorcelain tiled floor, French doors to rear garden, built in units, tiled splash back, recessed lights, breakfast bar, fully fitted kitchen with wall and floor mounted units, integrated dishwasher, oven and hob \\n\\r\\nUtility\\r\\nPart tiled walls, door to side garden, plumbed for washing machine and drier, built in storage units\\n\\r\\nFamily room\\r\\nPorcelain tiled floor, French door to garden, vaulted ceiling, recessed lights, TV point, phone point\\n\\r\\nGuest WC\\r\\nFully tiled walls and floor, WC, WHB, fan\\n\\r\\nBedroom 4  \\r\\nWood floor, recessed light, TV point \\n\\r\\nFirst Floor\\n\\r\\nLanding\\r\\nCarpet to floor, hot press, recessed lights, stira to attic\\n\\r\\nBedroom 1\\r\\nCarpet to floor, large double room, recessed lights, TV point, phone point\\n\\r\\nBedroom 2 \\r\\nCarpet to floor, spacious double room, recessed lights, TV point, overlooking rear garden\\n\\r\\nBathroom\\r\\nFully tiled walls and floor, WC, WHB, large Jacuzzi bath, separate double shower unit, recessed lights, wired for TV, Velux window\\n\\r\\nMaster Bedroom\\r\\nSpacious suite, recessed lights, TV &amp; phone point\\n\\r\\nEn suite\\r\\nTiled walls and floor, WC, double WHB vanity unit, recessed lights, shower unit with Triton electric shower \\n\\r\\nWalk in wardrobe \\r\\nLarge area with built in storage, shelving and hanging units\\n\\r\\nOutside\\n\\r\\nRear Garden\\r\\nMainly in Lawn, two side entrances, decking area, large block built shed / games room, outside electric sockets \\n\\r\\nFront Garden\\r\\nLawn area, large driveway, off street parking, wide side entrance providing vehicle access to the rear                                                                                                                                                                                                                                                                                                                                                                                                                                                                                                                                                                                          1\n",
              "To register a bid on this property, please visit coonanlive.com\\n\\n€¢\\tLuxurious 5 Bed detached home extending to c.2690\\n€¢\\tIncludes 4 large double bedrooms, with two ensuites and a stunning 2nd floor master suite. \\n€¢\\tBeautifully appointed home throughout\\n€¢\\tRooms and space to suit any need such as home office, playroom or extra bedroom for a child minder. \\n€¢\\tLaraghcon is a renowned, Shannon Homes development which is ideally located just a short walk into Lucan village and just minutes from the M4, M50 and the Phoenix Park. \\n\\n\\n\\nAccommodation:\\n\\nEntrance Hallway\\n6.35m x 1.4m/ 2.4m x 2.1m\\nSolid oak floor, radiator cover, light fitting.\\n\\nGuest Toilet\\n1.75m x 1.24m\\nFully tiled, w.c &amp; w.h.b., light fitting\\n\\nSitting Room\\n4.13m x 6.4m\\nCarpet, coving, light fitting, bay window, roller blind, curtains, sandstone fireplace with gas inset, TV point, double doors leading to dining area.\\n\\nStudy \\n3.1m x 4.29m\\nSolid oak flooring, coving, light fitting, TV point, fitted units, roller blind, curtains.\\n\\nDining Room\\n3.8m x 4.57m\\nSolid oak flooring, coving, light fitting, archway leading to kitchen and sunroom, double door leading to sitting room.\\n\\nPlayroom (currently laid out as 2nd Kitchen)\\n9.3m x 2.83m\\nLaminate wood flooring, recessed light, Velux windows, double doors to front and back.\\n\\nSunroom\\n3.86m x 4.3m\\nCeramic tiles, double door to garden, roman blinds, light fitting, archway leading to kitchen area.\\n\\nKitchen \\n4.46m x 5.45m max (including utility)\\nCream white gloss wall &amp; floor units, kitchen island with storage, granite worktop with tiled splashback, 5 ring gas hob, double oven, microwave, dishwasher, fridge freezer, recessed lights, Velux windows and roman blinds.\\n\\nUtility room €\" ceramic tiles, plumbed, gas boiler, storage cupboards, door to the back, light fitting.\\n\\nLanding\\n3.64m x 1.92m\\nCarpet, hotpress and light fitting.\\n\\nBedroom 2\\n4.0m x 4.26\\nLaminate wood floor, blind, curtains, fitted wardrobes, light fitting.\\n\\nEnsuite\\n1.54m x 2.8m\\nFully tiled, w.c &amp; w.h.b, shower, light fitting, fitted mirror with shaving light.\\n\\nBedroom 3\\n4.11m x 3.35\\nLaminate wood floor, blind, curtains, fitted wardrobes, light fitting, bay window, TV point.\\n\\nBedroom 4\\n3.73m x 3.75.\\nLaminate wood floor, blind, curtains, fitted wardrobes, light fitting.\\n\\nBedroom 5\\n2.21m x 3.27m\\nLaminate wood floor, curtains, fitted wardrobes, light fitting, and storage units.\\n\\nBathroom\\n2.24m x 2.55m\\nFully tiled, wet room with monsoon shower, w.c &amp; w.h.b. towel rail, fitted vanity unit with mirror and shaving lights, integrated toiletries shelf, integrated wall storage, recessed lights.\\n\\n2nd Floor\\n\\nMaster bedroom \\n5.9m x 5.92\\nCarpet, recessed lights, light fitting, walk in wardrobe with fitted storage and shelves and light fitting. Velux windows, curtains and blinds.\\n\\nEnsuite\\n3.16m x 2.66m max \\nFully tiled, w.c. &amp; w.h.b., shower, light fitting.\\n\\n\\nAdditional Information:\\nApprox. internal area: c.2700 sq ft\\nMaintenance free red brick and dashed exterior\\nPVC facia and soffit\\nMature plant and trees\\nCoblelock front driveway\\nRear garden fully decked\\nCovered area to the side of the property off the utility room\\nSteel shed\\n\\nGarden Room/Office \\n5.82m x 3.15m\\nFully insulated, power supply, blinds, light fitting.\\n\\n\\nItems Included in sale:\\nCurtains, blinds, hob, oven, fridge- freezer, extractor fan, microwave, dishwasher, some light fittings.\\n\\n\\nServices\\nMains water\\nMains sewage\\nGas fired heating\\nOutside electricity supply                                                                                                                                                                                                                  1\n",
              "Joint agents Murphy Mullan and Bohan Hyland are delighted to offer for sale this stunning 4 bed semi detached property in the highly popular estate of Belgard heights. Boasting bright and spacious accommodation this property gives a fantastic opportunity to purchase a property that offer's lots of extra's including, a large sunroom, utiltiy shed and a jacuzzi hot tub.\\n\\nThe accommodation briefly comprise of an entrance hallway with Wc, main sitting room, Kitchen/Breakfastroom with familyroom , double doors to a supberb Sunroom with recessed lighting. Upstairs you have four good size bedrooms and a family bathroom which is fully tiled &amp; power shower. There's large attic space that put to the right use can add an extra dimension to this house.\\n\\nLocation on this property is excellent as the property is surrounded by all local amenities including schools both primary and secondary Tallaght Hospital, Lidl Shopping Complex, The Square shopping complex and the red line luas are all just a 2 minute walk away. The M50 N81 &amp; M7 are also on your doorstep.\\n\\nViewing is by appointment only.\\nAsking Price €365,000\\nTotal Sq Ft 1550 approx                                                                                                                                                                                                                                                                                                                                                                                                                                                                                                                                                                                                                                                                                                                                                                                                                                                                                                                                                                                                                                                                                                                                                                                                                                                                                                                                                                                                                                                                                                                                                                                                                                                                                                                                                                                                                                                                                                                                                                                                                                                                                                                                                                                                                                                                                                                                                                                                                                                                                                                                                                                                                                                                                                                  1\n",
              "David Ross Estate Agents your local property experts are delighted to present 12 Wainsfort Crescent, a three bedroom semi-detached home located on a most sought after tree-lined road and presented in good condition throughout. \\nThis property has been lovingly maintained by its current owners with a large rear garden and a garage to the side this property provides excellent potential to extend, subject to planning. 12 Wainsfort Crescent benefits from a large driveway to the front for ample parking\\nThe accommodation comprises of an entrance hallway, spacious living room with feature fireplace and sliding doors into a large dining area with an open plan layout leading to the kitchen, the smallest of the bedrooms is also located on the ground floor to the front of the property.\\nUpstairs you will find two very spacious double bedrooms and a family bathroom.\\nOutside to the rear is a large sunny and private garden with pedestrian side access leading to the front of the property where there is ample parking. Excellent location within walking distance of a selection of well established primary and secondary schools such as Our Lady's School, Terenure College and St Pius X junior schools.\\n Recreational and shopping facilities are excellent with Bushy Park and all the amenities of Terenure and Templeogue villages close by. A selection of bus services provides easy access to the city centre and the property also enjoys the added bonus of easy access to the M50 motorway network. Local shops &amp; cafés are within walking distance.                                                                                                                                                                                                                                                                                                                                                                                                                                                                                                                                                                                                                                                                                                                                                                                                                                                                                                                                                                                                                                                                                                                                                                                                                                                                                                                                                                                                                                                                                                                                                                                                                                                                                                                                                                                                                                                                                                                                                                                                                                                                                                                                                                                                                                                                                                        1\n",
              "A highly desirable and much sought after light filled dual aspect apartment, positioned on the ground floor of Block D in Salthill with west facing gable windows.\\n\\n\\rA landmark development by renowned Cosgrave developers, situated in the heart of Monkstown enjoying spacious accommodation extending to approximately 100sq.m (1,075sq.ft) with wonderfully landscaped gardens and a stunning vista across Dublin Bay to Howth. Constructed circa 1991, Salthill is a very highly regarded development with stunning, well maintained grounds that are securely positioned behind electric gates adjacent to Salthill/ Monkstown DART station.\\n\\n\\rApartments in Block D are the most sought after and rarely come to the market. They are renowned for providing generously proportioned accommodation with stunning views in a secure environment within walking distance of the excellent amenities within Monkstown village &amp; Dun Laoghaire Town Centre.\\n\\n\\rThough the apartment has been very well maintained throughout, the purchaser may like to upgrade and modernise the property to their own taste and flair. The large balcony and terrace front and back are a particular feature of this quality apartment, with the balcony from the sitting room looking directly across Dublin Bay to Howth and the terrace off the dining room is ideal for al fresco dining and benefits from a sunny southerly orientation whilst overlooking the manicured grounds.\\n\\n\\rThe location could not be more convenient being within a short walk of both Monkstown and Dun Laoghaire with their selection of excellent specialist shops, restaurants, pubs, shopping centres, the IMC cinema, schools and churches. There are also excellent recreational amenities in the immediate area including the marine facilities at Dun Laoghaire harbour with its two piers, four yacht clubs and extensive marina, as well as the popular coastal walks, just to name a couple. Salthill/ Monkstown DART station at the entrance provides easy access to and from the city centre.                                                                                                                                                                                                                                                                                                                                                                                                                                                                                                                                                                                                                                                                                                                                                                                                                                                                                                                                                                                                                                                                                                                                                                                                                                                                                                                                                                                                                                                                                                                                                                                                                                                                                                                                                                                                                      1\n",
              "Name: description_block, Length: 2889, dtype: int64"
            ]
          },
          "metadata": {},
          "execution_count": 131
        }
      ]
    },
    {
      "cell_type": "code",
      "metadata": {
        "id": "aSUitzFUuano"
      },
      "source": [
        "house_train.drop('description_block', axis=1, inplace=True)\n",
        "house_test.drop('description_block', axis=1, inplace=True)"
      ],
      "execution_count": 132,
      "outputs": []
    },
    {
      "cell_type": "markdown",
      "metadata": {
        "id": "SbwIPgjbutsR"
      },
      "source": [
        "Environment"
      ]
    },
    {
      "cell_type": "code",
      "metadata": {
        "colab": {
          "base_uri": "https://localhost:8080/"
        },
        "id": "LjbL53RsnlOZ",
        "outputId": "d7137b45-7943-4636-bcc4-561497e98ff3"
      },
      "source": [
        "house_train['environment'].value_counts()"
      ],
      "execution_count": 133,
      "outputs": [
        {
          "output_type": "execute_result",
          "data": {
            "text/plain": [
              "prod    2892\n",
              "Name: environment, dtype: int64"
            ]
          },
          "metadata": {},
          "execution_count": 133
        }
      ]
    },
    {
      "cell_type": "code",
      "metadata": {
        "id": "zpYQpQ-tmh1O"
      },
      "source": [
        "house_train.drop('environment', axis=1, inplace=True)\n",
        "house_test.drop('environment', axis=1, inplace=True)"
      ],
      "execution_count": 134,
      "outputs": []
    },
    {
      "cell_type": "markdown",
      "metadata": {
        "id": "CcyD8oCtuyru"
      },
      "source": [
        "Facility"
      ]
    },
    {
      "cell_type": "code",
      "metadata": {
        "colab": {
          "base_uri": "https://localhost:8080/"
        },
        "id": "YoUdxkCqnlAh",
        "outputId": "0185ee04-50b4-4bee-a6a7-62fee3014971"
      },
      "source": [
        "house_train['facility'].value_counts()"
      ],
      "execution_count": 135,
      "outputs": [
        {
          "output_type": "execute_result",
          "data": {
            "text/plain": [
              "Parking,Gas Fired Central Heating                                                               184\n",
              "Parking                                                                                         133\n",
              "Parking,Gas Fired Central Heating,Wired for Cable Television                                    116\n",
              "Parking,Gas Fired Central Heating,Alarm,Wired for Cable Television                              109\n",
              "Parking,Gas Fired Central Heating,Alarm                                                          87\n",
              "Parking,Wired for Cable Television                                                               51\n",
              "Gas Fired Central Heating                                                                        46\n",
              "Parking,Alarm                                                                                    26\n",
              "Parking,Oil Fired Central Heating                                                                24\n",
              "Parking,Gas Fired Central Heating,Alarm,Wired for Cable Television,Wheelchair Access             18\n",
              "Parking,Wired for Cable Television,Oil Fired Central Heating                                     16\n",
              "Parking,Alarm,Wired for Cable Television                                                         13\n",
              "Wired for Cable Television                                                                       12\n",
              "Parking,Alarm,Wired for Cable Television,Oil Fired Central Heating                               12\n",
              "Gas Fired Central Heating,Wired for Cable Television                                             12\n",
              "Gas Fired Central Heating,Alarm,Wired for Cable Television                                       12\n",
              "Parking,Gas Fired Central Heating,Wired for Cable Television,Wheelchair Access                   10\n",
              "Parking,Alarm,Oil Fired Central Heating                                                          10\n",
              "Gas Fired Central Heating,Alarm                                                                   9\n",
              "Parking,Wired for Cable Television,Wheelchair Access                                              7\n",
              "Alarm                                                                                             7\n",
              "Parking,Gas Fired Central Heating,Alarm,Wheelchair Access                                         6\n",
              "Parking,Gas Fired Central Heating,Wheelchair Access                                               6\n",
              "Alarm,Wired for Cable Television                                                                  5\n",
              "Oil Fired Central Heating                                                                         4\n",
              "Parking,Alarm,Wired for Cable Television,Wheelchair Access                                        4\n",
              "Parking,Wheelchair Access                                                                         2\n",
              "Alarm,Oil Fired Central Heating                                                                   2\n",
              "Parking,Wired for Cable Television,Wheelchair Access,Oil Fired Central Heating                    2\n",
              "Parking,Alarm,Wired for Cable Television,Wheelchair Access,Oil Fired Central Heating              1\n",
              "Wheelchair Access                                                                                 1\n",
              "Parking,Wheelchair Access,Oil Fired Central Heating                                               1\n",
              "Gas Fired Central Heating,Alarm,Wired for Cable Television,Wheelchair Access                      1\n",
              "Parking,Gas Fired Central Heating,Alarm,Wired for Cable Television,Oil Fired Central Heating      1\n",
              "Name: facility, dtype: int64"
            ]
          },
          "metadata": {},
          "execution_count": 135
        }
      ]
    },
    {
      "cell_type": "code",
      "metadata": {
        "id": "fofDb9G7u-ld"
      },
      "source": [
        "house_train.drop('facility', axis=1, inplace=True)\n",
        "house_test.drop('facility', axis=1, inplace=True)"
      ],
      "execution_count": 136,
      "outputs": []
    },
    {
      "cell_type": "markdown",
      "metadata": {
        "id": "XW7ZNwhWu0zY"
      },
      "source": [
        "Features"
      ]
    },
    {
      "cell_type": "code",
      "metadata": {
        "colab": {
          "base_uri": "https://localhost:8080/"
        },
        "id": "YjNmE6OyqJba",
        "outputId": "7e48526d-8dd1-4620-b2c6-0c3685d065e2"
      },
      "source": [
        "house_train['features'].value_counts()"
      ],
      "execution_count": 137,
      "outputs": [
        {
          "output_type": "execute_result",
          "data": {
            "text/plain": [
              "None                                                                                                                                                                                                                                                                                                                                                                                                                                                                                 1031\n",
              "Modern fitted kitchen\\nAll amenities on your doorstep\\n                                                                                                                                                                                                                                                                                                                                                                                                                                 3\n",
              "Superb Location \\nMature Development \\nClose to Amenities \\nGas Fired Central Heating System\\nPrivate Rear Garden \\nAvailable Immediately\\nPrivate Driveway\\nViewing Recommended \\n                                                                                                                                                                                                                                                                                                     2\n",
              "Heated by highly efficient Air Source Heat Pump\\nElegant reconstituted stone fire surround with wood burner\\nVilroy and Boch Sanitary ware\\nHigh performance triple glazed Aluclad windows\\nNolan Kitchens incorporating the €Signature in Frame' range with Lyscam Quartz worktops\\n 10 year Home Bond guarantee\\n                                                                                                                                                                     2\n",
              "Double garage\\nHigh quality finish throughout\\nUtility room\\nHigh vaulted ceilings\\nSea view\\nSolid wood doors &amp; floors\\n                                                                                                                                                                                                                                                                                                                                                           2\n",
              "                                                                                                                                                                                                                                                                                                                                                                                                                                                                                     ... \n",
              "Beautifully Presented.       \\nGas Fired Central heating.\\nDouble Glazed. \\nExtended End of Terraced Family Home of approximately 107/ 1152sq.ft\\nSecluded Sunny Rear Garden.\\nQuiet Cul-de-Sac location. \\n Sale Includes All Curtains, Blinds, Light Fittings, All Built In Kitchen Appliances As Stated.\\n                                                                                                                                                                           1\n",
              "Spacious four bedroom home\\nCul de sac location\\nGreat location in Blackrock\\nExtra reception room\\nGood off street parking\\nClose to all amenities\\nSERVICES\\nDouble glazed hardwood windows\\nGFCH\\nSecurity Alarm\\n                                                                                                                                                                                                                                                                   1\n",
              ".\\tTwo double bedroom apartment with sea view\\n.\\tPristine condition throughout\\n.\\tServiced with lifts\\n.\\tStorage heating\\n.\\tManagement fee ?2,130 per annum\\n.\\tBuilt c 2001\\n.\\tSecure underground parking space\\n.\\tLocated in the town center\\n.\\tEasy access of Dublin Airport, M1, M50 and Dublin City Centre\\n                                                                                                                                                                1\n",
              "Spacious 4-bedroom/3-bathroom, end-of-terrace family home\\nClose to numerous amenities, including shops and schools\\n2 reception rooms\\nGas-fired central heating and double-glazed windows\\nBuilt-in wardrobes in all 4 bedrooms\\nAccess to the parking area from the rear garden\\nRegular transport links to Blanchardstown Shopping Centre, Dublin City Centre and Broombridge Luas stop\\nShort drive to the N3 and M50\\nApproximately a 15-minute commute to Dublin Airport\\n       1\n",
              "Double glazed windows.\\nApprox. 240sq. m / 2,582 sq. ft\\nOil fired central heating\\nExcellent condition\\nDetached garage and utility room\\nOn approx 1/2 acre\\nDetached 6 bedroom family home.\\n                                                                                                                                                                                                                                                                                        1\n",
              "Name: features, Length: 1856, dtype: int64"
            ]
          },
          "metadata": {},
          "execution_count": 137
        }
      ]
    },
    {
      "cell_type": "code",
      "metadata": {
        "id": "K2EQX_mcvGhT"
      },
      "source": [
        "house_train.drop('features', axis=1, inplace=True)\n",
        "house_test.drop('features', axis=1, inplace=True)"
      ],
      "execution_count": 138,
      "outputs": []
    },
    {
      "cell_type": "markdown",
      "metadata": {
        "id": "unxbc8Ydu2zk"
      },
      "source": [
        "Property Category"
      ]
    },
    {
      "cell_type": "code",
      "metadata": {
        "colab": {
          "base_uri": "https://localhost:8080/"
        },
        "id": "o0cd3hRnqJXA",
        "outputId": "55996952-05b1-43ea-f463-0e78fb67fd51"
      },
      "source": [
        "house_train['property_category'].value_counts()"
      ],
      "execution_count": 139,
      "outputs": [
        {
          "output_type": "execute_result",
          "data": {
            "text/plain": [
              "sale                      2885\n",
              "new_development_parent       7\n",
              "Name: property_category, dtype: int64"
            ]
          },
          "metadata": {},
          "execution_count": 139
        }
      ]
    },
    {
      "cell_type": "code",
      "metadata": {
        "id": "sRF0bMezwyFM"
      },
      "source": [
        "property_category_mapper = {\n",
        "    \"sale\": 0,\n",
        "    \"new_development_parent\": 1\n",
        "}\n",
        "\n",
        "house_train['property_category'] = house_train['property_category'].replace(property_category_mapper)\n",
        "house_test['property_category'] = house_test['property_category'].replace(property_category_mapper)"
      ],
      "execution_count": 140,
      "outputs": []
    },
    {
      "cell_type": "markdown",
      "metadata": {
        "id": "nHeh87u7u4xU"
      },
      "source": [
        "Property Type"
      ]
    },
    {
      "cell_type": "code",
      "metadata": {
        "colab": {
          "base_uri": "https://localhost:8080/"
        },
        "id": "jXVY6iZcqJTK",
        "outputId": "acc072a7-5cad-4120-99e3-88c56eb7e5f0"
      },
      "source": [
        "house_train['property_type'].value_counts()"
      ],
      "execution_count": 141,
      "outputs": [
        {
          "output_type": "execute_result",
          "data": {
            "text/plain": [
              "apartment         756\n",
              "semi-detached     749\n",
              "terraced          549\n",
              "detached          385\n",
              "end-of-terrace    235\n",
              "bungalow           80\n",
              "duplex             60\n",
              "site               48\n",
              "townhouse          27\n",
              "studio              3\n",
              "Name: property_type, dtype: int64"
            ]
          },
          "metadata": {},
          "execution_count": 141
        }
      ]
    },
    {
      "cell_type": "code",
      "metadata": {
        "id": "EsRlqO37waIR"
      },
      "source": [
        "property_type_mapper = {\n",
        "    \"apartment\": 1,\n",
        "    \"bungalow\": 2,\n",
        "    \"detached\": 3,\n",
        "    \"duplex\": 4,\n",
        "    \"end-of-terrace\": 5,\n",
        "    \"semi-detached\": 6,\n",
        "    \"site\": 7,\n",
        "    \"studio\": 8,\n",
        "    \"terraced\": 9,\n",
        "    \"townhouse\": 10\n",
        "}\n",
        "house_train['property_type'] = house_train['property_type'].replace(property_type_mapper)\n",
        "house_test['property_type'] = house_test['property_type'].replace(property_type_mapper)"
      ],
      "execution_count": 142,
      "outputs": []
    },
    {
      "cell_type": "markdown",
      "metadata": {
        "id": "caceGqg1oyi8"
      },
      "source": [
        "### Outliers"
      ]
    },
    {
      "cell_type": "code",
      "metadata": {
        "colab": {
          "base_uri": "https://localhost:8080/",
          "height": 1000
        },
        "id": "Ba-oKMWQXcNH",
        "outputId": "3487fcf2-df79-4bb9-c1b6-893fdd4e2b31"
      },
      "source": [
        "# Representation of the summary of the set of data values \n",
        "features = ['latitude', 'longitude', 'price', 'bathrooms', 'beds', 'surface']\n",
        "fig = plt.figure(figsize=(20,(len(features))*5))\n",
        "for i in features: \n",
        "  # creating a figure composed of two matplotlib.Axes objects (ax_box and ax_hist)\n",
        "  f, (ax_box, ax_hist) = plt.subplots(2,1, sharex=True, gridspec_kw={\"height_ratios\": (.15, .85)})\n",
        "  \n",
        "  # assigning a graph to each ax\n",
        "  sns.boxplot(house_train[i], ax=ax_box)\n",
        "  sns.histplot(data=house_train, x=i, ax=ax_hist)\n",
        "  \n",
        "  # Remove x axis name for the boxplot\n",
        "  ax_box.set(xlabel='')\n",
        "\n",
        "plt.show()"
      ],
      "execution_count": 143,
      "outputs": [
        {
          "output_type": "display_data",
          "data": {
            "text/plain": [
              "<Figure size 1440x2160 with 0 Axes>"
            ]
          },
          "metadata": {}
        },
        {
          "output_type": "display_data",
          "data": {
            "image/png": "[encoded data removed]",
            "text/plain": [
              "<Figure size 432x288 with 2 Axes>"
            ]
          },
          "metadata": {}
        },
        {
          "output_type": "display_data",
          "data": {
            "image/png": "[encoded data removed]",
            "text/plain": [
              "<Figure size 432x288 with 2 Axes>"
            ]
          },
          "metadata": {}
        },
        {
          "output_type": "display_data",
          "data": {
            "image/png": "[encoded data removed]",
            "text/plain": [
              "<Figure size 432x288 with 2 Axes>"
            ]
          },
          "metadata": {}
        },
        {
          "output_type": "display_data",
          "data": {
            "image/png": "[encoded data removed]",
            "text/plain": [
              "<Figure size 432x288 with 2 Axes>"
            ]
          },
          "metadata": {}
        },
        {
          "output_type": "display_data",
          "data": {
            "image/png": "[encoded data removed]",
            "text/plain": [
              "<Figure size 432x288 with 2 Axes>"
            ]
          },
          "metadata": {}
        },
        {
          "output_type": "display_data",
          "data": {
            "image/png": "[encoded data removed]",
            "text/plain": [
              "<Figure size 432x288 with 2 Axes>"
            ]
          },
          "metadata": {}
        }
      ]
    },
    {
      "cell_type": "code",
      "metadata": {
        "colab": {
          "base_uri": "https://localhost:8080/",
          "height": 300
        },
        "id": "FND0jF_1aY5p",
        "outputId": "d603ceb8-1519-4462-86e4-229af38880ef"
      },
      "source": [
        "house_train[['latitude', 'longitude', 'bathrooms', 'beds', 'surface']].describe()"
      ],
      "execution_count": 144,
      "outputs": [
        {
          "output_type": "execute_result",
          "data": {
            "text/html": [
              "<div>\n",
              "<style scoped>\n",
              "    .dataframe tbody tr th:only-of-type {\n",
              "        vertical-align: middle;\n",
              "    }\n",
              "\n",
              "    .dataframe tbody tr th {\n",
              "        vertical-align: top;\n",
              "    }\n",
              "\n",
              "    .dataframe thead th {\n",
              "        text-align: right;\n",
              "    }\n",
              "</style>\n",
              "<table border=\"1\" class=\"dataframe\">\n",
              "  <thead>\n",
              "    <tr style=\"text-align: right;\">\n",
              "      <th></th>\n",
              "      <th>latitude</th>\n",
              "      <th>longitude</th>\n",
              "      <th>bathrooms</th>\n",
              "      <th>beds</th>\n",
              "      <th>surface</th>\n",
              "    </tr>\n",
              "  </thead>\n",
              "  <tbody>\n",
              "    <tr>\n",
              "      <th>count</th>\n",
              "      <td>2892.000000</td>\n",
              "      <td>2892.000000</td>\n",
              "      <td>2892.000000</td>\n",
              "      <td>2892.000000</td>\n",
              "      <td>2892.000000</td>\n",
              "    </tr>\n",
              "    <tr>\n",
              "      <th>mean</th>\n",
              "      <td>53.355579</td>\n",
              "      <td>-6.257373</td>\n",
              "      <td>1.991355</td>\n",
              "      <td>2.975450</td>\n",
              "      <td>278.567805</td>\n",
              "    </tr>\n",
              "    <tr>\n",
              "      <th>std</th>\n",
              "      <td>0.086445</td>\n",
              "      <td>0.142864</td>\n",
              "      <td>1.266439</td>\n",
              "      <td>1.452494</td>\n",
              "      <td>4023.929576</td>\n",
              "    </tr>\n",
              "    <tr>\n",
              "      <th>min</th>\n",
              "      <td>51.458439</td>\n",
              "      <td>-6.521183</td>\n",
              "      <td>0.000000</td>\n",
              "      <td>0.000000</td>\n",
              "      <td>3.400000</td>\n",
              "    </tr>\n",
              "    <tr>\n",
              "      <th>25%</th>\n",
              "      <td>53.299255</td>\n",
              "      <td>-6.313874</td>\n",
              "      <td>1.000000</td>\n",
              "      <td>2.000000</td>\n",
              "      <td>79.000000</td>\n",
              "    </tr>\n",
              "    <tr>\n",
              "      <th>50%</th>\n",
              "      <td>53.345455</td>\n",
              "      <td>-6.252335</td>\n",
              "      <td>2.000000</td>\n",
              "      <td>3.000000</td>\n",
              "      <td>99.000000</td>\n",
              "    </tr>\n",
              "    <tr>\n",
              "      <th>75%</th>\n",
              "      <td>53.388423</td>\n",
              "      <td>-6.197056</td>\n",
              "      <td>3.000000</td>\n",
              "      <td>4.000000</td>\n",
              "      <td>128.000000</td>\n",
              "    </tr>\n",
              "    <tr>\n",
              "      <th>max</th>\n",
              "      <td>53.630588</td>\n",
              "      <td>-1.744995</td>\n",
              "      <td>18.000000</td>\n",
              "      <td>27.000000</td>\n",
              "      <td>182108.539008</td>\n",
              "    </tr>\n",
              "  </tbody>\n",
              "</table>\n",
              "</div>"
            ],
            "text/plain": [
              "          latitude    longitude    bathrooms         beds        surface\n",
              "count  2892.000000  2892.000000  2892.000000  2892.000000    2892.000000\n",
              "mean     53.355579    -6.257373     1.991355     2.975450     278.567805\n",
              "std       0.086445     0.142864     1.266439     1.452494    4023.929576\n",
              "min      51.458439    -6.521183     0.000000     0.000000       3.400000\n",
              "25%      53.299255    -6.313874     1.000000     2.000000      79.000000\n",
              "50%      53.345455    -6.252335     2.000000     3.000000      99.000000\n",
              "75%      53.388423    -6.197056     3.000000     4.000000     128.000000\n",
              "max      53.630588    -1.744995    18.000000    27.000000  182108.539008"
            ]
          },
          "metadata": {},
          "execution_count": 144
        }
      ]
    },
    {
      "cell_type": "code",
      "metadata": {
        "id": "wR4bOnTIZrZa"
      },
      "source": [
        "house_train['bathrooms'].values[house_train['bathrooms'].values > 7 ] = 7\n",
        "house_train['beds'].values[house_train['beds'].values > 10 ] = 10\n",
        "house_train['surface'].values[house_train['surface'].values > 10000] = 10000\n",
        "house_train['latitude'] = (house_train['latitude'] -51.45843)/2.173 # From Nigel Portley\n",
        "house_train['longitude'] = (house_train['longitude'] +6.521187) # From Nigel Portley\n",
        "\n",
        "house_test['bathrooms'].values[house_test['bathrooms'].values > 7 ] = 7\n",
        "house_test['beds'].values[house_test['beds'].values > 10 ] = 10\n",
        "house_test['surface'].values[house_test['surface'].values > 10000] = 10000\n",
        "house_test['latitude'] = (house_test['latitude'] -51.45843)/2.173 # From Nigel Portley\n",
        "house_test['longitude'] = (house_test['longitude'] +6.521187) # From Nigel Portley"
      ],
      "execution_count": 145,
      "outputs": []
    },
    {
      "cell_type": "code",
      "metadata": {
        "colab": {
          "base_uri": "https://localhost:8080/",
          "height": 300
        },
        "id": "Wk7Bvmj0dLRF",
        "outputId": "bffc80a7-207d-42c8-f122-c1c7f36ac43d"
      },
      "source": [
        "house_train[['latitude', 'longitude', 'bathrooms', 'beds', 'surface']].describe()"
      ],
      "execution_count": 146,
      "outputs": [
        {
          "output_type": "execute_result",
          "data": {
            "text/html": [
              "<div>\n",
              "<style scoped>\n",
              "    .dataframe tbody tr th:only-of-type {\n",
              "        vertical-align: middle;\n",
              "    }\n",
              "\n",
              "    .dataframe tbody tr th {\n",
              "        vertical-align: top;\n",
              "    }\n",
              "\n",
              "    .dataframe thead th {\n",
              "        text-align: right;\n",
              "    }\n",
              "</style>\n",
              "<table border=\"1\" class=\"dataframe\">\n",
              "  <thead>\n",
              "    <tr style=\"text-align: right;\">\n",
              "      <th></th>\n",
              "      <th>latitude</th>\n",
              "      <th>longitude</th>\n",
              "      <th>bathrooms</th>\n",
              "      <th>beds</th>\n",
              "      <th>surface</th>\n",
              "    </tr>\n",
              "  </thead>\n",
              "  <tbody>\n",
              "    <tr>\n",
              "      <th>count</th>\n",
              "      <td>2892.000000</td>\n",
              "      <td>2892.000000</td>\n",
              "      <td>2892.000000</td>\n",
              "      <td>2892.000000</td>\n",
              "      <td>2892.000000</td>\n",
              "    </tr>\n",
              "    <tr>\n",
              "      <th>mean</th>\n",
              "      <td>0.873055</td>\n",
              "      <td>0.263814</td>\n",
              "      <td>1.972337</td>\n",
              "      <td>2.956777</td>\n",
              "      <td>160.823206</td>\n",
              "    </tr>\n",
              "    <tr>\n",
              "      <th>std</th>\n",
              "      <td>0.039781</td>\n",
              "      <td>0.142864</td>\n",
              "      <td>1.127896</td>\n",
              "      <td>1.270913</td>\n",
              "      <td>555.382468</td>\n",
              "    </tr>\n",
              "    <tr>\n",
              "      <th>min</th>\n",
              "      <td>0.000004</td>\n",
              "      <td>0.000004</td>\n",
              "      <td>0.000000</td>\n",
              "      <td>0.000000</td>\n",
              "      <td>3.400000</td>\n",
              "    </tr>\n",
              "    <tr>\n",
              "      <th>25%</th>\n",
              "      <td>0.847136</td>\n",
              "      <td>0.207313</td>\n",
              "      <td>1.000000</td>\n",
              "      <td>2.000000</td>\n",
              "      <td>79.000000</td>\n",
              "    </tr>\n",
              "    <tr>\n",
              "      <th>50%</th>\n",
              "      <td>0.868396</td>\n",
              "      <td>0.268852</td>\n",
              "      <td>2.000000</td>\n",
              "      <td>3.000000</td>\n",
              "      <td>99.000000</td>\n",
              "    </tr>\n",
              "    <tr>\n",
              "      <th>75%</th>\n",
              "      <td>0.888170</td>\n",
              "      <td>0.324131</td>\n",
              "      <td>3.000000</td>\n",
              "      <td>4.000000</td>\n",
              "      <td>128.000000</td>\n",
              "    </tr>\n",
              "    <tr>\n",
              "      <th>max</th>\n",
              "      <td>0.999613</td>\n",
              "      <td>4.776192</td>\n",
              "      <td>7.000000</td>\n",
              "      <td>10.000000</td>\n",
              "      <td>10000.000000</td>\n",
              "    </tr>\n",
              "  </tbody>\n",
              "</table>\n",
              "</div>"
            ],
            "text/plain": [
              "          latitude    longitude    bathrooms         beds       surface\n",
              "count  2892.000000  2892.000000  2892.000000  2892.000000   2892.000000\n",
              "mean      0.873055     0.263814     1.972337     2.956777    160.823206\n",
              "std       0.039781     0.142864     1.127896     1.270913    555.382468\n",
              "min       0.000004     0.000004     0.000000     0.000000      3.400000\n",
              "25%       0.847136     0.207313     1.000000     2.000000     79.000000\n",
              "50%       0.868396     0.268852     2.000000     3.000000     99.000000\n",
              "75%       0.888170     0.324131     3.000000     4.000000    128.000000\n",
              "max       0.999613     4.776192     7.000000    10.000000  10000.000000"
            ]
          },
          "metadata": {},
          "execution_count": 146
        }
      ]
    },
    {
      "cell_type": "code",
      "metadata": {
        "colab": {
          "base_uri": "https://localhost:8080/"
        },
        "id": "tNxag3QmtPpj",
        "outputId": "09c8a8fb-989a-4cb9-8a03-7455ce7b1857"
      },
      "source": [
        "# Missing Values\n",
        "print('Train Data Missing Values')\n",
        "print(house_train.isna().sum())\n",
        "print('Test Data Missing Values')\n",
        "print(house_test.isna().sum())"
      ],
      "execution_count": 147,
      "outputs": [
        {
          "output_type": "stream",
          "name": "stdout",
          "text": [
            "Train Data Missing Values\n",
            "ad_id                 0\n",
            "area                  0\n",
            "bathrooms             0\n",
            "beds                  0\n",
            "ber_classification    0\n",
            "latitude              0\n",
            "longitude             0\n",
            "price                 0\n",
            "property_category     0\n",
            "property_type         0\n",
            "surface               0\n",
            "dtype: int64\n",
            "Test Data Missing Values\n",
            "ad_id                 0\n",
            "area                  0\n",
            "bathrooms             0\n",
            "beds                  0\n",
            "ber_classification    0\n",
            "latitude              0\n",
            "longitude             0\n",
            "property_category     0\n",
            "property_type         0\n",
            "surface               0\n",
            "dtype: int64\n"
          ]
        }
      ]
    },
    {
      "cell_type": "code",
      "metadata": {
        "colab": {
          "base_uri": "https://localhost:8080/",
          "height": 799
        },
        "id": "2pNprOz2CQsb",
        "outputId": "78a7d72f-7948-4734-9489-0784fb6e5bfb"
      },
      "source": [
        "#Correlation Matrix\n",
        "plt.figure(figsize=(10, 12))\n",
        "sns.heatmap(house_train.corr(), annot=True);"
      ],
      "execution_count": 148,
      "outputs": [
        {
          "output_type": "display_data",
          "data": {
            "image/png": "[encoded data removed]",
            "text/plain": [
              "<Figure size 720x864 with 2 Axes>"
            ]
          },
          "metadata": {}
        }
      ]
    },
    {
      "cell_type": "code",
      "metadata": {
        "colab": {
          "base_uri": "https://localhost:8080/"
        },
        "id": "qAGSR0OIonmj",
        "outputId": "9f60f867-64b7-4e08-b734-49d9a099a6ef"
      },
      "source": [
        "#Returns column name\n",
        "print('Train Data Columns',house_train.columns)\n",
        "print('Test Data Columns',house_test.columns)"
      ],
      "execution_count": 149,
      "outputs": [
        {
          "output_type": "stream",
          "name": "stdout",
          "text": [
            "Train Data Columns Index(['ad_id', 'area', 'bathrooms', 'beds', 'ber_classification', 'latitude',\n",
            "       'longitude', 'price', 'property_category', 'property_type', 'surface'],\n",
            "      dtype='object')\n",
            "Test Data Columns Index(['ad_id', 'area', 'bathrooms', 'beds', 'ber_classification', 'latitude',\n",
            "       'longitude', 'property_category', 'property_type', 'surface'],\n",
            "      dtype='object')\n"
          ]
        }
      ]
    },
    {
      "cell_type": "code",
      "metadata": {
        "colab": {
          "base_uri": "https://localhost:8080/"
        },
        "id": "PmS5wg4XjU6d",
        "outputId": "c65affd2-ce85-46ce-acae-b09d6ddc4410"
      },
      "source": [
        "#Returns the dimensions of the array - Rows & Columns\n",
        "print('Train Data Shape',house_train.shape)\n",
        "print('Test Data Shape',house_test.shape)"
      ],
      "execution_count": 150,
      "outputs": [
        {
          "output_type": "stream",
          "name": "stdout",
          "text": [
            "Train Data Shape (2892, 11)\n",
            "Test Data Shape (500, 10)\n"
          ]
        }
      ]
    },
    {
      "cell_type": "markdown",
      "metadata": {
        "id": "-PyyF0zy2VkN"
      },
      "source": [
        "**Notes**: \n",
        "- We have two different datasets, `true_price` that represents the real cost of the properties and `house_data` that describes the different properties. \n",
        "- Initial decision was to merge training and test data from this category to run the preprocessing procedures over the full dataset, to afterwards, split it again as needed. Somehow the new dataset creation after preprocessing didn't fully work at test dataset level.\n",
        "- True Price has 500 records and 2 columns, with no missing values, `Id` columns has being renamed as it works as the identifier to determine the expected prices from the properties in the house data.\n",
        "- House Train data has 2982 and 17 columns, with some missing values vs House Test data has 500 and 16 columns. We are going to do some data processing to both types of columns, numerical and categorical, and assess their importance to the problem.\n",
        "- According to the House Train info, we have 9 categorical variables and 7/8 numerical variables, as the test data doesn't include `price` feature.\n",
        "- the columns `area`, `ber_classification`, `property_category` were kept for other possible of feature combination in the Piecewise Regression.  \n",
        "- The `ad_id` was kept for the purpose of possibly defining expected prices of the properties.\n",
        "\n",
        "**Numerical Variables**:\n",
        "- `no_of_units` dropped as it has over 98% / 100% of missing values in both datasets.\n",
        "- `bathrooms`, `beds` and `property_type` contains the same amount of missing values, we inferred that dropping the missing values will affect the others, and it was the case in the training dataset. `bathrooms` and `beds` outliers were removed reassigning those values to the a max of 7 and 10 respectively.\n",
        "- `price` considering that the main goal is to predict the property prices, with missing values that reach 16.94%. Prefered to drop them, instead of infered them in the training dataset, depending on accuracy, this step could change. \n",
        "- `surface` all mising values which represented 15.82%, were fill up with the median. The outliers were removed reassigning those values to the a max of 10.000 sq meters.\n",
        "- `latitude` and `longitude` had no missing values. The outliers were removed reassigning those values were normzalized following Nigel Portley procedure of dividing `latitude` min between 2.173 and `longitude` adding +6.521187\n",
        "\n",
        "**Categorical Variables**:\n",
        "- `area` were converted to numerical variables, replacing the 157 characters, from various cities and towns in County Dublin, County Fingal and County Dun Laoghaire-Rathdown to the various Dublin and Counties that they are located, followed by to a reconfiguration to the correspondent numerical value.\n",
        "- `ber_classification` were converted to numerical variables, replacing the 16 characters. \n",
        "- `county` and `environment` were dropped as they seem to be default values, Dublin and Prod won't yield that much information.\n",
        "- `description_block` is descriptive text, not able to be used. Dropped as consequence.\n",
        "- `facility` is descriptive text, not able to be used. Dropped as consequence.\n",
        "- `features` is descriptive text, not able to be used. Dropped as consequence.\n",
        "- `property_category` were converted to numerical variables, replacing the 2 characters. \n",
        "- `property_type` were converted to numerical variables, replacing the 10 characters."
      ]
    },
    {
      "cell_type": "markdown",
      "metadata": {
        "id": "2PMoPLlUJ1Ly"
      },
      "source": [
        "## Training & Test Data"
      ]
    },
    {
      "cell_type": "markdown",
      "metadata": {
        "id": "ztBkSZluye87"
      },
      "source": [
        "### Train dataset"
      ]
    },
    {
      "cell_type": "code",
      "metadata": {
        "id": "6XUFUPABMHfF",
        "colab": {
          "base_uri": "https://localhost:8080/",
          "height": 101
        },
        "outputId": "380695df-bad0-4d6f-e93f-e168c4ee9512"
      },
      "source": [
        "# show first data frame rows \n",
        "house_train.sample()"
      ],
      "execution_count": 151,
      "outputs": [
        {
          "output_type": "execute_result",
          "data": {
            "text/html": [
              "<div>\n",
              "<style scoped>\n",
              "    .dataframe tbody tr th:only-of-type {\n",
              "        vertical-align: middle;\n",
              "    }\n",
              "\n",
              "    .dataframe tbody tr th {\n",
              "        vertical-align: top;\n",
              "    }\n",
              "\n",
              "    .dataframe thead th {\n",
              "        text-align: right;\n",
              "    }\n",
              "</style>\n",
              "<table border=\"1\" class=\"dataframe\">\n",
              "  <thead>\n",
              "    <tr style=\"text-align: right;\">\n",
              "      <th></th>\n",
              "      <th>ad_id</th>\n",
              "      <th>area</th>\n",
              "      <th>bathrooms</th>\n",
              "      <th>beds</th>\n",
              "      <th>ber_classification</th>\n",
              "      <th>latitude</th>\n",
              "      <th>longitude</th>\n",
              "      <th>price</th>\n",
              "      <th>property_category</th>\n",
              "      <th>property_type</th>\n",
              "      <th>surface</th>\n",
              "    </tr>\n",
              "  </thead>\n",
              "  <tbody>\n",
              "    <tr>\n",
              "      <th>493</th>\n",
              "      <td>12173270</td>\n",
              "      <td>19</td>\n",
              "      <td>2.0</td>\n",
              "      <td>2.0</td>\n",
              "      <td>8.0</td>\n",
              "      <td>0.833791</td>\n",
              "      <td>0.283116</td>\n",
              "      <td>270000.0</td>\n",
              "      <td>0</td>\n",
              "      <td>1</td>\n",
              "      <td>71.0</td>\n",
              "    </tr>\n",
              "  </tbody>\n",
              "</table>\n",
              "</div>"
            ],
            "text/plain": [
              "        ad_id  area  bathrooms  ...  property_category  property_type  surface\n",
              "493  12173270    19        2.0  ...                  0              1     71.0\n",
              "\n",
              "[1 rows x 11 columns]"
            ]
          },
          "metadata": {},
          "execution_count": 151
        }
      ]
    },
    {
      "cell_type": "code",
      "metadata": {
        "colab": {
          "base_uri": "https://localhost:8080/"
        },
        "id": "SRH5PE2yyhYB",
        "outputId": "a5a0d513-3a7c-4e8f-ece8-14c54b1136d5"
      },
      "source": [
        "#Returns the dimensions of the array\n",
        "house_train.shape"
      ],
      "execution_count": 152,
      "outputs": [
        {
          "output_type": "execute_result",
          "data": {
            "text/plain": [
              "(2892, 11)"
            ]
          },
          "metadata": {},
          "execution_count": 152
        }
      ]
    },
    {
      "cell_type": "code",
      "metadata": {
        "id": "5rq_p-D4yLBe",
        "colab": {
          "base_uri": "https://localhost:8080/",
          "height": 320
        },
        "outputId": "78f56d14-0860-4f8c-aec1-66371faad7d6"
      },
      "source": [
        "# Generate descriptive statistics\n",
        "house_train.describe()"
      ],
      "execution_count": 153,
      "outputs": [
        {
          "output_type": "execute_result",
          "data": {
            "text/html": [
              "<div>\n",
              "<style scoped>\n",
              "    .dataframe tbody tr th:only-of-type {\n",
              "        vertical-align: middle;\n",
              "    }\n",
              "\n",
              "    .dataframe tbody tr th {\n",
              "        vertical-align: top;\n",
              "    }\n",
              "\n",
              "    .dataframe thead th {\n",
              "        text-align: right;\n",
              "    }\n",
              "</style>\n",
              "<table border=\"1\" class=\"dataframe\">\n",
              "  <thead>\n",
              "    <tr style=\"text-align: right;\">\n",
              "      <th></th>\n",
              "      <th>ad_id</th>\n",
              "      <th>area</th>\n",
              "      <th>bathrooms</th>\n",
              "      <th>beds</th>\n",
              "      <th>ber_classification</th>\n",
              "      <th>latitude</th>\n",
              "      <th>longitude</th>\n",
              "      <th>price</th>\n",
              "      <th>property_category</th>\n",
              "      <th>property_type</th>\n",
              "      <th>surface</th>\n",
              "    </tr>\n",
              "  </thead>\n",
              "  <tbody>\n",
              "    <tr>\n",
              "      <th>count</th>\n",
              "      <td>2.892000e+03</td>\n",
              "      <td>2892.000000</td>\n",
              "      <td>2892.000000</td>\n",
              "      <td>2892.000000</td>\n",
              "      <td>2892.000000</td>\n",
              "      <td>2892.000000</td>\n",
              "      <td>2892.000000</td>\n",
              "      <td>2.892000e+03</td>\n",
              "      <td>2892.000000</td>\n",
              "      <td>2892.000000</td>\n",
              "      <td>2892.000000</td>\n",
              "    </tr>\n",
              "    <tr>\n",
              "      <th>mean</th>\n",
              "      <td>1.230511e+07</td>\n",
              "      <td>14.489627</td>\n",
              "      <td>1.972337</td>\n",
              "      <td>2.956777</td>\n",
              "      <td>9.909059</td>\n",
              "      <td>0.873055</td>\n",
              "      <td>0.263814</td>\n",
              "      <td>5.323536e+05</td>\n",
              "      <td>0.002420</td>\n",
              "      <td>4.685685</td>\n",
              "      <td>160.823206</td>\n",
              "    </tr>\n",
              "    <tr>\n",
              "      <th>std</th>\n",
              "      <td>2.173032e+05</td>\n",
              "      <td>7.024410</td>\n",
              "      <td>1.127896</td>\n",
              "      <td>1.270913</td>\n",
              "      <td>2.793423</td>\n",
              "      <td>0.039781</td>\n",
              "      <td>0.142864</td>\n",
              "      <td>5.678148e+05</td>\n",
              "      <td>0.049147</td>\n",
              "      <td>2.914514</td>\n",
              "      <td>555.382468</td>\n",
              "    </tr>\n",
              "    <tr>\n",
              "      <th>min</th>\n",
              "      <td>9.124101e+06</td>\n",
              "      <td>1.000000</td>\n",
              "      <td>0.000000</td>\n",
              "      <td>0.000000</td>\n",
              "      <td>1.000000</td>\n",
              "      <td>0.000004</td>\n",
              "      <td>0.000004</td>\n",
              "      <td>1.999500e+04</td>\n",
              "      <td>0.000000</td>\n",
              "      <td>1.000000</td>\n",
              "      <td>3.400000</td>\n",
              "    </tr>\n",
              "    <tr>\n",
              "      <th>25%</th>\n",
              "      <td>1.227543e+07</td>\n",
              "      <td>9.000000</td>\n",
              "      <td>1.000000</td>\n",
              "      <td>2.000000</td>\n",
              "      <td>8.000000</td>\n",
              "      <td>0.847136</td>\n",
              "      <td>0.207313</td>\n",
              "      <td>2.800000e+05</td>\n",
              "      <td>0.000000</td>\n",
              "      <td>1.000000</td>\n",
              "      <td>79.000000</td>\n",
              "    </tr>\n",
              "    <tr>\n",
              "      <th>50%</th>\n",
              "      <td>1.237885e+07</td>\n",
              "      <td>15.000000</td>\n",
              "      <td>2.000000</td>\n",
              "      <td>3.000000</td>\n",
              "      <td>10.000000</td>\n",
              "      <td>0.868396</td>\n",
              "      <td>0.268852</td>\n",
              "      <td>3.800000e+05</td>\n",
              "      <td>0.000000</td>\n",
              "      <td>5.000000</td>\n",
              "      <td>99.000000</td>\n",
              "    </tr>\n",
              "    <tr>\n",
              "      <th>75%</th>\n",
              "      <td>1.240400e+07</td>\n",
              "      <td>22.000000</td>\n",
              "      <td>3.000000</td>\n",
              "      <td>4.000000</td>\n",
              "      <td>11.000000</td>\n",
              "      <td>0.888170</td>\n",
              "      <td>0.324131</td>\n",
              "      <td>5.750000e+05</td>\n",
              "      <td>0.000000</td>\n",
              "      <td>6.000000</td>\n",
              "      <td>128.000000</td>\n",
              "    </tr>\n",
              "    <tr>\n",
              "      <th>max</th>\n",
              "      <td>1.242836e+07</td>\n",
              "      <td>24.000000</td>\n",
              "      <td>7.000000</td>\n",
              "      <td>10.000000</td>\n",
              "      <td>16.000000</td>\n",
              "      <td>0.999613</td>\n",
              "      <td>4.776192</td>\n",
              "      <td>9.995000e+06</td>\n",
              "      <td>1.000000</td>\n",
              "      <td>10.000000</td>\n",
              "      <td>10000.000000</td>\n",
              "    </tr>\n",
              "  </tbody>\n",
              "</table>\n",
              "</div>"
            ],
            "text/plain": [
              "              ad_id         area  ...  property_type       surface\n",
              "count  2.892000e+03  2892.000000  ...    2892.000000   2892.000000\n",
              "mean   1.230511e+07    14.489627  ...       4.685685    160.823206\n",
              "std    2.173032e+05     7.024410  ...       2.914514    555.382468\n",
              "min    9.124101e+06     1.000000  ...       1.000000      3.400000\n",
              "25%    1.227543e+07     9.000000  ...       1.000000     79.000000\n",
              "50%    1.237885e+07    15.000000  ...       5.000000     99.000000\n",
              "75%    1.240400e+07    22.000000  ...       6.000000    128.000000\n",
              "max    1.242836e+07    24.000000  ...      10.000000  10000.000000\n",
              "\n",
              "[8 rows x 11 columns]"
            ]
          },
          "metadata": {},
          "execution_count": 153
        }
      ]
    },
    {
      "cell_type": "markdown",
      "metadata": {
        "id": "Iqg9_uxFyZli"
      },
      "source": [
        "### Test dataset"
      ]
    },
    {
      "cell_type": "code",
      "metadata": {
        "id": "bw2_yypxMfsi",
        "colab": {
          "base_uri": "https://localhost:8080/",
          "height": 81
        },
        "outputId": "9e19abf1-8936-4a74-9459-710bdca41bc6"
      },
      "source": [
        "# show sample data frame rows \n",
        "house_test.sample()"
      ],
      "execution_count": 154,
      "outputs": [
        {
          "output_type": "execute_result",
          "data": {
            "text/html": [
              "<div>\n",
              "<style scoped>\n",
              "    .dataframe tbody tr th:only-of-type {\n",
              "        vertical-align: middle;\n",
              "    }\n",
              "\n",
              "    .dataframe tbody tr th {\n",
              "        vertical-align: top;\n",
              "    }\n",
              "\n",
              "    .dataframe thead th {\n",
              "        text-align: right;\n",
              "    }\n",
              "</style>\n",
              "<table border=\"1\" class=\"dataframe\">\n",
              "  <thead>\n",
              "    <tr style=\"text-align: right;\">\n",
              "      <th></th>\n",
              "      <th>ad_id</th>\n",
              "      <th>area</th>\n",
              "      <th>bathrooms</th>\n",
              "      <th>beds</th>\n",
              "      <th>ber_classification</th>\n",
              "      <th>latitude</th>\n",
              "      <th>longitude</th>\n",
              "      <th>property_category</th>\n",
              "      <th>property_type</th>\n",
              "      <th>surface</th>\n",
              "    </tr>\n",
              "  </thead>\n",
              "  <tbody>\n",
              "    <tr>\n",
              "      <th>93</th>\n",
              "      <td>12085619</td>\n",
              "      <td>17</td>\n",
              "      <td>2.0</td>\n",
              "      <td>3.0</td>\n",
              "      <td>15.0</td>\n",
              "      <td>0.849454</td>\n",
              "      <td>0.246084</td>\n",
              "      <td>0</td>\n",
              "      <td>6</td>\n",
              "      <td>95.04</td>\n",
              "    </tr>\n",
              "  </tbody>\n",
              "</table>\n",
              "</div>"
            ],
            "text/plain": [
              "       ad_id  area  bathrooms  ...  property_category  property_type  surface\n",
              "93  12085619    17        2.0  ...                  0              6    95.04\n",
              "\n",
              "[1 rows x 10 columns]"
            ]
          },
          "metadata": {},
          "execution_count": 154
        }
      ]
    },
    {
      "cell_type": "code",
      "metadata": {
        "colab": {
          "base_uri": "https://localhost:8080/"
        },
        "id": "NflxtG0Tytt4",
        "outputId": "90753458-37dc-42cf-ce69-2a5c0b0b66c0"
      },
      "source": [
        "#Returns the dimensions of the array\n",
        "house_test.shape"
      ],
      "execution_count": 155,
      "outputs": [
        {
          "output_type": "execute_result",
          "data": {
            "text/plain": [
              "(500, 10)"
            ]
          },
          "metadata": {},
          "execution_count": 155
        }
      ]
    },
    {
      "cell_type": "code",
      "metadata": {
        "id": "FXo0x2u7T7-1",
        "colab": {
          "base_uri": "https://localhost:8080/",
          "height": 320
        },
        "outputId": "97fec5f7-6380-454b-ddd7-a917e9faa6f7"
      },
      "source": [
        "# Generate descriptive statistics\n",
        "house_test.describe()"
      ],
      "execution_count": 156,
      "outputs": [
        {
          "output_type": "execute_result",
          "data": {
            "text/html": [
              "<div>\n",
              "<style scoped>\n",
              "    .dataframe tbody tr th:only-of-type {\n",
              "        vertical-align: middle;\n",
              "    }\n",
              "\n",
              "    .dataframe tbody tr th {\n",
              "        vertical-align: top;\n",
              "    }\n",
              "\n",
              "    .dataframe thead th {\n",
              "        text-align: right;\n",
              "    }\n",
              "</style>\n",
              "<table border=\"1\" class=\"dataframe\">\n",
              "  <thead>\n",
              "    <tr style=\"text-align: right;\">\n",
              "      <th></th>\n",
              "      <th>ad_id</th>\n",
              "      <th>area</th>\n",
              "      <th>bathrooms</th>\n",
              "      <th>beds</th>\n",
              "      <th>ber_classification</th>\n",
              "      <th>latitude</th>\n",
              "      <th>longitude</th>\n",
              "      <th>property_category</th>\n",
              "      <th>property_type</th>\n",
              "      <th>surface</th>\n",
              "    </tr>\n",
              "  </thead>\n",
              "  <tbody>\n",
              "    <tr>\n",
              "      <th>count</th>\n",
              "      <td>5.000000e+02</td>\n",
              "      <td>500.000000</td>\n",
              "      <td>500.000000</td>\n",
              "      <td>500.000000</td>\n",
              "      <td>500.000000</td>\n",
              "      <td>500.000000</td>\n",
              "      <td>500.000000</td>\n",
              "      <td>500.0</td>\n",
              "      <td>500.000000</td>\n",
              "      <td>500.000000</td>\n",
              "    </tr>\n",
              "    <tr>\n",
              "      <th>mean</th>\n",
              "      <td>1.231695e+07</td>\n",
              "      <td>14.176000</td>\n",
              "      <td>1.992000</td>\n",
              "      <td>2.930000</td>\n",
              "      <td>9.898000</td>\n",
              "      <td>0.873265</td>\n",
              "      <td>0.273345</td>\n",
              "      <td>0.0</td>\n",
              "      <td>4.686000</td>\n",
              "      <td>156.007671</td>\n",
              "    </tr>\n",
              "    <tr>\n",
              "      <th>std</th>\n",
              "      <td>1.485832e+05</td>\n",
              "      <td>7.428822</td>\n",
              "      <td>1.096513</td>\n",
              "      <td>1.191612</td>\n",
              "      <td>2.963302</td>\n",
              "      <td>0.037692</td>\n",
              "      <td>0.088552</td>\n",
              "      <td>0.0</td>\n",
              "      <td>2.929944</td>\n",
              "      <td>344.497362</td>\n",
              "    </tr>\n",
              "    <tr>\n",
              "      <th>min</th>\n",
              "      <td>1.130615e+07</td>\n",
              "      <td>1.000000</td>\n",
              "      <td>0.000000</td>\n",
              "      <td>0.000000</td>\n",
              "      <td>2.000000</td>\n",
              "      <td>0.811283</td>\n",
              "      <td>0.024200</td>\n",
              "      <td>0.0</td>\n",
              "      <td>1.000000</td>\n",
              "      <td>33.500000</td>\n",
              "    </tr>\n",
              "    <tr>\n",
              "      <th>25%</th>\n",
              "      <td>1.228617e+07</td>\n",
              "      <td>7.000000</td>\n",
              "      <td>1.000000</td>\n",
              "      <td>2.000000</td>\n",
              "      <td>8.000000</td>\n",
              "      <td>0.846269</td>\n",
              "      <td>0.224783</td>\n",
              "      <td>0.0</td>\n",
              "      <td>1.000000</td>\n",
              "      <td>72.375000</td>\n",
              "    </tr>\n",
              "    <tr>\n",
              "      <th>50%</th>\n",
              "      <td>1.237964e+07</td>\n",
              "      <td>15.000000</td>\n",
              "      <td>2.000000</td>\n",
              "      <td>3.000000</td>\n",
              "      <td>10.000000</td>\n",
              "      <td>0.865677</td>\n",
              "      <td>0.277615</td>\n",
              "      <td>0.0</td>\n",
              "      <td>5.000000</td>\n",
              "      <td>98.000000</td>\n",
              "    </tr>\n",
              "    <tr>\n",
              "      <th>75%</th>\n",
              "      <td>1.240544e+07</td>\n",
              "      <td>22.000000</td>\n",
              "      <td>3.000000</td>\n",
              "      <td>4.000000</td>\n",
              "      <td>12.000000</td>\n",
              "      <td>0.885053</td>\n",
              "      <td>0.336132</td>\n",
              "      <td>0.0</td>\n",
              "      <td>6.000000</td>\n",
              "      <td>138.935000</td>\n",
              "    </tr>\n",
              "    <tr>\n",
              "      <th>max</th>\n",
              "      <td>1.242809e+07</td>\n",
              "      <td>24.000000</td>\n",
              "      <td>7.000000</td>\n",
              "      <td>7.000000</td>\n",
              "      <td>16.000000</td>\n",
              "      <td>0.994636</td>\n",
              "      <td>0.456313</td>\n",
              "      <td>0.0</td>\n",
              "      <td>10.000000</td>\n",
              "      <td>5746.536120</td>\n",
              "    </tr>\n",
              "  </tbody>\n",
              "</table>\n",
              "</div>"
            ],
            "text/plain": [
              "              ad_id        area  ...  property_type      surface\n",
              "count  5.000000e+02  500.000000  ...     500.000000   500.000000\n",
              "mean   1.231695e+07   14.176000  ...       4.686000   156.007671\n",
              "std    1.485832e+05    7.428822  ...       2.929944   344.497362\n",
              "min    1.130615e+07    1.000000  ...       1.000000    33.500000\n",
              "25%    1.228617e+07    7.000000  ...       1.000000    72.375000\n",
              "50%    1.237964e+07   15.000000  ...       5.000000    98.000000\n",
              "75%    1.240544e+07   22.000000  ...       6.000000   138.935000\n",
              "max    1.242809e+07   24.000000  ...      10.000000  5746.536120\n",
              "\n",
              "[8 rows x 10 columns]"
            ]
          },
          "metadata": {},
          "execution_count": 156
        }
      ]
    },
    {
      "cell_type": "markdown",
      "metadata": {
        "id": "UjMH1CSEUA1A"
      },
      "source": [
        "### Expected Cost dataset"
      ]
    },
    {
      "cell_type": "code",
      "metadata": {
        "colab": {
          "base_uri": "https://localhost:8080/",
          "height": 81
        },
        "id": "T6rA5Ig8y-lN",
        "outputId": "1c177ebb-ca5a-4014-d1fb-d66c86207ad6"
      },
      "source": [
        "# show sample data frame rows \n",
        "true_price.sample()"
      ],
      "execution_count": 157,
      "outputs": [
        {
          "output_type": "execute_result",
          "data": {
            "text/html": [
              "<div>\n",
              "<style scoped>\n",
              "    .dataframe tbody tr th:only-of-type {\n",
              "        vertical-align: middle;\n",
              "    }\n",
              "\n",
              "    .dataframe tbody tr th {\n",
              "        vertical-align: top;\n",
              "    }\n",
              "\n",
              "    .dataframe thead th {\n",
              "        text-align: right;\n",
              "    }\n",
              "</style>\n",
              "<table border=\"1\" class=\"dataframe\">\n",
              "  <thead>\n",
              "    <tr style=\"text-align: right;\">\n",
              "      <th></th>\n",
              "      <th>ad_id</th>\n",
              "      <th>Expected</th>\n",
              "    </tr>\n",
              "  </thead>\n",
              "  <tbody>\n",
              "    <tr>\n",
              "      <th>299</th>\n",
              "      <td>12388927</td>\n",
              "      <td>645000.0</td>\n",
              "    </tr>\n",
              "  </tbody>\n",
              "</table>\n",
              "</div>"
            ],
            "text/plain": [
              "        ad_id  Expected\n",
              "299  12388927  645000.0"
            ]
          },
          "metadata": {},
          "execution_count": 157
        }
      ]
    },
    {
      "cell_type": "code",
      "metadata": {
        "colab": {
          "base_uri": "https://localhost:8080/"
        },
        "id": "_39AnWhJy-Zy",
        "outputId": "750303c3-e763-4331-e6bd-0791f48bdf38"
      },
      "source": [
        "#Returns the dimensions of the array\n",
        "true_price.shape"
      ],
      "execution_count": 158,
      "outputs": [
        {
          "output_type": "execute_result",
          "data": {
            "text/plain": [
              "(500, 2)"
            ]
          },
          "metadata": {},
          "execution_count": 158
        }
      ]
    },
    {
      "cell_type": "code",
      "metadata": {
        "id": "7p63sCZeUNx3",
        "colab": {
          "base_uri": "https://localhost:8080/",
          "height": 300
        },
        "outputId": "cb875705-6f6d-4325-aa3a-346c7a229974"
      },
      "source": [
        "# Generate descriptive statistics\n",
        "true_price.describe()"
      ],
      "execution_count": 159,
      "outputs": [
        {
          "output_type": "execute_result",
          "data": {
            "text/html": [
              "<div>\n",
              "<style scoped>\n",
              "    .dataframe tbody tr th:only-of-type {\n",
              "        vertical-align: middle;\n",
              "    }\n",
              "\n",
              "    .dataframe tbody tr th {\n",
              "        vertical-align: top;\n",
              "    }\n",
              "\n",
              "    .dataframe thead th {\n",
              "        text-align: right;\n",
              "    }\n",
              "</style>\n",
              "<table border=\"1\" class=\"dataframe\">\n",
              "  <thead>\n",
              "    <tr style=\"text-align: right;\">\n",
              "      <th></th>\n",
              "      <th>ad_id</th>\n",
              "      <th>Expected</th>\n",
              "    </tr>\n",
              "  </thead>\n",
              "  <tbody>\n",
              "    <tr>\n",
              "      <th>count</th>\n",
              "      <td>5.000000e+02</td>\n",
              "      <td>5.000000e+02</td>\n",
              "    </tr>\n",
              "    <tr>\n",
              "      <th>mean</th>\n",
              "      <td>1.231695e+07</td>\n",
              "      <td>5.810356e+05</td>\n",
              "    </tr>\n",
              "    <tr>\n",
              "      <th>std</th>\n",
              "      <td>1.485832e+05</td>\n",
              "      <td>6.009194e+05</td>\n",
              "    </tr>\n",
              "    <tr>\n",
              "      <th>min</th>\n",
              "      <td>1.130615e+07</td>\n",
              "      <td>8.500000e+04</td>\n",
              "    </tr>\n",
              "    <tr>\n",
              "      <th>25%</th>\n",
              "      <td>1.228617e+07</td>\n",
              "      <td>2.950000e+05</td>\n",
              "    </tr>\n",
              "    <tr>\n",
              "      <th>50%</th>\n",
              "      <td>1.237964e+07</td>\n",
              "      <td>4.250000e+05</td>\n",
              "    </tr>\n",
              "    <tr>\n",
              "      <th>75%</th>\n",
              "      <td>1.240544e+07</td>\n",
              "      <td>5.950000e+05</td>\n",
              "    </tr>\n",
              "    <tr>\n",
              "      <th>max</th>\n",
              "      <td>1.242809e+07</td>\n",
              "      <td>5.750000e+06</td>\n",
              "    </tr>\n",
              "  </tbody>\n",
              "</table>\n",
              "</div>"
            ],
            "text/plain": [
              "              ad_id      Expected\n",
              "count  5.000000e+02  5.000000e+02\n",
              "mean   1.231695e+07  5.810356e+05\n",
              "std    1.485832e+05  6.009194e+05\n",
              "min    1.130615e+07  8.500000e+04\n",
              "25%    1.228617e+07  2.950000e+05\n",
              "50%    1.237964e+07  4.250000e+05\n",
              "75%    1.240544e+07  5.950000e+05\n",
              "max    1.242809e+07  5.750000e+06"
            ]
          },
          "metadata": {},
          "execution_count": 159
        }
      ]
    },
    {
      "cell_type": "markdown",
      "metadata": {
        "id": "bJFJQxAS9HZK"
      },
      "source": [
        "# PIECEWISE REGRESSION"
      ]
    },
    {
      "cell_type": "markdown",
      "metadata": {
        "id": "uQ_1QsLToIDi"
      },
      "source": [
        "## Full Model"
      ]
    },
    {
      "cell_type": "code",
      "metadata": {
        "id": "Yv5j1KzzMUnm"
      },
      "source": [
        "# select some features columns just for the baseline model\n",
        "# assume not all of the features are informative or useful\n",
        "# in this exercise you could try all of them if possible\n",
        "\n",
        "featrain = ['latitude','longitude','beds', 'bathrooms', 'property_type', 'price']\n",
        "# dropna: remove missing values\n",
        "df_subset_train = house_train[featrain].dropna(axis=0)\n",
        "\n",
        "featest = ['latitude','longitude','beds', 'bathrooms', 'property_type']\n",
        "# dropna: remove missing values\n",
        "df_subset_test  =  house_test[featest].dropna(axis=0)\n",
        "\n",
        "# Correlation of expected price in df_subset_test \n",
        "df_cost = true_price[true_price.index.isin(df_subset_test.index)]"
      ],
      "execution_count": 160,
      "outputs": []
    },
    {
      "cell_type": "code",
      "metadata": {
        "colab": {
          "base_uri": "https://localhost:8080/"
        },
        "id": "1JIgot9dpKfm",
        "outputId": "e5007543-62ac-4437-fa18-8ae6736a6b84"
      },
      "source": [
        "print('Number of nan in df_subset_train dataset: ',df_subset_train.isnull().sum().sum())\n",
        "print('Number of nan in df_subset_test dataset: ',df_subset_test.isnull().sum().sum())"
      ],
      "execution_count": 161,
      "outputs": [
        {
          "output_type": "stream",
          "name": "stdout",
          "text": [
            "Number of nan in df_subset_train dataset:  0\n",
            "Number of nan in df_subset_test dataset:  0\n"
          ]
        }
      ]
    },
    {
      "cell_type": "code",
      "metadata": {
        "id": "0IBRBJhepPVR"
      },
      "source": [
        "# train set, input columns\n",
        "Xs_train = df_subset_train.iloc[:,0:-1].values \n",
        "# train set, output column, cost\n",
        "ys_train = df_subset_train.iloc[:,-1].values.reshape(-1,1)   \n",
        "\n",
        "# test set, input columns\n",
        "Xs_test = df_subset_test.iloc[:,0:].values \n",
        "# test set, output column, cost\n",
        "y_test = df_cost.Expected.values"
      ],
      "execution_count": 162,
      "outputs": []
    },
    {
      "cell_type": "code",
      "metadata": {
        "id": "1XHaJSURpwjf"
      },
      "source": [
        "# StandardScaler() will normalize the features i.e. each column of X, \n",
        "# so, each column/feature/variable will have μ = 0 and σ = 1\n",
        "sc = StandardScaler()\n",
        "\n",
        "Xss_train = np.hstack([Xs_train,Xs_train[:,[2]]**2])\n",
        "xscaler = sc.fit(Xss_train)\n",
        "Xn_train = xscaler.transform(Xss_train)\n",
        "\n",
        "Xss_test = np.hstack([Xs_test,Xs_test[:,[2]]**2])\n",
        "Xn_test = xscaler.transform(Xss_test)\n",
        "\n",
        "ylog = np.log(ys_train.astype('float'))\n",
        "yscaler = StandardScaler().fit(ylog)\n",
        "yn_train = yscaler.transform(ylog)"
      ],
      "execution_count": 163,
      "outputs": []
    },
    {
      "cell_type": "code",
      "metadata": {
        "id": "PZK2kfygoIDi"
      },
      "source": [
        "# model\n",
        "with pm.Model() as model:\n",
        "    #prior over the parameters of linear regression\n",
        "    alpha = pm.Normal('alpha', mu=0, sigma=30)\n",
        "    #we have one beta for each column of Xn\n",
        "    beta = pm.Normal('beta', mu=0, sigma=30, shape=Xn_train.shape[1])\n",
        "    #prior over the variance of the noise\n",
        "    sigma = pm.HalfCauchy('sigma_n', 5)\n",
        "    #linear regression model in matrix form\n",
        "    mu = alpha + pm.math.dot(beta, Xn_train.T)\n",
        "    #likelihood, be sure that observed is a 1d vector\n",
        "    like = pm.Normal('like', mu=mu, sigma=sigma, observed=yn_train[:,0])"
      ],
      "execution_count": 164,
      "outputs": []
    },
    {
      "cell_type": "code",
      "metadata": {
        "colab": {
          "base_uri": "https://localhost:8080/",
          "height": 305
        },
        "id": "Qca_0nd2yXxt",
        "outputId": "2bea0984-639c-4329-c103-4accb3dfb42b"
      },
      "source": [
        "#number of iterations of the algorithms\n",
        "iter = 50000 \n",
        "\n",
        "# run the model\n",
        "with model:\n",
        "    approximation = pm.fit(iter,method='advi')\n",
        "    \n",
        "# check the convergence\n",
        "plt.plot(approximation.hist);"
      ],
      "execution_count": 165,
      "outputs": [
        {
          "output_type": "display_data",
          "data": {
            "text/html": [
              "\n",
              "    <div>\n",
              "        <style>\n",
              "            /* Turns off some styling */\n",
              "            progress {\n",
              "                /* gets rid of default border in Firefox and Opera. */\n",
              "                border: none;\n",
              "                /* Needs to be in here for Safari polyfill so background images work as expected. */\n",
              "                background-size: auto;\n",
              "            }\n",
              "            .progress-bar-interrupted, .progress-bar-interrupted::-webkit-progress-bar {\n",
              "                background: #F44336;\n",
              "            }\n",
              "        </style>\n",
              "      <progress value='50000' class='' max='50000' style='width:300px; height:20px; vertical-align: middle;'></progress>\n",
              "      100.00% [50000/50000 00:12<00:00 Average Loss = 3,166.5]\n",
              "    </div>\n",
              "    "
            ],
            "text/plain": [
              "<IPython.core.display.HTML object>"
            ]
          },
          "metadata": {}
        },
        {
          "output_type": "stream",
          "name": "stderr",
          "text": [
            "Finished [100%]: Average Loss = 3,166.5\n"
          ]
        },
        {
          "output_type": "display_data",
          "data": {
            "image/png": "[encoded data removed]",
            "text/plain": [
              "<Figure size 432x288 with 1 Axes>"
            ]
          },
          "metadata": {}
        }
      ]
    },
    {
      "cell_type": "code",
      "metadata": {
        "id": "5LlzCFCyybVK"
      },
      "source": [
        "# samples from the posterior\n",
        "posterior = approximation.sample(5000)"
      ],
      "execution_count": 166,
      "outputs": []
    },
    {
      "cell_type": "code",
      "metadata": {
        "id": "cIskuS3ToIDk",
        "colab": {
          "base_uri": "https://localhost:8080/"
        },
        "outputId": "5f5b8bbb-b009-4cc3-fbc6-58ea04f9a8b7"
      },
      "source": [
        "# prediction\n",
        "ll=np.mean(posterior['alpha']) + np.dot(np.mean(posterior['beta'],axis=0), Xn_test.T)\n",
        "y_pred_BLR = np.exp(yscaler.inverse_transform(ll.reshape(-1,1)))[:,0]\n",
        "print(\"MAE = \",(np.mean(abs(y_pred_BLR - y_test))))\n",
        "print(\"MAPE = \",(np.mean(abs(y_pred_BLR - y_test) / y_test)))"
      ],
      "execution_count": 167,
      "outputs": [
        {
          "output_type": "stream",
          "name": "stdout",
          "text": [
            "MAE =  217042.07004830134\n",
            "MAPE =  0.2924117110500084\n"
          ]
        }
      ]
    },
    {
      "cell_type": "markdown",
      "metadata": {
        "id": "q_jBBKvtoIDk"
      },
      "source": [
        "## Clustering"
      ]
    },
    {
      "cell_type": "markdown",
      "metadata": {
        "id": "VYFvbgYDaEOS"
      },
      "source": [
        "### Full Model"
      ]
    },
    {
      "cell_type": "code",
      "metadata": {
        "id": "iphQ53UE0iVw",
        "colab": {
          "base_uri": "https://localhost:8080/",
          "height": 285
        },
        "outputId": "4ed43dee-5507-420f-fb24-1583e3d63bd8"
      },
      "source": [
        "# training gaussian mixture model \n",
        "from sklearn.mixture import GaussianMixture\n",
        "\n",
        "gmm = GaussianMixture(n_components=4)\n",
        "# clustering by features 1 - 2\n",
        "ind=[0,1]\n",
        "X_ind = np.vstack([Xn_train[:,ind],Xn_test[:,ind]])\n",
        "# Gaussian Mixture\n",
        "gmm.fit(X_ind)\n",
        "# plot blue dots\n",
        "plt.scatter(X_ind[:,0],X_ind[:,1])\n",
        "# centroids:  orange dots\n",
        "plt.scatter(gmm.means_[:,0],gmm.means_[:,1])\n",
        "# lenght of feature clustering\n",
        "len(X_ind)"
      ],
      "execution_count": 187,
      "outputs": [
        {
          "output_type": "execute_result",
          "data": {
            "text/plain": [
              "3392"
            ]
          },
          "metadata": {},
          "execution_count": 187
        },
        {
          "output_type": "display_data",
          "data": {
            "image/png": "[encoded data removed]",
            "text/plain": [
              "<Figure size 432x288 with 1 Axes>"
            ]
          },
          "metadata": {}
        }
      ]
    },
    {
      "cell_type": "markdown",
      "metadata": {
        "id": "h51OhBV5Z4tY"
      },
      "source": [
        "### Clusters"
      ]
    },
    {
      "cell_type": "code",
      "metadata": {
        "id": "vNvx_KxrLt90",
        "colab": {
          "base_uri": "https://localhost:8080/"
        },
        "outputId": "af923a23-db03-472c-c60d-14678ae88b00"
      },
      "source": [
        "# train clusters\n",
        "clusters_train = gmm.predict(Xn_train[:,ind])\n",
        "unique_train, counts_train = np.unique(clusters_train, return_counts=True)\n",
        "dict(zip(unique_train, counts_train))"
      ],
      "execution_count": 188,
      "outputs": [
        {
          "output_type": "execute_result",
          "data": {
            "text/plain": [
              "{0: 832, 1: 533, 2: 1525, 3: 2}"
            ]
          },
          "metadata": {},
          "execution_count": 188
        }
      ]
    },
    {
      "cell_type": "code",
      "metadata": {
        "id": "-wTT4220zFNx",
        "colab": {
          "base_uri": "https://localhost:8080/"
        },
        "outputId": "facbd3c3-285a-4006-f8c3-63174630c96f"
      },
      "source": [
        "# test clusters\n",
        "clusters_test = gmm.predict(Xn_test[:,ind])\n",
        "unique_test, counts_test = np.unique(clusters_test, return_counts=True)\n",
        "dict(zip(unique_test, counts_test))"
      ],
      "execution_count": 189,
      "outputs": [
        {
          "output_type": "execute_result",
          "data": {
            "text/plain": [
              "{0: 127, 1: 94, 2: 279}"
            ]
          },
          "metadata": {},
          "execution_count": 189
        }
      ]
    },
    {
      "cell_type": "code",
      "metadata": {
        "id": "Ufq873Xmz0l0"
      },
      "source": [
        "# cluster 0\n",
        "Xn0 = Xn_train[clusters_train==0,:]\n",
        "Xtestn0 = Xn_test[clusters_test==0,:]\n",
        "\n",
        "ylog0 = np.log(ys_train.astype('float')[clusters_train==0,:])\n",
        "yscaler0 = StandardScaler().fit(ylog0)\n",
        "yn0 = yscaler0.transform(ylog0)"
      ],
      "execution_count": 190,
      "outputs": []
    },
    {
      "cell_type": "code",
      "metadata": {
        "id": "-mtUzK6cz0bU"
      },
      "source": [
        "# cluster 1\n",
        "Xn1 = Xn_train[clusters_train==1,:]\n",
        "Xtestn1 = Xn_test[clusters_test==1,:]\n",
        "ylog1 = np.log(ys_train.astype('float')[clusters_train==1,:])\n",
        "yscaler1 = StandardScaler().fit(ylog1)\n",
        "yn1 = yscaler1.transform(ylog1)"
      ],
      "execution_count": 191,
      "outputs": []
    },
    {
      "cell_type": "code",
      "metadata": {
        "id": "IrWxgCyUz0TV"
      },
      "source": [
        "# cluster 2\n",
        "Xn2 = Xn_train[clusters_train==2,:]\n",
        "Xtestn2 = Xn_test[clusters_test==2,:]\n",
        "ylog2 = np.log(ys_train.astype('float')[clusters_train==2,:])\n",
        "yscaler2 = StandardScaler().fit(ylog2)\n",
        "yn2 = yscaler2.transform(ylog2)"
      ],
      "execution_count": 192,
      "outputs": []
    },
    {
      "cell_type": "code",
      "metadata": {
        "id": "nmROyZCLz0Kw"
      },
      "source": [
        "# cluster 3\n",
        "Xn3 = Xn_train[clusters_train==3,:]\n",
        "Xtestn3 = Xn_test[clusters_test==3,:]\n",
        "ylog3 = np.log(ys_train.astype('float')[clusters_train==3,:])\n",
        "yscaler3 = StandardScaler().fit(ylog3)\n",
        "yn3 = yscaler3.transform(ylog3)"
      ],
      "execution_count": 193,
      "outputs": []
    },
    {
      "cell_type": "markdown",
      "metadata": {
        "id": "dXF25ZDYoIDl"
      },
      "source": [
        "## Piecewise Model"
      ]
    },
    {
      "cell_type": "code",
      "metadata": {
        "id": "N1e-4ruvaJci",
        "colab": {
          "base_uri": "https://localhost:8080/",
          "height": 55
        },
        "outputId": "7fed49ea-7aa1-44c8-e86f-ed09de6006e2"
      },
      "source": [
        "# model_0\n",
        "with pm.Model() as model_0:\n",
        "  # prior over the parameters of linear regression\n",
        "  alpha = pm.Normal('alpha', mu=0, sigma=30)\n",
        "  # we have a beta for each column of Xn0\n",
        "  beta = pm.Normal('beta', mu=0, sigma=30, shape=Xn0.shape[1])\n",
        "  # prior over the variance of the noise\n",
        "  sigma = pm.HalfCauchy('sigma_n', 5)\n",
        "  # linear regression relationship\n",
        "  #linear regression model in matrix form\n",
        "  mu = alpha + pm.math.dot(beta, Xn0.T)\n",
        "  # likelihood, be sure that observed is a 1d vector\n",
        "  like = pm.Normal('like', mu=mu, sigma=sigma, observed=yn0[:,0])\n",
        "\n",
        "with model_0:\n",
        "  # iterations of the algorithm\n",
        "  approximation = pm.fit(40000,method='advi')\n",
        "\n",
        "# samples from the posterior   \n",
        "posterior0 = approximation.sample(5000)"
      ],
      "execution_count": 194,
      "outputs": [
        {
          "output_type": "display_data",
          "data": {
            "text/html": [
              "\n",
              "    <div>\n",
              "        <style>\n",
              "            /* Turns off some styling */\n",
              "            progress {\n",
              "                /* gets rid of default border in Firefox and Opera. */\n",
              "                border: none;\n",
              "                /* Needs to be in here for Safari polyfill so background images work as expected. */\n",
              "                background-size: auto;\n",
              "            }\n",
              "            .progress-bar-interrupted, .progress-bar-interrupted::-webkit-progress-bar {\n",
              "                background: #F44336;\n",
              "            }\n",
              "        </style>\n",
              "      <progress value='40000' class='' max='40000' style='width:300px; height:20px; vertical-align: middle;'></progress>\n",
              "      100.00% [40000/40000 00:05<00:00 Average Loss = 883.76]\n",
              "    </div>\n",
              "    "
            ],
            "text/plain": [
              "<IPython.core.display.HTML object>"
            ]
          },
          "metadata": {}
        },
        {
          "output_type": "stream",
          "name": "stderr",
          "text": [
            "Finished [100%]: Average Loss = 883.75\n"
          ]
        }
      ]
    },
    {
      "cell_type": "code",
      "metadata": {
        "id": "5B8vKHZR0XCs",
        "colab": {
          "base_uri": "https://localhost:8080/",
          "height": 55
        },
        "outputId": "1aa089bc-3775-429c-9995-16470a9affd3"
      },
      "source": [
        "# model_1\n",
        "with pm.Model() as model_1:\n",
        "  # prior over the parameters of linear regression\n",
        "  alpha = pm.Normal('alpha', mu=0, sigma=30)\n",
        "  # we have a beta for each column of Xn\n",
        "  beta = pm.Normal('beta', mu=0, sigma=30, shape=Xn1.shape[1])\n",
        "  # prior over the variance of the noise\n",
        "  sigma = pm.HalfCauchy('sigma_n', 5)\n",
        "  # linear regression relationship\n",
        "  #linear regression model in matrix form\n",
        "  mu = alpha + pm.math.dot(beta, Xn1.T)\n",
        "  # likelihood, # \n",
        "  like = pm.Normal('like', mu=mu, sigma=sigma, observed=yn1[:,0])\n",
        "  \n",
        "with model_1:\n",
        "  # iterations of the algorithm\n",
        "  approximation = pm.fit(40000,method='advi')\n",
        "\n",
        "# samples from the posterior    \n",
        "posterior1 = approximation.sample(5000)"
      ],
      "execution_count": 195,
      "outputs": [
        {
          "output_type": "display_data",
          "data": {
            "text/html": [
              "\n",
              "    <div>\n",
              "        <style>\n",
              "            /* Turns off some styling */\n",
              "            progress {\n",
              "                /* gets rid of default border in Firefox and Opera. */\n",
              "                border: none;\n",
              "                /* Needs to be in here for Safari polyfill so background images work as expected. */\n",
              "                background-size: auto;\n",
              "            }\n",
              "            .progress-bar-interrupted, .progress-bar-interrupted::-webkit-progress-bar {\n",
              "                background: #F44336;\n",
              "            }\n",
              "        </style>\n",
              "      <progress value='40000' class='' max='40000' style='width:300px; height:20px; vertical-align: middle;'></progress>\n",
              "      100.00% [40000/40000 00:04<00:00 Average Loss = 553.77]\n",
              "    </div>\n",
              "    "
            ],
            "text/plain": [
              "<IPython.core.display.HTML object>"
            ]
          },
          "metadata": {}
        },
        {
          "output_type": "stream",
          "name": "stderr",
          "text": [
            "Finished [100%]: Average Loss = 553.77\n"
          ]
        }
      ]
    },
    {
      "cell_type": "code",
      "metadata": {
        "id": "nEACnicT0RvS",
        "colab": {
          "base_uri": "https://localhost:8080/",
          "height": 55
        },
        "outputId": "bbf7927a-5c3c-4df6-e7bf-0706c6bda327"
      },
      "source": [
        " # model_2\n",
        "with pm.Model() as model_2:\n",
        "  # prior over the parameters of linear regression\n",
        "  alpha = pm.Normal('alpha', mu=0, sigma=30)\n",
        "  # we have a beta for each column of Xn\n",
        "  beta = pm.Normal('beta', mu=0, sigma=30, shape=Xn2.shape[1])\n",
        "  # prior over the variance of the noise\n",
        "  sigma = pm.HalfCauchy('sigma_n', 5)\n",
        "  # linear regression relationship\n",
        "  # linear regression model in matrix form\n",
        "  mu = alpha + pm.math.dot(beta, Xn2.T)\n",
        "  # likelihood, be sure that observed is a 1d vector\n",
        "  like = pm.Normal('like', mu=mu, sigma=sigma, observed=yn2[:,0])\n",
        "    \n",
        "with model_2:\n",
        "  # iterations of the algorithms\n",
        "  approximation = pm.fit(40000,method='advi')\n",
        "\n",
        "# samples from the posterior    \n",
        "posterior2 = approximation.sample(5000) "
      ],
      "execution_count": 196,
      "outputs": [
        {
          "output_type": "display_data",
          "data": {
            "text/html": [
              "\n",
              "    <div>\n",
              "        <style>\n",
              "            /* Turns off some styling */\n",
              "            progress {\n",
              "                /* gets rid of default border in Firefox and Opera. */\n",
              "                border: none;\n",
              "                /* Needs to be in here for Safari polyfill so background images work as expected. */\n",
              "                background-size: auto;\n",
              "            }\n",
              "            .progress-bar-interrupted, .progress-bar-interrupted::-webkit-progress-bar {\n",
              "                background: #F44336;\n",
              "            }\n",
              "        </style>\n",
              "      <progress value='40000' class='' max='40000' style='width:300px; height:20px; vertical-align: middle;'></progress>\n",
              "      100.00% [40000/40000 00:05<00:00 Average Loss = 1,524.7]\n",
              "    </div>\n",
              "    "
            ],
            "text/plain": [
              "<IPython.core.display.HTML object>"
            ]
          },
          "metadata": {}
        },
        {
          "output_type": "stream",
          "name": "stderr",
          "text": [
            "Finished [100%]: Average Loss = 1,524.7\n"
          ]
        }
      ]
    },
    {
      "cell_type": "code",
      "metadata": {
        "id": "X1JJI0yH0Rlz",
        "colab": {
          "base_uri": "https://localhost:8080/",
          "height": 55
        },
        "outputId": "09f5fcf3-64f0-4d34-9d5c-9c6ed830d389"
      },
      "source": [
        "# model_3\n",
        "with pm.Model() as model3:\n",
        "  # prior over the parameters of linear regression\n",
        "  alpha = pm.Normal('alpha', mu=0, sigma=30)\n",
        "  # we have a beta for each column of Xn\n",
        "  beta = pm.Normal('beta', mu=0, sigma=30, shape=Xn3.shape[1])\n",
        "  # prior over the variance of the noise\n",
        "  sigma = pm.HalfCauchy('sigma_n', 5)\n",
        "  # linear regression relationship\n",
        "  mu = alpha + pm.math.dot(beta, Xn3.T)#linear regression model in matrix form\n",
        "  # likelihood, be sure that observed is a 1d vector\n",
        "  like = pm.Normal('like', mu=mu, sigma=sigma, observed=yn3[:,0])\n",
        "    \n",
        "with model3:\n",
        "  # number of iterations of the algorithms\n",
        "  approximation = pm.fit(40000,method='advi')\n",
        "\n",
        "# samples from the posterior     \n",
        "posterior3 = approximation.sample(5000)"
      ],
      "execution_count": 197,
      "outputs": [
        {
          "output_type": "display_data",
          "data": {
            "text/html": [
              "\n",
              "    <div>\n",
              "        <style>\n",
              "            /* Turns off some styling */\n",
              "            progress {\n",
              "                /* gets rid of default border in Firefox and Opera. */\n",
              "                border: none;\n",
              "                /* Needs to be in here for Safari polyfill so background images work as expected. */\n",
              "                background-size: auto;\n",
              "            }\n",
              "            .progress-bar-interrupted, .progress-bar-interrupted::-webkit-progress-bar {\n",
              "                background: #F44336;\n",
              "            }\n",
              "        </style>\n",
              "      <progress value='40000' class='' max='40000' style='width:300px; height:20px; vertical-align: middle;'></progress>\n",
              "      100.00% [40000/40000 00:03<00:00 Average Loss = 22.059]\n",
              "    </div>\n",
              "    "
            ],
            "text/plain": [
              "<IPython.core.display.HTML object>"
            ]
          },
          "metadata": {}
        },
        {
          "output_type": "stream",
          "name": "stderr",
          "text": [
            "Finished [100%]: Average Loss = 22.052\n"
          ]
        }
      ]
    },
    {
      "cell_type": "code",
      "metadata": {
        "id": "Erb06y6J04LY"
      },
      "source": [
        "# Posterior predictive checks (PPCs)\n",
        "def ppc(alpha,beta,sigma, X,  nsamples=500):\n",
        "    #we select nsamples random samples from the posterior\n",
        "    ind = np.random.randint(0,beta.shape[0],size=nsamples)\n",
        "    alphai = alpha[ind]\n",
        "    betai = beta[ind,:]\n",
        "    sigmai = sigma[ind]\n",
        "\n",
        "    Ypred = np.zeros((nsamples,X.shape[0]))\n",
        "    for i in range(X.shape[0]):\n",
        "        #we generate data from linear model\n",
        "        y_pred = alphai + np.dot(betai, X[i:i+1,:].T).T +np.random.randn(len(sigmai))*sigmai\n",
        "        Ypred[:,i]=y_pred[0,:]\n",
        "    return Ypred"
      ],
      "execution_count": 198,
      "outputs": []
    },
    {
      "cell_type": "markdown",
      "metadata": {
        "id": "wHBgUe1pcZQQ"
      },
      "source": [
        "##Simulations"
      ]
    },
    {
      "cell_type": "markdown",
      "metadata": {
        "id": "bfSEdYAUoIDn"
      },
      "source": [
        "### Only Cluster 0"
      ]
    },
    {
      "cell_type": "code",
      "metadata": {
        "id": "7yzEaEpE08gH",
        "colab": {
          "base_uri": "https://localhost:8080/",
          "height": 313
        },
        "outputId": "aad44c6a-f2a0-46f3-9209-52d68c1a231d"
      },
      "source": [
        "#Simulation\n",
        "Ypred0 = yscaler0.inverse_transform(ppc(posterior0['alpha'],posterior0['beta'],posterior0['sigma_n'],Xn0,  nsamples=200))\n",
        "for i in range(Ypred0.shape[0]):\n",
        "    az.plot_dist( Ypred0[i,:],color='r',plot_kwargs={\"linewidth\": 0.2})\n",
        "az.plot_dist(Ypred0[i,:],color='r',plot_kwargs={\"linewidth\": 0.2}, label=\"prediction\")\n",
        "#plt.plot(np.linspace(-8,8,100),norm.pdf(np.linspace(-8,8,100),df=np.mean(posterior_1['nu'])))\n",
        "#plt.xlim([0,10e7])\n",
        "az.plot_dist(ylog0,label='true observations');\n",
        "plt.legend()\n",
        "plt.xlabel(\"log(y) - output variable\")\n",
        "plt.ylabel(\"density plot\");"
      ],
      "execution_count": 199,
      "outputs": [
        {
          "output_type": "display_data",
          "data": {
            "image/png": "[encoded data removed]",
            "text/plain": [
              "<Figure size 432x288 with 1 Axes>"
            ]
          },
          "metadata": {}
        }
      ]
    },
    {
      "cell_type": "markdown",
      "metadata": {
        "id": "d7b_T2Lh1BhH"
      },
      "source": [
        "### Only Cluster 1"
      ]
    },
    {
      "cell_type": "code",
      "metadata": {
        "id": "jZQAf-ZI1GlM",
        "colab": {
          "base_uri": "https://localhost:8080/",
          "height": 313
        },
        "outputId": "977a0949-150a-464e-d70e-e351448d471d"
      },
      "source": [
        "#Simulation\n",
        "Ypred1 = yscaler1.inverse_transform(ppc(posterior1['alpha'],posterior1['beta'],posterior1['sigma_n'],Xn1,  nsamples=200))\n",
        "for i in range(Ypred1.shape[0]):\n",
        "    az.plot_dist( Ypred1[i,:],color='r',plot_kwargs={\"linewidth\": 0.2})\n",
        "az.plot_dist(Ypred1[i,:],color='r',plot_kwargs={\"linewidth\": 0.2}, label=\"prediction\")\n",
        "#plt.plot(np.linspace(-8,8,100),norm.pdf(np.linspace(-8,8,100),df=np.mean(posterior_1['nu'])))\n",
        "#plt.xlim([0,10e7])\n",
        "az.plot_dist(ylog1,label='true observations');\n",
        "plt.legend()\n",
        "plt.xlabel(\"log(y) - output variable\")\n",
        "plt.ylabel(\"density plot\");"
      ],
      "execution_count": 200,
      "outputs": [
        {
          "output_type": "display_data",
          "data": {
            "image/png": "[encoded data removed]",
            "text/plain": [
              "<Figure size 432x288 with 1 Axes>"
            ]
          },
          "metadata": {}
        }
      ]
    },
    {
      "cell_type": "markdown",
      "metadata": {
        "id": "3yW5TaHy1HAF"
      },
      "source": [
        "### Only Cluster 2"
      ]
    },
    {
      "cell_type": "code",
      "metadata": {
        "id": "mUdma5t_1IIb",
        "colab": {
          "base_uri": "https://localhost:8080/",
          "height": 313
        },
        "outputId": "d07a7bc4-af4e-49db-de3f-7127c71abef6"
      },
      "source": [
        "#Simulation\n",
        "Ypred2 = yscaler2.inverse_transform(ppc(posterior2['alpha'],posterior2['beta'],posterior2['sigma_n'],Xn2,  nsamples=200))\n",
        "for i in range(Ypred2.shape[0]):\n",
        "    az.plot_dist( Ypred2[i,:],color='r',plot_kwargs={\"linewidth\": 0.2})\n",
        "az.plot_dist(Ypred2[i,:],color='r',plot_kwargs={\"linewidth\": 0.2}, label=\"prediction\")\n",
        "#plt.plot(np.linspace(-8,8,100),norm.pdf(np.linspace(-8,8,100),df=np.mean(posterior_1['nu'])))\n",
        "#plt.xlim([0,10e7])\n",
        "az.plot_dist(ylog2,label='true observations');\n",
        "plt.legend()\n",
        "plt.xlabel(\"log(y) - output variable\")\n",
        "plt.ylabel(\"density plot\");"
      ],
      "execution_count": 201,
      "outputs": [
        {
          "output_type": "display_data",
          "data": {
            "image/png": "[encoded data removed]",
            "text/plain": [
              "<Figure size 432x288 with 1 Axes>"
            ]
          },
          "metadata": {}
        }
      ]
    },
    {
      "cell_type": "markdown",
      "metadata": {
        "id": "jBxKmM3t1Ig6"
      },
      "source": [
        "### Only Cluster 3"
      ]
    },
    {
      "cell_type": "code",
      "metadata": {
        "id": "MSHMYbWV1J_h",
        "colab": {
          "base_uri": "https://localhost:8080/",
          "height": 313
        },
        "outputId": "d4020d0c-bb6f-4f13-b27c-f2714ef136f9"
      },
      "source": [
        "#Simulation\n",
        "Ypred3 = yscaler3.inverse_transform(ppc(posterior3['alpha'],posterior3['beta'],posterior3['sigma_n'],Xn3,  nsamples=200))\n",
        "for i in range(Ypred3.shape[0]):\n",
        "    az.plot_dist( Ypred3[i,:],color='r',plot_kwargs={\"linewidth\": 0.2})\n",
        "az.plot_dist(Ypred3[i,:],color='r',plot_kwargs={\"linewidth\": 0.2}, label=\"prediction\")\n",
        "#plt.plot(np.linspace(-8,8,100),norm.pdf(np.linspace(-8,8,100),df=np.mean(posterior_1['nu'])))\n",
        "#plt.xlim([0,10e7])\n",
        "az.plot_dist(ylog3,label='true observations');\n",
        "plt.legend()\n",
        "plt.xlabel(\"log(y) - output variable\")\n",
        "plt.ylabel(\"density plot\");"
      ],
      "execution_count": 202,
      "outputs": [
        {
          "output_type": "display_data",
          "data": {
            "image/png": "[encoded data removed]",
            "text/plain": [
              "<Figure size 432x288 with 1 Axes>"
            ]
          },
          "metadata": {}
        }
      ]
    },
    {
      "cell_type": "markdown",
      "metadata": {
        "id": "qgMUwBO7oIDq"
      },
      "source": [
        "## Overall"
      ]
    },
    {
      "cell_type": "code",
      "metadata": {
        "id": "adUDX0Ox1VBu",
        "colab": {
          "base_uri": "https://localhost:8080/",
          "height": 313
        },
        "outputId": "2c6a5902-89bc-45e3-91a4-4de5b285a55d"
      },
      "source": [
        "# posteriors\n",
        "Ypred0 = ppc(posterior0['alpha'],posterior0['beta'],posterior0['sigma_n'],Xn0,  nsamples=200)\n",
        "Ypred1 = ppc(posterior1['alpha'],posterior1['beta'],posterior1['sigma_n'],Xn1,  nsamples=200)\n",
        "Ypred2 = ppc(posterior2['alpha'],posterior2['beta'],posterior2['sigma_n'],Xn2,  nsamples=200)\n",
        "Ypred3 = ppc(posterior3['alpha'],posterior3['beta'],posterior3['sigma_n'],Xn3,  nsamples=200)\n",
        "\n",
        "# simulation\n",
        "Ypred = np.hstack([ yscaler0.inverse_transform(Ypred0),\n",
        "                 yscaler1.inverse_transform(Ypred1),\n",
        "                 yscaler2.inverse_transform(Ypred2),\n",
        "                 yscaler3.inverse_transform(Ypred3)])\n",
        "\n",
        "# prediction\n",
        "for i in range(Ypred.shape[0]):\n",
        "    az.plot_dist( Ypred[i,:],color='r',plot_kwargs={\"linewidth\": 0.2})\n",
        "\n",
        "# plot\n",
        "az.plot_dist(Ypred[i,:],color='r',plot_kwargs={\"linewidth\": 0.2}, label=\"prediction\")\n",
        "ylog=np.vstack([ylog0,ylog1,ylog2,ylog3])\n",
        "az.plot_dist(ylog,label='true observations');\n",
        "plt.legend()\n",
        "plt.xlabel(\"log(y) - output variable\")\n",
        "plt.ylabel(\"density plot\");"
      ],
      "execution_count": 203,
      "outputs": [
        {
          "output_type": "display_data",
          "data": {
            "image/png": "[encoded data removed]",
            "text/plain": [
              "<Figure size 432x288 with 1 Axes>"
            ]
          },
          "metadata": {}
        }
      ]
    },
    {
      "cell_type": "markdown",
      "metadata": {
        "id": "QMY9rDvVoIDq"
      },
      "source": [
        "## Test set performance"
      ]
    },
    {
      "cell_type": "code",
      "metadata": {
        "id": "MhClcuGl1ZPb",
        "colab": {
          "base_uri": "https://localhost:8080/"
        },
        "outputId": "a4c09836-301a-4d40-9bab-9ac7d0493f5e"
      },
      "source": [
        "# cluster 0\n",
        "y_pred_BLR0 = np.exp(yscaler0.inverse_transform(np.mean(posterior0['alpha']) \n",
        "              + np.dot(np.mean(posterior0['beta'],axis=0), Xtestn0.T)))\n",
        "print(\"Size Cluster0\", np.sum(clusters_test==0), \", MAE Cluster0=\",\n",
        "      (np.mean(abs(y_pred_BLR0 - y_test[clusters_test==0]))))\n",
        "\n",
        "# cluster 1\n",
        "y_pred_BLR1 = np.exp(yscaler1.inverse_transform(np.mean(posterior1['alpha']) \n",
        "              + np.dot(np.mean(posterior1['beta'],axis=0), Xtestn1.T)))\n",
        "print(\"Size Cluster1\", np.sum(clusters_test==1), \", MAE Cluster1=\",\n",
        "      (np.mean(abs(y_pred_BLR1 - y_test[clusters_test==1]))))\n",
        "\n",
        "# cluster 2\n",
        "y_pred_BLR2 = np.exp(yscaler2.inverse_transform(np.mean(posterior2['alpha']) \n",
        "              + np.dot(np.mean(posterior2['beta'],axis=0), Xtestn2.T)))\n",
        "print(\"Size Cluster2\", np.sum(clusters_test==2), \", MAE Cluster2=\",\n",
        "      (np.mean(abs(y_pred_BLR2 - y_test[clusters_test==2]))))\n",
        "\n",
        "# cluster 3\n",
        "y_pred_BLR3 = np.exp(yscaler3.inverse_transform(np.mean(posterior3['alpha']) \n",
        "              + np.dot(np.mean(posterior3['beta'],axis=0), Xtestn3.T)))\n",
        "print(\"Size Cluster3\", np.sum(clusters_test==3), \", MAE Cluster3=\",\n",
        "      (np.mean(abs(y_pred_BLR3 - y_test[clusters_test==3]))))\n",
        "\n",
        "# joint\n",
        "joint=np.hstack([abs(y_pred_BLR0 - y_test[clusters_test==0]),\n",
        "                 abs(y_pred_BLR1 - y_test[clusters_test==1]),\n",
        "                 abs(y_pred_BLR2 - y_test[clusters_test==2]),\n",
        "                 abs(y_pred_BLR3 - y_test[clusters_test==3])])\n",
        "\n",
        "# MAE\n",
        "print(\"MAE=\",np.mean(joint))"
      ],
      "execution_count": 204,
      "outputs": [
        {
          "output_type": "stream",
          "name": "stdout",
          "text": [
            "Size Cluster0 127 , MAE Cluster0= 117714.77603970663\n",
            "Size Cluster1 94 , MAE Cluster1= 136907.42142117815\n",
            "Size Cluster2 279 , MAE Cluster2= 269228.6448011348\n",
            "Size Cluster3 0 , MAE Cluster3= nan\n",
            "MAE= 205867.7321403002\n"
          ]
        }
      ]
    },
    {
      "cell_type": "markdown",
      "metadata": {
        "id": "YGmB9BNkoIDr"
      },
      "source": [
        "### PPC on the Test set\n",
        "\n"
      ]
    },
    {
      "cell_type": "code",
      "metadata": {
        "id": "JXom1Pdb1cLW",
        "colab": {
          "base_uri": "https://localhost:8080/",
          "height": 313
        },
        "outputId": "470f7687-e7c0-4721-cd95-7897691550d6"
      },
      "source": [
        "## Posterior predictive checks (PPCs)\n",
        "num_samples2 = 200\n",
        "Ypred0 = ppc(posterior0['alpha'],posterior0['beta'],posterior0['sigma_n'],Xtestn0, nsamples=num_samples2)\n",
        "Ypred1 = ppc(posterior1['alpha'],posterior1['beta'],posterior1['sigma_n'],Xtestn1, nsamples=num_samples2)\n",
        "Ypred2 = ppc(posterior2['alpha'],posterior2['beta'],posterior2['sigma_n'],Xtestn2, nsamples=num_samples2)\n",
        "Ypred3 = ppc(posterior3['alpha'],posterior3['beta'],posterior3['sigma_n'],Xtestn3, nsamples=num_samples2)\n",
        "\n",
        "# Stack arrays in sequence horizontally (column wise)\n",
        "Ypred = np.hstack([yscaler0.inverse_transform(Ypred0),\n",
        "                 yscaler1.inverse_transform(Ypred1),\n",
        "                 yscaler2.inverse_transform(Ypred2),\n",
        "                 yscaler3.inverse_transform(Ypred3)])\n",
        "\n",
        "# plot prediction shape\n",
        "for i in range(Ypred.shape[0]):\n",
        "    az.plot_dist( Ypred[i,:],color='r',plot_kwargs={\"linewidth\": 0.2})\n",
        "# label\n",
        "az.plot_dist(Ypred[i,:],color='r',plot_kwargs={\"linewidth\": 0.2}, label=\"prediction\")\n",
        "\n",
        "# true observations\n",
        "az.plot_dist(np.log(y_test),label='true observations');\n",
        "plt.legend()\n",
        "plt.xlabel(\"log(y) - output variable\")\n",
        "plt.ylabel(\"density plot\");"
      ],
      "execution_count": 205,
      "outputs": [
        {
          "output_type": "display_data",
          "data": {
            "image/png": "[encoded data removed]",
            "text/plain": [
              "<Figure size 432x288 with 1 Axes>"
            ]
          },
          "metadata": {}
        }
      ]
    },
    {
      "cell_type": "markdown",
      "metadata": {
        "id": "f0GYCpwEM09T"
      },
      "source": [
        "# SUMMARY"
      ]
    },
    {
      "cell_type": "code",
      "metadata": {
        "id": "-2li7DDwd3As"
      },
      "source": [
        ""
      ],
      "execution_count": 186,
      "outputs": []
    }
  ]
}