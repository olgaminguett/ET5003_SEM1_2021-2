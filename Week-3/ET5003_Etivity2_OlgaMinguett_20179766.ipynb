{
  "nbformat": 4,
  "nbformat_minor": 0,
  "metadata": {
    "colab": {
      "name": "ET5003_Etivity2_OlgaMinguett_20179766.ipynb",
      "provenance": [],
      "collapsed_sections": [
        "VYFvbgYDaEOS",
        "h51OhBV5Z4tY",
        "bfSEdYAUoIDn",
        "YGmB9BNkoIDr"
      ],
      "include_colab_link": true
    },
    "kernelspec": {
      "name": "python3",
      "display_name": "Python 3"
    },
    "language_info": {
      "name": "python"
    }
  },
  "cells": [
    {
      "cell_type": "markdown",
      "metadata": {
        "id": "view-in-github",
        "colab_type": "text"
      },
      "source": [
        "<a href=\"https://colab.research.google.com/github/olgaminguett/ET5003_SEM1_2021-2/blob/main/Week-3%20/ET5003_Etivity2_OlgaMinguett_20179766.ipynb\" target=\"_parent\"><img src=\"https://colab.research.google.com/assets/colab-badge.svg\" alt=\"Open In Colab\"/></a>"
      ]
    },
    {
      "cell_type": "markdown",
      "metadata": {
        "id": "930vlW5BrOtq"
      },
      "source": [
        "<div>\n",
        "<img src=\"https://drive.google.com/uc?export=view&id=1vK33e_EqaHgBHcbRV_m38hx6IkG0blK_\" width=\"350\"/>\n",
        "</div> \n",
        "\n",
        "#**Artificial Intelligence - MSc**\n",
        "##ET5003 - MACHINE LEARNING APPLICATIONS \n",
        "\n",
        "###Instructor: Enrique Naredo\n",
        "###ET5003_Etivity-2"
      ]
    },
    {
      "cell_type": "code",
      "metadata": {
        "id": "LqXD_IwUQuBF",
        "cellView": "form"
      },
      "source": [
        "#@title Current Date\n",
        "Today = '2021-09-20' #@param {type:\"date\"}\n"
      ],
      "execution_count": null,
      "outputs": []
    },
    {
      "cell_type": "code",
      "metadata": {
        "id": "uzDKau31OjVO",
        "cellView": "form"
      },
      "source": [
        "#@markdown ---\n",
        "#@markdown ### Enter your details here:\n",
        "Student_ID = \"20179766\" #@param {type:\"string\"}\n",
        "Student_full_name = \"Olga Minguett\" #@param {type:\"string\"}\n",
        "#@markdown ---"
      ],
      "execution_count": null,
      "outputs": []
    },
    {
      "cell_type": "code",
      "metadata": {
        "id": "r39xGZckTpKx",
        "cellView": "form"
      },
      "source": [
        "#@title Notebook information\n",
        "Notebook_type = 'Etivity' #@param [\"Example\", \"Lab\", \"Practice\", \"Etivity\", \"Assignment\", \"Exam\"]\n",
        "Version = 'Draft' #@param [\"Draft\", \"Final\"] {type:\"raw\"}\n",
        "Submission = False #@param {type:\"boolean\"}"
      ],
      "execution_count": null,
      "outputs": []
    },
    {
      "cell_type": "markdown",
      "metadata": {
        "id": "_A0Z6S-r6DpA"
      },
      "source": [
        "# INTRODUCTION"
      ]
    },
    {
      "cell_type": "markdown",
      "metadata": {
        "id": "QkRchZtf6IV-"
      },
      "source": [
        "**Piecewise regression**, extract from [Wikipedia](https://en.wikipedia.org/wiki/Segmented_regression):\n",
        "\n",
        "Segmented regression, also known as piecewise regression or broken-stick regression, is a method in regression analysis in which the independent variable is partitioned into intervals and a separate line segment is fit to each interval. \n",
        "\n",
        "* Segmented regression analysis can also be performed on \n",
        "multivariate data by partitioning the various independent variables. \n",
        "* Segmented regression is useful when the independent variables, clustered into different groups, exhibit different relationships between the variables in these regions. \n",
        "\n",
        "* The boundaries between the segments are breakpoints.\n",
        "\n",
        "* Segmented linear regression is segmented regression whereby the relations in the intervals are obtained by linear regression. "
      ]
    },
    {
      "cell_type": "markdown",
      "metadata": {
        "id": "aajlS0WCJ8pm"
      },
      "source": [
        "***The goal is to use advanced Machine Learning methods to predict House price.***"
      ]
    },
    {
      "cell_type": "markdown",
      "metadata": {
        "id": "Wg7VCbX77eAA"
      },
      "source": [
        "## Import Libraries"
      ]
    },
    {
      "cell_type": "code",
      "metadata": {
        "id": "sYPJU_Y6O6Dq"
      },
      "source": [
        "# Suppressing Warnings:\n",
        "import warnings\n",
        "warnings.filterwarnings(\"ignore\")\n",
        "\n",
        "# to plot\n",
        "import seaborn as sns\n",
        "import matplotlib.colors\n",
        "import matplotlib.pyplot as plt\n",
        "from mpl_toolkits.mplot3d import Axes3D\n",
        "\n",
        "# to generate classification, regression and clustering datasets\n",
        "import sklearn.datasets as dt\n",
        "\n",
        "# to create data frames\n",
        "import pandas as pd\n",
        "\n",
        "# to generate data from an existing dataset\n",
        "from sklearn.neighbors import KernelDensity\n",
        "from sklearn.model_selection import GridSearchCV\n",
        "\n",
        "# to use mathematical functions\n",
        "import numpy as np\n",
        "\n",
        "# for Bayesian statistical modeling and probabilistic ML\n",
        "import pymc3 as pm\n",
        "\n",
        "# for exploratory analysis of Bayesian models\n",
        "import arviz as az\n",
        "\n",
        "# Standardize features by removing the mean and scaling to unit variance\n",
        "from sklearn.preprocessing import StandardScaler"
      ],
      "execution_count": null,
      "outputs": []
    },
    {
      "cell_type": "code",
      "metadata": {
        "id": "6MUJdlxSPSMM"
      },
      "source": [
        "# Define the seed so that results can be reproduced\n",
        "seed = 11\n",
        "rand_state = 11\n",
        "\n",
        "# Define the color maps for plots\n",
        "color_map = plt.cm.get_cmap('RdYlBu')\n",
        "color_map_discrete = matplotlib.colors.LinearSegmentedColormap.from_list(\"\", [\"red\",\"cyan\",\"magenta\",\"blue\"])\n",
        "\n",
        "# set a grey background (use sns.set_theme() if seaborn version 0.11.0 or above) \n",
        "sns.set(style=\"darkgrid\")"
      ],
      "execution_count": null,
      "outputs": []
    },
    {
      "cell_type": "markdown",
      "metadata": {
        "id": "WL91ShB19RPw"
      },
      "source": [
        "# DATASET"
      ]
    },
    {
      "cell_type": "markdown",
      "metadata": {
        "id": "ESg5DGKWJSOf"
      },
      "source": [
        "Extract from this [paper](https://ieeexplore.ieee.org/document/9300074):\n",
        "\n",
        "* House prices are a significant impression of the economy, and its value ranges are of great concerns for the clients and property dealers. \n",
        "\n",
        "* Housing price escalate every year that eventually reinforced the need of strategy or technique that could predict house prices in future. \n",
        "\n",
        "* There are certain factors that influence house prices including physical conditions, locations, number of bedrooms and others.\n"
      ]
    },
    {
      "cell_type": "markdown",
      "metadata": {
        "id": "a8Y2pf50FlYL"
      },
      "source": [
        "1. [Download the dataset](https://github.com/UL-ET5003/ET5003_SEM1_2021-2/tree/main/Week-3). \n",
        "\n",
        "2. Upload the dataset into your folder.\n",
        "\n"
      ]
    },
    {
      "cell_type": "markdown",
      "metadata": {
        "id": "FMkdCQEmKTof"
      },
      "source": [
        "The challenge is to predict the final price of each house."
      ]
    },
    {
      "cell_type": "markdown",
      "metadata": {
        "id": "5uXMRJFn8eu1"
      },
      "source": [
        "## Read Data "
      ]
    },
    {
      "cell_type": "code",
      "metadata": {
        "colab": {
          "base_uri": "https://localhost:8080/"
        },
        "id": "0jw3S2Yp8nwd",
        "outputId": "07f57b04-ba4a-4ab4-db7e-e86315d6f711"
      },
      "source": [
        "from google.colab import drive\n",
        "drive.mount('/content/drive')"
      ],
      "execution_count": null,
      "outputs": [
        {
          "output_type": "stream",
          "name": "stdout",
          "text": [
            "Drive already mounted at /content/drive; to attempt to forcibly remount, call drive.mount(\"/content/drive\", force_remount=True).\n"
          ]
        }
      ]
    },
    {
      "cell_type": "code",
      "metadata": {
        "id": "kdi6L4at8zN0"
      },
      "source": [
        "# Path, copy the path from your Drive\n",
        "syntPath = '/content/drive/My Drive/Colab Notebooks/house-data/' "
      ],
      "execution_count": null,
      "outputs": []
    },
    {
      "cell_type": "code",
      "metadata": {
        "id": "uBJZkkFp9Kme"
      },
      "source": [
        "# House Data\n",
        "house_train = syntPath + 'house_train.csv'\n",
        "house_test = syntPath + 'house_test.csv'\n",
        "true_price = syntPath + 'true_price.csv'"
      ],
      "execution_count": null,
      "outputs": []
    },
    {
      "cell_type": "code",
      "metadata": {
        "id": "VDMWeNUfeD78"
      },
      "source": [
        "# Read datasets\n",
        "house_train = pd.read_csv(house_train)\n",
        "house_test = pd.read_csv(house_test)\n",
        "true_price = pd.read_csv(true_price)"
      ],
      "execution_count": null,
      "outputs": []
    },
    {
      "cell_type": "markdown",
      "metadata": {
        "id": "o9ZjHEKfwk-m"
      },
      "source": [
        "## Data Examination"
      ]
    },
    {
      "cell_type": "markdown",
      "metadata": {
        "id": "UrIrNE-c2MYD"
      },
      "source": [
        "### True Price"
      ]
    },
    {
      "cell_type": "code",
      "metadata": {
        "colab": {
          "base_uri": "https://localhost:8080/",
          "height": 143
        },
        "id": "RKHgprEbvYAo",
        "outputId": "f12ba30d-2111-4761-84b1-81391ed90b00"
      },
      "source": [
        "true_price.sample(3)"
      ],
      "execution_count": null,
      "outputs": [
        {
          "output_type": "execute_result",
          "data": {
            "text/html": [
              "<div>\n",
              "<style scoped>\n",
              "    .dataframe tbody tr th:only-of-type {\n",
              "        vertical-align: middle;\n",
              "    }\n",
              "\n",
              "    .dataframe tbody tr th {\n",
              "        vertical-align: top;\n",
              "    }\n",
              "\n",
              "    .dataframe thead th {\n",
              "        text-align: right;\n",
              "    }\n",
              "</style>\n",
              "<table border=\"1\" class=\"dataframe\">\n",
              "  <thead>\n",
              "    <tr style=\"text-align: right;\">\n",
              "      <th></th>\n",
              "      <th>Id</th>\n",
              "      <th>Expected</th>\n",
              "    </tr>\n",
              "  </thead>\n",
              "  <tbody>\n",
              "    <tr>\n",
              "      <th>229</th>\n",
              "      <td>12235803</td>\n",
              "      <td>1595000.0</td>\n",
              "    </tr>\n",
              "    <tr>\n",
              "      <th>131</th>\n",
              "      <td>12371378</td>\n",
              "      <td>330000.0</td>\n",
              "    </tr>\n",
              "    <tr>\n",
              "      <th>422</th>\n",
              "      <td>12308684</td>\n",
              "      <td>243000.0</td>\n",
              "    </tr>\n",
              "  </tbody>\n",
              "</table>\n",
              "</div>"
            ],
            "text/plain": [
              "           Id   Expected\n",
              "229  12235803  1595000.0\n",
              "131  12371378   330000.0\n",
              "422  12308684   243000.0"
            ]
          },
          "metadata": {},
          "execution_count": 10
        }
      ]
    },
    {
      "cell_type": "code",
      "metadata": {
        "id": "yA2diFb_5J7F"
      },
      "source": [
        "# Rename columns in the existing DataFrame\n",
        "true_price.rename(columns={'Id': 'ad_id'}, inplace=True)"
      ],
      "execution_count": null,
      "outputs": []
    },
    {
      "cell_type": "code",
      "metadata": {
        "colab": {
          "base_uri": "https://localhost:8080/"
        },
        "id": "hUo_3X0uvjNS",
        "outputId": "6287d9e1-a7de-4b8c-871b-9a188621ae27"
      },
      "source": [
        "#Concise summary of the dataframe\n",
        "true_price.info()"
      ],
      "execution_count": null,
      "outputs": [
        {
          "output_type": "stream",
          "name": "stdout",
          "text": [
            "<class 'pandas.core.frame.DataFrame'>\n",
            "RangeIndex: 500 entries, 0 to 499\n",
            "Data columns (total 2 columns):\n",
            " #   Column    Non-Null Count  Dtype  \n",
            "---  ------    --------------  -----  \n",
            " 0   ad_id     500 non-null    int64  \n",
            " 1   Expected  500 non-null    float64\n",
            "dtypes: float64(1), int64(1)\n",
            "memory usage: 7.9 KB\n"
          ]
        }
      ]
    },
    {
      "cell_type": "code",
      "metadata": {
        "colab": {
          "base_uri": "https://localhost:8080/"
        },
        "id": "-WpWKo6W2kkj",
        "outputId": "58e14b94-6280-4d2e-cd60-d96083797e95"
      },
      "source": [
        "#Returns the dimensions of the array - Rows & Columns\n",
        "true_price.shape"
      ],
      "execution_count": null,
      "outputs": [
        {
          "output_type": "execute_result",
          "data": {
            "text/plain": [
              "(500, 2)"
            ]
          },
          "metadata": {},
          "execution_count": 13
        }
      ]
    },
    {
      "cell_type": "markdown",
      "metadata": {
        "id": "UQs_da6V2QF4"
      },
      "source": [
        "### House Data"
      ]
    },
    {
      "cell_type": "code",
      "metadata": {
        "colab": {
          "base_uri": "https://localhost:8080/",
          "height": 267
        },
        "id": "u9YAvOqdHixx",
        "outputId": "f527104a-8199-4409-e2e8-eec86a087920"
      },
      "source": [
        "# Print sample rows of the dataframe\n",
        "house_train.sample(3)"
      ],
      "execution_count": null,
      "outputs": [
        {
          "output_type": "execute_result",
          "data": {
            "text/html": [
              "<div>\n",
              "<style scoped>\n",
              "    .dataframe tbody tr th:only-of-type {\n",
              "        vertical-align: middle;\n",
              "    }\n",
              "\n",
              "    .dataframe tbody tr th {\n",
              "        vertical-align: top;\n",
              "    }\n",
              "\n",
              "    .dataframe thead th {\n",
              "        text-align: right;\n",
              "    }\n",
              "</style>\n",
              "<table border=\"1\" class=\"dataframe\">\n",
              "  <thead>\n",
              "    <tr style=\"text-align: right;\">\n",
              "      <th></th>\n",
              "      <th>ad_id</th>\n",
              "      <th>area</th>\n",
              "      <th>bathrooms</th>\n",
              "      <th>beds</th>\n",
              "      <th>ber_classification</th>\n",
              "      <th>county</th>\n",
              "      <th>description_block</th>\n",
              "      <th>environment</th>\n",
              "      <th>facility</th>\n",
              "      <th>features</th>\n",
              "      <th>latitude</th>\n",
              "      <th>longitude</th>\n",
              "      <th>no_of_units</th>\n",
              "      <th>price</th>\n",
              "      <th>property_category</th>\n",
              "      <th>property_type</th>\n",
              "      <th>surface</th>\n",
              "    </tr>\n",
              "  </thead>\n",
              "  <tbody>\n",
              "    <tr>\n",
              "      <th>290</th>\n",
              "      <td>12097275</td>\n",
              "      <td>Portobello</td>\n",
              "      <td>2.0</td>\n",
              "      <td>3.0</td>\n",
              "      <td>D2</td>\n",
              "      <td>Dublin</td>\n",
              "      <td>No 1 St. Kevin€TM Road is a charming end of te...</td>\n",
              "      <td>prod</td>\n",
              "      <td>NaN</td>\n",
              "      <td>Beautifully proportioned accommodation\\nSouth ...</td>\n",
              "      <td>53.330214</td>\n",
              "      <td>-6.269034</td>\n",
              "      <td>NaN</td>\n",
              "      <td>695000.0</td>\n",
              "      <td>sale</td>\n",
              "      <td>end-of-terrace</td>\n",
              "      <td>103.6</td>\n",
              "    </tr>\n",
              "    <tr>\n",
              "      <th>1441</th>\n",
              "      <td>12374881</td>\n",
              "      <td>Terenure</td>\n",
              "      <td>3.0</td>\n",
              "      <td>4.0</td>\n",
              "      <td>E1</td>\n",
              "      <td>Dublin</td>\n",
              "      <td>Sherry FitzGerald are immensely proud to bring...</td>\n",
              "      <td>prod</td>\n",
              "      <td>NaN</td>\n",
              "      <td>Stunning detached property\\nOverlooking Terenu...</td>\n",
              "      <td>53.307220</td>\n",
              "      <td>-6.292298</td>\n",
              "      <td>NaN</td>\n",
              "      <td>1795000.0</td>\n",
              "      <td>sale</td>\n",
              "      <td>detached</td>\n",
              "      <td>252.0</td>\n",
              "    </tr>\n",
              "    <tr>\n",
              "      <th>2024</th>\n",
              "      <td>12392961</td>\n",
              "      <td>Clonsilla</td>\n",
              "      <td>1.0</td>\n",
              "      <td>1.0</td>\n",
              "      <td>C3</td>\n",
              "      <td>Dublin</td>\n",
              "      <td>ON VIEW SATURDAY 7th MARCH 12.00-12.30pm\\nREGI...</td>\n",
              "      <td>prod</td>\n",
              "      <td>NaN</td>\n",
              "      <td>None</td>\n",
              "      <td>53.382708</td>\n",
              "      <td>-6.396429</td>\n",
              "      <td>NaN</td>\n",
              "      <td>190000.0</td>\n",
              "      <td>sale</td>\n",
              "      <td>apartment</td>\n",
              "      <td>53.0</td>\n",
              "    </tr>\n",
              "  </tbody>\n",
              "</table>\n",
              "</div>"
            ],
            "text/plain": [
              "         ad_id        area  ...   property_type  surface\n",
              "290   12097275  Portobello  ...  end-of-terrace    103.6\n",
              "1441  12374881    Terenure  ...        detached    252.0\n",
              "2024  12392961   Clonsilla  ...       apartment     53.0\n",
              "\n",
              "[3 rows x 17 columns]"
            ]
          },
          "metadata": {},
          "execution_count": 14
        }
      ]
    },
    {
      "cell_type": "code",
      "metadata": {
        "colab": {
          "base_uri": "https://localhost:8080/",
          "height": 285
        },
        "id": "2jsiSWOhHiNU",
        "outputId": "aaa534a0-6c71-42c0-cc6a-d71509188555"
      },
      "source": [
        "# Print sample rows of the dataframe\n",
        "house_test.sample(3)"
      ],
      "execution_count": null,
      "outputs": [
        {
          "output_type": "execute_result",
          "data": {
            "text/html": [
              "<div>\n",
              "<style scoped>\n",
              "    .dataframe tbody tr th:only-of-type {\n",
              "        vertical-align: middle;\n",
              "    }\n",
              "\n",
              "    .dataframe tbody tr th {\n",
              "        vertical-align: top;\n",
              "    }\n",
              "\n",
              "    .dataframe thead th {\n",
              "        text-align: right;\n",
              "    }\n",
              "</style>\n",
              "<table border=\"1\" class=\"dataframe\">\n",
              "  <thead>\n",
              "    <tr style=\"text-align: right;\">\n",
              "      <th></th>\n",
              "      <th>ad_id</th>\n",
              "      <th>area</th>\n",
              "      <th>bathrooms</th>\n",
              "      <th>beds</th>\n",
              "      <th>ber_classification</th>\n",
              "      <th>county</th>\n",
              "      <th>description_block</th>\n",
              "      <th>environment</th>\n",
              "      <th>facility</th>\n",
              "      <th>features</th>\n",
              "      <th>latitude</th>\n",
              "      <th>longitude</th>\n",
              "      <th>no_of_units</th>\n",
              "      <th>property_category</th>\n",
              "      <th>property_type</th>\n",
              "      <th>surface</th>\n",
              "    </tr>\n",
              "  </thead>\n",
              "  <tbody>\n",
              "    <tr>\n",
              "      <th>167</th>\n",
              "      <td>12102833</td>\n",
              "      <td>Dartry</td>\n",
              "      <td>2.0</td>\n",
              "      <td>4.0</td>\n",
              "      <td>E2</td>\n",
              "      <td>Dublin</td>\n",
              "      <td>Wonderful opportunity to acquire a detached fa...</td>\n",
              "      <td>prod</td>\n",
              "      <td>NaN</td>\n",
              "      <td>Double glazed\\nGFCH\\nSecluded south facing gar...</td>\n",
              "      <td>53.308837</td>\n",
              "      <td>-6.257154</td>\n",
              "      <td>NaN</td>\n",
              "      <td>sale</td>\n",
              "      <td>detached</td>\n",
              "      <td>195.1</td>\n",
              "    </tr>\n",
              "    <tr>\n",
              "      <th>382</th>\n",
              "      <td>12393212</td>\n",
              "      <td>Smithfield</td>\n",
              "      <td>1.0</td>\n",
              "      <td>1.0</td>\n",
              "      <td>E2</td>\n",
              "      <td>Dublin</td>\n",
              "      <td>Sherry FitzGerald are delighted to present 82 ...</td>\n",
              "      <td>prod</td>\n",
              "      <td>NaN</td>\n",
              "      <td>Designated parking space\\nCity Centre location...</td>\n",
              "      <td>53.351157</td>\n",
              "      <td>-6.277891</td>\n",
              "      <td>NaN</td>\n",
              "      <td>sale</td>\n",
              "      <td>apartment</td>\n",
              "      <td>43.0</td>\n",
              "    </tr>\n",
              "    <tr>\n",
              "      <th>399</th>\n",
              "      <td>12327550</td>\n",
              "      <td>Ballinteer</td>\n",
              "      <td>2.0</td>\n",
              "      <td>5.0</td>\n",
              "      <td>D2</td>\n",
              "      <td>Dublin</td>\n",
              "      <td>*** Saturday 29th Open Viewing Cancelled*** Ch...</td>\n",
              "      <td>prod</td>\n",
              "      <td>Parking,Gas Fired Central Heating</td>\n",
              "      <td>Large rear garden\\nGarage to front &amp;amp; to si...</td>\n",
              "      <td>53.276491</td>\n",
              "      <td>-6.251348</td>\n",
              "      <td>NaN</td>\n",
              "      <td>sale</td>\n",
              "      <td>semi-detached</td>\n",
              "      <td>138.0</td>\n",
              "    </tr>\n",
              "  </tbody>\n",
              "</table>\n",
              "</div>"
            ],
            "text/plain": [
              "        ad_id        area  bathrooms  ...  property_category  property_type surface\n",
              "167  12102833      Dartry        2.0  ...               sale       detached   195.1\n",
              "382  12393212  Smithfield        1.0  ...               sale      apartment    43.0\n",
              "399  12327550  Ballinteer        2.0  ...               sale  semi-detached   138.0\n",
              "\n",
              "[3 rows x 16 columns]"
            ]
          },
          "metadata": {},
          "execution_count": 15
        }
      ]
    },
    {
      "cell_type": "code",
      "metadata": {
        "colab": {
          "base_uri": "https://localhost:8080/"
        },
        "id": "W-Ucg3kLoHP3",
        "outputId": "e4302543-f28c-452c-8426-f285a6eb403c"
      },
      "source": [
        "#Returns column name\n",
        "print('Train Data Columns',house_train.columns)\n",
        "print('Test Data Columns',house_test.columns)"
      ],
      "execution_count": null,
      "outputs": [
        {
          "output_type": "stream",
          "name": "stdout",
          "text": [
            "Train Data Columns Index(['ad_id', 'area', 'bathrooms', 'beds', 'ber_classification', 'county',\n",
            "       'description_block', 'environment', 'facility', 'features', 'latitude',\n",
            "       'longitude', 'no_of_units', 'price', 'property_category',\n",
            "       'property_type', 'surface'],\n",
            "      dtype='object')\n",
            "Test Data Columns Index(['ad_id', 'area', 'bathrooms', 'beds', 'ber_classification', 'county',\n",
            "       'description_block', 'environment', 'facility', 'features', 'latitude',\n",
            "       'longitude', 'no_of_units', 'property_category', 'property_type',\n",
            "       'surface'],\n",
            "      dtype='object')\n"
          ]
        }
      ]
    },
    {
      "cell_type": "code",
      "metadata": {
        "colab": {
          "base_uri": "https://localhost:8080/"
        },
        "id": "OV0r8iVMoRxg",
        "outputId": "96625691-7e8a-40f9-a1a5-913130c13c50"
      },
      "source": [
        "#Returns the dimensions of the array - Rows & Columns\n",
        "print('Train Data Shape',house_train.shape)\n",
        "print('Test Data Shape',house_test.shape)"
      ],
      "execution_count": null,
      "outputs": [
        {
          "output_type": "stream",
          "name": "stdout",
          "text": [
            "Train Data Shape (2982, 17)\n",
            "Test Data Shape (500, 16)\n"
          ]
        }
      ]
    },
    {
      "cell_type": "code",
      "metadata": {
        "colab": {
          "base_uri": "https://localhost:8080/"
        },
        "id": "goelkt03nlnX",
        "outputId": "3ba11d49-3e41-43fb-bf03-04d8113dd010"
      },
      "source": [
        "#Concise summary of the dataframe\n",
        "print('Train Data Information')\n",
        "house_train.info()"
      ],
      "execution_count": null,
      "outputs": [
        {
          "output_type": "stream",
          "name": "stdout",
          "text": [
            "Train Data Information\n",
            "<class 'pandas.core.frame.DataFrame'>\n",
            "RangeIndex: 2982 entries, 0 to 2981\n",
            "Data columns (total 17 columns):\n",
            " #   Column              Non-Null Count  Dtype  \n",
            "---  ------              --------------  -----  \n",
            " 0   ad_id               2982 non-null   int64  \n",
            " 1   area                2982 non-null   object \n",
            " 2   bathrooms           2931 non-null   float64\n",
            " 3   beds                2931 non-null   float64\n",
            " 4   ber_classification  2305 non-null   object \n",
            " 5   county              2982 non-null   object \n",
            " 6   description_block   2982 non-null   object \n",
            " 7   environment         2982 non-null   object \n",
            " 8   facility            965 non-null    object \n",
            " 9   features            2982 non-null   object \n",
            " 10  latitude            2982 non-null   float64\n",
            " 11  longitude           2982 non-null   float64\n",
            " 12  no_of_units         59 non-null     float64\n",
            " 13  price               2892 non-null   float64\n",
            " 14  property_category   2982 non-null   object \n",
            " 15  property_type       2931 non-null   object \n",
            " 16  surface             2431 non-null   float64\n",
            "dtypes: float64(7), int64(1), object(9)\n",
            "memory usage: 396.2+ KB\n"
          ]
        }
      ]
    },
    {
      "cell_type": "code",
      "metadata": {
        "colab": {
          "base_uri": "https://localhost:8080/"
        },
        "id": "Kbf3PQI3OF16",
        "outputId": "d82f01dc-15c3-4583-b5c3-4e156a699ac6"
      },
      "source": [
        "print('Test Data Information')\n",
        "house_test.info()"
      ],
      "execution_count": null,
      "outputs": [
        {
          "output_type": "stream",
          "name": "stdout",
          "text": [
            "Test Data Information\n",
            "<class 'pandas.core.frame.DataFrame'>\n",
            "RangeIndex: 500 entries, 0 to 499\n",
            "Data columns (total 16 columns):\n",
            " #   Column              Non-Null Count  Dtype  \n",
            "---  ------              --------------  -----  \n",
            " 0   ad_id               500 non-null    int64  \n",
            " 1   area                500 non-null    object \n",
            " 2   bathrooms           500 non-null    float64\n",
            " 3   beds                500 non-null    float64\n",
            " 4   ber_classification  444 non-null    object \n",
            " 5   county              500 non-null    object \n",
            " 6   description_block   500 non-null    object \n",
            " 7   environment         500 non-null    object \n",
            " 8   facility            189 non-null    object \n",
            " 9   features            500 non-null    object \n",
            " 10  latitude            500 non-null    float64\n",
            " 11  longitude           500 non-null    float64\n",
            " 12  no_of_units         0 non-null      float64\n",
            " 13  property_category   500 non-null    object \n",
            " 14  property_type       500 non-null    object \n",
            " 15  surface             500 non-null    float64\n",
            "dtypes: float64(6), int64(1), object(9)\n",
            "memory usage: 62.6+ KB\n"
          ]
        }
      ]
    },
    {
      "cell_type": "code",
      "metadata": {
        "colab": {
          "base_uri": "https://localhost:8080/"
        },
        "id": "99rydwospDg1",
        "outputId": "9edf064c-ddcb-46b7-d828-89621a743dce"
      },
      "source": [
        "# Missing Values\n",
        "print('Train Data Missing Values')\n",
        "print(house_train.isna().sum())"
      ],
      "execution_count": null,
      "outputs": [
        {
          "output_type": "stream",
          "name": "stdout",
          "text": [
            "Train Data Missing Values\n",
            "ad_id                    0\n",
            "area                     0\n",
            "bathrooms               51\n",
            "beds                    51\n",
            "ber_classification     677\n",
            "county                   0\n",
            "description_block        0\n",
            "environment              0\n",
            "facility              2017\n",
            "features                 0\n",
            "latitude                 0\n",
            "longitude                0\n",
            "no_of_units           2923\n",
            "price                   90\n",
            "property_category        0\n",
            "property_type           51\n",
            "surface                551\n",
            "dtype: int64\n"
          ]
        }
      ]
    },
    {
      "cell_type": "code",
      "metadata": {
        "colab": {
          "base_uri": "https://localhost:8080/"
        },
        "id": "Hz7qRaKXOJ8H",
        "outputId": "a254f2a3-3cfc-4867-933b-3f0a2c8c4daa"
      },
      "source": [
        "print('Test Data Missing Values')\n",
        "print(house_test.isna().sum())"
      ],
      "execution_count": null,
      "outputs": [
        {
          "output_type": "stream",
          "name": "stdout",
          "text": [
            "Test Data Missing Values\n",
            "ad_id                   0\n",
            "area                    0\n",
            "bathrooms               0\n",
            "beds                    0\n",
            "ber_classification     56\n",
            "county                  0\n",
            "description_block       0\n",
            "environment             0\n",
            "facility              311\n",
            "features                0\n",
            "latitude                0\n",
            "longitude               0\n",
            "no_of_units           500\n",
            "property_category       0\n",
            "property_type           0\n",
            "surface                 0\n",
            "dtype: int64\n"
          ]
        }
      ]
    },
    {
      "cell_type": "code",
      "metadata": {
        "colab": {
          "base_uri": "https://localhost:8080/"
        },
        "id": "1rRLlZx4nlkT",
        "outputId": "e860bf87-e7d7-488c-d3a5-0e1e11c1b233"
      },
      "source": [
        "#Percentage of NAN Values\n",
        "print('Train Data Percentage of NAN Values')\n",
        "print(house_train.isna().mean().round(4) * 100)"
      ],
      "execution_count": null,
      "outputs": [
        {
          "output_type": "stream",
          "name": "stdout",
          "text": [
            "Train Data Percentage of NAN Values\n",
            "ad_id                  0.00\n",
            "area                   0.00\n",
            "bathrooms              1.71\n",
            "beds                   1.71\n",
            "ber_classification    22.70\n",
            "county                 0.00\n",
            "description_block      0.00\n",
            "environment            0.00\n",
            "facility              67.64\n",
            "features               0.00\n",
            "latitude               0.00\n",
            "longitude              0.00\n",
            "no_of_units           98.02\n",
            "price                  3.02\n",
            "property_category      0.00\n",
            "property_type          1.71\n",
            "surface               18.48\n",
            "dtype: float64\n"
          ]
        }
      ]
    },
    {
      "cell_type": "code",
      "metadata": {
        "colab": {
          "base_uri": "https://localhost:8080/"
        },
        "id": "JjHD56QDOMhr",
        "outputId": "e0a6180a-7e64-4b60-e163-a85f2da26af4"
      },
      "source": [
        "print('Test Data Percentage of NAN Values')\n",
        "print(house_test.isna().mean().round(4) * 100)"
      ],
      "execution_count": null,
      "outputs": [
        {
          "output_type": "stream",
          "name": "stdout",
          "text": [
            "Test Data Percentage of NAN Values\n",
            "ad_id                   0.0\n",
            "area                    0.0\n",
            "bathrooms               0.0\n",
            "beds                    0.0\n",
            "ber_classification     11.2\n",
            "county                  0.0\n",
            "description_block       0.0\n",
            "environment             0.0\n",
            "facility               62.2\n",
            "features                0.0\n",
            "latitude                0.0\n",
            "longitude               0.0\n",
            "no_of_units           100.0\n",
            "property_category       0.0\n",
            "property_type           0.0\n",
            "surface                 0.0\n",
            "dtype: float64\n"
          ]
        }
      ]
    },
    {
      "cell_type": "markdown",
      "metadata": {
        "id": "p3xQN96VwG-u"
      },
      "source": [
        "## Process and Encode the Features"
      ]
    },
    {
      "cell_type": "markdown",
      "metadata": {
        "id": "Y0bUby91o9YE"
      },
      "source": [
        "### Missing Values"
      ]
    },
    {
      "cell_type": "markdown",
      "metadata": {
        "id": "_vrIWy3LokZY"
      },
      "source": [
        "\n",
        "#### Numerical Attributes"
      ]
    },
    {
      "cell_type": "markdown",
      "metadata": {
        "id": "_q3e9AFaxXQs"
      },
      "source": [
        "Bathrooms"
      ]
    },
    {
      "cell_type": "code",
      "metadata": {
        "id": "UotbTPxvxZLj"
      },
      "source": [
        "house_train.dropna(subset=['bathrooms'], inplace=True)"
      ],
      "execution_count": null,
      "outputs": []
    },
    {
      "cell_type": "markdown",
      "metadata": {
        "id": "bFlhU6tqy8FR"
      },
      "source": [
        "Number of Units"
      ]
    },
    {
      "cell_type": "code",
      "metadata": {
        "id": "sznoq0way8i3"
      },
      "source": [
        "house_train.drop('no_of_units', axis=1, inplace=True)\n",
        "house_test.drop('no_of_units', axis=1, inplace=True)"
      ],
      "execution_count": null,
      "outputs": []
    },
    {
      "cell_type": "markdown",
      "metadata": {
        "id": "7APBYBIzx-e5"
      },
      "source": [
        "Price"
      ]
    },
    {
      "cell_type": "code",
      "metadata": {
        "id": "6Ohzc6nbyAJG"
      },
      "source": [
        "house_train.dropna(subset=['price'], inplace=True)"
      ],
      "execution_count": null,
      "outputs": []
    },
    {
      "cell_type": "markdown",
      "metadata": {
        "id": "AZ5EtWVYsjWi"
      },
      "source": [
        "Surface"
      ]
    },
    {
      "cell_type": "code",
      "metadata": {
        "id": "4FDcMIUtsjvy"
      },
      "source": [
        "house_train['surface'].fillna(house_train['surface'].median(), inplace=True)"
      ],
      "execution_count": null,
      "outputs": []
    },
    {
      "cell_type": "markdown",
      "metadata": {
        "id": "05SAL8mEpTP3"
      },
      "source": [
        "#### Categorical Attributes"
      ]
    },
    {
      "cell_type": "markdown",
      "metadata": {
        "id": "2ACIEkktuOyJ"
      },
      "source": [
        "Area"
      ]
    },
    {
      "cell_type": "code",
      "metadata": {
        "id": "uifAgY8hdlmU"
      },
      "source": [
        "house_train['area'].replace({'Temple Bar':'Dublin 1', 'IFSC':'Dublin 1', \n",
        "                            'Grand Canal Dock':'Dublin 2',\n",
        "                            'Clontarf':'Dublin 3', 'East Wall':'Dublin 3', 'North Strand':'Dublin 3', 'Fairview':'Dublin 3', 'Marino':'Dublin 3', 'Ballyboughal':'Dublin 3', \n",
        "                            'Ballsbridge':'Dublin 4', 'Donnybrook':'Dublin 4','Sandymount':'Dublin 4','Ringsend':'Dublin 4','Irishtown':'Dublin 4','Merrion':'Dublin 4',\n",
        "                            'Artane':'Dublin 5','Raheny':'Dublin 5','Kilbarrack':'Dublin 5','Edenmore':'Dublin 5','Kilmore':'Dublin 5','Donnycarney':'Dublin 5',\n",
        "                            'Rathmines':'Dublin 6','Rathgar':'Dublin 6','Ranelagh':'Dublin 6','Milltown':'Dublin 6','Dartry':'Dublin 6',\n",
        "                            'Stoneybatter':'Dublin 7','Phibsborough':'Dublin 7','Navan Road (D7)':'Dublin 7','North Circular Road':'Dublin 7','Smithfield':'Dublin 7','Ashtown':'Dublin 7','Cabra':'Dublin 7',\n",
        "                            'Kilmainham':'Dublin 8','Inchicore':'Dublin 8','Rialto':'Dublin 8','Portobello':'Dublin 8','South Circular Road':'Dublin 8','Islandbridge':'Dublin 8','The Coombe':'Dublin 8',\"Dolphin's Barn\":'Dublin 8','Christchurch':'Dublin 8',\n",
        "                            'Drumcondra':'Dublin 9','Glasnevin':'Dublin 9','Santry':'Dublin 9','Whitehall':'Dublin 9','Beaumont':'Dublin 9','Ballymun':'Dublin 9','Poppintree':'Dublin 9',\n",
        "                            'Ballyfermot':'Dublin 10','Cherry Orchard':'Dublin 10',\n",
        "                            'Finglas':'Dublin 11',\"St Margaret's\":'Dublin 11',\n",
        "                            'Walkinstown':'Dublin 12','Crumlin':'Dublin 12','Drimnagh':'Dublin 12','Bluebell':'Dublin 12','Park West':'Dublin 12','Perrystown':'Dublin 12',\n",
        "                            'Malahide':'Dublin 13','Howth':'Dublin 13','Sutton':'Dublin 13','Baldoyle':'Dublin 13','Donaghmede':'Dublin 13','Bayside':'Dublin 13','Ard Na Greine':'Dublin 13','Clongriffin':'Dublin 13','Clarehall':'Dublin 13',\n",
        "                            'Dundrum':'Dublin 14','Churchtown':'Dublin 14','Goatstown':'Dublin 14','Clonskeagh':'Dublin 14','Windy Arbour':'Dublin 14',\n",
        "                            'Carpenterstown':'Dublin 15','Castleknock':'Dublin 15','Clonsilla':'Dublin 15','Blanchardstown':'Dublin 15','Clonee':'Dublin 15','Coolmine':'Dublin 15','Hartstown':'Dublin 15','Mulhuddart':'Dublin 15','The Ward':'Dublin 15','Ongar':'Dublin 15','Tyrrelstown':'Dublin 15',\n",
        "                            'Rathfarnham':'Dublin 16','Ballinteer':'Dublin 16','Ballinascorney':'Dublin 16','Knocklyon':'Dublin 16',\n",
        "                            'Darndale':'Dublin 17','Clonshaugh':'Dublin 17','Coolock':'Dublin 17','Killester':'Dublin 17',\n",
        "                            'Deansgrange':'Dublin 18','Sandyford':'Dublin 18','Foxrock':'Dublin 18','Stepaside':'Dublin 18','Cabinteely':'Dublin 18','Carrickmines':'Dublin 18','Leopardstown':'Dublin 18','Kilternan':'Dublin 18','Shankill':'Dublin 18',\n",
        "                            'Palmerstown':'Dublin 20','Chapelizod':'Dublin 20','Lucan':'Dublin 20',\n",
        "                            'Clondalkin':'Dublin 22','Kingswood':'Dublin 22','Newcastle':'Dublin 22',\n",
        "                            'Ballymount':'Dublin 24','Kiltipper':'Dublin 24','Tallaght':'Dublin 24','Balrothery':'Dublin 24','Rathcoole':'Dublin 24','Kilnamanagh':'Dublin 24','Firhouse':'Dublin 24','Greenhills':'Dublin 24','Oldbawn':'Dublin 24','Adamstown':'Dublin 24','Saggart':'Dublin 24','Citywest':'Dublin 24','Ballycullen':'Dublin 24','Brittas':'Dublin 24',\n",
        "                            'Terenure':'Dublin 6w',\"Harold's Cross\":'Dublin 6w','Kimmage':'Dublin 6w','Templeogue':'Dublin 6w',\n",
        "                            'Donabate':'Co. Fingal','Swords':'Co. Fingal','Portmarnock':'Co. Fingal','Kinsealy':'Co. Fingal','Balgriffin':'Co. Fingal','Garristown':'Co. Fingal','Naul':'Co. Fingal','Skerries':'Co. Fingal','Rush':'Co. Fingal','Lusk':'Co. Fingal','Balbriggan':'Co. Fingal','Loughshinny':'Co. Fingal','Ballybough':'Co. Fingal',\n",
        "                            'Blackrock':'Co. Dun Laoghaire-Rathdown','Dun Laoghaire':'Co. Dun Laoghaire-Rathdown','Glenageary':'Co. Dun Laoghaire-Rathdown',\n",
        "                            'Monkstown':'Co. Dun Laoghaire-Rathdown','Booterstown':'Co. Dun Laoghaire-Rathdown','Sandycove':'Co. Dun Laoghaire-Rathdown',\n",
        "                            'Rathmichael':'Co. Dun Laoghaire-Rathdown','Mount Merrion':'Co. Dun Laoghaire-Rathdown','Ballybrack':'Co. Dun Laoghaire-Rathdown','Sallynoggin':'Co. Dun Laoghaire-Rathdown',\n",
        "                            'Kilmacud':'Co. Dun Laoghaire-Rathdown','Dalkey':'Co. Dun Laoghaire-Rathdown','Killiney':'Co. Dun Laoghaire-Rathdown','Loughlinstown':'Co. Dun Laoghaire-Rathdown',\n",
        "                            }, inplace=True)"
      ],
      "execution_count": null,
      "outputs": []
    },
    {
      "cell_type": "code",
      "metadata": {
        "id": "UBYHR72dJ5jp"
      },
      "source": [
        "house_test['area'].replace({'Temple Bar':'Dublin 1', 'IFSC':'Dublin 1', \n",
        "                            'Grand Canal Dock':'Dublin 2',\n",
        "                            'Clontarf':'Dublin 3', 'East Wall':'Dublin 3', 'North Strand':'Dublin 3', 'Fairview':'Dublin 3', 'Marino':'Dublin 3', 'Ballyboughal':'Dublin 3', \n",
        "                            'Ballsbridge':'Dublin 4', 'Donnybrook':'Dublin 4','Sandymount':'Dublin 4','Ringsend':'Dublin 4','Irishtown':'Dublin 4','Merrion':'Dublin 4',\n",
        "                            'Artane':'Dublin 5','Raheny':'Dublin 5','Kilbarrack':'Dublin 5','Edenmore':'Dublin 5','Kilmore':'Dublin 5','Donnycarney':'Dublin 5',\n",
        "                            'Rathmines':'Dublin 6','Rathgar':'Dublin 6','Ranelagh':'Dublin 6','Milltown':'Dublin 6','Dartry':'Dublin 6',\n",
        "                            'Stoneybatter':'Dublin 7','Phibsborough':'Dublin 7','Navan Road (D7)':'Dublin 7','North Circular Road':'Dublin 7','Smithfield':'Dublin 7','Ashtown':'Dublin 7','Cabra':'Dublin 7',\n",
        "                            'Kilmainham':'Dublin 8','Inchicore':'Dublin 8','Rialto':'Dublin 8','Portobello':'Dublin 8','South Circular Road':'Dublin 8','Islandbridge':'Dublin 8','The Coombe':'Dublin 8',\"Dolphin's Barn\":'Dublin 8','Christchurch':'Dublin 8',\n",
        "                            'Drumcondra':'Dublin 9','Glasnevin':'Dublin 9','Santry':'Dublin 9','Whitehall':'Dublin 9','Beaumont':'Dublin 9','Ballymun':'Dublin 9','Poppintree':'Dublin 9',\n",
        "                            'Ballyfermot':'Dublin 10','Cherry Orchard':'Dublin 10',\n",
        "                            'Finglas':'Dublin 11',\"St Margaret's\":'Dublin 11',\n",
        "                            'Walkinstown':'Dublin 12','Crumlin':'Dublin 12','Drimnagh':'Dublin 12','Bluebell':'Dublin 12','Park West':'Dublin 12','Perrystown':'Dublin 12',\n",
        "                            'Malahide':'Dublin 13','Howth':'Dublin 13','Sutton':'Dublin 13','Baldoyle':'Dublin 13','Donaghmede':'Dublin 13','Bayside':'Dublin 13','Ard Na Greine':'Dublin 13','Clongriffin':'Dublin 13','Clarehall':'Dublin 13',\n",
        "                            'Dundrum':'Dublin 14','Churchtown':'Dublin 14','Goatstown':'Dublin 14','Clonskeagh':'Dublin 14','Windy Arbour':'Dublin 14',\n",
        "                            'Carpenterstown':'Dublin 15','Castleknock':'Dublin 15','Clonsilla':'Dublin 15','Blanchardstown':'Dublin 15','Clonee':'Dublin 15','Coolmine':'Dublin 15','Hartstown':'Dublin 15','Mulhuddart':'Dublin 15','The Ward':'Dublin 15','Ongar':'Dublin 15','Tyrrelstown':'Dublin 15',\n",
        "                            'Rathfarnham':'Dublin 16','Ballinteer':'Dublin 16','Ballinascorney':'Dublin 16','Knocklyon':'Dublin 16',\n",
        "                            'Darndale':'Dublin 17','Clonshaugh':'Dublin 17','Coolock':'Dublin 17','Killester':'Dublin 17',\n",
        "                            'Deansgrange':'Dublin 18','Sandyford':'Dublin 18','Foxrock':'Dublin 18','Stepaside':'Dublin 18','Cabinteely':'Dublin 18','Carrickmines':'Dublin 18','Leopardstown':'Dublin 18','Kilternan':'Dublin 18','Shankill':'Dublin 18',\n",
        "                            'Palmerstown':'Dublin 20','Chapelizod':'Dublin 20','Lucan':'Dublin 20',\n",
        "                            'Clondalkin':'Dublin 22','Kingswood':'Dublin 22','Newcastle':'Dublin 22',\n",
        "                            'Ballymount':'Dublin 24','Kiltipper':'Dublin 24','Tallaght':'Dublin 24','Balrothery':'Dublin 24','Rathcoole':'Dublin 24','Kilnamanagh':'Dublin 24','Firhouse':'Dublin 24','Greenhills':'Dublin 24','Oldbawn':'Dublin 24','Adamstown':'Dublin 24','Saggart':'Dublin 24','Citywest':'Dublin 24','Ballycullen':'Dublin 24','Brittas':'Dublin 24',\n",
        "                            'Terenure':'Dublin 6w',\"Harold's Cross\":'Dublin 6w','Kimmage':'Dublin 6w','Templeogue':'Dublin 6w',\n",
        "                            'Donabate':'Co. Fingal','Swords':'Co. Fingal','Portmarnock':'Co. Fingal','Kinsealy':'Co. Fingal','Balgriffin':'Co. Fingal','Garristown':'Co. Fingal','Naul':'Co. Fingal','Skerries':'Co. Fingal','Rush':'Co. Fingal','Lusk':'Co. Fingal','Balbriggan':'Co. Fingal','Loughshinny':'Co. Fingal','Ballybough':'Co. Fingal',\n",
        "                            'Blackrock':'Co. Dun Laoghaire-Rathdown','Dun Laoghaire':'Co. Dun Laoghaire-Rathdown','Glenageary':'Co. Dun Laoghaire-Rathdown',\n",
        "                            'Monkstown':'Co. Dun Laoghaire-Rathdown','Booterstown':'Co. Dun Laoghaire-Rathdown','Sandycove':'Co. Dun Laoghaire-Rathdown',\n",
        "                            'Rathmichael':'Co. Dun Laoghaire-Rathdown','Mount Merrion':'Co. Dun Laoghaire-Rathdown','Ballybrack':'Co. Dun Laoghaire-Rathdown','Sallynoggin':'Co. Dun Laoghaire-Rathdown',\n",
        "                            'Kilmacud':'Co. Dun Laoghaire-Rathdown','Dalkey':'Co. Dun Laoghaire-Rathdown','Killiney':'Co. Dun Laoghaire-Rathdown','Loughlinstown':'Co. Dun Laoghaire-Rathdown',\n",
        "                            }, inplace=True)"
      ],
      "execution_count": null,
      "outputs": []
    },
    {
      "cell_type": "code",
      "metadata": {
        "colab": {
          "base_uri": "https://localhost:8080/"
        },
        "id": "e94xK7rwnlcx",
        "outputId": "07acf19f-6bde-43be-8e36-6d5b47c96663"
      },
      "source": [
        "house_train['area'].value_counts()"
      ],
      "execution_count": null,
      "outputs": [
        {
          "output_type": "execute_result",
          "data": {
            "text/plain": [
              "Co. Fingal                    300\n",
              "Co. Dun Laoghaire-Rathdown    253\n",
              "Dublin 15                     214\n",
              "Dublin 9                      197\n",
              "Dublin 24                     179\n",
              "Dublin 13                     175\n",
              "Dublin 18                     155\n",
              "Dublin 4                      146\n",
              "Dublin 16                     128\n",
              "Dublin 8                      127\n",
              "Dublin 7                      118\n",
              "Dublin 3                       96\n",
              "Dublin 20                      96\n",
              "Dublin 11                      92\n",
              "Dublin 12                      86\n",
              "Dublin 14                      84\n",
              "Dublin 6                       80\n",
              "Dublin 6w                      78\n",
              "Dublin 22                      71\n",
              "Dublin 1                       68\n",
              "Dublin 5                       68\n",
              "Dublin 2                       39\n",
              "Dublin 17                      29\n",
              "Dublin 10                      13\n",
              "Name: area, dtype: int64"
            ]
          },
          "metadata": {},
          "execution_count": 30
        }
      ]
    },
    {
      "cell_type": "code",
      "metadata": {
        "colab": {
          "base_uri": "https://localhost:8080/"
        },
        "id": "iKNgTDoCKFip",
        "outputId": "30a4e667-a379-4eb5-e5b1-1af69dfece02"
      },
      "source": [
        "house_test['area'].value_counts()"
      ],
      "execution_count": null,
      "outputs": [
        {
          "output_type": "execute_result",
          "data": {
            "text/plain": [
              "Co. Fingal                    62\n",
              "Co. Dun Laoghaire-Rathdown    55\n",
              "Dublin 4                      36\n",
              "Dublin 18                     30\n",
              "Dublin 15                     30\n",
              "Dublin 9                      29\n",
              "Dublin 6w                     26\n",
              "Dublin 8                      25\n",
              "Dublin 3                      24\n",
              "Dublin 16                     23\n",
              "Dublin 7                      22\n",
              "Dublin 13                     21\n",
              "Dublin 6                      20\n",
              "Dublin 24                     18\n",
              "Dublin 5                      17\n",
              "Dublin 20                     17\n",
              "Dublin 12                     12\n",
              "Dublin 14                     10\n",
              "Dublin 22                      8\n",
              "Dublin 2                       5\n",
              "Dublin 1                       4\n",
              "Dublin 17                      3\n",
              "Dublin 11                      2\n",
              "Dublin 10                      1\n",
              "Name: area, dtype: int64"
            ]
          },
          "metadata": {},
          "execution_count": 31
        }
      ]
    },
    {
      "cell_type": "code",
      "metadata": {
        "id": "OaomdaV-nxRI"
      },
      "source": [
        "area_mapper = {\n",
        "          'Dublin 1': 1,                      \n",
        "          'Dublin 2': 2,\n",
        "          'Dublin 3': 3,\n",
        "          'Dublin 4': 4,\n",
        "          'Dublin 5': 5,\n",
        "          'Dublin 6': 6,                      \n",
        "          'Dublin 6w': 7,  \n",
        "          'Dublin 7': 8, \n",
        "          'Dublin 8': 9,                    \n",
        "          'Dublin 9': 10,\n",
        "          'Dublin 10': 11,\n",
        "          'Dublin 11': 12,                           \n",
        "          'Dublin 12': 13,                      \n",
        "          'Dublin 13': 14,\n",
        "          'Dublin 14': 15,                   \n",
        "          'Dublin 15': 16,\n",
        "          'Dublin 16': 17, \n",
        "          'Dublin 17': 18,     \n",
        "          'Dublin 18': 19, \n",
        "          'Dublin 20': 20,\n",
        "          'Dublin 22': 21,                    \n",
        "          'Dublin 24': 22,\n",
        "          'Co. Fingal': 23,                    \n",
        "          'Co. Dun Laoghaire-Rathdown': 24\n",
        "          }\n",
        "house_train['area'] = house_train['area'].replace(area_mapper)\n",
        "house_test['area'] = house_test['area'].replace(area_mapper)"
      ],
      "execution_count": null,
      "outputs": []
    },
    {
      "cell_type": "markdown",
      "metadata": {
        "id": "BMT69QXmuReC"
      },
      "source": [
        "BER Classification"
      ]
    },
    {
      "cell_type": "code",
      "metadata": {
        "colab": {
          "base_uri": "https://localhost:8080/"
        },
        "id": "zc2eNUEVnlaZ",
        "outputId": "4e252778-cc81-4974-ffad-a6a2e023eb2a"
      },
      "source": [
        "house_train['ber_classification'].value_counts()"
      ],
      "execution_count": null,
      "outputs": [
        {
          "output_type": "execute_result",
          "data": {
            "text/plain": [
              "D1                     283\n",
              "D2                     272\n",
              "C3                     264\n",
              "C2                     242\n",
              "C1                     211\n",
              "E1                     182\n",
              "E2                     168\n",
              "G                      164\n",
              "F                      163\n",
              "B3                     130\n",
              "B2                      73\n",
              "A3                      66\n",
              "SINo666of2006exempt     25\n",
              "A2                      24\n",
              "B1                      16\n",
              "A1                       1\n",
              "Name: ber_classification, dtype: int64"
            ]
          },
          "metadata": {},
          "execution_count": 33
        }
      ]
    },
    {
      "cell_type": "code",
      "metadata": {
        "id": "WRcthiaRv6cm"
      },
      "source": [
        "ber_classification_mapper = {\n",
        "    \"A1\": 1,\n",
        "    \"A2\": 2,\n",
        "    \"A3\": 3,\n",
        "    \"B1\": 4,\n",
        "    \"B2\": 5,\n",
        "    \"B3\": 6,\n",
        "    \"C1\": 7,\n",
        "    \"C2\": 8,\n",
        "    \"C3\": 9,\n",
        "    \"D1\": 10,\n",
        "    \"D2\": 11,\n",
        "    \"E1\": 12,\n",
        "    \"E2\": 13,\n",
        "    \"F\": 14,\n",
        "    \"G\": 15,\n",
        "    \"SINo666of2006exempt\": 16,\n",
        "}\n",
        "house_train['ber_classification'] = house_train['ber_classification'].replace(ber_classification_mapper)\n",
        "house_test['ber_classification'] = house_test['ber_classification'].replace(ber_classification_mapper)"
      ],
      "execution_count": null,
      "outputs": []
    },
    {
      "cell_type": "code",
      "metadata": {
        "id": "AjP7askMsPBL"
      },
      "source": [
        "house_train['ber_classification'].fillna(house_train['ber_classification'].median(), inplace=True)\n",
        "house_test['ber_classification'].fillna(house_test['ber_classification'].median(), inplace=True)"
      ],
      "execution_count": null,
      "outputs": []
    },
    {
      "cell_type": "markdown",
      "metadata": {
        "id": "m8VQF__yuVBt"
      },
      "source": [
        "County"
      ]
    },
    {
      "cell_type": "code",
      "metadata": {
        "colab": {
          "base_uri": "https://localhost:8080/"
        },
        "id": "R1icn97fnlXe",
        "outputId": "2aa41377-ad8d-4be0-d3b4-2c15ad7de846"
      },
      "source": [
        "house_train['county'].value_counts()"
      ],
      "execution_count": null,
      "outputs": [
        {
          "output_type": "execute_result",
          "data": {
            "text/plain": [
              "Dublin    2892\n",
              "Name: county, dtype: int64"
            ]
          },
          "metadata": {},
          "execution_count": 36
        }
      ]
    },
    {
      "cell_type": "code",
      "metadata": {
        "id": "6C-12NVrml31"
      },
      "source": [
        "house_train.drop('county', axis=1, inplace=True)\n",
        "house_test.drop('county', axis=1, inplace=True)"
      ],
      "execution_count": null,
      "outputs": []
    },
    {
      "cell_type": "markdown",
      "metadata": {
        "id": "XsY9RMX5uXD7"
      },
      "source": [
        "Description Block"
      ]
    },
    {
      "cell_type": "code",
      "metadata": {
        "colab": {
          "base_uri": "https://localhost:8080/"
        },
        "id": "RY3Dp_DKnlUY",
        "outputId": "cb48b360-98bf-427f-8d87-aed173d08eb3"
      },
      "source": [
        "house_train['description_block'].head(2)"
      ],
      "execution_count": null,
      "outputs": [
        {
          "output_type": "execute_result",
          "data": {
            "text/plain": [
              "15    *  Final Luxury 5 Bedroom Home Remaining *\\n\\r...\n",
              "26    *ONE HOUSE REMAINING* \\n\\r\\n1 x Type B - Semi-...\n",
              "Name: description_block, dtype: object"
            ]
          },
          "metadata": {},
          "execution_count": 38
        }
      ]
    },
    {
      "cell_type": "code",
      "metadata": {
        "id": "aSUitzFUuano"
      },
      "source": [
        "house_train.drop('description_block', axis=1, inplace=True)\n",
        "house_test.drop('description_block', axis=1, inplace=True)"
      ],
      "execution_count": null,
      "outputs": []
    },
    {
      "cell_type": "markdown",
      "metadata": {
        "id": "SbwIPgjbutsR"
      },
      "source": [
        "Environment"
      ]
    },
    {
      "cell_type": "code",
      "metadata": {
        "colab": {
          "base_uri": "https://localhost:8080/"
        },
        "id": "LjbL53RsnlOZ",
        "outputId": "1dec05e3-53a7-4f67-bc96-5fc99880b9be"
      },
      "source": [
        "house_train['environment'].value_counts()"
      ],
      "execution_count": null,
      "outputs": [
        {
          "output_type": "execute_result",
          "data": {
            "text/plain": [
              "prod    2892\n",
              "Name: environment, dtype: int64"
            ]
          },
          "metadata": {},
          "execution_count": 40
        }
      ]
    },
    {
      "cell_type": "code",
      "metadata": {
        "id": "zpYQpQ-tmh1O"
      },
      "source": [
        "house_train.drop('environment', axis=1, inplace=True)\n",
        "house_test.drop('environment', axis=1, inplace=True)"
      ],
      "execution_count": null,
      "outputs": []
    },
    {
      "cell_type": "markdown",
      "metadata": {
        "id": "CcyD8oCtuyru"
      },
      "source": [
        "Facility"
      ]
    },
    {
      "cell_type": "code",
      "metadata": {
        "colab": {
          "base_uri": "https://localhost:8080/"
        },
        "id": "YoUdxkCqnlAh",
        "outputId": "27383605-af98-4414-fc9a-a809b378311b"
      },
      "source": [
        "house_train['facility'].value_counts()"
      ],
      "execution_count": null,
      "outputs": [
        {
          "output_type": "execute_result",
          "data": {
            "text/plain": [
              "Parking,Gas Fired Central Heating                                                               184\n",
              "Parking                                                                                         133\n",
              "Parking,Gas Fired Central Heating,Wired for Cable Television                                    116\n",
              "Parking,Gas Fired Central Heating,Alarm,Wired for Cable Television                              109\n",
              "Parking,Gas Fired Central Heating,Alarm                                                          87\n",
              "Parking,Wired for Cable Television                                                               51\n",
              "Gas Fired Central Heating                                                                        46\n",
              "Parking,Alarm                                                                                    26\n",
              "Parking,Oil Fired Central Heating                                                                24\n",
              "Parking,Gas Fired Central Heating,Alarm,Wired for Cable Television,Wheelchair Access             18\n",
              "Parking,Wired for Cable Television,Oil Fired Central Heating                                     16\n",
              "Parking,Alarm,Wired for Cable Television                                                         13\n",
              "Gas Fired Central Heating,Wired for Cable Television                                             12\n",
              "Gas Fired Central Heating,Alarm,Wired for Cable Television                                       12\n",
              "Parking,Alarm,Wired for Cable Television,Oil Fired Central Heating                               12\n",
              "Wired for Cable Television                                                                       12\n",
              "Parking,Alarm,Oil Fired Central Heating                                                          10\n",
              "Parking,Gas Fired Central Heating,Wired for Cable Television,Wheelchair Access                   10\n",
              "Gas Fired Central Heating,Alarm                                                                   9\n",
              "Parking,Wired for Cable Television,Wheelchair Access                                              7\n",
              "Alarm                                                                                             7\n",
              "Parking,Gas Fired Central Heating,Alarm,Wheelchair Access                                         6\n",
              "Parking,Gas Fired Central Heating,Wheelchair Access                                               6\n",
              "Alarm,Wired for Cable Television                                                                  5\n",
              "Parking,Alarm,Wired for Cable Television,Wheelchair Access                                        4\n",
              "Oil Fired Central Heating                                                                         4\n",
              "Parking,Wheelchair Access                                                                         2\n",
              "Alarm,Oil Fired Central Heating                                                                   2\n",
              "Parking,Wired for Cable Television,Wheelchair Access,Oil Fired Central Heating                    2\n",
              "Parking,Gas Fired Central Heating,Alarm,Wired for Cable Television,Oil Fired Central Heating      1\n",
              "Gas Fired Central Heating,Alarm,Wired for Cable Television,Wheelchair Access                      1\n",
              "Wheelchair Access                                                                                 1\n",
              "Parking,Alarm,Wired for Cable Television,Wheelchair Access,Oil Fired Central Heating              1\n",
              "Parking,Wheelchair Access,Oil Fired Central Heating                                               1\n",
              "Name: facility, dtype: int64"
            ]
          },
          "metadata": {},
          "execution_count": 42
        }
      ]
    },
    {
      "cell_type": "code",
      "metadata": {
        "id": "fofDb9G7u-ld"
      },
      "source": [
        "house_train.drop('facility', axis=1, inplace=True)\n",
        "house_test.drop('facility', axis=1, inplace=True)"
      ],
      "execution_count": null,
      "outputs": []
    },
    {
      "cell_type": "markdown",
      "metadata": {
        "id": "XW7ZNwhWu0zY"
      },
      "source": [
        "Features"
      ]
    },
    {
      "cell_type": "code",
      "metadata": {
        "colab": {
          "base_uri": "https://localhost:8080/"
        },
        "id": "YjNmE6OyqJba",
        "outputId": "12b333dd-47b6-481f-e17d-51201989c030"
      },
      "source": [
        "house_train['features'].head(2)"
      ],
      "execution_count": null,
      "outputs": [
        {
          "output_type": "execute_result",
          "data": {
            "text/plain": [
              "15    None\n",
              "26    None\n",
              "Name: features, dtype: object"
            ]
          },
          "metadata": {},
          "execution_count": 44
        }
      ]
    },
    {
      "cell_type": "code",
      "metadata": {
        "id": "K2EQX_mcvGhT"
      },
      "source": [
        "house_train.drop('features', axis=1, inplace=True)\n",
        "house_test.drop('features', axis=1, inplace=True)"
      ],
      "execution_count": null,
      "outputs": []
    },
    {
      "cell_type": "markdown",
      "metadata": {
        "id": "unxbc8Ydu2zk"
      },
      "source": [
        "Property Category"
      ]
    },
    {
      "cell_type": "code",
      "metadata": {
        "colab": {
          "base_uri": "https://localhost:8080/"
        },
        "id": "o0cd3hRnqJXA",
        "outputId": "31bdae38-1437-4c69-dc24-d0abe4d2acc9"
      },
      "source": [
        "house_train['property_category'].value_counts()"
      ],
      "execution_count": null,
      "outputs": [
        {
          "output_type": "execute_result",
          "data": {
            "text/plain": [
              "sale                      2885\n",
              "new_development_parent       7\n",
              "Name: property_category, dtype: int64"
            ]
          },
          "metadata": {},
          "execution_count": 46
        }
      ]
    },
    {
      "cell_type": "code",
      "metadata": {
        "id": "sRF0bMezwyFM"
      },
      "source": [
        "property_category_mapper = {\n",
        "    \"sale\": 0,\n",
        "    \"new_development_parent\": 1\n",
        "}\n",
        "\n",
        "house_train['property_category'] = house_train['property_category'].replace(property_category_mapper)\n",
        "house_test['property_category'] = house_test['property_category'].replace(property_category_mapper)"
      ],
      "execution_count": null,
      "outputs": []
    },
    {
      "cell_type": "markdown",
      "metadata": {
        "id": "nHeh87u7u4xU"
      },
      "source": [
        "Property Type"
      ]
    },
    {
      "cell_type": "code",
      "metadata": {
        "colab": {
          "base_uri": "https://localhost:8080/"
        },
        "id": "jXVY6iZcqJTK",
        "outputId": "61df9bd7-2f76-4e1b-c2f0-d176d4ddd235"
      },
      "source": [
        "house_train['property_type'].value_counts()"
      ],
      "execution_count": null,
      "outputs": [
        {
          "output_type": "execute_result",
          "data": {
            "text/plain": [
              "apartment         756\n",
              "semi-detached     749\n",
              "terraced          549\n",
              "detached          385\n",
              "end-of-terrace    235\n",
              "bungalow           80\n",
              "duplex             60\n",
              "site               48\n",
              "townhouse          27\n",
              "studio              3\n",
              "Name: property_type, dtype: int64"
            ]
          },
          "metadata": {},
          "execution_count": 48
        }
      ]
    },
    {
      "cell_type": "code",
      "metadata": {
        "id": "EsRlqO37waIR"
      },
      "source": [
        "property_type_mapper = {\n",
        "    \"apartment\": 1,\n",
        "    \"bungalow\": 2,\n",
        "    \"detached\": 3,\n",
        "    \"duplex\": 4,\n",
        "    \"end-of-terrace\": 5,\n",
        "    \"semi-detached\": 6,\n",
        "    \"site\": 7,\n",
        "    \"studio\": 8,\n",
        "    \"terraced\": 9,\n",
        "    \"townhouse\": 10\n",
        "}\n",
        "house_train['property_type'] = house_train['property_type'].replace(property_type_mapper)\n",
        "house_test['property_type'] = house_test['property_type'].replace(property_type_mapper)"
      ],
      "execution_count": null,
      "outputs": []
    },
    {
      "cell_type": "markdown",
      "metadata": {
        "id": "caceGqg1oyi8"
      },
      "source": [
        "### Outliers"
      ]
    },
    {
      "cell_type": "code",
      "metadata": {
        "colab": {
          "base_uri": "https://localhost:8080/",
          "height": 1000
        },
        "id": "Ba-oKMWQXcNH",
        "outputId": "e6ebd1e3-94ac-48e2-c940-10ff9e63a6f4"
      },
      "source": [
        "# Representation of the summary of the set of data values \n",
        "features = ['latitude', 'longitude', 'price', 'bathrooms', 'beds', 'surface']\n",
        "fig = plt.figure(figsize=(20,(len(features))*5))\n",
        "for i in features: \n",
        "  # creating a figure composed of two matplotlib.Axes objects (ax_box and ax_hist)\n",
        "  f, (ax_box, ax_hist) = plt.subplots(2,1, sharex=True, gridspec_kw={\"height_ratios\": (.15, .85)})\n",
        "  \n",
        "  # assigning a graph to each ax\n",
        "  sns.boxplot(house_train[i], ax=ax_box)\n",
        "  sns.histplot(data=house_train, x=i, ax=ax_hist)\n",
        "  \n",
        "  # Remove x axis name for the boxplot\n",
        "  ax_box.set(xlabel='')\n",
        "\n",
        "plt.show()"
      ],
      "execution_count": null,
      "outputs": [
        {
          "output_type": "display_data",
          "data": {
            "text/plain": [
              "<Figure size 1440x2160 with 0 Axes>"
            ]
          },
          "metadata": {}
        },
        {
          "output_type": "display_data",
          "data": {
            "image/png": "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\n",
            "text/plain": [
              "<Figure size 432x288 with 2 Axes>"
            ]
          },
          "metadata": {}
        },
        {
          "output_type": "display_data",
          "data": {
            "image/png": "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\n",
            "text/plain": [
              "<Figure size 432x288 with 2 Axes>"
            ]
          },
          "metadata": {}
        },
        {
          "output_type": "display_data",
          "data": {
            "image/png": "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\n",
            "text/plain": [
              "<Figure size 432x288 with 2 Axes>"
            ]
          },
          "metadata": {}
        },
        {
          "output_type": "display_data",
          "data": {
            "image/png": "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\n",
            "text/plain": [
              "<Figure size 432x288 with 2 Axes>"
            ]
          },
          "metadata": {}
        },
        {
          "output_type": "display_data",
          "data": {
            "image/png": "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\n",
            "text/plain": [
              "<Figure size 432x288 with 2 Axes>"
            ]
          },
          "metadata": {}
        },
        {
          "output_type": "display_data",
          "data": {
            "image/png": "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\n",
            "text/plain": [
              "<Figure size 432x288 with 2 Axes>"
            ]
          },
          "metadata": {}
        }
      ]
    },
    {
      "cell_type": "code",
      "metadata": {
        "colab": {
          "base_uri": "https://localhost:8080/",
          "height": 300
        },
        "id": "FND0jF_1aY5p",
        "outputId": "37dac48b-751b-429f-d028-0a8afe4d9576"
      },
      "source": [
        "house_train[['latitude', 'longitude', 'bathrooms', 'beds', 'surface']].describe()"
      ],
      "execution_count": null,
      "outputs": [
        {
          "output_type": "execute_result",
          "data": {
            "text/html": [
              "<div>\n",
              "<style scoped>\n",
              "    .dataframe tbody tr th:only-of-type {\n",
              "        vertical-align: middle;\n",
              "    }\n",
              "\n",
              "    .dataframe tbody tr th {\n",
              "        vertical-align: top;\n",
              "    }\n",
              "\n",
              "    .dataframe thead th {\n",
              "        text-align: right;\n",
              "    }\n",
              "</style>\n",
              "<table border=\"1\" class=\"dataframe\">\n",
              "  <thead>\n",
              "    <tr style=\"text-align: right;\">\n",
              "      <th></th>\n",
              "      <th>latitude</th>\n",
              "      <th>longitude</th>\n",
              "      <th>bathrooms</th>\n",
              "      <th>beds</th>\n",
              "      <th>surface</th>\n",
              "    </tr>\n",
              "  </thead>\n",
              "  <tbody>\n",
              "    <tr>\n",
              "      <th>count</th>\n",
              "      <td>2892.000000</td>\n",
              "      <td>2892.000000</td>\n",
              "      <td>2892.000000</td>\n",
              "      <td>2892.000000</td>\n",
              "      <td>2892.000000</td>\n",
              "    </tr>\n",
              "    <tr>\n",
              "      <th>mean</th>\n",
              "      <td>53.355579</td>\n",
              "      <td>-6.257373</td>\n",
              "      <td>1.991355</td>\n",
              "      <td>2.975450</td>\n",
              "      <td>278.567805</td>\n",
              "    </tr>\n",
              "    <tr>\n",
              "      <th>std</th>\n",
              "      <td>0.086445</td>\n",
              "      <td>0.142864</td>\n",
              "      <td>1.266439</td>\n",
              "      <td>1.452494</td>\n",
              "      <td>4023.929576</td>\n",
              "    </tr>\n",
              "    <tr>\n",
              "      <th>min</th>\n",
              "      <td>51.458439</td>\n",
              "      <td>-6.521183</td>\n",
              "      <td>0.000000</td>\n",
              "      <td>0.000000</td>\n",
              "      <td>3.400000</td>\n",
              "    </tr>\n",
              "    <tr>\n",
              "      <th>25%</th>\n",
              "      <td>53.299255</td>\n",
              "      <td>-6.313874</td>\n",
              "      <td>1.000000</td>\n",
              "      <td>2.000000</td>\n",
              "      <td>79.000000</td>\n",
              "    </tr>\n",
              "    <tr>\n",
              "      <th>50%</th>\n",
              "      <td>53.345455</td>\n",
              "      <td>-6.252335</td>\n",
              "      <td>2.000000</td>\n",
              "      <td>3.000000</td>\n",
              "      <td>99.000000</td>\n",
              "    </tr>\n",
              "    <tr>\n",
              "      <th>75%</th>\n",
              "      <td>53.388423</td>\n",
              "      <td>-6.197056</td>\n",
              "      <td>3.000000</td>\n",
              "      <td>4.000000</td>\n",
              "      <td>128.000000</td>\n",
              "    </tr>\n",
              "    <tr>\n",
              "      <th>max</th>\n",
              "      <td>53.630588</td>\n",
              "      <td>-1.744995</td>\n",
              "      <td>18.000000</td>\n",
              "      <td>27.000000</td>\n",
              "      <td>182108.539008</td>\n",
              "    </tr>\n",
              "  </tbody>\n",
              "</table>\n",
              "</div>"
            ],
            "text/plain": [
              "          latitude    longitude    bathrooms         beds        surface\n",
              "count  2892.000000  2892.000000  2892.000000  2892.000000    2892.000000\n",
              "mean     53.355579    -6.257373     1.991355     2.975450     278.567805\n",
              "std       0.086445     0.142864     1.266439     1.452494    4023.929576\n",
              "min      51.458439    -6.521183     0.000000     0.000000       3.400000\n",
              "25%      53.299255    -6.313874     1.000000     2.000000      79.000000\n",
              "50%      53.345455    -6.252335     2.000000     3.000000      99.000000\n",
              "75%      53.388423    -6.197056     3.000000     4.000000     128.000000\n",
              "max      53.630588    -1.744995    18.000000    27.000000  182108.539008"
            ]
          },
          "metadata": {},
          "execution_count": 51
        }
      ]
    },
    {
      "cell_type": "code",
      "metadata": {
        "id": "wR4bOnTIZrZa"
      },
      "source": [
        "house_train['bathrooms'].values[house_train['bathrooms'].values > 7 ] = 7\n",
        "house_train['beds'].values[house_train['beds'].values > 10 ] = 10\n",
        "house_train['surface'].values[house_train['surface'].values > 10000] = 10000\n",
        "house_train['latitude'] = (house_train['latitude'] -51.45843)/2.173 # From Nigel Portley\n",
        "house_train['longitude'] = (house_train['longitude'] +6.521187) # From Nigel Portley\n",
        "\n",
        "house_test['bathrooms'].values[house_test['bathrooms'].values > 7 ] = 7\n",
        "house_test['beds'].values[house_test['beds'].values > 10 ] = 10\n",
        "house_test['surface'].values[house_test['surface'].values > 10000] = 10000\n",
        "house_test['latitude'] = (house_test['latitude'] -51.45843)/2.173 # From Nigel Portley\n",
        "house_test['longitude'] = (house_test['longitude'] +6.521187) # From Nigel Portley"
      ],
      "execution_count": null,
      "outputs": []
    },
    {
      "cell_type": "code",
      "metadata": {
        "colab": {
          "base_uri": "https://localhost:8080/",
          "height": 300
        },
        "id": "Wk7Bvmj0dLRF",
        "outputId": "1c4918dc-71ba-418e-bcb7-b6ef69df0bbe"
      },
      "source": [
        "house_train[['latitude', 'longitude', 'bathrooms', 'beds', 'surface']].describe()"
      ],
      "execution_count": null,
      "outputs": [
        {
          "output_type": "execute_result",
          "data": {
            "text/html": [
              "<div>\n",
              "<style scoped>\n",
              "    .dataframe tbody tr th:only-of-type {\n",
              "        vertical-align: middle;\n",
              "    }\n",
              "\n",
              "    .dataframe tbody tr th {\n",
              "        vertical-align: top;\n",
              "    }\n",
              "\n",
              "    .dataframe thead th {\n",
              "        text-align: right;\n",
              "    }\n",
              "</style>\n",
              "<table border=\"1\" class=\"dataframe\">\n",
              "  <thead>\n",
              "    <tr style=\"text-align: right;\">\n",
              "      <th></th>\n",
              "      <th>latitude</th>\n",
              "      <th>longitude</th>\n",
              "      <th>bathrooms</th>\n",
              "      <th>beds</th>\n",
              "      <th>surface</th>\n",
              "    </tr>\n",
              "  </thead>\n",
              "  <tbody>\n",
              "    <tr>\n",
              "      <th>count</th>\n",
              "      <td>2892.000000</td>\n",
              "      <td>2892.000000</td>\n",
              "      <td>2892.000000</td>\n",
              "      <td>2892.000000</td>\n",
              "      <td>2892.000000</td>\n",
              "    </tr>\n",
              "    <tr>\n",
              "      <th>mean</th>\n",
              "      <td>0.873055</td>\n",
              "      <td>0.263814</td>\n",
              "      <td>1.972337</td>\n",
              "      <td>2.956777</td>\n",
              "      <td>160.823206</td>\n",
              "    </tr>\n",
              "    <tr>\n",
              "      <th>std</th>\n",
              "      <td>0.039781</td>\n",
              "      <td>0.142864</td>\n",
              "      <td>1.127896</td>\n",
              "      <td>1.270913</td>\n",
              "      <td>555.382468</td>\n",
              "    </tr>\n",
              "    <tr>\n",
              "      <th>min</th>\n",
              "      <td>0.000004</td>\n",
              "      <td>0.000004</td>\n",
              "      <td>0.000000</td>\n",
              "      <td>0.000000</td>\n",
              "      <td>3.400000</td>\n",
              "    </tr>\n",
              "    <tr>\n",
              "      <th>25%</th>\n",
              "      <td>0.847136</td>\n",
              "      <td>0.207313</td>\n",
              "      <td>1.000000</td>\n",
              "      <td>2.000000</td>\n",
              "      <td>79.000000</td>\n",
              "    </tr>\n",
              "    <tr>\n",
              "      <th>50%</th>\n",
              "      <td>0.868396</td>\n",
              "      <td>0.268852</td>\n",
              "      <td>2.000000</td>\n",
              "      <td>3.000000</td>\n",
              "      <td>99.000000</td>\n",
              "    </tr>\n",
              "    <tr>\n",
              "      <th>75%</th>\n",
              "      <td>0.888170</td>\n",
              "      <td>0.324131</td>\n",
              "      <td>3.000000</td>\n",
              "      <td>4.000000</td>\n",
              "      <td>128.000000</td>\n",
              "    </tr>\n",
              "    <tr>\n",
              "      <th>max</th>\n",
              "      <td>0.999613</td>\n",
              "      <td>4.776192</td>\n",
              "      <td>7.000000</td>\n",
              "      <td>10.000000</td>\n",
              "      <td>10000.000000</td>\n",
              "    </tr>\n",
              "  </tbody>\n",
              "</table>\n",
              "</div>"
            ],
            "text/plain": [
              "          latitude    longitude    bathrooms         beds       surface\n",
              "count  2892.000000  2892.000000  2892.000000  2892.000000   2892.000000\n",
              "mean      0.873055     0.263814     1.972337     2.956777    160.823206\n",
              "std       0.039781     0.142864     1.127896     1.270913    555.382468\n",
              "min       0.000004     0.000004     0.000000     0.000000      3.400000\n",
              "25%       0.847136     0.207313     1.000000     2.000000     79.000000\n",
              "50%       0.868396     0.268852     2.000000     3.000000     99.000000\n",
              "75%       0.888170     0.324131     3.000000     4.000000    128.000000\n",
              "max       0.999613     4.776192     7.000000    10.000000  10000.000000"
            ]
          },
          "metadata": {},
          "execution_count": 53
        }
      ]
    },
    {
      "cell_type": "code",
      "metadata": {
        "colab": {
          "base_uri": "https://localhost:8080/"
        },
        "id": "tNxag3QmtPpj",
        "outputId": "3c748281-664b-4a84-ea4b-dce9c3184400"
      },
      "source": [
        "# Missing Values\n",
        "print('Train Data Missing Values')\n",
        "print(house_train.isna().sum())\n",
        "print('Test Data Missing Values')\n",
        "print(house_test.isna().sum())"
      ],
      "execution_count": null,
      "outputs": [
        {
          "output_type": "stream",
          "name": "stdout",
          "text": [
            "Train Data Missing Values\n",
            "ad_id                 0\n",
            "area                  0\n",
            "bathrooms             0\n",
            "beds                  0\n",
            "ber_classification    0\n",
            "latitude              0\n",
            "longitude             0\n",
            "price                 0\n",
            "property_category     0\n",
            "property_type         0\n",
            "surface               0\n",
            "dtype: int64\n",
            "Test Data Missing Values\n",
            "ad_id                 0\n",
            "area                  0\n",
            "bathrooms             0\n",
            "beds                  0\n",
            "ber_classification    0\n",
            "latitude              0\n",
            "longitude             0\n",
            "property_category     0\n",
            "property_type         0\n",
            "surface               0\n",
            "dtype: int64\n"
          ]
        }
      ]
    },
    {
      "cell_type": "code",
      "metadata": {
        "colab": {
          "base_uri": "https://localhost:8080/",
          "height": 799
        },
        "id": "2pNprOz2CQsb",
        "outputId": "33e5e8ce-70da-42fc-b8d6-e9f16156c797"
      },
      "source": [
        "#Correlation Matrix\n",
        "plt.figure(figsize=(10, 12))\n",
        "sns.heatmap(house_train.corr(), annot=True);"
      ],
      "execution_count": null,
      "outputs": [
        {
          "output_type": "display_data",
          "data": {
            "image/png": "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\n",
            "text/plain": [
              "<Figure size 720x864 with 2 Axes>"
            ]
          },
          "metadata": {}
        }
      ]
    },
    {
      "cell_type": "code",
      "metadata": {
        "colab": {
          "base_uri": "https://localhost:8080/"
        },
        "id": "qAGSR0OIonmj",
        "outputId": "e1654edd-69de-44f2-8c05-a16a318b0f48"
      },
      "source": [
        "#Returns column name\n",
        "print('Train Data Columns',house_train.columns)\n",
        "print('Test Data Columns',house_test.columns)"
      ],
      "execution_count": null,
      "outputs": [
        {
          "output_type": "stream",
          "name": "stdout",
          "text": [
            "Train Data Columns Index(['ad_id', 'area', 'bathrooms', 'beds', 'ber_classification', 'latitude',\n",
            "       'longitude', 'price', 'property_category', 'property_type', 'surface'],\n",
            "      dtype='object')\n",
            "Test Data Columns Index(['ad_id', 'area', 'bathrooms', 'beds', 'ber_classification', 'latitude',\n",
            "       'longitude', 'property_category', 'property_type', 'surface'],\n",
            "      dtype='object')\n"
          ]
        }
      ]
    },
    {
      "cell_type": "code",
      "metadata": {
        "colab": {
          "base_uri": "https://localhost:8080/"
        },
        "id": "PmS5wg4XjU6d",
        "outputId": "9c7f27d8-b84f-4adf-8a4b-202afbccb1bf"
      },
      "source": [
        "#Returns the dimensions of the array - Rows & Columns\n",
        "print('Train Data Shape',house_train.shape)\n",
        "print('Test Data Shape',house_test.shape)"
      ],
      "execution_count": null,
      "outputs": [
        {
          "output_type": "stream",
          "name": "stdout",
          "text": [
            "Train Data Shape (2892, 11)\n",
            "Test Data Shape (500, 10)\n"
          ]
        }
      ]
    },
    {
      "cell_type": "markdown",
      "metadata": {
        "id": "-PyyF0zy2VkN"
      },
      "source": [
        "**Notes**: \n",
        "- We have two different datasets, `true_price` that represents the real cost of the properties and `house_data` that describes the different properties. \n",
        "- Initial decision was to merge training and test data from this category to run the preprocessing procedures over the full dataset, to afterwards, split it again as needed. Somehow the new dataset creation after preprocessing didn't fully work at test dataset level.\n",
        "- True Price has 500 records and 2 columns, with no missing values, `Id` columns has being renamed as it works as the identifier to determine the expected prices from the properties in the house data.\n",
        "- House Train data has 2982 and 17 columns, with some missing values vs House Test data has 500 and 16 columns. We are going to do some data processing to both types of columns, numerical and categorical, and assess their importance to the problem.\n",
        "- According to the House Train info, we have 9 categorical variables and 7/8 numerical variables, as the test data doesn't include `price` feature.\n",
        "- the columns `area`, `ber_classification`, `property_category` were kept for other possible of feature combination in the Piecewise Regression.  \n",
        "- The `ad_id` was kept for the purpose of possibly defining expected prices of the properties.\n",
        "\n",
        "**Numerical Variables**:\n",
        "- `no_of_units` dropped as it has over 98% / 100% of missing values in both datasets.\n",
        "- `bathrooms`, `beds` and `property_type` contains the same amount of missing values, we inferred that dropping the missing values will affect the others, and it was the case in the training dataset. `bathrooms` and `beds` outliers were removed reassigning those values to the a max of 7 and 10 respectively.\n",
        "- `price` considering that the main goal is to predict the property prices, with missing values that reach 16.94%. Prefered to drop them, instead of infered them in the training dataset, depending on accuracy, this step could change. \n",
        "- `surface` all mising values which represented 15.82%, were fill up with the median. The outliers were removed reassigning those values to the a max of 10.000 sq meters.\n",
        "- `latitude` and `longitude` had no missing values. The outliers were removed reassigning those values were normzalized following Nigel Portley procedure of dividing `latitude` min between 2.173 and `longitude` adding +6.521187\n",
        "\n",
        "**Categorical Variables**:\n",
        "- `area` were converted to numerical variables, replacing the 157 characters, from various cities and towns in County Dublin, County Fingal and County Dun Laoghaire-Rathdown to the various Dublin and Counties that they are located, followed by to a reconfiguration to the correspondent numerical value.\n",
        "- `ber_classification` were converted to numerical variables, replacing the 16 characters. \n",
        "- `county` and `environment` were dropped as they seem to be default values, Dublin and Prod won't yield that much information.\n",
        "- `description_block` is descriptive text, not able to be used. Dropped as consequence.\n",
        "- `facility` is descriptive text, not able to be used. Dropped as consequence.\n",
        "- `features` is descriptive text, not able to be used. Dropped as consequence.\n",
        "- `property_category` were converted to numerical variables, replacing the 2 characters. \n",
        "- `property_type` were converted to numerical variables, replacing the 10 characters."
      ]
    },
    {
      "cell_type": "markdown",
      "metadata": {
        "id": "2PMoPLlUJ1Ly"
      },
      "source": [
        "## Training & Test Data"
      ]
    },
    {
      "cell_type": "markdown",
      "metadata": {
        "id": "ztBkSZluye87"
      },
      "source": [
        "### Train dataset"
      ]
    },
    {
      "cell_type": "code",
      "metadata": {
        "id": "6XUFUPABMHfF",
        "colab": {
          "base_uri": "https://localhost:8080/",
          "height": 101
        },
        "outputId": "86668b59-d9be-4c77-d3dc-bc7eb262f414"
      },
      "source": [
        "# show first data frame rows \n",
        "house_train.sample()"
      ],
      "execution_count": null,
      "outputs": [
        {
          "output_type": "execute_result",
          "data": {
            "text/html": [
              "<div>\n",
              "<style scoped>\n",
              "    .dataframe tbody tr th:only-of-type {\n",
              "        vertical-align: middle;\n",
              "    }\n",
              "\n",
              "    .dataframe tbody tr th {\n",
              "        vertical-align: top;\n",
              "    }\n",
              "\n",
              "    .dataframe thead th {\n",
              "        text-align: right;\n",
              "    }\n",
              "</style>\n",
              "<table border=\"1\" class=\"dataframe\">\n",
              "  <thead>\n",
              "    <tr style=\"text-align: right;\">\n",
              "      <th></th>\n",
              "      <th>ad_id</th>\n",
              "      <th>area</th>\n",
              "      <th>bathrooms</th>\n",
              "      <th>beds</th>\n",
              "      <th>ber_classification</th>\n",
              "      <th>latitude</th>\n",
              "      <th>longitude</th>\n",
              "      <th>price</th>\n",
              "      <th>property_category</th>\n",
              "      <th>property_type</th>\n",
              "      <th>surface</th>\n",
              "    </tr>\n",
              "  </thead>\n",
              "  <tbody>\n",
              "    <tr>\n",
              "      <th>315</th>\n",
              "      <td>12115005</td>\n",
              "      <td>19</td>\n",
              "      <td>5.0</td>\n",
              "      <td>4.0</td>\n",
              "      <td>5.0</td>\n",
              "      <td>0.833911</td>\n",
              "      <td>0.338314</td>\n",
              "      <td>3500000.0</td>\n",
              "      <td>0</td>\n",
              "      <td>3</td>\n",
              "      <td>469.1</td>\n",
              "    </tr>\n",
              "  </tbody>\n",
              "</table>\n",
              "</div>"
            ],
            "text/plain": [
              "        ad_id  area  bathrooms  ...  property_category  property_type  surface\n",
              "315  12115005    19        5.0  ...                  0              3    469.1\n",
              "\n",
              "[1 rows x 11 columns]"
            ]
          },
          "metadata": {},
          "execution_count": 58
        }
      ]
    },
    {
      "cell_type": "code",
      "metadata": {
        "colab": {
          "base_uri": "https://localhost:8080/"
        },
        "id": "SRH5PE2yyhYB",
        "outputId": "cf261212-8508-4d12-e4c7-5c3a9b283861"
      },
      "source": [
        "#Returns the dimensions of the array\n",
        "house_train.shape"
      ],
      "execution_count": null,
      "outputs": [
        {
          "output_type": "execute_result",
          "data": {
            "text/plain": [
              "(2892, 11)"
            ]
          },
          "metadata": {},
          "execution_count": 59
        }
      ]
    },
    {
      "cell_type": "code",
      "metadata": {
        "id": "5rq_p-D4yLBe",
        "colab": {
          "base_uri": "https://localhost:8080/",
          "height": 320
        },
        "outputId": "881f61fe-5d2c-4a9b-de43-45daff52d34a"
      },
      "source": [
        "# Generate descriptive statistics\n",
        "house_train.describe()"
      ],
      "execution_count": null,
      "outputs": [
        {
          "output_type": "execute_result",
          "data": {
            "text/html": [
              "<div>\n",
              "<style scoped>\n",
              "    .dataframe tbody tr th:only-of-type {\n",
              "        vertical-align: middle;\n",
              "    }\n",
              "\n",
              "    .dataframe tbody tr th {\n",
              "        vertical-align: top;\n",
              "    }\n",
              "\n",
              "    .dataframe thead th {\n",
              "        text-align: right;\n",
              "    }\n",
              "</style>\n",
              "<table border=\"1\" class=\"dataframe\">\n",
              "  <thead>\n",
              "    <tr style=\"text-align: right;\">\n",
              "      <th></th>\n",
              "      <th>ad_id</th>\n",
              "      <th>area</th>\n",
              "      <th>bathrooms</th>\n",
              "      <th>beds</th>\n",
              "      <th>ber_classification</th>\n",
              "      <th>latitude</th>\n",
              "      <th>longitude</th>\n",
              "      <th>price</th>\n",
              "      <th>property_category</th>\n",
              "      <th>property_type</th>\n",
              "      <th>surface</th>\n",
              "    </tr>\n",
              "  </thead>\n",
              "  <tbody>\n",
              "    <tr>\n",
              "      <th>count</th>\n",
              "      <td>2.892000e+03</td>\n",
              "      <td>2892.000000</td>\n",
              "      <td>2892.000000</td>\n",
              "      <td>2892.000000</td>\n",
              "      <td>2892.000000</td>\n",
              "      <td>2892.000000</td>\n",
              "      <td>2892.000000</td>\n",
              "      <td>2.892000e+03</td>\n",
              "      <td>2892.000000</td>\n",
              "      <td>2892.000000</td>\n",
              "      <td>2892.000000</td>\n",
              "    </tr>\n",
              "    <tr>\n",
              "      <th>mean</th>\n",
              "      <td>1.230511e+07</td>\n",
              "      <td>14.489627</td>\n",
              "      <td>1.972337</td>\n",
              "      <td>2.956777</td>\n",
              "      <td>9.909059</td>\n",
              "      <td>0.873055</td>\n",
              "      <td>0.263814</td>\n",
              "      <td>5.323536e+05</td>\n",
              "      <td>0.002420</td>\n",
              "      <td>4.685685</td>\n",
              "      <td>160.823206</td>\n",
              "    </tr>\n",
              "    <tr>\n",
              "      <th>std</th>\n",
              "      <td>2.173032e+05</td>\n",
              "      <td>7.024410</td>\n",
              "      <td>1.127896</td>\n",
              "      <td>1.270913</td>\n",
              "      <td>2.793423</td>\n",
              "      <td>0.039781</td>\n",
              "      <td>0.142864</td>\n",
              "      <td>5.678148e+05</td>\n",
              "      <td>0.049147</td>\n",
              "      <td>2.914514</td>\n",
              "      <td>555.382468</td>\n",
              "    </tr>\n",
              "    <tr>\n",
              "      <th>min</th>\n",
              "      <td>9.124101e+06</td>\n",
              "      <td>1.000000</td>\n",
              "      <td>0.000000</td>\n",
              "      <td>0.000000</td>\n",
              "      <td>1.000000</td>\n",
              "      <td>0.000004</td>\n",
              "      <td>0.000004</td>\n",
              "      <td>1.999500e+04</td>\n",
              "      <td>0.000000</td>\n",
              "      <td>1.000000</td>\n",
              "      <td>3.400000</td>\n",
              "    </tr>\n",
              "    <tr>\n",
              "      <th>25%</th>\n",
              "      <td>1.227543e+07</td>\n",
              "      <td>9.000000</td>\n",
              "      <td>1.000000</td>\n",
              "      <td>2.000000</td>\n",
              "      <td>8.000000</td>\n",
              "      <td>0.847136</td>\n",
              "      <td>0.207313</td>\n",
              "      <td>2.800000e+05</td>\n",
              "      <td>0.000000</td>\n",
              "      <td>1.000000</td>\n",
              "      <td>79.000000</td>\n",
              "    </tr>\n",
              "    <tr>\n",
              "      <th>50%</th>\n",
              "      <td>1.237885e+07</td>\n",
              "      <td>15.000000</td>\n",
              "      <td>2.000000</td>\n",
              "      <td>3.000000</td>\n",
              "      <td>10.000000</td>\n",
              "      <td>0.868396</td>\n",
              "      <td>0.268852</td>\n",
              "      <td>3.800000e+05</td>\n",
              "      <td>0.000000</td>\n",
              "      <td>5.000000</td>\n",
              "      <td>99.000000</td>\n",
              "    </tr>\n",
              "    <tr>\n",
              "      <th>75%</th>\n",
              "      <td>1.240400e+07</td>\n",
              "      <td>22.000000</td>\n",
              "      <td>3.000000</td>\n",
              "      <td>4.000000</td>\n",
              "      <td>11.000000</td>\n",
              "      <td>0.888170</td>\n",
              "      <td>0.324131</td>\n",
              "      <td>5.750000e+05</td>\n",
              "      <td>0.000000</td>\n",
              "      <td>6.000000</td>\n",
              "      <td>128.000000</td>\n",
              "    </tr>\n",
              "    <tr>\n",
              "      <th>max</th>\n",
              "      <td>1.242836e+07</td>\n",
              "      <td>24.000000</td>\n",
              "      <td>7.000000</td>\n",
              "      <td>10.000000</td>\n",
              "      <td>16.000000</td>\n",
              "      <td>0.999613</td>\n",
              "      <td>4.776192</td>\n",
              "      <td>9.995000e+06</td>\n",
              "      <td>1.000000</td>\n",
              "      <td>10.000000</td>\n",
              "      <td>10000.000000</td>\n",
              "    </tr>\n",
              "  </tbody>\n",
              "</table>\n",
              "</div>"
            ],
            "text/plain": [
              "              ad_id         area  ...  property_type       surface\n",
              "count  2.892000e+03  2892.000000  ...    2892.000000   2892.000000\n",
              "mean   1.230511e+07    14.489627  ...       4.685685    160.823206\n",
              "std    2.173032e+05     7.024410  ...       2.914514    555.382468\n",
              "min    9.124101e+06     1.000000  ...       1.000000      3.400000\n",
              "25%    1.227543e+07     9.000000  ...       1.000000     79.000000\n",
              "50%    1.237885e+07    15.000000  ...       5.000000     99.000000\n",
              "75%    1.240400e+07    22.000000  ...       6.000000    128.000000\n",
              "max    1.242836e+07    24.000000  ...      10.000000  10000.000000\n",
              "\n",
              "[8 rows x 11 columns]"
            ]
          },
          "metadata": {},
          "execution_count": 60
        }
      ]
    },
    {
      "cell_type": "markdown",
      "metadata": {
        "id": "Iqg9_uxFyZli"
      },
      "source": [
        "### Test dataset"
      ]
    },
    {
      "cell_type": "code",
      "metadata": {
        "id": "bw2_yypxMfsi",
        "colab": {
          "base_uri": "https://localhost:8080/",
          "height": 81
        },
        "outputId": "28a83de6-f261-4d93-836b-64b49dc42eec"
      },
      "source": [
        "# show sample data frame rows \n",
        "house_test.sample()"
      ],
      "execution_count": null,
      "outputs": [
        {
          "output_type": "execute_result",
          "data": {
            "text/html": [
              "<div>\n",
              "<style scoped>\n",
              "    .dataframe tbody tr th:only-of-type {\n",
              "        vertical-align: middle;\n",
              "    }\n",
              "\n",
              "    .dataframe tbody tr th {\n",
              "        vertical-align: top;\n",
              "    }\n",
              "\n",
              "    .dataframe thead th {\n",
              "        text-align: right;\n",
              "    }\n",
              "</style>\n",
              "<table border=\"1\" class=\"dataframe\">\n",
              "  <thead>\n",
              "    <tr style=\"text-align: right;\">\n",
              "      <th></th>\n",
              "      <th>ad_id</th>\n",
              "      <th>area</th>\n",
              "      <th>bathrooms</th>\n",
              "      <th>beds</th>\n",
              "      <th>ber_classification</th>\n",
              "      <th>latitude</th>\n",
              "      <th>longitude</th>\n",
              "      <th>property_category</th>\n",
              "      <th>property_type</th>\n",
              "      <th>surface</th>\n",
              "    </tr>\n",
              "  </thead>\n",
              "  <tbody>\n",
              "    <tr>\n",
              "      <th>161</th>\n",
              "      <td>12356648</td>\n",
              "      <td>24</td>\n",
              "      <td>3.0</td>\n",
              "      <td>5.0</td>\n",
              "      <td>8.0</td>\n",
              "      <td>0.83717</td>\n",
              "      <td>0.3864</td>\n",
              "      <td>0</td>\n",
              "      <td>6</td>\n",
              "      <td>192.0</td>\n",
              "    </tr>\n",
              "  </tbody>\n",
              "</table>\n",
              "</div>"
            ],
            "text/plain": [
              "        ad_id  area  bathrooms  ...  property_category  property_type  surface\n",
              "161  12356648    24        3.0  ...                  0              6    192.0\n",
              "\n",
              "[1 rows x 10 columns]"
            ]
          },
          "metadata": {},
          "execution_count": 61
        }
      ]
    },
    {
      "cell_type": "code",
      "metadata": {
        "colab": {
          "base_uri": "https://localhost:8080/"
        },
        "id": "NflxtG0Tytt4",
        "outputId": "cdaf026a-d0f0-4327-b9fe-33c4ca01616a"
      },
      "source": [
        "#Returns the dimensions of the array\n",
        "house_test.shape"
      ],
      "execution_count": null,
      "outputs": [
        {
          "output_type": "execute_result",
          "data": {
            "text/plain": [
              "(500, 10)"
            ]
          },
          "metadata": {},
          "execution_count": 62
        }
      ]
    },
    {
      "cell_type": "code",
      "metadata": {
        "id": "FXo0x2u7T7-1",
        "colab": {
          "base_uri": "https://localhost:8080/",
          "height": 320
        },
        "outputId": "9c17da1d-5c53-4dfb-d463-b1f243e7f820"
      },
      "source": [
        "# Generate descriptive statistics\n",
        "house_test.describe()"
      ],
      "execution_count": null,
      "outputs": [
        {
          "output_type": "execute_result",
          "data": {
            "text/html": [
              "<div>\n",
              "<style scoped>\n",
              "    .dataframe tbody tr th:only-of-type {\n",
              "        vertical-align: middle;\n",
              "    }\n",
              "\n",
              "    .dataframe tbody tr th {\n",
              "        vertical-align: top;\n",
              "    }\n",
              "\n",
              "    .dataframe thead th {\n",
              "        text-align: right;\n",
              "    }\n",
              "</style>\n",
              "<table border=\"1\" class=\"dataframe\">\n",
              "  <thead>\n",
              "    <tr style=\"text-align: right;\">\n",
              "      <th></th>\n",
              "      <th>ad_id</th>\n",
              "      <th>area</th>\n",
              "      <th>bathrooms</th>\n",
              "      <th>beds</th>\n",
              "      <th>ber_classification</th>\n",
              "      <th>latitude</th>\n",
              "      <th>longitude</th>\n",
              "      <th>property_category</th>\n",
              "      <th>property_type</th>\n",
              "      <th>surface</th>\n",
              "    </tr>\n",
              "  </thead>\n",
              "  <tbody>\n",
              "    <tr>\n",
              "      <th>count</th>\n",
              "      <td>5.000000e+02</td>\n",
              "      <td>500.000000</td>\n",
              "      <td>500.000000</td>\n",
              "      <td>500.000000</td>\n",
              "      <td>500.000000</td>\n",
              "      <td>500.000000</td>\n",
              "      <td>500.000000</td>\n",
              "      <td>500.0</td>\n",
              "      <td>500.000000</td>\n",
              "      <td>500.000000</td>\n",
              "    </tr>\n",
              "    <tr>\n",
              "      <th>mean</th>\n",
              "      <td>1.231695e+07</td>\n",
              "      <td>14.176000</td>\n",
              "      <td>1.992000</td>\n",
              "      <td>2.930000</td>\n",
              "      <td>9.898000</td>\n",
              "      <td>0.873265</td>\n",
              "      <td>0.273345</td>\n",
              "      <td>0.0</td>\n",
              "      <td>4.686000</td>\n",
              "      <td>156.007671</td>\n",
              "    </tr>\n",
              "    <tr>\n",
              "      <th>std</th>\n",
              "      <td>1.485832e+05</td>\n",
              "      <td>7.428822</td>\n",
              "      <td>1.096513</td>\n",
              "      <td>1.191612</td>\n",
              "      <td>2.963302</td>\n",
              "      <td>0.037692</td>\n",
              "      <td>0.088552</td>\n",
              "      <td>0.0</td>\n",
              "      <td>2.929944</td>\n",
              "      <td>344.497362</td>\n",
              "    </tr>\n",
              "    <tr>\n",
              "      <th>min</th>\n",
              "      <td>1.130615e+07</td>\n",
              "      <td>1.000000</td>\n",
              "      <td>0.000000</td>\n",
              "      <td>0.000000</td>\n",
              "      <td>2.000000</td>\n",
              "      <td>0.811283</td>\n",
              "      <td>0.024200</td>\n",
              "      <td>0.0</td>\n",
              "      <td>1.000000</td>\n",
              "      <td>33.500000</td>\n",
              "    </tr>\n",
              "    <tr>\n",
              "      <th>25%</th>\n",
              "      <td>1.228617e+07</td>\n",
              "      <td>7.000000</td>\n",
              "      <td>1.000000</td>\n",
              "      <td>2.000000</td>\n",
              "      <td>8.000000</td>\n",
              "      <td>0.846269</td>\n",
              "      <td>0.224783</td>\n",
              "      <td>0.0</td>\n",
              "      <td>1.000000</td>\n",
              "      <td>72.375000</td>\n",
              "    </tr>\n",
              "    <tr>\n",
              "      <th>50%</th>\n",
              "      <td>1.237964e+07</td>\n",
              "      <td>15.000000</td>\n",
              "      <td>2.000000</td>\n",
              "      <td>3.000000</td>\n",
              "      <td>10.000000</td>\n",
              "      <td>0.865677</td>\n",
              "      <td>0.277615</td>\n",
              "      <td>0.0</td>\n",
              "      <td>5.000000</td>\n",
              "      <td>98.000000</td>\n",
              "    </tr>\n",
              "    <tr>\n",
              "      <th>75%</th>\n",
              "      <td>1.240544e+07</td>\n",
              "      <td>22.000000</td>\n",
              "      <td>3.000000</td>\n",
              "      <td>4.000000</td>\n",
              "      <td>12.000000</td>\n",
              "      <td>0.885053</td>\n",
              "      <td>0.336132</td>\n",
              "      <td>0.0</td>\n",
              "      <td>6.000000</td>\n",
              "      <td>138.935000</td>\n",
              "    </tr>\n",
              "    <tr>\n",
              "      <th>max</th>\n",
              "      <td>1.242809e+07</td>\n",
              "      <td>24.000000</td>\n",
              "      <td>7.000000</td>\n",
              "      <td>7.000000</td>\n",
              "      <td>16.000000</td>\n",
              "      <td>0.994636</td>\n",
              "      <td>0.456313</td>\n",
              "      <td>0.0</td>\n",
              "      <td>10.000000</td>\n",
              "      <td>5746.536120</td>\n",
              "    </tr>\n",
              "  </tbody>\n",
              "</table>\n",
              "</div>"
            ],
            "text/plain": [
              "              ad_id        area  ...  property_type      surface\n",
              "count  5.000000e+02  500.000000  ...     500.000000   500.000000\n",
              "mean   1.231695e+07   14.176000  ...       4.686000   156.007671\n",
              "std    1.485832e+05    7.428822  ...       2.929944   344.497362\n",
              "min    1.130615e+07    1.000000  ...       1.000000    33.500000\n",
              "25%    1.228617e+07    7.000000  ...       1.000000    72.375000\n",
              "50%    1.237964e+07   15.000000  ...       5.000000    98.000000\n",
              "75%    1.240544e+07   22.000000  ...       6.000000   138.935000\n",
              "max    1.242809e+07   24.000000  ...      10.000000  5746.536120\n",
              "\n",
              "[8 rows x 10 columns]"
            ]
          },
          "metadata": {},
          "execution_count": 63
        }
      ]
    },
    {
      "cell_type": "markdown",
      "metadata": {
        "id": "UjMH1CSEUA1A"
      },
      "source": [
        "### Expected Cost dataset"
      ]
    },
    {
      "cell_type": "code",
      "metadata": {
        "colab": {
          "base_uri": "https://localhost:8080/",
          "height": 81
        },
        "id": "T6rA5Ig8y-lN",
        "outputId": "b0ca2439-a7c4-443e-8314-446d6e320b9e"
      },
      "source": [
        "# show sample data frame rows \n",
        "true_price.sample()"
      ],
      "execution_count": null,
      "outputs": [
        {
          "output_type": "execute_result",
          "data": {
            "text/html": [
              "<div>\n",
              "<style scoped>\n",
              "    .dataframe tbody tr th:only-of-type {\n",
              "        vertical-align: middle;\n",
              "    }\n",
              "\n",
              "    .dataframe tbody tr th {\n",
              "        vertical-align: top;\n",
              "    }\n",
              "\n",
              "    .dataframe thead th {\n",
              "        text-align: right;\n",
              "    }\n",
              "</style>\n",
              "<table border=\"1\" class=\"dataframe\">\n",
              "  <thead>\n",
              "    <tr style=\"text-align: right;\">\n",
              "      <th></th>\n",
              "      <th>ad_id</th>\n",
              "      <th>Expected</th>\n",
              "    </tr>\n",
              "  </thead>\n",
              "  <tbody>\n",
              "    <tr>\n",
              "      <th>475</th>\n",
              "      <td>12405754</td>\n",
              "      <td>325000.0</td>\n",
              "    </tr>\n",
              "  </tbody>\n",
              "</table>\n",
              "</div>"
            ],
            "text/plain": [
              "        ad_id  Expected\n",
              "475  12405754  325000.0"
            ]
          },
          "metadata": {},
          "execution_count": 64
        }
      ]
    },
    {
      "cell_type": "code",
      "metadata": {
        "colab": {
          "base_uri": "https://localhost:8080/"
        },
        "id": "_39AnWhJy-Zy",
        "outputId": "9c2425ab-4b65-47e0-d32b-00cb7ec7760b"
      },
      "source": [
        "#Returns the dimensions of the array\n",
        "true_price.shape"
      ],
      "execution_count": null,
      "outputs": [
        {
          "output_type": "execute_result",
          "data": {
            "text/plain": [
              "(500, 2)"
            ]
          },
          "metadata": {},
          "execution_count": 65
        }
      ]
    },
    {
      "cell_type": "code",
      "metadata": {
        "id": "7p63sCZeUNx3",
        "colab": {
          "base_uri": "https://localhost:8080/",
          "height": 300
        },
        "outputId": "60343135-9e36-41f0-afe0-a7b6195a091b"
      },
      "source": [
        "# Generate descriptive statistics\n",
        "true_price.describe()"
      ],
      "execution_count": null,
      "outputs": [
        {
          "output_type": "execute_result",
          "data": {
            "text/html": [
              "<div>\n",
              "<style scoped>\n",
              "    .dataframe tbody tr th:only-of-type {\n",
              "        vertical-align: middle;\n",
              "    }\n",
              "\n",
              "    .dataframe tbody tr th {\n",
              "        vertical-align: top;\n",
              "    }\n",
              "\n",
              "    .dataframe thead th {\n",
              "        text-align: right;\n",
              "    }\n",
              "</style>\n",
              "<table border=\"1\" class=\"dataframe\">\n",
              "  <thead>\n",
              "    <tr style=\"text-align: right;\">\n",
              "      <th></th>\n",
              "      <th>ad_id</th>\n",
              "      <th>Expected</th>\n",
              "    </tr>\n",
              "  </thead>\n",
              "  <tbody>\n",
              "    <tr>\n",
              "      <th>count</th>\n",
              "      <td>5.000000e+02</td>\n",
              "      <td>5.000000e+02</td>\n",
              "    </tr>\n",
              "    <tr>\n",
              "      <th>mean</th>\n",
              "      <td>1.231695e+07</td>\n",
              "      <td>5.810356e+05</td>\n",
              "    </tr>\n",
              "    <tr>\n",
              "      <th>std</th>\n",
              "      <td>1.485832e+05</td>\n",
              "      <td>6.009194e+05</td>\n",
              "    </tr>\n",
              "    <tr>\n",
              "      <th>min</th>\n",
              "      <td>1.130615e+07</td>\n",
              "      <td>8.500000e+04</td>\n",
              "    </tr>\n",
              "    <tr>\n",
              "      <th>25%</th>\n",
              "      <td>1.228617e+07</td>\n",
              "      <td>2.950000e+05</td>\n",
              "    </tr>\n",
              "    <tr>\n",
              "      <th>50%</th>\n",
              "      <td>1.237964e+07</td>\n",
              "      <td>4.250000e+05</td>\n",
              "    </tr>\n",
              "    <tr>\n",
              "      <th>75%</th>\n",
              "      <td>1.240544e+07</td>\n",
              "      <td>5.950000e+05</td>\n",
              "    </tr>\n",
              "    <tr>\n",
              "      <th>max</th>\n",
              "      <td>1.242809e+07</td>\n",
              "      <td>5.750000e+06</td>\n",
              "    </tr>\n",
              "  </tbody>\n",
              "</table>\n",
              "</div>"
            ],
            "text/plain": [
              "              ad_id      Expected\n",
              "count  5.000000e+02  5.000000e+02\n",
              "mean   1.231695e+07  5.810356e+05\n",
              "std    1.485832e+05  6.009194e+05\n",
              "min    1.130615e+07  8.500000e+04\n",
              "25%    1.228617e+07  2.950000e+05\n",
              "50%    1.237964e+07  4.250000e+05\n",
              "75%    1.240544e+07  5.950000e+05\n",
              "max    1.242809e+07  5.750000e+06"
            ]
          },
          "metadata": {},
          "execution_count": 66
        }
      ]
    },
    {
      "cell_type": "markdown",
      "metadata": {
        "id": "bJFJQxAS9HZK"
      },
      "source": [
        "# PIECEWISE REGRESSION"
      ]
    },
    {
      "cell_type": "markdown",
      "metadata": {
        "id": "uQ_1QsLToIDi"
      },
      "source": [
        "## Full Model"
      ]
    },
    {
      "cell_type": "code",
      "metadata": {
        "id": "Yv5j1KzzMUnm"
      },
      "source": [
        "# select some features columns just for the baseline model\n",
        "# assume not all of the features are informative or useful\n",
        "# in this exercise you could try all of them if possible\n",
        "\n",
        "featrain = ['latitude','longitude','beds', 'bathrooms', 'property_type', 'price']\n",
        "# dropna: remove missing values\n",
        "df_subset_train = house_train[featrain].dropna(axis=0)\n",
        "\n",
        "featest = ['latitude','longitude','beds', 'bathrooms', 'property_type']\n",
        "# dropna: remove missing values\n",
        "df_subset_test  =  house_test[featest].dropna(axis=0)\n",
        "\n",
        "# Correlation of expected price in df_subset_test \n",
        "df_cost = true_price[true_price.index.isin(df_subset_test.index)]"
      ],
      "execution_count": null,
      "outputs": []
    },
    {
      "cell_type": "code",
      "metadata": {
        "colab": {
          "base_uri": "https://localhost:8080/"
        },
        "id": "1JIgot9dpKfm",
        "outputId": "cc3be41d-386c-4e7c-f412-7694ee9101b6"
      },
      "source": [
        "print('Number of nan in df_subset_train dataset: ',df_subset_train.isnull().sum().sum())\n",
        "print('Number of nan in df_subset_test dataset: ',df_subset_test.isnull().sum().sum())"
      ],
      "execution_count": null,
      "outputs": [
        {
          "output_type": "stream",
          "name": "stdout",
          "text": [
            "Number of nan in df_subset_train dataset:  0\n",
            "Number of nan in df_subset_test dataset:  0\n"
          ]
        }
      ]
    },
    {
      "cell_type": "code",
      "metadata": {
        "id": "0IBRBJhepPVR"
      },
      "source": [
        "# train set, input columns\n",
        "Xs_train = df_subset_train.iloc[:,0:-1].values \n",
        "# train set, output column, cost\n",
        "ys_train = df_subset_train.iloc[:,-1].values.reshape(-1,1)   \n",
        "\n",
        "# test set, input columns\n",
        "Xs_test = df_subset_test.iloc[:,0:].values \n",
        "# test set, output column, cost\n",
        "y_test = df_cost.Expected.values"
      ],
      "execution_count": null,
      "outputs": []
    },
    {
      "cell_type": "code",
      "metadata": {
        "id": "1XHaJSURpwjf"
      },
      "source": [
        "# StandardScaler() will normalize the features i.e. each column of X, \n",
        "# so, each column/feature/variable will have μ = 0 and σ = 1\n",
        "sc = StandardScaler()\n",
        "\n",
        "Xss_train = np.hstack([Xs_train,Xs_train[:,[2]]**2])\n",
        "xscaler = sc.fit(Xss_train)\n",
        "Xn_train = xscaler.transform(Xss_train)\n",
        "\n",
        "Xss_test = np.hstack([Xs_test,Xs_test[:,[2]]**2])\n",
        "Xn_test = xscaler.transform(Xss_test)\n",
        "\n",
        "ylog = np.log(ys_train.astype('float'))\n",
        "yscaler = StandardScaler().fit(ylog)\n",
        "yn_train = yscaler.transform(ylog)"
      ],
      "execution_count": null,
      "outputs": []
    },
    {
      "cell_type": "code",
      "metadata": {
        "id": "PZK2kfygoIDi"
      },
      "source": [
        "# model\n",
        "with pm.Model() as model:\n",
        "    #prior over the parameters of linear regression\n",
        "    alpha = pm.Normal('alpha', mu=0, sigma=30)\n",
        "    #we have one beta for each column of Xn\n",
        "    beta = pm.Normal('beta', mu=0, sigma=30, shape=Xn_train.shape[1])\n",
        "    #prior over the variance of the noise\n",
        "    sigma = pm.HalfCauchy('sigma_n', 5)\n",
        "    #linear regression model in matrix form\n",
        "    mu = alpha + pm.math.dot(beta, Xn_train.T)\n",
        "    #likelihood, be sure that observed is a 1d vector\n",
        "    like = pm.Normal('like', mu=mu, sigma=sigma, observed=yn_train[:,0])"
      ],
      "execution_count": null,
      "outputs": []
    },
    {
      "cell_type": "code",
      "metadata": {
        "colab": {
          "base_uri": "https://localhost:8080/",
          "height": 343
        },
        "id": "Qca_0nd2yXxt",
        "outputId": "2d8b6d82-fc74-4735-89e2-61ba2bf2bb7a"
      },
      "source": [
        "#number of iterations of the algorithms\n",
        "iter = 50000 \n",
        "\n",
        "# run the model\n",
        "with model:\n",
        "    approximation = pm.fit(iter,method='advi')\n",
        "    \n",
        "# check the convergence\n",
        "plt.plot(approximation.hist);"
      ],
      "execution_count": null,
      "outputs": [
        {
          "output_type": "stream",
          "name": "stderr",
          "text": [
            "WARNING (theano.tensor.blas): We did not find a dynamic library in the library_dir of the library we use for blas. If you use ATLAS, make sure to compile it with dynamics library.\n"
          ]
        },
        {
          "output_type": "display_data",
          "data": {
            "text/html": [
              "\n",
              "    <div>\n",
              "        <style>\n",
              "            /* Turns off some styling */\n",
              "            progress {\n",
              "                /* gets rid of default border in Firefox and Opera. */\n",
              "                border: none;\n",
              "                /* Needs to be in here for Safari polyfill so background images work as expected. */\n",
              "                background-size: auto;\n",
              "            }\n",
              "            .progress-bar-interrupted, .progress-bar-interrupted::-webkit-progress-bar {\n",
              "                background: #F44336;\n",
              "            }\n",
              "        </style>\n",
              "      <progress value='50000' class='' max='50000' style='width:300px; height:20px; vertical-align: middle;'></progress>\n",
              "      100.00% [50000/50000 00:12<00:00 Average Loss = 3,166.5]\n",
              "    </div>\n",
              "    "
            ],
            "text/plain": [
              "<IPython.core.display.HTML object>"
            ]
          },
          "metadata": {}
        },
        {
          "output_type": "stream",
          "name": "stderr",
          "text": [
            "Finished [100%]: Average Loss = 3,166.5\n"
          ]
        },
        {
          "output_type": "display_data",
          "data": {
            "image/png": "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\n",
            "text/plain": [
              "<Figure size 432x288 with 1 Axes>"
            ]
          },
          "metadata": {}
        }
      ]
    },
    {
      "cell_type": "code",
      "metadata": {
        "id": "5LlzCFCyybVK"
      },
      "source": [
        "# samples from the posterior\n",
        "posterior = approximation.sample(5000)"
      ],
      "execution_count": null,
      "outputs": []
    },
    {
      "cell_type": "code",
      "metadata": {
        "id": "cIskuS3ToIDk",
        "colab": {
          "base_uri": "https://localhost:8080/"
        },
        "outputId": "fa7838bb-3905-4aee-cdf3-70171c5aa9f2"
      },
      "source": [
        "# prediction\n",
        "ll=np.mean(posterior['alpha']) + np.dot(np.mean(posterior['beta'],axis=0), Xn_test.T)\n",
        "y_pred_BLR = np.exp(yscaler.inverse_transform(ll.reshape(-1,1)))[:,0]\n",
        "print(\"MAE = \",(np.mean(abs(y_pred_BLR - y_test))))\n",
        "print(\"MAPE = \",(np.mean(abs(y_pred_BLR - y_test) / y_test)))"
      ],
      "execution_count": null,
      "outputs": [
        {
          "output_type": "stream",
          "name": "stdout",
          "text": [
            "MAE =  217197.40726664366\n",
            "MAPE =  0.29271096279647163\n"
          ]
        }
      ]
    },
    {
      "cell_type": "markdown",
      "metadata": {
        "id": "q_jBBKvtoIDk"
      },
      "source": [
        "## Clustering"
      ]
    },
    {
      "cell_type": "markdown",
      "metadata": {
        "id": "VYFvbgYDaEOS"
      },
      "source": [
        "### Full Model"
      ]
    },
    {
      "cell_type": "code",
      "metadata": {
        "id": "iphQ53UE0iVw",
        "colab": {
          "base_uri": "https://localhost:8080/",
          "height": 285
        },
        "outputId": "cfa74b3e-e842-449f-ff7e-61154376908e"
      },
      "source": [
        "# training gaussian mixture model \n",
        "from sklearn.mixture import GaussianMixture\n",
        "\n",
        "gmm = GaussianMixture(n_components=4)\n",
        "# clustering by features 1 - 2\n",
        "ind=[0,1]\n",
        "X_ind = np.vstack([Xn_train[:,ind],Xn_test[:,ind]])\n",
        "# Gaussian Mixture\n",
        "gmm.fit(X_ind)\n",
        "# plot blue dots\n",
        "plt.scatter(X_ind[:,0],X_ind[:,1])\n",
        "# centroids:  orange dots\n",
        "plt.scatter(gmm.means_[:,0],gmm.means_[:,1])\n",
        "# lenght of feature clustering\n",
        "len(X_ind)"
      ],
      "execution_count": null,
      "outputs": [
        {
          "output_type": "execute_result",
          "data": {
            "text/plain": [
              "3392"
            ]
          },
          "metadata": {},
          "execution_count": 75
        },
        {
          "output_type": "display_data",
          "data": {
            "image/png": "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\n",
            "text/plain": [
              "<Figure size 432x288 with 1 Axes>"
            ]
          },
          "metadata": {}
        }
      ]
    },
    {
      "cell_type": "code",
      "metadata": {
        "id": "F04uD3rSs0OA"
      },
      "source": [
        "from sys import maxsize\n",
        "from numpy import set_printoptions"
      ],
<<<<<<< HEAD
      "execution_count": 76,
=======
      "execution_count": null,
>>>>>>> e932dcbd55b0ef8ba8518c66e8dc510f3197bdb3
      "outputs": []
    },
    {
      "cell_type": "code",
      "metadata": {
        "id": "v1UxdwZFsyMU"
      },
      "source": [
        "np.amax(X_ind)\n",
        "indexes = np.array([697,791])\n",
        "X_ind = np.delete(X_ind, indexes, axis=0)\n",
        "Xn_train = np.delete(Xn_train, indexes, axis=0)\n",
        "ys_train = np.delete(ys_train, indexes, axis=0)"
      ],
<<<<<<< HEAD
      "execution_count": 77,
=======
      "execution_count": null,
>>>>>>> e932dcbd55b0ef8ba8518c66e8dc510f3197bdb3
      "outputs": []
    },
    {
      "cell_type": "code",
      "metadata": {
        "colab": {
          "base_uri": "https://localhost:8080/",
          "height": 285
        },
        "id": "5JAc4MoasqyF",
        "outputId": "45993e69-a6a7-40a3-bf9a-006bad7b6ad7"
      },
      "source": [
        "# Gaussian Mixture\n",
        "gmm.fit(X_ind)\n",
        "# plot blue dots\n",
        "plt.scatter(X_ind[:,0],X_ind[:,1])\n",
        "# centroids:  orange dots\n",
        "plt.scatter(gmm.means_[:,0],gmm.means_[:,1])"
      ],
<<<<<<< HEAD
      "execution_count": 78,
=======
      "execution_count": null,
>>>>>>> e932dcbd55b0ef8ba8518c66e8dc510f3197bdb3
      "outputs": [
        {
          "output_type": "execute_result",
          "data": {
            "text/plain": [
              "<matplotlib.collections.PathCollection at 0x7f84a0768d90>"
            ]
          },
          "metadata": {},
          "execution_count": 78
        },
        {
          "output_type": "display_data",
          "data": {
            "image/png": "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\n",
            "text/plain": [
              "<Figure size 432x288 with 1 Axes>"
            ]
          },
          "metadata": {}
        }
      ]
    },
    {
      "cell_type": "markdown",
      "metadata": {
        "id": "h51OhBV5Z4tY"
      },
      "source": [
        "### Clusters"
      ]
    },
    {
      "cell_type": "code",
      "metadata": {
        "id": "vNvx_KxrLt90",
        "colab": {
          "base_uri": "https://localhost:8080/"
        },
        "outputId": "fb0867cb-4d7c-4a40-fca8-011d830eec80"
      },
      "source": [
        "# train clusters\n",
        "clusters_train = gmm.predict(Xn_train[:,ind])\n",
        "unique_train, counts_train = np.unique(clusters_train, return_counts=True)\n",
        "dict(zip(unique_train, counts_train))"
      ],
<<<<<<< HEAD
      "execution_count": 79,
=======
      "execution_count": null,
>>>>>>> e932dcbd55b0ef8ba8518c66e8dc510f3197bdb3
      "outputs": [
        {
          "output_type": "execute_result",
          "data": {
            "text/plain": [
              "{0: 787, 1: 1072, 2: 844, 3: 187}"
            ]
          },
          "metadata": {},
          "execution_count": 79
        }
      ]
    },
    {
      "cell_type": "code",
      "metadata": {
        "id": "-wTT4220zFNx",
        "colab": {
          "base_uri": "https://localhost:8080/"
        },
        "outputId": "fe041655-3c49-46e2-ea78-2f5370f76828"
      },
      "source": [
        "# test clusters\n",
        "clusters_test = gmm.predict(Xn_test[:,ind])\n",
        "unique_test, counts_test = np.unique(clusters_test, return_counts=True)\n",
        "dict(zip(unique_test, counts_test))"
      ],
<<<<<<< HEAD
      "execution_count": 80,
=======
      "execution_count": null,
>>>>>>> e932dcbd55b0ef8ba8518c66e8dc510f3197bdb3
      "outputs": [
        {
          "output_type": "execute_result",
          "data": {
            "text/plain": [
              "{0: 162, 1: 171, 2: 125, 3: 42}"
            ]
          },
          "metadata": {},
          "execution_count": 80
        }
      ]
    },
    {
      "cell_type": "code",
      "metadata": {
        "id": "Ufq873Xmz0l0"
      },
      "source": [
        "# cluster 0\n",
        "Xn0 = Xn_train[clusters_train==0,:]\n",
        "Xtestn0 = Xn_test[clusters_test==0,:]\n",
        "\n",
        "ylog0 = np.log(ys_train.astype('float')[clusters_train==0,:])\n",
        "yscaler0 = StandardScaler().fit(ylog0)\n",
        "yn0 = yscaler0.transform(ylog0)"
      ],
<<<<<<< HEAD
      "execution_count": 81,
=======
      "execution_count": null,
>>>>>>> e932dcbd55b0ef8ba8518c66e8dc510f3197bdb3
      "outputs": []
    },
    {
      "cell_type": "code",
      "metadata": {
        "id": "-mtUzK6cz0bU"
      },
      "source": [
        "# cluster 1\n",
        "Xn1 = Xn_train[clusters_train==1,:]\n",
        "Xtestn1 = Xn_test[clusters_test==1,:]\n",
        "ylog1 = np.log(ys_train.astype('float')[clusters_train==1,:])\n",
        "yscaler1 = StandardScaler().fit(ylog1)\n",
        "yn1 = yscaler1.transform(ylog1)"
      ],
<<<<<<< HEAD
      "execution_count": 82,
=======
      "execution_count": null,
>>>>>>> e932dcbd55b0ef8ba8518c66e8dc510f3197bdb3
      "outputs": []
    },
    {
      "cell_type": "code",
      "metadata": {
        "id": "IrWxgCyUz0TV"
      },
      "source": [
        "# cluster 2\n",
        "Xn2 = Xn_train[clusters_train==2,:]\n",
        "Xtestn2 = Xn_test[clusters_test==2,:]\n",
        "ylog2 = np.log(ys_train.astype('float')[clusters_train==2,:])\n",
        "yscaler2 = StandardScaler().fit(ylog2)\n",
        "yn2 = yscaler2.transform(ylog2)"
      ],
<<<<<<< HEAD
      "execution_count": 83,
=======
      "execution_count": null,
>>>>>>> e932dcbd55b0ef8ba8518c66e8dc510f3197bdb3
      "outputs": []
    },
    {
      "cell_type": "code",
      "metadata": {
        "id": "nmROyZCLz0Kw"
      },
      "source": [
        "# cluster 3\n",
        "Xn3 = Xn_train[clusters_train==3,:]\n",
        "Xtestn3 = Xn_test[clusters_test==3,:]\n",
        "ylog3 = np.log(ys_train.astype('float')[clusters_train==3,:])\n",
        "yscaler3 = StandardScaler().fit(ylog3)\n",
        "yn3 = yscaler3.transform(ylog3)"
      ],
<<<<<<< HEAD
      "execution_count": 84,
=======
      "execution_count": null,
>>>>>>> e932dcbd55b0ef8ba8518c66e8dc510f3197bdb3
      "outputs": []
    },
    {
      "cell_type": "markdown",
      "metadata": {
        "id": "dXF25ZDYoIDl"
      },
      "source": [
        "## Piecewise Model"
      ]
    },
    {
      "cell_type": "code",
      "metadata": {
        "id": "N1e-4ruvaJci",
        "colab": {
          "base_uri": "https://localhost:8080/",
          "height": 55
        },
        "outputId": "0d344339-6a0d-4e23-f439-10e3245297bb"
      },
      "source": [
        "# model_0\n",
        "with pm.Model() as model_0:\n",
        "  # prior over the parameters of linear regression\n",
        "  alpha = pm.Normal('alpha', mu=0, sigma=30)\n",
        "  # we have a beta for each column of Xn0\n",
        "  beta = pm.Normal('beta', mu=0, sigma=30, shape=Xn0.shape[1])\n",
        "  # prior over the variance of the noise\n",
        "  sigma = pm.HalfCauchy('sigma_n', 5)\n",
        "  # linear regression relationship\n",
        "  #linear regression model in matrix form\n",
        "  mu = alpha + pm.math.dot(beta, Xn0.T)\n",
        "  # likelihood, be sure that observed is a 1d vector\n",
        "  like = pm.Normal('like', mu=mu, sigma=sigma, observed=yn0[:,0])\n",
        "\n",
        "with model_0:\n",
        "  # iterations of the algorithm\n",
        "  approximation = pm.fit(40000,method='advi')\n",
        "\n",
        "# samples from the posterior   \n",
        "posterior0 = approximation.sample(5000)"
      ],
<<<<<<< HEAD
      "execution_count": 85,
=======
      "execution_count": null,
>>>>>>> e932dcbd55b0ef8ba8518c66e8dc510f3197bdb3
      "outputs": [
        {
          "output_type": "display_data",
          "data": {
            "text/html": [
              "\n",
              "    <div>\n",
              "        <style>\n",
              "            /* Turns off some styling */\n",
              "            progress {\n",
              "                /* gets rid of default border in Firefox and Opera. */\n",
              "                border: none;\n",
              "                /* Needs to be in here for Safari polyfill so background images work as expected. */\n",
              "                background-size: auto;\n",
              "            }\n",
              "            .progress-bar-interrupted, .progress-bar-interrupted::-webkit-progress-bar {\n",
              "                background: #F44336;\n",
              "            }\n",
              "        </style>\n",
              "      <progress value='40000' class='' max='40000' style='width:300px; height:20px; vertical-align: middle;'></progress>\n",
              "      100.00% [40000/40000 00:04<00:00 Average Loss = 776.41]\n",
              "    </div>\n",
              "    "
            ],
            "text/plain": [
              "<IPython.core.display.HTML object>"
            ]
          },
          "metadata": {}
        },
        {
          "output_type": "stream",
          "name": "stderr",
          "text": [
            "Finished [100%]: Average Loss = 776.42\n"
          ]
        }
      ]
    },
    {
      "cell_type": "code",
      "metadata": {
        "id": "5B8vKHZR0XCs",
        "colab": {
          "base_uri": "https://localhost:8080/",
          "height": 55
        },
        "outputId": "c9630851-8dab-4e0c-b358-143c8a1677e1"
      },
      "source": [
        "# model_1\n",
        "with pm.Model() as model_1:\n",
        "  # prior over the parameters of linear regression\n",
        "  alpha = pm.Normal('alpha', mu=0, sigma=30)\n",
        "  # we have a beta for each column of Xn\n",
        "  beta = pm.Normal('beta', mu=0, sigma=30, shape=Xn1.shape[1])\n",
        "  # prior over the variance of the noise\n",
        "  sigma = pm.HalfCauchy('sigma_n', 5)\n",
        "  # linear regression relationship\n",
        "  #linear regression model in matrix form\n",
        "  mu = alpha + pm.math.dot(beta, Xn1.T)\n",
        "  # likelihood, # \n",
        "  like = pm.Normal('like', mu=mu, sigma=sigma, observed=yn1[:,0])\n",
        "  \n",
        "with model_1:\n",
        "  # iterations of the algorithm\n",
        "  approximation = pm.fit(40000,method='advi')\n",
        "\n",
        "# samples from the posterior    \n",
        "posterior1 = approximation.sample(5000)"
      ],
<<<<<<< HEAD
      "execution_count": 86,
=======
      "execution_count": null,
>>>>>>> e932dcbd55b0ef8ba8518c66e8dc510f3197bdb3
      "outputs": [
        {
          "output_type": "display_data",
          "data": {
            "text/html": [
              "\n",
              "    <div>\n",
              "        <style>\n",
              "            /* Turns off some styling */\n",
              "            progress {\n",
              "                /* gets rid of default border in Firefox and Opera. */\n",
              "                border: none;\n",
              "                /* Needs to be in here for Safari polyfill so background images work as expected. */\n",
              "                background-size: auto;\n",
              "            }\n",
              "            .progress-bar-interrupted, .progress-bar-interrupted::-webkit-progress-bar {\n",
              "                background: #F44336;\n",
              "            }\n",
              "        </style>\n",
              "      <progress value='40000' class='' max='40000' style='width:300px; height:20px; vertical-align: middle;'></progress>\n",
              "      100.00% [40000/40000 00:05<00:00 Average Loss = 1,106.6]\n",
              "    </div>\n",
              "    "
            ],
            "text/plain": [
              "<IPython.core.display.HTML object>"
            ]
          },
          "metadata": {}
        },
        {
          "output_type": "stream",
          "name": "stderr",
          "text": [
            "Finished [100%]: Average Loss = 1,106.6\n"
          ]
        }
      ]
    },
    {
      "cell_type": "code",
      "metadata": {
        "id": "nEACnicT0RvS",
        "colab": {
          "base_uri": "https://localhost:8080/",
          "height": 55
        },
        "outputId": "72441858-3292-45de-9a63-3c7b8d29d9b2"
      },
      "source": [
        "# model_2\n",
        "with pm.Model() as model_2:\n",
        "  # prior over the parameters of linear regression\n",
        "  alpha = pm.Normal('alpha', mu=0, sigma=30)\n",
        "  # we have a beta for each column of Xn\n",
        "  beta = pm.Normal('beta', mu=0, sigma=30, shape=Xn2.shape[1])\n",
        "  # prior over the variance of the noise\n",
        "  sigma = pm.HalfCauchy('sigma_n', 5)\n",
        "  # linear regression relationship\n",
        "  # linear regression model in matrix form\n",
        "  mu = alpha + pm.math.dot(beta, Xn2.T)\n",
        "  # likelihood, be sure that observed is a 1d vector\n",
        "  like = pm.Normal('like', mu=mu, sigma=sigma, observed=yn2[:,0])\n",
        "    \n",
        "with model_2:\n",
        "  # iterations of the algorithms\n",
        "  approximation = pm.fit(40000,method='advi')\n",
        "\n",
        "# samples from the posterior    \n",
        "posterior2 = approximation.sample(5000)"
      ],
<<<<<<< HEAD
      "execution_count": 87,
=======
      "execution_count": null,
>>>>>>> e932dcbd55b0ef8ba8518c66e8dc510f3197bdb3
      "outputs": [
        {
          "output_type": "display_data",
          "data": {
            "text/html": [
              "\n",
              "    <div>\n",
              "        <style>\n",
              "            /* Turns off some styling */\n",
              "            progress {\n",
              "                /* gets rid of default border in Firefox and Opera. */\n",
              "                border: none;\n",
              "                /* Needs to be in here for Safari polyfill so background images work as expected. */\n",
              "                background-size: auto;\n",
              "            }\n",
              "            .progress-bar-interrupted, .progress-bar-interrupted::-webkit-progress-bar {\n",
              "                background: #F44336;\n",
              "            }\n",
              "        </style>\n",
              "      <progress value='40000' class='' max='40000' style='width:300px; height:20px; vertical-align: middle;'></progress>\n",
              "      100.00% [40000/40000 00:04<00:00 Average Loss = 909.45]\n",
              "    </div>\n",
              "    "
            ],
            "text/plain": [
              "<IPython.core.display.HTML object>"
            ]
          },
          "metadata": {}
        },
        {
          "output_type": "stream",
          "name": "stderr",
          "text": [
            "Finished [100%]: Average Loss = 909.46\n"
          ]
        }
      ]
    },
    {
      "cell_type": "code",
      "metadata": {
        "id": "X1JJI0yH0Rlz",
        "colab": {
          "base_uri": "https://localhost:8080/",
          "height": 55
        },
        "outputId": "7f86bd8b-8c5a-45c2-fa77-6a0838de5504"
      },
      "source": [
        "# model_3\n",
        "with pm.Model() as model3:\n",
        "  # prior over the parameters of linear regression\n",
        "  alpha = pm.Normal('alpha', mu=0, sigma=30)\n",
        "  # we have a beta for each column of Xn\n",
        "  beta = pm.Normal('beta', mu=0, sigma=30, shape=Xn3.shape[1])\n",
        "  # prior over the variance of the noise\n",
        "  sigma = pm.HalfCauchy('sigma_n', 5)\n",
        "  # linear regression relationship\n",
        "  mu = alpha + pm.math.dot(beta, Xn3.T)#linear regression model in matrix form\n",
        "  # likelihood, be sure that observed is a 1d vector\n",
        "  like = pm.Normal('like', mu=mu, sigma=sigma, observed=yn3[:,0])\n",
        "    \n",
        "with model3:\n",
        "  # number of iterations of the algorithms\n",
        "  approximation = pm.fit(40000,method='advi')\n",
        "\n",
        "# samples from the posterior     \n",
        "posterior3 = approximation.sample(5000)"
      ],
<<<<<<< HEAD
      "execution_count": 88,
=======
      "execution_count": null,
>>>>>>> e932dcbd55b0ef8ba8518c66e8dc510f3197bdb3
      "outputs": [
        {
          "output_type": "display_data",
          "data": {
            "text/html": [
              "\n",
              "    <div>\n",
              "        <style>\n",
              "            /* Turns off some styling */\n",
              "            progress {\n",
              "                /* gets rid of default border in Firefox and Opera. */\n",
              "                border: none;\n",
              "                /* Needs to be in here for Safari polyfill so background images work as expected. */\n",
              "                background-size: auto;\n",
              "            }\n",
              "            .progress-bar-interrupted, .progress-bar-interrupted::-webkit-progress-bar {\n",
              "                background: #F44336;\n",
              "            }\n",
              "        </style>\n",
              "      <progress value='40000' class='' max='40000' style='width:300px; height:20px; vertical-align: middle;'></progress>\n",
              "      100.00% [40000/40000 00:04<00:00 Average Loss = 252.62]\n",
              "    </div>\n",
              "    "
            ],
            "text/plain": [
              "<IPython.core.display.HTML object>"
            ]
          },
          "metadata": {}
        },
        {
          "output_type": "stream",
          "name": "stderr",
          "text": [
            "Finished [100%]: Average Loss = 252.64\n"
          ]
        }
      ]
    },
    {
      "cell_type": "code",
      "metadata": {
        "id": "Erb06y6J04LY"
      },
      "source": [
        "# Posterior predictive checks (PPCs)\n",
        "def ppc(alpha,beta,sigma, X,  nsamples=500):\n",
        "    #we select nsamples random samples from the posterior\n",
        "    ind = np.random.randint(0,beta.shape[0],size=nsamples)\n",
        "    alphai = alpha[ind]\n",
        "    betai = beta[ind,:]\n",
        "    sigmai = sigma[ind]\n",
        "\n",
        "    Ypred = np.zeros((nsamples,X.shape[0]))\n",
        "    for i in range(X.shape[0]):\n",
        "        #we generate data from linear model\n",
        "        y_pred = alphai + np.dot(betai, X[i:i+1,:].T).T +np.random.randn(len(sigmai))*sigmai\n",
        "        Ypred[:,i]=y_pred[0,:]\n",
        "    return Ypred"
      ],
<<<<<<< HEAD
      "execution_count": 89,
=======
      "execution_count": null,
>>>>>>> e932dcbd55b0ef8ba8518c66e8dc510f3197bdb3
      "outputs": []
    },
    {
      "cell_type": "markdown",
      "metadata": {
        "id": "wHBgUe1pcZQQ"
      },
      "source": [
        "##Simulations"
      ]
    },
    {
      "cell_type": "markdown",
      "metadata": {
        "id": "bfSEdYAUoIDn"
      },
      "source": [
        "### Only Cluster 0"
      ]
    },
    {
      "cell_type": "code",
      "metadata": {
        "id": "7yzEaEpE08gH",
        "colab": {
          "base_uri": "https://localhost:8080/",
          "height": 313
        },
        "outputId": "f4dfc970-205d-4991-f638-4627256237c8"
      },
      "source": [
        "#Simulation\n",
        "Ypred0 = yscaler0.inverse_transform(ppc(posterior0['alpha'],posterior0['beta'],posterior0['sigma_n'],Xn0,  nsamples=200))\n",
        "for i in range(Ypred0.shape[0]):\n",
        "    az.plot_dist( Ypred0[i,:],color='r',plot_kwargs={\"linewidth\": 0.2})\n",
        "az.plot_dist(Ypred0[i,:],color='r',plot_kwargs={\"linewidth\": 0.2}, label=\"prediction\")\n",
        "#plt.plot(np.linspace(-8,8,100),norm.pdf(np.linspace(-8,8,100),df=np.mean(posterior_1['nu'])))\n",
        "#plt.xlim([0,10e7])\n",
        "az.plot_dist(ylog0,label='true observations');\n",
        "plt.legend()\n",
        "plt.xlabel(\"log(y) - output variable\")\n",
        "plt.ylabel(\"density plot\");"
      ],
<<<<<<< HEAD
      "execution_count": 90,
=======
      "execution_count": null,
>>>>>>> e932dcbd55b0ef8ba8518c66e8dc510f3197bdb3
      "outputs": [
        {
          "output_type": "display_data",
          "data": {
            "image/png": "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\n",
            "text/plain": [
              "<Figure size 432x288 with 1 Axes>"
            ]
          },
          "metadata": {}
        }
      ]
    },
    {
      "cell_type": "markdown",
      "metadata": {
        "id": "d7b_T2Lh1BhH"
      },
      "source": [
        "### Only Cluster 1"
      ]
    },
    {
      "cell_type": "code",
      "metadata": {
        "id": "jZQAf-ZI1GlM",
        "colab": {
          "base_uri": "https://localhost:8080/",
          "height": 313
        },
        "outputId": "bf2b173d-4e85-47b9-bf88-dd6c128dec78"
      },
      "source": [
        "#Simulation\n",
        "Ypred1 = yscaler1.inverse_transform(ppc(posterior1['alpha'],posterior1['beta'],posterior1['sigma_n'],Xn1,  nsamples=200))\n",
        "for i in range(Ypred1.shape[0]):\n",
        "    az.plot_dist( Ypred1[i,:],color='r',plot_kwargs={\"linewidth\": 0.2})\n",
        "az.plot_dist(Ypred1[i,:],color='r',plot_kwargs={\"linewidth\": 0.2}, label=\"prediction\")\n",
        "#plt.plot(np.linspace(-8,8,100),norm.pdf(np.linspace(-8,8,100),df=np.mean(posterior_1['nu'])))\n",
        "#plt.xlim([0,10e7])\n",
        "az.plot_dist(ylog1,label='true observations');\n",
        "plt.legend()\n",
        "plt.xlabel(\"log(y) - output variable\")\n",
        "plt.ylabel(\"density plot\");"
      ],
<<<<<<< HEAD
      "execution_count": 91,
=======
      "execution_count": null,
>>>>>>> e932dcbd55b0ef8ba8518c66e8dc510f3197bdb3
      "outputs": [
        {
          "output_type": "display_data",
          "data": {
            "image/png": "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\n",
            "text/plain": [
              "<Figure size 432x288 with 1 Axes>"
            ]
          },
          "metadata": {}
        }
      ]
    },
    {
      "cell_type": "markdown",
      "metadata": {
        "id": "3yW5TaHy1HAF"
      },
      "source": [
        "### Only Cluster 2"
      ]
    },
    {
      "cell_type": "code",
      "metadata": {
        "id": "mUdma5t_1IIb",
        "colab": {
          "base_uri": "https://localhost:8080/",
          "height": 313
        },
        "outputId": "497d5f78-4673-41c4-9b2e-59c533946bb4"
      },
      "source": [
        "#Simulation\n",
        "Ypred2 = yscaler2.inverse_transform(ppc(posterior2['alpha'],posterior2['beta'],posterior2['sigma_n'],Xn2,  nsamples=200))\n",
        "for i in range(Ypred2.shape[0]):\n",
        "    az.plot_dist( Ypred2[i,:],color='r',plot_kwargs={\"linewidth\": 0.2})\n",
        "az.plot_dist(Ypred2[i,:],color='r',plot_kwargs={\"linewidth\": 0.2}, label=\"prediction\")\n",
        "#plt.plot(np.linspace(-8,8,100),norm.pdf(np.linspace(-8,8,100),df=np.mean(posterior_1['nu'])))\n",
        "#plt.xlim([0,10e7])\n",
        "az.plot_dist(ylog2,label='true observations');\n",
        "plt.legend()\n",
        "plt.xlabel(\"log(y) - output variable\")\n",
        "plt.ylabel(\"density plot\");"
      ],
<<<<<<< HEAD
      "execution_count": 92,
=======
      "execution_count": null,
>>>>>>> e932dcbd55b0ef8ba8518c66e8dc510f3197bdb3
      "outputs": [
        {
          "output_type": "display_data",
          "data": {
            "image/png": "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\n",
            "text/plain": [
              "<Figure size 432x288 with 1 Axes>"
            ]
          },
          "metadata": {}
        }
      ]
    },
    {
      "cell_type": "markdown",
      "metadata": {
        "id": "jBxKmM3t1Ig6"
      },
      "source": [
        "### Only Cluster 3"
      ]
    },
    {
      "cell_type": "code",
      "metadata": {
        "id": "MSHMYbWV1J_h",
        "colab": {
          "base_uri": "https://localhost:8080/",
          "height": 313
        },
        "outputId": "b8b079a7-97a6-4e2c-b4ad-99b9665cef00"
      },
      "source": [
        "#Simulation\n",
        "Ypred3 = yscaler3.inverse_transform(ppc(posterior3['alpha'],posterior3['beta'],posterior3['sigma_n'],Xn3,  nsamples=200))\n",
        "for i in range(Ypred3.shape[0]):\n",
        "    az.plot_dist( Ypred3[i,:],color='r',plot_kwargs={\"linewidth\": 0.2})\n",
        "az.plot_dist(Ypred3[i,:],color='r',plot_kwargs={\"linewidth\": 0.2}, label=\"prediction\")\n",
        "#plt.plot(np.linspace(-8,8,100),norm.pdf(np.linspace(-8,8,100),df=np.mean(posterior_1['nu'])))\n",
        "#plt.xlim([0,10e7])\n",
        "az.plot_dist(ylog3,label='true observations');\n",
        "plt.legend()\n",
        "plt.xlabel(\"log(y) - output variable\")\n",
        "plt.ylabel(\"density plot\");"
      ],
<<<<<<< HEAD
      "execution_count": 93,
=======
      "execution_count": null,
>>>>>>> e932dcbd55b0ef8ba8518c66e8dc510f3197bdb3
      "outputs": [
        {
          "output_type": "display_data",
          "data": {
            "image/png": "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\n",
            "text/plain": [
              "<Figure size 432x288 with 1 Axes>"
            ]
          },
          "metadata": {}
        }
      ]
    },
    {
      "cell_type": "markdown",
      "metadata": {
        "id": "qgMUwBO7oIDq"
      },
      "source": [
        "## Overall"
      ]
    },
    {
      "cell_type": "code",
      "metadata": {
        "id": "adUDX0Ox1VBu",
        "colab": {
          "base_uri": "https://localhost:8080/",
          "height": 313
        },
        "outputId": "5517b319-6865-462a-c0bf-f98413264ccf"
      },
      "source": [
        "# posteriors\n",
        "Ypred0 = ppc(posterior0['alpha'],posterior0['beta'],posterior0['sigma_n'],Xn0,  nsamples=200)\n",
        "Ypred1 = ppc(posterior1['alpha'],posterior1['beta'],posterior1['sigma_n'],Xn1,  nsamples=200)\n",
        "Ypred2 = ppc(posterior2['alpha'],posterior2['beta'],posterior2['sigma_n'],Xn2,  nsamples=200)\n",
        "Ypred3 = ppc(posterior3['alpha'],posterior3['beta'],posterior3['sigma_n'],Xn3,  nsamples=200)\n",
        "\n",
        "# simulation\n",
        "Ypred = np.hstack([ yscaler0.inverse_transform(Ypred0),\n",
        "                 yscaler1.inverse_transform(Ypred1),\n",
        "                 yscaler2.inverse_transform(Ypred2),\n",
        "                 yscaler3.inverse_transform(Ypred3)])\n",
        "\n",
        "# prediction\n",
        "for i in range(Ypred.shape[0]):\n",
        "    az.plot_dist( Ypred[i,:],color='r',plot_kwargs={\"linewidth\": 0.2})\n",
        "\n",
        "# plot\n",
        "az.plot_dist(Ypred[i,:],color='r',plot_kwargs={\"linewidth\": 0.2}, label=\"prediction\")\n",
        "ylog=np.vstack([ylog0,ylog1,ylog2,ylog3])\n",
        "az.plot_dist(ylog,label='true observations');\n",
        "plt.legend()\n",
        "plt.xlabel(\"log(y) - output variable\")\n",
        "plt.ylabel(\"density plot\");"
      ],
<<<<<<< HEAD
      "execution_count": 94,
=======
      "execution_count": null,
>>>>>>> e932dcbd55b0ef8ba8518c66e8dc510f3197bdb3
      "outputs": [
        {
          "output_type": "display_data",
          "data": {
            "image/png": "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\n",
            "text/plain": [
              "<Figure size 432x288 with 1 Axes>"
            ]
          },
          "metadata": {}
        }
      ]
    },
    {
      "cell_type": "markdown",
      "metadata": {
        "id": "QMY9rDvVoIDq"
      },
      "source": [
        "## Test set performance"
      ]
    },
    {
      "cell_type": "code",
      "metadata": {
        "id": "MhClcuGl1ZPb",
        "colab": {
          "base_uri": "https://localhost:8080/"
        },
        "outputId": "e33304a2-2335-4f83-9bf6-5c3f407d3c21"
      },
      "source": [
        "# cluster 0\n",
        "y_pred_BLR0 = np.exp(yscaler0.inverse_transform(np.mean(posterior0['alpha']) \n",
        "              + np.dot(np.mean(posterior0['beta'],axis=0), Xtestn0.T)))\n",
        "print(\"Size Cluster0\", np.sum(clusters_test==0), \", MAE Cluster0=\",\n",
        "      (np.mean(abs(y_pred_BLR0 - y_test[clusters_test==0]))))\n",
        "\n",
        "# cluster 1\n",
        "y_pred_BLR1 = np.exp(yscaler1.inverse_transform(np.mean(posterior1['alpha']) \n",
        "              + np.dot(np.mean(posterior1['beta'],axis=0), Xtestn1.T)))\n",
        "print(\"Size Cluster1\", np.sum(clusters_test==1), \", MAE Cluster1=\",\n",
        "      (np.mean(abs(y_pred_BLR1 - y_test[clusters_test==1]))))\n",
        "\n",
        "# cluster 2\n",
        "y_pred_BLR2 = np.exp(yscaler2.inverse_transform(np.mean(posterior2['alpha']) \n",
        "              + np.dot(np.mean(posterior2['beta'],axis=0), Xtestn2.T)))\n",
        "print(\"Size Cluster2\", np.sum(clusters_test==2), \", MAE Cluster2=\",\n",
        "      (np.mean(abs(y_pred_BLR2 - y_test[clusters_test==2]))))\n",
        "\n",
        "# cluster 3\n",
        "y_pred_BLR3 = np.exp(yscaler3.inverse_transform(np.mean(posterior3['alpha']) \n",
        "              + np.dot(np.mean(posterior3['beta'],axis=0), Xtestn3.T)))\n",
        "print(\"Size Cluster3\", np.sum(clusters_test==3), \", MAE Cluster3=\",\n",
        "      (np.mean(abs(y_pred_BLR3 - y_test[clusters_test==3]))))\n",
        "\n",
        "# joint\n",
        "joint=np.hstack([abs(y_pred_BLR0 - y_test[clusters_test==0]),\n",
        "                 abs(y_pred_BLR1 - y_test[clusters_test==1]),\n",
        "                 abs(y_pred_BLR2 - y_test[clusters_test==2]),\n",
        "                 abs(y_pred_BLR3 - y_test[clusters_test==3])])\n",
        "\n",
        "# MAE\n",
        "print(\"MAE=\",np.mean(joint))"
      ],
<<<<<<< HEAD
      "execution_count": 95,
=======
      "execution_count": null,
>>>>>>> e932dcbd55b0ef8ba8518c66e8dc510f3197bdb3
      "outputs": [
        {
          "output_type": "stream",
          "name": "stdout",
          "text": [
            "Size Cluster0 162 , MAE Cluster0= 311115.73136298324\n",
            "Size Cluster1 171 , MAE Cluster1= 120873.53274309356\n",
            "Size Cluster2 125 , MAE Cluster2= 124591.40891171536\n",
            "Size Cluster3 42 , MAE Cluster3= 99493.01321337032\n",
            "MAE= 181645.5104975965\n"
          ]
        }
      ]
    },
    {
      "cell_type": "markdown",
      "metadata": {
        "id": "YGmB9BNkoIDr"
      },
      "source": [
        "### PPC on the Test set\n",
        "\n"
      ]
    },
    {
      "cell_type": "code",
      "metadata": {
        "id": "JXom1Pdb1cLW",
        "colab": {
          "base_uri": "https://localhost:8080/",
          "height": 313
        },
        "outputId": "fe9ef457-a506-4236-b37f-dd6d8a34d00b"
      },
      "source": [
        "## Posterior predictive checks (PPCs)\n",
        "num_samples2 = 500\n",
        "Ypred0 = ppc(posterior0['alpha'],posterior0['beta'],posterior0['sigma_n'],Xtestn0, nsamples=num_samples2)\n",
        "Ypred1 = ppc(posterior1['alpha'],posterior1['beta'],posterior1['sigma_n'],Xtestn1, nsamples=num_samples2)\n",
        "Ypred2 = ppc(posterior2['alpha'],posterior2['beta'],posterior2['sigma_n'],Xtestn2, nsamples=num_samples2)\n",
        "Ypred3 = ppc(posterior3['alpha'],posterior3['beta'],posterior3['sigma_n'],Xtestn3, nsamples=num_samples2)\n",
        "\n",
        "# Stack arrays in sequence horizontally (column wise)\n",
        "Ypred = np.hstack([yscaler0.inverse_transform(Ypred0),\n",
        "                 yscaler1.inverse_transform(Ypred1),\n",
        "                 yscaler2.inverse_transform(Ypred2),\n",
        "                 yscaler3.inverse_transform(Ypred3)])\n",
        "\n",
        "# plot prediction shape\n",
        "for i in range(Ypred.shape[0]):\n",
        "    az.plot_dist( Ypred[i,:],color='r',plot_kwargs={\"linewidth\": 0.2})\n",
        "# label\n",
        "az.plot_dist(Ypred[i,:],color='r',plot_kwargs={\"linewidth\": 0.2}, label=\"prediction\")\n",
        "\n",
        "# true observations\n",
        "az.plot_dist(np.log(y_test),label='true observations');\n",
        "plt.legend()\n",
        "plt.xlabel(\"log(y) - output variable\")\n",
        "plt.ylabel(\"density plot\");"
      ],
<<<<<<< HEAD
      "execution_count": 96,
=======
      "execution_count": null,
>>>>>>> e932dcbd55b0ef8ba8518c66e8dc510f3197bdb3
      "outputs": [
        {
          "output_type": "display_data",
          "data": {
            "image/png": "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\n",
            "text/plain": [
              "<Figure size 432x288 with 1 Axes>"
            ]
          },
          "metadata": {}
        }
      ]
    },
    {
      "cell_type": "markdown",
      "metadata": {
        "id": "f0GYCpwEM09T"
      },
      "source": [
        "# SUMMARY"
      ]
    },
    {
      "cell_type": "code",
      "metadata": {
        "id": "-2li7DDwd3As"
      },
      "source": [
        ""
      ],
<<<<<<< HEAD
      "execution_count": 96,
=======
      "execution_count": null,
>>>>>>> e932dcbd55b0ef8ba8518c66e8dc510f3197bdb3
      "outputs": []
    }
  ]
}