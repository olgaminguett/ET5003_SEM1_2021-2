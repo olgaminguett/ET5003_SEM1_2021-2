{
  "nbformat": 4,
  "nbformat_minor": 0,
  "metadata": {
    "colab": {
      "name": "ET5003_Etivity1_OlgaMinguett_20179766.ipynb",
      "provenance": [],
      "collapsed_sections": [],
      "include_colab_link": true
    },
    "kernelspec": {
      "name": "python3",
      "display_name": "Python 3"
    },
    "language_info": {
      "name": "python"
    }
  },
  "cells": [
    {
      "cell_type": "markdown",
      "metadata": {
        "id": "view-in-github",
        "colab_type": "text"
      },
      "source": [
        "<a href=\"https://colab.research.google.com/github/olgaminguett/ET5003_SEM1_2021-2/blob/main/ET5003_Etivity1_OlgaMinguett_20179766.ipynb\" target=\"_parent\"><img src=\"https://colab.research.google.com/assets/colab-badge.svg\" alt=\"Open In Colab\"/></a>"
      ]
    },
    {
      "cell_type": "markdown",
      "metadata": {
        "id": "jxK1_8f1dvrc"
      },
      "source": [
        "<div>\n",
        "<img src=\"https://drive.google.com/uc?export=view&id=1vK33e_EqaHgBHcbRV_m38hx6IkG0blK_\" width=\"350\"/>\n",
        "</div> \n",
        "\n",
        "#**Artificial Intelligence - MSc**\n",
        "ET5003 - MACHINE LEARNING APPLICATIONS \n",
        "\n",
        "###Instructor: Enrique Naredo\n",
        "###ET5003_Etivity-1"
      ]
    },
    {
      "cell_type": "code",
      "metadata": {
        "id": "LqXD_IwUQuBF",
        "cellView": "form"
      },
      "source": [
        "#@title Current Date\n",
        "Today = '2021-08-22' #@param {type:\"date\"}\n"
      ],
      "execution_count": 1,
      "outputs": []
    },
    {
      "cell_type": "code",
      "metadata": {
        "id": "uzDKau31OjVO",
        "cellView": "form"
      },
      "source": [
        "#@markdown ---\n",
        "#@markdown ### Enter your details here:\n",
        "Student_ID = \"20179760\" #@param {type:\"string\"}\n",
        "Student_full_name = \"Olga Minguett\" #@param {type:\"string\"}\n",
        "#@markdown ---"
      ],
      "execution_count": 2,
      "outputs": []
    },
    {
      "cell_type": "code",
      "metadata": {
        "id": "r39xGZckTpKx",
        "cellView": "form"
      },
      "source": [
        "#@title Notebook information\n",
        "Notebook_type = 'Etivity' #@param [\"Example\", \"Lab\", \"Practice\", \"Etivity\", \"Assignment\", \"Exam\"]\n",
        "Version = 'Draft' #@param [\"Draft\", \"Final\"] {type:\"raw\"}\n",
        "Submission = False #@param {type:\"boolean\"}"
      ],
      "execution_count": 3,
      "outputs": []
    },
    {
      "cell_type": "markdown",
      "metadata": {
        "id": "80m304lUefG4"
      },
      "source": [
        "## MNIST dataset"
      ]
    },
    {
      "cell_type": "markdown",
      "metadata": {
        "id": "Bs8mHGcidHSa"
      },
      "source": [
        "\n",
        "\n",
        "The MNIST database  is a dataset of handwritten digits that has been and is extensively used in machine learning. There are $10$ classes, each image is $28\\times28$ pixels and, therefore, each input is $x_i\\in\\mathbb{R}^{784}$. "
      ]
    },
    {
      "cell_type": "markdown",
      "metadata": {
        "id": "ailycCq5epj2"
      },
      "source": [
        "## Task"
      ]
    },
    {
      "cell_type": "markdown",
      "metadata": {
        "id": "a-yNAxhUemjM"
      },
      "source": [
        "You have to extend the code to manage any arbitrary number of classes, in other words you have to implement a general-recipe multinomial logistic classifier and Bayesian multinomial logistic classifier.\n",
        "\n",
        "You must then select  3 digits at random and perform  the following task. \n",
        "\n",
        "1. Your goal is to use Bayesian multinomial logistic regression (as in the road-sign notebook) to solve this classification problem. \n",
        "\n",
        "2. You can downsize the training dataset (e.g., 40% training and 60%testing) if the computation of the posterior takes too much time in your computer.\n",
        "\n",
        "3. Use the posterior uncertainty to detect the instances (digits) in the test set that are hard to classify and remove them from the test-set.\n",
        "\n",
        "4. Then you need to compute again the accuracy of the general-recipe logistic regression on the remaining (non-difficult) instances and comment on the result.\n",
        "\n",
        "5. In practice, the task is to use uncertainty estimation to detect the difficult instances in the test-set. This is equivalent to refuse to classify all high-uncertainty instances or, in other words, when we are uncertain we say \"I don't know\" and we do not return any class. In this way, you will learn how uncertainty can be used to make safer decisions, by detecting the instances that are difficult to classify.\n"
      ]
    },
    {
      "cell_type": "markdown",
      "metadata": {
        "id": "nMRKRTQZe5fW"
      },
      "source": [
        "## Libraries"
      ]
    },
    {
      "cell_type": "code",
      "metadata": {
        "id": "IxusAui7AX_f"
      },
      "source": [
        "# Suppressing Warnings:\n",
        "import warnings\n",
        "warnings.filterwarnings(\"ignore\")"
      ],
      "execution_count": 4,
      "outputs": []
    },
    {
      "cell_type": "code",
      "metadata": {
        "id": "MQOfGMQpdHSb"
      },
      "source": [
        "# Import libraries\n",
        "import random\n",
        "\n",
        "import pandas as pd\n",
        "import numpy as np\n",
        "import seaborn as sns\n",
        "import matplotlib\n",
        "import matplotlib.pyplot as plt\n",
        "from collections import Counter\n",
        "import sklearn.preprocessing\n",
        "from sklearn import metrics\n",
        "from sklearn.utils import shuffle\n",
        "from sklearn.linear_model import LogisticRegression\n",
        "from sklearn.metrics import accuracy_score\n",
        "from sklearn.model_selection import train_test_split\n",
        "import theano as tt\n",
        "from IPython.display import HTML\n",
        "import pymc3 as pm # Python package for Bayesian statistical modeling and probabilistic ML\n",
        "\n",
        "%matplotlib inline"
      ],
      "execution_count": 5,
      "outputs": []
    },
    {
      "cell_type": "code",
      "metadata": {
        "id": "P5-qMSjpAQ-9"
      },
      "source": [
        "# Setting a seed:\n",
        "np.random.seed(123)"
      ],
      "execution_count": 6,
      "outputs": []
    },
    {
      "cell_type": "markdown",
      "metadata": {
        "id": "r4hSuwkUfVQb"
      },
      "source": [
        "## Dataset"
      ]
    },
    {
      "cell_type": "markdown",
      "metadata": {
        "id": "w99Pc66YdHSd"
      },
      "source": [
        "### Loading the MNIST dataset"
      ]
    },
    {
      "cell_type": "code",
      "metadata": {
        "colab": {
          "base_uri": "https://localhost:8080/"
        },
        "id": "CYFWAbXVzynp",
        "outputId": "d9aef692-d030-49bf-e79b-76ceef2560da"
      },
      "source": [
        "from google.colab import drive\n",
        "drive.mount('/content/drive')"
      ],
      "execution_count": 7,
      "outputs": [
        {
          "output_type": "stream",
          "name": "stdout",
          "text": [
            "Drive already mounted at /content/drive; to attempt to forcibly remount, call drive.mount(\"/content/drive\", force_remount=True).\n"
          ]
        }
      ]
    },
    {
      "cell_type": "code",
      "metadata": {
        "colab": {
          "base_uri": "https://localhost:8080/"
        },
        "id": "g4rCnS4vdHSd",
        "outputId": "23fe2c71-871c-4656-a210-891966302e4a"
      },
      "source": [
        "# Path, copy the path from your Drive\n",
        "# Downloaded from: https://www.kaggle.com/oddrationale/mnist-in-csv?select=mnist_test.csv\n",
        "Path = '/content/drive/My Drive/Colab Notebooks/mnist/' \n",
        "\n",
        "# MNIST Data\n",
        "train_data = Path + 'mnist_train.csv'\n",
        "test_data = Path + 'mnist_test.csv'\n",
        "\n",
        "# train data\n",
        "df_train = pd.read_csv(train_data)\n",
        "X_train = df_train.drop(\"label\",axis=1).values\n",
        "y_train = df_train.label.values\n",
        "print('Train data Shape',X_train.shape)\n",
        "\n",
        "# test data\n",
        "df_test = pd.read_csv(test_data)\n",
        "X_test = df_test.drop(\"label\",axis=1).values\n",
        "y_test = df_test.label.values\n",
        "print('Test data Shape',X_test.shape)"
      ],
      "execution_count": 8,
      "outputs": [
        {
          "output_type": "stream",
          "name": "stdout",
          "text": [
            "Train data Shape (60000, 784)\n",
            "Test data Shape (10000, 784)\n"
          ]
        }
      ]
    },
    {
      "cell_type": "markdown",
      "metadata": {
        "id": "UdMak-CDbJtR"
      },
      "source": [
        "**Note:** The MNIST dataset [1] contains 60.000 digit for the training sample and 10.000 digit for the test samples, both by 784 bytes. The digits have been size-normalized and centered in a fixed-size image. The images are 28x28 pixel, represented as below: "
      ]
    },
    {
      "cell_type": "code",
      "metadata": {
        "colab": {
          "base_uri": "https://localhost:8080/"
        },
        "id": "TkhEq0MVc7Ky",
        "outputId": "da238563-7fb7-4df9-f5a9-344456560cb9"
      },
      "source": [
        "print (X_train[0])"
      ],
      "execution_count": 9,
      "outputs": [
        {
          "output_type": "stream",
          "name": "stdout",
          "text": [
            "[  0   0   0   0   0   0   0   0   0   0   0   0   0   0   0   0   0   0\n",
            "   0   0   0   0   0   0   0   0   0   0   0   0   0   0   0   0   0   0\n",
            "   0   0   0   0   0   0   0   0   0   0   0   0   0   0   0   0   0   0\n",
            "   0   0   0   0   0   0   0   0   0   0   0   0   0   0   0   0   0   0\n",
            "   0   0   0   0   0   0   0   0   0   0   0   0   0   0   0   0   0   0\n",
            "   0   0   0   0   0   0   0   0   0   0   0   0   0   0   0   0   0   0\n",
            "   0   0   0   0   0   0   0   0   0   0   0   0   0   0   0   0   0   0\n",
            "   0   0   0   0   0   0   0   0   0   0   0   0   0   0   0   0   0   0\n",
            "   0   0   0   0   0   0   0   0   3  18  18  18 126 136 175  26 166 255\n",
            " 247 127   0   0   0   0   0   0   0   0   0   0   0   0  30  36  94 154\n",
            " 170 253 253 253 253 253 225 172 253 242 195  64   0   0   0   0   0   0\n",
            "   0   0   0   0   0  49 238 253 253 253 253 253 253 253 253 251  93  82\n",
            "  82  56  39   0   0   0   0   0   0   0   0   0   0   0   0  18 219 253\n",
            " 253 253 253 253 198 182 247 241   0   0   0   0   0   0   0   0   0   0\n",
            "   0   0   0   0   0   0   0   0  80 156 107 253 253 205  11   0  43 154\n",
            "   0   0   0   0   0   0   0   0   0   0   0   0   0   0   0   0   0   0\n",
            "   0  14   1 154 253  90   0   0   0   0   0   0   0   0   0   0   0   0\n",
            "   0   0   0   0   0   0   0   0   0   0   0   0   0 139 253 190   2   0\n",
            "   0   0   0   0   0   0   0   0   0   0   0   0   0   0   0   0   0   0\n",
            "   0   0   0   0   0  11 190 253  70   0   0   0   0   0   0   0   0   0\n",
            "   0   0   0   0   0   0   0   0   0   0   0   0   0   0   0   0  35 241\n",
            " 225 160 108   1   0   0   0   0   0   0   0   0   0   0   0   0   0   0\n",
            "   0   0   0   0   0   0   0   0   0  81 240 253 253 119  25   0   0   0\n",
            "   0   0   0   0   0   0   0   0   0   0   0   0   0   0   0   0   0   0\n",
            "   0   0  45 186 253 253 150  27   0   0   0   0   0   0   0   0   0   0\n",
            "   0   0   0   0   0   0   0   0   0   0   0   0   0  16  93 252 253 187\n",
            "   0   0   0   0   0   0   0   0   0   0   0   0   0   0   0   0   0   0\n",
            "   0   0   0   0   0   0   0 249 253 249  64   0   0   0   0   0   0   0\n",
            "   0   0   0   0   0   0   0   0   0   0   0   0   0   0  46 130 183 253\n",
            " 253 207   2   0   0   0   0   0   0   0   0   0   0   0   0   0   0   0\n",
            "   0   0   0   0  39 148 229 253 253 253 250 182   0   0   0   0   0   0\n",
            "   0   0   0   0   0   0   0   0   0   0   0   0  24 114 221 253 253 253\n",
            " 253 201  78   0   0   0   0   0   0   0   0   0   0   0   0   0   0   0\n",
            "   0   0  23  66 213 253 253 253 253 198  81   2   0   0   0   0   0   0\n",
            "   0   0   0   0   0   0   0   0   0   0  18 171 219 253 253 253 253 195\n",
            "  80   9   0   0   0   0   0   0   0   0   0   0   0   0   0   0   0   0\n",
            "  55 172 226 253 253 253 253 244 133  11   0   0   0   0   0   0   0   0\n",
            "   0   0   0   0   0   0   0   0   0   0 136 253 253 253 212 135 132  16\n",
            "   0   0   0   0   0   0   0   0   0   0   0   0   0   0   0   0   0   0\n",
            "   0   0   0   0   0   0   0   0   0   0   0   0   0   0   0   0   0   0\n",
            "   0   0   0   0   0   0   0   0   0   0   0   0   0   0   0   0   0   0\n",
            "   0   0   0   0   0   0   0   0   0   0   0   0   0   0   0   0   0   0\n",
            "   0   0   0   0   0   0   0   0   0   0   0   0   0   0   0   0   0   0\n",
            "   0   0   0   0   0   0   0   0   0   0]\n"
          ]
        }
      ]
    },
    {
      "cell_type": "code",
      "metadata": {
        "colab": {
          "base_uri": "https://localhost:8080/"
        },
        "id": "O2ubJ_WoAqBh",
        "outputId": "e0c7754d-1951-4826-93f3-3a63c2d07abe"
      },
      "source": [
        "# Normalizing the Inputs:\n",
        "X_train = X_train/255\n",
        "X_test = X_test/255\n",
        "\n",
        "# Printing the new input range of values:\n",
        "minv = np.min(X_train)\n",
        "maxv = np.max(X_train)\n",
        "print(minv,maxv)"
      ],
      "execution_count": 10,
      "outputs": [
        {
          "output_type": "stream",
          "name": "stdout",
          "text": [
            "0.0 1.0\n"
          ]
        }
      ]
    },
    {
      "cell_type": "markdown",
      "metadata": {
        "id": "4C3M7-rwdIZa"
      },
      "source": [
        "**Note:** after normalizing the image pixel values to a range from 0 to 1 by dividing between 255, computation becomes easier and faster as the numbers are small."
      ]
    },
    {
      "cell_type": "markdown",
      "metadata": {
        "id": "SR6HpkWndHSe"
      },
      "source": [
        "### Description of Data:"
      ]
    },
    {
      "cell_type": "code",
      "metadata": {
        "colab": {
          "base_uri": "https://localhost:8080/"
        },
        "id": "sibN1Vv1dHSf",
        "outputId": "5690244c-8c1a-4804-b3ba-1329e5408f11"
      },
      "source": [
        "# Number of examples\n",
        "n_train =  len(X_train)\n",
        "n_test =  len(X_test)\n",
        "\n",
        "# Shape of an traffic sign image\n",
        "image_shape = X_train.shape[1]\n",
        "\n",
        "# unique classes/labels in the training dataset.\n",
        "alltotal = set(y_train)\n",
        "n_classes = len(alltotal)\n",
        "\n",
        "print(\"Number of Training examples =\", n_train)\n",
        "print(\"Number of Test examples =\", n_test)\n",
        "print(\"Image input shape =\", image_shape)\n",
        "print(\"Number of classes =\", n_classes)"
      ],
      "execution_count": 11,
      "outputs": [
        {
          "output_type": "stream",
          "name": "stdout",
          "text": [
            "Number of Training examples = 60000\n",
            "Number of Test examples = 10000\n",
            "Image input shape = 784\n",
            "Number of classes = 10\n"
          ]
        }
      ]
    },
    {
      "cell_type": "markdown",
      "metadata": {
        "id": "6HQDSvrRKZF6"
      },
      "source": [
        "### Class Distribution:"
      ]
    },
    {
      "cell_type": "code",
      "metadata": {
        "id": "XG8GdlpBKdCt",
        "colab": {
          "base_uri": "https://localhost:8080/",
          "height": 295
        },
        "outputId": "fc64e00d-1611-4582-ed6a-91beeb8417ab"
      },
      "source": [
        "fig, ax = plt.subplots()\n",
        "ind = np.arange(n_classes)\n",
        "\n",
        "n, bins, patches = ax.hist(y_train, ec='black', align='mid')\n",
        "ax.set_xlabel('classes')\n",
        "ax.set_ylabel('counts')\n",
        "ax.set_title(r'Histogram of Digit images distribution')\n",
        "plt.show()"
      ],
      "execution_count": 12,
      "outputs": [
        {
          "output_type": "display_data",
          "data": {
            "image/png": "[encoded data removed]",
            "text/plain": [
              "<Figure size 432x288 with 1 Axes>"
            ]
          },
          "metadata": {
            "needs_background": "light"
          }
        }
      ]
    },
    {
      "cell_type": "markdown",
      "metadata": {
        "id": "EyLWw3nsLCtk"
      },
      "source": [
        "## Downsampling"
      ]
    },
    {
      "cell_type": "markdown",
      "metadata": {
        "id": "2U1lFEwhLKBf"
      },
      "source": [
        "### Randomly selecting 3 of the 10 Digit Classes"
      ]
    },
    {
      "cell_type": "code",
      "metadata": {
        "id": "0EeRZZWdLRPT",
        "colab": {
          "base_uri": "https://localhost:8080/"
        },
        "outputId": "0231da59-9b73-4409-c0c9-8259dfd37efc"
      },
      "source": [
        "# We select the number of Classes we want:\n",
        "n_classes = 3\n",
        "\n",
        "# Empty list to append the random digit classes we select:\n",
        "classes = []\n",
        "\n",
        "# We select 3 digits at random and make sure they are unique:\n",
        "while len(classes) < n_classes:\n",
        "    \n",
        "    # Randomly drawing a digit from 0-9:\n",
        "    num2choose = np.random.randint(0,10)\n",
        "\n",
        "    # Append the digit if it's not already in our list of classes:\n",
        "    if num2choose not in classes: \n",
        "        classes.append(num2choose)\n",
        "        \n",
        "        \n",
        "# Sorting the Classes smallest to largest    \n",
        "classes.sort()\n",
        "# print classes selected\n",
        "classes"
      ],
      "execution_count": 13,
      "outputs": [
        {
          "output_type": "execute_result",
          "data": {
            "text/plain": [
              "[1, 2, 6]"
            ]
          },
          "metadata": {},
          "execution_count": 13
        }
      ]
    },
    {
      "cell_type": "markdown",
      "metadata": {
        "id": "F0niqgSvfnAD"
      },
      "source": [
        "**Note**: In this case classes chosen were 1,2&6. Follow by, the selected number of instances is 3000 per digit."
      ]
    },
    {
      "cell_type": "code",
      "metadata": {
        "id": "2M8R5NqKMB_M"
      },
      "source": [
        "# The number of instances we'll keep for each of our 3 digits:\n",
        "inst_class = 3000\n",
        "inputs = []\n",
        "labels = []\n",
        "\n",
        "# Loop to randomly sample the instances for each digit:\n",
        "for r in classes:\n",
        "    imgs = X_train[np.where(y_train==r)[0],:]\n",
        "    inputs.append(imgs[np.random.permutation(imgs.shape[0]),:][0:inst_class,:])\n",
        "    labels.append(np.ones(inst_class)*r)\n",
        "    \n",
        "# Shaping inputs and labels in the right format    \n",
        "X_train = np.vstack(inputs).astype(np.float64)\n",
        "y_train = np.hstack(labels)"
      ],
      "execution_count": 14,
      "outputs": []
    },
    {
      "cell_type": "code",
      "metadata": {
        "colab": {
          "base_uri": "https://localhost:8080/"
        },
        "id": "TrWtWyHKLQsy",
        "outputId": "9f66597c-00cb-406e-9689-da939649363c"
      },
      "source": [
        "print('Train Data:')\n",
        "print (X_train,y_train)\n",
        "print('Train Data Shapes:')\n",
        "print (X_train.shape,y_train.shape)"
      ],
      "execution_count": 15,
      "outputs": [
        {
          "output_type": "stream",
          "name": "stdout",
          "text": [
            "Train Data:\n",
            "[[0. 0. 0. ... 0. 0. 0.]\n",
            " [0. 0. 0. ... 0. 0. 0.]\n",
            " [0. 0. 0. ... 0. 0. 0.]\n",
            " ...\n",
            " [0. 0. 0. ... 0. 0. 0.]\n",
            " [0. 0. 0. ... 0. 0. 0.]\n",
            " [0. 0. 0. ... 0. 0. 0.]] [1. 1. 1. ... 6. 6. 6.]\n",
            "Train Data Shapes:\n",
            "(9000, 784) (9000,)\n"
          ]
        }
      ]
    },
    {
      "cell_type": "markdown",
      "metadata": {
        "id": "6FAgu5IFgp6z"
      },
      "source": [
        "**Note**: As above mentioned 3000 instances per digit, which represents 9000 instances by 784 pixels."
      ]
    },
    {
      "cell_type": "markdown",
      "metadata": {
        "id": "_6-YHrQQMicy"
      },
      "source": [
        "New Classes Distribution"
      ]
    },
    {
      "cell_type": "code",
      "metadata": {
        "id": "RA300COaMxWm",
        "colab": {
          "base_uri": "https://localhost:8080/",
          "height": 295
        },
        "outputId": "6c04e948-c6d7-448c-a1bf-95573efa3276"
      },
      "source": [
        "# new histogram\n",
        "fig, ax = plt.subplots()\n",
        "ind = np.arange(n_classes)\n",
        "\n",
        "n, bins, patches = ax.hist(y_train, ec='black', align='mid')\n",
        "ax.set_xlabel('classes')\n",
        "ax.set_ylabel('counts')\n",
        "title = 'New Classes Distribution', classes\n",
        "plt.title(title)\n",
        "plt.show()"
      ],
      "execution_count": 16,
      "outputs": [
        {
          "output_type": "display_data",
          "data": {
            "image/png": "[encoded data removed]",
            "text/plain": [
              "<Figure size 432x288 with 1 Axes>"
            ]
          },
          "metadata": {
            "needs_background": "light"
          }
        }
      ]
    },
    {
      "cell_type": "code",
      "metadata": {
        "id": "eFgP4xugMvJm"
      },
      "source": [
        "# plot digits\n",
        "def plot_digits(instances, images_per_row=5, **options):\n",
        "    size = 28\n",
        "    images_per_row = min(len(instances), images_per_row)\n",
        "    images = [instance.reshape(size,size) for instance in instances]\n",
        "    n_rows = (len(instances) - 1) // images_per_row + 1\n",
        "    row_images = []\n",
        "    n_empty = n_rows * images_per_row - len(instances)\n",
        "    images.append(np.zeros((size, size * n_empty)))\n",
        "    for row in range(n_rows):\n",
        "        rimages = images[row * images_per_row : (row + 1) * images_per_row]\n",
        "        row_images.append(np.concatenate(rimages, axis=1))\n",
        "    image = np.concatenate(row_images, axis=0)\n",
        "    plt.imshow(image,  cmap='gist_yarg', **options)\n",
        "    plt.axis(\"off\")"
      ],
      "execution_count": 17,
      "outputs": []
    },
    {
      "cell_type": "code",
      "metadata": {
        "id": "zeEG-LGOM4fJ",
        "colab": {
          "base_uri": "https://localhost:8080/",
          "height": 437
        },
        "outputId": "15c4b926-a96b-48fc-e286-9dc58e416b09"
      },
      "source": [
        "# Show a few instances from each Digit:\n",
        "plt.figure(figsize=(20,20))\n",
        "images_per_classes = 9\n",
        "label_indices = []\n",
        "# Selecting a few label indices from each of the 3 classes to show:\n",
        "for i in range(n_classes):\n",
        "  for i in range(images_per_classes):\n",
        "    # take index randomly chosen\n",
        "    label_indices.append(random.randint(0, len(X_train)))\n",
        "    # choose the image according to the index\n",
        "    image = X_train[label_indices[i] - 1]\n",
        "\n",
        "# Sorting the Classes smallest to largest\n",
        "label_indices.sort()\n",
        "\n",
        "# Plotting 'original' image\n",
        "plot_digits(X_train[label_indices,:],images_per_row=9)\n",
        "plt.title(\"Show images from each Digit\", fontsize=14)"
      ],
      "execution_count": 18,
      "outputs": [
        {
          "output_type": "execute_result",
          "data": {
            "text/plain": [
              "Text(0.5, 1.0, 'Show images from each Digit')"
            ]
          },
          "metadata": {},
          "execution_count": 18
        },
        {
          "output_type": "display_data",
          "data": {
            "image/png": "[encoded data removed]",
            "text/plain": [
              "<Figure size 1440x1440 with 1 Axes>"
            ]
          },
          "metadata": {
            "needs_background": "light"
          }
        }
      ]
    },
    {
      "cell_type": "markdown",
      "metadata": {
        "id": "slNBwBf0hUEj"
      },
      "source": [
        "**Note**: Some of the digits look messy, even though the images are distinguisable, as 1,2&6s."
      ]
    },
    {
      "cell_type": "markdown",
      "metadata": {
        "id": "FsAOnOcNNG_V"
      },
      "source": [
        "###  Splitting the Training data into both Training and Validation Sets:\n",
        "\n",
        "- Although this is the Training set, we can still set aside some samples (for instance 20%) of the 1,500 instances we have for Model Validation purposes.\n",
        "\n",
        "\n",
        "- With that Validation Set, we can then select the amount of Uncertainty we are happy with from our Model to use out of sample on other unseen data.\n",
        "\n",
        "\n",
        "- We can then test out how well our decision performs on the Test Set that we put aside earlier."
      ]
    },
    {
      "cell_type": "code",
      "metadata": {
        "id": "YdsmyVAtPXNn"
      },
      "source": [
        "### Split tha dataset in training and validation sets\n",
        "# choose the fraction of your validation data from the training set\n",
        "w = 0.20\n",
        "X_train, X_val, y_train, y_val = train_test_split(X_train, y_train, test_size=w, random_state=0)\n",
        " \n",
        "# Shuffling the training instaces around to randomize the order of inputs to the model:\n",
        "X_train, y_train = shuffle(X_train, y_train)"
      ],
      "execution_count": 19,
      "outputs": []
    },
    {
      "cell_type": "code",
      "metadata": {
        "id": "qXwJwP0iPxhi",
        "colab": {
          "base_uri": "https://localhost:8080/"
        },
        "outputId": "7f54738a-8ac1-40c0-d434-5178bb788994"
      },
      "source": [
        "# print shape of your validation and training set\n",
        "print('Training Set Shape:')\n",
        "print('X:', X_train.shape)\n",
        "print('y:', y_train.shape)\n",
        "print('Validation Set Shape:')\n",
        "print('X: ', X_val.shape)\n",
        "print('y: ', y_val.shape)"
      ],
      "execution_count": 20,
      "outputs": [
        {
          "output_type": "stream",
          "name": "stdout",
          "text": [
            "Training Set Shape:\n",
            "X: (7200, 784)\n",
            "y: (7200,)\n",
            "Validation Set Shape:\n",
            "X:  (1800, 784)\n",
            "y:  (1800,)\n"
          ]
        }
      ]
    },
    {
      "cell_type": "markdown",
      "metadata": {
        "id": "aOroY1QoP8DY"
      },
      "source": [
        "### Encoding the Class labels for the Probabilistic ML Model:\n",
        "\n",
        "This is an example:\n",
        "\n",
        "- **[1,0,0]** for first digit\n",
        "- **[0,1,0]** for second digit\n",
        "- **[0,0,1]** for third digit"
      ]
    },
    {
      "cell_type": "markdown",
      "metadata": {
        "id": "rjUaqWTqQIcp"
      },
      "source": [
        "### General-Recipe ML - Logistic Regression Model"
      ]
    },
    {
      "cell_type": "code",
      "metadata": {
        "id": "QzgdivxfQNv5",
        "colab": {
          "base_uri": "https://localhost:8080/"
        },
        "outputId": "5feb1bcd-4cfc-4943-cf26-3e4f2d636d43"
      },
      "source": [
        "# model\n",
        "model_log = LogisticRegression(random_state=0, max_iter=2000, C=100, solver='lbfgs', multi_class='multinomial')\n",
        "model_log.fit(X_train, y_train)\n",
        "\n",
        "# Classification:\n",
        "y_pred_log = model_log.predict(X_val)\n",
        "y_pred_logi_prob = model_log.predict_proba(X_val)\n",
        "\n",
        "# Maybe taking the maximum probability \n",
        "# in any of the classes for each observation\n",
        "prob_classmax = np.max(y_pred_logi_prob,axis=1)\n",
        "\n",
        "# Computing the Accuracy:\n",
        "print('Accuracy Score: ', accuracy_score(y_pred_log, y_val))"
      ],
      "execution_count": 21,
      "outputs": [
        {
          "output_type": "stream",
          "name": "stdout",
          "text": [
            "Accuracy Score:  0.9711111111111111\n"
          ]
        }
      ]
    },
    {
      "cell_type": "code",
      "metadata": {
        "colab": {
          "base_uri": "https://localhost:8080/"
        },
        "id": "kGo_w5bKk9GR",
        "outputId": "3ab59fc5-0ee8-41f5-eca9-4204241d83ad"
      },
      "source": [
        "# General-recipe probabilistic calculation of wrong instances\n",
        "prob_classmax[y_pred_log!=y_val]\n",
        "prob_classmax[y_pred_log!=y_val].shape"
      ],
      "execution_count": 22,
      "outputs": [
        {
          "output_type": "execute_result",
          "data": {
            "text/plain": [
              "(52,)"
            ]
          },
          "metadata": {},
          "execution_count": 22
        }
      ]
    },
    {
      "cell_type": "markdown",
      "metadata": {
        "id": "DlGkKuhDkaDP"
      },
      "source": [
        "**Note**: For the digit classess 1,2 & 6, accuracy score is 0.971 which is a very good outcome to detect digits, where 52 instaces were incorrected classified within the classes selected."
      ]
    },
    {
      "cell_type": "markdown",
      "metadata": {
        "id": "TbVzgBTfUoVr"
      },
      "source": [
        "Confusion Matrix "
      ]
    },
    {
      "cell_type": "code",
      "metadata": {
        "colab": {
          "base_uri": "https://localhost:8080/",
          "height": 640
        },
        "id": "nZP4mPRtUmUq",
        "outputId": "2dda6d5c-73ab-4819-9be2-da4e005f6929"
      },
      "source": [
        "# Confusion Matrix \n",
        "plt.figure(figsize=(10,10))\n",
        "plt.title('Confusion Matrix', fontsize=14)\n",
        "cm = metrics.confusion_matrix(y_val, y_pred_log)\n",
        "sns.heatmap(cm, annot=True, fmt=\".3f\", linewidths=.6, cmap = 'viridis')\n",
        "plt.ylabel('Actual Label')\n",
        "plt.xlabel('Predicted Label')"
      ],
      "execution_count": 23,
      "outputs": [
        {
          "output_type": "execute_result",
          "data": {
            "text/plain": [
              "Text(0.5, 69.0, 'Predicted Label')"
            ]
          },
          "metadata": {},
          "execution_count": 23
        },
        {
          "output_type": "display_data",
          "data": {
            "image/png": "[encoded data removed]",
            "text/plain": [
              "<Figure size 720x720 with 2 Axes>"
            ]
          },
          "metadata": {
            "needs_background": "light"
          }
        }
      ]
    },
    {
      "cell_type": "markdown",
      "metadata": {
        "id": "3uQG6JsOQxH5"
      },
      "source": [
        "### Probabilistic Multinomial Logistic Regression:"
      ]
    },
    {
      "cell_type": "markdown",
      "metadata": {
        "id": "irlmUNw7Q5YL"
      },
      "source": [
        "The Multinomial Logistic Regression has some parameters:\n",
        "\n",
        "- $\\alpha$, which is the intercept term:\n",
        "\n",
        "- $\\beta$, which is a vector of coefficients which give a weighting to the importance of each input feature:\n"
      ]
    },
    {
      "cell_type": "code",
      "metadata": {
        "id": "1o7mbKWmRhz5"
      },
      "source": [
        "## We use LabelBinarizer to transfor classes into counts\n",
        "# neg_label=0, pos_label=1 \n",
        "y_2_bin = sklearn.preprocessing.LabelBinarizer().fit_transform(y_train.reshape(-1,1))\n",
        "nf = X_train.shape[1]\n",
        "\n",
        "# number of classes\n",
        "nc = len(classes)\n",
        "# floatX = float32\n",
        "floatX = tt.config.floatX\n",
        "\n",
        "init_b = np.random.randn(nf, nc-1).astype(floatX)\n",
        "init_a = np.random.randn(nc-1).astype(floatX)\n",
        "\n",
        "\n",
        "with pm.Model() as multi_logistic:\n",
        "    # Prior\n",
        "    β = pm.Normal('beta', 0, sigma=100, shape=(nf, nc-1), testval=init_b)\n",
        "    α = pm.Normal('alpha', 0, sigma=100, shape=(nc-1,), testval=init_a)\n",
        "    \n",
        "    # we need to consider nc-1 features because the model is not identifiable\n",
        "    # the softmax turns a vector into a probability that sums up to one\n",
        "    # therefore we add zeros to go back to dimension nc\n",
        "    # so that softmax returns a vector of dimension nc\n",
        "    β1  = tt.tensor.concatenate([np.zeros((nf,1)),β ],axis=1)\n",
        "    α1  = tt.tensor.concatenate([[0],α ],)\n",
        "    \n",
        "    # Likelihood\n",
        "    mu = pm.math.matrix_dot(X_train,β1) + α1\n",
        "    # It doesn't work if the problem is binary\n",
        "    p = tt.tensor.nnet.nnet.softmax(mu)\n",
        "    observed = pm.Multinomial('likelihood', p=p, n=1, observed=y_2_bin)"
      ],
      "execution_count": 24,
      "outputs": []
    },
    {
      "cell_type": "code",
      "metadata": {
        "id": "aj6Uzc05Rhtr",
        "colab": {
          "base_uri": "https://localhost:8080/",
          "height": 90
        },
        "outputId": "4b05dbaa-f50e-47cd-f84b-c2dc0687cf11"
      },
      "source": [
        "# Model training\n",
        "with multi_logistic:\n",
        "    approx = pm.fit(3000, method='advi')"
      ],
      "execution_count": 25,
      "outputs": [
        {
          "output_type": "stream",
          "name": "stderr",
          "text": [
            "WARNING (theano.tensor.blas): We did not find a dynamic library in the library_dir of the library we use for blas. If you use ATLAS, make sure to compile it with dynamics library.\n"
          ]
        },
        {
          "output_type": "display_data",
          "data": {
            "text/html": [
              "\n",
              "    <div>\n",
              "        <style>\n",
              "            /* Turns off some styling */\n",
              "            progress {\n",
              "                /* gets rid of default border in Firefox and Opera. */\n",
              "                border: none;\n",
              "                /* Needs to be in here for Safari polyfill so background images work as expected. */\n",
              "                background-size: auto;\n",
              "            }\n",
              "            .progress-bar-interrupted, .progress-bar-interrupted::-webkit-progress-bar {\n",
              "                background: #F44336;\n",
              "            }\n",
              "        </style>\n",
              "      <progress value='3000' class='' max='3000' style='width:300px; height:20px; vertical-align: middle;'></progress>\n",
              "      100.00% [3000/3000 01:36<00:00 Average Loss = 14,528]\n",
              "    </div>\n",
              "    "
            ],
            "text/plain": [
              "<IPython.core.display.HTML object>"
            ]
          },
          "metadata": {}
        },
        {
          "output_type": "stream",
          "name": "stderr",
          "text": [
            "Finished [100%]: Average Loss = 14,469\n"
          ]
        }
      ]
    },
    {
      "cell_type": "code",
      "metadata": {
        "id": "2MFH4gwlRhrB",
        "colab": {
          "base_uri": "https://localhost:8080/",
          "height": 482
        },
        "outputId": "bd438816-5c2d-45c0-f2d1-e71b304d671b"
      },
      "source": [
        "plt.figure(figsize=(30,10))\n",
        "plt.ylabel('Loss')\n",
        "plt.xlabel('Iterations')\n",
        "plt.title('Multinomial Logistic Regression')\n",
        "plt.plot(approx.hist)\n",
        "plt.show();"
      ],
      "execution_count": 26,
      "outputs": [
        {
          "output_type": "display_data",
          "data": {
            "image/png": "[encoded data removed]",
            "text/plain": [
              "<Figure size 2160x720 with 1 Axes>"
            ]
          },
          "metadata": {
            "needs_background": "light"
          }
        }
      ]
    },
    {
      "cell_type": "markdown",
      "metadata": {
        "id": "pYabOk8fnD_t"
      },
      "source": [
        "**Note**: The Histogram above displays the loss per iteration of the Multi Logistic Regression Model using PyMC3 automatic differentiation variational inference(ADVI) method. In this case, the average loss per iteration is 17.824 at 3000 iteration."
      ]
    },
    {
      "cell_type": "code",
      "metadata": {
        "id": "WNmJvYc4Rho7"
      },
      "source": [
        "dd = 300\n",
        "posterior = approx.sample(draws=dd)"
      ],
      "execution_count": 27,
      "outputs": []
    },
    {
      "cell_type": "code",
      "metadata": {
        "id": "XXh5GXJsRhmr",
        "colab": {
          "base_uri": "https://localhost:8080/",
          "height": 243
        },
        "outputId": "a095ad75-22b7-434a-e9fc-09a8d27a2f56"
      },
      "source": [
        "## The softmax function transforms each element of a collection by computing the exponential\n",
        "#  of each element divided by the sum of the exponentials of all the elements.\n",
        "from scipy.special import softmax\n",
        "\n",
        "#select an image in the test set\n",
        "#i = 10 \n",
        "i = random.randint(0, dd)\n",
        "\n",
        "#select a sample in the posterior\n",
        "#s = 100 \n",
        "s = random.randint(0, dd)\n",
        "\n",
        "beta  = np.hstack([np.zeros((nf,1)),  posterior['beta'][s,:] ])\n",
        "alpha = np.hstack([[0],  posterior['alpha'][s,:] ])\n",
        "image = X_val[i,:].reshape(28,28)\n",
        "plt.figure(figsize=(2,2))\n",
        "plt.imshow(image,cmap=\"Greys_r\")\n",
        "np.set_printoptions(suppress=True)\n",
        "\n",
        "print(\"test image #\" + str(i))\n",
        "print(\"posterior sample #\" + str(s))\n",
        "print(\"true class=\", y_val[i])\n",
        "print(\"classes: \" + str(classes))\n",
        "print(\"estimated prob=\",softmax((np.array([X_val[i,:].dot(beta) + alpha])))[0,:])"
      ],
      "execution_count": 28,
      "outputs": [
        {
          "output_type": "stream",
          "name": "stdout",
          "text": [
            "test image #55\n",
            "posterior sample #206\n",
            "true class= 2.0\n",
            "classes: [1, 2, 6]\n",
            "estimated prob= [0.00000257 0.99999736 0.00000007]\n"
          ]
        },
        {
          "output_type": "display_data",
          "data": {
            "image/png": "[encoded data removed]",
            "text/plain": [
              "<Figure size 144x144 with 1 Axes>"
            ]
          },
          "metadata": {
            "needs_background": "light"
          }
        }
      ]
    },
    {
      "cell_type": "markdown",
      "metadata": {
        "id": "XkgCgmVjnyKw"
      },
      "source": [
        "**Note**: This test image show us a very clear 2"
      ]
    },
    {
      "cell_type": "code",
      "metadata": {
        "id": "UvX3Pe8hai7L"
      },
      "source": [
        "# Bayesian prediction\n",
        "# return the class that has the highest posterior probability\n",
        "y_pred_Bayesian=[]\n",
        "\n",
        "for i in range(X_val.shape[0]):\n",
        "    val=np.zeros((1,len(classes)))\n",
        "    \n",
        "    for s in range(posterior['beta'].shape[0]):\n",
        "        beta = np.hstack([np.zeros((nf,1)),  posterior['beta'][s,:] ])\n",
        "        alpha = np.hstack([[0],  posterior['alpha'][s,:] ])     \n",
        "        val = val + softmax((np.array([X_val[i,:].dot(beta) + alpha])))\n",
        "    \n",
        "    mean_probability = val/posterior['beta'].shape[0]\n",
        "    y_pred_Bayesian.append( np.argmax(mean_probability))"
      ],
      "execution_count": 29,
      "outputs": []
    },
    {
      "cell_type": "code",
      "metadata": {
        "id": "z0bV1YzZajjP",
        "colab": {
          "base_uri": "https://localhost:8080/"
        },
        "outputId": "af655519-6c25-4b4a-e99c-6f410717f804"
      },
      "source": [
        "print(y_pred_Bayesian)"
      ],
      "execution_count": 30,
      "outputs": [
        {
          "output_type": "stream",
          "name": "stdout",
          "text": [
            "[1, 0, 2, 2, 0, 1, 1, 2, 0, 0, 0, 0, 2, 2, 1, 2, 1, 0, 2, 1, 1, 2, 0, 2, 1, 1, 1, 1, 2, 1, 0, 2, 1, 0, 2, 2, 2, 2, 0, 1, 0, 0, 2, 0, 1, 0, 1, 1, 1, 2, 1, 1, 0, 0, 1, 1, 1, 1, 2, 0, 2, 2, 2, 0, 0, 2, 0, 0, 0, 0, 1, 1, 2, 0, 1, 2, 1, 2, 0, 2, 0, 1, 1, 0, 2, 0, 2, 1, 1, 0, 0, 0, 2, 2, 1, 2, 2, 2, 0, 2, 2, 2, 1, 1, 2, 0, 0, 2, 0, 0, 0, 1, 2, 2, 2, 0, 1, 2, 1, 2, 1, 2, 1, 1, 1, 1, 0, 0, 2, 0, 1, 1, 2, 1, 2, 1, 1, 0, 2, 0, 1, 0, 0, 0, 0, 1, 0, 2, 2, 0, 1, 2, 1, 0, 1, 1, 0, 0, 2, 1, 1, 1, 0, 1, 0, 1, 1, 1, 2, 0, 0, 2, 2, 0, 2, 0, 2, 2, 2, 1, 0, 1, 0, 1, 2, 2, 0, 2, 2, 0, 2, 1, 1, 1, 1, 1, 1, 2, 0, 0, 0, 2, 0, 2, 1, 1, 2, 1, 0, 1, 2, 0, 0, 0, 2, 1, 0, 0, 0, 1, 1, 0, 1, 0, 2, 2, 1, 0, 2, 1, 0, 2, 1, 1, 0, 2, 1, 2, 2, 2, 0, 2, 0, 2, 2, 1, 0, 1, 0, 1, 1, 1, 2, 2, 1, 2, 1, 1, 1, 2, 1, 1, 1, 2, 2, 1, 2, 2, 0, 1, 2, 0, 1, 1, 2, 0, 2, 1, 2, 1, 2, 2, 1, 2, 1, 0, 0, 2, 1, 0, 1, 0, 1, 2, 2, 1, 2, 2, 0, 2, 2, 1, 1, 0, 1, 0, 1, 1, 2, 2, 0, 0, 1, 2, 2, 0, 1, 0, 1, 2, 2, 2, 2, 2, 1, 1, 0, 2, 0, 1, 2, 0, 2, 1, 0, 0, 1, 1, 2, 0, 1, 2, 0, 2, 1, 0, 1, 2, 1, 2, 1, 0, 0, 1, 0, 0, 0, 2, 1, 1, 0, 2, 1, 1, 2, 1, 0, 1, 0, 1, 2, 0, 0, 1, 2, 1, 1, 2, 2, 0, 2, 2, 2, 0, 1, 2, 0, 0, 1, 0, 1, 1, 2, 0, 0, 0, 0, 0, 1, 0, 1, 1, 0, 0, 2, 1, 0, 0, 2, 1, 1, 2, 0, 1, 2, 2, 1, 0, 1, 2, 0, 2, 1, 2, 1, 2, 0, 2, 2, 0, 2, 2, 0, 0, 0, 0, 2, 1, 1, 1, 0, 0, 2, 1, 1, 0, 2, 2, 0, 1, 2, 2, 0, 2, 2, 0, 0, 2, 1, 0, 2, 1, 0, 1, 1, 1, 1, 2, 0, 0, 0, 2, 2, 2, 1, 2, 1, 1, 0, 2, 0, 2, 1, 0, 1, 1, 1, 0, 2, 0, 0, 2, 1, 2, 1, 2, 2, 2, 2, 2, 0, 2, 0, 2, 1, 1, 0, 2, 2, 0, 0, 1, 1, 2, 0, 1, 0, 2, 2, 2, 1, 0, 1, 1, 0, 1, 0, 1, 0, 2, 1, 1, 2, 2, 2, 1, 0, 1, 2, 0, 0, 2, 2, 0, 1, 2, 0, 1, 0, 2, 2, 0, 1, 0, 2, 2, 2, 0, 0, 1, 2, 1, 1, 2, 0, 1, 2, 1, 1, 1, 2, 2, 2, 1, 1, 0, 1, 0, 0, 0, 2, 1, 1, 2, 1, 2, 1, 0, 0, 1, 0, 2, 2, 0, 2, 1, 1, 1, 0, 2, 2, 0, 2, 0, 0, 1, 2, 2, 1, 1, 1, 0, 1, 0, 1, 2, 2, 1, 1, 0, 0, 0, 1, 1, 1, 1, 0, 1, 1, 1, 2, 0, 1, 2, 2, 0, 0, 2, 1, 1, 1, 0, 2, 0, 2, 0, 1, 1, 2, 2, 2, 0, 0, 2, 2, 0, 1, 2, 0, 2, 2, 2, 0, 0, 0, 2, 1, 2, 2, 2, 2, 1, 2, 1, 2, 2, 1, 1, 1, 2, 2, 1, 0, 1, 2, 0, 2, 2, 1, 0, 2, 0, 1, 0, 2, 2, 0, 1, 0, 2, 1, 1, 0, 2, 2, 1, 2, 0, 1, 2, 0, 0, 2, 2, 0, 0, 1, 2, 0, 2, 1, 0, 0, 2, 0, 0, 0, 0, 2, 1, 1, 2, 2, 1, 0, 2, 2, 2, 0, 1, 2, 2, 2, 2, 2, 1, 0, 2, 2, 1, 0, 0, 2, 2, 1, 1, 2, 0, 2, 0, 0, 1, 2, 0, 2, 1, 0, 1, 0, 2, 0, 1, 0, 0, 2, 1, 1, 1, 1, 1, 0, 0, 1, 2, 1, 0, 2, 2, 0, 0, 2, 1, 0, 1, 1, 2, 2, 2, 1, 1, 2, 0, 0, 1, 1, 0, 2, 0, 0, 1, 2, 1, 2, 1, 0, 1, 2, 2, 2, 1, 2, 1, 0, 2, 1, 2, 1, 0, 0, 0, 0, 1, 1, 2, 1, 0, 1, 1, 0, 0, 2, 0, 1, 2, 2, 1, 2, 1, 0, 0, 2, 2, 2, 0, 2, 2, 0, 2, 2, 1, 1, 2, 1, 0, 2, 0, 1, 2, 2, 2, 2, 0, 1, 2, 1, 2, 0, 1, 1, 0, 0, 2, 2, 1, 2, 0, 1, 1, 0, 2, 1, 1, 1, 0, 2, 1, 1, 2, 1, 2, 1, 1, 0, 0, 0, 2, 1, 2, 0, 1, 1, 1, 2, 1, 1, 2, 2, 2, 1, 1, 0, 1, 2, 1, 1, 0, 1, 2, 2, 0, 1, 0, 2, 1, 1, 1, 0, 0, 1, 0, 1, 2, 2, 2, 0, 0, 1, 2, 2, 2, 2, 2, 0, 2, 1, 2, 2, 0, 0, 0, 0, 2, 1, 0, 2, 0, 1, 0, 0, 1, 0, 2, 2, 1, 0, 2, 1, 0, 0, 2, 0, 0, 2, 0, 0, 1, 0, 1, 2, 1, 0, 2, 1, 2, 0, 1, 0, 0, 2, 2, 2, 2, 1, 2, 0, 1, 2, 1, 2, 1, 1, 1, 0, 1, 1, 2, 1, 0, 2, 2, 2, 1, 1, 1, 2, 1, 0, 1, 1, 2, 2, 0, 2, 0, 1, 0, 2, 1, 2, 1, 2, 0, 2, 2, 0, 2, 1, 0, 2, 0, 0, 1, 2, 0, 2, 2, 1, 1, 0, 0, 0, 2, 1, 2, 2, 0, 1, 1, 1, 2, 2, 0, 1, 0, 1, 1, 1, 2, 1, 2, 1, 2, 0, 2, 1, 0, 1, 2, 2, 1, 2, 0, 1, 0, 0, 2, 1, 1, 0, 1, 2, 1, 1, 2, 1, 2, 2, 0, 0, 2, 1, 1, 2, 1, 1, 0, 0, 0, 1, 0, 2, 0, 1, 2, 1, 0, 2, 0, 2, 0, 2, 1, 0, 0, 1, 2, 0, 2, 1, 0, 2, 1, 1, 2, 0, 2, 1, 1, 1, 0, 0, 2, 1, 2, 1, 0, 1, 1, 2, 1, 0, 1, 2, 0, 1, 2, 0, 1, 2, 2, 0, 0, 2, 0, 2, 1, 0, 1, 2, 0, 2, 1, 0, 0, 2, 0, 1, 1, 2, 2, 2, 0, 1, 0, 1, 2, 2, 0, 1, 2, 0, 0, 0, 1, 2, 0, 0, 1, 1, 1, 1, 1, 2, 0, 1, 0, 0, 0, 2, 2, 2, 0, 1, 2, 1, 2, 0, 0, 1, 0, 2, 2, 0, 0, 1, 0, 1, 2, 0, 0, 2, 0, 2, 1, 1, 1, 0, 0, 0, 2, 1, 1, 2, 0, 1, 0, 2, 2, 1, 2, 1, 2, 0, 1, 1, 0, 2, 1, 2, 0, 2, 0, 2, 1, 2, 2, 0, 0, 1, 0, 2, 1, 1, 2, 0, 0, 1, 2, 2, 0, 2, 0, 0, 2, 0, 1, 0, 0, 2, 2, 2, 0, 1, 0, 2, 1, 0, 0, 0, 1, 1, 1, 2, 0, 2, 0, 2, 2, 1, 1, 2, 2, 0, 2, 1, 1, 0, 2, 1, 1, 0, 0, 2, 2, 2, 1, 0, 2, 1, 0, 2, 2, 0, 0, 1, 2, 1, 1, 2, 0, 2, 0, 2, 2, 1, 0, 1, 0, 0, 1, 1, 0, 1, 2, 0, 0, 2, 1, 1, 0, 0, 2, 2, 0, 0, 1, 2, 2, 1, 2, 0, 0, 2, 2, 1, 2, 0, 0, 0, 1, 1, 1, 2, 2, 2, 0, 1, 1, 1, 0, 0, 1, 0, 1, 1, 0, 1, 0, 2, 0, 1, 1, 0, 1, 1, 2, 1, 0, 1, 0, 0, 0, 2, 0, 2, 0, 0, 0, 2, 1, 2, 1, 0, 1, 2, 2, 1, 2, 2, 1, 2, 1, 0, 2, 1, 1, 2, 2, 1, 2, 1, 1, 2, 2, 0, 0, 0, 2, 2, 1, 1, 1, 2, 0, 2, 1, 2, 0, 2, 1, 1, 0, 2, 2, 1, 0, 1, 0, 2, 1, 0, 1, 0, 1, 2, 0, 1, 2, 0, 1, 0, 1, 0, 0, 1, 2, 2, 2, 1, 0, 2, 2, 0, 0, 0, 2, 0, 0, 0, 2, 0, 0, 2, 2, 1, 2, 0, 2, 2, 0, 1, 2, 1, 0, 1, 0, 0, 1, 1, 1, 1, 2, 0, 1, 1, 0, 2, 1, 1, 0, 1, 1, 2, 1, 2, 0, 2, 1, 0, 2, 1, 0, 1, 0, 0, 2, 1, 0, 0, 2, 1, 0, 1, 0, 0, 1, 1, 2, 0, 0, 0, 1, 2, 1, 2, 1, 0, 2, 0, 0, 1, 2, 2, 0, 2, 2, 0, 0, 0, 0, 0, 0, 2, 1, 1, 2, 2, 2, 2, 2, 2, 1, 1, 0, 1, 2, 1, 2, 0, 0, 1, 2, 2, 2, 0, 1, 0, 2, 0, 1, 2, 1, 1, 0, 2, 2, 2, 0, 1, 0, 0, 2, 1, 0, 2, 1, 1, 1, 2, 1, 2, 1, 0, 1, 1, 0, 2, 2, 2, 2, 0, 0, 0, 1, 1, 1, 0, 2, 2, 2, 0, 0, 0, 1, 2, 0, 0, 2, 2, 2, 2, 0, 0, 2, 2, 0, 2, 2, 1, 2, 1, 0, 0, 1, 2, 1, 1, 2, 1, 1, 1, 2, 0, 1, 0, 1, 1, 2, 0, 1, 0, 0, 0, 0, 1, 0, 2, 1, 2, 2, 0, 1, 2, 2, 2, 2, 1, 0, 0, 2, 2, 2, 1, 0, 0, 1, 1, 2, 0, 0, 0, 0, 0, 2, 2, 0, 2, 2, 0, 0, 1, 2, 0, 0, 0, 0, 0, 0, 2, 2, 1, 2, 0, 2, 1, 0, 0, 2, 2, 1, 0, 1, 2, 0, 2, 2, 2, 1, 0, 1, 0, 1, 1, 2, 2, 0, 1, 0, 2, 0, 0, 0, 0, 2, 0, 1, 2, 0, 0, 2, 0, 2, 0, 0, 1, 2, 0, 2, 2, 1]\n"
          ]
        }
      ]
    },
    {
      "cell_type": "code",
      "metadata": {
        "colab": {
          "base_uri": "https://localhost:8080/"
        },
        "id": "dhqdAdJnRs0S",
        "outputId": "3c5b11cb-3d71-48ae-dcc6-2c3c377564ec"
      },
      "source": [
        "# recall the classes we are using\n",
        "print(classes)"
      ],
      "execution_count": 31,
      "outputs": [
        {
          "output_type": "stream",
          "name": "stdout",
          "text": [
            "[1, 2, 6]\n"
          ]
        }
      ]
    },
    {
      "cell_type": "code",
      "metadata": {
        "colab": {
          "base_uri": "https://localhost:8080/"
        },
        "id": "6Lrnvs9wSf7h",
        "outputId": "875af2d8-c70b-4f72-e2be-257f024ef5f3"
      },
      "source": [
        "print(Counter(y_pred_Bayesian))"
      ],
      "execution_count": 32,
      "outputs": [
        {
          "output_type": "stream",
          "name": "stdout",
          "text": [
            "Counter({2: 620, 1: 592, 0: 588})\n"
          ]
        }
      ]
    },
    {
      "cell_type": "markdown",
      "metadata": {
        "id": "xgNqUdy0oJxA"
      },
      "source": [
        "**Note**: In this count 1:0, 2:1 and 6:2, which the digit with the most identifiable classes is 6, followed by 2 and 1\n",
        "."
      ]
    },
    {
      "cell_type": "code",
      "metadata": {
        "colab": {
          "base_uri": "https://localhost:8080/"
        },
        "id": "mi5XCAqWR4GE",
        "outputId": "c701d71b-ab0b-4264-85d1-9fb996dde217"
      },
      "source": [
        "# prediction array (using classes)\n",
        "nn = 10 # just an example\n",
        "np.array(classes)[y_pred_Bayesian[0:nn]]"
      ],
      "execution_count": 33,
      "outputs": [
        {
          "output_type": "execute_result",
          "data": {
            "text/plain": [
              "array([2, 1, 6, 6, 1, 2, 2, 6, 1, 1])"
            ]
          },
          "metadata": {},
          "execution_count": 33
        }
      ]
    },
    {
      "cell_type": "code",
      "metadata": {
        "id": "2_Zbvv1har3r",
        "colab": {
          "base_uri": "https://localhost:8080/"
        },
        "outputId": "53369de9-ce4e-4d79-a528-c7edafec103a"
      },
      "source": [
        "# using validation: y_val\n",
        "print(\"Accuracy=\", accuracy_score(np.array(classes)[y_pred_Bayesian], y_val))"
      ],
      "execution_count": 34,
      "outputs": [
        {
          "output_type": "stream",
          "name": "stdout",
          "text": [
            "Accuracy= 0.9122222222222223\n"
          ]
        }
      ]
    },
    {
      "cell_type": "markdown",
      "metadata": {
        "id": "JCwMEixbSAxF"
      },
      "source": [
        "## Instances Selection"
      ]
    },
    {
      "cell_type": "code",
      "metadata": {
        "id": "vcrfOr0FICz3"
      },
      "source": [
        "y_predB=[]\n",
        "\n",
        "for i in range(X_val.shape[0]):\n",
        "    #print(i)\n",
        "    val=[]\n",
        "\n",
        "    for s in range(posterior['beta'].shape[0]):\n",
        "        beta = np.hstack([np.zeros((nf,1)),  posterior['beta'][s,:] ])\n",
        "        alpha = np.hstack([[0],  posterior['alpha'][s,:] ])\n",
        "        val.append(softmax((np.array([X_val[i,:].dot(beta) + alpha])))[0,:])\n",
        "\n",
        "    #mean probability\n",
        "    valmean = np.mean(val,axis=0)\n",
        "    #class with maximum mean probability\n",
        "    classmax = np.argmax(valmean)\n",
        "    #ranks\n",
        "    ranks = np.array(val.copy())\n",
        "    ranks   = ranks  *0 #init\n",
        "    colmax = np.argmax(np.array(val),axis=1)\n",
        "    ranks[np.arange(0,len(colmax)),colmax]=1\n",
        "     \n",
        "    y_predB.append( [classmax, valmean[classmax], np.std(ranks,axis=0)[classmax]])\n",
        "\n",
        "    \n",
        "y_predB= np.array(y_predB)"
      ],
      "execution_count": 35,
      "outputs": []
    },
    {
      "cell_type": "code",
      "metadata": {
        "colab": {
          "base_uri": "https://localhost:8080/"
        },
        "id": "rZ7OBz7DIERq",
        "outputId": "9f1a5012-f572-4f30-9a6a-7e980d967d3f"
      },
      "source": [
        "# prediction array\n",
        "mm = 10\n",
        "y_predB[0:mm,:]"
      ],
      "execution_count": 36,
      "outputs": [
        {
          "output_type": "execute_result",
          "data": {
            "text/plain": [
              "array([[1.        , 0.75854485, 0.42295258],\n",
              "       [0.        , 0.95553781, 0.17058722],\n",
              "       [2.        , 0.9945396 , 0.05763872],\n",
              "       [2.        , 0.93979078, 0.21794495],\n",
              "       [0.        , 0.95200188, 0.18794207],\n",
              "       [1.        , 0.91079095, 0.2712932 ],\n",
              "       [1.        , 0.80280164, 0.3756328 ],\n",
              "       [2.        , 0.68254867, 0.45969797],\n",
              "       [0.        , 0.98254979, 0.11469767],\n",
              "       [0.        , 0.94826861, 0.19595918]])"
            ]
          },
          "metadata": {},
          "execution_count": 36
        }
      ]
    },
    {
      "cell_type": "code",
      "metadata": {
        "colab": {
          "base_uri": "https://localhost:8080/"
        },
        "id": "8yUcNBUrIEKp",
        "outputId": "5fab094b-11b3-42c3-ba69-a3fee0ebf830"
      },
      "source": [
        "#sorting in descending order\n",
        "difficult = np.argsort(-y_predB[:,2])\n",
        "y_predB[difficult[0:mm],:]"
      ],
      "execution_count": 37,
      "outputs": [
        {
          "output_type": "execute_result",
          "data": {
            "text/plain": [
              "array([[0.        , 0.50499849, 0.49998889],\n",
              "       [0.        , 0.5135884 , 0.49998889],\n",
              "       [1.        , 0.48911   , 0.49998889],\n",
              "       [1.        , 0.49328183, 0.49998889],\n",
              "       [0.        , 0.49835204, 0.49998889],\n",
              "       [0.        , 0.48125149, 0.49998889],\n",
              "       [2.        , 0.48250783, 0.49998889],\n",
              "       [0.        , 0.49436477, 0.49995555],\n",
              "       [1.        , 0.50417855, 0.49995555],\n",
              "       [1.        , 0.51424407, 0.49995555]])"
            ]
          },
          "metadata": {},
          "execution_count": 37
        }
      ]
    },
    {
      "cell_type": "code",
      "metadata": {
        "colab": {
          "base_uri": "https://localhost:8080/"
        },
        "id": "lE4O3hcgIEDd",
        "outputId": "6c22b853-500c-45ae-9dde-480ff530d788"
      },
      "source": [
        "#probability of general-recipe logistic regression in wrong instances\n",
        "prob_classmax[y_pred_log != y_val]"
      ],
      "execution_count": 38,
      "outputs": [
        {
          "output_type": "execute_result",
          "data": {
            "text/plain": [
              "array([0.95834191, 0.99998941, 0.84957018, 0.9997109 , 0.97599471,\n",
              "       0.99902945, 0.75786212, 0.99948128, 0.99930423, 0.99999894,\n",
              "       0.75342683, 0.93939752, 0.9999032 , 0.94026505, 0.88553988,\n",
              "       0.99994268, 0.99973753, 0.91329753, 0.81021715, 0.99895481,\n",
              "       0.97553104, 0.6824145 , 0.99999998, 0.97285615, 0.99212724,\n",
              "       0.99972066, 0.87007041, 0.52617579, 0.76994279, 0.98759914,\n",
              "       0.99189863, 0.99934178, 0.99915756, 0.7163671 , 0.99892803,\n",
              "       0.96019287, 0.77275835, 0.75202973, 0.90643978, 0.99768857,\n",
              "       0.69624424, 0.99999999, 0.65804542, 1.        , 0.99999125,\n",
              "       0.86135493, 0.99594204, 0.65833467, 0.96901127, 0.99882292,\n",
              "       0.99999984, 0.99925096])"
            ]
          },
          "metadata": {},
          "execution_count": 38
        }
      ]
    },
    {
      "cell_type": "code",
      "metadata": {
        "colab": {
          "base_uri": "https://localhost:8080/"
        },
        "id": "RAVpFcmGID8k",
        "outputId": "64f23463-cbe3-46ac-fe08-b831954c1516"
      },
      "source": [
        "y_predB[y_pred_log != y_val,:]\n",
        "print('Instaces incorrected classified within the classes selected.',len(y_predB[y_pred_log != y_val,:]))"
      ],
      "execution_count": 39,
      "outputs": [
        {
          "output_type": "stream",
          "name": "stdout",
          "text": [
            "Instaces incorrected classified within the classes selected. 52\n"
          ]
        }
      ]
    },
    {
      "cell_type": "markdown",
      "metadata": {
        "id": "jbKdI_xdTCPc"
      },
      "source": [
        "## Difficult & easy instances"
      ]
    },
    {
      "cell_type": "code",
      "metadata": {
        "colab": {
          "base_uri": "https://localhost:8080/"
        },
        "id": "N8amOHjBID01",
        "outputId": "5d313a14-7394-42be-8a0e-8e807f9260ff"
      },
      "source": [
        "easy = np.argsort(y_predB[:,2])\n",
        "print(\"Accuracy in easy instances =\", accuracy_score(y_pred_log[easy[0:100]], y_val[easy[0:100]]))\n",
        "\n",
        "difficult = np.argsort(-y_predB[:,2])\n",
        "print(\"Accuracy in difficult instances =\", accuracy_score(y_pred_log[difficult[0:100]], y_val[difficult[0:100]]))"
      ],
      "execution_count": 40,
      "outputs": [
        {
          "output_type": "stream",
          "name": "stdout",
          "text": [
            "Accuracy in easy instances = 0.99\n",
            "Accuracy in difficult instances = 0.97\n"
          ]
        }
      ]
    },
    {
      "cell_type": "markdown",
      "metadata": {
        "id": "06B79-vAqDC3"
      },
      "source": [
        "**Note**: Distinguisable difference between easy vs difficult instances when comparing."
      ]
    },
    {
      "cell_type": "markdown",
      "metadata": {
        "id": "ts_bG3CfTRVO"
      },
      "source": [
        "## Random 'easy' images"
      ]
    },
    {
      "cell_type": "code",
      "metadata": {
        "colab": {
          "base_uri": "https://localhost:8080/",
          "height": 357
        },
        "id": "MasfMRyPIDrm",
        "outputId": "181d0ba9-8b0b-4122-d318-32401d52236f"
      },
      "source": [
        "fig, axs = plt.subplots(2,5, figsize=(15, 6))\n",
        "fig.subplots_adjust(hspace = .2, wspace=.001)\n",
        "axs = axs.ravel()\n",
        "\n",
        "for i in range(10):\n",
        "    index = easy[i]\n",
        "    image = X_val[index,:].reshape(28,28)\n",
        "    axs[i].axis('off')\n",
        "    axs[i].imshow(image,cmap=\"Greys_r\")"
      ],
      "execution_count": 41,
      "outputs": [
        {
          "output_type": "display_data",
          "data": {
            "image/png": "[encoded data removed]",
            "text/plain": [
              "<Figure size 1080x432 with 10 Axes>"
            ]
          },
          "metadata": {
            "needs_background": "light"
          }
        }
      ]
    },
    {
      "cell_type": "markdown",
      "metadata": {
        "id": "51I1-a4kTaSc"
      },
      "source": [
        "## Random 'difficult' images"
      ]
    },
    {
      "cell_type": "code",
      "metadata": {
        "colab": {
          "base_uri": "https://localhost:8080/",
          "height": 357
        },
        "id": "0Uiv5qTnIDPe",
        "outputId": "8dcd32e0-75f4-46dd-af35-d739acb9819e"
      },
      "source": [
        "fig, axs = plt.subplots(2,5, figsize=(15, 6))\n",
        "fig.subplots_adjust(hspace = .2, wspace=.001)\n",
        "axs = axs.ravel()\n",
        "for i in range(10):\n",
        "    index = difficult[i]\n",
        "    image = X_val[index,:].reshape(28,28)\n",
        "    axs[i].axis('off')\n",
        "    axs[i].imshow(image,cmap=\"Greys_r\")  "
      ],
      "execution_count": 42,
      "outputs": [
        {
          "output_type": "display_data",
          "data": {
            "image/png": "[encoded data removed]",
            "text/plain": [
              "<Figure size 1080x432 with 10 Axes>"
            ]
          },
          "metadata": {
            "needs_background": "light"
          }
        }
      ]
    },
    {
      "cell_type": "code",
      "metadata": {
        "id": "c9A9ssbuTvTX"
      },
      "source": [
        ""
      ],
      "execution_count": 42,
      "outputs": []
    },
    {
      "cell_type": "markdown",
      "metadata": {
        "id": "NcshsLOGRPrk"
      },
      "source": [
        "## Summary"
      ]
    },
    {
      "cell_type": "markdown",
      "metadata": {
        "id": "XTc4pYKGRR60"
      },
      "source": [
        "Populate this section with all of your findings and comments fron the discussion with your peers."
      ]
    },
    {
      "cell_type": "markdown",
      "metadata": {
        "id": "XSVhdHAub7oi"
      },
      "source": [
        "# Reference\n",
        "- [1] Deng, L., 2012. The mnist database of handwritten digit images for machine learning research. IEEE Signal Processing Magazine, 29(6), pp.141–142. "
      ]
    }
  ]
}