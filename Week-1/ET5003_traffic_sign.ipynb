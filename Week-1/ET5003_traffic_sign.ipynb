{
  "nbformat": 4,
  "nbformat_minor": 0,
  "metadata": {
    "colab": {
      "name": "ET5003_traffic_sign.ipynb",
      "provenance": []
    },
    "kernelspec": {
      "name": "python3",
      "display_name": "Python 3"
    },
    "language_info": {
      "name": "python"
    }
  },
  "cells": [
    {
      "cell_type": "markdown",
      "metadata": {
        "id": "8KlZ35vXzY-p"
      },
      "source": [
        "<div>\n",
        "<img src=\"https://drive.google.com/uc?export=view&id=1vK33e_EqaHgBHcbRV_m38hx6IkG0blK_\" width=\"350\"/>\n",
        "</div> \n",
        "\n",
        "#**Artificial Intelligence - MSc**\n",
        "ET5003 - MACHINE LEARNING APPLICATIONS \n",
        "\n",
        "###Instructor: Enrique Naredo\n",
        "###ET5003_traffic_sign"
      ]
    },
    {
      "cell_type": "markdown",
      "metadata": {
        "id": "_4TXn9dKIWAU"
      },
      "source": [
        "# Introduction"
      ]
    },
    {
      "cell_type": "markdown",
      "metadata": {
        "id": "jhwC4auynd4n"
      },
      "source": [
        "[Classification](https://towardsdatascience.com/machine-learning-classifiers-a5cc4e1b0623) is the process of predicting the class of given data points.\n",
        "\n",
        "- An easy to understand example is classifying emails as “spam” or “not spam.”\n",
        "- In machine learning an algorithm learns how to assign a class label to examples from a problem domain.\n",
        "- Classification belongs to the category of supervised learning where the targets also provided with the input data."
      ]
    },
    {
      "cell_type": "markdown",
      "metadata": {
        "id": "-hhnCK3LyyYH"
      },
      "source": [
        "# Traffic Sign Recognition Classifier"
      ]
    },
    {
      "cell_type": "markdown",
      "metadata": {
        "id": "Wg7VCbX77eAA"
      },
      "source": [
        "## Imports"
      ]
    },
    {
      "cell_type": "code",
      "metadata": {
        "id": "iFFLThrpwibd"
      },
      "source": [
        "# Suppressing Warnings:\n",
        "import warnings\n",
        "warnings.filterwarnings(\"ignore\")"
      ],
      "execution_count": 1,
      "outputs": []
    },
    {
      "cell_type": "code",
      "metadata": {
        "id": "HFl-x4SCjlIi",
        "outputId": "ea39391b-46f4-497d-8bea-49f7fb13b523",
        "colab": {
          "base_uri": "https://localhost:8080/"
        }
      },
      "source": [
        "! pip install opencv-python\n",
        "! pip install scikit-image\n",
        "! pip install arviz"
      ],
      "execution_count": 3,
      "outputs": [
        {
          "output_type": "stream",
          "name": "stdout",
          "text": [
            "Requirement already satisfied: opencv-python in /usr/local/lib/python3.7/dist-packages (4.1.2.30)\n",
            "Requirement already satisfied: numpy>=1.14.5 in /usr/local/lib/python3.7/dist-packages (from opencv-python) (1.19.5)\n",
            "Requirement already satisfied: scikit-image in /usr/local/lib/python3.7/dist-packages (0.16.2)\n",
            "Requirement already satisfied: networkx>=2.0 in /usr/local/lib/python3.7/dist-packages (from scikit-image) (2.6.2)\n",
            "Requirement already satisfied: scipy>=0.19.0 in /usr/local/lib/python3.7/dist-packages (from scikit-image) (1.4.1)\n",
            "Requirement already satisfied: imageio>=2.3.0 in /usr/local/lib/python3.7/dist-packages (from scikit-image) (2.4.1)\n",
            "Requirement already satisfied: matplotlib!=3.0.0,>=2.0.0 in /usr/local/lib/python3.7/dist-packages (from scikit-image) (3.2.2)\n",
            "Requirement already satisfied: pillow>=4.3.0 in /usr/local/lib/python3.7/dist-packages (from scikit-image) (7.1.2)\n",
            "Requirement already satisfied: PyWavelets>=0.4.0 in /usr/local/lib/python3.7/dist-packages (from scikit-image) (1.1.1)\n",
            "Requirement already satisfied: numpy in /usr/local/lib/python3.7/dist-packages (from imageio>=2.3.0->scikit-image) (1.19.5)\n",
            "Requirement already satisfied: python-dateutil>=2.1 in /usr/local/lib/python3.7/dist-packages (from matplotlib!=3.0.0,>=2.0.0->scikit-image) (2.8.2)\n",
            "Requirement already satisfied: pyparsing!=2.0.4,!=2.1.2,!=2.1.6,>=2.0.1 in /usr/local/lib/python3.7/dist-packages (from matplotlib!=3.0.0,>=2.0.0->scikit-image) (2.4.7)\n",
            "Requirement already satisfied: kiwisolver>=1.0.1 in /usr/local/lib/python3.7/dist-packages (from matplotlib!=3.0.0,>=2.0.0->scikit-image) (1.3.1)\n",
            "Requirement already satisfied: cycler>=0.10 in /usr/local/lib/python3.7/dist-packages (from matplotlib!=3.0.0,>=2.0.0->scikit-image) (0.10.0)\n",
            "Requirement already satisfied: six in /usr/local/lib/python3.7/dist-packages (from cycler>=0.10->matplotlib!=3.0.0,>=2.0.0->scikit-image) (1.15.0)\n",
            "Requirement already satisfied: arviz in /usr/local/lib/python3.7/dist-packages (0.11.2)\n",
            "Requirement already satisfied: numpy>=1.12 in /usr/local/lib/python3.7/dist-packages (from arviz) (1.19.5)\n",
            "Requirement already satisfied: xarray>=0.16.1 in /usr/local/lib/python3.7/dist-packages (from arviz) (0.18.2)\n",
            "Requirement already satisfied: typing-extensions<4,>=3.7.4.3 in /usr/local/lib/python3.7/dist-packages (from arviz) (3.7.4.3)\n",
            "Requirement already satisfied: scipy>=0.19 in /usr/local/lib/python3.7/dist-packages (from arviz) (1.4.1)\n",
            "Requirement already satisfied: setuptools>=38.4 in /usr/local/lib/python3.7/dist-packages (from arviz) (57.4.0)\n",
            "Requirement already satisfied: matplotlib>=3.0 in /usr/local/lib/python3.7/dist-packages (from arviz) (3.2.2)\n",
            "Requirement already satisfied: netcdf4 in /usr/local/lib/python3.7/dist-packages (from arviz) (1.5.7)\n",
            "Requirement already satisfied: packaging in /usr/local/lib/python3.7/dist-packages (from arviz) (21.0)\n",
            "Requirement already satisfied: pandas>=0.23 in /usr/local/lib/python3.7/dist-packages (from arviz) (1.1.5)\n",
            "Requirement already satisfied: pyparsing!=2.0.4,!=2.1.2,!=2.1.6,>=2.0.1 in /usr/local/lib/python3.7/dist-packages (from matplotlib>=3.0->arviz) (2.4.7)\n",
            "Requirement already satisfied: python-dateutil>=2.1 in /usr/local/lib/python3.7/dist-packages (from matplotlib>=3.0->arviz) (2.8.2)\n",
            "Requirement already satisfied: cycler>=0.10 in /usr/local/lib/python3.7/dist-packages (from matplotlib>=3.0->arviz) (0.10.0)\n",
            "Requirement already satisfied: kiwisolver>=1.0.1 in /usr/local/lib/python3.7/dist-packages (from matplotlib>=3.0->arviz) (1.3.1)\n",
            "Requirement already satisfied: six in /usr/local/lib/python3.7/dist-packages (from cycler>=0.10->matplotlib>=3.0->arviz) (1.15.0)\n",
            "Requirement already satisfied: pytz>=2017.2 in /usr/local/lib/python3.7/dist-packages (from pandas>=0.23->arviz) (2018.9)\n",
            "Requirement already satisfied: cftime in /usr/local/lib/python3.7/dist-packages (from netcdf4->arviz) (1.5.0)\n"
          ]
        }
      ]
    },
    {
      "cell_type": "code",
      "metadata": {
        "id": "Ymyi02zi7h2l"
      },
      "source": [
        "from scipy.io import loadmat\n",
        "from sklearn.linear_model import LogisticRegression\n",
        "from sklearn.metrics import accuracy_score\n",
        "from sklearn.model_selection import train_test_split\n",
        "%matplotlib inline\n",
        "import pymc3 as pm\n",
        "import random\n",
        "import numpy as np\n",
        "import matplotlib.pyplot as plt\n",
        "import seaborn as sns\n",
        "from IPython.display import HTML\n",
        "import random\n",
        "import pickle\n",
        "import arviz as az\n",
        "import theano as tt\n",
        "import cv2\n",
        "from sklearn.model_selection import train_test_split \n",
        "from sklearn.utils import shuffle\n",
        "from skimage.color import rgb2gray\n",
        "import numpy as np"
      ],
      "execution_count": 4,
      "outputs": []
    },
    {
      "cell_type": "markdown",
      "metadata": {
        "id": "c-3vBYgtjlIh"
      },
      "source": [
        "## Dataset\n"
      ]
    },
    {
      "cell_type": "code",
      "metadata": {
        "id": "7KW7aDkkjHJc",
        "outputId": "11b7a83b-8459-4187-df4a-a6dee44231a2",
        "colab": {
          "base_uri": "https://localhost:8080/"
        }
      },
      "source": [
        "# Mount Google drive\n",
        "from google.colab import drive\n",
        "drive.mount('/content/drive')"
      ],
      "execution_count": 5,
      "outputs": [
        {
          "output_type": "stream",
          "name": "stdout",
          "text": [
            "Mounted at /content/drive\n"
          ]
        }
      ]
    },
    {
      "cell_type": "markdown",
      "metadata": {
        "id": "5m5FEFiiwa9X"
      },
      "source": [
        "1. [Download the dataset](https://d17h27t6h515a5.cloudfront.net/topher/2016/November/581faac4_traffic-signs-data/traffic-signs-data.zip). This is a pickled dataset with size \n",
        "32x32 images.\n",
        "\n",
        "2. Upload the dataset into your folder."
      ]
    },
    {
      "cell_type": "markdown",
      "metadata": {
        "id": "TptzG7Z9zk-b"
      },
      "source": [
        "How to upload data to google colab: [here.](https://www.youtube.com/watch?v=-1jFfadz7bo)"
      ]
    },
    {
      "cell_type": "markdown",
      "metadata": {
        "id": "RGbH8-DHaIM8"
      },
      "source": [
        "At the right hand of this notebook you will find 4 icons:\n",
        "<div>\n",
        "<img src=\"https://drive.google.com/uc?export=view&id=1G-nwwqYv-KeLFuBkIbVgw_fiNm9RhluK\" width=\"250\"/>\n",
        "</div>\n",
        "\n",
        "Follow this steps:\n",
        "* click on the folder icon\n",
        "* choose one of the existing folders or create a new one\n",
        "* click on the three vertical points \n",
        "* choose 'upload'\n",
        "* upload your file\n",
        "\n",
        "\n",
        "Once you are done, in the following cell, paste the path to that file similar to this example:"
      ]
    },
    {
      "cell_type": "code",
      "metadata": {
        "id": "8j6snEnJ1Lmx"
      },
      "source": [
        "# paste the path here, keep quotation marks and the trailing slash\n",
        "Path = '/content/drive/My Drive/Colab Notebooks/traffic-signs-data/'"
      ],
      "execution_count": 26,
      "outputs": []
    },
    {
      "cell_type": "code",
      "metadata": {
        "id": "4rosmH4665uJ"
      },
      "source": [
        "# training dataset: train.p\n",
        "training_file = Path+'train.p'\n",
        "# test dataset: test.p\n",
        "testing_file = Path+'test.p'"
      ],
      "execution_count": 27,
      "outputs": []
    },
    {
      "cell_type": "markdown",
      "metadata": {
        "id": "sqo01fXrxIPA"
      },
      "source": [
        "## Preprocessing"
      ]
    },
    {
      "cell_type": "code",
      "metadata": {
        "id": "9yeZsriLjlIi"
      },
      "source": [
        "### Preprocess the data here. \n",
        "## Preprocessing steps could include normalization, converting to grayscale, etc.\n",
        "\n",
        "def normalize(img):\n",
        "    return cv2.normalize(img, img, alpha=0, beta=1, norm_type=cv2.NORM_MINMAX, dtype=cv2.CV_32F)\n",
        "    \n",
        "\n",
        "def grayscale(img):\n",
        "    #COLOR_BGR2GRAY COLOR_RGB2GRAY\n",
        "    return rgb2gray(img)\n",
        "    #return cv2.cvtColor(img, cv2.COLOR_RGB2GRAY)\n",
        "  \n",
        "\n",
        "def setgrayscale(images):\n",
        "    #from rgb to gray\n",
        "    print(images.shape)\n",
        "    result = np.zeros(shape=(len(images),32,32))\n",
        "    for i in range(len(images)): \n",
        "        #gray = np.resize(grayscale(images[i]), (32, 32, 1))\n",
        "        gray_img = grayscale(images[i])\n",
        "        img_normalized = normalize(gray_img)\n",
        "        result[i] = gray_img\n",
        "    print(result.shape)\n",
        "    return result\n",
        "\n"
      ],
      "execution_count": 28,
      "outputs": []
    },
    {
      "cell_type": "code",
      "metadata": {
        "id": "bH_5ez5TjlIj"
      },
      "source": [
        "# open training and testing files\n",
        "\n",
        "with open(training_file, mode='rb') as f:\n",
        "    train = pickle.load(f)\n",
        "    \n",
        "with open(testing_file, mode='rb') as f:\n",
        "    test = pickle.load(f)\n",
        "\n",
        "# assigning features and labels    \n",
        "X_train, y_train = train['features'], train['labels']\n",
        "X_test, y_test = test['features'], test['labels']"
      ],
      "execution_count": 29,
      "outputs": []
    },
    {
      "cell_type": "markdown",
      "metadata": {
        "id": "D0G_V51BhPnG"
      },
      "source": [
        "## Build a Traffic Sign Recognition Classifier"
      ]
    },
    {
      "cell_type": "markdown",
      "metadata": {
        "id": "g19OkjsMjlIb"
      },
      "source": [
        "We will use a multinomial logistic regression.\n",
        "\n",
        "Let us assume we have k classes. Specifically, in multinomial logistic regression, we have a different linear model\n",
        "$$\n",
        "\\alpha_j+\\beta_j^T x\n",
        "$$\n",
        "for each class $j=1,\\dots,k$.\n",
        "\n",
        "The likelihood is then\n",
        "$$\n",
        "p(y=j | \\theta, x) = \\frac{\\exp(\\alpha_j+\\beta_{j}^T x)}{\\sum_{c=1}^k\\exp(\\alpha_c+\\beta_c^Tx)}.\n",
        "$$\n",
        "with $\\theta=[\\alpha_1,\\beta_1,\\alpha_2,\\beta_{2},\\alpha_3,\\beta_{3},\\dots,\\alpha_k,\\beta_{k}]$ is the vector of all parameters.\n",
        "\n",
        "Let's consider the case k=2 as an example then\n",
        "\n",
        "$$\n",
        "p(y=0 | \\theta, x) = \\frac{\\exp(\\alpha_1+\\beta_1^Tx)}{\\exp(\\alpha_1+\\beta_1^Tx)+\\exp(\\alpha_2+\\beta_2^Tx)}.\n",
        "$$\n",
        "\n",
        "and\n",
        "\n",
        "$$\n",
        "p(y=1 | \\theta, x) = \\frac{\\exp(\\alpha_2+\\beta_2^Tx)}{\\exp(\\alpha_1+\\beta_1^Tx)+\\exp(\\alpha_2+\\beta_2^Tx)}.\n",
        "$$\n",
        "\n",
        "In order to recover the binomial logistic regression, we need to assume that $\\alpha_1=0$ and $\\beta_1=0$:\n",
        "$$\n",
        "p(y=0 | \\theta, x) = \\frac{1}{1+\\exp(\\alpha_2+\\beta_2^Tx)}.\n",
        "$$\n",
        "\n",
        "and\n",
        "\n",
        "$$\n",
        "p(y=1 | \\theta, x) = \\frac{\\exp(\\alpha_2+\\beta_2^Tx)}{1+\\exp(\\alpha_2+\\beta_2^Tx)}.\n",
        "$$\n",
        "and we obtain the binomial logistic regression.\n",
        "We always assume that $\\alpha_1=0$ and $\\beta_1=0$ even in the case $k>2$, in this way the model is a proper\n",
        "extension of the binomial logistic regression.\n",
        "\n",
        "\n",
        "Thus, for $k=3$, we have that\n",
        "$$\n",
        "p(y=0 | \\theta, x) = \\frac{1}{1+\\exp(\\alpha_2+\\beta_2^Tx)+\\exp(\\alpha_3+\\beta_3^Tx)}.\n",
        "$$\n",
        "\n",
        "and\n",
        "\n",
        "$$\n",
        "p(y=1 | \\theta, x) = \\frac{\\exp(\\alpha_2+\\beta_2^Tx)}{1+\\exp(\\alpha_2+\\beta_2^Tx)+\\exp(\\alpha_3+\\beta_3^Tx)}.\n",
        "$$\n",
        "\n",
        "and\n",
        "\n",
        "$$\n",
        "p(y=2 | \\theta, x) = \\frac{\\exp(\\alpha_3+\\beta_3^Tx)}{1+\\exp(\\alpha_2+\\beta_2^Tx)+\\exp(\\alpha_3+\\beta_3^Tx)}.\n",
        "$$"
      ]
    },
    {
      "cell_type": "markdown",
      "metadata": {
        "id": "zofvMI7mjlIj"
      },
      "source": [
        "---\n",
        "\n",
        "## Step 1: Dataset Summary \n",
        "\n",
        "The pickled data is a dictionary with 4 key/value pairs, but the useful ones are:\n",
        "\n",
        "- `'features'` is a 4D array containing raw pixel data of the traffic sign images, (num examples, width, height, channels).\n",
        "- `'labels'` is a 2D array containing the label/class id of the traffic sign. The file `signnames.csv` contains id -> name mappings for each id.\n",
        "\n"
      ]
    },
    {
      "cell_type": "code",
      "metadata": {
        "id": "g5OaHLTGjlIj",
        "outputId": "e2a992cf-6eec-42b6-93fd-d94cae46fb91",
        "colab": {
          "base_uri": "https://localhost:8080/"
        }
      },
      "source": [
        "# Number of training examples\n",
        "n_train =  len(X_train)\n",
        "\n",
        "# Number of testing examples.\n",
        "n_test = len(X_test)\n",
        "\n",
        "#  shape of an traffic sign image\n",
        "image_shape =X_train[0].shape\n",
        "\n",
        "# unique classes/labels in the dataset.\n",
        "alltotal = set(y_train )\n",
        "\n",
        "# number of classes\n",
        "n_classes = len(alltotal )\n",
        "\n",
        "# print information\n",
        "print(\"Number of training examples =\", n_train)\n",
        "print(\"Number of testing examples =\", n_test)\n",
        "print(\"Image data shape =\", image_shape)\n",
        "print(\"Number of classes =\", n_classes)"
      ],
      "execution_count": 30,
      "outputs": [
        {
          "output_type": "stream",
          "name": "stdout",
          "text": [
            "Number of training examples = 39209\n",
            "Number of testing examples = 12630\n",
            "Image data shape = (32, 32, 3)\n",
            "Number of classes = 43\n"
          ]
        }
      ]
    },
    {
      "cell_type": "code",
      "metadata": {
        "id": "D0WqVS2pjlIk",
        "outputId": "d066ba93-67cb-47a6-8caa-050679387e05",
        "colab": {
          "base_uri": "https://localhost:8080/",
          "height": 373
        }
      },
      "source": [
        "# setup figure to show images; 2 rows, 5 cols\n",
        "fig, axs = plt.subplots(2,5, figsize=(15, 6))\n",
        "# setup spaces between images\n",
        "fig.subplots_adjust(hspace = .2, wspace=.001)\n",
        "axs = axs.ravel()\n",
        "\n",
        "## show  10 random images\n",
        "# ToDo: assure to don't chose same image twice\n",
        "for i in range(10):\n",
        "    # take index randomly chosen\n",
        "    index = random.randint(0, len(X_train))\n",
        "    # choose the image according to the index\n",
        "    image = X_train[index]\n",
        "    axs[i].axis('off')\n",
        "    # show the image\n",
        "    axs[i].imshow(image)\n",
        "    # give a meaningful title\n",
        "    axs[i].set_title('image #' + str(y_train[index]))"
      ],
      "execution_count": 31,
      "outputs": [
        {
          "output_type": "display_data",
          "data": {
            "image/png": "[encoded data removed]",
            "text/plain": [
              "<Figure size 1080x432 with 10 Axes>"
            ]
          },
          "metadata": {
            "needs_background": "light"
          }
        }
      ]
    },
    {
      "cell_type": "markdown",
      "metadata": {
        "id": "8ctudHes1ylw"
      },
      "source": [
        "## Imbalanced dataset"
      ]
    },
    {
      "cell_type": "markdown",
      "metadata": {
        "id": "I2QaWOXXjlIl"
      },
      "source": [
        "The bar chart shows the frequency distribution of traffic sign respect to the classes.\n",
        " \n",
        "* Some classes are much more frequent than others.\n",
        "* This shows we are dealing with an imbalanced dataset.\n",
        "* This may be a problem.\n",
        "\n",
        "\n"
      ]
    },
    {
      "cell_type": "code",
      "metadata": {
        "id": "eqrB5x-1jlIl",
        "outputId": "ecd96e87-9a21-4dc1-bf4b-c1fc30fb0c6e",
        "colab": {
          "base_uri": "https://localhost:8080/",
          "height": 294
        }
      },
      "source": [
        "## plot histogram\n",
        "fig, ax = plt.subplots()\n",
        "# array with evenly spaced classes\n",
        "ind = np.arange(n_classes)\n",
        "\n",
        "# histogram\n",
        "n, bins, patches = ax.hist(y_train, n_classes)\n",
        "# horizontal axis label\n",
        "ax.set_xlabel('classes')\n",
        "# vertical axis label\n",
        "ax.set_ylabel('counts')\n",
        "# plot title\n",
        "ax.set_title(r'Histogram of traffic sign images')\n",
        "# show plot\n",
        "plt.show()"
      ],
      "execution_count": 32,
      "outputs": [
        {
          "output_type": "display_data",
          "data": {
            "image/png": "[encoded data removed]",
            "text/plain": [
              "<Figure size 432x288 with 1 Axes>"
            ]
          },
          "metadata": {
            "needs_background": "light"
          }
        }
      ]
    },
    {
      "cell_type": "markdown",
      "metadata": {
        "id": "M3_N6x7TjlIm"
      },
      "source": [
        "----\n",
        "\n",
        "## Step 2: Data Preparation\n",
        "\n",
        "\n"
      ]
    },
    {
      "cell_type": "markdown",
      "metadata": {
        "id": "1-PxM976jlIm"
      },
      "source": [
        "We first convert the images in grayscale so to simplify the problem. "
      ]
    },
    {
      "cell_type": "code",
      "metadata": {
        "id": "muOnVwBYjlIm",
        "outputId": "efa1f5eb-f7db-4204-bd11-1eaf8a53db9d",
        "colab": {
          "base_uri": "https://localhost:8080/",
          "height": 603
        }
      },
      "source": [
        "# convert to grayscale\n",
        "X_traingray = setgrayscale(X_train)\n",
        "X_testgray = setgrayscale(X_test)\n",
        "\n",
        "# random index\n",
        "index = random.randint(0, len(X_traingray))\n",
        "\n",
        "#original image\n",
        "image = X_train[index]\n",
        "plt.figure(figsize=(4,4))\n",
        "plt.imshow(image)\n",
        "\n",
        "#grayscale\n",
        "image = X_traingray[index]\n",
        "plt.figure(figsize=(4,4))\n",
        "plt.imshow(image,cmap=\"Greys_r\")"
      ],
      "execution_count": 33,
      "outputs": [
        {
          "output_type": "stream",
          "name": "stdout",
          "text": [
            "(39209, 32, 32, 3)\n",
            "(39209, 32, 32)\n",
            "(12630, 32, 32, 3)\n",
            "(12630, 32, 32)\n"
          ]
        },
        {
          "output_type": "execute_result",
          "data": {
            "text/plain": [
              "<matplotlib.image.AxesImage at 0x7f9024f810d0>"
            ]
          },
          "metadata": {},
          "execution_count": 33
        },
        {
          "output_type": "display_data",
          "data": {
            "image/png": "[encoded data removed]",
            "text/plain": [
              "<Figure size 288x288 with 1 Axes>"
            ]
          },
          "metadata": {
            "needs_background": "light"
          }
        },
        {
          "output_type": "display_data",
          "data": {
            "image/png": "[encoded data removed]",
            "text/plain": [
              "<Figure size 288x288 with 1 Axes>"
            ]
          },
          "metadata": {
            "needs_background": "light"
          }
        }
      ]
    },
    {
      "cell_type": "markdown",
      "metadata": {
        "id": "NFF_DfftjlIm"
      },
      "source": [
        "The images have also been normalized to avoid numerical problems\n"
      ]
    },
    {
      "cell_type": "markdown",
      "metadata": {
        "id": "0PxYsiS3jlIm"
      },
      "source": [
        "We select only three classes and down-sample the dataset to reduce inference computational time."
      ]
    },
    {
      "cell_type": "code",
      "metadata": {
        "id": "aRdWtIICjlIn"
      },
      "source": [
        "np.random.seed(0)\n",
        "#classes = [1, 2, 4]\n",
        "classes = [3, 7, 9]\n",
        "N_per_class =500\n",
        "\n",
        "X = []\n",
        "labels = []\n",
        "for d in classes:\n",
        "    imgs = X_traingray[np.where(y_train==d)[0],:]\n",
        "    X.append(imgs[np.random.permutation(imgs.shape[0]),:][0:N_per_class,:])\n",
        "    labels.append(np.ones(N_per_class)*d)\n",
        "X_traingray2 = np.vstack(X).astype(np.float64)\n",
        "y_train2 = np.hstack(labels)"
      ],
      "execution_count": 34,
      "outputs": []
    },
    {
      "cell_type": "code",
      "metadata": {
        "id": "Nt9VDfAAjlIn",
        "outputId": "e0983423-1510-40aa-a9cb-57d01e86dd1f",
        "colab": {
          "base_uri": "https://localhost:8080/"
        }
      },
      "source": [
        "print(X_traingray2.shape,y_train2.shape)"
      ],
      "execution_count": 35,
      "outputs": [
        {
          "output_type": "stream",
          "name": "stdout",
          "text": [
            "(1500, 32, 32) (1500,)\n"
          ]
        }
      ]
    },
    {
      "cell_type": "code",
      "metadata": {
        "id": "YPRJ_hD1jlIn",
        "outputId": "3883de8d-a145-42fe-c741-b5baac82221d",
        "colab": {
          "base_uri": "https://localhost:8080/"
        }
      },
      "source": [
        "### we split the dataset in training and validation\n",
        "X_tr, X_val, y_tr, y_val = train_test_split(X_traingray2, y_train2, test_size=0.2, random_state=0)\n",
        " \n",
        "\n",
        "X_tr, y_tr = shuffle(X_tr, y_tr)\n",
        "\n",
        "print(X_tr.shape)\n",
        "print(X_val.shape)\n",
        "print(y_tr.shape)\n",
        "print(y_val.shape)"
      ],
      "execution_count": 36,
      "outputs": [
        {
          "output_type": "stream",
          "name": "stdout",
          "text": [
            "(1200, 32, 32)\n",
            "(300, 32, 32)\n",
            "(1200,)\n",
            "(300,)\n"
          ]
        }
      ]
    },
    {
      "cell_type": "code",
      "metadata": {
        "id": "jSceDzx3jlIo",
        "outputId": "673a53df-a652-4e2b-d8f5-75122ea22251",
        "colab": {
          "base_uri": "https://localhost:8080/"
        }
      },
      "source": [
        "# transform images into vectors  \n",
        "X_trv = X_tr.flatten().reshape(X_tr.shape[0],X_tr.shape[1]*X_tr.shape[2])\n",
        "X_valv = X_val.flatten().reshape(X_val.shape[0],X_tr.shape[1]*X_tr.shape[2])\n",
        "print(X_trv.shape)\n",
        "print(X_valv.shape)\n",
        "print(y_tr.shape)\n",
        "print(y_val.shape)"
      ],
      "execution_count": 37,
      "outputs": [
        {
          "output_type": "stream",
          "name": "stdout",
          "text": [
            "(1200, 1024)\n",
            "(300, 1024)\n",
            "(1200,)\n",
            "(300,)\n"
          ]
        }
      ]
    },
    {
      "cell_type": "markdown",
      "metadata": {
        "id": "RmIHhmYld6lB"
      },
      "source": [
        "## Step 3: Algorithm"
      ]
    },
    {
      "cell_type": "markdown",
      "metadata": {
        "id": "Fen7Tr75jlIo"
      },
      "source": [
        "There are various aspects to consider when thinking about this problem:\n",
        "\n",
        "- Play around preprocessing techniques (normalization, rgb to grayscale, etc)\n",
        "- Number of examples per label (some have more than others).\n",
        "- data augmentation to increase the dataset.\n",
        "\n",
        "For now, we are not interested in obtaining the highest performance, but more in understanding the various approaches.\n",
        "\n",
        "We define our \"general recipe\" machine learning model: logistic regression"
      ]
    },
    {
      "cell_type": "code",
      "metadata": {
        "id": "mOoLiOiIjlIo",
        "outputId": "af733509-4147-45f7-bfc7-a4741f9c117b",
        "colab": {
          "base_uri": "https://localhost:8080/"
        }
      },
      "source": [
        "#General-recipe ML logistic regression\n",
        "clf = LogisticRegression(random_state=0, max_iter=2000, C=100, solver='lbfgs', multi_class='multinomial').fit(X_trv, y_tr)\n",
        "y_pred_logi = clf.predict(X_valv)\n",
        "y_pred_logi_prob = clf.predict_proba(X_valv)\n",
        "prob_classmax = np.max(y_pred_logi_prob,axis=1)\n",
        "print(\"Accuracy=\", accuracy_score(y_pred_logi,y_val))"
      ],
      "execution_count": 38,
      "outputs": [
        {
          "output_type": "stream",
          "name": "stdout",
          "text": [
            "Accuracy= 0.95\n"
          ]
        }
      ]
    },
    {
      "cell_type": "code",
      "metadata": {
        "id": "grjXa4y1jlIp",
        "outputId": "b9825765-2899-43de-ab03-49e454e84a75",
        "colab": {
          "base_uri": "https://localhost:8080/"
        }
      },
      "source": [
        "np.sort(prob_classmax)"
      ],
      "execution_count": 39,
      "outputs": [
        {
          "output_type": "execute_result",
          "data": {
            "text/plain": [
              "array([0.46509636, 0.50320445, 0.51018699, 0.5214304 , 0.57707832,\n",
              "       0.60260064, 0.60662391, 0.63134605, 0.67052598, 0.6897771 ,\n",
              "       0.7249869 , 0.77612899, 0.79148316, 0.79437621, 0.79809087,\n",
              "       0.79893907, 0.80132317, 0.8109172 , 0.84195948, 0.84411404,\n",
              "       0.84415532, 0.85209927, 0.87221239, 0.87584782, 0.88547771,\n",
              "       0.8894656 , 0.89071639, 0.89075437, 0.89966005, 0.90262429,\n",
              "       0.90410243, 0.91200074, 0.93286773, 0.93565699, 0.93804463,\n",
              "       0.93994493, 0.93995121, 0.94705482, 0.94853045, 0.94940783,\n",
              "       0.95144529, 0.95831392, 0.9587318 , 0.96485645, 0.9663552 ,\n",
              "       0.97086099, 0.97222764, 0.97272933, 0.97357117, 0.97989141,\n",
              "       0.98079133, 0.98242627, 0.98559091, 0.98654941, 0.98693095,\n",
              "       0.98727507, 0.98783634, 0.98988879, 0.98996283, 0.99035372,\n",
              "       0.99077243, 0.99095625, 0.99141171, 0.99210665, 0.99362712,\n",
              "       0.99420456, 0.99424579, 0.99428833, 0.99458726, 0.99464082,\n",
              "       0.99482193, 0.99524772, 0.99546057, 0.99559655, 0.99584956,\n",
              "       0.99635526, 0.99661085, 0.99692379, 0.99722517, 0.99726029,\n",
              "       0.99770013, 0.99773189, 0.99773663, 0.99780447, 0.99790914,\n",
              "       0.9979382 , 0.99795366, 0.9980134 , 0.99836365, 0.99881497,\n",
              "       0.99883575, 0.99886175, 0.99888656, 0.99892732, 0.99896944,\n",
              "       0.99901347, 0.99913354, 0.99913993, 0.99914688, 0.99920728,\n",
              "       0.9992502 , 0.99925905, 0.99933762, 0.99939593, 0.99953746,\n",
              "       0.99958139, 0.99960717, 0.99966141, 0.99969296, 0.99970339,\n",
              "       0.99979591, 0.99980228, 0.99981662, 0.9998383 , 0.99985894,\n",
              "       0.99986279, 0.99986444, 0.99986867, 0.99987861, 0.99988244,\n",
              "       0.99989034, 0.99989169, 0.99989376, 0.99989444, 0.99990207,\n",
              "       0.99991487, 0.99992076, 0.99992137, 0.99992422, 0.99993085,\n",
              "       0.99993231, 0.99993436, 0.99993738, 0.99993872, 0.99994169,\n",
              "       0.9999429 , 0.99994502, 0.99994757, 0.9999503 , 0.99995346,\n",
              "       0.9999584 , 0.99995952, 0.99996138, 0.99996218, 0.99996552,\n",
              "       0.99996638, 0.99996653, 0.99997026, 0.99997067, 0.99997198,\n",
              "       0.99997219, 0.99997412, 0.99997509, 0.99998009, 0.99998064,\n",
              "       0.99998069, 0.9999829 , 0.99998291, 0.99998427, 0.99998432,\n",
              "       0.9999847 , 0.99998513, 0.99998572, 0.99998701, 0.99998951,\n",
              "       0.99999016, 0.99999083, 0.99999193, 0.99999429, 0.99999507,\n",
              "       0.99999513, 0.99999541, 0.99999575, 0.9999958 , 0.99999584,\n",
              "       0.99999612, 0.99999638, 0.99999686, 0.999997  , 0.99999745,\n",
              "       0.99999784, 0.99999794, 0.99999811, 0.9999982 , 0.99999826,\n",
              "       0.99999843, 0.99999843, 0.99999863, 0.99999864, 0.99999864,\n",
              "       0.99999875, 0.99999917, 0.99999929, 0.99999932, 0.99999937,\n",
              "       0.99999944, 0.99999953, 0.99999955, 0.99999961, 0.99999963,\n",
              "       0.99999971, 0.99999973, 0.99999975, 0.99999978, 0.9999998 ,\n",
              "       0.99999983, 0.99999983, 0.99999986, 0.99999989, 0.99999993,\n",
              "       0.99999994, 0.99999995, 0.99999996, 0.99999996, 0.99999996,\n",
              "       0.99999997, 0.99999997, 0.99999998, 0.99999998, 0.99999998,\n",
              "       0.99999999, 0.99999999, 0.99999999, 0.99999999, 0.99999999,\n",
              "       0.99999999, 1.        , 1.        , 1.        , 1.        ,\n",
              "       1.        , 1.        , 1.        , 1.        , 1.        ,\n",
              "       1.        , 1.        , 1.        , 1.        , 1.        ,\n",
              "       1.        , 1.        , 1.        , 1.        , 1.        ,\n",
              "       1.        , 1.        , 1.        , 1.        , 1.        ,\n",
              "       1.        , 1.        , 1.        , 1.        , 1.        ,\n",
              "       1.        , 1.        , 1.        , 1.        , 1.        ,\n",
              "       1.        , 1.        , 1.        , 1.        , 1.        ,\n",
              "       1.        , 1.        , 1.        , 1.        , 1.        ,\n",
              "       1.        , 1.        , 1.        , 1.        , 1.        ,\n",
              "       1.        , 1.        , 1.        , 1.        , 1.        ,\n",
              "       1.        , 1.        , 1.        , 1.        , 1.        ,\n",
              "       1.        , 1.        , 1.        , 1.        , 1.        ,\n",
              "       1.        , 1.        , 1.        , 1.        , 1.        ,\n",
              "       1.        , 1.        , 1.        , 1.        , 1.        ])"
            ]
          },
          "metadata": {},
          "execution_count": 39
        }
      ]
    },
    {
      "cell_type": "code",
      "metadata": {
        "id": "zjZHdd7GjlIp",
        "outputId": "75168503-b4a6-46f9-a2df-71ec90e6a5c6",
        "colab": {
          "base_uri": "https://localhost:8080/"
        }
      },
      "source": [
        "# probability of general-recipe logistic regression in wrong instances\n",
        "prob_classmax[y_pred_logi!=y_val]"
      ],
      "execution_count": 40,
      "outputs": [
        {
          "output_type": "execute_result",
          "data": {
            "text/plain": [
              "array([0.98988879, 0.46509636, 0.60662391, 0.93565699, 0.94705482,\n",
              "       0.99996653, 0.99920728, 0.93995121, 0.93804463, 0.77612899,\n",
              "       0.51018699, 0.99901347, 0.8109172 , 0.79809087, 0.7249869 ])"
            ]
          },
          "metadata": {},
          "execution_count": 40
        }
      ]
    },
    {
      "cell_type": "markdown",
      "metadata": {
        "id": "ky7ZsGjVjlIp"
      },
      "source": [
        "it performs quite well"
      ]
    },
    {
      "cell_type": "code",
      "metadata": {
        "id": "pai55_sRjlIp",
        "outputId": "fb0c5fc4-65e0-40e6-a356-bf69d9a4ed17",
        "colab": {
          "base_uri": "https://localhost:8080/"
        }
      },
      "source": [
        "np.array(y_pred_logi)"
      ],
      "execution_count": 41,
      "outputs": [
        {
          "output_type": "execute_result",
          "data": {
            "text/plain": [
              "array([3., 3., 9., 3., 9., 9., 7., 3., 3., 9., 9., 9., 9., 3., 7., 7., 9.,\n",
              "       9., 3., 9., 3., 7., 3., 3., 9., 7., 9., 7., 7., 9., 9., 3., 9., 7.,\n",
              "       3., 9., 3., 7., 3., 3., 9., 9., 9., 3., 3., 7., 9., 7., 7., 9., 7.,\n",
              "       9., 7., 9., 7., 9., 7., 7., 9., 9., 3., 3., 9., 3., 7., 7., 7., 9.,\n",
              "       9., 9., 3., 3., 7., 3., 3., 7., 7., 3., 3., 9., 9., 3., 3., 3., 7.,\n",
              "       3., 9., 3., 7., 3., 7., 7., 3., 3., 9., 9., 7., 7., 3., 7., 7., 9.,\n",
              "       3., 7., 9., 7., 3., 3., 7., 9., 3., 3., 3., 3., 9., 7., 7., 9., 7.,\n",
              "       7., 3., 7., 3., 7., 3., 7., 3., 3., 3., 7., 7., 7., 3., 9., 7., 3.,\n",
              "       3., 9., 9., 7., 3., 7., 7., 7., 3., 3., 7., 3., 9., 3., 3., 9., 3.,\n",
              "       7., 7., 7., 9., 3., 9., 7., 9., 7., 3., 9., 9., 7., 9., 9., 3., 3.,\n",
              "       3., 7., 9., 3., 7., 3., 3., 7., 9., 7., 3., 3., 7., 3., 7., 3., 7.,\n",
              "       3., 3., 3., 3., 9., 9., 3., 9., 3., 9., 3., 3., 3., 3., 3., 7., 3.,\n",
              "       7., 3., 3., 3., 7., 7., 9., 7., 3., 9., 9., 3., 9., 7., 7., 9., 7.,\n",
              "       3., 7., 7., 7., 3., 9., 9., 3., 3., 7., 9., 9., 7., 7., 7., 9., 9.,\n",
              "       7., 9., 7., 3., 7., 9., 3., 3., 9., 7., 9., 3., 9., 7., 3., 7., 3.,\n",
              "       9., 3., 9., 7., 9., 3., 7., 7., 7., 9., 7., 9., 7., 3., 9., 9., 9.,\n",
              "       9., 3., 9., 7., 9., 3., 3., 9., 9., 9., 9., 7., 9., 7., 7., 7., 9.,\n",
              "       3., 9., 7., 3., 7., 9., 3., 7., 7., 9., 3.])"
            ]
          },
          "metadata": {},
          "execution_count": 41
        }
      ]
    },
    {
      "cell_type": "markdown",
      "metadata": {
        "id": "6zLAHA9fjlIp"
      },
      "source": [
        "## Step 4: Probabilistic ML"
      ]
    },
    {
      "cell_type": "code",
      "metadata": {
        "id": "3fnYiD1CjlIq"
      },
      "source": [
        "import sklearn.preprocessing\n",
        "## We use LabelBinarizer to transfor classes into counts\n",
        "# neg_label=0, pos_label=1 \n",
        "y_2_bin = sklearn.preprocessing.LabelBinarizer().fit_transform(y_tr.reshape(-1,1))\n",
        "nf = X_trv.shape[1]\n",
        "# number of classes\n",
        "nc = len(classes)\n",
        "# floatX = float32\n",
        "floatX = tt.config.floatX\n",
        "\n",
        "init_b = np.random.randn(nf, nc-1).astype(floatX)\n",
        "init_a = np.random.randn(nc-1).astype(floatX)\n",
        "\n",
        "\n",
        "with pm.Model() as multi_logistic:\n",
        "    # Prior\n",
        "    β = pm.Normal('beta', 0, sigma=100, shape=(nf, nc-1), testval=init_b)\n",
        "    α = pm.Normal('alpha', 0, sigma=100, shape=(nc-1,), testval=init_a)\n",
        "    \n",
        "    # we need to consider nc-1 features because the model is not identifiable\n",
        "    # the softmax turns a vector into a probability that sums up to one\n",
        "    # therefore we add zeros to go back to dimension nc\n",
        "    # so that softmax returns a vector of dimension nc\n",
        "    β1  = tt.tensor.concatenate([np.zeros((nf,1)),β ],axis=1)\n",
        "    α1  = tt.tensor.concatenate([[0],α ],)\n",
        "    \n",
        "    # Likelihood\n",
        "    mu = pm.math.matrix_dot(X_trv,β1) + α1\n",
        "    # It doesn't work if the problem is binary\n",
        "    p = tt.tensor.nnet.nnet.softmax(mu)\n",
        "    observed = pm.Multinomial('likelihood', p=p, n=1, observed=y_2_bin)"
      ],
      "execution_count": 42,
      "outputs": []
    },
    {
      "cell_type": "code",
      "metadata": {
        "id": "9UJwo4SEOMzi",
        "outputId": "d1b8d9df-bdfc-4e24-c033-2cd3745a9eed",
        "colab": {
          "base_uri": "https://localhost:8080/"
        }
      },
      "source": [
        "y_2_bin"
      ],
      "execution_count": 43,
      "outputs": [
        {
          "output_type": "execute_result",
          "data": {
            "text/plain": [
              "array([[1, 0, 0],\n",
              "       [1, 0, 0],\n",
              "       [0, 1, 0],\n",
              "       ...,\n",
              "       [1, 0, 0],\n",
              "       [0, 1, 0],\n",
              "       [0, 0, 1]])"
            ]
          },
          "metadata": {},
          "execution_count": 43
        }
      ]
    },
    {
      "cell_type": "code",
      "metadata": {
        "id": "xLfbb1ufjlIq",
        "outputId": "65328838-88bb-4d8c-8f08-67627d06d650",
        "colab": {
          "base_uri": "https://localhost:8080/",
          "height": 72
        }
      },
      "source": [
        "with multi_logistic:\n",
        "    #approx = pm.fit(300000, method='advi') # takes longer\n",
        "    approx = pm.fit(3000, method='advi')"
      ],
      "execution_count": 44,
      "outputs": [
        {
          "output_type": "stream",
          "name": "stderr",
          "text": [
            "WARNING (theano.tensor.blas): We did not find a dynamic library in the library_dir of the library we use for blas. If you use ATLAS, make sure to compile it with dynamics library.\n"
          ]
        },
        {
          "output_type": "display_data",
          "data": {
            "text/html": [
              "\n",
              "    <div>\n",
              "        <style>\n",
              "            /* Turns off some styling */\n",
              "            progress {\n",
              "                /* gets rid of default border in Firefox and Opera. */\n",
              "                border: none;\n",
              "                /* Needs to be in here for Safari polyfill so background images work as expected. */\n",
              "                background-size: auto;\n",
              "            }\n",
              "            .progress-bar-interrupted, .progress-bar-interrupted::-webkit-progress-bar {\n",
              "                background: #F44336;\n",
              "            }\n",
              "        </style>\n",
              "      <progress value='3000' class='' max='3000' style='width:300px; height:20px; vertical-align: middle;'></progress>\n",
              "      100.00% [3000/3000 00:28<00:00 Average Loss = 14,292]\n",
              "    </div>\n",
              "    "
            ],
            "text/plain": [
              "<IPython.core.display.HTML object>"
            ]
          },
          "metadata": {}
        },
        {
          "output_type": "stream",
          "name": "stderr",
          "text": [
            "Finished [100%]: Average Loss = 14,291\n"
          ]
        }
      ]
    },
    {
      "cell_type": "code",
      "metadata": {
        "id": "jGHaxwdljlIq",
        "outputId": "aad63411-f6a8-4d6c-b2e6-6afed5b420eb",
        "colab": {
          "base_uri": "https://localhost:8080/",
          "height": 282
        }
      },
      "source": [
        "plt.plot(approx.hist)"
      ],
      "execution_count": 45,
      "outputs": [
        {
          "output_type": "execute_result",
          "data": {
            "text/plain": [
              "[<matplotlib.lines.Line2D at 0x7f90137fa4d0>]"
            ]
          },
          "metadata": {},
          "execution_count": 45
        },
        {
          "output_type": "display_data",
          "data": {
            "image/png": "[encoded data removed]",
            "text/plain": [
              "<Figure size 432x288 with 1 Axes>"
            ]
          },
          "metadata": {
            "needs_background": "light"
          }
        }
      ]
    },
    {
      "cell_type": "code",
      "metadata": {
        "id": "jO6py8pnjlIr"
      },
      "source": [
        "dd = 300\n",
        "posterior = approx.sample(draws=dd)"
      ],
      "execution_count": 46,
      "outputs": []
    },
    {
      "cell_type": "code",
      "metadata": {
        "id": "YsIb_0aOjlIr",
        "outputId": "46619fbd-c388-4f8e-c9e5-2fde02581d1f",
        "colab": {
          "base_uri": "https://localhost:8080/",
          "height": 247
        }
      },
      "source": [
        "## The softmax function transforms each element of a collection by computing the exponential\n",
        "#  of each element divided by the sum of the exponentials of all the elements.\n",
        "from scipy.special import softmax\n",
        "\n",
        "#select an image in the test set\n",
        "i = 10 \n",
        "#i = random.randint(0, dd)\n",
        "\n",
        "#select a sample in the posterior\n",
        "s = 100 \n",
        "#s = random.randint(0, dd)\n",
        "\n",
        "\n",
        "beta  = np.hstack([np.zeros((nf,1)),  posterior['beta'][s,:] ])\n",
        "alpha = np.hstack([[0],  posterior['alpha'][s,:] ])\n",
        "image = X_valv[i,:].reshape(32,32)\n",
        "plt.figure(figsize=(2,2))\n",
        "plt.imshow(image,cmap=\"Greys_r\")\n",
        "np.set_printoptions(suppress=True)\n",
        "\n",
        "print(\"test image #\" + str(i))\n",
        "print(\"posterior sample #\" + str(s))\n",
        "print(\"true class=\", y_val[i])\n",
        "print(\"classes: \" + str(classes))\n",
        "print(\"estimated prob=\",softmax((np.array([X_valv[i,:].dot(beta) + alpha])))[0,:])"
      ],
      "execution_count": 47,
      "outputs": [
        {
          "output_type": "stream",
          "name": "stdout",
          "text": [
            "test image #10\n",
            "posterior sample #100\n",
            "true class= 9.0\n",
            "classes: [3, 7, 9]\n",
            "estimated prob= [0.27954595 0.55217654 0.16827751]\n"
          ]
        },
        {
          "output_type": "display_data",
          "data": {
            "image/png": "[encoded data removed]",
            "text/plain": [
              "<Figure size 144x144 with 1 Axes>"
            ]
          },
          "metadata": {
            "needs_background": "light"
          }
        }
      ]
    },
    {
      "cell_type": "code",
      "metadata": {
        "id": "nEoqLyo6jlIr"
      },
      "source": [
        "# Bayesian prediction\n",
        "# return the class that has the highest posterior probability\n",
        "y_pred_Bayesian=[]\n",
        "\n",
        "for i in range(X_valv.shape[0]):\n",
        "    val=np.zeros((1,len(classes)))\n",
        "    \n",
        "    for s in range(posterior['beta'].shape[0]):\n",
        "        beta = np.hstack([np.zeros((nf,1)),  posterior['beta'][s,:] ])\n",
        "        alpha = np.hstack([[0],  posterior['alpha'][s,:] ])     \n",
        "        val = val + softmax((np.array([X_valv[i,:].dot(beta) + alpha])))\n",
        "    \n",
        "    mean_probability = val/posterior['beta'].shape[0]\n",
        "    y_pred_Bayesian.append( np.argmax(mean_probability))"
      ],
      "execution_count": 48,
      "outputs": []
    },
    {
      "cell_type": "code",
      "metadata": {
        "id": "mYBwhQYtYEfD",
        "outputId": "bdc15de9-95ae-4a03-b863-5ca92c96e244",
        "colab": {
          "base_uri": "https://localhost:8080/"
        }
      },
      "source": [
        "print(y_pred_Bayesian)"
      ],
      "execution_count": 49,
      "outputs": [
        {
          "output_type": "stream",
          "name": "stdout",
          "text": [
            "[0, 2, 2, 2, 2, 0, 2, 0, 1, 2, 2, 2, 2, 1, 2, 2, 2, 2, 0, 2, 2, 2, 2, 0, 2, 2, 2, 2, 2, 2, 2, 0, 2, 2, 0, 2, 0, 2, 0, 2, 2, 2, 2, 0, 0, 2, 2, 1, 1, 2, 1, 2, 2, 1, 1, 1, 1, 0, 2, 2, 2, 0, 2, 2, 0, 0, 0, 2, 2, 2, 0, 0, 1, 2, 1, 1, 1, 2, 1, 1, 2, 0, 1, 2, 1, 2, 0, 2, 2, 2, 0, 2, 1, 2, 0, 2, 2, 0, 2, 2, 0, 2, 2, 2, 2, 2, 2, 1, 1, 2, 1, 2, 2, 2, 2, 1, 0, 2, 2, 2, 2, 2, 2, 2, 2, 0, 2, 0, 1, 0, 0, 1, 2, 2, 2, 0, 2, 0, 2, 2, 2, 2, 2, 1, 0, 2, 1, 0, 2, 1, 2, 2, 0, 2, 2, 0, 0, 2, 2, 1, 2, 2, 2, 1, 2, 2, 2, 2, 0, 1, 0, 2, 2, 0, 0, 2, 2, 1, 2, 1, 0, 2, 0, 1, 1, 2, 1, 0, 2, 1, 0, 2, 2, 0, 2, 0, 2, 2, 2, 2, 2, 0, 0, 2, 2, 0, 0, 0, 2, 1, 2, 1, 2, 1, 2, 0, 2, 1, 2, 2, 2, 0, 2, 0, 1, 0, 0, 0, 2, 2, 0, 2, 2, 1, 2, 0, 2, 2, 0, 2, 1, 0, 2, 2, 1, 0, 0, 2, 2, 0, 0, 2, 2, 2, 0, 2, 0, 2, 2, 2, 2, 0, 2, 1, 2, 1, 2, 1, 2, 2, 1, 2, 2, 1, 2, 2, 2, 2, 2, 2, 2, 2, 2, 2, 2, 0, 2, 0, 2, 0, 2, 0, 2, 1, 2, 0, 2, 2, 2, 0]\n"
          ]
        }
      ]
    },
    {
      "cell_type": "code",
      "metadata": {
        "id": "z5zM4NpqYWUP",
        "outputId": "7dc25cf5-d4f1-45cd-fc95-f674806c61f6",
        "colab": {
          "base_uri": "https://localhost:8080/"
        }
      },
      "source": [
        "# recall the classes we are using\n",
        "print(classes)"
      ],
      "execution_count": 50,
      "outputs": [
        {
          "output_type": "stream",
          "name": "stdout",
          "text": [
            "[3, 7, 9]\n"
          ]
        }
      ]
    },
    {
      "cell_type": "code",
      "metadata": {
        "id": "X59ZLa-wjlIr",
        "outputId": "588b609a-7506-4f87-87e2-3ab17a3f0a2a",
        "colab": {
          "base_uri": "https://localhost:8080/"
        }
      },
      "source": [
        "# prediction array (using classes)\n",
        "nn = 10 # just an example\n",
        "np.array(classes)[y_pred_Bayesian[0:nn]]"
      ],
      "execution_count": 51,
      "outputs": [
        {
          "output_type": "execute_result",
          "data": {
            "text/plain": [
              "array([3, 9, 9, 9, 9, 3, 9, 3, 7, 9])"
            ]
          },
          "metadata": {},
          "execution_count": 51
        }
      ]
    },
    {
      "cell_type": "code",
      "metadata": {
        "id": "AmOq8282jlIr",
        "outputId": "630f19d5-daa8-4388-c8c4-ae6203d3a37a",
        "colab": {
          "base_uri": "https://localhost:8080/"
        }
      },
      "source": [
        "# using validation: y_val\n",
        "print(\"Accuracy=\", accuracy_score(np.array(classes)[y_pred_Bayesian], y_val))"
      ],
      "execution_count": 52,
      "outputs": [
        {
          "output_type": "stream",
          "name": "stdout",
          "text": [
            "Accuracy= 0.49333333333333335\n"
          ]
        }
      ]
    },
    {
      "cell_type": "markdown",
      "metadata": {
        "id": "G31SnW6rjlIs"
      },
      "source": [
        "## Selecting different instances"
      ]
    },
    {
      "cell_type": "code",
      "metadata": {
        "id": "CvxjLnytjlIs"
      },
      "source": [
        "y_predB=[]\n",
        "\n",
        "for i in range(X_valv.shape[0]):\n",
        "    #print(i)\n",
        "    val=[]\n",
        "\n",
        "    for s in range(posterior['beta'].shape[0]):\n",
        "        beta = np.hstack([np.zeros((nf,1)),  posterior['beta'][s,:] ])\n",
        "        alpha = np.hstack([[0],  posterior['alpha'][s,:] ])\n",
        "        val.append(softmax((np.array([X_valv[i,:].dot(beta) + alpha])))[0,:])\n",
        "\n",
        "    #mean probability\n",
        "    valmean = np.mean(val,axis=0)\n",
        "    #class with maximum mean probability\n",
        "    classmax = np.argmax(valmean)\n",
        "    #ranks\n",
        "    ranks = np.array(val.copy())\n",
        "    ranks   = ranks  *0 #init\n",
        "    colmax = np.argmax(np.array(val),axis=1)\n",
        "    ranks[np.arange(0,len(colmax)),colmax]=1\n",
        "     \n",
        "    y_predB.append( [classmax, valmean[classmax], np.std(ranks,axis=0)[classmax]])\n",
        "\n",
        "    \n",
        "y_predB= np.array(y_predB)"
      ],
      "execution_count": 53,
      "outputs": []
    },
    {
      "cell_type": "code",
      "metadata": {
        "id": "RnEeHwFPjlIs",
        "outputId": "97d59b02-2279-4615-a2f4-e041528be76b",
        "colab": {
          "base_uri": "https://localhost:8080/"
        }
      },
      "source": [
        "# prediction array\n",
        "mm = 10\n",
        "y_predB[0:mm,:]"
      ],
      "execution_count": 54,
      "outputs": [
        {
          "output_type": "execute_result",
          "data": {
            "text/plain": [
              "array([[0.        , 0.48740975, 0.49781746],\n",
              "       [2.        , 0.49351976, 0.5       ],\n",
              "       [2.        , 0.59177618, 0.49121165],\n",
              "       [2.        , 0.43688336, 0.49714742],\n",
              "       [2.        , 0.54282789, 0.49714742],\n",
              "       [0.        , 0.43696445, 0.49553562],\n",
              "       [2.        , 0.42627868, 0.49638695],\n",
              "       [0.        , 0.85803576, 0.32102267],\n",
              "       [1.        , 0.38473986, 0.48774994],\n",
              "       [2.        , 0.713833  , 0.4330127 ]])"
            ]
          },
          "metadata": {},
          "execution_count": 54
        }
      ]
    },
    {
      "cell_type": "code",
      "metadata": {
        "id": "bgwzPtDWjlIt",
        "outputId": "6569726a-6a4b-4268-f9f8-6425ccd8d631",
        "colab": {
          "base_uri": "https://localhost:8080/"
        }
      },
      "source": [
        "#sorting in descending order\n",
        "difficult = np.argsort(-y_predB[:,2])\n",
        "y_predB[difficult[0:mm],:]"
      ],
      "execution_count": 55,
      "outputs": [
        {
          "output_type": "execute_result",
          "data": {
            "text/plain": [
              "array([[1.        , 0.46228295, 0.5       ],\n",
              "       [2.        , 0.49351976, 0.5       ],\n",
              "       [2.        , 0.50832347, 0.5       ],\n",
              "       [2.        , 0.49195801, 0.49998889],\n",
              "       [2.        , 0.46494546, 0.49998889],\n",
              "       [0.        , 0.50050585, 0.49998889],\n",
              "       [1.        , 0.49791229, 0.49998889],\n",
              "       [2.        , 0.48964104, 0.49998889],\n",
              "       [2.        , 0.4825175 , 0.49995555],\n",
              "       [2.        , 0.48178405, 0.49995555]])"
            ]
          },
          "metadata": {},
          "execution_count": 55
        }
      ]
    },
    {
      "cell_type": "code",
      "metadata": {
        "id": "aGtaG6rDjlIt",
        "outputId": "add38a34-4ae3-4779-e3f8-4be209a13743",
        "colab": {
          "base_uri": "https://localhost:8080/"
        }
      },
      "source": [
        "#probability of general-recipe logistic regression in wrong instances\n",
        "prob_classmax[y_pred_logi != y_val]"
      ],
      "execution_count": 56,
      "outputs": [
        {
          "output_type": "execute_result",
          "data": {
            "text/plain": [
              "array([0.98988879, 0.46509636, 0.60662391, 0.93565699, 0.94705482,\n",
              "       0.99996653, 0.99920728, 0.93995121, 0.93804463, 0.77612899,\n",
              "       0.51018699, 0.99901347, 0.8109172 , 0.79809087, 0.7249869 ])"
            ]
          },
          "metadata": {},
          "execution_count": 56
        }
      ]
    },
    {
      "cell_type": "code",
      "metadata": {
        "id": "iLVDYSdejlIt",
        "outputId": "eba737c7-f779-4bd7-bb93-d30287f99702",
        "colab": {
          "base_uri": "https://localhost:8080/"
        }
      },
      "source": [
        "y_predB[y_pred_logi != y_val,:]"
      ],
      "execution_count": 57,
      "outputs": [
        {
          "output_type": "execute_result",
          "data": {
            "text/plain": [
              "array([[0.        , 0.58395673, 0.48848974],\n",
              "       [0.        , 0.41707271, 0.49909919],\n",
              "       [2.        , 0.58402186, 0.49183331],\n",
              "       [2.        , 0.49351554, 0.49995555],\n",
              "       [0.        , 0.65171308, 0.47370877],\n",
              "       [0.        , 0.41026566, 0.49183331],\n",
              "       [0.        , 0.63116905, 0.48095969],\n",
              "       [1.        , 0.47866562, 0.49995555],\n",
              "       [0.        , 0.66701577, 0.46249324],\n",
              "       [2.        , 0.51078501, 0.49989999],\n",
              "       [0.        , 0.60259743, 0.4869862 ],\n",
              "       [0.        , 0.57939606, 0.49300665],\n",
              "       [0.        , 0.45394927, 0.49714742],\n",
              "       [1.        , 0.63545633, 0.47590849],\n",
              "       [1.        , 0.36450717, 0.4769696 ]])"
            ]
          },
          "metadata": {},
          "execution_count": 57
        }
      ]
    },
    {
      "cell_type": "code",
      "metadata": {
        "id": "-ZstODCDjlIt",
        "outputId": "6a61d70f-c115-4624-b034-0dbf4ea8cff8",
        "colab": {
          "base_uri": "https://localhost:8080/"
        }
      },
      "source": [
        "## Difficult & easy instances\n",
        "\n",
        "easy = np.argsort(y_predB[:,2])\n",
        "print(\"Accuracy in easy instances =\", accuracy_score(y_pred_logi[easy[0:100]], y_val[easy[0:100]]))\n",
        "\n",
        "difficult = np.argsort(-y_predB[:,2])\n",
        "print(\"Accuracy in difficult instances =\", accuracy_score(y_pred_logi[difficult[0:100]], y_val[difficult[0:100]]))"
      ],
      "execution_count": 58,
      "outputs": [
        {
          "output_type": "stream",
          "name": "stdout",
          "text": [
            "Accuracy in easy instances = 0.94\n",
            "Accuracy in difficult instances = 0.96\n"
          ]
        }
      ]
    },
    {
      "cell_type": "code",
      "metadata": {
        "id": "U_i_0Kr9jlIt",
        "outputId": "5d2bea74-e0ed-48b0-cc8e-25453ee5dd3d",
        "colab": {
          "base_uri": "https://localhost:8080/",
          "height": 356
        }
      },
      "source": [
        "# show 10 random 'easy' images\n",
        "fig, axs = plt.subplots(2,5, figsize=(15, 6))\n",
        "fig.subplots_adjust(hspace = .2, wspace=.001)\n",
        "axs = axs.ravel()\n",
        "\n",
        "for i in range(10):\n",
        "    index = easy[i]\n",
        "    image = X_valv[index,:].reshape(32,32)\n",
        "    axs[i].axis('off')\n",
        "    axs[i].imshow(image,cmap=\"Greys_r\")"
      ],
      "execution_count": 59,
      "outputs": [
        {
          "output_type": "display_data",
          "data": {
            "image/png": "[encoded data removed]",
            "text/plain": [
              "<Figure size 1080x432 with 10 Axes>"
            ]
          },
          "metadata": {
            "needs_background": "light"
          }
        }
      ]
    },
    {
      "cell_type": "code",
      "metadata": {
        "id": "xR2sxXDYjlIu",
        "outputId": "bf05f07f-e056-46a0-fd28-5edfe7c3186f",
        "colab": {
          "base_uri": "https://localhost:8080/",
          "height": 356
        }
      },
      "source": [
        "\n",
        "# show 10 random 'difficult' images\n",
        "fig, axs = plt.subplots(2,5, figsize=(15, 6))\n",
        "fig.subplots_adjust(hspace = .2, wspace=.001)\n",
        "axs = axs.ravel()\n",
        "for i in range(10):\n",
        "    index = difficult[i]\n",
        "    image = X_valv[index,:].reshape(32,32)\n",
        "    axs[i].axis('off')\n",
        "    axs[i].imshow(image,cmap=\"Greys_r\")    "
      ],
      "execution_count": 60,
      "outputs": [
        {
          "output_type": "display_data",
          "data": {
            "image/png": "[encoded data removed]",
            "text/plain": [
              "<Figure size 1080x432 with 10 Axes>"
            ]
          },
          "metadata": {
            "needs_background": "light"
          }
        }
      ]
    },
    {
      "cell_type": "code",
      "metadata": {
        "id": "ceHqEQ27BUDE"
      },
      "source": [
        ""
      ],
      "execution_count": null,
      "outputs": []
    }
  ]
}